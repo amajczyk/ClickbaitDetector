{
 "cells": [
  {
   "cell_type": "code",
   "execution_count": 2,
   "metadata": {},
   "outputs": [
    {
     "name": "stdout",
     "output_type": "stream",
     "text": [
      "Title: Strictly’s Annabel Croft claims ‘psychopath’ nurse ‘gloated’ as she told husband he was dying – and had just hours left\n",
      "Content: HEARTBROKEN Strictly star Annabel Croft has told of her horrifying experience as her husband died in hospital.\n",
      "The tennis legend claims a \"psychopathic\" nurse appeared to gloat as she delivered the devastating news.\n",
      "Widow Annabel, 57, lost her husband, Mel Coleman, to cancer in May after 36 years old marriage.\n",
      "There was only 16 weeks between his diagnosis and death. \n",
      "In an emotional interview with the Daily Mail, Annabel says an NHS nurse laughed and mocked her son who asked if he had months to live.\n",
      "\"I've asked myself, since, if she was a psychopath,\" sobbed Annabel. \n",
      "\"It felt like it because she seemed to take pleasure in telling Mel he was dying.\n",
      "\"She started talking about palliative care and Charlie [our son] asked her: 'What does that mean? Does he have months, weeks?'\n",
      "\"She said: 'Huh!' Almost laughing, mocking our son. 'No — hours.' Mel heard that, all of it. It was just awful.\"\n",
      "The nurse then said if Mel had a heart attack he would not be resuscitated.\n",
      "Despite the couple objecting to this, Annabel claims she doubled down.\n",
      "\"It was like she was enjoying it,\" she said.\n",
      "\"I'm haunted by that. So many nights it has kept me awake, remembering the tone of her voice. It was cruel.\"\n",
      "Mel was Annabel's first serious boyfriend. They married in 1992 and had three children together - Amber, Charlie and Lily, who are all in their 20s.\n",
      "©News Group Newspapers Limited in England No. 679215 Registered office: 1 London Bridge Street, London, SE1 9GF. \"The Sun\", \"Sun\", \"Sun Online\" are registered trademarks or trade names of News Group Newspapers Limited. This service is provided on News Group Newspapers' Limited's Standard Terms and Conditions in accordance with our Privacy & Cookie Policy. To inquire about a licence to reproduce material, visit our Syndication site. View our online Press Pack. For other inquiries, Contact Us. To see all content on The Sun, please use the Site Map. The Sun website is regulated by the Independent Press Standards Organisation (IPSO)\n",
      "Our journalists strive for accuracy but on occasion we make mistakes. For further details of our complaints policy and to make a complaint please click this link: thesun.co.uk/editorial-complaints/\n"
     ]
    }
   ],
   "source": [
    "import requests\n",
    "from bs4 import BeautifulSoup\n",
    "\n",
    "def scrape_news(url):\n",
    "    # Send an HTTP request to the URL\n",
    "    response = requests.get(url)\n",
    "\n",
    "    # Check if the request was successful\n",
    "    if response.status_code == 200:\n",
    "        # Parse the HTML content of the page\n",
    "        soup = BeautifulSoup(response.text, 'html.parser')\n",
    "\n",
    "        # Extract the title\n",
    "        title = soup.find('h1').text\n",
    "\n",
    "        # Extract the content (assuming it's within a <div> with a specific class)\n",
    "        \n",
    "        # Find every <p> tag within the <div> with the class \n",
    "        # \"articleBody\" and join the resulting list into one string\n",
    "        content_list = [p.text for p in soup.find_all('p')]\n",
    "        content = '\\n'.join([p.text for p in soup.find_all('p')])\n",
    "        \n",
    "\n",
    "        return {\n",
    "            'title': title,\n",
    "            'content': content\n",
    "        }\n",
    "    else:\n",
    "        print(f\"Failed to retrieve content from {url}\")\n",
    "        return None\n",
    "\n",
    "# Example usage\n",
    "onet_url = 'https://przegladsportowy.onet.pl/koszykowka/reprezentacja-polski/polacy-jednak-nie-powalcza-o-igrzyska-olimpijskie-u-siebie-za-duze-koszty/04bmxgz'\n",
    "interia_url = 'https://wydarzenia.interia.pl/zagranica/news-emmanuel-macron-szczerze-o-polsce-przy-stole-przekazali-sprz,nId,7071632'\n",
    "wp_url = 'https://wiadomosci.wp.pl/tak-tusk-chce-pokonac-morawieckiego-odslaniamy-kulisy-debaty-w-tvp-6949243543042656a'\n",
    "thesun_url = 'https://www.thesun.co.uk/tv/24320865/strictly-annabel-croft-nurse-husband-dying/'\n",
    "news_data = scrape_news(thesun_url)\n",
    "\n",
    "if news_data:\n",
    "    print(\"Title:\", news_data['title'])\n",
    "    print(\"Content:\", news_data['content'])\n"
   ]
  }
 ],
 "metadata": {
  "kernelspec": {
   "display_name": "Python 3",
   "language": "python",
   "name": "python3"
  },
  "language_info": {
   "codemirror_mode": {
    "name": "ipython",
    "version": 3
   },
   "file_extension": ".py",
   "mimetype": "text/x-python",
   "name": "python",
   "nbconvert_exporter": "python",
   "pygments_lexer": "ipython3",
   "version": "3.10.13"
  }
 },
 "nbformat": 4,
 "nbformat_minor": 2
}
