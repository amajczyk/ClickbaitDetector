{
 "cells": [
  {
   "cell_type": "code",
   "execution_count": 10,
   "metadata": {},
   "outputs": [],
   "source": [
    "import requests\n",
    "from bs4 import BeautifulSoup"
   ]
  },
  {
   "cell_type": "code",
   "execution_count": 186,
   "metadata": {},
   "outputs": [],
   "source": [
    "def scrape_news(url, paragraph_tag = 'p', title_tag = 'h1', subtitle_tag = None, exclude = None):\n",
    "    response = requests.get(url)\n",
    "\n",
    "    if response.status_code == 200:\n",
    "        soup = BeautifulSoup(response.text, 'html.parser')\n",
    "\n",
    "        if title_tag is not None: \n",
    "            title = soup.find(title_tag).text\n",
    "        else:\n",
    "            title = None\n",
    "        \n",
    "        if subtitle_tag is not None:\n",
    "            subtitle = soup.find(subtitle_tag).text\n",
    "        else:\n",
    "            subtitle = None\n",
    "\n",
    "\n",
    "        parent_classes_filters = [{'class':cls} for cls in exclude]\n",
    "        \n",
    "\n",
    "        # Find all paragraphs and filter out those that are in excluded classes (or their parents)\n",
    "        content_list = []\n",
    "        if paragraph_tag is not None:\n",
    "            for p in soup.find_all(paragraph_tag):\n",
    "                wrapper_elements = p.find_parent(class_=exclude)\n",
    "                element_class = p.get('class')\n",
    "                \n",
    "                # Check if element class or parent is in exclude list, if so skip\n",
    "                common = set()\n",
    "                if element_class is not None and exclude is not None:\n",
    "                    common = set(element_class).intersection(exclude)\n",
    "                if wrapper_elements is not None or len(common) > 0:\n",
    "                    continue\n",
    "\n",
    "\n",
    "                content_list.append(p.text.strip())\n",
    "            content = ' '.join(content_list)\n",
    "        else:\n",
    "            content = None\n",
    "        \n",
    "        res_dict = {\n",
    "            'title': title,\n",
    "            'subtitle': subtitle,\n",
    "            'content': content\n",
    "        }\n",
    "\n",
    "\n",
    "        # do some cleaning\n",
    "        for key in res_dict:\n",
    "            if res_dict[key] is None:\n",
    "                continue\n",
    "            res_dict[key] = res_dict[key].replace('\\n', ' ')\n",
    "            res_dict[key] = res_dict[key].replace('\\xa0', ' ')\n",
    "            res_dict[key] = res_dict[key].replace('\\t', ' ')\n",
    "            res_dict[key] = res_dict[key].replace(\"\\'\", \"'\")\n",
    "            res_dict[key] = res_dict[key].strip()        \n",
    "        \n",
    "\n",
    "    \n",
    "        return res_dict\n",
    "    else:\n",
    "        print(f\"Failed to retrieve content from {url}\")\n",
    "        return None"
   ]
  },
  {
   "cell_type": "code",
   "execution_count": 187,
   "metadata": {},
   "outputs": [],
   "source": [
    "def scrape_the_sun(url):\n",
    "    return scrape_news(url, 'p', 'h1')\n",
    "\n",
    "def scrape_nbc_universal(url):\n",
    "    return scrape_news(url, 'p', 'h1')\n",
    "\n",
    "def scrape_cbs_news(url):\n",
    "    return scrape_news(url, 'p', 'h1', exclude=['content__meta', 'content__meta--byline', 'breaking-news__headline'])\n",
    "\n",
    "def scrape_abc_news(url):\n",
    "    return scrape_news(url, 'p', 'h1', exclude=['Article__Header__Branding', 'PinnedPostsContainer'])\n",
    "\n",
    "\n",
    "# Scraping not allowed    \n",
    "# def scrape_the_guardian(url):\n",
    "#     return scrape_news(url, 'p', 'h1')\n",
    "\n",
    "# def scrape_buzfeed(url):\n",
    "#     return scrape_news(url, 'p', 'h1')\n"
   ]
  },
  {
   "cell_type": "code",
   "execution_count": 188,
   "metadata": {},
   "outputs": [
    {
     "data": {
      "text/plain": [
       "{'title': 'Hamas-run health ministry releases video inside Al-Shifa hospital as Israeli forces encircle northern Gaza',\n",
       " 'subtitle': None,\n",
       " 'content': 'Tel Aviv — The Hamas-run Gaza Health Ministry has released harrowing new footage of what it says are conditions inside Al-Shifa hospital. Israeli forces are continuing to pummel northern Gaza in what the IDF says is an effort to wipe out the Islamist militant group once and for all. In a seven-minute graphic video posted on the ministry\\'s Facebook page, an unnamed doctor is seen describing his surroundings as wounded and injured people are strewn across the hospital floor. \"The department is completely full of wounded and injured,\" the unnamed doctor says in the video. \"They are on the ground taking their last breaths due to the collapse of the health system, due to the lack of medicines due to the occupation besieging the hospitals,\" the man says as the camera focuses on seemingly lifeless bodies lying on the floor. Young children are also seen bandaged and on hospital gurneys. The narrator claims that a large number of the injured \"are children.\" \"Serious cases are present here without treatment at all. There are no treatments. This is what the condition of people looks like. They are crying for their children. They are crying for their children without any treatment,\" the man says. Fierce fighting has raged in northern Gaza in the aftermath of Hamas militants\\' bloody incursion into Israel on Oct. 7, which Israel says killed 1,200 people with about 240 hostages seized, in the worst terrorist attack in Israel\\'s history. Lior Haiat, a spokesperson for the Israeli Ministry of Foreign Affairs, told CBS News Friday that the death toll from the Oct. 7 attack by Hamas militants has been revised to 1,200, down from the previously reported approximation of at least 1,400. Haitat said that the other 200 people killed were \"probably terrorists.\" Israel\\'s subsequent war on the Islamist militant group has left more than 11,000 people dead in the heavily bombarded Gaza Strip from Israeli strikes in the past month, the Hamas-controlled Gaza health ministry said Friday, according to Reuters. Israel has agreed to daily humanitarian pauses in its offensive in northern Gaza, the White House and Israeli government announced on Thursday. \"Israel is allowing safe passage through humanitarian corridors from the northern Gaza strip to the south,\" the Israeli prime minister\\'s office told CBS News on Thursday. The Israeli army has repeatedly accused Hamas militants of using hospitals — particularly Al-Shifa — to coordinate their war effort and says underground tunnels are present underneath the hospital as hideouts for Hamas commanders. Israel had reported heavy fighting on Thursday near the hospital, saying it had killed dozens of militants and destroyed some tunnels. The Hamas-run Gaza Health Ministry said Friday that Israeli tanks had encircled two other children\\'s hospitals in northern Gaza and claimed to CBS News that a maternity hospital housing displaced people at Al-Shifa hospital complex had been directly targeted by Israeli forces. A World Health Organization spokesperson also said the hospital had been \"coming under bombardment.\" \"If there is a hell on earth today, its name is Northern Gaza. People who remain there, the corners of their existence is death, depravation, despair, displacement and literally darkness,\" WHO spokeswoman Margaret Harris said Friday. \"What do you tell your children in such a situation, it\\'s almost unimaginable. That the fireworks they see in the sky are out to kill them, \\'cause that\\'s what it looks like,\" she said. The IDF\\'s international spokesperson, Lt. Col. Richard Hecht, denied those charges in a press briefing on Friday. \"The IDF does not fire on hospitals … we are aware of the sensitivity of the hospitals and I am aware of the dynamic at the hospitals,\" Hecht told reporters. \"We are aware that Hamas are operating within the hospitals ... We are not dropping bombs on Al-Shifa.\" \"It would be easier for Hamas to leave the hospitals, and if they made it visual to us,\" Hecht said. First published on November 10, 2023 / 2:49 PM EST © 2023 CBS Interactive Inc. All Rights Reserved. Copyright ©2023 CBS Interactive Inc. All rights reserved.'}"
      ]
     },
     "execution_count": 188,
     "metadata": {},
     "output_type": "execute_result"
    }
   ],
   "source": [
    "scrape_cbs_news('https://www.cbsnews.com/news/israel-palestine-hamas-alshifa-hospital-gaza/')"
   ]
  },
  {
   "cell_type": "code",
   "execution_count": 136,
   "metadata": {},
   "outputs": [
    {
     "data": {
      "text/plain": [
       "{'title': 'Israel-Gaza live updates: Mass exodus from Gaza hospital',\n",
       " 'subtitle': None,\n",
       " 'content': 'The hospital has been treating thousands of wounded people. Israeli airstrikes trigger mass evacuations in Gaza Thousands of people have died and thousands more have been injured since the militant group Hamas launched an unprecedented surprise attack on Israel on Oct. 7 and Israel retaliated with a bombing campaign and total siege of the neighboring Gaza Strip, leaving the region on the verge of all-out war. Click here for updates from previous days. Hezbollah issued two statements claiming two attacks on Israel amid daily clashes between Hezbollah and Israel forces along Lebanon’s southern border. For the first time since the Oct. 7 Hamas attacks, Israel carried-out a strike 40 km past its northern border into Lebanon, hitting a truck in Zahrani. For now, this is contained within the the Blue Line, the UN-defined demarcation line between the two countries. As the fighting continues between Hamas and Israel and casualties mount up, the potential for escalation increases. All of this is happening ahead of the commemoration of Hezbollah’s Martyr Day and another speech by Hezbollah Secretary General Hassan Nasrullah, his second of the conflict. Dr. Tom Potokar, the International Committee of the Red Cross\\' chief surgeon who is currently working in the European Gaza Hospital, detailed the challenges they are facing in a phone interview with ABC News Live on Friday. Potokar, who specializes in burn treatments, said they have seen \"many, many\" burn cases, adding that the number of burn patients is \"relentless\" and \"not slowing down at all.\" The patients with burn injuries have been all ages, with the youngest they\\'ve seen just 4 months old, he said. \"A lot of them have burns involving the face as well, and the limbs,\" Potokar said. \"These could be quite deep burns, as I say, so will lead to significant scarring potentially in the future if they actually survive.\" Potokar, who has been a war surgeon in Gaza before, said the damage is \"far, far\" worse and in a \"completely different stratosphere from how I\\'ve ever come across it before.\" He said the way they are treating burns is \"not ideal\" under the current circumstances due to limited medical supplies. \"The way we\\'re treating burns is really stepping back 40, 50 years,\" he said. -ABC News\\' Josh Ascher, Kelly Johnstone, Casey McShea and Michelle Stoddart The Israel Defense Forces denied carrying out a strike that hit an outpatient clinic at Gaza\\'s Al-Shifa hospital Friday morning, stating it was a \"misfired projectile launched by terrorist organizations inside the Gaza Strip.\" There were two incidents at the hospital Friday morning, according to videos verified by ABC News. In one incident, a shell hit the refugee encampment outside of the hospital entrance. In the second incident, a strike hit the outpatient clinic where people were sheltering. The Hamas-run Gaza Health Ministry blamed the Israeli military for the strike that hit the outpatient clinic. As the humanitarian crisis in Gaza continues to worsen by the day, Jens Laerke, spokesperson for the United Nations humanitarian office, said, \"If there is a hell on earth today, its name is northern Gaza.\" \"People who remain there, the corners of their existence are death, deprivation, despair, displacement, and literally, darkness,\" Laerke said. \"The entire Gaza Strip has been plunged into darkness. … What do you tell your children in such a situation? It\\'s almost unimaginable.\"'}"
      ]
     },
     "execution_count": 136,
     "metadata": {},
     "output_type": "execute_result"
    }
   ],
   "source": [
    "scrape_abc_news('https://abcnews.go.com/International/live-updates/israel-gaza-hamas/?id=104617602')"
   ]
  },
  {
   "cell_type": "code",
   "execution_count": 57,
   "metadata": {},
   "outputs": [
    {
     "data": {
      "text/plain": [
       "{'title': 'Ninety-two protesters arrested after mob hurls missiles at cops in Cenotaph chaos as pro-Palestinian march begins',\n",
       " 'subtitle': None,\n",
       " 'content': 'NINETY-two protesters have been arrested after chaos erupted near London\\'s Cenotaph today as missile-hurling yobs clashed with cops.  Protesters, who took to the streets over Pro-Palestinian marches being held on Armistice Day, launched missiles at police as shocking scenes unfolded on the streets of the capital this morning. The counter-protests had been organised amid fears pro-Palestine marches would interrupt Remembrance services but fights broke out as cops tried to maintain a ring of steel around the Cenotaph. While police had doubled their numbers in the capital ahead of fears of violence, they struggled to maintain their staunch guard around the memorial - as chants of \"England till I die\" and \"Let us through\" echoed through the streets. But as the pro-Palestine group\\'s march was underway - with about 300,000 - cops were arresting dozens of counter-protesters.  Bottles were seen being thrown at cops in the isolated scuffles, with far-right leader Tommy Robinson spotted walking with supporters through the streets. Chaotic footage showed protesters being shoved by police as the two groups came head to head.  Officers could be seen with batons in hand as they tried to control the crowds of counter-protesters who moved from Whitehall through to Chinatown. Clashes again unfolded by Westminster Station, with footage showing swarms of crowds screaming at police. A large group of counter-protesters were later detained in Bridge Street, just down from Westminster Bridge, with a line of police seen holding in dozens of people.  Cops then separated the yobs from the group and could be seen holding them away from the crowds. Dramatic photos then emerged of police chasing the protesters down, before pinning them to the ground to cuff them.  At around 2pm there were reports police had kettled a group of counter-protesters after an alleged clash between them and pro-Palestine demonstrators.  Met Police confirmed about half an hour later that they had made a number of arrests.  It comes as... The force said: \"Officers have arrested 82 people in Tachbrook Street, Pimlico to prevent a breach of the peace. \"They’re part of a large group of counter-protestors we have been monitoring who have tried to reach the main protest march. \"We will continue to take action to avoid the disorder that would likely take place if that happened.\" It added: \"In addition to the arrests made to prevent a breach of the peace in Tachbrook Street, we have made 10 arrests today for other offences. \"These include possession of offensive weapons, affray and possession.\"  It was in Pimlico too that a photographer saw one man, who said he was heading to the pro-Palestine march, come to blows with a counter-protester.  Nearby, demonstrators let off red and green flares on Westminister Bridge.  Another woman was said to have been arrested after carrying a poster with a photo of Adolf Hitler.  Meanwhile, people with Hamas-style headbands were seen a the march, too.  Cops have now vowed to find them, adding: \"Officers are actively looking for these individuals and will take proactive action when they are identified.\" Met Police earlier said they had been faced with \"aggression\" from the counter-protesters.  The force said: \"The counter-protesters are not one cohesive group. There are different groups moving away from Whitehall towards other parts of central London. Officers are keeping track of them as they do. \"If their intention is to confront the main protest departing later today from Park Lane, we will use all the powers and tactics available to us to prevent that from happening.\" It added: \"A group of counter-protesters who left Whitehall and moved into Chinatown confronted and threw missiles at officers who tried to engage with them. \"Additional officers have been deployed to the area to identify, locate and deal with those involved. Our priority is keeping the public safe. We will not tolerate disorder in central London today.\" The chaos has seen calls for Home Secretary Suella Braverman to resign.  Scottish First Minister Humza Yousaf said Braverman has \"emboldened\" far-right protesters to attack police.  He tweeted: \"The Home Secretary\\'s position is untenable. She must resign.\"  Mayor of London Sadiq Khan also blamed Braverman for protesters\\' clashes with police. He said: \"The scenes of disorder we witnessed by the far-right at the Cenotaph are a direct result of the Home Secretary\\'s words. The police\\'s job has been made much harder. \"The Met have my full support to take action against anyone found spreading hate and breaking the law.\" It comes as thousands of pro-Palestine demonstrators descended on London - with some travelling from afar.  More than 300,000 protesters set off from Palestine Solidarity Campaign from Park Lane at 1pm, and made their way towards the US Embassy. Chants of \"Free Palestine\" and \"Ceasefire now\" echoed through the streets as the group marched with flags and signs in hand.  In the minutes after the march began the Met Police said there had been \"no incidents\" related to the group.  The force has doubled their officers in the capital this weekend ahead of pro-Palestine demonstrators taking to the streets.  A group of counter-protesters who left Whitehall and moved into Chinatown confronted and threw missiles at officers who tried to engage with them. Officials and cops were on watch for the demonstrators coming head-to-head with Brits who are commemorating today’s Armistice Day march and tomorrow’s Remembrance Sunday.  Before the national two minutes of silence at 11am fights were already breaking out between police and protesters.  Shocking videos show the masses clashing as they rushed through the capital\\'s streets. Prior to that the Palestinian Refugee Project this morning uploaded a photo of a bus full of protesters.  It was posted to X, formerly Twitter, with the caption: \"On the bus heading to London. #wewillmarch.\"  It was last night revealed the national Cenotaph war memorial will be kept under 24-hour guard for the first time.  Steel barriers have been put up at the memorial and pro-Palestine protesters are banned from going anywhere near it until after tomorrow’s event. And this morning officers were seen standing tall next to the statue of Winston Churchill, which was also fenced in with metal barriers.  It follows the defacing of the Cenotaph memorial in Rochdale on Tuesday night, when thugs sprayed “Free Palestine” on it. Met deputy assistant commissioner Laurence Taylor warned that any such attack on the Whitehall memorial will not be tolerated. He said: “We will ensure that remembrance is not disrupted and respected.” The police yesterday warned that “pockets of confrontation” are expected with extreme right-wing groups planning to square up to pro-Palestine demonstrators in central London. Cops will be trying to keep the factions away from each other, with Mr Taylor saying: “I do believe that if the groups come together there will be serious disorder.” More than 1,000 cops are being drafted in from across the country to assist the 2,000 Met officers at today’s Armistice Day march and tomorrow’s Remembrance Sunday event in Whitehall. Mr Taylor, the Met’s strategic gold commander in charge of the massive policing operation, warned of a zero tolerance policy to troublemakers. I do believe that if the groups come together there will be serious disorder. In contrast to previous weeks, he said anyone chanting “Jihad” could face arrest with action being taken later to round up hatemongers caught on camera. Mr Taylor said it was the biggest police operation ever mounted for any remembrance event. Strict conditions have been applied to the Palestine Solidarity Campaign march taking place at 1pm from Park Lane to the US Embassy. Protesters will not be allowed to deviate from the route and will be specifically excluded from the Whitehall area, where a large group of right-wing “defenders” are expected to be present. Conditions exclude pro-Palestine demonstrators from going to large areas of the West End, including Trafalgar Square, Leicester Square and Piccadilly Circus after the march finishes by order at 5pm. British Transport Police this morning said that protesters have been banned from London railway stations, too.  Transport Secretary Mark Harper said demonstrators could be arrested if they show up at London Waterloo Station, Victoria Station and Charing Cross between 10am and 11pm.  He said: \"It\\'s important that people can use our rail network to safely travel, free from intimidation.\" Police said their biggest fear is extremist elements converging to confront each other. But Mr Taylor said officers will take “robust and agile” action against anyone breaching the law or strict pro-Palestine march conditions. Well over 100,000 people are expected in London for today’s pro-Palestine march. It comes after the Prime Minister last night urged everyone to “stand together in quiet reflection” and said the weekend should be about “the selfless bravery of our armed forces”. Meanwhile, veterans were advised by military officials not to wear their medals or berets when they travel to Remembrance services today to honour the 1.3million servicemen and women killed in action since 1914. ©News Group Newspapers Limited in England No. 679215 Registered office: 1 London Bridge Street, London, SE1 9GF. \"The Sun\", \"Sun\", \"Sun Online\" are registered trademarks or trade names of News Group Newspapers Limited. This service is provided on News Group Newspapers\\' Limited\\'s Standard Terms and Conditions in accordance with our Privacy & Cookie Policy. To inquire about a licence to reproduce material, visit our Syndication site. View our online Press Pack. For other inquiries, Contact Us. To see all content on The Sun, please use the Site Map. The Sun website is regulated by the Independent Press Standards Organisation (IPSO) Our journalists strive for accuracy but on occasion we make mistakes. For further details of our complaints policy and to make a complaint please click this link: thesun.co.uk/editorial-complaints/'}"
      ]
     },
     "execution_count": 57,
     "metadata": {},
     "output_type": "execute_result"
    }
   ],
   "source": [
    "scrape_the_sun('https://www.thesun.co.uk/news/24703278/police-guard-remembrance-day-clashes')"
   ]
  },
  {
   "cell_type": "code",
   "execution_count": 58,
   "metadata": {},
   "outputs": [
    {
     "data": {
      "text/plain": [
       "{'title': 'NBC Announces Robust Slate Of Festive Programming Ahead Of The Holiday Season',\n",
       " 'subtitle': None,\n",
       " 'content': 'Specials Include “Macy’s Thanksgiving Day Parade,” “Christmas in Rockefeller Center,” “Christmas at Graceland,” “National Dog Show Presented by Purina,” “Christmas at the Opry,” “Barry Manilow’s A Very Barry Christmas” and So Much More   November 03, 2023  NBC is bringing families together to celebrate the holiday season with its beloved specials and additional new programming.   NBC’s holiday programming reached nearly 95 million viewers last year, more than any other broadcast network.  Viewers can once again look forward to a robust slate of their favorite specials including the “Macy’s Thanksgiving Day Parade,” “Christmas in Rockefeller Center” and several others. New programming for 2023 includes “Christmas at the Opry,” hosted by Grammy Award-winning country superstar Wynonna Judd, “Christmas at Graceland” and more. “We take enormous pride in delivering a plethora of heartwarming specials during the holidays that families can enjoy,” said Jen Neal, Executive Vice President, Live Events and Specials, NBCUniversal Media Group. “From the Thanksgiving parade to the tree lighting to our musical events, these programs are a symbol of our company’s commitment to bringing the country together and celebrating one another.” See below for a list of holiday programming through Jan. 1, 2024. Times listed are both ET/PT.   COUNTDOWN TO MACY’S THANKSGIVING DAY PARADE When: Wednesday, Nov. 22, 8-9 p.m. What: NBC kicks off the holiday season live from the famous starting line on the eve of the iconic Thanksgiving Day parade. Viewers will get a sneak peek at the incredible stories behind the floats, balloons and bands on their journey to the streets of New York. A SATURDAY NIGHT LIVE THANKSGIVING SPECIAL  When: Wednesday, Nov. 22, 9-11 p.m. (next day on Peacock) What: The iconic late-night program will highlight memorable Thanksgiving-themed sketches from its 47 seasons. 97TH MACY’S THANKSGIVING DAY PARADE  When: Thursday, Nov. 23, 8:30 a.m.-12 p.m. (encore at 2 p.m. and also simulcast on Peacock)    What: Starting a half-hour early for the first time, the world-famous Macy’s Thanksgiving Day Parade continues to bring the magic of the parade to New York City spectators and a national television audience with its exciting array of balloons, floats, marching bands, celebrities and more.  NATIONAL DOG SHOW PRESENTED BY PURINA    When: Thursday, Nov. 23, 12-2 p.m. (encore on Nov. 25 at 8 p.m. and also simulcast on Peacock)      What: NBC’s Thanksgiving Day tradition is hosted by John O’Hurley, former “Seinfeld” star and winner of “Dancing with the Stars” along with expert analyst David Frei. Mary Carillo, behind-the-scenes reporter and interviewer, will also be in attendance. THAT’S MY JAM When: Monday, Nov. 27, 9-10 p.m. (next day on Peacock) What: Jimmy Fallon hosts a holiday-themed special episode of NBC’s Emmy Award-nominated game show. “Saturday Night Live” fan-favorite cast members Fred Armisen, Rachel Dratch, Ana Gasteyer and Melissa Villaseñor compete for charity in a night of festive music-based games, performances and musical impressions.  CHRISTMAS IN ROCKEFELLER CENTER  When: Wednesday, Nov. 29, 8-10 p.m. (simulcast on Peacock)  What: The dazzling display of musical talents, star-studded surprises and the lighting of the world’s most famous Christmas tree returns for the 91st “Christmas in Rockefeller Center,” hosted by Kelly Clarkson. CHRISTMAS AT GRACELAND When: Wednesday, Nov. 29, 10-11 p.m. (encore on Dec. 21 at 8 p.m. and simulcast on Peacock)  What: NBC is bringing together the legacy of Elvis Presley and the spirit of the holiday season in a new live music special. “Christmas at Graceland” will feature music’s biggest stars celebrating the King of Rock ‘n’ Roll, his music and his favorite time of year live from his iconic home, Graceland.  HOW THE GRINCH STOLE CHRISTMAS When: Thursday, Nov. 30, 8-8:30 p.m. (encore on Dec. 25 at 8 p.m. and currently available on Peacock) What: The classic tale of the curmudgeonly Grinch who’s hoping to remove the joy from Christmas but, ultimately, has a change of heart. SHREK THE HALLS When: Thursday, Nov. 30, 8:30-9 p.m. (encore on Dec. 9 at 9 p.m.) What: This half-hour animated special debuted in 2007 and features a Christmas twist on the original Shrek characters.   BLAKE SHELTON’S HOLIDAY BARTACULAR FEATURING ICE T When: Monday, Dec. 4, 10-11 p.m. (next day on Peacock) WHAT: In this special episode of Blake Shelton and Carson Daly’s hit celebrity game show “Barmageddon,” Blake invites Ice T to his winter wonderland where they will compete in larger-than-life bar games with a holiday twist, including Merry Axe-Mas, Doodle All the Way, Little Drummer Boy (and Girl), Reindeer Games and Christmas Carol-okie. CHRISTMAS AT THE OPRY When: Thursday, Dec. 7, 8-10 p.m. (encore on Dec. 20 at 9 p.m. and next day on Peacock)  What: Featuring the best and brightest voices in country music, the festive two-hour special will treat viewers to an array of Christmas favorites, holiday classics and today’s biggest hits. Wynonna Judd will host the highly anticipated musical event featuring performances from the iconic Grand Ole Opry House in Nashville. BARRY MANILOW’S A VERY BARRY CHRISTMAS When: Monday, Dec. 11, 10-11 p.m. (encore Dec. 20 at 8 p.m. and next day on Peacock) What: With a Vegas size backdrop and Barry’s renowned 24 piece band, the evening will feature the best of Manilow’s greatest hits, including “Copacabana,” “Mandy,” “I Write the Songs” and “\"Looks Like We Made It\" along with several holiday favorites. A SATURDAY NIGHT LIVE CHRISTMAS SPECIAL When: Thursday, Dec. 14, 8-10 p.m. (encore on Dec. 23 at 9 p.m. and next day on Peacock) What: The iconic late-night program will highlight memorable Christmas-themed sketches from its 48 seasons. DOLLY PARTON’S COAT OF MANY COLORS  When: Friday, Dec. 15, 8-10 p.m.  What: Dolly Parton\\'s Coat of Many Colors\" is based on the inspiring true story of living legend Dolly Parton\\'s remarkable upbringing. This movie special takes place inside the tight-knit Parton family as they struggle to overcome devastating tragedy and discover the healing power of love, faith and a raggedy patchwork coat that helped make Parton who she is today. Starring Jennifer Nettles, Ricky Schroder, Gerald McRaney and Alyvia Alyn Lind. TROLLS: HOLIDAY IN HARMONY When: Saturday, Dec. 9, 8:30-9 p.m.   What: When Queen Poppy plans the first annual Trolls Kingdom Secret Holiday Gift Swap, things take an unexpected turn when she and Branch draw each other’s name. PASSWORD HOLIDAY SPECIAL When: Monday, Dec. 18, 10-11 p.m. (next day on Peacock) What: “Password,” featuring Emmy Award-nominated host Keke Palmer and starring Jimmy Fallon, returns with a special holiday-themed edition of the iconic celebrity word game ahead of the season two premiere. DOLLY PARTON’S MOUNTAIN MAGIC CHRISTMAS  When: Thursday, Dec. 21, 9-11 p.m.  What: Join Dolly Parton and friends as she draws on holidays past, guided by her personal Three Wise Mountain Men, to find the unique “mountain magic” of Christmas.  Musical performances by Jimmy Fallon, Willie Nelson, Miley Cyrus and more. DOLLY PARTON’S CHRISTMAS OF MANY COLORS: CIRCLE OF LOVE  When: Friday, Dec. 22, 8-10 p.m.  What: Dolly Parton\\'s Christmas of Many Colors: Circle of Love\" is the next chapter in the life of young Dolly Parton. The film delivers Christmas joy and peril as an unexpected blizzard threatens the Parton family, while at the same time Dolly\\'s father (and his kids) make sacrifices to raise enough money to finally buy his loving wife the wedding ring he could never afford to give her. Meanwhile, an important person in little Dolly\\'s life begins to see that her amazing voice and musical gift might just be made for something bigger than rural Tennessee. IT\\'S A WONDERFUL LIFE When: Saturday, Dec. 24, 8-11 p.m. What: NBC again presents this Frank Capra classic starring Jimmy Stewart, an angel is sent from heaven to help a desperately frustrated businessman by showing him what life would have been like if he had never existed. CHRISTMAS EVE MASS        When: Sunday, Dec. 24, 11:30 p.m.-1 a.m.  What: Viewers will be able to watch the Pope Francis-led mass from St. Peter’s Basilica in Rome. HOW THE GRINCH STOLE CHRISTMAS When: Monday, Dec. 25, 8:30-11 p.m. (available on Peacock between Dec. 20-31) What: Jim Carrey stars as the mean green baddie in this 2000 box office smash.  135th ROSE PARADE PRESENTED BY HONDA   When: Monday, Jan. 1, 11 a.m.-1 p.m. ET / 8-10 a.m. PT (simulcast on Peacock) What: The streets of Pasadena, Calif., are lined with thousands of parade fans as gorgeous rose-covered floats and marching bands partake in their annual New Year’s holiday festivities. Hosted by “TODAY” anchors Hoda Kotb and Al Roker. For more information and photos please visit Media Village.            Follow us on LinkedIn Follow us on Twitter   Like us on Facebook   instagram  © 2023 NBCUNIVERSAL MEDIA, LLC.'}"
      ]
     },
     "execution_count": 58,
     "metadata": {},
     "output_type": "execute_result"
    }
   ],
   "source": [
    "scrape_nbc_universal('https://www.nbcuniversal.com/article/nbc-announces-robust-slate-festive-programming-ahead-holiday-season')"
   ]
  }
 ],
 "metadata": {
  "kernelspec": {
   "display_name": "Python 3",
   "language": "python",
   "name": "python3"
  },
  "language_info": {
   "codemirror_mode": {
    "name": "ipython",
    "version": 3
   },
   "file_extension": ".py",
   "mimetype": "text/x-python",
   "name": "python",
   "nbconvert_exporter": "python",
   "pygments_lexer": "ipython3",
   "version": "3.11.6"
  }
 },
 "nbformat": 4,
 "nbformat_minor": 2
}
