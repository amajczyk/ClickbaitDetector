{
 "cells": [
  {
   "cell_type": "code",
   "execution_count": 4,
   "metadata": {},
   "outputs": [],
   "source": [
    "import requests\n",
    "from bs4 import BeautifulSoup"
   ]
  },
  {
   "cell_type": "code",
   "execution_count": 14,
   "metadata": {},
   "outputs": [],
   "source": [
    "def scrape_news(url, paragraph_tag = 'p', title_tag = 'h1'):\n",
    "    response = requests.get(url)\n",
    "\n",
    "    if response.status_code == 200:\n",
    "        soup = BeautifulSoup(response.text, 'html.parser')\n",
    "\n",
    "        title = soup.find(title_tag).text\n",
    "        \n",
    "        content_list = [p.text for p in soup.find_all(paragraph_tag)]\n",
    "        content = ' '.join([p.text for p in soup.find_all(paragraph_tag)])\n",
    "        \n",
    "\n",
    "        return {\n",
    "            'title': title,\n",
    "            'content': content\n",
    "        }\n",
    "    else:\n",
    "        print(f\"Failed to retrieve content from {url}\")\n",
    "        return None"
   ]
  },
  {
   "cell_type": "code",
   "execution_count": 19,
   "metadata": {},
   "outputs": [],
   "source": [
    "def scrape_the_sun(url):\n",
    "    return scrape_news(url, 'p', 'h1')\n",
    "\n",
    "# def scrape_the_guardian(url):\n",
    "#     return scrape_news(url, 'p', 'h1')\n",
    "\n",
    "# def scrape_buzfeed(url):\n",
    "#     return scrape_news(url, 'p', 'h1')\n"
   ]
  },
  {
   "cell_type": "code",
   "execution_count": 20,
   "metadata": {},
   "outputs": [
    {
     "data": {
      "text/plain": [
       "'Minister denies ‘cultural issue’ among Tory MPs after Crispin Blunt’s arrest'"
      ]
     },
     "execution_count": 20,
     "metadata": {},
     "output_type": "execute_result"
    }
   ],
   "source": [
    "scrape_the_guardian('https://www.theguardian.com/uk-news/2023/oct/27/minister-denies-cultural-issue-among-tory-mps-after-crispin-blunts-arrest')['title']"
   ]
  },
  {
   "cell_type": "code",
   "execution_count": 23,
   "metadata": {},
   "outputs": [
    {
     "data": {
      "text/plain": [
       "'Jimmy Kimmel Is Being Called Out After He “Unlocked” A “New Insecurity” For Olivia Rodrigo By Pointing Out A Minor Flaw And Saying She’s “Not Perfect After All” During A Live TV Interview'"
      ]
     },
     "execution_count": 23,
     "metadata": {},
     "output_type": "execute_result"
    }
   ],
   "source": [
    "scrape_buzfeed('https://www.buzzfeednews.com/article/stephaniesoteriou/jimmy-kimmel-backlash-olivia-rodrigo-not-perfect?origin=hpdm?origin=spl')['title']"
   ]
  },
  {
   "cell_type": "code",
   "execution_count": null,
   "metadata": {},
   "outputs": [],
   "source": []
  },
  {
   "cell_type": "code",
   "execution_count": null,
   "metadata": {},
   "outputs": [],
   "source": []
  }
 ],
 "metadata": {
  "kernelspec": {
   "display_name": "Python 3",
   "language": "python",
   "name": "python3"
  },
  "language_info": {
   "codemirror_mode": {
    "name": "ipython",
    "version": 3
   },
   "file_extension": ".py",
   "mimetype": "text/x-python",
   "name": "python",
   "nbconvert_exporter": "python",
   "pygments_lexer": "ipython3",
   "version": "3.10.11"
  }
 },
 "nbformat": 4,
 "nbformat_minor": 2
}
