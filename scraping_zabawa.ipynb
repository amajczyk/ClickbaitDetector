{
 "cells": [
  {
   "cell_type": "code",
   "execution_count": 2,
   "metadata": {},
   "outputs": [],
   "source": [
    "import requests\n",
    "from bs4 import BeautifulSoup"
   ]
  },
  {
   "cell_type": "code",
   "execution_count": 70,
   "metadata": {},
   "outputs": [],
   "source": [
    "def scrape_news(url, paragraph_tag = 'p', title_tag = 'h1', subtitle_tag = None, exclude = None):\n",
    "    response = requests.get(url)\n",
    "\n",
    "    if response.status_code == 200:\n",
    "        soup = BeautifulSoup(response.text, 'html.parser')\n",
    "\n",
    "        if title_tag is not None: \n",
    "            title = soup.find(title_tag).text\n",
    "        else:\n",
    "            title = None\n",
    "        \n",
    "        if subtitle_tag is not None:\n",
    "            subtitle = soup.find(subtitle_tag).text\n",
    "        else:\n",
    "            subtitle = None\n",
    "        \n",
    "\n",
    "        # Find all paragraphs and filter out those that are in excluded classes (or their parents)\n",
    "        content_list = []\n",
    "        if paragraph_tag is not None:\n",
    "            for p in soup.find_all(paragraph_tag):\n",
    "                if exclude is not None:\n",
    "                    wrapper_elements_class = p.find_parent(class_=exclude)\n",
    "                    wrapper_elements_id = p.find_parent(id=exclude)\n",
    "                    element_class = p.get('class')\n",
    "                    element_id = p.get('id')\n",
    "                    \n",
    "                    # Check if element class or parent is in exclude list, if so skip\n",
    "                    common_class = set()\n",
    "                    common_id = set()\n",
    "                    if element_class is not None and exclude is not None:\n",
    "                        common_class = set(element_class).intersection(exclude)\n",
    "                    if element_id is not None and exclude is not None:\n",
    "                        common_id = set(element_id).intersection(exclude)\n",
    "                    if wrapper_elements_class is not None or wrapper_elements_id is not None or len(common_class) > 0 or len(common_id) > 0:\n",
    "                        continue\n",
    "\n",
    "\n",
    "                content_list.append(p.text.strip())\n",
    "            content = ' '.join(content_list)\n",
    "        else:\n",
    "            content = None\n",
    "        \n",
    "        res_dict = {\n",
    "            'title': title,\n",
    "            'subtitle': subtitle,\n",
    "            'content': content\n",
    "        }\n",
    "\n",
    "\n",
    "        # do some cleaning\n",
    "        for key in res_dict:\n",
    "            if res_dict[key] is None:\n",
    "                continue\n",
    "            res_dict[key] = res_dict[key].replace('\\n', ' ')\n",
    "            res_dict[key] = res_dict[key].replace('\\xa0', ' ')\n",
    "            res_dict[key] = res_dict[key].replace('\\t', ' ')\n",
    "            res_dict[key] = res_dict[key].replace(\"\\'\", \"'\")\n",
    "            res_dict[key] = res_dict[key].strip()        \n",
    "        \n",
    "\n",
    "    \n",
    "        return res_dict\n",
    "    else:\n",
    "        print(f\"Failed to retrieve content from {url}\")\n",
    "        return None"
   ]
  },
  {
   "cell_type": "code",
   "execution_count": 78,
   "metadata": {},
   "outputs": [],
   "source": [
    "def scrape_the_sun(url):\n",
    "    return scrape_news(url, 'p', 'h1', exclude=['copyright-text'])\n",
    "\n",
    "def scrape_nbc_universal(url):\n",
    "    return scrape_news(url, 'p', 'h1', exclude=['block-socialblock', 'social-btns', 'social-links-margin', 'block-copyrightblock', 'copyright print-no'])\n",
    "\n",
    "def scrape_cbs_news(url):\n",
    "    return scrape_news(url, 'p', 'h1', exclude=['content__meta', 'content__meta--byline', 'breaking-news__headline'])\n",
    "\n",
    "def scrape_abc_news(url):\n",
    "    return scrape_news(url, 'p', 'h1', exclude=['Article__Header__Branding', 'PinnedPostsContainer'])\n",
    "\n",
    "\n",
    "# Scraping not allowed    \n",
    "# def scrape_the_guardian(url):\n",
    "#     return scrape_news(url, 'p', 'h1')\n",
    "\n",
    "# def scrape_buzfeed(url):\n",
    "#     return scrape_news(url, 'p', 'h1')\n"
   ]
  },
  {
   "cell_type": "code",
   "execution_count": 79,
   "metadata": {},
   "outputs": [
    {
     "data": {
      "text/plain": [
       "{'title': 'NBCUniversal Partners with America’s Vet Dogs: Service Dog Training at 30 Rock Begins',\n",
       " 'subtitle': None,\n",
       " 'content': \"NBCUniversal collaborates with America’s Vet Dogs and their sister organization the Guide Dog Foundation for a unique Puppy-in-Training Program at 30 Rock. Discover how this initiative promotes accessibility and the long-standing commitment of NBCUniversal of supporting service animals. November 10, 2023 In an effort to promote accessibility and educate employees, NBCUniversal has entered into an exciting partnershp with America’s Vet Dogs and their sister organization, the Guide Dog Foundation, on the Puppy-In-Training program. This initiative provides a comforting and valuable experience for employees, and also speaks to NBCUniversal’s commitment to accessibility. For 20 years, America’s VetDogs has trained and placed guide and service dogs to provide independence, enhanced mobility, and companionship to veterans with disabilities from all eras. In 2015, VetDogs opened its programs to first responders, including fire, police, and emergency medical personnel.  America’s VetDogs is a 501(c)(3) not-for-profit organization founded by the Guide Dog Foundation and serves clients from across the United States. The Guide Dog Foundation is a 501(c)(3) charity with a mission to improve the quality of life for people who are blind, have low vision, or have other disabilities. For more than 75 years since its founding in 1946, the organization has trained and placed guide dogs and service dogs to provide increased independence and enhanced mobility to people with disabilities. With the supervision of an experienced “puppy raiser”, the puppy will be raised and trained on-site at NBCUniversal’s 30 Rock office. Employees will take part in educational demonstrations, while the puppy will learn socialization and how to interact in large, busy environments. At the end of the puppy training period (14-16 months), the puppy will will formally enter service dog training in the hopes of graduating to become a certified service dog for a veteran or first responder with disabilities. As one of the National Organization on Disability's Leading Disability Employer's NBCUniversal values accessibility and disability inclusion. They have long held a strong mission to support service animals through various programs and partnerships, including several with America’s Vet Dogs and their sister organization, the Guide Dog Foundation. TODAY's most-recent puppy with a purpose, Sunny, spent a year and a half educating TODAY show staff and viewers before becoming the first facility dog at the Henry Viscardi School at the Viscardi Center on Long Island, where he supports students with physical disabilities.  Numerous other NBC shows have raised puppies on-air as well, including Camden at WBAL-TV’s, Charlie at TODAY, Izzy at 11 Alive, Brady at NBC Boston, and Zuma at NBC LA. In the upcoming weeks, employees will be participating in a contest to vote on a name for the puppy. To stay up to date with the NBCUniversal pup, and find out the chosen name, follow them on Instagram @NBCU_Pup.\"}"
      ]
     },
     "execution_count": 79,
     "metadata": {},
     "output_type": "execute_result"
    }
   ],
   "source": [
    "scrape_nbc_universal('https://www.nbcuniversal.com/article/nbcuniversal-puppy-training-program-begins-30-rock')"
   ]
  },
  {
   "cell_type": "code",
   "execution_count": 80,
   "metadata": {},
   "outputs": [
    {
     "data": {
      "text/plain": [
       "{'title': 'Hamas-run health ministry releases video inside Al-Shifa hospital as Israeli forces encircle northern Gaza',\n",
       " 'subtitle': None,\n",
       " 'content': 'Tel Aviv — The Hamas-run Gaza Health Ministry has released harrowing new footage of what it says are conditions inside Al-Shifa hospital. Israeli forces are continuing to pummel northern Gaza in what the IDF says is an effort to wipe out the Islamist militant group once and for all. In a seven-minute graphic video posted on the ministry\\'s Facebook page, an unnamed doctor is seen describing his surroundings as wounded and injured people are strewn across the hospital floor. \"The department is completely full of wounded and injured,\" the unnamed doctor says in the video. \"They are on the ground taking their last breaths due to the collapse of the health system, due to the lack of medicines due to the occupation besieging the hospitals,\" the man says as the camera focuses on seemingly lifeless bodies lying on the floor. Young children are also seen bandaged and on hospital gurneys. The narrator claims that a large number of the injured \"are children.\" \"Serious cases are present here without treatment at all. There are no treatments. This is what the condition of people looks like. They are crying for their children. They are crying for their children without any treatment,\" the man says. Fierce fighting has raged in northern Gaza in the aftermath of Hamas militants\\' bloody incursion into Israel on Oct. 7, which Israel says killed 1,200 people with about 240 hostages seized, in the worst terrorist attack in Israel\\'s history. Lior Haiat, a spokesperson for the Israeli Ministry of Foreign Affairs, told CBS News Friday that the death toll from the Oct. 7 attack by Hamas militants has been revised to 1,200, down from the previously reported approximation of at least 1,400. Haitat said that the other 200 people killed were \"probably terrorists.\" Israel\\'s subsequent war on the Islamist militant group has left more than 11,000 people dead in the heavily bombarded Gaza Strip from Israeli strikes in the past month, the Hamas-controlled Gaza health ministry said Friday, according to Reuters. Israel has agreed to daily humanitarian pauses in its offensive in northern Gaza, the White House and Israeli government announced on Thursday. \"Israel is allowing safe passage through humanitarian corridors from the northern Gaza strip to the south,\" the Israeli prime minister\\'s office told CBS News on Thursday. The Israeli army has repeatedly accused Hamas militants of using hospitals — particularly Al-Shifa — to coordinate their war effort and says underground tunnels are present underneath the hospital as hideouts for Hamas commanders. Israel had reported heavy fighting on Thursday near the hospital, saying it had killed dozens of militants and destroyed some tunnels. The Hamas-run Gaza Health Ministry said Friday that Israeli tanks had encircled two other children\\'s hospitals in northern Gaza and claimed to CBS News that a maternity hospital housing displaced people at Al-Shifa hospital complex had been directly targeted by Israeli forces. A World Health Organization spokesperson also said the hospital had been \"coming under bombardment.\" \"If there is a hell on earth today, its name is Northern Gaza. People who remain there, the corners of their existence is death, depravation, despair, displacement and literally darkness,\" WHO spokeswoman Margaret Harris said Friday. \"What do you tell your children in such a situation, it\\'s almost unimaginable. That the fireworks they see in the sky are out to kill them, \\'cause that\\'s what it looks like,\" she said. The IDF\\'s international spokesperson, Lt. Col. Richard Hecht, denied those charges in a press briefing on Friday. \"The IDF does not fire on hospitals … we are aware of the sensitivity of the hospitals and I am aware of the dynamic at the hospitals,\" Hecht told reporters. \"We are aware that Hamas are operating within the hospitals ... We are not dropping bombs on Al-Shifa.\" \"It would be easier for Hamas to leave the hospitals, and if they made it visual to us,\" Hecht said. First published on November 10, 2023 / 2:49 PM EST © 2023 CBS Interactive Inc. All Rights Reserved. Copyright ©2023 CBS Interactive Inc. All rights reserved.'}"
      ]
     },
     "execution_count": 80,
     "metadata": {},
     "output_type": "execute_result"
    }
   ],
   "source": [
    "scrape_cbs_news('https://www.cbsnews.com/news/israel-palestine-hamas-alshifa-hospital-gaza/')"
   ]
  },
  {
   "cell_type": "code",
   "execution_count": 81,
   "metadata": {},
   "outputs": [
    {
     "data": {
      "text/plain": [
       "{'title': 'Israel-Gaza live updates: Mass exodus from Gaza hospital',\n",
       " 'subtitle': None,\n",
       " 'content': 'The hospital has been treating thousands of wounded people. Israeli airstrikes trigger mass evacuations in Gaza Thousands of people have died and thousands more have been injured since the militant group Hamas launched an unprecedented surprise attack on Israel on Oct. 7 and Israel retaliated with a bombing campaign and total siege of the neighboring Gaza Strip, leaving the region on the verge of all-out war. Click here for updates from previous days. Hezbollah issued two statements claiming two attacks on Israel amid daily clashes between Hezbollah and Israel forces along Lebanon’s southern border. For the first time since the Oct. 7 Hamas attacks, Israel carried-out a strike 40 km past its northern border into Lebanon, hitting a truck in Zahrani. For now, this is contained within the the Blue Line, the UN-defined demarcation line between the two countries. As the fighting continues between Hamas and Israel and casualties mount up, the potential for escalation increases. All of this is happening ahead of the commemoration of Hezbollah’s Martyr Day and another speech by Hezbollah Secretary General Hassan Nasrullah, his second of the conflict. Dr. Tom Potokar, the International Committee of the Red Cross\\' chief surgeon who is currently working in the European Gaza Hospital, detailed the challenges they are facing in a phone interview with ABC News Live on Friday. Potokar, who specializes in burn treatments, said they have seen \"many, many\" burn cases, adding that the number of burn patients is \"relentless\" and \"not slowing down at all.\" The patients with burn injuries have been all ages, with the youngest they\\'ve seen just 4 months old, he said. \"A lot of them have burns involving the face as well, and the limbs,\" Potokar said. \"These could be quite deep burns, as I say, so will lead to significant scarring potentially in the future if they actually survive.\" Potokar, who has been a war surgeon in Gaza before, said the damage is \"far, far\" worse and in a \"completely different stratosphere from how I\\'ve ever come across it before.\" He said the way they are treating burns is \"not ideal\" under the current circumstances due to limited medical supplies. \"The way we\\'re treating burns is really stepping back 40, 50 years,\" he said. -ABC News\\' Josh Ascher, Kelly Johnstone, Casey McShea and Michelle Stoddart The Israel Defense Forces denied carrying out a strike that hit an outpatient clinic at Gaza\\'s Al-Shifa hospital Friday morning, stating it was a \"misfired projectile launched by terrorist organizations inside the Gaza Strip.\" There were two incidents at the hospital Friday morning, according to videos verified by ABC News. In one incident, a shell hit the refugee encampment outside of the hospital entrance. In the second incident, a strike hit the outpatient clinic where people were sheltering. The Hamas-run Gaza Health Ministry blamed the Israeli military for the strike that hit the outpatient clinic. As the humanitarian crisis in Gaza continues to worsen by the day, Jens Laerke, spokesperson for the United Nations humanitarian office, said, \"If there is a hell on earth today, its name is northern Gaza.\" \"People who remain there, the corners of their existence are death, deprivation, despair, displacement, and literally, darkness,\" Laerke said. \"The entire Gaza Strip has been plunged into darkness. … What do you tell your children in such a situation? It\\'s almost unimaginable.\"'}"
      ]
     },
     "execution_count": 81,
     "metadata": {},
     "output_type": "execute_result"
    }
   ],
   "source": [
    "scrape_abc_news('https://abcnews.go.com/International/live-updates/israel-gaza-hamas/?id=104617602')"
   ]
  },
  {
   "cell_type": "code",
   "execution_count": 82,
   "metadata": {},
   "outputs": [
    {
     "data": {
      "text/plain": [
       "{'title': 'Ninety-two protesters arrested after violent clashes with cops protecting the Cenotaph and pro-Palestinian march',\n",
       " 'subtitle': None,\n",
       " 'content': 'NINETY-two protesters have been arrested after chaos erupted near London\\'s Cenotaph today as missile-hurling yobs clashed with cops. Protesters, who took to the streets over pro-Palestinian marches being held on Armistice Day, launched missiles at police as shocking scenes unfolded on the streets of the capital this morning. The counter-protests had been organised amid fears pro-Palestine marches would interrupt Remembrance services but fights broke out as cops tried to maintain a ring of steel around the Cenotaph. While police had doubled their numbers in the capital ahead of fears of violence, they struggled to maintain their staunch guard around the memorial - as chants of \"England till I die\" and \"Let us through\" echoed through the streets. But as the pro-Palestine group\\'s march was underway - with about 300,000 - cops were arresting dozens of counter-protesters. And hours on, police were still trying to contain the masses. Bottles were seen being thrown at cops in the isolated scuffles, with far-right leader Tommy Robinson spotted walking with supporters through the streets. Chaotic footage showed protesters being shoved by police as the two groups came head to head. Officers could be seen with batons in hand as they tried to control the crowds of counter-protesters who moved from Whitehall through to Chinatown. Clashes again unfolded by Westminster Station, with footage showing swarms of crowds screaming at police. A large group of counter-protesters were later detained in Bridge Street, just down from Westminster Bridge, with a line of police seen holding in dozens of people. Cops then separated the yobs from the group and could be seen holding them away from the crowds. Dramatic photos then emerged of police chasing the protesters down, before pinning them to the ground to cuff them. At around 2pm there were reports police had kettled a group of counter-protesters after an alleged clash between them and pro-Palestine demonstrators. Met Police confirmed about half an hour later that they had made a number of arrests. It comes as... The force said: \"Officers have arrested 82 people in Tachbrook Street, Pimlico to prevent a breach of the peace. \"They’re part of a large group of counter-protestors we have been monitoring who have tried to reach the main protest march. \"We will continue to take action to avoid the disorder that would likely take place if that happened.\" It added: \"In addition to the arrests made to prevent a breach of the peace in Tachbrook Street, we have made 10 arrests today for other offences. \"These include possession of offensive weapons, affray and possession.\" It was in Pimlico too that a photographer saw one man, who said he was heading to the pro-Palestine march, come to blows with a counter-protester. Nearby, demonstrators let off red and green flares on Vauxhall Bridge. There, police could be seen stopping a group of counter-protesters climbing a flight of stairs on the Pimlico side of the bridge. Cops were said to also be stopping protestors who had been sitting inside a Vauxhall pub from confronting the march. Footage shot as the sun was starting to set in the hours that followed showed the yobs with balaclavas on, clashing with cops. The group can be seen throwing bottles at police as they hold the Union Jack in the air while standing on Vauxhall bridge. Meanwhile tense scenes erupted outside another pub, The Duke of York in Victoria street, as swarms of cops were filmed closing in on a large group of counter-protestors. Forceful chants could be heard on the streets as officers tried to control the crowd. Elsewhere, another woman was said to have been arrested after carrying a poster with a photo of Adolf Hitler. Meanwhile, people with Hamas-style headbands were seen a the march, too. Cops have now vowed to find them, adding: \"Officers are actively looking for these individuals and will take proactive action when they are identified.\" Elsewhere, at Victoria Station, poppy sellers were being forced to move as Pro-Palestine protesters filled the floor of the station. Footage also showed minister Michael Gove getting caught up in the protests at a station. Met Police earlier said they had been faced with \"aggression\" from the counter-protesters. The force said: \"The counter-protesters are not one cohesive group. There are different groups moving away from Whitehall towards other parts of central London. Officers are keeping track of them as they do. \"If their intention is to confront the main protest departing later today from Park Lane, we will use all the powers and tactics available to us to prevent that from happening.\" It added: \"A group of counter-protesters who left Whitehall and moved into Chinatown confronted and threw missiles at officers who tried to engage with them. A group of counter-protesters who left Whitehall and moved into Chinatown confronted and threw missiles at officers who tried to engage with them. \"Additional officers have been deployed to the area to identify, locate and deal with those involved. Our priority is keeping the public safe. We will not tolerate disorder in central London today.\" Met Police added that there had been no arrests within the pro-Palestine demonstrators. Police Assistant Commissioner Matt Twist said: “This is the biggest march that we’ve seen in this phase and at the moment there are no issues with it.\" The chaos has seen calls for Home Secretary Suella Braverman to resign. Scottish First Minister Humza Yousaf said Braverman has \"emboldened\" far-right protesters to attack police. He tweeted: \"The Home Secretary\\'s position is untenable. She must resign.\" Mayor of London Sadiq Khan also blamed Braverman for protesters\\' clashes with police. He said: \"The scenes of disorder we witnessed by the far-right at the Cenotaph are a direct result of the Home Secretary\\'s words. The police\\'s job has been made much harder. \"The Met have my full support to take action against anyone found spreading hate and breaking the law.\" It comes as thousands of pro-Palestine demonstrators descended on London - with some travelling from afar. More than 300,000 protesters set off from Palestine Solidarity Campaign from Park Lane at 1pm, and made their way towards the US Embassy. Chants of \"Free Palestine\" and \"Ceasefire now\" echoed through the streets as the group marched with flags and signs in hand. In the minutes after the march began the Met Police said there had been \"no incidents\" related to the group. The force has doubled their officers in the capital this weekend ahead of pro-Palestine demonstrators taking to the streets. Officials and cops were on watch for the demonstrators coming head-to-head with Brits who are commemorating today’s Armistice Day march and tomorrow’s Remembrance Sunday. Before the national two minutes of silence at 11am fights were already breaking out between police and protesters. Shocking videos show the masses clashing as they rushed through the capital\\'s streets. Prior to that the Palestinian Refugee Project this morning uploaded a photo of a bus full of protesters. It was posted to X, formerly Twitter, with the caption: \"On the bus heading to London. #wewillmarch.\" It was last night revealed the national Cenotaph war memorial will be kept under 24-hour guard for the first time. Steel barriers have been put up at the memorial and pro-Palestine protesters are banned from going anywhere near it until after tomorrow’s event. And this morning officers were seen standing tall next to the statue of Winston Churchill, which was also fenced in with metal barriers. It follows the defacing of the Cenotaph memorial in Rochdale on Tuesday night, when thugs sprayed “Free Palestine” on it. Met deputy assistant commissioner Laurence Taylor warned that any such attack on the Whitehall memorial will not be tolerated. He said: “We will ensure that remembrance is not disrupted and respected.” The police yesterday warned that “pockets of confrontation” are expected with extreme right-wing groups planning to square up to pro-Palestine demonstrators in central London. Cops will be trying to keep the factions away from each other, with Mr Taylor saying: “I do believe that if the groups come together there will be serious disorder.” More than 1,000 cops are being drafted in from across the country to assist the 2,000 Met officers at today’s Armistice Day march and tomorrow’s Remembrance Sunday event in Whitehall. Mr Taylor, the Met’s strategic gold commander in charge of the massive policing operation, warned of a zero tolerance policy to troublemakers. In contrast to previous weeks, he said anyone chanting “Jihad” could face arrest with action being taken later to round up hatemongers caught on camera. Mr Taylor said it was the biggest police operation ever mounted for any remembrance event. Strict conditions have been applied to the Palestine Solidarity Campaign march taking place at 1pm from Park Lane to the US Embassy. I do believe that if the groups come together there will be serious disorder. Protesters will not be allowed to deviate from the route and will be specifically excluded from the Whitehall area, where a large group of right-wing “defenders” are expected to be present. Conditions exclude pro-Palestine demonstrators from going to large areas of the West End, including Trafalgar Square, Leicester Square and Piccadilly Circus after the march finishes by order at 5pm. British Transport Police this morning said that protesters have been banned from London railway stations, too. Transport Secretary Mark Harper said demonstrators could be arrested if they show up at London Waterloo Station, Victoria Station and Charing Cross between 10am and 11pm. He said: \"It\\'s important that people can use our rail network to safely travel, free from intimidation.\" Police said their biggest fear is extremist elements converging to confront each other. But Mr Taylor said officers will take “robust and agile” action against anyone breaching the law or strict pro-Palestine march conditions. Well over 100,000 people are expected in London for today’s pro-Palestine march. It comes after the Prime Minister last night urged everyone to “stand together in quiet reflection” and said the weekend should be about “the selfless bravery of our armed forces”. Meanwhile, veterans were advised by military officials not to wear their medals or berets when they travel to Remembrance services today to honour the 1.3million servicemen and women killed in action since 1914.'}"
      ]
     },
     "execution_count": 82,
     "metadata": {},
     "output_type": "execute_result"
    }
   ],
   "source": [
    "scrape_the_sun('https://www.thesun.co.uk/news/24703278/police-guard-remembrance-day-clashes')\n"
   ]
  },
  {
   "cell_type": "code",
   "execution_count": null,
   "metadata": {},
   "outputs": [],
   "source": []
  },
  {
   "cell_type": "code",
   "execution_count": null,
   "metadata": {},
   "outputs": [],
   "source": []
  },
  {
   "cell_type": "code",
   "execution_count": null,
   "metadata": {},
   "outputs": [],
   "source": []
  }
 ],
 "metadata": {
  "kernelspec": {
   "display_name": "Python 3",
   "language": "python",
   "name": "python3"
  },
  "language_info": {
   "codemirror_mode": {
    "name": "ipython",
    "version": 3
   },
   "file_extension": ".py",
   "mimetype": "text/x-python",
   "name": "python",
   "nbconvert_exporter": "python",
   "pygments_lexer": "ipython3",
   "version": "3.11.6"
  }
 },
 "nbformat": 4,
 "nbformat_minor": 2
}
