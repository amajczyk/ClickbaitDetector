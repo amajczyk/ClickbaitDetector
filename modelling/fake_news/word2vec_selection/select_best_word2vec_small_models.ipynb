{
 "cells": [
  {
   "cell_type": "code",
   "execution_count": 10,
   "metadata": {},
   "outputs": [],
   "source": [
    "import ssl\n",
    "ssl._create_default_https_context = ssl._create_unverified_context\n"
   ]
  },
  {
   "cell_type": "code",
   "execution_count": 11,
   "metadata": {},
   "outputs": [
    {
     "name": "stderr",
     "output_type": "stream",
     "text": [
      "[nltk_data] Downloading package punkt to\n",
      "[nltk_data]     /Users/adammajczyk/nltk_data...\n",
      "[nltk_data]   Package punkt is already up-to-date!\n",
      "[nltk_data] Downloading package wordnet to\n",
      "[nltk_data]     /Users/adammajczyk/nltk_data...\n",
      "[nltk_data]   Package wordnet is already up-to-date!\n",
      "[nltk_data] Downloading package punkt to\n",
      "[nltk_data]     /Users/adammajczyk/nltk_data...\n",
      "[nltk_data]   Package punkt is already up-to-date!\n",
      "[nltk_data] Downloading package averaged_perceptron_tagger to\n",
      "[nltk_data]     /Users/adammajczyk/nltk_data...\n",
      "[nltk_data]   Package averaged_perceptron_tagger is already up-to-\n",
      "[nltk_data]       date!\n",
      "[nltk_data] Downloading package words to\n",
      "[nltk_data]     /Users/adammajczyk/nltk_data...\n",
      "[nltk_data]   Package words is already up-to-date!\n"
     ]
    }
   ],
   "source": [
    "import pandas as pd\n",
    "import numpy as np\n",
    "import os\n",
    "\n",
    "from gensim.models import Word2Vec\n",
    "\n",
    "\n",
    "%run '../../functions.py'\n",
    "%run '../../classes.py'\n"
   ]
  },
  {
   "cell_type": "code",
   "execution_count": 12,
   "metadata": {},
   "outputs": [],
   "source": [
    "from catboost import CatBoostClassifier\n",
    "from xgboost import XGBClassifier\n",
    "from lightgbm import LGBMClassifier\n",
    "from sklearn.neighbors import KNeighborsClassifier\n",
    "from sklearn.svm import SVC\n",
    "from sklearn.linear_model import LogisticRegression \n",
    "from sklearn.ensemble import RandomForestClassifier\n",
    "from sklearn.tree import DecisionTreeClassifier\n",
    "\n",
    "from sklearn.metrics import f1_score, roc_auc_score\n",
    "\n",
    "from sklearn.model_selection import train_test_split\n",
    "\n",
    "from sklearn.preprocessing import StandardScaler\n"
   ]
  },
  {
   "cell_type": "code",
   "execution_count": 13,
   "metadata": {},
   "outputs": [
    {
     "data": {
      "text/html": [
       "<div>\n",
       "<style scoped>\n",
       "    .dataframe tbody tr th:only-of-type {\n",
       "        vertical-align: middle;\n",
       "    }\n",
       "\n",
       "    .dataframe tbody tr th {\n",
       "        vertical-align: top;\n",
       "    }\n",
       "\n",
       "    .dataframe thead th {\n",
       "        text-align: right;\n",
       "    }\n",
       "</style>\n",
       "<table border=\"1\" class=\"dataframe\">\n",
       "  <thead>\n",
       "    <tr style=\"text-align: right;\">\n",
       "      <th></th>\n",
       "      <th>title</th>\n",
       "      <th>is_clickbait</th>\n",
       "      <th>text</th>\n",
       "      <th>dataset</th>\n",
       "      <th>sample</th>\n",
       "    </tr>\n",
       "  </thead>\n",
       "  <tbody>\n",
       "    <tr>\n",
       "      <th>3</th>\n",
       "      <td>[hillary, clinton, john, kerry, divergent, pat...</td>\n",
       "      <td>0</td>\n",
       "      <td>WASHINGTON  —   Early in 2011, after a hectic ...</td>\n",
       "      <td>fake-news</td>\n",
       "      <td>train</td>\n",
       "    </tr>\n",
       "    <tr>\n",
       "      <th>7</th>\n",
       "      <td>[fifa, seventeen, special, arrival, season, pl...</td>\n",
       "      <td>1</td>\n",
       "      <td>Support Us Fifa 17 – The special arrivals seas...</td>\n",
       "      <td>fake-news</td>\n",
       "      <td>train</td>\n",
       "    </tr>\n",
       "    <tr>\n",
       "      <th>11</th>\n",
       "      <td>[orlando, shooting, unlikely, lead, major, new...</td>\n",
       "      <td>0</td>\n",
       "      <td>WASHINGTON  —   It didn’t happen after a congr...</td>\n",
       "      <td>fake-news</td>\n",
       "      <td>train</td>\n",
       "    </tr>\n",
       "    <tr>\n",
       "      <th>14</th>\n",
       "      <td>[war, islam, islam, want, war, peace]</td>\n",
       "      <td>1</td>\n",
       "      <td>link I am sure that this post will fall on dea...</td>\n",
       "      <td>fake-news</td>\n",
       "      <td>train</td>\n",
       "    </tr>\n",
       "    <tr>\n",
       "      <th>16</th>\n",
       "      <td>[university, texas, campus, saying, concealed,...</td>\n",
       "      <td>0</td>\n",
       "      <td>AUSTIN, Tex.  —   As classes began here at the...</td>\n",
       "      <td>fake-news</td>\n",
       "      <td>train</td>\n",
       "    </tr>\n",
       "  </tbody>\n",
       "</table>\n",
       "</div>"
      ],
      "text/plain": [
       "                                                title  is_clickbait  \\\n",
       "3   [hillary, clinton, john, kerry, divergent, pat...             0   \n",
       "7   [fifa, seventeen, special, arrival, season, pl...             1   \n",
       "11  [orlando, shooting, unlikely, lead, major, new...             0   \n",
       "14              [war, islam, islam, want, war, peace]             1   \n",
       "16  [university, texas, campus, saying, concealed,...             0   \n",
       "\n",
       "                                                 text    dataset sample  \n",
       "3   WASHINGTON  —   Early in 2011, after a hectic ...  fake-news  train  \n",
       "7   Support Us Fifa 17 – The special arrivals seas...  fake-news  train  \n",
       "11  WASHINGTON  —   It didn’t happen after a congr...  fake-news  train  \n",
       "14  link I am sure that this post will fall on dea...  fake-news  train  \n",
       "16  AUSTIN, Tex.  —   As classes began here at the...  fake-news  train  "
      ]
     },
     "execution_count": 13,
     "metadata": {},
     "output_type": "execute_result"
    }
   ],
   "source": [
    "\n",
    "if not os.path.exists('../data/preprocessed_titles_labels.pkl'):\n",
    "    df = preprocess_title(df, verbose=True)\n",
    "    df.to_pickle('../data/preprocessed_titles_labels.pkl') \n",
    "\n",
    "else:\n",
    "    df = pd.read_pickle('../data/preprocessed_titles_labels.pkl')\n",
    "df.head()"
   ]
  },
  {
   "cell_type": "code",
   "execution_count": 14,
   "metadata": {},
   "outputs": [
    {
     "data": {
      "text/plain": [
       "sample\n",
       "train    17791\n",
       "test       997\n",
       "val2       506\n",
       "val1       480\n",
       "Name: count, dtype: int64"
      ]
     },
     "execution_count": 14,
     "metadata": {},
     "output_type": "execute_result"
    }
   ],
   "source": [
    "df['sample'].value_counts()"
   ]
  },
  {
   "cell_type": "code",
   "execution_count": 15,
   "metadata": {},
   "outputs": [
    {
     "data": {
      "text/plain": [
       "[]"
      ]
     },
     "execution_count": 15,
     "metadata": {},
     "output_type": "execute_result"
    }
   ],
   "source": [
    "# read results from previous runs json file\n",
    "save_path = 'results/word2vec_results_10_20_50.json'\n",
    "import json\n",
    "\n",
    "# if file doesn't exist, create it\n",
    "if not os.path.exists(save_path):\n",
    "    with open(save_path, 'w') as f:\n",
    "        json.dump({}, f)\n",
    "        \n",
    "with open(save_path, 'r') as f:\n",
    "    word2vec_results = json.load(f)\n",
    "\n",
    "\n",
    "# get all the models from the results\n",
    "models_already_trained = []\n",
    "for model in word2vec_results:\n",
    "    models_already_trained.append(model)\n",
    "models_already_trained = [model + \".model\" for model in models_already_trained]\n",
    "models_already_trained"
   ]
  },
  {
   "cell_type": "code",
   "execution_count": 16,
   "metadata": {},
   "outputs": [
    {
     "name": "stdout",
     "output_type": "stream",
     "text": [
      "['word2vec_vs10_win6_sg1.model', 'word2vec_vs10_win7_sg0.model', 'word2vec_vs10_win7_sg1.model', 'word2vec_vs10_win6_sg0.model', 'word2vec_vs10_win4_sg1.model', 'word2vec_vs10_win8_sg0.model', 'word2vec_vs10_win5_sg0.model', 'word2vec_vs10_win3_sg0.model', 'word2vec_vs10_win5_sg1.model', 'word2vec_vs10_win8_sg1.model', 'word2vec_vs10_win4_sg0.model', 'word2vec_vs10_win3_sg1.model', 'word2vec_vs20_win3_sg0.model', 'word2vec_vs20_win4_sg1.model', 'word2vec_vs20_win8_sg0.model', 'word2vec_vs20_win5_sg0.model', 'word2vec_vs20_win3_sg1.model', 'word2vec_vs20_win5_sg1.model', 'word2vec_vs20_win8_sg1.model', 'word2vec_vs20_win4_sg0.model', 'word2vec_vs20_win6_sg1.model', 'word2vec_vs20_win7_sg0.model', 'word2vec_vs20_win7_sg1.model', 'word2vec_vs20_win6_sg0.model', 'word2vec_vs50_win5_sg0.model', 'word2vec_vs50_win8_sg0.model', 'word2vec_vs50_win4_sg1.model', 'word2vec_vs50_win3_sg0.model', 'word2vec_vs50_win4_sg0.model', 'word2vec_vs50_win8_sg1.model', 'word2vec_vs50_win5_sg1.model', 'word2vec_vs50_win3_sg1.model', 'word2vec_vs50_win7_sg0.model', 'word2vec_vs50_win6_sg1.model', 'word2vec_vs50_win6_sg0.model', 'word2vec_vs50_win7_sg1.model']\n"
     ]
    }
   ],
   "source": [
    "from tqdm import tqdm\n",
    "import copy as cp\n",
    "\n",
    "\n",
    "files = os.listdir('../../all_datasets/word2vec_models')\n",
    "files = [file for file in files if file.endswith('.model')]\n",
    "\n",
    "\n",
    "files10 = [file for file in files if file.startswith('word2vec_vs10_')]\n",
    "files20 = [file for file in files if file.startswith('word2vec_vs20_')]\n",
    "files50 = [file for file in files if file.startswith('word2vec_vs50_')]\n",
    "\n",
    "\n",
    "\n",
    "files = files10 + files20 + files50   \n",
    "\n",
    "# remove the files that have already been trained\n",
    "files = [file for file in files if file not in models_already_trained]\n",
    "\n",
    "print(files)\n"
   ]
  },
  {
   "cell_type": "code",
   "execution_count": 17,
   "metadata": {},
   "outputs": [
    {
     "data": {
      "application/vnd.jupyter.widget-view+json": {
       "model_id": "db6c47e8300c4626ae9ccd095ab56197",
       "version_major": 2,
       "version_minor": 0
      },
      "text/plain": [
       "  0%|          | 0/36 [00:00<?, ?it/s]"
      ]
     },
     "metadata": {},
     "output_type": "display_data"
    },
    {
     "data": {
      "application/vnd.jupyter.widget-view+json": {
       "model_id": "7c466e87b3174de58113fd8e4d000ea2",
       "version_major": 2,
       "version_minor": 0
      },
      "text/plain": [
       "Predictive Models for word2vec_vs10_win6_sg1:   0%|          | 0/5 [00:00<?, ?it/s]"
      ]
     },
     "metadata": {},
     "output_type": "display_data"
    },
    {
     "data": {
      "application/vnd.jupyter.widget-view+json": {
       "model_id": "5e748eaf485b41778faa64a1ce7aec8a",
       "version_major": 2,
       "version_minor": 0
      },
      "text/plain": [
       "catboost submodels:   0%|          | 0/3 [00:00<?, ?it/s]"
      ]
     },
     "metadata": {},
     "output_type": "display_data"
    },
    {
     "data": {
      "application/vnd.jupyter.widget-view+json": {
       "model_id": "47aea5235c8c46f1b399a10e25b90814",
       "version_major": 2,
       "version_minor": 0
      },
      "text/plain": [
       "lightgbm submodels:   0%|          | 0/3 [00:00<?, ?it/s]"
      ]
     },
     "metadata": {},
     "output_type": "display_data"
    },
    {
     "data": {
      "application/vnd.jupyter.widget-view+json": {
       "model_id": "5ff4ad47d1e24b869a4dcbab8d0e1090",
       "version_major": 2,
       "version_minor": 0
      },
      "text/plain": [
       "knn submodels:   0%|          | 0/3 [00:00<?, ?it/s]"
      ]
     },
     "metadata": {},
     "output_type": "display_data"
    },
    {
     "data": {
      "application/vnd.jupyter.widget-view+json": {
       "model_id": "e333271d83d64633813f7c972d410f67",
       "version_major": 2,
       "version_minor": 0
      },
      "text/plain": [
       "randomforest submodels:   0%|          | 0/3 [00:00<?, ?it/s]"
      ]
     },
     "metadata": {},
     "output_type": "display_data"
    },
    {
     "data": {
      "application/vnd.jupyter.widget-view+json": {
       "model_id": "f1b55f7bc7484476af29669f38998b80",
       "version_major": 2,
       "version_minor": 0
      },
      "text/plain": [
       "decisiontree submodels:   0%|          | 0/3 [00:00<?, ?it/s]"
      ]
     },
     "metadata": {},
     "output_type": "display_data"
    },
    {
     "name": "stdout",
     "output_type": "stream",
     "text": [
      "word2vec_vs10_win6_sg1 done and updated json\n"
     ]
    },
    {
     "data": {
      "application/vnd.jupyter.widget-view+json": {
       "model_id": "c48eff3827904969b815390e81ee38c6",
       "version_major": 2,
       "version_minor": 0
      },
      "text/plain": [
       "Predictive Models for word2vec_vs10_win7_sg0:   0%|          | 0/5 [00:00<?, ?it/s]"
      ]
     },
     "metadata": {},
     "output_type": "display_data"
    },
    {
     "data": {
      "application/vnd.jupyter.widget-view+json": {
       "model_id": "54b7da6df0df43a0bb9beaea9a147847",
       "version_major": 2,
       "version_minor": 0
      },
      "text/plain": [
       "catboost submodels:   0%|          | 0/3 [00:00<?, ?it/s]"
      ]
     },
     "metadata": {},
     "output_type": "display_data"
    },
    {
     "data": {
      "application/vnd.jupyter.widget-view+json": {
       "model_id": "74225087a0ae49d591b7d7bf9c61cd95",
       "version_major": 2,
       "version_minor": 0
      },
      "text/plain": [
       "lightgbm submodels:   0%|          | 0/3 [00:00<?, ?it/s]"
      ]
     },
     "metadata": {},
     "output_type": "display_data"
    },
    {
     "data": {
      "application/vnd.jupyter.widget-view+json": {
       "model_id": "f51e41ccc0014c6eb19e749e6893ed85",
       "version_major": 2,
       "version_minor": 0
      },
      "text/plain": [
       "knn submodels:   0%|          | 0/3 [00:00<?, ?it/s]"
      ]
     },
     "metadata": {},
     "output_type": "display_data"
    },
    {
     "data": {
      "application/vnd.jupyter.widget-view+json": {
       "model_id": "25564519a3fa4397b5a4a61f298db866",
       "version_major": 2,
       "version_minor": 0
      },
      "text/plain": [
       "randomforest submodels:   0%|          | 0/3 [00:00<?, ?it/s]"
      ]
     },
     "metadata": {},
     "output_type": "display_data"
    },
    {
     "data": {
      "application/vnd.jupyter.widget-view+json": {
       "model_id": "ecfb1508a43147caa43dce208e0adc66",
       "version_major": 2,
       "version_minor": 0
      },
      "text/plain": [
       "decisiontree submodels:   0%|          | 0/3 [00:00<?, ?it/s]"
      ]
     },
     "metadata": {},
     "output_type": "display_data"
    },
    {
     "name": "stdout",
     "output_type": "stream",
     "text": [
      "word2vec_vs10_win7_sg0 done and updated json\n"
     ]
    },
    {
     "data": {
      "application/vnd.jupyter.widget-view+json": {
       "model_id": "29ec6d9793f24b7595ae13df232cb11f",
       "version_major": 2,
       "version_minor": 0
      },
      "text/plain": [
       "Predictive Models for word2vec_vs10_win7_sg1:   0%|          | 0/5 [00:00<?, ?it/s]"
      ]
     },
     "metadata": {},
     "output_type": "display_data"
    },
    {
     "data": {
      "application/vnd.jupyter.widget-view+json": {
       "model_id": "81bacc1218464c44a3fc2f7c14de3b6e",
       "version_major": 2,
       "version_minor": 0
      },
      "text/plain": [
       "catboost submodels:   0%|          | 0/3 [00:00<?, ?it/s]"
      ]
     },
     "metadata": {},
     "output_type": "display_data"
    },
    {
     "data": {
      "application/vnd.jupyter.widget-view+json": {
       "model_id": "863e6dfc9cd94c0184dc9ade2e3e4c07",
       "version_major": 2,
       "version_minor": 0
      },
      "text/plain": [
       "lightgbm submodels:   0%|          | 0/3 [00:00<?, ?it/s]"
      ]
     },
     "metadata": {},
     "output_type": "display_data"
    },
    {
     "data": {
      "application/vnd.jupyter.widget-view+json": {
       "model_id": "1f7b63d560b54c08ac78e4db6548e42a",
       "version_major": 2,
       "version_minor": 0
      },
      "text/plain": [
       "knn submodels:   0%|          | 0/3 [00:00<?, ?it/s]"
      ]
     },
     "metadata": {},
     "output_type": "display_data"
    },
    {
     "data": {
      "application/vnd.jupyter.widget-view+json": {
       "model_id": "9875a71d0aee49ed9678de03538416a8",
       "version_major": 2,
       "version_minor": 0
      },
      "text/plain": [
       "randomforest submodels:   0%|          | 0/3 [00:00<?, ?it/s]"
      ]
     },
     "metadata": {},
     "output_type": "display_data"
    },
    {
     "data": {
      "application/vnd.jupyter.widget-view+json": {
       "model_id": "de88e77fce324b22b95569ca20d86110",
       "version_major": 2,
       "version_minor": 0
      },
      "text/plain": [
       "decisiontree submodels:   0%|          | 0/3 [00:00<?, ?it/s]"
      ]
     },
     "metadata": {},
     "output_type": "display_data"
    },
    {
     "name": "stdout",
     "output_type": "stream",
     "text": [
      "word2vec_vs10_win7_sg1 done and updated json\n"
     ]
    },
    {
     "data": {
      "application/vnd.jupyter.widget-view+json": {
       "model_id": "eb98f7e026a54e4aacb733f9e8e21976",
       "version_major": 2,
       "version_minor": 0
      },
      "text/plain": [
       "Predictive Models for word2vec_vs10_win6_sg0:   0%|          | 0/5 [00:00<?, ?it/s]"
      ]
     },
     "metadata": {},
     "output_type": "display_data"
    },
    {
     "data": {
      "application/vnd.jupyter.widget-view+json": {
       "model_id": "639ad7286e2c48e6b3d853ffe06285e1",
       "version_major": 2,
       "version_minor": 0
      },
      "text/plain": [
       "catboost submodels:   0%|          | 0/3 [00:00<?, ?it/s]"
      ]
     },
     "metadata": {},
     "output_type": "display_data"
    },
    {
     "data": {
      "application/vnd.jupyter.widget-view+json": {
       "model_id": "0ad7ef96e365427a85604a41293711c6",
       "version_major": 2,
       "version_minor": 0
      },
      "text/plain": [
       "lightgbm submodels:   0%|          | 0/3 [00:00<?, ?it/s]"
      ]
     },
     "metadata": {},
     "output_type": "display_data"
    },
    {
     "data": {
      "application/vnd.jupyter.widget-view+json": {
       "model_id": "9db320ba12354d0db12497dd5e042570",
       "version_major": 2,
       "version_minor": 0
      },
      "text/plain": [
       "knn submodels:   0%|          | 0/3 [00:00<?, ?it/s]"
      ]
     },
     "metadata": {},
     "output_type": "display_data"
    },
    {
     "data": {
      "application/vnd.jupyter.widget-view+json": {
       "model_id": "9d86093acff849cd9935a5977d0f6519",
       "version_major": 2,
       "version_minor": 0
      },
      "text/plain": [
       "randomforest submodels:   0%|          | 0/3 [00:00<?, ?it/s]"
      ]
     },
     "metadata": {},
     "output_type": "display_data"
    },
    {
     "data": {
      "application/vnd.jupyter.widget-view+json": {
       "model_id": "5af7033f3c6040bd8c0b12ea63696846",
       "version_major": 2,
       "version_minor": 0
      },
      "text/plain": [
       "decisiontree submodels:   0%|          | 0/3 [00:00<?, ?it/s]"
      ]
     },
     "metadata": {},
     "output_type": "display_data"
    },
    {
     "name": "stdout",
     "output_type": "stream",
     "text": [
      "word2vec_vs10_win6_sg0 done and updated json\n"
     ]
    },
    {
     "data": {
      "application/vnd.jupyter.widget-view+json": {
       "model_id": "f5e83d8243034378992c582dc04e63ad",
       "version_major": 2,
       "version_minor": 0
      },
      "text/plain": [
       "Predictive Models for word2vec_vs10_win4_sg1:   0%|          | 0/5 [00:00<?, ?it/s]"
      ]
     },
     "metadata": {},
     "output_type": "display_data"
    },
    {
     "data": {
      "application/vnd.jupyter.widget-view+json": {
       "model_id": "7be59e65ce3446b69f6dc0f84237be21",
       "version_major": 2,
       "version_minor": 0
      },
      "text/plain": [
       "catboost submodels:   0%|          | 0/3 [00:00<?, ?it/s]"
      ]
     },
     "metadata": {},
     "output_type": "display_data"
    },
    {
     "data": {
      "application/vnd.jupyter.widget-view+json": {
       "model_id": "aaf8eac30bca49bcb86c246842d1f9d5",
       "version_major": 2,
       "version_minor": 0
      },
      "text/plain": [
       "lightgbm submodels:   0%|          | 0/3 [00:00<?, ?it/s]"
      ]
     },
     "metadata": {},
     "output_type": "display_data"
    },
    {
     "data": {
      "application/vnd.jupyter.widget-view+json": {
       "model_id": "b2d2f9f00985454287b370456e19a635",
       "version_major": 2,
       "version_minor": 0
      },
      "text/plain": [
       "knn submodels:   0%|          | 0/3 [00:00<?, ?it/s]"
      ]
     },
     "metadata": {},
     "output_type": "display_data"
    },
    {
     "data": {
      "application/vnd.jupyter.widget-view+json": {
       "model_id": "56865f1e20da4a36a3ad78d0a07eac9b",
       "version_major": 2,
       "version_minor": 0
      },
      "text/plain": [
       "randomforest submodels:   0%|          | 0/3 [00:00<?, ?it/s]"
      ]
     },
     "metadata": {},
     "output_type": "display_data"
    },
    {
     "data": {
      "application/vnd.jupyter.widget-view+json": {
       "model_id": "34f9d729059145aa8048dbf5627b244c",
       "version_major": 2,
       "version_minor": 0
      },
      "text/plain": [
       "decisiontree submodels:   0%|          | 0/3 [00:00<?, ?it/s]"
      ]
     },
     "metadata": {},
     "output_type": "display_data"
    },
    {
     "name": "stdout",
     "output_type": "stream",
     "text": [
      "word2vec_vs10_win4_sg1 done and updated json\n"
     ]
    },
    {
     "data": {
      "application/vnd.jupyter.widget-view+json": {
       "model_id": "bda555f0d3c34ae9a5eb3add0dc1a42f",
       "version_major": 2,
       "version_minor": 0
      },
      "text/plain": [
       "Predictive Models for word2vec_vs10_win8_sg0:   0%|          | 0/5 [00:00<?, ?it/s]"
      ]
     },
     "metadata": {},
     "output_type": "display_data"
    },
    {
     "data": {
      "application/vnd.jupyter.widget-view+json": {
       "model_id": "ebb0eb67380d491c8cf6dd8832ea9d9d",
       "version_major": 2,
       "version_minor": 0
      },
      "text/plain": [
       "catboost submodels:   0%|          | 0/3 [00:00<?, ?it/s]"
      ]
     },
     "metadata": {},
     "output_type": "display_data"
    },
    {
     "data": {
      "application/vnd.jupyter.widget-view+json": {
       "model_id": "a2c2540153d54b989b3709ad7c34ab86",
       "version_major": 2,
       "version_minor": 0
      },
      "text/plain": [
       "lightgbm submodels:   0%|          | 0/3 [00:00<?, ?it/s]"
      ]
     },
     "metadata": {},
     "output_type": "display_data"
    },
    {
     "data": {
      "application/vnd.jupyter.widget-view+json": {
       "model_id": "e75b79bd037c40aa83b17f865921ddba",
       "version_major": 2,
       "version_minor": 0
      },
      "text/plain": [
       "knn submodels:   0%|          | 0/3 [00:00<?, ?it/s]"
      ]
     },
     "metadata": {},
     "output_type": "display_data"
    },
    {
     "data": {
      "application/vnd.jupyter.widget-view+json": {
       "model_id": "95312108eb7c488aaddb3e506c030cc0",
       "version_major": 2,
       "version_minor": 0
      },
      "text/plain": [
       "randomforest submodels:   0%|          | 0/3 [00:00<?, ?it/s]"
      ]
     },
     "metadata": {},
     "output_type": "display_data"
    },
    {
     "data": {
      "application/vnd.jupyter.widget-view+json": {
       "model_id": "c4963b460eac4f65b8425d2118e24f93",
       "version_major": 2,
       "version_minor": 0
      },
      "text/plain": [
       "decisiontree submodels:   0%|          | 0/3 [00:00<?, ?it/s]"
      ]
     },
     "metadata": {},
     "output_type": "display_data"
    },
    {
     "name": "stdout",
     "output_type": "stream",
     "text": [
      "word2vec_vs10_win8_sg0 done and updated json\n"
     ]
    },
    {
     "data": {
      "application/vnd.jupyter.widget-view+json": {
       "model_id": "c2725c905b414c7f9ad0c32aa3a545d0",
       "version_major": 2,
       "version_minor": 0
      },
      "text/plain": [
       "Predictive Models for word2vec_vs10_win5_sg0:   0%|          | 0/5 [00:00<?, ?it/s]"
      ]
     },
     "metadata": {},
     "output_type": "display_data"
    },
    {
     "data": {
      "application/vnd.jupyter.widget-view+json": {
       "model_id": "62376413977341e7a50321035bde5731",
       "version_major": 2,
       "version_minor": 0
      },
      "text/plain": [
       "catboost submodels:   0%|          | 0/3 [00:00<?, ?it/s]"
      ]
     },
     "metadata": {},
     "output_type": "display_data"
    },
    {
     "data": {
      "application/vnd.jupyter.widget-view+json": {
       "model_id": "22cb49fb299b493c9a9e1dcde0ea600e",
       "version_major": 2,
       "version_minor": 0
      },
      "text/plain": [
       "lightgbm submodels:   0%|          | 0/3 [00:00<?, ?it/s]"
      ]
     },
     "metadata": {},
     "output_type": "display_data"
    },
    {
     "data": {
      "application/vnd.jupyter.widget-view+json": {
       "model_id": "1ead07bdc7414719854499853f998272",
       "version_major": 2,
       "version_minor": 0
      },
      "text/plain": [
       "knn submodels:   0%|          | 0/3 [00:00<?, ?it/s]"
      ]
     },
     "metadata": {},
     "output_type": "display_data"
    },
    {
     "data": {
      "application/vnd.jupyter.widget-view+json": {
       "model_id": "9c1ab78989d04339919520f7186a8396",
       "version_major": 2,
       "version_minor": 0
      },
      "text/plain": [
       "randomforest submodels:   0%|          | 0/3 [00:00<?, ?it/s]"
      ]
     },
     "metadata": {},
     "output_type": "display_data"
    },
    {
     "data": {
      "application/vnd.jupyter.widget-view+json": {
       "model_id": "579985600b0740008cbc66a617a4af4d",
       "version_major": 2,
       "version_minor": 0
      },
      "text/plain": [
       "decisiontree submodels:   0%|          | 0/3 [00:00<?, ?it/s]"
      ]
     },
     "metadata": {},
     "output_type": "display_data"
    },
    {
     "name": "stdout",
     "output_type": "stream",
     "text": [
      "word2vec_vs10_win5_sg0 done and updated json\n"
     ]
    },
    {
     "data": {
      "application/vnd.jupyter.widget-view+json": {
       "model_id": "a20a2e4bbdaa4714969d149eada82d31",
       "version_major": 2,
       "version_minor": 0
      },
      "text/plain": [
       "Predictive Models for word2vec_vs10_win3_sg0:   0%|          | 0/5 [00:00<?, ?it/s]"
      ]
     },
     "metadata": {},
     "output_type": "display_data"
    },
    {
     "data": {
      "application/vnd.jupyter.widget-view+json": {
       "model_id": "376f6efeabf14fceb6ba9ad3065670c3",
       "version_major": 2,
       "version_minor": 0
      },
      "text/plain": [
       "catboost submodels:   0%|          | 0/3 [00:00<?, ?it/s]"
      ]
     },
     "metadata": {},
     "output_type": "display_data"
    },
    {
     "data": {
      "application/vnd.jupyter.widget-view+json": {
       "model_id": "d79d3d2fb0bd4723b3708bb2da734cc9",
       "version_major": 2,
       "version_minor": 0
      },
      "text/plain": [
       "lightgbm submodels:   0%|          | 0/3 [00:00<?, ?it/s]"
      ]
     },
     "metadata": {},
     "output_type": "display_data"
    },
    {
     "data": {
      "application/vnd.jupyter.widget-view+json": {
       "model_id": "081e710551b84fdb81adc01d1f3deb88",
       "version_major": 2,
       "version_minor": 0
      },
      "text/plain": [
       "knn submodels:   0%|          | 0/3 [00:00<?, ?it/s]"
      ]
     },
     "metadata": {},
     "output_type": "display_data"
    },
    {
     "data": {
      "application/vnd.jupyter.widget-view+json": {
       "model_id": "d0cc653ea81d48cf944eb85fc9a5d1da",
       "version_major": 2,
       "version_minor": 0
      },
      "text/plain": [
       "randomforest submodels:   0%|          | 0/3 [00:00<?, ?it/s]"
      ]
     },
     "metadata": {},
     "output_type": "display_data"
    },
    {
     "data": {
      "application/vnd.jupyter.widget-view+json": {
       "model_id": "9366fafc0997414ca05e2ef319662126",
       "version_major": 2,
       "version_minor": 0
      },
      "text/plain": [
       "decisiontree submodels:   0%|          | 0/3 [00:00<?, ?it/s]"
      ]
     },
     "metadata": {},
     "output_type": "display_data"
    },
    {
     "name": "stdout",
     "output_type": "stream",
     "text": [
      "word2vec_vs10_win3_sg0 done and updated json\n"
     ]
    },
    {
     "data": {
      "application/vnd.jupyter.widget-view+json": {
       "model_id": "018a1524d14a4659b137299d135a7a43",
       "version_major": 2,
       "version_minor": 0
      },
      "text/plain": [
       "Predictive Models for word2vec_vs10_win5_sg1:   0%|          | 0/5 [00:00<?, ?it/s]"
      ]
     },
     "metadata": {},
     "output_type": "display_data"
    },
    {
     "data": {
      "application/vnd.jupyter.widget-view+json": {
       "model_id": "69dc74d193d94b5eacb4e1b845c48e2e",
       "version_major": 2,
       "version_minor": 0
      },
      "text/plain": [
       "catboost submodels:   0%|          | 0/3 [00:00<?, ?it/s]"
      ]
     },
     "metadata": {},
     "output_type": "display_data"
    },
    {
     "data": {
      "application/vnd.jupyter.widget-view+json": {
       "model_id": "dc864c32707445e4b9c0d3489f790fe9",
       "version_major": 2,
       "version_minor": 0
      },
      "text/plain": [
       "lightgbm submodels:   0%|          | 0/3 [00:00<?, ?it/s]"
      ]
     },
     "metadata": {},
     "output_type": "display_data"
    },
    {
     "data": {
      "application/vnd.jupyter.widget-view+json": {
       "model_id": "0ccd03a2a99b4df2b8cbc9a3cfae1fbb",
       "version_major": 2,
       "version_minor": 0
      },
      "text/plain": [
       "knn submodels:   0%|          | 0/3 [00:00<?, ?it/s]"
      ]
     },
     "metadata": {},
     "output_type": "display_data"
    },
    {
     "data": {
      "application/vnd.jupyter.widget-view+json": {
       "model_id": "38ff2f90fc7a4306b08bb4fdf32f0792",
       "version_major": 2,
       "version_minor": 0
      },
      "text/plain": [
       "randomforest submodels:   0%|          | 0/3 [00:00<?, ?it/s]"
      ]
     },
     "metadata": {},
     "output_type": "display_data"
    },
    {
     "data": {
      "application/vnd.jupyter.widget-view+json": {
       "model_id": "78fe50fb312d4896831e73711bb11419",
       "version_major": 2,
       "version_minor": 0
      },
      "text/plain": [
       "decisiontree submodels:   0%|          | 0/3 [00:00<?, ?it/s]"
      ]
     },
     "metadata": {},
     "output_type": "display_data"
    },
    {
     "name": "stdout",
     "output_type": "stream",
     "text": [
      "word2vec_vs10_win5_sg1 done and updated json\n"
     ]
    },
    {
     "data": {
      "application/vnd.jupyter.widget-view+json": {
       "model_id": "fec295fd12434836ad2045b65742de83",
       "version_major": 2,
       "version_minor": 0
      },
      "text/plain": [
       "Predictive Models for word2vec_vs10_win8_sg1:   0%|          | 0/5 [00:00<?, ?it/s]"
      ]
     },
     "metadata": {},
     "output_type": "display_data"
    },
    {
     "data": {
      "application/vnd.jupyter.widget-view+json": {
       "model_id": "11a8282a44d6419998cb1daf0e798f9c",
       "version_major": 2,
       "version_minor": 0
      },
      "text/plain": [
       "catboost submodels:   0%|          | 0/3 [00:00<?, ?it/s]"
      ]
     },
     "metadata": {},
     "output_type": "display_data"
    },
    {
     "data": {
      "application/vnd.jupyter.widget-view+json": {
       "model_id": "73def1437f5642e9bc16299c24848972",
       "version_major": 2,
       "version_minor": 0
      },
      "text/plain": [
       "lightgbm submodels:   0%|          | 0/3 [00:00<?, ?it/s]"
      ]
     },
     "metadata": {},
     "output_type": "display_data"
    },
    {
     "data": {
      "application/vnd.jupyter.widget-view+json": {
       "model_id": "b818221cfdcf40cfa983c2e392b006bb",
       "version_major": 2,
       "version_minor": 0
      },
      "text/plain": [
       "knn submodels:   0%|          | 0/3 [00:00<?, ?it/s]"
      ]
     },
     "metadata": {},
     "output_type": "display_data"
    },
    {
     "data": {
      "application/vnd.jupyter.widget-view+json": {
       "model_id": "1566cc2ab6aa424c98c571b9e33d30b6",
       "version_major": 2,
       "version_minor": 0
      },
      "text/plain": [
       "randomforest submodels:   0%|          | 0/3 [00:00<?, ?it/s]"
      ]
     },
     "metadata": {},
     "output_type": "display_data"
    },
    {
     "data": {
      "application/vnd.jupyter.widget-view+json": {
       "model_id": "23eb8682065a460da189219f030afb35",
       "version_major": 2,
       "version_minor": 0
      },
      "text/plain": [
       "decisiontree submodels:   0%|          | 0/3 [00:00<?, ?it/s]"
      ]
     },
     "metadata": {},
     "output_type": "display_data"
    },
    {
     "name": "stdout",
     "output_type": "stream",
     "text": [
      "word2vec_vs10_win8_sg1 done and updated json\n"
     ]
    },
    {
     "data": {
      "application/vnd.jupyter.widget-view+json": {
       "model_id": "36268a35f0ea41428a75a23d3f7df1da",
       "version_major": 2,
       "version_minor": 0
      },
      "text/plain": [
       "Predictive Models for word2vec_vs10_win4_sg0:   0%|          | 0/5 [00:00<?, ?it/s]"
      ]
     },
     "metadata": {},
     "output_type": "display_data"
    },
    {
     "data": {
      "application/vnd.jupyter.widget-view+json": {
       "model_id": "c832d9d8a2f74657adbc08ac021cc074",
       "version_major": 2,
       "version_minor": 0
      },
      "text/plain": [
       "catboost submodels:   0%|          | 0/3 [00:00<?, ?it/s]"
      ]
     },
     "metadata": {},
     "output_type": "display_data"
    },
    {
     "data": {
      "application/vnd.jupyter.widget-view+json": {
       "model_id": "cc3697d2efcc4728aea47de377dddb1f",
       "version_major": 2,
       "version_minor": 0
      },
      "text/plain": [
       "lightgbm submodels:   0%|          | 0/3 [00:00<?, ?it/s]"
      ]
     },
     "metadata": {},
     "output_type": "display_data"
    },
    {
     "data": {
      "application/vnd.jupyter.widget-view+json": {
       "model_id": "e2abb1e028314562b4661c7590a2700e",
       "version_major": 2,
       "version_minor": 0
      },
      "text/plain": [
       "knn submodels:   0%|          | 0/3 [00:00<?, ?it/s]"
      ]
     },
     "metadata": {},
     "output_type": "display_data"
    },
    {
     "data": {
      "application/vnd.jupyter.widget-view+json": {
       "model_id": "7c270f57668a4ec0a55a154a59d72fe4",
       "version_major": 2,
       "version_minor": 0
      },
      "text/plain": [
       "randomforest submodels:   0%|          | 0/3 [00:00<?, ?it/s]"
      ]
     },
     "metadata": {},
     "output_type": "display_data"
    },
    {
     "data": {
      "application/vnd.jupyter.widget-view+json": {
       "model_id": "179f360d93fb44819cfa72d20f03a8c0",
       "version_major": 2,
       "version_minor": 0
      },
      "text/plain": [
       "decisiontree submodels:   0%|          | 0/3 [00:00<?, ?it/s]"
      ]
     },
     "metadata": {},
     "output_type": "display_data"
    },
    {
     "name": "stdout",
     "output_type": "stream",
     "text": [
      "word2vec_vs10_win4_sg0 done and updated json\n"
     ]
    },
    {
     "data": {
      "application/vnd.jupyter.widget-view+json": {
       "model_id": "967e6400b3a445a1ba9458947b6b27a7",
       "version_major": 2,
       "version_minor": 0
      },
      "text/plain": [
       "Predictive Models for word2vec_vs10_win3_sg1:   0%|          | 0/5 [00:00<?, ?it/s]"
      ]
     },
     "metadata": {},
     "output_type": "display_data"
    },
    {
     "data": {
      "application/vnd.jupyter.widget-view+json": {
       "model_id": "4aa88f23eb2c40a38e86ddbb98b39b04",
       "version_major": 2,
       "version_minor": 0
      },
      "text/plain": [
       "catboost submodels:   0%|          | 0/3 [00:00<?, ?it/s]"
      ]
     },
     "metadata": {},
     "output_type": "display_data"
    },
    {
     "data": {
      "application/vnd.jupyter.widget-view+json": {
       "model_id": "073b8885e13d43cfa3ea5a4729bed91c",
       "version_major": 2,
       "version_minor": 0
      },
      "text/plain": [
       "lightgbm submodels:   0%|          | 0/3 [00:00<?, ?it/s]"
      ]
     },
     "metadata": {},
     "output_type": "display_data"
    },
    {
     "data": {
      "application/vnd.jupyter.widget-view+json": {
       "model_id": "edd94bfa617a4022800f710fac09dafa",
       "version_major": 2,
       "version_minor": 0
      },
      "text/plain": [
       "knn submodels:   0%|          | 0/3 [00:00<?, ?it/s]"
      ]
     },
     "metadata": {},
     "output_type": "display_data"
    },
    {
     "data": {
      "application/vnd.jupyter.widget-view+json": {
       "model_id": "2efdaac3d7d348fe9c3ab9df3c351ebc",
       "version_major": 2,
       "version_minor": 0
      },
      "text/plain": [
       "randomforest submodels:   0%|          | 0/3 [00:00<?, ?it/s]"
      ]
     },
     "metadata": {},
     "output_type": "display_data"
    },
    {
     "data": {
      "application/vnd.jupyter.widget-view+json": {
       "model_id": "5c50d5f6c93b4d9f89942247cf2e85c4",
       "version_major": 2,
       "version_minor": 0
      },
      "text/plain": [
       "decisiontree submodels:   0%|          | 0/3 [00:00<?, ?it/s]"
      ]
     },
     "metadata": {},
     "output_type": "display_data"
    },
    {
     "name": "stdout",
     "output_type": "stream",
     "text": [
      "word2vec_vs10_win3_sg1 done and updated json\n"
     ]
    },
    {
     "data": {
      "application/vnd.jupyter.widget-view+json": {
       "model_id": "0f722bad6e3f4247a5837a81c7947a1c",
       "version_major": 2,
       "version_minor": 0
      },
      "text/plain": [
       "Predictive Models for word2vec_vs20_win3_sg0:   0%|          | 0/5 [00:00<?, ?it/s]"
      ]
     },
     "metadata": {},
     "output_type": "display_data"
    },
    {
     "data": {
      "application/vnd.jupyter.widget-view+json": {
       "model_id": "d8685039d7e7455da533d77e84270ad7",
       "version_major": 2,
       "version_minor": 0
      },
      "text/plain": [
       "catboost submodels:   0%|          | 0/3 [00:00<?, ?it/s]"
      ]
     },
     "metadata": {},
     "output_type": "display_data"
    },
    {
     "data": {
      "application/vnd.jupyter.widget-view+json": {
       "model_id": "0b7858151f8e4912b0dc305eee7f49ae",
       "version_major": 2,
       "version_minor": 0
      },
      "text/plain": [
       "lightgbm submodels:   0%|          | 0/3 [00:00<?, ?it/s]"
      ]
     },
     "metadata": {},
     "output_type": "display_data"
    },
    {
     "data": {
      "application/vnd.jupyter.widget-view+json": {
       "model_id": "5c17976a0fd04c4bad11354c775ecd50",
       "version_major": 2,
       "version_minor": 0
      },
      "text/plain": [
       "knn submodels:   0%|          | 0/3 [00:00<?, ?it/s]"
      ]
     },
     "metadata": {},
     "output_type": "display_data"
    },
    {
     "data": {
      "application/vnd.jupyter.widget-view+json": {
       "model_id": "5152afe761964d4c8d8f6441c56f5c42",
       "version_major": 2,
       "version_minor": 0
      },
      "text/plain": [
       "randomforest submodels:   0%|          | 0/3 [00:00<?, ?it/s]"
      ]
     },
     "metadata": {},
     "output_type": "display_data"
    },
    {
     "data": {
      "application/vnd.jupyter.widget-view+json": {
       "model_id": "810ceabc38c04c79be075c8de15bba40",
       "version_major": 2,
       "version_minor": 0
      },
      "text/plain": [
       "decisiontree submodels:   0%|          | 0/3 [00:00<?, ?it/s]"
      ]
     },
     "metadata": {},
     "output_type": "display_data"
    },
    {
     "name": "stdout",
     "output_type": "stream",
     "text": [
      "word2vec_vs20_win3_sg0 done and updated json\n"
     ]
    },
    {
     "data": {
      "application/vnd.jupyter.widget-view+json": {
       "model_id": "3abe5d830b8d4f6ab62a43ce7a837b84",
       "version_major": 2,
       "version_minor": 0
      },
      "text/plain": [
       "Predictive Models for word2vec_vs20_win4_sg1:   0%|          | 0/5 [00:00<?, ?it/s]"
      ]
     },
     "metadata": {},
     "output_type": "display_data"
    },
    {
     "data": {
      "application/vnd.jupyter.widget-view+json": {
       "model_id": "efe3c71adf2e4ce191a16b479226860b",
       "version_major": 2,
       "version_minor": 0
      },
      "text/plain": [
       "catboost submodels:   0%|          | 0/3 [00:00<?, ?it/s]"
      ]
     },
     "metadata": {},
     "output_type": "display_data"
    },
    {
     "data": {
      "application/vnd.jupyter.widget-view+json": {
       "model_id": "1c8bdd2f6cc1450cbc9ccbda2bd82755",
       "version_major": 2,
       "version_minor": 0
      },
      "text/plain": [
       "lightgbm submodels:   0%|          | 0/3 [00:00<?, ?it/s]"
      ]
     },
     "metadata": {},
     "output_type": "display_data"
    },
    {
     "data": {
      "application/vnd.jupyter.widget-view+json": {
       "model_id": "56f741e39dd34950bd9c1cc0b1ab164b",
       "version_major": 2,
       "version_minor": 0
      },
      "text/plain": [
       "knn submodels:   0%|          | 0/3 [00:00<?, ?it/s]"
      ]
     },
     "metadata": {},
     "output_type": "display_data"
    },
    {
     "data": {
      "application/vnd.jupyter.widget-view+json": {
       "model_id": "843a8ef87aac4832998ce82d1f662a4e",
       "version_major": 2,
       "version_minor": 0
      },
      "text/plain": [
       "randomforest submodels:   0%|          | 0/3 [00:00<?, ?it/s]"
      ]
     },
     "metadata": {},
     "output_type": "display_data"
    },
    {
     "data": {
      "application/vnd.jupyter.widget-view+json": {
       "model_id": "3dfc9113611e41b588c43cbc00767d7c",
       "version_major": 2,
       "version_minor": 0
      },
      "text/plain": [
       "decisiontree submodels:   0%|          | 0/3 [00:00<?, ?it/s]"
      ]
     },
     "metadata": {},
     "output_type": "display_data"
    },
    {
     "name": "stdout",
     "output_type": "stream",
     "text": [
      "word2vec_vs20_win4_sg1 done and updated json\n"
     ]
    },
    {
     "data": {
      "application/vnd.jupyter.widget-view+json": {
       "model_id": "752b78147f89450085f796e95f722118",
       "version_major": 2,
       "version_minor": 0
      },
      "text/plain": [
       "Predictive Models for word2vec_vs20_win8_sg0:   0%|          | 0/5 [00:00<?, ?it/s]"
      ]
     },
     "metadata": {},
     "output_type": "display_data"
    },
    {
     "data": {
      "application/vnd.jupyter.widget-view+json": {
       "model_id": "2d2997c7d4344db6b9c25bf2ac5b4a90",
       "version_major": 2,
       "version_minor": 0
      },
      "text/plain": [
       "catboost submodels:   0%|          | 0/3 [00:00<?, ?it/s]"
      ]
     },
     "metadata": {},
     "output_type": "display_data"
    },
    {
     "data": {
      "application/vnd.jupyter.widget-view+json": {
       "model_id": "d550e5294719436fbc26d589af6618be",
       "version_major": 2,
       "version_minor": 0
      },
      "text/plain": [
       "lightgbm submodels:   0%|          | 0/3 [00:00<?, ?it/s]"
      ]
     },
     "metadata": {},
     "output_type": "display_data"
    },
    {
     "data": {
      "application/vnd.jupyter.widget-view+json": {
       "model_id": "c5b4fe3e8b694198bbf4edf1de4723bf",
       "version_major": 2,
       "version_minor": 0
      },
      "text/plain": [
       "knn submodels:   0%|          | 0/3 [00:00<?, ?it/s]"
      ]
     },
     "metadata": {},
     "output_type": "display_data"
    },
    {
     "data": {
      "application/vnd.jupyter.widget-view+json": {
       "model_id": "cf82f4b5759c42e4af2dda3bd9df35fb",
       "version_major": 2,
       "version_minor": 0
      },
      "text/plain": [
       "randomforest submodels:   0%|          | 0/3 [00:00<?, ?it/s]"
      ]
     },
     "metadata": {},
     "output_type": "display_data"
    },
    {
     "data": {
      "application/vnd.jupyter.widget-view+json": {
       "model_id": "97897d02663f4f788aecd13e5aebc4a8",
       "version_major": 2,
       "version_minor": 0
      },
      "text/plain": [
       "decisiontree submodels:   0%|          | 0/3 [00:00<?, ?it/s]"
      ]
     },
     "metadata": {},
     "output_type": "display_data"
    },
    {
     "name": "stdout",
     "output_type": "stream",
     "text": [
      "word2vec_vs20_win8_sg0 done and updated json\n"
     ]
    },
    {
     "data": {
      "application/vnd.jupyter.widget-view+json": {
       "model_id": "75d716fbcb3e42239dc9a0c16866b8ca",
       "version_major": 2,
       "version_minor": 0
      },
      "text/plain": [
       "Predictive Models for word2vec_vs20_win5_sg0:   0%|          | 0/5 [00:00<?, ?it/s]"
      ]
     },
     "metadata": {},
     "output_type": "display_data"
    },
    {
     "data": {
      "application/vnd.jupyter.widget-view+json": {
       "model_id": "f91c7f80de9245bb91913292f8bf0d79",
       "version_major": 2,
       "version_minor": 0
      },
      "text/plain": [
       "catboost submodels:   0%|          | 0/3 [00:00<?, ?it/s]"
      ]
     },
     "metadata": {},
     "output_type": "display_data"
    },
    {
     "data": {
      "application/vnd.jupyter.widget-view+json": {
       "model_id": "7646051d31b848ae984247d2b8f8ecb2",
       "version_major": 2,
       "version_minor": 0
      },
      "text/plain": [
       "lightgbm submodels:   0%|          | 0/3 [00:00<?, ?it/s]"
      ]
     },
     "metadata": {},
     "output_type": "display_data"
    },
    {
     "data": {
      "application/vnd.jupyter.widget-view+json": {
       "model_id": "8e60d1bd15e64ff0bd602b61f1873dbf",
       "version_major": 2,
       "version_minor": 0
      },
      "text/plain": [
       "knn submodels:   0%|          | 0/3 [00:00<?, ?it/s]"
      ]
     },
     "metadata": {},
     "output_type": "display_data"
    },
    {
     "data": {
      "application/vnd.jupyter.widget-view+json": {
       "model_id": "e1a9c0dd011d4b71a28c6585dd74dc26",
       "version_major": 2,
       "version_minor": 0
      },
      "text/plain": [
       "randomforest submodels:   0%|          | 0/3 [00:00<?, ?it/s]"
      ]
     },
     "metadata": {},
     "output_type": "display_data"
    },
    {
     "data": {
      "application/vnd.jupyter.widget-view+json": {
       "model_id": "0f88c269b38e4b709828fb8051fb313f",
       "version_major": 2,
       "version_minor": 0
      },
      "text/plain": [
       "decisiontree submodels:   0%|          | 0/3 [00:00<?, ?it/s]"
      ]
     },
     "metadata": {},
     "output_type": "display_data"
    },
    {
     "name": "stdout",
     "output_type": "stream",
     "text": [
      "word2vec_vs20_win5_sg0 done and updated json\n"
     ]
    },
    {
     "data": {
      "application/vnd.jupyter.widget-view+json": {
       "model_id": "e8ae128b262e44b3ab73750095877049",
       "version_major": 2,
       "version_minor": 0
      },
      "text/plain": [
       "Predictive Models for word2vec_vs20_win3_sg1:   0%|          | 0/5 [00:00<?, ?it/s]"
      ]
     },
     "metadata": {},
     "output_type": "display_data"
    },
    {
     "data": {
      "application/vnd.jupyter.widget-view+json": {
       "model_id": "782284eb2a39489a850b008667328ff5",
       "version_major": 2,
       "version_minor": 0
      },
      "text/plain": [
       "catboost submodels:   0%|          | 0/3 [00:00<?, ?it/s]"
      ]
     },
     "metadata": {},
     "output_type": "display_data"
    },
    {
     "data": {
      "application/vnd.jupyter.widget-view+json": {
       "model_id": "d95c6a4e34334b988ef855f1c82b3a68",
       "version_major": 2,
       "version_minor": 0
      },
      "text/plain": [
       "lightgbm submodels:   0%|          | 0/3 [00:00<?, ?it/s]"
      ]
     },
     "metadata": {},
     "output_type": "display_data"
    },
    {
     "data": {
      "application/vnd.jupyter.widget-view+json": {
       "model_id": "8cbb20146748498ab790db0b648b65d2",
       "version_major": 2,
       "version_minor": 0
      },
      "text/plain": [
       "knn submodels:   0%|          | 0/3 [00:00<?, ?it/s]"
      ]
     },
     "metadata": {},
     "output_type": "display_data"
    },
    {
     "data": {
      "application/vnd.jupyter.widget-view+json": {
       "model_id": "42436a20814b48ccb7eef9be504eaa99",
       "version_major": 2,
       "version_minor": 0
      },
      "text/plain": [
       "randomforest submodels:   0%|          | 0/3 [00:00<?, ?it/s]"
      ]
     },
     "metadata": {},
     "output_type": "display_data"
    },
    {
     "data": {
      "application/vnd.jupyter.widget-view+json": {
       "model_id": "25b4cb7054cf4ae59913939bc383b652",
       "version_major": 2,
       "version_minor": 0
      },
      "text/plain": [
       "decisiontree submodels:   0%|          | 0/3 [00:00<?, ?it/s]"
      ]
     },
     "metadata": {},
     "output_type": "display_data"
    },
    {
     "name": "stdout",
     "output_type": "stream",
     "text": [
      "word2vec_vs20_win3_sg1 done and updated json\n"
     ]
    },
    {
     "data": {
      "application/vnd.jupyter.widget-view+json": {
       "model_id": "f8bc2568772c4af882cfbd997d453e85",
       "version_major": 2,
       "version_minor": 0
      },
      "text/plain": [
       "Predictive Models for word2vec_vs20_win5_sg1:   0%|          | 0/5 [00:00<?, ?it/s]"
      ]
     },
     "metadata": {},
     "output_type": "display_data"
    },
    {
     "data": {
      "application/vnd.jupyter.widget-view+json": {
       "model_id": "fc8d72ac6fbf4a429630c92b8af5f801",
       "version_major": 2,
       "version_minor": 0
      },
      "text/plain": [
       "catboost submodels:   0%|          | 0/3 [00:00<?, ?it/s]"
      ]
     },
     "metadata": {},
     "output_type": "display_data"
    },
    {
     "data": {
      "application/vnd.jupyter.widget-view+json": {
       "model_id": "1fd59457f24a4542bb7670d27c142584",
       "version_major": 2,
       "version_minor": 0
      },
      "text/plain": [
       "lightgbm submodels:   0%|          | 0/3 [00:00<?, ?it/s]"
      ]
     },
     "metadata": {},
     "output_type": "display_data"
    },
    {
     "data": {
      "application/vnd.jupyter.widget-view+json": {
       "model_id": "2fa405badddd4f85ad73ad36a180ec07",
       "version_major": 2,
       "version_minor": 0
      },
      "text/plain": [
       "knn submodels:   0%|          | 0/3 [00:00<?, ?it/s]"
      ]
     },
     "metadata": {},
     "output_type": "display_data"
    },
    {
     "data": {
      "application/vnd.jupyter.widget-view+json": {
       "model_id": "f098901562b2424ead2ebe8917d96706",
       "version_major": 2,
       "version_minor": 0
      },
      "text/plain": [
       "randomforest submodels:   0%|          | 0/3 [00:00<?, ?it/s]"
      ]
     },
     "metadata": {},
     "output_type": "display_data"
    },
    {
     "data": {
      "application/vnd.jupyter.widget-view+json": {
       "model_id": "bc48ac08f12349f1b49294111beffbee",
       "version_major": 2,
       "version_minor": 0
      },
      "text/plain": [
       "decisiontree submodels:   0%|          | 0/3 [00:00<?, ?it/s]"
      ]
     },
     "metadata": {},
     "output_type": "display_data"
    },
    {
     "name": "stdout",
     "output_type": "stream",
     "text": [
      "word2vec_vs20_win5_sg1 done and updated json\n"
     ]
    },
    {
     "data": {
      "application/vnd.jupyter.widget-view+json": {
       "model_id": "93fc13ee3d174c04b7bac96d8533d54e",
       "version_major": 2,
       "version_minor": 0
      },
      "text/plain": [
       "Predictive Models for word2vec_vs20_win8_sg1:   0%|          | 0/5 [00:00<?, ?it/s]"
      ]
     },
     "metadata": {},
     "output_type": "display_data"
    },
    {
     "data": {
      "application/vnd.jupyter.widget-view+json": {
       "model_id": "14fd9ebfc819473d99f9a7d17d87c818",
       "version_major": 2,
       "version_minor": 0
      },
      "text/plain": [
       "catboost submodels:   0%|          | 0/3 [00:00<?, ?it/s]"
      ]
     },
     "metadata": {},
     "output_type": "display_data"
    },
    {
     "data": {
      "application/vnd.jupyter.widget-view+json": {
       "model_id": "5110316c7b8444c0b63fb29301d267e8",
       "version_major": 2,
       "version_minor": 0
      },
      "text/plain": [
       "lightgbm submodels:   0%|          | 0/3 [00:00<?, ?it/s]"
      ]
     },
     "metadata": {},
     "output_type": "display_data"
    },
    {
     "data": {
      "application/vnd.jupyter.widget-view+json": {
       "model_id": "e0e40f6d06804b31bfb2d9412184ee83",
       "version_major": 2,
       "version_minor": 0
      },
      "text/plain": [
       "knn submodels:   0%|          | 0/3 [00:00<?, ?it/s]"
      ]
     },
     "metadata": {},
     "output_type": "display_data"
    },
    {
     "data": {
      "application/vnd.jupyter.widget-view+json": {
       "model_id": "55a6b6e96d504d8f96b2afd6496bd1b7",
       "version_major": 2,
       "version_minor": 0
      },
      "text/plain": [
       "randomforest submodels:   0%|          | 0/3 [00:00<?, ?it/s]"
      ]
     },
     "metadata": {},
     "output_type": "display_data"
    },
    {
     "data": {
      "application/vnd.jupyter.widget-view+json": {
       "model_id": "b62a0d98a800417494dc5fe7ee3ef65f",
       "version_major": 2,
       "version_minor": 0
      },
      "text/plain": [
       "decisiontree submodels:   0%|          | 0/3 [00:00<?, ?it/s]"
      ]
     },
     "metadata": {},
     "output_type": "display_data"
    },
    {
     "name": "stdout",
     "output_type": "stream",
     "text": [
      "word2vec_vs20_win8_sg1 done and updated json\n"
     ]
    },
    {
     "data": {
      "application/vnd.jupyter.widget-view+json": {
       "model_id": "ec6b5fad4da2452088e5095d0dfb3e20",
       "version_major": 2,
       "version_minor": 0
      },
      "text/plain": [
       "Predictive Models for word2vec_vs20_win4_sg0:   0%|          | 0/5 [00:00<?, ?it/s]"
      ]
     },
     "metadata": {},
     "output_type": "display_data"
    },
    {
     "data": {
      "application/vnd.jupyter.widget-view+json": {
       "model_id": "0427126c307b4009833c0591102a1140",
       "version_major": 2,
       "version_minor": 0
      },
      "text/plain": [
       "catboost submodels:   0%|          | 0/3 [00:00<?, ?it/s]"
      ]
     },
     "metadata": {},
     "output_type": "display_data"
    },
    {
     "data": {
      "application/vnd.jupyter.widget-view+json": {
       "model_id": "5b493577517c4680ba6a75e37c6c73a8",
       "version_major": 2,
       "version_minor": 0
      },
      "text/plain": [
       "lightgbm submodels:   0%|          | 0/3 [00:00<?, ?it/s]"
      ]
     },
     "metadata": {},
     "output_type": "display_data"
    },
    {
     "data": {
      "application/vnd.jupyter.widget-view+json": {
       "model_id": "8dd4fb58118b467989ecd40a416a35f5",
       "version_major": 2,
       "version_minor": 0
      },
      "text/plain": [
       "knn submodels:   0%|          | 0/3 [00:00<?, ?it/s]"
      ]
     },
     "metadata": {},
     "output_type": "display_data"
    },
    {
     "data": {
      "application/vnd.jupyter.widget-view+json": {
       "model_id": "900332e505ed4528bc039efd923de1cb",
       "version_major": 2,
       "version_minor": 0
      },
      "text/plain": [
       "randomforest submodels:   0%|          | 0/3 [00:00<?, ?it/s]"
      ]
     },
     "metadata": {},
     "output_type": "display_data"
    },
    {
     "data": {
      "application/vnd.jupyter.widget-view+json": {
       "model_id": "bfc9b3a3d6f7459793a242a80254b098",
       "version_major": 2,
       "version_minor": 0
      },
      "text/plain": [
       "decisiontree submodels:   0%|          | 0/3 [00:00<?, ?it/s]"
      ]
     },
     "metadata": {},
     "output_type": "display_data"
    },
    {
     "name": "stdout",
     "output_type": "stream",
     "text": [
      "word2vec_vs20_win4_sg0 done and updated json\n"
     ]
    },
    {
     "data": {
      "application/vnd.jupyter.widget-view+json": {
       "model_id": "97be3d91cad2476daa26055cc67a2555",
       "version_major": 2,
       "version_minor": 0
      },
      "text/plain": [
       "Predictive Models for word2vec_vs20_win6_sg1:   0%|          | 0/5 [00:00<?, ?it/s]"
      ]
     },
     "metadata": {},
     "output_type": "display_data"
    },
    {
     "data": {
      "application/vnd.jupyter.widget-view+json": {
       "model_id": "30284a6344e548529cbb2e2184009219",
       "version_major": 2,
       "version_minor": 0
      },
      "text/plain": [
       "catboost submodels:   0%|          | 0/3 [00:00<?, ?it/s]"
      ]
     },
     "metadata": {},
     "output_type": "display_data"
    },
    {
     "data": {
      "application/vnd.jupyter.widget-view+json": {
       "model_id": "da4c4a49a04a4ad58959c874782ef4bc",
       "version_major": 2,
       "version_minor": 0
      },
      "text/plain": [
       "lightgbm submodels:   0%|          | 0/3 [00:00<?, ?it/s]"
      ]
     },
     "metadata": {},
     "output_type": "display_data"
    },
    {
     "data": {
      "application/vnd.jupyter.widget-view+json": {
       "model_id": "780ca4ea30f54dd5bf5c64f40a5c6819",
       "version_major": 2,
       "version_minor": 0
      },
      "text/plain": [
       "knn submodels:   0%|          | 0/3 [00:00<?, ?it/s]"
      ]
     },
     "metadata": {},
     "output_type": "display_data"
    },
    {
     "data": {
      "application/vnd.jupyter.widget-view+json": {
       "model_id": "98f636d7cba14884b405e46a1dbdc812",
       "version_major": 2,
       "version_minor": 0
      },
      "text/plain": [
       "randomforest submodels:   0%|          | 0/3 [00:00<?, ?it/s]"
      ]
     },
     "metadata": {},
     "output_type": "display_data"
    },
    {
     "data": {
      "application/vnd.jupyter.widget-view+json": {
       "model_id": "0898fe213e1c4f09a2baa82d5fdbb1fe",
       "version_major": 2,
       "version_minor": 0
      },
      "text/plain": [
       "decisiontree submodels:   0%|          | 0/3 [00:00<?, ?it/s]"
      ]
     },
     "metadata": {},
     "output_type": "display_data"
    },
    {
     "name": "stdout",
     "output_type": "stream",
     "text": [
      "word2vec_vs20_win6_sg1 done and updated json\n"
     ]
    },
    {
     "data": {
      "application/vnd.jupyter.widget-view+json": {
       "model_id": "b99a59ca1f7f4f23b35157782692b701",
       "version_major": 2,
       "version_minor": 0
      },
      "text/plain": [
       "Predictive Models for word2vec_vs20_win7_sg0:   0%|          | 0/5 [00:00<?, ?it/s]"
      ]
     },
     "metadata": {},
     "output_type": "display_data"
    },
    {
     "data": {
      "application/vnd.jupyter.widget-view+json": {
       "model_id": "826759e76b14448eb9dcc055867c8d37",
       "version_major": 2,
       "version_minor": 0
      },
      "text/plain": [
       "catboost submodels:   0%|          | 0/3 [00:00<?, ?it/s]"
      ]
     },
     "metadata": {},
     "output_type": "display_data"
    },
    {
     "data": {
      "application/vnd.jupyter.widget-view+json": {
       "model_id": "e08c2e70696941cba16a2e0b9a5d693f",
       "version_major": 2,
       "version_minor": 0
      },
      "text/plain": [
       "lightgbm submodels:   0%|          | 0/3 [00:00<?, ?it/s]"
      ]
     },
     "metadata": {},
     "output_type": "display_data"
    },
    {
     "data": {
      "application/vnd.jupyter.widget-view+json": {
       "model_id": "eb5668681b36448aa19b0194b8aa83ca",
       "version_major": 2,
       "version_minor": 0
      },
      "text/plain": [
       "knn submodels:   0%|          | 0/3 [00:00<?, ?it/s]"
      ]
     },
     "metadata": {},
     "output_type": "display_data"
    },
    {
     "data": {
      "application/vnd.jupyter.widget-view+json": {
       "model_id": "403d8aa25d5d4c64a01df7ebe4285258",
       "version_major": 2,
       "version_minor": 0
      },
      "text/plain": [
       "randomforest submodels:   0%|          | 0/3 [00:00<?, ?it/s]"
      ]
     },
     "metadata": {},
     "output_type": "display_data"
    },
    {
     "data": {
      "application/vnd.jupyter.widget-view+json": {
       "model_id": "6cae9fe73b2341b181279428e28eca0d",
       "version_major": 2,
       "version_minor": 0
      },
      "text/plain": [
       "decisiontree submodels:   0%|          | 0/3 [00:00<?, ?it/s]"
      ]
     },
     "metadata": {},
     "output_type": "display_data"
    },
    {
     "name": "stdout",
     "output_type": "stream",
     "text": [
      "word2vec_vs20_win7_sg0 done and updated json\n"
     ]
    },
    {
     "data": {
      "application/vnd.jupyter.widget-view+json": {
       "model_id": "ded551d17d8e484eb0733795e7e9bc9a",
       "version_major": 2,
       "version_minor": 0
      },
      "text/plain": [
       "Predictive Models for word2vec_vs20_win7_sg1:   0%|          | 0/5 [00:00<?, ?it/s]"
      ]
     },
     "metadata": {},
     "output_type": "display_data"
    },
    {
     "data": {
      "application/vnd.jupyter.widget-view+json": {
       "model_id": "72e7837aa41f48cdbc252125c311d5df",
       "version_major": 2,
       "version_minor": 0
      },
      "text/plain": [
       "catboost submodels:   0%|          | 0/3 [00:00<?, ?it/s]"
      ]
     },
     "metadata": {},
     "output_type": "display_data"
    },
    {
     "data": {
      "application/vnd.jupyter.widget-view+json": {
       "model_id": "421a30abee864513b57796f08bfb053f",
       "version_major": 2,
       "version_minor": 0
      },
      "text/plain": [
       "lightgbm submodels:   0%|          | 0/3 [00:00<?, ?it/s]"
      ]
     },
     "metadata": {},
     "output_type": "display_data"
    },
    {
     "data": {
      "application/vnd.jupyter.widget-view+json": {
       "model_id": "006e010b7c24459eb66647db0038f1aa",
       "version_major": 2,
       "version_minor": 0
      },
      "text/plain": [
       "knn submodels:   0%|          | 0/3 [00:00<?, ?it/s]"
      ]
     },
     "metadata": {},
     "output_type": "display_data"
    },
    {
     "data": {
      "application/vnd.jupyter.widget-view+json": {
       "model_id": "f03be11c0a6a4ceb85b647fc10237fad",
       "version_major": 2,
       "version_minor": 0
      },
      "text/plain": [
       "randomforest submodels:   0%|          | 0/3 [00:00<?, ?it/s]"
      ]
     },
     "metadata": {},
     "output_type": "display_data"
    },
    {
     "data": {
      "application/vnd.jupyter.widget-view+json": {
       "model_id": "ddce28e508854b5ca9c14fe662be724b",
       "version_major": 2,
       "version_minor": 0
      },
      "text/plain": [
       "decisiontree submodels:   0%|          | 0/3 [00:00<?, ?it/s]"
      ]
     },
     "metadata": {},
     "output_type": "display_data"
    },
    {
     "name": "stdout",
     "output_type": "stream",
     "text": [
      "word2vec_vs20_win7_sg1 done and updated json\n"
     ]
    },
    {
     "data": {
      "application/vnd.jupyter.widget-view+json": {
       "model_id": "7935bbf7e2a84e599217b28994c1b391",
       "version_major": 2,
       "version_minor": 0
      },
      "text/plain": [
       "Predictive Models for word2vec_vs20_win6_sg0:   0%|          | 0/5 [00:00<?, ?it/s]"
      ]
     },
     "metadata": {},
     "output_type": "display_data"
    },
    {
     "data": {
      "application/vnd.jupyter.widget-view+json": {
       "model_id": "4c711c3df2024a71b32dcf9135733ba4",
       "version_major": 2,
       "version_minor": 0
      },
      "text/plain": [
       "catboost submodels:   0%|          | 0/3 [00:00<?, ?it/s]"
      ]
     },
     "metadata": {},
     "output_type": "display_data"
    },
    {
     "data": {
      "application/vnd.jupyter.widget-view+json": {
       "model_id": "0dcdc5987cc349cb93c8c3ea88024ee3",
       "version_major": 2,
       "version_minor": 0
      },
      "text/plain": [
       "lightgbm submodels:   0%|          | 0/3 [00:00<?, ?it/s]"
      ]
     },
     "metadata": {},
     "output_type": "display_data"
    },
    {
     "data": {
      "application/vnd.jupyter.widget-view+json": {
       "model_id": "bca85cd5a4b94206833b939570641e98",
       "version_major": 2,
       "version_minor": 0
      },
      "text/plain": [
       "knn submodels:   0%|          | 0/3 [00:00<?, ?it/s]"
      ]
     },
     "metadata": {},
     "output_type": "display_data"
    },
    {
     "data": {
      "application/vnd.jupyter.widget-view+json": {
       "model_id": "a7a9c25e7a10488f99ca9974b10470e0",
       "version_major": 2,
       "version_minor": 0
      },
      "text/plain": [
       "randomforest submodels:   0%|          | 0/3 [00:00<?, ?it/s]"
      ]
     },
     "metadata": {},
     "output_type": "display_data"
    },
    {
     "data": {
      "application/vnd.jupyter.widget-view+json": {
       "model_id": "030ced4fdef648f3a81dfcf47a1b847a",
       "version_major": 2,
       "version_minor": 0
      },
      "text/plain": [
       "decisiontree submodels:   0%|          | 0/3 [00:00<?, ?it/s]"
      ]
     },
     "metadata": {},
     "output_type": "display_data"
    },
    {
     "name": "stdout",
     "output_type": "stream",
     "text": [
      "word2vec_vs20_win6_sg0 done and updated json\n"
     ]
    },
    {
     "data": {
      "application/vnd.jupyter.widget-view+json": {
       "model_id": "df170013dc7c4b74b1d9a241d15c2880",
       "version_major": 2,
       "version_minor": 0
      },
      "text/plain": [
       "Predictive Models for word2vec_vs50_win5_sg0:   0%|          | 0/5 [00:00<?, ?it/s]"
      ]
     },
     "metadata": {},
     "output_type": "display_data"
    },
    {
     "data": {
      "application/vnd.jupyter.widget-view+json": {
       "model_id": "4c773755906e43b7b6e75c66654af017",
       "version_major": 2,
       "version_minor": 0
      },
      "text/plain": [
       "catboost submodels:   0%|          | 0/3 [00:00<?, ?it/s]"
      ]
     },
     "metadata": {},
     "output_type": "display_data"
    },
    {
     "data": {
      "application/vnd.jupyter.widget-view+json": {
       "model_id": "afdd9e009ef847dfac3492be86dd5a09",
       "version_major": 2,
       "version_minor": 0
      },
      "text/plain": [
       "lightgbm submodels:   0%|          | 0/3 [00:00<?, ?it/s]"
      ]
     },
     "metadata": {},
     "output_type": "display_data"
    },
    {
     "data": {
      "application/vnd.jupyter.widget-view+json": {
       "model_id": "d03cf1b69fbb4778aeb6fdcc3441030a",
       "version_major": 2,
       "version_minor": 0
      },
      "text/plain": [
       "knn submodels:   0%|          | 0/3 [00:00<?, ?it/s]"
      ]
     },
     "metadata": {},
     "output_type": "display_data"
    },
    {
     "data": {
      "application/vnd.jupyter.widget-view+json": {
       "model_id": "184620b420ee408399853d79eb0afd20",
       "version_major": 2,
       "version_minor": 0
      },
      "text/plain": [
       "randomforest submodels:   0%|          | 0/3 [00:00<?, ?it/s]"
      ]
     },
     "metadata": {},
     "output_type": "display_data"
    },
    {
     "data": {
      "application/vnd.jupyter.widget-view+json": {
       "model_id": "983a8216c18b43fd84f556fa6dda91b6",
       "version_major": 2,
       "version_minor": 0
      },
      "text/plain": [
       "decisiontree submodels:   0%|          | 0/3 [00:00<?, ?it/s]"
      ]
     },
     "metadata": {},
     "output_type": "display_data"
    },
    {
     "name": "stdout",
     "output_type": "stream",
     "text": [
      "word2vec_vs50_win5_sg0 done and updated json\n"
     ]
    },
    {
     "data": {
      "application/vnd.jupyter.widget-view+json": {
       "model_id": "6f9bdd2730ab435c90316367bb160171",
       "version_major": 2,
       "version_minor": 0
      },
      "text/plain": [
       "Predictive Models for word2vec_vs50_win8_sg0:   0%|          | 0/5 [00:00<?, ?it/s]"
      ]
     },
     "metadata": {},
     "output_type": "display_data"
    },
    {
     "data": {
      "application/vnd.jupyter.widget-view+json": {
       "model_id": "f0813742708e41beb44eb8af4e257ebe",
       "version_major": 2,
       "version_minor": 0
      },
      "text/plain": [
       "catboost submodels:   0%|          | 0/3 [00:00<?, ?it/s]"
      ]
     },
     "metadata": {},
     "output_type": "display_data"
    },
    {
     "data": {
      "application/vnd.jupyter.widget-view+json": {
       "model_id": "dfc0337ebbb244fd802ffeb6f36b3eba",
       "version_major": 2,
       "version_minor": 0
      },
      "text/plain": [
       "lightgbm submodels:   0%|          | 0/3 [00:00<?, ?it/s]"
      ]
     },
     "metadata": {},
     "output_type": "display_data"
    },
    {
     "data": {
      "application/vnd.jupyter.widget-view+json": {
       "model_id": "4092f827382646cd8169b3e32e768e2b",
       "version_major": 2,
       "version_minor": 0
      },
      "text/plain": [
       "knn submodels:   0%|          | 0/3 [00:00<?, ?it/s]"
      ]
     },
     "metadata": {},
     "output_type": "display_data"
    },
    {
     "data": {
      "application/vnd.jupyter.widget-view+json": {
       "model_id": "8166a5bfa0b64abea7503ec7422856f8",
       "version_major": 2,
       "version_minor": 0
      },
      "text/plain": [
       "randomforest submodels:   0%|          | 0/3 [00:00<?, ?it/s]"
      ]
     },
     "metadata": {},
     "output_type": "display_data"
    },
    {
     "data": {
      "application/vnd.jupyter.widget-view+json": {
       "model_id": "170d1ce3de5e433ca56b7a61b4c791a2",
       "version_major": 2,
       "version_minor": 0
      },
      "text/plain": [
       "decisiontree submodels:   0%|          | 0/3 [00:00<?, ?it/s]"
      ]
     },
     "metadata": {},
     "output_type": "display_data"
    },
    {
     "name": "stdout",
     "output_type": "stream",
     "text": [
      "word2vec_vs50_win8_sg0 done and updated json\n"
     ]
    },
    {
     "data": {
      "application/vnd.jupyter.widget-view+json": {
       "model_id": "9d15d537beed406bb40f4d85da76ff7f",
       "version_major": 2,
       "version_minor": 0
      },
      "text/plain": [
       "Predictive Models for word2vec_vs50_win4_sg1:   0%|          | 0/5 [00:00<?, ?it/s]"
      ]
     },
     "metadata": {},
     "output_type": "display_data"
    },
    {
     "data": {
      "application/vnd.jupyter.widget-view+json": {
       "model_id": "1a079955501e4569968182b37e50ab1b",
       "version_major": 2,
       "version_minor": 0
      },
      "text/plain": [
       "catboost submodels:   0%|          | 0/3 [00:00<?, ?it/s]"
      ]
     },
     "metadata": {},
     "output_type": "display_data"
    },
    {
     "data": {
      "application/vnd.jupyter.widget-view+json": {
       "model_id": "5aa64a52ae444faeaf362464f1fea202",
       "version_major": 2,
       "version_minor": 0
      },
      "text/plain": [
       "lightgbm submodels:   0%|          | 0/3 [00:00<?, ?it/s]"
      ]
     },
     "metadata": {},
     "output_type": "display_data"
    },
    {
     "data": {
      "application/vnd.jupyter.widget-view+json": {
       "model_id": "2a6df952f87343ceb57d82c6997b3c9f",
       "version_major": 2,
       "version_minor": 0
      },
      "text/plain": [
       "knn submodels:   0%|          | 0/3 [00:00<?, ?it/s]"
      ]
     },
     "metadata": {},
     "output_type": "display_data"
    },
    {
     "data": {
      "application/vnd.jupyter.widget-view+json": {
       "model_id": "8402f6fbc7a54444af8fe72185f42151",
       "version_major": 2,
       "version_minor": 0
      },
      "text/plain": [
       "randomforest submodels:   0%|          | 0/3 [00:00<?, ?it/s]"
      ]
     },
     "metadata": {},
     "output_type": "display_data"
    },
    {
     "data": {
      "application/vnd.jupyter.widget-view+json": {
       "model_id": "9d8134a21f1b41c284bb20d1e08ef543",
       "version_major": 2,
       "version_minor": 0
      },
      "text/plain": [
       "decisiontree submodels:   0%|          | 0/3 [00:00<?, ?it/s]"
      ]
     },
     "metadata": {},
     "output_type": "display_data"
    },
    {
     "name": "stdout",
     "output_type": "stream",
     "text": [
      "word2vec_vs50_win4_sg1 done and updated json\n"
     ]
    },
    {
     "data": {
      "application/vnd.jupyter.widget-view+json": {
       "model_id": "33a7450e6dd046b39e214049488c9523",
       "version_major": 2,
       "version_minor": 0
      },
      "text/plain": [
       "Predictive Models for word2vec_vs50_win3_sg0:   0%|          | 0/5 [00:00<?, ?it/s]"
      ]
     },
     "metadata": {},
     "output_type": "display_data"
    },
    {
     "data": {
      "application/vnd.jupyter.widget-view+json": {
       "model_id": "300e31f4ec9f4f70b9ad52ce438c9e6a",
       "version_major": 2,
       "version_minor": 0
      },
      "text/plain": [
       "catboost submodels:   0%|          | 0/3 [00:00<?, ?it/s]"
      ]
     },
     "metadata": {},
     "output_type": "display_data"
    },
    {
     "data": {
      "application/vnd.jupyter.widget-view+json": {
       "model_id": "cba046190e6d471b88fdbdc73bef1a4a",
       "version_major": 2,
       "version_minor": 0
      },
      "text/plain": [
       "lightgbm submodels:   0%|          | 0/3 [00:00<?, ?it/s]"
      ]
     },
     "metadata": {},
     "output_type": "display_data"
    },
    {
     "data": {
      "application/vnd.jupyter.widget-view+json": {
       "model_id": "2294620087df4ddbbd764cc4f225e154",
       "version_major": 2,
       "version_minor": 0
      },
      "text/plain": [
       "knn submodels:   0%|          | 0/3 [00:00<?, ?it/s]"
      ]
     },
     "metadata": {},
     "output_type": "display_data"
    },
    {
     "data": {
      "application/vnd.jupyter.widget-view+json": {
       "model_id": "ba83d83120694eab888905becd9df781",
       "version_major": 2,
       "version_minor": 0
      },
      "text/plain": [
       "randomforest submodels:   0%|          | 0/3 [00:00<?, ?it/s]"
      ]
     },
     "metadata": {},
     "output_type": "display_data"
    },
    {
     "data": {
      "application/vnd.jupyter.widget-view+json": {
       "model_id": "35e6d6d0714a4f518b77ddac0f835c3e",
       "version_major": 2,
       "version_minor": 0
      },
      "text/plain": [
       "decisiontree submodels:   0%|          | 0/3 [00:00<?, ?it/s]"
      ]
     },
     "metadata": {},
     "output_type": "display_data"
    },
    {
     "name": "stdout",
     "output_type": "stream",
     "text": [
      "word2vec_vs50_win3_sg0 done and updated json\n"
     ]
    },
    {
     "data": {
      "application/vnd.jupyter.widget-view+json": {
       "model_id": "73e94d6fc7004f9ca501d45719664032",
       "version_major": 2,
       "version_minor": 0
      },
      "text/plain": [
       "Predictive Models for word2vec_vs50_win4_sg0:   0%|          | 0/5 [00:00<?, ?it/s]"
      ]
     },
     "metadata": {},
     "output_type": "display_data"
    },
    {
     "data": {
      "application/vnd.jupyter.widget-view+json": {
       "model_id": "c2603b33cc6847b989e1f61ab683f088",
       "version_major": 2,
       "version_minor": 0
      },
      "text/plain": [
       "catboost submodels:   0%|          | 0/3 [00:00<?, ?it/s]"
      ]
     },
     "metadata": {},
     "output_type": "display_data"
    },
    {
     "data": {
      "application/vnd.jupyter.widget-view+json": {
       "model_id": "ae80e30139784e9b8e1c67712cc0222f",
       "version_major": 2,
       "version_minor": 0
      },
      "text/plain": [
       "lightgbm submodels:   0%|          | 0/3 [00:00<?, ?it/s]"
      ]
     },
     "metadata": {},
     "output_type": "display_data"
    },
    {
     "data": {
      "application/vnd.jupyter.widget-view+json": {
       "model_id": "2d6d60cc594a462d8455a364e3f284d1",
       "version_major": 2,
       "version_minor": 0
      },
      "text/plain": [
       "knn submodels:   0%|          | 0/3 [00:00<?, ?it/s]"
      ]
     },
     "metadata": {},
     "output_type": "display_data"
    },
    {
     "data": {
      "application/vnd.jupyter.widget-view+json": {
       "model_id": "748c7b60af8e406ea8ffd9354814c98b",
       "version_major": 2,
       "version_minor": 0
      },
      "text/plain": [
       "randomforest submodels:   0%|          | 0/3 [00:00<?, ?it/s]"
      ]
     },
     "metadata": {},
     "output_type": "display_data"
    },
    {
     "data": {
      "application/vnd.jupyter.widget-view+json": {
       "model_id": "77e0977435a543f4bddb904b9c4ef73a",
       "version_major": 2,
       "version_minor": 0
      },
      "text/plain": [
       "decisiontree submodels:   0%|          | 0/3 [00:00<?, ?it/s]"
      ]
     },
     "metadata": {},
     "output_type": "display_data"
    },
    {
     "name": "stdout",
     "output_type": "stream",
     "text": [
      "word2vec_vs50_win4_sg0 done and updated json\n"
     ]
    },
    {
     "data": {
      "application/vnd.jupyter.widget-view+json": {
       "model_id": "deca70930a9f4a20af9db1d22d8759d8",
       "version_major": 2,
       "version_minor": 0
      },
      "text/plain": [
       "Predictive Models for word2vec_vs50_win8_sg1:   0%|          | 0/5 [00:00<?, ?it/s]"
      ]
     },
     "metadata": {},
     "output_type": "display_data"
    },
    {
     "data": {
      "application/vnd.jupyter.widget-view+json": {
       "model_id": "87ff5c821e0e42bb84053155c3c2b135",
       "version_major": 2,
       "version_minor": 0
      },
      "text/plain": [
       "catboost submodels:   0%|          | 0/3 [00:00<?, ?it/s]"
      ]
     },
     "metadata": {},
     "output_type": "display_data"
    },
    {
     "data": {
      "application/vnd.jupyter.widget-view+json": {
       "model_id": "f9f49e1cf25040b991fc6db20326c382",
       "version_major": 2,
       "version_minor": 0
      },
      "text/plain": [
       "lightgbm submodels:   0%|          | 0/3 [00:00<?, ?it/s]"
      ]
     },
     "metadata": {},
     "output_type": "display_data"
    },
    {
     "data": {
      "application/vnd.jupyter.widget-view+json": {
       "model_id": "f521efed4ccd4674a226f9c2843e66bb",
       "version_major": 2,
       "version_minor": 0
      },
      "text/plain": [
       "knn submodels:   0%|          | 0/3 [00:00<?, ?it/s]"
      ]
     },
     "metadata": {},
     "output_type": "display_data"
    },
    {
     "data": {
      "application/vnd.jupyter.widget-view+json": {
       "model_id": "a9e7b077c4644dea92cdf13cf14b5e69",
       "version_major": 2,
       "version_minor": 0
      },
      "text/plain": [
       "randomforest submodels:   0%|          | 0/3 [00:00<?, ?it/s]"
      ]
     },
     "metadata": {},
     "output_type": "display_data"
    },
    {
     "data": {
      "application/vnd.jupyter.widget-view+json": {
       "model_id": "a935ffad867f4a4397ba86d316ecbf83",
       "version_major": 2,
       "version_minor": 0
      },
      "text/plain": [
       "decisiontree submodels:   0%|          | 0/3 [00:00<?, ?it/s]"
      ]
     },
     "metadata": {},
     "output_type": "display_data"
    },
    {
     "name": "stdout",
     "output_type": "stream",
     "text": [
      "word2vec_vs50_win8_sg1 done and updated json\n"
     ]
    },
    {
     "data": {
      "application/vnd.jupyter.widget-view+json": {
       "model_id": "adccc720ae43465da59456518f68e809",
       "version_major": 2,
       "version_minor": 0
      },
      "text/plain": [
       "Predictive Models for word2vec_vs50_win5_sg1:   0%|          | 0/5 [00:00<?, ?it/s]"
      ]
     },
     "metadata": {},
     "output_type": "display_data"
    },
    {
     "data": {
      "application/vnd.jupyter.widget-view+json": {
       "model_id": "372f7fdfe6914165b2f3a32bf9da1f51",
       "version_major": 2,
       "version_minor": 0
      },
      "text/plain": [
       "catboost submodels:   0%|          | 0/3 [00:00<?, ?it/s]"
      ]
     },
     "metadata": {},
     "output_type": "display_data"
    },
    {
     "data": {
      "application/vnd.jupyter.widget-view+json": {
       "model_id": "420078fe04a24ee48e2f7c3b030e7a81",
       "version_major": 2,
       "version_minor": 0
      },
      "text/plain": [
       "lightgbm submodels:   0%|          | 0/3 [00:00<?, ?it/s]"
      ]
     },
     "metadata": {},
     "output_type": "display_data"
    },
    {
     "data": {
      "application/vnd.jupyter.widget-view+json": {
       "model_id": "2b5d50b3ca114cbeb7890d1e3805562a",
       "version_major": 2,
       "version_minor": 0
      },
      "text/plain": [
       "knn submodels:   0%|          | 0/3 [00:00<?, ?it/s]"
      ]
     },
     "metadata": {},
     "output_type": "display_data"
    },
    {
     "data": {
      "application/vnd.jupyter.widget-view+json": {
       "model_id": "d885a3474ba2439faafa6b1428ef5a0d",
       "version_major": 2,
       "version_minor": 0
      },
      "text/plain": [
       "randomforest submodels:   0%|          | 0/3 [00:00<?, ?it/s]"
      ]
     },
     "metadata": {},
     "output_type": "display_data"
    },
    {
     "data": {
      "application/vnd.jupyter.widget-view+json": {
       "model_id": "06db602492564c0b84c6a854eac9578a",
       "version_major": 2,
       "version_minor": 0
      },
      "text/plain": [
       "decisiontree submodels:   0%|          | 0/3 [00:00<?, ?it/s]"
      ]
     },
     "metadata": {},
     "output_type": "display_data"
    },
    {
     "name": "stdout",
     "output_type": "stream",
     "text": [
      "word2vec_vs50_win5_sg1 done and updated json\n"
     ]
    },
    {
     "data": {
      "application/vnd.jupyter.widget-view+json": {
       "model_id": "33218f73ea324e9181a944ee3628ee76",
       "version_major": 2,
       "version_minor": 0
      },
      "text/plain": [
       "Predictive Models for word2vec_vs50_win3_sg1:   0%|          | 0/5 [00:00<?, ?it/s]"
      ]
     },
     "metadata": {},
     "output_type": "display_data"
    },
    {
     "data": {
      "application/vnd.jupyter.widget-view+json": {
       "model_id": "979bb384c3324ca2a090602e751a8284",
       "version_major": 2,
       "version_minor": 0
      },
      "text/plain": [
       "catboost submodels:   0%|          | 0/3 [00:00<?, ?it/s]"
      ]
     },
     "metadata": {},
     "output_type": "display_data"
    },
    {
     "data": {
      "application/vnd.jupyter.widget-view+json": {
       "model_id": "fcb3dc32709f40bda803b0ee019cb971",
       "version_major": 2,
       "version_minor": 0
      },
      "text/plain": [
       "lightgbm submodels:   0%|          | 0/3 [00:00<?, ?it/s]"
      ]
     },
     "metadata": {},
     "output_type": "display_data"
    },
    {
     "data": {
      "application/vnd.jupyter.widget-view+json": {
       "model_id": "536e5877e53c4fc0a8b318b925c0edf9",
       "version_major": 2,
       "version_minor": 0
      },
      "text/plain": [
       "knn submodels:   0%|          | 0/3 [00:00<?, ?it/s]"
      ]
     },
     "metadata": {},
     "output_type": "display_data"
    },
    {
     "data": {
      "application/vnd.jupyter.widget-view+json": {
       "model_id": "90d2d1a945ed49dcaaa27f083faa9efb",
       "version_major": 2,
       "version_minor": 0
      },
      "text/plain": [
       "randomforest submodels:   0%|          | 0/3 [00:00<?, ?it/s]"
      ]
     },
     "metadata": {},
     "output_type": "display_data"
    },
    {
     "data": {
      "application/vnd.jupyter.widget-view+json": {
       "model_id": "b4243786bc1f4ed181ff5ea94902a2cb",
       "version_major": 2,
       "version_minor": 0
      },
      "text/plain": [
       "decisiontree submodels:   0%|          | 0/3 [00:00<?, ?it/s]"
      ]
     },
     "metadata": {},
     "output_type": "display_data"
    },
    {
     "name": "stdout",
     "output_type": "stream",
     "text": [
      "word2vec_vs50_win3_sg1 done and updated json\n"
     ]
    },
    {
     "data": {
      "application/vnd.jupyter.widget-view+json": {
       "model_id": "114aff04762e4579ab49464bf03944a8",
       "version_major": 2,
       "version_minor": 0
      },
      "text/plain": [
       "Predictive Models for word2vec_vs50_win7_sg0:   0%|          | 0/5 [00:00<?, ?it/s]"
      ]
     },
     "metadata": {},
     "output_type": "display_data"
    },
    {
     "data": {
      "application/vnd.jupyter.widget-view+json": {
       "model_id": "6fe74d5d5ab2474bb24cfd584b77bdb6",
       "version_major": 2,
       "version_minor": 0
      },
      "text/plain": [
       "catboost submodels:   0%|          | 0/3 [00:00<?, ?it/s]"
      ]
     },
     "metadata": {},
     "output_type": "display_data"
    },
    {
     "data": {
      "application/vnd.jupyter.widget-view+json": {
       "model_id": "dece6d6f9fe2411e82b61b1a1910b476",
       "version_major": 2,
       "version_minor": 0
      },
      "text/plain": [
       "lightgbm submodels:   0%|          | 0/3 [00:00<?, ?it/s]"
      ]
     },
     "metadata": {},
     "output_type": "display_data"
    },
    {
     "data": {
      "application/vnd.jupyter.widget-view+json": {
       "model_id": "03f76c2d2170407dbbe751305bafd8f2",
       "version_major": 2,
       "version_minor": 0
      },
      "text/plain": [
       "knn submodels:   0%|          | 0/3 [00:00<?, ?it/s]"
      ]
     },
     "metadata": {},
     "output_type": "display_data"
    },
    {
     "data": {
      "application/vnd.jupyter.widget-view+json": {
       "model_id": "8b29fcaffb15449eb28335da430ab302",
       "version_major": 2,
       "version_minor": 0
      },
      "text/plain": [
       "randomforest submodels:   0%|          | 0/3 [00:00<?, ?it/s]"
      ]
     },
     "metadata": {},
     "output_type": "display_data"
    },
    {
     "data": {
      "application/vnd.jupyter.widget-view+json": {
       "model_id": "f53998ebc1c1472f898323a548aff4db",
       "version_major": 2,
       "version_minor": 0
      },
      "text/plain": [
       "decisiontree submodels:   0%|          | 0/3 [00:00<?, ?it/s]"
      ]
     },
     "metadata": {},
     "output_type": "display_data"
    },
    {
     "name": "stdout",
     "output_type": "stream",
     "text": [
      "word2vec_vs50_win7_sg0 done and updated json\n"
     ]
    },
    {
     "data": {
      "application/vnd.jupyter.widget-view+json": {
       "model_id": "53ed5b20214e452491734aee607e0019",
       "version_major": 2,
       "version_minor": 0
      },
      "text/plain": [
       "Predictive Models for word2vec_vs50_win6_sg1:   0%|          | 0/5 [00:00<?, ?it/s]"
      ]
     },
     "metadata": {},
     "output_type": "display_data"
    },
    {
     "data": {
      "application/vnd.jupyter.widget-view+json": {
       "model_id": "fc07f43acc274f1ca2196c74d243481b",
       "version_major": 2,
       "version_minor": 0
      },
      "text/plain": [
       "catboost submodels:   0%|          | 0/3 [00:00<?, ?it/s]"
      ]
     },
     "metadata": {},
     "output_type": "display_data"
    },
    {
     "data": {
      "application/vnd.jupyter.widget-view+json": {
       "model_id": "203a783ce91d445393fdea279c6cec72",
       "version_major": 2,
       "version_minor": 0
      },
      "text/plain": [
       "lightgbm submodels:   0%|          | 0/3 [00:00<?, ?it/s]"
      ]
     },
     "metadata": {},
     "output_type": "display_data"
    },
    {
     "data": {
      "application/vnd.jupyter.widget-view+json": {
       "model_id": "d32e293f616541869e8c1b353ad3b753",
       "version_major": 2,
       "version_minor": 0
      },
      "text/plain": [
       "knn submodels:   0%|          | 0/3 [00:00<?, ?it/s]"
      ]
     },
     "metadata": {},
     "output_type": "display_data"
    },
    {
     "data": {
      "application/vnd.jupyter.widget-view+json": {
       "model_id": "59dec53b67b54f67a70816947c2183f4",
       "version_major": 2,
       "version_minor": 0
      },
      "text/plain": [
       "randomforest submodels:   0%|          | 0/3 [00:00<?, ?it/s]"
      ]
     },
     "metadata": {},
     "output_type": "display_data"
    },
    {
     "data": {
      "application/vnd.jupyter.widget-view+json": {
       "model_id": "65ef70542a7745fb9b9b038a280644cf",
       "version_major": 2,
       "version_minor": 0
      },
      "text/plain": [
       "decisiontree submodels:   0%|          | 0/3 [00:00<?, ?it/s]"
      ]
     },
     "metadata": {},
     "output_type": "display_data"
    },
    {
     "name": "stdout",
     "output_type": "stream",
     "text": [
      "word2vec_vs50_win6_sg1 done and updated json\n"
     ]
    },
    {
     "data": {
      "application/vnd.jupyter.widget-view+json": {
       "model_id": "5996fd7067d348c58af964ab78594244",
       "version_major": 2,
       "version_minor": 0
      },
      "text/plain": [
       "Predictive Models for word2vec_vs50_win6_sg0:   0%|          | 0/5 [00:00<?, ?it/s]"
      ]
     },
     "metadata": {},
     "output_type": "display_data"
    },
    {
     "data": {
      "application/vnd.jupyter.widget-view+json": {
       "model_id": "e4d1bd74365f43e3862896e45c4302dc",
       "version_major": 2,
       "version_minor": 0
      },
      "text/plain": [
       "catboost submodels:   0%|          | 0/3 [00:00<?, ?it/s]"
      ]
     },
     "metadata": {},
     "output_type": "display_data"
    },
    {
     "data": {
      "application/vnd.jupyter.widget-view+json": {
       "model_id": "83a42935e2ee4d539d36b2a32f2498b7",
       "version_major": 2,
       "version_minor": 0
      },
      "text/plain": [
       "lightgbm submodels:   0%|          | 0/3 [00:00<?, ?it/s]"
      ]
     },
     "metadata": {},
     "output_type": "display_data"
    },
    {
     "data": {
      "application/vnd.jupyter.widget-view+json": {
       "model_id": "4289b2098d494fc7995c6ec0e64dee65",
       "version_major": 2,
       "version_minor": 0
      },
      "text/plain": [
       "knn submodels:   0%|          | 0/3 [00:00<?, ?it/s]"
      ]
     },
     "metadata": {},
     "output_type": "display_data"
    },
    {
     "data": {
      "application/vnd.jupyter.widget-view+json": {
       "model_id": "8cfa6a355cf643dfa22aba682dcaf283",
       "version_major": 2,
       "version_minor": 0
      },
      "text/plain": [
       "randomforest submodels:   0%|          | 0/3 [00:00<?, ?it/s]"
      ]
     },
     "metadata": {},
     "output_type": "display_data"
    },
    {
     "data": {
      "application/vnd.jupyter.widget-view+json": {
       "model_id": "62fe08e5b3944b12975115c2c845dc00",
       "version_major": 2,
       "version_minor": 0
      },
      "text/plain": [
       "decisiontree submodels:   0%|          | 0/3 [00:00<?, ?it/s]"
      ]
     },
     "metadata": {},
     "output_type": "display_data"
    },
    {
     "name": "stdout",
     "output_type": "stream",
     "text": [
      "word2vec_vs50_win6_sg0 done and updated json\n"
     ]
    },
    {
     "data": {
      "application/vnd.jupyter.widget-view+json": {
       "model_id": "b6daf76a86ff4f4787bd3a9cb3063c05",
       "version_major": 2,
       "version_minor": 0
      },
      "text/plain": [
       "Predictive Models for word2vec_vs50_win7_sg1:   0%|          | 0/5 [00:00<?, ?it/s]"
      ]
     },
     "metadata": {},
     "output_type": "display_data"
    },
    {
     "data": {
      "application/vnd.jupyter.widget-view+json": {
       "model_id": "dfe5dca17f3a4856a7a56eb80fc0c000",
       "version_major": 2,
       "version_minor": 0
      },
      "text/plain": [
       "catboost submodels:   0%|          | 0/3 [00:00<?, ?it/s]"
      ]
     },
     "metadata": {},
     "output_type": "display_data"
    },
    {
     "data": {
      "application/vnd.jupyter.widget-view+json": {
       "model_id": "44d7676bf5ec4164b50086430d466e0c",
       "version_major": 2,
       "version_minor": 0
      },
      "text/plain": [
       "lightgbm submodels:   0%|          | 0/3 [00:00<?, ?it/s]"
      ]
     },
     "metadata": {},
     "output_type": "display_data"
    },
    {
     "data": {
      "application/vnd.jupyter.widget-view+json": {
       "model_id": "d48fc2da52754bb4b8ee4f2fd79f31fa",
       "version_major": 2,
       "version_minor": 0
      },
      "text/plain": [
       "knn submodels:   0%|          | 0/3 [00:00<?, ?it/s]"
      ]
     },
     "metadata": {},
     "output_type": "display_data"
    },
    {
     "data": {
      "application/vnd.jupyter.widget-view+json": {
       "model_id": "7d4a130f3a124ab5962f3f34b070c3f3",
       "version_major": 2,
       "version_minor": 0
      },
      "text/plain": [
       "randomforest submodels:   0%|          | 0/3 [00:00<?, ?it/s]"
      ]
     },
     "metadata": {},
     "output_type": "display_data"
    },
    {
     "data": {
      "application/vnd.jupyter.widget-view+json": {
       "model_id": "760051ba747b4dcb83aeec67b6e284a8",
       "version_major": 2,
       "version_minor": 0
      },
      "text/plain": [
       "decisiontree submodels:   0%|          | 0/3 [00:00<?, ?it/s]"
      ]
     },
     "metadata": {},
     "output_type": "display_data"
    },
    {
     "name": "stdout",
     "output_type": "stream",
     "text": [
      "word2vec_vs50_win7_sg1 done and updated json\n"
     ]
    }
   ],
   "source": [
    "import copy as cp\n",
    "from tqdm.auto import tqdm\n",
    "# iterate over files in word2vec_models folder\n",
    "for file in tqdm(files):\n",
    "    # check if file is a .model file\n",
    "    if file.endswith('.model'):\n",
    "        df_temp = cp.deepcopy(df)\n",
    "        # load model\n",
    "        # path to model\n",
    "        model_path = os.path.join('../../all_datasets/word2vec_models', file)\n",
    "\n",
    "        properties = file.split('_')\n",
    "        # print(properties)\n",
    "\n",
    "        vector_size = int(properties[1][2:])\n",
    "        window_size = int(properties[2][3:])\n",
    "        is_skipgram = bool(int(properties[3][2:-6]))\n",
    "\n",
    "        settings = {\n",
    "            'model_path': model_path,\n",
    "            'is_skipgram' : is_skipgram,\n",
    "            'window_size' : window_size,\n",
    "            'vector_size' : vector_size, \n",
    "\n",
    "        }\n",
    "        # print(settings)\n",
    "\n",
    "        model_w2v = Word2VecModel(settings)\n",
    "        # get model name\n",
    "        model_name = file.split('.')[0]\n",
    "\n",
    "        title_vectors = [get_word_vectors(model_w2v, title, aggregation='mean') for title in df_temp['title']]\n",
    "        df_temp['title_vector'] = title_vectors\n",
    "\n",
    "        train = df_temp['sample'] == 'train'\n",
    "        test = df_temp['sample'] == 'val1'\n",
    "\n",
    "        # X = np.vstack(title_vectors)\n",
    "        # y = df['is_clickbait'].values\n",
    "\n",
    "        X_train = np.vstack(df_temp[train]['title_vector'])\n",
    "        y_train = df_temp[train]['is_clickbait'].values\n",
    "\n",
    "        X_test = np.vstack(df_temp[test]['title_vector'])\n",
    "        y_test = df_temp[test]['is_clickbait'].values\n",
    "   \n",
    "\n",
    "        # scale data\n",
    "        scaler = StandardScaler()\n",
    "        X_train_scaled = scaler.fit_transform(X_train)\n",
    "        X_test_scaled = scaler.transform(X_test)\n",
    "\n",
    "        # train models\n",
    "        models = {\n",
    "            'catboost': [\n",
    "                CatBoostClassifier(verbose=False, random_state=1, ),\n",
    "                CatBoostClassifier(verbose=False, random_state=2, ),\n",
    "                CatBoostClassifier(verbose=False, random_state=3, ),\n",
    "             \n",
    "            ],\n",
    "\n",
    "            'lightgbm': [\n",
    "                LGBMClassifier(random_state=1, verbose=-1),\n",
    "                LGBMClassifier(random_state=2, verbose=-1),\n",
    "                LGBMClassifier(random_state=3 ,verbose=-1),\n",
    "            \n",
    "            ],\n",
    "            \n",
    "            'knn' : [\n",
    "                KNeighborsClassifier(n_neighbors=3),\n",
    "                KNeighborsClassifier(n_neighbors=7),\n",
    "                KNeighborsClassifier(n_neighbors=5),\n",
    "               \n",
    "            ],\n",
    "\n",
    "            'randomforest': [\n",
    "                RandomForestClassifier(random_state=1,),\n",
    "                RandomForestClassifier(random_state=2, ),\n",
    "                RandomForestClassifier(random_state=3, ),\n",
    "        \n",
    "\n",
    "            ],\n",
    "\n",
    "            'decisiontree': [\n",
    "                DecisionTreeClassifier(random_state=1, ),\n",
    "                DecisionTreeClassifier(random_state=2, ),\n",
    "                DecisionTreeClassifier(random_state=3, ),\n",
    "               \n",
    "            ],\n",
    "        }\n",
    "\n",
    "\n",
    "        results = {}\n",
    "\n",
    "        for model_type in tqdm(models, desc=f'Predictive Models for {model_name}'):\n",
    "            f1_temp = list()\n",
    "            auc_temp = list()\n",
    "            # print(model_type)\n",
    "            for submodel in tqdm(models[model_type], desc=f'{model_type} submodels'):\n",
    "                submodel.fit(X_train_scaled, y_train)\n",
    "                y_pred = submodel.predict(X_test_scaled)\n",
    "                f1 = f1_score(y_test, y_pred)\n",
    "                auc = roc_auc_score(y_test, y_pred)\n",
    "                f1_temp.append(f1)\n",
    "                auc_temp.append(auc)\n",
    "                \n",
    "            results[model_type] = {\n",
    "                'f1': np.mean(f1_temp),\n",
    "                'auc': np.mean(auc_temp),\n",
    "                'f1_list': cp.deepcopy(f1_temp),\n",
    "                'auc_list': cp.deepcopy(auc_temp),\n",
    "            }\n",
    "            \n",
    "            \n",
    "        word2vec_results[model_name] = results\n",
    "        # save results to json\n",
    "        with open(save_path, 'w') as f:\n",
    "            json.dump(word2vec_results, f, indent=4)\n",
    "        print(f'{model_name} done and updated json')\n",
    "\n",
    "\n",
    "\n"
   ]
  }
 ],
 "metadata": {
  "kernelspec": {
   "display_name": "ag",
   "language": "python",
   "name": "python3"
  },
  "language_info": {
   "codemirror_mode": {
    "name": "ipython",
    "version": 3
   },
   "file_extension": ".py",
   "mimetype": "text/x-python",
   "name": "python",
   "nbconvert_exporter": "python",
   "pygments_lexer": "ipython3",
   "version": "3.11.6"
  }
 },
 "nbformat": 4,
 "nbformat_minor": 2
}
