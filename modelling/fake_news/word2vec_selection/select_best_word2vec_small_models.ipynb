{
 "cells": [
  {
   "cell_type": "code",
   "execution_count": 1,
   "metadata": {},
   "outputs": [],
   "source": [
    "import ssl\n",
    "ssl._create_default_https_context = ssl._create_unverified_context\n"
   ]
  },
  {
   "cell_type": "code",
   "execution_count": 2,
   "metadata": {},
   "outputs": [
    {
     "name": "stderr",
     "output_type": "stream",
     "text": [
      "[nltk_data] Downloading package punkt to\n",
      "[nltk_data]     /Users/adammajczyk/nltk_data...\n",
      "[nltk_data]   Package punkt is already up-to-date!\n",
      "[nltk_data] Downloading package wordnet to\n",
      "[nltk_data]     /Users/adammajczyk/nltk_data...\n",
      "[nltk_data]   Package wordnet is already up-to-date!\n",
      "[nltk_data] Downloading package punkt to\n",
      "[nltk_data]     /Users/adammajczyk/nltk_data...\n",
      "[nltk_data]   Package punkt is already up-to-date!\n",
      "[nltk_data] Downloading package averaged_perceptron_tagger to\n",
      "[nltk_data]     /Users/adammajczyk/nltk_data...\n",
      "[nltk_data]   Package averaged_perceptron_tagger is already up-to-\n",
      "[nltk_data]       date!\n",
      "[nltk_data] Downloading package words to\n",
      "[nltk_data]     /Users/adammajczyk/nltk_data...\n",
      "[nltk_data]   Package words is already up-to-date!\n"
     ]
    }
   ],
   "source": [
    "import pandas as pd\n",
    "import numpy as np\n",
    "import os\n",
    "\n",
    "from gensim.models import Word2Vec\n",
    "\n",
    "\n",
    "%run '../../functions.py'\n",
    "%run '../../classes.py'\n"
   ]
  },
  {
   "cell_type": "code",
   "execution_count": 3,
   "metadata": {},
   "outputs": [],
   "source": [
    "from catboost import CatBoostClassifier\n",
    "from xgboost import XGBClassifier\n",
    "from lightgbm import LGBMClassifier\n",
    "from sklearn.neighbors import KNeighborsClassifier\n",
    "from sklearn.svm import SVC\n",
    "from sklearn.linear_model import LogisticRegression \n",
    "from sklearn.ensemble import RandomForestClassifier\n",
    "from sklearn.tree import DecisionTreeClassifier\n",
    "\n",
    "from sklearn.metrics import f1_score, roc_auc_score\n",
    "\n",
    "from sklearn.model_selection import train_test_split\n",
    "\n",
    "from sklearn.preprocessing import StandardScaler\n"
   ]
  },
  {
   "cell_type": "code",
   "execution_count": 4,
   "metadata": {},
   "outputs": [
    {
     "data": {
      "text/html": [
       "<div>\n",
       "<style scoped>\n",
       "    .dataframe tbody tr th:only-of-type {\n",
       "        vertical-align: middle;\n",
       "    }\n",
       "\n",
       "    .dataframe tbody tr th {\n",
       "        vertical-align: top;\n",
       "    }\n",
       "\n",
       "    .dataframe thead th {\n",
       "        text-align: right;\n",
       "    }\n",
       "</style>\n",
       "<table border=\"1\" class=\"dataframe\">\n",
       "  <thead>\n",
       "    <tr style=\"text-align: right;\">\n",
       "      <th></th>\n",
       "      <th>title</th>\n",
       "      <th>is_clickbait</th>\n",
       "      <th>text</th>\n",
       "      <th>dataset</th>\n",
       "      <th>sample</th>\n",
       "    </tr>\n",
       "  </thead>\n",
       "  <tbody>\n",
       "    <tr>\n",
       "      <th>3</th>\n",
       "      <td>[hillary, clinton, john, kerry, divergent, pat...</td>\n",
       "      <td>0</td>\n",
       "      <td>WASHINGTON  —   Early in 2011, after a hectic ...</td>\n",
       "      <td>fake-news</td>\n",
       "      <td>train</td>\n",
       "    </tr>\n",
       "    <tr>\n",
       "      <th>7</th>\n",
       "      <td>[fifa, seventeen, special, arrival, season, pl...</td>\n",
       "      <td>1</td>\n",
       "      <td>Support Us Fifa 17 – The special arrivals seas...</td>\n",
       "      <td>fake-news</td>\n",
       "      <td>train</td>\n",
       "    </tr>\n",
       "    <tr>\n",
       "      <th>11</th>\n",
       "      <td>[orlando, shooting, unlikely, lead, major, new...</td>\n",
       "      <td>0</td>\n",
       "      <td>WASHINGTON  —   It didn’t happen after a congr...</td>\n",
       "      <td>fake-news</td>\n",
       "      <td>train</td>\n",
       "    </tr>\n",
       "    <tr>\n",
       "      <th>14</th>\n",
       "      <td>[war, islam, islam, want, war, peace]</td>\n",
       "      <td>1</td>\n",
       "      <td>link I am sure that this post will fall on dea...</td>\n",
       "      <td>fake-news</td>\n",
       "      <td>train</td>\n",
       "    </tr>\n",
       "    <tr>\n",
       "      <th>16</th>\n",
       "      <td>[university, texas, campus, saying, concealed,...</td>\n",
       "      <td>0</td>\n",
       "      <td>AUSTIN, Tex.  —   As classes began here at the...</td>\n",
       "      <td>fake-news</td>\n",
       "      <td>train</td>\n",
       "    </tr>\n",
       "  </tbody>\n",
       "</table>\n",
       "</div>"
      ],
      "text/plain": [
       "                                                title  is_clickbait  \\\n",
       "3   [hillary, clinton, john, kerry, divergent, pat...             0   \n",
       "7   [fifa, seventeen, special, arrival, season, pl...             1   \n",
       "11  [orlando, shooting, unlikely, lead, major, new...             0   \n",
       "14              [war, islam, islam, want, war, peace]             1   \n",
       "16  [university, texas, campus, saying, concealed,...             0   \n",
       "\n",
       "                                                 text    dataset sample  \n",
       "3   WASHINGTON  —   Early in 2011, after a hectic ...  fake-news  train  \n",
       "7   Support Us Fifa 17 – The special arrivals seas...  fake-news  train  \n",
       "11  WASHINGTON  —   It didn’t happen after a congr...  fake-news  train  \n",
       "14  link I am sure that this post will fall on dea...  fake-news  train  \n",
       "16  AUSTIN, Tex.  —   As classes began here at the...  fake-news  train  "
      ]
     },
     "execution_count": 4,
     "metadata": {},
     "output_type": "execute_result"
    }
   ],
   "source": [
    "\n",
    "if not os.path.exists('../data/preprocessed_titles_labels.pkl'):\n",
    "    df = preprocess_title(df, verbose=True)\n",
    "    df.to_pickle('../data/preprocessed_titles_labels.pkl') \n",
    "\n",
    "else:\n",
    "    df = pd.read_pickle('../data/preprocessed_titles_labels.pkl')\n",
    "df.head()"
   ]
  },
  {
   "cell_type": "code",
   "execution_count": 5,
   "metadata": {},
   "outputs": [
    {
     "data": {
      "text/plain": [
       "sample\n",
       "train    17791\n",
       "test       997\n",
       "val2       506\n",
       "val1       480\n",
       "Name: count, dtype: int64"
      ]
     },
     "execution_count": 5,
     "metadata": {},
     "output_type": "execute_result"
    }
   ],
   "source": [
    "df['sample'].value_counts()"
   ]
  },
  {
   "cell_type": "code",
   "execution_count": 6,
   "metadata": {},
   "outputs": [
    {
     "data": {
      "text/plain": [
       "[]"
      ]
     },
     "execution_count": 6,
     "metadata": {},
     "output_type": "execute_result"
    }
   ],
   "source": [
    "# read results from previous runs json file\n",
    "save_path = 'results/word2vec_results_10_20_50.json'\n",
    "import json\n",
    "\n",
    "# if file doesn't exist, create it\n",
    "if not os.path.exists(save_path):\n",
    "    with open(save_path, 'w') as f:\n",
    "        json.dump({}, f)\n",
    "        \n",
    "with open(save_path, 'r') as f:\n",
    "    word2vec_results = json.load(f)\n",
    "\n",
    "\n",
    "# get all the models from the results\n",
    "models_already_trained = []\n",
    "for model in word2vec_results:\n",
    "    models_already_trained.append(model)\n",
    "models_already_trained = [model + \".model\" for model in models_already_trained]\n",
    "models_already_trained"
   ]
  },
  {
   "cell_type": "code",
   "execution_count": 7,
   "metadata": {},
   "outputs": [
    {
     "name": "stdout",
     "output_type": "stream",
     "text": [
      "['word2vec_vs10_win6_sg1.model', 'word2vec_vs10_win7_sg0.model', 'word2vec_vs10_win7_sg1.model', 'word2vec_vs10_win6_sg0.model', 'word2vec_vs10_win4_sg1.model', 'word2vec_vs10_win8_sg0.model', 'word2vec_vs10_win5_sg0.model', 'word2vec_vs10_win3_sg0.model', 'word2vec_vs10_win5_sg1.model', 'word2vec_vs10_win8_sg1.model', 'word2vec_vs10_win4_sg0.model', 'word2vec_vs10_win3_sg1.model', 'word2vec_vs20_win3_sg0.model', 'word2vec_vs20_win4_sg1.model', 'word2vec_vs20_win8_sg0.model', 'word2vec_vs20_win5_sg0.model', 'word2vec_vs20_win3_sg1.model', 'word2vec_vs20_win5_sg1.model', 'word2vec_vs20_win8_sg1.model', 'word2vec_vs20_win4_sg0.model', 'word2vec_vs20_win6_sg1.model', 'word2vec_vs20_win7_sg0.model', 'word2vec_vs20_win7_sg1.model', 'word2vec_vs20_win6_sg0.model', 'word2vec_vs50_win5_sg0.model', 'word2vec_vs50_win8_sg0.model', 'word2vec_vs50_win4_sg1.model', 'word2vec_vs50_win3_sg0.model', 'word2vec_vs50_win4_sg0.model', 'word2vec_vs50_win8_sg1.model', 'word2vec_vs50_win5_sg1.model', 'word2vec_vs50_win3_sg1.model', 'word2vec_vs50_win7_sg0.model', 'word2vec_vs50_win6_sg1.model', 'word2vec_vs50_win6_sg0.model', 'word2vec_vs50_win7_sg1.model']\n"
     ]
    }
   ],
   "source": [
    "from tqdm import tqdm\n",
    "import copy as cp\n",
    "\n",
    "\n",
    "files = os.listdir('../../all_datasets/word2vec_models')\n",
    "files = [file for file in files if file.endswith('.model')]\n",
    "\n",
    "\n",
    "files10 = [file for file in files if file.startswith('word2vec_vs10_')]\n",
    "files20 = [file for file in files if file.startswith('word2vec_vs20_')]\n",
    "files50 = [file for file in files if file.startswith('word2vec_vs50_')]\n",
    "\n",
    "\n",
    "\n",
    "files = files10 + files20 + files50   \n",
    "\n",
    "# remove the files that have already been trained\n",
    "files = [file for file in files if file not in models_already_trained]\n",
    "\n",
    "print(files)\n"
   ]
  },
  {
   "cell_type": "code",
   "execution_count": 8,
   "metadata": {},
   "outputs": [
    {
     "data": {
      "application/vnd.jupyter.widget-view+json": {
       "model_id": "68608c84630f4aaba901ac74e910bba9",
       "version_major": 2,
       "version_minor": 0
      },
      "text/plain": [
       "  0%|          | 0/36 [00:00<?, ?it/s]"
      ]
     },
     "metadata": {},
     "output_type": "display_data"
    },
    {
     "data": {
      "application/vnd.jupyter.widget-view+json": {
       "model_id": "2e5b734e2afd4f098fa769e3e113639a",
       "version_major": 2,
       "version_minor": 0
      },
      "text/plain": [
       "Predictive Models for word2vec_vs10_win6_sg1:   0%|          | 0/5 [00:00<?, ?it/s]"
      ]
     },
     "metadata": {},
     "output_type": "display_data"
    },
    {
     "data": {
      "application/vnd.jupyter.widget-view+json": {
       "model_id": "cfc41b7cf5ab42ce915a1b3fbb48e9ce",
       "version_major": 2,
       "version_minor": 0
      },
      "text/plain": [
       "catboost submodels:   0%|          | 0/3 [00:00<?, ?it/s]"
      ]
     },
     "metadata": {},
     "output_type": "display_data"
    },
    {
     "data": {
      "application/vnd.jupyter.widget-view+json": {
       "model_id": "aed53602c9a04fef9ded9af81c35c9a8",
       "version_major": 2,
       "version_minor": 0
      },
      "text/plain": [
       "lightgbm submodels:   0%|          | 0/3 [00:00<?, ?it/s]"
      ]
     },
     "metadata": {},
     "output_type": "display_data"
    },
    {
     "data": {
      "application/vnd.jupyter.widget-view+json": {
       "model_id": "3f689284c79549428d3dc2a13749bd68",
       "version_major": 2,
       "version_minor": 0
      },
      "text/plain": [
       "knn submodels:   0%|          | 0/3 [00:00<?, ?it/s]"
      ]
     },
     "metadata": {},
     "output_type": "display_data"
    },
    {
     "data": {
      "application/vnd.jupyter.widget-view+json": {
       "model_id": "59133f74545f4c718af8f54bd15ba5bc",
       "version_major": 2,
       "version_minor": 0
      },
      "text/plain": [
       "randomforest submodels:   0%|          | 0/3 [00:00<?, ?it/s]"
      ]
     },
     "metadata": {},
     "output_type": "display_data"
    },
    {
     "data": {
      "application/vnd.jupyter.widget-view+json": {
       "model_id": "38f3f59745704de593e59b7e66ae7cde",
       "version_major": 2,
       "version_minor": 0
      },
      "text/plain": [
       "decisiontree submodels:   0%|          | 0/3 [00:00<?, ?it/s]"
      ]
     },
     "metadata": {},
     "output_type": "display_data"
    },
    {
     "name": "stdout",
     "output_type": "stream",
     "text": [
      "word2vec_vs10_win6_sg1 done and updated json\n"
     ]
    },
    {
     "data": {
      "application/vnd.jupyter.widget-view+json": {
       "model_id": "ba5d7d3ebb744cba891004cfc8cdf3cd",
       "version_major": 2,
       "version_minor": 0
      },
      "text/plain": [
       "Predictive Models for word2vec_vs10_win7_sg0:   0%|          | 0/5 [00:00<?, ?it/s]"
      ]
     },
     "metadata": {},
     "output_type": "display_data"
    },
    {
     "data": {
      "application/vnd.jupyter.widget-view+json": {
       "model_id": "3e763f2a28d2468fa36c8916b556536a",
       "version_major": 2,
       "version_minor": 0
      },
      "text/plain": [
       "catboost submodels:   0%|          | 0/3 [00:00<?, ?it/s]"
      ]
     },
     "metadata": {},
     "output_type": "display_data"
    },
    {
     "data": {
      "application/vnd.jupyter.widget-view+json": {
       "model_id": "74544bb402eb4140ac0ea9a7b87759bf",
       "version_major": 2,
       "version_minor": 0
      },
      "text/plain": [
       "lightgbm submodels:   0%|          | 0/3 [00:00<?, ?it/s]"
      ]
     },
     "metadata": {},
     "output_type": "display_data"
    },
    {
     "data": {
      "application/vnd.jupyter.widget-view+json": {
       "model_id": "006c712c5d7649a3a00066ba20286239",
       "version_major": 2,
       "version_minor": 0
      },
      "text/plain": [
       "knn submodels:   0%|          | 0/3 [00:00<?, ?it/s]"
      ]
     },
     "metadata": {},
     "output_type": "display_data"
    },
    {
     "data": {
      "application/vnd.jupyter.widget-view+json": {
       "model_id": "6d58fe79176249babc1d343f38c70294",
       "version_major": 2,
       "version_minor": 0
      },
      "text/plain": [
       "randomforest submodels:   0%|          | 0/3 [00:00<?, ?it/s]"
      ]
     },
     "metadata": {},
     "output_type": "display_data"
    },
    {
     "data": {
      "application/vnd.jupyter.widget-view+json": {
       "model_id": "175e080f688147bbb84ce1a5159b0157",
       "version_major": 2,
       "version_minor": 0
      },
      "text/plain": [
       "decisiontree submodels:   0%|          | 0/3 [00:00<?, ?it/s]"
      ]
     },
     "metadata": {},
     "output_type": "display_data"
    },
    {
     "name": "stdout",
     "output_type": "stream",
     "text": [
      "word2vec_vs10_win7_sg0 done and updated json\n"
     ]
    },
    {
     "data": {
      "application/vnd.jupyter.widget-view+json": {
       "model_id": "7f8276fe27064d578b3542e9dd7527da",
       "version_major": 2,
       "version_minor": 0
      },
      "text/plain": [
       "Predictive Models for word2vec_vs10_win7_sg1:   0%|          | 0/5 [00:00<?, ?it/s]"
      ]
     },
     "metadata": {},
     "output_type": "display_data"
    },
    {
     "data": {
      "application/vnd.jupyter.widget-view+json": {
       "model_id": "63f3e0e1f37649f2b72f2d753ad00cbc",
       "version_major": 2,
       "version_minor": 0
      },
      "text/plain": [
       "catboost submodels:   0%|          | 0/3 [00:00<?, ?it/s]"
      ]
     },
     "metadata": {},
     "output_type": "display_data"
    },
    {
     "data": {
      "application/vnd.jupyter.widget-view+json": {
       "model_id": "28f3d655361e41348e40efa93cbf6f30",
       "version_major": 2,
       "version_minor": 0
      },
      "text/plain": [
       "lightgbm submodels:   0%|          | 0/3 [00:00<?, ?it/s]"
      ]
     },
     "metadata": {},
     "output_type": "display_data"
    },
    {
     "data": {
      "application/vnd.jupyter.widget-view+json": {
       "model_id": "8f316e1e48b448cfbd0ece74b3a7054d",
       "version_major": 2,
       "version_minor": 0
      },
      "text/plain": [
       "knn submodels:   0%|          | 0/3 [00:00<?, ?it/s]"
      ]
     },
     "metadata": {},
     "output_type": "display_data"
    },
    {
     "data": {
      "application/vnd.jupyter.widget-view+json": {
       "model_id": "6cd0b2325a25420e91d8596d60b04e2c",
       "version_major": 2,
       "version_minor": 0
      },
      "text/plain": [
       "randomforest submodels:   0%|          | 0/3 [00:00<?, ?it/s]"
      ]
     },
     "metadata": {},
     "output_type": "display_data"
    },
    {
     "data": {
      "application/vnd.jupyter.widget-view+json": {
       "model_id": "81e7e20a500c4ddbb36aa814bc450f84",
       "version_major": 2,
       "version_minor": 0
      },
      "text/plain": [
       "decisiontree submodels:   0%|          | 0/3 [00:00<?, ?it/s]"
      ]
     },
     "metadata": {},
     "output_type": "display_data"
    },
    {
     "name": "stdout",
     "output_type": "stream",
     "text": [
      "word2vec_vs10_win7_sg1 done and updated json\n"
     ]
    },
    {
     "data": {
      "application/vnd.jupyter.widget-view+json": {
       "model_id": "237d4848ac8f42e0bd41ef6af2ee6095",
       "version_major": 2,
       "version_minor": 0
      },
      "text/plain": [
       "Predictive Models for word2vec_vs10_win6_sg0:   0%|          | 0/5 [00:00<?, ?it/s]"
      ]
     },
     "metadata": {},
     "output_type": "display_data"
    },
    {
     "data": {
      "application/vnd.jupyter.widget-view+json": {
       "model_id": "289af49cd1a64b959004781f6ff4b7d2",
       "version_major": 2,
       "version_minor": 0
      },
      "text/plain": [
       "catboost submodels:   0%|          | 0/3 [00:00<?, ?it/s]"
      ]
     },
     "metadata": {},
     "output_type": "display_data"
    },
    {
     "data": {
      "application/vnd.jupyter.widget-view+json": {
       "model_id": "eb434f16bd234558bc63874dabc5ca58",
       "version_major": 2,
       "version_minor": 0
      },
      "text/plain": [
       "lightgbm submodels:   0%|          | 0/3 [00:00<?, ?it/s]"
      ]
     },
     "metadata": {},
     "output_type": "display_data"
    },
    {
     "data": {
      "application/vnd.jupyter.widget-view+json": {
       "model_id": "8d5966aa7bf149a3a8f07f49c98341af",
       "version_major": 2,
       "version_minor": 0
      },
      "text/plain": [
       "knn submodels:   0%|          | 0/3 [00:00<?, ?it/s]"
      ]
     },
     "metadata": {},
     "output_type": "display_data"
    },
    {
     "data": {
      "application/vnd.jupyter.widget-view+json": {
       "model_id": "4651bc0fdf664930b2a54af4204d81b3",
       "version_major": 2,
       "version_minor": 0
      },
      "text/plain": [
       "randomforest submodels:   0%|          | 0/3 [00:00<?, ?it/s]"
      ]
     },
     "metadata": {},
     "output_type": "display_data"
    },
    {
     "data": {
      "application/vnd.jupyter.widget-view+json": {
       "model_id": "03f77b14543b430fb7b025f9f5edf1ec",
       "version_major": 2,
       "version_minor": 0
      },
      "text/plain": [
       "decisiontree submodels:   0%|          | 0/3 [00:00<?, ?it/s]"
      ]
     },
     "metadata": {},
     "output_type": "display_data"
    },
    {
     "name": "stdout",
     "output_type": "stream",
     "text": [
      "word2vec_vs10_win6_sg0 done and updated json\n"
     ]
    },
    {
     "data": {
      "application/vnd.jupyter.widget-view+json": {
       "model_id": "4cd11f2ac2ba4732bf1b1ba7a6de4fe3",
       "version_major": 2,
       "version_minor": 0
      },
      "text/plain": [
       "Predictive Models for word2vec_vs10_win4_sg1:   0%|          | 0/5 [00:00<?, ?it/s]"
      ]
     },
     "metadata": {},
     "output_type": "display_data"
    },
    {
     "data": {
      "application/vnd.jupyter.widget-view+json": {
       "model_id": "9a73a81e2f2548ab8dfa24d931eb1fc6",
       "version_major": 2,
       "version_minor": 0
      },
      "text/plain": [
       "catboost submodels:   0%|          | 0/3 [00:00<?, ?it/s]"
      ]
     },
     "metadata": {},
     "output_type": "display_data"
    },
    {
     "data": {
      "application/vnd.jupyter.widget-view+json": {
       "model_id": "9384dd552657461586b3401182c5527a",
       "version_major": 2,
       "version_minor": 0
      },
      "text/plain": [
       "lightgbm submodels:   0%|          | 0/3 [00:00<?, ?it/s]"
      ]
     },
     "metadata": {},
     "output_type": "display_data"
    },
    {
     "data": {
      "application/vnd.jupyter.widget-view+json": {
       "model_id": "80b0f845baeb4c27945f1026fab3d08c",
       "version_major": 2,
       "version_minor": 0
      },
      "text/plain": [
       "knn submodels:   0%|          | 0/3 [00:00<?, ?it/s]"
      ]
     },
     "metadata": {},
     "output_type": "display_data"
    },
    {
     "data": {
      "application/vnd.jupyter.widget-view+json": {
       "model_id": "46e8600435a14bd5930f0b0682f02184",
       "version_major": 2,
       "version_minor": 0
      },
      "text/plain": [
       "randomforest submodels:   0%|          | 0/3 [00:00<?, ?it/s]"
      ]
     },
     "metadata": {},
     "output_type": "display_data"
    },
    {
     "data": {
      "application/vnd.jupyter.widget-view+json": {
       "model_id": "7df7e36ff23343ddb8890e222208196f",
       "version_major": 2,
       "version_minor": 0
      },
      "text/plain": [
       "decisiontree submodels:   0%|          | 0/3 [00:00<?, ?it/s]"
      ]
     },
     "metadata": {},
     "output_type": "display_data"
    },
    {
     "name": "stdout",
     "output_type": "stream",
     "text": [
      "word2vec_vs10_win4_sg1 done and updated json\n"
     ]
    },
    {
     "data": {
      "application/vnd.jupyter.widget-view+json": {
       "model_id": "25cd4485f847468796f5658dfac1f6a7",
       "version_major": 2,
       "version_minor": 0
      },
      "text/plain": [
       "Predictive Models for word2vec_vs10_win8_sg0:   0%|          | 0/5 [00:00<?, ?it/s]"
      ]
     },
     "metadata": {},
     "output_type": "display_data"
    },
    {
     "data": {
      "application/vnd.jupyter.widget-view+json": {
       "model_id": "aed91050dc974e1db68c06101b7a44f9",
       "version_major": 2,
       "version_minor": 0
      },
      "text/plain": [
       "catboost submodels:   0%|          | 0/3 [00:00<?, ?it/s]"
      ]
     },
     "metadata": {},
     "output_type": "display_data"
    },
    {
     "data": {
      "application/vnd.jupyter.widget-view+json": {
       "model_id": "db3c03485b7a4d5e89890ad68ba2cd7d",
       "version_major": 2,
       "version_minor": 0
      },
      "text/plain": [
       "lightgbm submodels:   0%|          | 0/3 [00:00<?, ?it/s]"
      ]
     },
     "metadata": {},
     "output_type": "display_data"
    },
    {
     "data": {
      "application/vnd.jupyter.widget-view+json": {
       "model_id": "c4bb60cd9ffb40cb98717cd25775274e",
       "version_major": 2,
       "version_minor": 0
      },
      "text/plain": [
       "knn submodels:   0%|          | 0/3 [00:00<?, ?it/s]"
      ]
     },
     "metadata": {},
     "output_type": "display_data"
    },
    {
     "data": {
      "application/vnd.jupyter.widget-view+json": {
       "model_id": "5862f51057644ff38a2ddb5de991ecb6",
       "version_major": 2,
       "version_minor": 0
      },
      "text/plain": [
       "randomforest submodels:   0%|          | 0/3 [00:00<?, ?it/s]"
      ]
     },
     "metadata": {},
     "output_type": "display_data"
    },
    {
     "data": {
      "application/vnd.jupyter.widget-view+json": {
       "model_id": "0249725e438b4acaa7d01593bf21a46c",
       "version_major": 2,
       "version_minor": 0
      },
      "text/plain": [
       "decisiontree submodels:   0%|          | 0/3 [00:00<?, ?it/s]"
      ]
     },
     "metadata": {},
     "output_type": "display_data"
    },
    {
     "name": "stdout",
     "output_type": "stream",
     "text": [
      "word2vec_vs10_win8_sg0 done and updated json\n"
     ]
    },
    {
     "data": {
      "application/vnd.jupyter.widget-view+json": {
       "model_id": "285b1f76dabc4ca6a2c1b03ef3b84d43",
       "version_major": 2,
       "version_minor": 0
      },
      "text/plain": [
       "Predictive Models for word2vec_vs10_win5_sg0:   0%|          | 0/5 [00:00<?, ?it/s]"
      ]
     },
     "metadata": {},
     "output_type": "display_data"
    },
    {
     "data": {
      "application/vnd.jupyter.widget-view+json": {
       "model_id": "e490399fd4fb4e9794be1ee006c89816",
       "version_major": 2,
       "version_minor": 0
      },
      "text/plain": [
       "catboost submodels:   0%|          | 0/3 [00:00<?, ?it/s]"
      ]
     },
     "metadata": {},
     "output_type": "display_data"
    },
    {
     "data": {
      "application/vnd.jupyter.widget-view+json": {
       "model_id": "2762f7f180de4d40a2f47d32f0bc957d",
       "version_major": 2,
       "version_minor": 0
      },
      "text/plain": [
       "lightgbm submodels:   0%|          | 0/3 [00:00<?, ?it/s]"
      ]
     },
     "metadata": {},
     "output_type": "display_data"
    },
    {
     "data": {
      "application/vnd.jupyter.widget-view+json": {
       "model_id": "5cd4d21c089042b39cc3bda620961eef",
       "version_major": 2,
       "version_minor": 0
      },
      "text/plain": [
       "knn submodels:   0%|          | 0/3 [00:00<?, ?it/s]"
      ]
     },
     "metadata": {},
     "output_type": "display_data"
    },
    {
     "data": {
      "application/vnd.jupyter.widget-view+json": {
       "model_id": "a7155976142f48198d5ae17b4372e704",
       "version_major": 2,
       "version_minor": 0
      },
      "text/plain": [
       "randomforest submodels:   0%|          | 0/3 [00:00<?, ?it/s]"
      ]
     },
     "metadata": {},
     "output_type": "display_data"
    },
    {
     "data": {
      "application/vnd.jupyter.widget-view+json": {
       "model_id": "8ec092df968443979ffef25c3a4cedf7",
       "version_major": 2,
       "version_minor": 0
      },
      "text/plain": [
       "decisiontree submodels:   0%|          | 0/3 [00:00<?, ?it/s]"
      ]
     },
     "metadata": {},
     "output_type": "display_data"
    },
    {
     "name": "stdout",
     "output_type": "stream",
     "text": [
      "word2vec_vs10_win5_sg0 done and updated json\n"
     ]
    },
    {
     "data": {
      "application/vnd.jupyter.widget-view+json": {
       "model_id": "e53534412e7b48659cc4d71c9ddac3c3",
       "version_major": 2,
       "version_minor": 0
      },
      "text/plain": [
       "Predictive Models for word2vec_vs10_win3_sg0:   0%|          | 0/5 [00:00<?, ?it/s]"
      ]
     },
     "metadata": {},
     "output_type": "display_data"
    },
    {
     "data": {
      "application/vnd.jupyter.widget-view+json": {
       "model_id": "d6f8cc24f89944a294f4026d965c9aad",
       "version_major": 2,
       "version_minor": 0
      },
      "text/plain": [
       "catboost submodels:   0%|          | 0/3 [00:00<?, ?it/s]"
      ]
     },
     "metadata": {},
     "output_type": "display_data"
    },
    {
     "data": {
      "application/vnd.jupyter.widget-view+json": {
       "model_id": "c88c1dd805da42b5af9cf77cb4f2198e",
       "version_major": 2,
       "version_minor": 0
      },
      "text/plain": [
       "lightgbm submodels:   0%|          | 0/3 [00:00<?, ?it/s]"
      ]
     },
     "metadata": {},
     "output_type": "display_data"
    },
    {
     "data": {
      "application/vnd.jupyter.widget-view+json": {
       "model_id": "53fcc68aa443457fabd232c258cb8201",
       "version_major": 2,
       "version_minor": 0
      },
      "text/plain": [
       "knn submodels:   0%|          | 0/3 [00:00<?, ?it/s]"
      ]
     },
     "metadata": {},
     "output_type": "display_data"
    },
    {
     "data": {
      "application/vnd.jupyter.widget-view+json": {
       "model_id": "2e564cb26e2a453ba11bdc944c1ce684",
       "version_major": 2,
       "version_minor": 0
      },
      "text/plain": [
       "randomforest submodels:   0%|          | 0/3 [00:00<?, ?it/s]"
      ]
     },
     "metadata": {},
     "output_type": "display_data"
    },
    {
     "data": {
      "application/vnd.jupyter.widget-view+json": {
       "model_id": "52c3252db2b94688a474bed5cd251e80",
       "version_major": 2,
       "version_minor": 0
      },
      "text/plain": [
       "decisiontree submodels:   0%|          | 0/3 [00:00<?, ?it/s]"
      ]
     },
     "metadata": {},
     "output_type": "display_data"
    },
    {
     "name": "stdout",
     "output_type": "stream",
     "text": [
      "word2vec_vs10_win3_sg0 done and updated json\n"
     ]
    },
    {
     "data": {
      "application/vnd.jupyter.widget-view+json": {
       "model_id": "0759d5f4b9794d14acda48edc52e27dc",
       "version_major": 2,
       "version_minor": 0
      },
      "text/plain": [
       "Predictive Models for word2vec_vs10_win5_sg1:   0%|          | 0/5 [00:00<?, ?it/s]"
      ]
     },
     "metadata": {},
     "output_type": "display_data"
    },
    {
     "data": {
      "application/vnd.jupyter.widget-view+json": {
       "model_id": "06408df51e32435183681a43c73ef1b4",
       "version_major": 2,
       "version_minor": 0
      },
      "text/plain": [
       "catboost submodels:   0%|          | 0/3 [00:00<?, ?it/s]"
      ]
     },
     "metadata": {},
     "output_type": "display_data"
    },
    {
     "data": {
      "application/vnd.jupyter.widget-view+json": {
       "model_id": "418b6a3753d1439a84a27f694b406dd6",
       "version_major": 2,
       "version_minor": 0
      },
      "text/plain": [
       "lightgbm submodels:   0%|          | 0/3 [00:00<?, ?it/s]"
      ]
     },
     "metadata": {},
     "output_type": "display_data"
    },
    {
     "data": {
      "application/vnd.jupyter.widget-view+json": {
       "model_id": "55725d6add1f46c9a5cc082964b1cabf",
       "version_major": 2,
       "version_minor": 0
      },
      "text/plain": [
       "knn submodels:   0%|          | 0/3 [00:00<?, ?it/s]"
      ]
     },
     "metadata": {},
     "output_type": "display_data"
    },
    {
     "data": {
      "application/vnd.jupyter.widget-view+json": {
       "model_id": "6580c85180a04554b320f40ac7f22a44",
       "version_major": 2,
       "version_minor": 0
      },
      "text/plain": [
       "randomforest submodels:   0%|          | 0/3 [00:00<?, ?it/s]"
      ]
     },
     "metadata": {},
     "output_type": "display_data"
    },
    {
     "data": {
      "application/vnd.jupyter.widget-view+json": {
       "model_id": "6588068b936c48d5836d77b557f4b12e",
       "version_major": 2,
       "version_minor": 0
      },
      "text/plain": [
       "decisiontree submodels:   0%|          | 0/3 [00:00<?, ?it/s]"
      ]
     },
     "metadata": {},
     "output_type": "display_data"
    },
    {
     "name": "stdout",
     "output_type": "stream",
     "text": [
      "word2vec_vs10_win5_sg1 done and updated json\n"
     ]
    },
    {
     "data": {
      "application/vnd.jupyter.widget-view+json": {
       "model_id": "4cec106c00794a21b0057c268b4ed86d",
       "version_major": 2,
       "version_minor": 0
      },
      "text/plain": [
       "Predictive Models for word2vec_vs10_win8_sg1:   0%|          | 0/5 [00:00<?, ?it/s]"
      ]
     },
     "metadata": {},
     "output_type": "display_data"
    },
    {
     "data": {
      "application/vnd.jupyter.widget-view+json": {
       "model_id": "8bca2975a4514d5eb3e92691ff258035",
       "version_major": 2,
       "version_minor": 0
      },
      "text/plain": [
       "catboost submodels:   0%|          | 0/3 [00:00<?, ?it/s]"
      ]
     },
     "metadata": {},
     "output_type": "display_data"
    },
    {
     "data": {
      "application/vnd.jupyter.widget-view+json": {
       "model_id": "847f8b9addd44f84a7d90aa35c9e2b6e",
       "version_major": 2,
       "version_minor": 0
      },
      "text/plain": [
       "lightgbm submodels:   0%|          | 0/3 [00:00<?, ?it/s]"
      ]
     },
     "metadata": {},
     "output_type": "display_data"
    },
    {
     "data": {
      "application/vnd.jupyter.widget-view+json": {
       "model_id": "63efd198883c48689bfc1c5723fdb5ab",
       "version_major": 2,
       "version_minor": 0
      },
      "text/plain": [
       "knn submodels:   0%|          | 0/3 [00:00<?, ?it/s]"
      ]
     },
     "metadata": {},
     "output_type": "display_data"
    },
    {
     "data": {
      "application/vnd.jupyter.widget-view+json": {
       "model_id": "dbff1b8280504692a7cb539897b2fe6c",
       "version_major": 2,
       "version_minor": 0
      },
      "text/plain": [
       "randomforest submodels:   0%|          | 0/3 [00:00<?, ?it/s]"
      ]
     },
     "metadata": {},
     "output_type": "display_data"
    },
    {
     "data": {
      "application/vnd.jupyter.widget-view+json": {
       "model_id": "72d07618d89c475491ab7db230480f4d",
       "version_major": 2,
       "version_minor": 0
      },
      "text/plain": [
       "decisiontree submodels:   0%|          | 0/3 [00:00<?, ?it/s]"
      ]
     },
     "metadata": {},
     "output_type": "display_data"
    },
    {
     "name": "stdout",
     "output_type": "stream",
     "text": [
      "word2vec_vs10_win8_sg1 done and updated json\n"
     ]
    },
    {
     "data": {
      "application/vnd.jupyter.widget-view+json": {
       "model_id": "d9abffdbefb7485696692ff3c114f167",
       "version_major": 2,
       "version_minor": 0
      },
      "text/plain": [
       "Predictive Models for word2vec_vs10_win4_sg0:   0%|          | 0/5 [00:00<?, ?it/s]"
      ]
     },
     "metadata": {},
     "output_type": "display_data"
    },
    {
     "data": {
      "application/vnd.jupyter.widget-view+json": {
       "model_id": "da831d0edb9a49e7a74e3725756d31bd",
       "version_major": 2,
       "version_minor": 0
      },
      "text/plain": [
       "catboost submodels:   0%|          | 0/3 [00:00<?, ?it/s]"
      ]
     },
     "metadata": {},
     "output_type": "display_data"
    },
    {
     "data": {
      "application/vnd.jupyter.widget-view+json": {
       "model_id": "bc667c08584d4629a703727787223a8d",
       "version_major": 2,
       "version_minor": 0
      },
      "text/plain": [
       "lightgbm submodels:   0%|          | 0/3 [00:00<?, ?it/s]"
      ]
     },
     "metadata": {},
     "output_type": "display_data"
    },
    {
     "data": {
      "application/vnd.jupyter.widget-view+json": {
       "model_id": "555d55679b3548b3a985df45e3b23af7",
       "version_major": 2,
       "version_minor": 0
      },
      "text/plain": [
       "knn submodels:   0%|          | 0/3 [00:00<?, ?it/s]"
      ]
     },
     "metadata": {},
     "output_type": "display_data"
    },
    {
     "data": {
      "application/vnd.jupyter.widget-view+json": {
       "model_id": "22ba18a2025c4628b88a03df3442112c",
       "version_major": 2,
       "version_minor": 0
      },
      "text/plain": [
       "randomforest submodels:   0%|          | 0/3 [00:00<?, ?it/s]"
      ]
     },
     "metadata": {},
     "output_type": "display_data"
    },
    {
     "data": {
      "application/vnd.jupyter.widget-view+json": {
       "model_id": "7f7772d5536b4c1aa33ec2f5270bec4a",
       "version_major": 2,
       "version_minor": 0
      },
      "text/plain": [
       "decisiontree submodels:   0%|          | 0/3 [00:00<?, ?it/s]"
      ]
     },
     "metadata": {},
     "output_type": "display_data"
    },
    {
     "name": "stdout",
     "output_type": "stream",
     "text": [
      "word2vec_vs10_win4_sg0 done and updated json\n"
     ]
    },
    {
     "data": {
      "application/vnd.jupyter.widget-view+json": {
       "model_id": "35eefccfa7f442cdab107ad98e7d79a3",
       "version_major": 2,
       "version_minor": 0
      },
      "text/plain": [
       "Predictive Models for word2vec_vs10_win3_sg1:   0%|          | 0/5 [00:00<?, ?it/s]"
      ]
     },
     "metadata": {},
     "output_type": "display_data"
    },
    {
     "data": {
      "application/vnd.jupyter.widget-view+json": {
       "model_id": "9c9e857150f345b28dc01058e9733752",
       "version_major": 2,
       "version_minor": 0
      },
      "text/plain": [
       "catboost submodels:   0%|          | 0/3 [00:00<?, ?it/s]"
      ]
     },
     "metadata": {},
     "output_type": "display_data"
    },
    {
     "data": {
      "application/vnd.jupyter.widget-view+json": {
       "model_id": "bd743cabe0ad479b916d11e9f32f5f72",
       "version_major": 2,
       "version_minor": 0
      },
      "text/plain": [
       "lightgbm submodels:   0%|          | 0/3 [00:00<?, ?it/s]"
      ]
     },
     "metadata": {},
     "output_type": "display_data"
    },
    {
     "data": {
      "application/vnd.jupyter.widget-view+json": {
       "model_id": "d9fce60a9d1547afa9342b0a489c8c19",
       "version_major": 2,
       "version_minor": 0
      },
      "text/plain": [
       "knn submodels:   0%|          | 0/3 [00:00<?, ?it/s]"
      ]
     },
     "metadata": {},
     "output_type": "display_data"
    },
    {
     "data": {
      "application/vnd.jupyter.widget-view+json": {
       "model_id": "4fcc3e25d95348edaf5e9c090fea4490",
       "version_major": 2,
       "version_minor": 0
      },
      "text/plain": [
       "randomforest submodels:   0%|          | 0/3 [00:00<?, ?it/s]"
      ]
     },
     "metadata": {},
     "output_type": "display_data"
    },
    {
     "data": {
      "application/vnd.jupyter.widget-view+json": {
       "model_id": "cf4e758036344e9fafd5ec109f834a4d",
       "version_major": 2,
       "version_minor": 0
      },
      "text/plain": [
       "decisiontree submodels:   0%|          | 0/3 [00:00<?, ?it/s]"
      ]
     },
     "metadata": {},
     "output_type": "display_data"
    },
    {
     "name": "stdout",
     "output_type": "stream",
     "text": [
      "word2vec_vs10_win3_sg1 done and updated json\n"
     ]
    },
    {
     "data": {
      "application/vnd.jupyter.widget-view+json": {
       "model_id": "a49e779aa7f642468a65975672dffbe8",
       "version_major": 2,
       "version_minor": 0
      },
      "text/plain": [
       "Predictive Models for word2vec_vs20_win3_sg0:   0%|          | 0/5 [00:00<?, ?it/s]"
      ]
     },
     "metadata": {},
     "output_type": "display_data"
    },
    {
     "data": {
      "application/vnd.jupyter.widget-view+json": {
       "model_id": "1c3d202ffc324167acb229d8e9bd70d4",
       "version_major": 2,
       "version_minor": 0
      },
      "text/plain": [
       "catboost submodels:   0%|          | 0/3 [00:00<?, ?it/s]"
      ]
     },
     "metadata": {},
     "output_type": "display_data"
    },
    {
     "data": {
      "application/vnd.jupyter.widget-view+json": {
       "model_id": "360ce35ebb094cec9ad448efd5a01fd3",
       "version_major": 2,
       "version_minor": 0
      },
      "text/plain": [
       "lightgbm submodels:   0%|          | 0/3 [00:00<?, ?it/s]"
      ]
     },
     "metadata": {},
     "output_type": "display_data"
    },
    {
     "data": {
      "application/vnd.jupyter.widget-view+json": {
       "model_id": "58479a5073eb46e0b5238c7ee67b299e",
       "version_major": 2,
       "version_minor": 0
      },
      "text/plain": [
       "knn submodels:   0%|          | 0/3 [00:00<?, ?it/s]"
      ]
     },
     "metadata": {},
     "output_type": "display_data"
    },
    {
     "data": {
      "application/vnd.jupyter.widget-view+json": {
       "model_id": "0d12452697004bfcaa271f15f422cdfb",
       "version_major": 2,
       "version_minor": 0
      },
      "text/plain": [
       "randomforest submodels:   0%|          | 0/3 [00:00<?, ?it/s]"
      ]
     },
     "metadata": {},
     "output_type": "display_data"
    },
    {
     "data": {
      "application/vnd.jupyter.widget-view+json": {
       "model_id": "c3d235b463274fac8ea90ae5301276ae",
       "version_major": 2,
       "version_minor": 0
      },
      "text/plain": [
       "decisiontree submodels:   0%|          | 0/3 [00:00<?, ?it/s]"
      ]
     },
     "metadata": {},
     "output_type": "display_data"
    },
    {
     "name": "stdout",
     "output_type": "stream",
     "text": [
      "word2vec_vs20_win3_sg0 done and updated json\n"
     ]
    },
    {
     "data": {
      "application/vnd.jupyter.widget-view+json": {
       "model_id": "a7e4af0012b14887b0aa45ae37a9df01",
       "version_major": 2,
       "version_minor": 0
      },
      "text/plain": [
       "Predictive Models for word2vec_vs20_win4_sg1:   0%|          | 0/5 [00:00<?, ?it/s]"
      ]
     },
     "metadata": {},
     "output_type": "display_data"
    },
    {
     "data": {
      "application/vnd.jupyter.widget-view+json": {
       "model_id": "d858d5988b1f4992af4c8aa334fc897e",
       "version_major": 2,
       "version_minor": 0
      },
      "text/plain": [
       "catboost submodels:   0%|          | 0/3 [00:00<?, ?it/s]"
      ]
     },
     "metadata": {},
     "output_type": "display_data"
    },
    {
     "data": {
      "application/vnd.jupyter.widget-view+json": {
       "model_id": "b1e016aaef3f45b5bfa61a51a6e3434d",
       "version_major": 2,
       "version_minor": 0
      },
      "text/plain": [
       "lightgbm submodels:   0%|          | 0/3 [00:00<?, ?it/s]"
      ]
     },
     "metadata": {},
     "output_type": "display_data"
    },
    {
     "data": {
      "application/vnd.jupyter.widget-view+json": {
       "model_id": "e946fe1c6a47483e9096627360f93e22",
       "version_major": 2,
       "version_minor": 0
      },
      "text/plain": [
       "knn submodels:   0%|          | 0/3 [00:00<?, ?it/s]"
      ]
     },
     "metadata": {},
     "output_type": "display_data"
    },
    {
     "data": {
      "application/vnd.jupyter.widget-view+json": {
       "model_id": "5d741cd7c12743c4a5169cc5347393a3",
       "version_major": 2,
       "version_minor": 0
      },
      "text/plain": [
       "randomforest submodels:   0%|          | 0/3 [00:00<?, ?it/s]"
      ]
     },
     "metadata": {},
     "output_type": "display_data"
    },
    {
     "data": {
      "application/vnd.jupyter.widget-view+json": {
       "model_id": "b8c3790554e94a79b929da6a9e961218",
       "version_major": 2,
       "version_minor": 0
      },
      "text/plain": [
       "decisiontree submodels:   0%|          | 0/3 [00:00<?, ?it/s]"
      ]
     },
     "metadata": {},
     "output_type": "display_data"
    },
    {
     "name": "stdout",
     "output_type": "stream",
     "text": [
      "word2vec_vs20_win4_sg1 done and updated json\n"
     ]
    },
    {
     "data": {
      "application/vnd.jupyter.widget-view+json": {
       "model_id": "086bc6bdd6184284806421a6a6a9dd00",
       "version_major": 2,
       "version_minor": 0
      },
      "text/plain": [
       "Predictive Models for word2vec_vs20_win8_sg0:   0%|          | 0/5 [00:00<?, ?it/s]"
      ]
     },
     "metadata": {},
     "output_type": "display_data"
    },
    {
     "data": {
      "application/vnd.jupyter.widget-view+json": {
       "model_id": "aae68749477b4cfaab3cc11cb15b314f",
       "version_major": 2,
       "version_minor": 0
      },
      "text/plain": [
       "catboost submodels:   0%|          | 0/3 [00:00<?, ?it/s]"
      ]
     },
     "metadata": {},
     "output_type": "display_data"
    },
    {
     "data": {
      "application/vnd.jupyter.widget-view+json": {
       "model_id": "aa329c4b4768465c92f674eab4566b6c",
       "version_major": 2,
       "version_minor": 0
      },
      "text/plain": [
       "lightgbm submodels:   0%|          | 0/3 [00:00<?, ?it/s]"
      ]
     },
     "metadata": {},
     "output_type": "display_data"
    },
    {
     "data": {
      "application/vnd.jupyter.widget-view+json": {
       "model_id": "812aa790d94d474d85c205c2e2dfbb95",
       "version_major": 2,
       "version_minor": 0
      },
      "text/plain": [
       "knn submodels:   0%|          | 0/3 [00:00<?, ?it/s]"
      ]
     },
     "metadata": {},
     "output_type": "display_data"
    },
    {
     "data": {
      "application/vnd.jupyter.widget-view+json": {
       "model_id": "3a347fda32e242898fcaffa22d529163",
       "version_major": 2,
       "version_minor": 0
      },
      "text/plain": [
       "randomforest submodels:   0%|          | 0/3 [00:00<?, ?it/s]"
      ]
     },
     "metadata": {},
     "output_type": "display_data"
    },
    {
     "data": {
      "application/vnd.jupyter.widget-view+json": {
       "model_id": "ed32dcafb590473ba822607fb2780c3e",
       "version_major": 2,
       "version_minor": 0
      },
      "text/plain": [
       "decisiontree submodels:   0%|          | 0/3 [00:00<?, ?it/s]"
      ]
     },
     "metadata": {},
     "output_type": "display_data"
    },
    {
     "name": "stdout",
     "output_type": "stream",
     "text": [
      "word2vec_vs20_win8_sg0 done and updated json\n"
     ]
    },
    {
     "data": {
      "application/vnd.jupyter.widget-view+json": {
       "model_id": "d5a070453a9142178a2fe0819180fffa",
       "version_major": 2,
       "version_minor": 0
      },
      "text/plain": [
       "Predictive Models for word2vec_vs20_win5_sg0:   0%|          | 0/5 [00:00<?, ?it/s]"
      ]
     },
     "metadata": {},
     "output_type": "display_data"
    },
    {
     "data": {
      "application/vnd.jupyter.widget-view+json": {
       "model_id": "20618d4d690841979a7da6aa12cbc70e",
       "version_major": 2,
       "version_minor": 0
      },
      "text/plain": [
       "catboost submodels:   0%|          | 0/3 [00:00<?, ?it/s]"
      ]
     },
     "metadata": {},
     "output_type": "display_data"
    },
    {
     "data": {
      "application/vnd.jupyter.widget-view+json": {
       "model_id": "6bdbc2cbf46d4d77b2a767404177c600",
       "version_major": 2,
       "version_minor": 0
      },
      "text/plain": [
       "lightgbm submodels:   0%|          | 0/3 [00:00<?, ?it/s]"
      ]
     },
     "metadata": {},
     "output_type": "display_data"
    },
    {
     "data": {
      "application/vnd.jupyter.widget-view+json": {
       "model_id": "7b1b31163fc54cdc8f43007ab4b993ca",
       "version_major": 2,
       "version_minor": 0
      },
      "text/plain": [
       "knn submodels:   0%|          | 0/3 [00:00<?, ?it/s]"
      ]
     },
     "metadata": {},
     "output_type": "display_data"
    },
    {
     "data": {
      "application/vnd.jupyter.widget-view+json": {
       "model_id": "bebacf890c8a4f84b79f35c529122340",
       "version_major": 2,
       "version_minor": 0
      },
      "text/plain": [
       "randomforest submodels:   0%|          | 0/3 [00:00<?, ?it/s]"
      ]
     },
     "metadata": {},
     "output_type": "display_data"
    },
    {
     "data": {
      "application/vnd.jupyter.widget-view+json": {
       "model_id": "86cfbbfbddc642ffaa48470997354cca",
       "version_major": 2,
       "version_minor": 0
      },
      "text/plain": [
       "decisiontree submodels:   0%|          | 0/3 [00:00<?, ?it/s]"
      ]
     },
     "metadata": {},
     "output_type": "display_data"
    },
    {
     "name": "stdout",
     "output_type": "stream",
     "text": [
      "word2vec_vs20_win5_sg0 done and updated json\n"
     ]
    },
    {
     "data": {
      "application/vnd.jupyter.widget-view+json": {
       "model_id": "c2e1e4fe146f4e0ab71162ad76f53f2f",
       "version_major": 2,
       "version_minor": 0
      },
      "text/plain": [
       "Predictive Models for word2vec_vs20_win3_sg1:   0%|          | 0/5 [00:00<?, ?it/s]"
      ]
     },
     "metadata": {},
     "output_type": "display_data"
    },
    {
     "data": {
      "application/vnd.jupyter.widget-view+json": {
       "model_id": "913aa765fac44642a28f25274a4b94e2",
       "version_major": 2,
       "version_minor": 0
      },
      "text/plain": [
       "catboost submodels:   0%|          | 0/3 [00:00<?, ?it/s]"
      ]
     },
     "metadata": {},
     "output_type": "display_data"
    },
    {
     "data": {
      "application/vnd.jupyter.widget-view+json": {
       "model_id": "59bd87c90b4642278208d25c410197e8",
       "version_major": 2,
       "version_minor": 0
      },
      "text/plain": [
       "lightgbm submodels:   0%|          | 0/3 [00:00<?, ?it/s]"
      ]
     },
     "metadata": {},
     "output_type": "display_data"
    },
    {
     "data": {
      "application/vnd.jupyter.widget-view+json": {
       "model_id": "09b10da04dfc4d0097f5f88d3f5bb200",
       "version_major": 2,
       "version_minor": 0
      },
      "text/plain": [
       "knn submodels:   0%|          | 0/3 [00:00<?, ?it/s]"
      ]
     },
     "metadata": {},
     "output_type": "display_data"
    },
    {
     "data": {
      "application/vnd.jupyter.widget-view+json": {
       "model_id": "cb44de5fdabe460e8044db7a9ff67c2f",
       "version_major": 2,
       "version_minor": 0
      },
      "text/plain": [
       "randomforest submodels:   0%|          | 0/3 [00:00<?, ?it/s]"
      ]
     },
     "metadata": {},
     "output_type": "display_data"
    },
    {
     "data": {
      "application/vnd.jupyter.widget-view+json": {
       "model_id": "338ed30108ce4f2dba008851cbc56c40",
       "version_major": 2,
       "version_minor": 0
      },
      "text/plain": [
       "decisiontree submodels:   0%|          | 0/3 [00:00<?, ?it/s]"
      ]
     },
     "metadata": {},
     "output_type": "display_data"
    },
    {
     "name": "stdout",
     "output_type": "stream",
     "text": [
      "word2vec_vs20_win3_sg1 done and updated json\n"
     ]
    },
    {
     "data": {
      "application/vnd.jupyter.widget-view+json": {
       "model_id": "8b9a78ebfdb34c7d979f079374f24574",
       "version_major": 2,
       "version_minor": 0
      },
      "text/plain": [
       "Predictive Models for word2vec_vs20_win5_sg1:   0%|          | 0/5 [00:00<?, ?it/s]"
      ]
     },
     "metadata": {},
     "output_type": "display_data"
    },
    {
     "data": {
      "application/vnd.jupyter.widget-view+json": {
       "model_id": "a8ef31e4f76f46f19dfa403bb2d160bc",
       "version_major": 2,
       "version_minor": 0
      },
      "text/plain": [
       "catboost submodels:   0%|          | 0/3 [00:00<?, ?it/s]"
      ]
     },
     "metadata": {},
     "output_type": "display_data"
    },
    {
     "data": {
      "application/vnd.jupyter.widget-view+json": {
       "model_id": "e7ef364d54f54b9b9d534d9859a6d186",
       "version_major": 2,
       "version_minor": 0
      },
      "text/plain": [
       "lightgbm submodels:   0%|          | 0/3 [00:00<?, ?it/s]"
      ]
     },
     "metadata": {},
     "output_type": "display_data"
    },
    {
     "data": {
      "application/vnd.jupyter.widget-view+json": {
       "model_id": "219838990a3942d584b67d937c3221b5",
       "version_major": 2,
       "version_minor": 0
      },
      "text/plain": [
       "knn submodels:   0%|          | 0/3 [00:00<?, ?it/s]"
      ]
     },
     "metadata": {},
     "output_type": "display_data"
    },
    {
     "data": {
      "application/vnd.jupyter.widget-view+json": {
       "model_id": "197339e0d410480e8f3fb5c15af89767",
       "version_major": 2,
       "version_minor": 0
      },
      "text/plain": [
       "randomforest submodels:   0%|          | 0/3 [00:00<?, ?it/s]"
      ]
     },
     "metadata": {},
     "output_type": "display_data"
    },
    {
     "data": {
      "application/vnd.jupyter.widget-view+json": {
       "model_id": "18a885920eda4385af210929e7a9d51c",
       "version_major": 2,
       "version_minor": 0
      },
      "text/plain": [
       "decisiontree submodels:   0%|          | 0/3 [00:00<?, ?it/s]"
      ]
     },
     "metadata": {},
     "output_type": "display_data"
    },
    {
     "name": "stdout",
     "output_type": "stream",
     "text": [
      "word2vec_vs20_win5_sg1 done and updated json\n"
     ]
    },
    {
     "data": {
      "application/vnd.jupyter.widget-view+json": {
       "model_id": "91481d441a034df6bc8507be506c28b1",
       "version_major": 2,
       "version_minor": 0
      },
      "text/plain": [
       "Predictive Models for word2vec_vs20_win8_sg1:   0%|          | 0/5 [00:00<?, ?it/s]"
      ]
     },
     "metadata": {},
     "output_type": "display_data"
    },
    {
     "data": {
      "application/vnd.jupyter.widget-view+json": {
       "model_id": "47f6f2f53c754fd7b3a33c589bdfca96",
       "version_major": 2,
       "version_minor": 0
      },
      "text/plain": [
       "catboost submodels:   0%|          | 0/3 [00:00<?, ?it/s]"
      ]
     },
     "metadata": {},
     "output_type": "display_data"
    },
    {
     "data": {
      "application/vnd.jupyter.widget-view+json": {
       "model_id": "9bef39f554964683af7e499b918ee3b5",
       "version_major": 2,
       "version_minor": 0
      },
      "text/plain": [
       "lightgbm submodels:   0%|          | 0/3 [00:00<?, ?it/s]"
      ]
     },
     "metadata": {},
     "output_type": "display_data"
    },
    {
     "data": {
      "application/vnd.jupyter.widget-view+json": {
       "model_id": "56f889f606224419b2afd532bf4461e4",
       "version_major": 2,
       "version_minor": 0
      },
      "text/plain": [
       "knn submodels:   0%|          | 0/3 [00:00<?, ?it/s]"
      ]
     },
     "metadata": {},
     "output_type": "display_data"
    },
    {
     "data": {
      "application/vnd.jupyter.widget-view+json": {
       "model_id": "8177bf3e506a4216b658ea75ee26af67",
       "version_major": 2,
       "version_minor": 0
      },
      "text/plain": [
       "randomforest submodels:   0%|          | 0/3 [00:00<?, ?it/s]"
      ]
     },
     "metadata": {},
     "output_type": "display_data"
    },
    {
     "data": {
      "application/vnd.jupyter.widget-view+json": {
       "model_id": "6d4fe46f39014651bef4bd6ff8189b43",
       "version_major": 2,
       "version_minor": 0
      },
      "text/plain": [
       "decisiontree submodels:   0%|          | 0/3 [00:00<?, ?it/s]"
      ]
     },
     "metadata": {},
     "output_type": "display_data"
    },
    {
     "name": "stdout",
     "output_type": "stream",
     "text": [
      "word2vec_vs20_win8_sg1 done and updated json\n"
     ]
    },
    {
     "data": {
      "application/vnd.jupyter.widget-view+json": {
       "model_id": "ceebc1797bbc4394bc7cfdfb81c7f53e",
       "version_major": 2,
       "version_minor": 0
      },
      "text/plain": [
       "Predictive Models for word2vec_vs20_win4_sg0:   0%|          | 0/5 [00:00<?, ?it/s]"
      ]
     },
     "metadata": {},
     "output_type": "display_data"
    },
    {
     "data": {
      "application/vnd.jupyter.widget-view+json": {
       "model_id": "fed98eb1f5e1439d89716795f312ae32",
       "version_major": 2,
       "version_minor": 0
      },
      "text/plain": [
       "catboost submodels:   0%|          | 0/3 [00:00<?, ?it/s]"
      ]
     },
     "metadata": {},
     "output_type": "display_data"
    },
    {
     "data": {
      "application/vnd.jupyter.widget-view+json": {
       "model_id": "f717c69a2b7b46b69136aa126c8778ee",
       "version_major": 2,
       "version_minor": 0
      },
      "text/plain": [
       "lightgbm submodels:   0%|          | 0/3 [00:00<?, ?it/s]"
      ]
     },
     "metadata": {},
     "output_type": "display_data"
    },
    {
     "data": {
      "application/vnd.jupyter.widget-view+json": {
       "model_id": "aeb4f07058a34dffa0b3e4e8a8c32e48",
       "version_major": 2,
       "version_minor": 0
      },
      "text/plain": [
       "knn submodels:   0%|          | 0/3 [00:00<?, ?it/s]"
      ]
     },
     "metadata": {},
     "output_type": "display_data"
    },
    {
     "data": {
      "application/vnd.jupyter.widget-view+json": {
       "model_id": "2863eb320e4f4e278c2effb175c22bae",
       "version_major": 2,
       "version_minor": 0
      },
      "text/plain": [
       "randomforest submodels:   0%|          | 0/3 [00:00<?, ?it/s]"
      ]
     },
     "metadata": {},
     "output_type": "display_data"
    },
    {
     "data": {
      "application/vnd.jupyter.widget-view+json": {
       "model_id": "16572976f72f4b438c78cd6e4de6c1dd",
       "version_major": 2,
       "version_minor": 0
      },
      "text/plain": [
       "decisiontree submodels:   0%|          | 0/3 [00:00<?, ?it/s]"
      ]
     },
     "metadata": {},
     "output_type": "display_data"
    },
    {
     "name": "stdout",
     "output_type": "stream",
     "text": [
      "word2vec_vs20_win4_sg0 done and updated json\n"
     ]
    },
    {
     "data": {
      "application/vnd.jupyter.widget-view+json": {
       "model_id": "3763712fbd5144aea6940bdbd5645ebf",
       "version_major": 2,
       "version_minor": 0
      },
      "text/plain": [
       "Predictive Models for word2vec_vs20_win6_sg1:   0%|          | 0/5 [00:00<?, ?it/s]"
      ]
     },
     "metadata": {},
     "output_type": "display_data"
    },
    {
     "data": {
      "application/vnd.jupyter.widget-view+json": {
       "model_id": "aec39b83f4b1475093f8caad5a5601bc",
       "version_major": 2,
       "version_minor": 0
      },
      "text/plain": [
       "catboost submodels:   0%|          | 0/3 [00:00<?, ?it/s]"
      ]
     },
     "metadata": {},
     "output_type": "display_data"
    },
    {
     "data": {
      "application/vnd.jupyter.widget-view+json": {
       "model_id": "c9219dbda14d4814a2bfbc57b3ca7020",
       "version_major": 2,
       "version_minor": 0
      },
      "text/plain": [
       "lightgbm submodels:   0%|          | 0/3 [00:00<?, ?it/s]"
      ]
     },
     "metadata": {},
     "output_type": "display_data"
    },
    {
     "data": {
      "application/vnd.jupyter.widget-view+json": {
       "model_id": "bff7aae2d84242cebcc9f3f629cabd3c",
       "version_major": 2,
       "version_minor": 0
      },
      "text/plain": [
       "knn submodels:   0%|          | 0/3 [00:00<?, ?it/s]"
      ]
     },
     "metadata": {},
     "output_type": "display_data"
    },
    {
     "data": {
      "application/vnd.jupyter.widget-view+json": {
       "model_id": "b90bbb8430e642dc91598af372105f5d",
       "version_major": 2,
       "version_minor": 0
      },
      "text/plain": [
       "randomforest submodels:   0%|          | 0/3 [00:00<?, ?it/s]"
      ]
     },
     "metadata": {},
     "output_type": "display_data"
    },
    {
     "data": {
      "application/vnd.jupyter.widget-view+json": {
       "model_id": "041ef0fb747f4372a3d0e3188b095d78",
       "version_major": 2,
       "version_minor": 0
      },
      "text/plain": [
       "decisiontree submodels:   0%|          | 0/3 [00:00<?, ?it/s]"
      ]
     },
     "metadata": {},
     "output_type": "display_data"
    },
    {
     "name": "stdout",
     "output_type": "stream",
     "text": [
      "word2vec_vs20_win6_sg1 done and updated json\n"
     ]
    },
    {
     "data": {
      "application/vnd.jupyter.widget-view+json": {
       "model_id": "451bab50f04143c2b705c66c03c2f20e",
       "version_major": 2,
       "version_minor": 0
      },
      "text/plain": [
       "Predictive Models for word2vec_vs20_win7_sg0:   0%|          | 0/5 [00:00<?, ?it/s]"
      ]
     },
     "metadata": {},
     "output_type": "display_data"
    },
    {
     "data": {
      "application/vnd.jupyter.widget-view+json": {
       "model_id": "2e1c2008db854e569a70114c7ab8103a",
       "version_major": 2,
       "version_minor": 0
      },
      "text/plain": [
       "catboost submodels:   0%|          | 0/3 [00:00<?, ?it/s]"
      ]
     },
     "metadata": {},
     "output_type": "display_data"
    },
    {
     "data": {
      "application/vnd.jupyter.widget-view+json": {
       "model_id": "51bc5f3189424974b928e41aa9b5ed70",
       "version_major": 2,
       "version_minor": 0
      },
      "text/plain": [
       "lightgbm submodels:   0%|          | 0/3 [00:00<?, ?it/s]"
      ]
     },
     "metadata": {},
     "output_type": "display_data"
    },
    {
     "data": {
      "application/vnd.jupyter.widget-view+json": {
       "model_id": "0b02bc97437a47f99f75bcc14606f171",
       "version_major": 2,
       "version_minor": 0
      },
      "text/plain": [
       "knn submodels:   0%|          | 0/3 [00:00<?, ?it/s]"
      ]
     },
     "metadata": {},
     "output_type": "display_data"
    },
    {
     "data": {
      "application/vnd.jupyter.widget-view+json": {
       "model_id": "d7082ada27d942f48c2be6043ed6878b",
       "version_major": 2,
       "version_minor": 0
      },
      "text/plain": [
       "randomforest submodels:   0%|          | 0/3 [00:00<?, ?it/s]"
      ]
     },
     "metadata": {},
     "output_type": "display_data"
    },
    {
     "data": {
      "application/vnd.jupyter.widget-view+json": {
       "model_id": "8bc88b01a3dd43c5a89bcd22fcf9110d",
       "version_major": 2,
       "version_minor": 0
      },
      "text/plain": [
       "decisiontree submodels:   0%|          | 0/3 [00:00<?, ?it/s]"
      ]
     },
     "metadata": {},
     "output_type": "display_data"
    },
    {
     "name": "stdout",
     "output_type": "stream",
     "text": [
      "word2vec_vs20_win7_sg0 done and updated json\n"
     ]
    },
    {
     "data": {
      "application/vnd.jupyter.widget-view+json": {
       "model_id": "ebf84ec979d84c098cad584223020fac",
       "version_major": 2,
       "version_minor": 0
      },
      "text/plain": [
       "Predictive Models for word2vec_vs20_win7_sg1:   0%|          | 0/5 [00:00<?, ?it/s]"
      ]
     },
     "metadata": {},
     "output_type": "display_data"
    },
    {
     "data": {
      "application/vnd.jupyter.widget-view+json": {
       "model_id": "c9bdbca7d77f433a928430434bcad15f",
       "version_major": 2,
       "version_minor": 0
      },
      "text/plain": [
       "catboost submodels:   0%|          | 0/3 [00:00<?, ?it/s]"
      ]
     },
     "metadata": {},
     "output_type": "display_data"
    },
    {
     "data": {
      "application/vnd.jupyter.widget-view+json": {
       "model_id": "e3d50e30670d49a1a04056109e399b64",
       "version_major": 2,
       "version_minor": 0
      },
      "text/plain": [
       "lightgbm submodels:   0%|          | 0/3 [00:00<?, ?it/s]"
      ]
     },
     "metadata": {},
     "output_type": "display_data"
    },
    {
     "data": {
      "application/vnd.jupyter.widget-view+json": {
       "model_id": "4cd6538d93ad40d3b052ff2edf2b92a3",
       "version_major": 2,
       "version_minor": 0
      },
      "text/plain": [
       "knn submodels:   0%|          | 0/3 [00:00<?, ?it/s]"
      ]
     },
     "metadata": {},
     "output_type": "display_data"
    },
    {
     "data": {
      "application/vnd.jupyter.widget-view+json": {
       "model_id": "888c06c17f894f7e9eec4ad2da6b14ae",
       "version_major": 2,
       "version_minor": 0
      },
      "text/plain": [
       "randomforest submodels:   0%|          | 0/3 [00:00<?, ?it/s]"
      ]
     },
     "metadata": {},
     "output_type": "display_data"
    },
    {
     "data": {
      "application/vnd.jupyter.widget-view+json": {
       "model_id": "7530933b7bc34e6590d881deed0f7630",
       "version_major": 2,
       "version_minor": 0
      },
      "text/plain": [
       "decisiontree submodels:   0%|          | 0/3 [00:00<?, ?it/s]"
      ]
     },
     "metadata": {},
     "output_type": "display_data"
    },
    {
     "name": "stdout",
     "output_type": "stream",
     "text": [
      "word2vec_vs20_win7_sg1 done and updated json\n"
     ]
    },
    {
     "data": {
      "application/vnd.jupyter.widget-view+json": {
       "model_id": "7865dd5c51d4425e8de1a8ad0b9f092b",
       "version_major": 2,
       "version_minor": 0
      },
      "text/plain": [
       "Predictive Models for word2vec_vs20_win6_sg0:   0%|          | 0/5 [00:00<?, ?it/s]"
      ]
     },
     "metadata": {},
     "output_type": "display_data"
    },
    {
     "data": {
      "application/vnd.jupyter.widget-view+json": {
       "model_id": "4560ae4c1aec4c4f93f4c4353fc1c2a1",
       "version_major": 2,
       "version_minor": 0
      },
      "text/plain": [
       "catboost submodels:   0%|          | 0/3 [00:00<?, ?it/s]"
      ]
     },
     "metadata": {},
     "output_type": "display_data"
    },
    {
     "data": {
      "application/vnd.jupyter.widget-view+json": {
       "model_id": "7c047e3223314c2790560637f6b55a19",
       "version_major": 2,
       "version_minor": 0
      },
      "text/plain": [
       "lightgbm submodels:   0%|          | 0/3 [00:00<?, ?it/s]"
      ]
     },
     "metadata": {},
     "output_type": "display_data"
    },
    {
     "data": {
      "application/vnd.jupyter.widget-view+json": {
       "model_id": "85064cc4b6444f1aac284f000c955ae8",
       "version_major": 2,
       "version_minor": 0
      },
      "text/plain": [
       "knn submodels:   0%|          | 0/3 [00:00<?, ?it/s]"
      ]
     },
     "metadata": {},
     "output_type": "display_data"
    },
    {
     "data": {
      "application/vnd.jupyter.widget-view+json": {
       "model_id": "44bd06e97ea44caa9ffb5c5d868f7be3",
       "version_major": 2,
       "version_minor": 0
      },
      "text/plain": [
       "randomforest submodels:   0%|          | 0/3 [00:00<?, ?it/s]"
      ]
     },
     "metadata": {},
     "output_type": "display_data"
    },
    {
     "data": {
      "application/vnd.jupyter.widget-view+json": {
       "model_id": "c0824b55b90742e3b2cbb56151321944",
       "version_major": 2,
       "version_minor": 0
      },
      "text/plain": [
       "decisiontree submodels:   0%|          | 0/3 [00:00<?, ?it/s]"
      ]
     },
     "metadata": {},
     "output_type": "display_data"
    },
    {
     "name": "stdout",
     "output_type": "stream",
     "text": [
      "word2vec_vs20_win6_sg0 done and updated json\n"
     ]
    },
    {
     "data": {
      "application/vnd.jupyter.widget-view+json": {
       "model_id": "7b2bf078ef4f4fd09ca6915be6e2f1ee",
       "version_major": 2,
       "version_minor": 0
      },
      "text/plain": [
       "Predictive Models for word2vec_vs50_win5_sg0:   0%|          | 0/5 [00:00<?, ?it/s]"
      ]
     },
     "metadata": {},
     "output_type": "display_data"
    },
    {
     "data": {
      "application/vnd.jupyter.widget-view+json": {
       "model_id": "15b32a0172c143c2ab255173fe9f7457",
       "version_major": 2,
       "version_minor": 0
      },
      "text/plain": [
       "catboost submodels:   0%|          | 0/3 [00:00<?, ?it/s]"
      ]
     },
     "metadata": {},
     "output_type": "display_data"
    },
    {
     "data": {
      "application/vnd.jupyter.widget-view+json": {
       "model_id": "e192f5352f104a30bd9f0c25e2815a8c",
       "version_major": 2,
       "version_minor": 0
      },
      "text/plain": [
       "lightgbm submodels:   0%|          | 0/3 [00:00<?, ?it/s]"
      ]
     },
     "metadata": {},
     "output_type": "display_data"
    },
    {
     "data": {
      "application/vnd.jupyter.widget-view+json": {
       "model_id": "e98cb85ffa5043ec9140d51dcc40ba26",
       "version_major": 2,
       "version_minor": 0
      },
      "text/plain": [
       "knn submodels:   0%|          | 0/3 [00:00<?, ?it/s]"
      ]
     },
     "metadata": {},
     "output_type": "display_data"
    },
    {
     "data": {
      "application/vnd.jupyter.widget-view+json": {
       "model_id": "6a90209f33e44f149a070e893b80645d",
       "version_major": 2,
       "version_minor": 0
      },
      "text/plain": [
       "randomforest submodels:   0%|          | 0/3 [00:00<?, ?it/s]"
      ]
     },
     "metadata": {},
     "output_type": "display_data"
    },
    {
     "data": {
      "application/vnd.jupyter.widget-view+json": {
       "model_id": "bbe486280c3c43c79ef602217cb38a5c",
       "version_major": 2,
       "version_minor": 0
      },
      "text/plain": [
       "decisiontree submodels:   0%|          | 0/3 [00:00<?, ?it/s]"
      ]
     },
     "metadata": {},
     "output_type": "display_data"
    },
    {
     "name": "stdout",
     "output_type": "stream",
     "text": [
      "word2vec_vs50_win5_sg0 done and updated json\n"
     ]
    },
    {
     "data": {
      "application/vnd.jupyter.widget-view+json": {
       "model_id": "53365ab873d443e48d9a1646d7d7e42c",
       "version_major": 2,
       "version_minor": 0
      },
      "text/plain": [
       "Predictive Models for word2vec_vs50_win8_sg0:   0%|          | 0/5 [00:00<?, ?it/s]"
      ]
     },
     "metadata": {},
     "output_type": "display_data"
    },
    {
     "data": {
      "application/vnd.jupyter.widget-view+json": {
       "model_id": "b23be317c9bd42abbc05601e9696a543",
       "version_major": 2,
       "version_minor": 0
      },
      "text/plain": [
       "catboost submodels:   0%|          | 0/3 [00:00<?, ?it/s]"
      ]
     },
     "metadata": {},
     "output_type": "display_data"
    },
    {
     "data": {
      "application/vnd.jupyter.widget-view+json": {
       "model_id": "c05d0ffd49774c1094951aeef2c0241c",
       "version_major": 2,
       "version_minor": 0
      },
      "text/plain": [
       "lightgbm submodels:   0%|          | 0/3 [00:00<?, ?it/s]"
      ]
     },
     "metadata": {},
     "output_type": "display_data"
    },
    {
     "data": {
      "application/vnd.jupyter.widget-view+json": {
       "model_id": "1bada4748c0c4acba700e6d08a82f776",
       "version_major": 2,
       "version_minor": 0
      },
      "text/plain": [
       "knn submodels:   0%|          | 0/3 [00:00<?, ?it/s]"
      ]
     },
     "metadata": {},
     "output_type": "display_data"
    },
    {
     "data": {
      "application/vnd.jupyter.widget-view+json": {
       "model_id": "44daa4909e3146608e686d4511ddb075",
       "version_major": 2,
       "version_minor": 0
      },
      "text/plain": [
       "randomforest submodels:   0%|          | 0/3 [00:00<?, ?it/s]"
      ]
     },
     "metadata": {},
     "output_type": "display_data"
    },
    {
     "data": {
      "application/vnd.jupyter.widget-view+json": {
       "model_id": "938deb9e98374e05a2b089e1e49a35f1",
       "version_major": 2,
       "version_minor": 0
      },
      "text/plain": [
       "decisiontree submodels:   0%|          | 0/3 [00:00<?, ?it/s]"
      ]
     },
     "metadata": {},
     "output_type": "display_data"
    },
    {
     "name": "stdout",
     "output_type": "stream",
     "text": [
      "word2vec_vs50_win8_sg0 done and updated json\n"
     ]
    },
    {
     "data": {
      "application/vnd.jupyter.widget-view+json": {
       "model_id": "e36a6f12bec24ea69cec71b26b54870b",
       "version_major": 2,
       "version_minor": 0
      },
      "text/plain": [
       "Predictive Models for word2vec_vs50_win4_sg1:   0%|          | 0/5 [00:00<?, ?it/s]"
      ]
     },
     "metadata": {},
     "output_type": "display_data"
    },
    {
     "data": {
      "application/vnd.jupyter.widget-view+json": {
       "model_id": "e5296f45dd414a19a14b499a5167ace1",
       "version_major": 2,
       "version_minor": 0
      },
      "text/plain": [
       "catboost submodels:   0%|          | 0/3 [00:00<?, ?it/s]"
      ]
     },
     "metadata": {},
     "output_type": "display_data"
    },
    {
     "data": {
      "application/vnd.jupyter.widget-view+json": {
       "model_id": "c129351d700447b1a026cc24428db1d1",
       "version_major": 2,
       "version_minor": 0
      },
      "text/plain": [
       "lightgbm submodels:   0%|          | 0/3 [00:00<?, ?it/s]"
      ]
     },
     "metadata": {},
     "output_type": "display_data"
    },
    {
     "data": {
      "application/vnd.jupyter.widget-view+json": {
       "model_id": "58abc8fc4c234efa8841909e5f147226",
       "version_major": 2,
       "version_minor": 0
      },
      "text/plain": [
       "knn submodels:   0%|          | 0/3 [00:00<?, ?it/s]"
      ]
     },
     "metadata": {},
     "output_type": "display_data"
    },
    {
     "data": {
      "application/vnd.jupyter.widget-view+json": {
       "model_id": "1ceee8973c17426389862923c0fe79dd",
       "version_major": 2,
       "version_minor": 0
      },
      "text/plain": [
       "randomforest submodels:   0%|          | 0/3 [00:00<?, ?it/s]"
      ]
     },
     "metadata": {},
     "output_type": "display_data"
    },
    {
     "data": {
      "application/vnd.jupyter.widget-view+json": {
       "model_id": "e1d23e834766451092e3cd9b69737d87",
       "version_major": 2,
       "version_minor": 0
      },
      "text/plain": [
       "decisiontree submodels:   0%|          | 0/3 [00:00<?, ?it/s]"
      ]
     },
     "metadata": {},
     "output_type": "display_data"
    },
    {
     "name": "stdout",
     "output_type": "stream",
     "text": [
      "word2vec_vs50_win4_sg1 done and updated json\n"
     ]
    },
    {
     "data": {
      "application/vnd.jupyter.widget-view+json": {
       "model_id": "10c6c9f3212b4a989dd424201d9ae039",
       "version_major": 2,
       "version_minor": 0
      },
      "text/plain": [
       "Predictive Models for word2vec_vs50_win3_sg0:   0%|          | 0/5 [00:00<?, ?it/s]"
      ]
     },
     "metadata": {},
     "output_type": "display_data"
    },
    {
     "data": {
      "application/vnd.jupyter.widget-view+json": {
       "model_id": "af5d513c58c74b9a8e6638e57f64d74e",
       "version_major": 2,
       "version_minor": 0
      },
      "text/plain": [
       "catboost submodels:   0%|          | 0/3 [00:00<?, ?it/s]"
      ]
     },
     "metadata": {},
     "output_type": "display_data"
    },
    {
     "data": {
      "application/vnd.jupyter.widget-view+json": {
       "model_id": "bbe4ae3b952c4f5bace58a03df8e4ee2",
       "version_major": 2,
       "version_minor": 0
      },
      "text/plain": [
       "lightgbm submodels:   0%|          | 0/3 [00:00<?, ?it/s]"
      ]
     },
     "metadata": {},
     "output_type": "display_data"
    },
    {
     "data": {
      "application/vnd.jupyter.widget-view+json": {
       "model_id": "081ab60265224e47988d0448dc2804c6",
       "version_major": 2,
       "version_minor": 0
      },
      "text/plain": [
       "knn submodels:   0%|          | 0/3 [00:00<?, ?it/s]"
      ]
     },
     "metadata": {},
     "output_type": "display_data"
    },
    {
     "data": {
      "application/vnd.jupyter.widget-view+json": {
       "model_id": "a7eeb46c5a514314bdaf810997a4017a",
       "version_major": 2,
       "version_minor": 0
      },
      "text/plain": [
       "randomforest submodels:   0%|          | 0/3 [00:00<?, ?it/s]"
      ]
     },
     "metadata": {},
     "output_type": "display_data"
    },
    {
     "data": {
      "application/vnd.jupyter.widget-view+json": {
       "model_id": "e814690b1be24096a59f5bcd6d9b9166",
       "version_major": 2,
       "version_minor": 0
      },
      "text/plain": [
       "decisiontree submodels:   0%|          | 0/3 [00:00<?, ?it/s]"
      ]
     },
     "metadata": {},
     "output_type": "display_data"
    },
    {
     "name": "stdout",
     "output_type": "stream",
     "text": [
      "word2vec_vs50_win3_sg0 done and updated json\n"
     ]
    },
    {
     "data": {
      "application/vnd.jupyter.widget-view+json": {
       "model_id": "4ac41955dc32489ba9b583140e5028d3",
       "version_major": 2,
       "version_minor": 0
      },
      "text/plain": [
       "Predictive Models for word2vec_vs50_win4_sg0:   0%|          | 0/5 [00:00<?, ?it/s]"
      ]
     },
     "metadata": {},
     "output_type": "display_data"
    },
    {
     "data": {
      "application/vnd.jupyter.widget-view+json": {
       "model_id": "787a5844889e434fa86ef72d1a0ad3fc",
       "version_major": 2,
       "version_minor": 0
      },
      "text/plain": [
       "catboost submodels:   0%|          | 0/3 [00:00<?, ?it/s]"
      ]
     },
     "metadata": {},
     "output_type": "display_data"
    },
    {
     "data": {
      "application/vnd.jupyter.widget-view+json": {
       "model_id": "a98ac107821046cf971c2f6889df46dc",
       "version_major": 2,
       "version_minor": 0
      },
      "text/plain": [
       "lightgbm submodels:   0%|          | 0/3 [00:00<?, ?it/s]"
      ]
     },
     "metadata": {},
     "output_type": "display_data"
    },
    {
     "data": {
      "application/vnd.jupyter.widget-view+json": {
       "model_id": "56edf5c0ba08408e9d8c76ceb8f79f1c",
       "version_major": 2,
       "version_minor": 0
      },
      "text/plain": [
       "knn submodels:   0%|          | 0/3 [00:00<?, ?it/s]"
      ]
     },
     "metadata": {},
     "output_type": "display_data"
    },
    {
     "data": {
      "application/vnd.jupyter.widget-view+json": {
       "model_id": "32dc41fd87264380a43caa02fea6ab38",
       "version_major": 2,
       "version_minor": 0
      },
      "text/plain": [
       "randomforest submodels:   0%|          | 0/3 [00:00<?, ?it/s]"
      ]
     },
     "metadata": {},
     "output_type": "display_data"
    },
    {
     "data": {
      "application/vnd.jupyter.widget-view+json": {
       "model_id": "1948b70039cf409783262c879b7d0588",
       "version_major": 2,
       "version_minor": 0
      },
      "text/plain": [
       "decisiontree submodels:   0%|          | 0/3 [00:00<?, ?it/s]"
      ]
     },
     "metadata": {},
     "output_type": "display_data"
    },
    {
     "name": "stdout",
     "output_type": "stream",
     "text": [
      "word2vec_vs50_win4_sg0 done and updated json\n"
     ]
    },
    {
     "data": {
      "application/vnd.jupyter.widget-view+json": {
       "model_id": "9e04289ac9ae4dd38d740ff9c02cafe6",
       "version_major": 2,
       "version_minor": 0
      },
      "text/plain": [
       "Predictive Models for word2vec_vs50_win8_sg1:   0%|          | 0/5 [00:00<?, ?it/s]"
      ]
     },
     "metadata": {},
     "output_type": "display_data"
    },
    {
     "data": {
      "application/vnd.jupyter.widget-view+json": {
       "model_id": "7b4a47ec9abe446bbf440a4bb571a8fd",
       "version_major": 2,
       "version_minor": 0
      },
      "text/plain": [
       "catboost submodels:   0%|          | 0/3 [00:00<?, ?it/s]"
      ]
     },
     "metadata": {},
     "output_type": "display_data"
    },
    {
     "data": {
      "application/vnd.jupyter.widget-view+json": {
       "model_id": "20368c712a154ef4bb13842f85f704ad",
       "version_major": 2,
       "version_minor": 0
      },
      "text/plain": [
       "lightgbm submodels:   0%|          | 0/3 [00:00<?, ?it/s]"
      ]
     },
     "metadata": {},
     "output_type": "display_data"
    },
    {
     "data": {
      "application/vnd.jupyter.widget-view+json": {
       "model_id": "1d117a6fe5904bdd8db3d898076b4ede",
       "version_major": 2,
       "version_minor": 0
      },
      "text/plain": [
       "knn submodels:   0%|          | 0/3 [00:00<?, ?it/s]"
      ]
     },
     "metadata": {},
     "output_type": "display_data"
    },
    {
     "data": {
      "application/vnd.jupyter.widget-view+json": {
       "model_id": "7bf3579aa63047aba94112e2a40424f7",
       "version_major": 2,
       "version_minor": 0
      },
      "text/plain": [
       "randomforest submodels:   0%|          | 0/3 [00:00<?, ?it/s]"
      ]
     },
     "metadata": {},
     "output_type": "display_data"
    },
    {
     "data": {
      "application/vnd.jupyter.widget-view+json": {
       "model_id": "c6d1eac1dd324b0d8a2bf54d0a5284b7",
       "version_major": 2,
       "version_minor": 0
      },
      "text/plain": [
       "decisiontree submodels:   0%|          | 0/3 [00:00<?, ?it/s]"
      ]
     },
     "metadata": {},
     "output_type": "display_data"
    },
    {
     "name": "stdout",
     "output_type": "stream",
     "text": [
      "word2vec_vs50_win8_sg1 done and updated json\n"
     ]
    },
    {
     "data": {
      "application/vnd.jupyter.widget-view+json": {
       "model_id": "67731d4a670b4870903361be9b5f534a",
       "version_major": 2,
       "version_minor": 0
      },
      "text/plain": [
       "Predictive Models for word2vec_vs50_win5_sg1:   0%|          | 0/5 [00:00<?, ?it/s]"
      ]
     },
     "metadata": {},
     "output_type": "display_data"
    },
    {
     "data": {
      "application/vnd.jupyter.widget-view+json": {
       "model_id": "1d7092b0ba5e48d0bdefd73927940c45",
       "version_major": 2,
       "version_minor": 0
      },
      "text/plain": [
       "catboost submodels:   0%|          | 0/3 [00:00<?, ?it/s]"
      ]
     },
     "metadata": {},
     "output_type": "display_data"
    },
    {
     "data": {
      "application/vnd.jupyter.widget-view+json": {
       "model_id": "dda943c364274915a7e52d80cd4dfb25",
       "version_major": 2,
       "version_minor": 0
      },
      "text/plain": [
       "lightgbm submodels:   0%|          | 0/3 [00:00<?, ?it/s]"
      ]
     },
     "metadata": {},
     "output_type": "display_data"
    },
    {
     "data": {
      "application/vnd.jupyter.widget-view+json": {
       "model_id": "d8b61329ea974a50bd60f3f08c7f2605",
       "version_major": 2,
       "version_minor": 0
      },
      "text/plain": [
       "knn submodels:   0%|          | 0/3 [00:00<?, ?it/s]"
      ]
     },
     "metadata": {},
     "output_type": "display_data"
    },
    {
     "data": {
      "application/vnd.jupyter.widget-view+json": {
       "model_id": "590bc48b85b64c55ac4dd48f66dbfd6d",
       "version_major": 2,
       "version_minor": 0
      },
      "text/plain": [
       "randomforest submodels:   0%|          | 0/3 [00:00<?, ?it/s]"
      ]
     },
     "metadata": {},
     "output_type": "display_data"
    },
    {
     "data": {
      "application/vnd.jupyter.widget-view+json": {
       "model_id": "c4fd1da9612b4734ab69ad4360d1d539",
       "version_major": 2,
       "version_minor": 0
      },
      "text/plain": [
       "decisiontree submodels:   0%|          | 0/3 [00:00<?, ?it/s]"
      ]
     },
     "metadata": {},
     "output_type": "display_data"
    },
    {
     "name": "stdout",
     "output_type": "stream",
     "text": [
      "word2vec_vs50_win5_sg1 done and updated json\n"
     ]
    },
    {
     "data": {
      "application/vnd.jupyter.widget-view+json": {
       "model_id": "7fbf51c91e0043e1adb51bacacfcc9f2",
       "version_major": 2,
       "version_minor": 0
      },
      "text/plain": [
       "Predictive Models for word2vec_vs50_win3_sg1:   0%|          | 0/5 [00:00<?, ?it/s]"
      ]
     },
     "metadata": {},
     "output_type": "display_data"
    },
    {
     "data": {
      "application/vnd.jupyter.widget-view+json": {
       "model_id": "e24f1c5839dc40fa8bca31b558dc2673",
       "version_major": 2,
       "version_minor": 0
      },
      "text/plain": [
       "catboost submodels:   0%|          | 0/3 [00:00<?, ?it/s]"
      ]
     },
     "metadata": {},
     "output_type": "display_data"
    },
    {
     "data": {
      "application/vnd.jupyter.widget-view+json": {
       "model_id": "96db61d66ab040ee879810545093ae11",
       "version_major": 2,
       "version_minor": 0
      },
      "text/plain": [
       "lightgbm submodels:   0%|          | 0/3 [00:00<?, ?it/s]"
      ]
     },
     "metadata": {},
     "output_type": "display_data"
    },
    {
     "data": {
      "application/vnd.jupyter.widget-view+json": {
       "model_id": "0404891592b44aa0a54940509881fa52",
       "version_major": 2,
       "version_minor": 0
      },
      "text/plain": [
       "knn submodels:   0%|          | 0/3 [00:00<?, ?it/s]"
      ]
     },
     "metadata": {},
     "output_type": "display_data"
    },
    {
     "data": {
      "application/vnd.jupyter.widget-view+json": {
       "model_id": "32adfa528a364b9995b352ab32f406b7",
       "version_major": 2,
       "version_minor": 0
      },
      "text/plain": [
       "randomforest submodels:   0%|          | 0/3 [00:00<?, ?it/s]"
      ]
     },
     "metadata": {},
     "output_type": "display_data"
    },
    {
     "data": {
      "application/vnd.jupyter.widget-view+json": {
       "model_id": "fe4a17120a2848d7a3163c56d031f2c8",
       "version_major": 2,
       "version_minor": 0
      },
      "text/plain": [
       "decisiontree submodels:   0%|          | 0/3 [00:00<?, ?it/s]"
      ]
     },
     "metadata": {},
     "output_type": "display_data"
    },
    {
     "name": "stdout",
     "output_type": "stream",
     "text": [
      "word2vec_vs50_win3_sg1 done and updated json\n"
     ]
    },
    {
     "data": {
      "application/vnd.jupyter.widget-view+json": {
       "model_id": "8490b6ea24994cc1a272854f837736aa",
       "version_major": 2,
       "version_minor": 0
      },
      "text/plain": [
       "Predictive Models for word2vec_vs50_win7_sg0:   0%|          | 0/5 [00:00<?, ?it/s]"
      ]
     },
     "metadata": {},
     "output_type": "display_data"
    },
    {
     "data": {
      "application/vnd.jupyter.widget-view+json": {
       "model_id": "dfc7d8c95fe34ccd885ed473d7ba65fd",
       "version_major": 2,
       "version_minor": 0
      },
      "text/plain": [
       "catboost submodels:   0%|          | 0/3 [00:00<?, ?it/s]"
      ]
     },
     "metadata": {},
     "output_type": "display_data"
    },
    {
     "data": {
      "application/vnd.jupyter.widget-view+json": {
       "model_id": "ff0554659cd6486b85b76e636b7754a3",
       "version_major": 2,
       "version_minor": 0
      },
      "text/plain": [
       "lightgbm submodels:   0%|          | 0/3 [00:00<?, ?it/s]"
      ]
     },
     "metadata": {},
     "output_type": "display_data"
    },
    {
     "data": {
      "application/vnd.jupyter.widget-view+json": {
       "model_id": "5bdf8743faae436398de20cda3653499",
       "version_major": 2,
       "version_minor": 0
      },
      "text/plain": [
       "knn submodels:   0%|          | 0/3 [00:00<?, ?it/s]"
      ]
     },
     "metadata": {},
     "output_type": "display_data"
    },
    {
     "data": {
      "application/vnd.jupyter.widget-view+json": {
       "model_id": "34e82d9f14114a7da8d17e623dbeded9",
       "version_major": 2,
       "version_minor": 0
      },
      "text/plain": [
       "randomforest submodels:   0%|          | 0/3 [00:00<?, ?it/s]"
      ]
     },
     "metadata": {},
     "output_type": "display_data"
    },
    {
     "data": {
      "application/vnd.jupyter.widget-view+json": {
       "model_id": "f569d908fd1f464f8751e83b59b8b7c5",
       "version_major": 2,
       "version_minor": 0
      },
      "text/plain": [
       "decisiontree submodels:   0%|          | 0/3 [00:00<?, ?it/s]"
      ]
     },
     "metadata": {},
     "output_type": "display_data"
    },
    {
     "name": "stdout",
     "output_type": "stream",
     "text": [
      "word2vec_vs50_win7_sg0 done and updated json\n"
     ]
    },
    {
     "data": {
      "application/vnd.jupyter.widget-view+json": {
       "model_id": "96a9c332fed8462ea16d2fa6a9441286",
       "version_major": 2,
       "version_minor": 0
      },
      "text/plain": [
       "Predictive Models for word2vec_vs50_win6_sg1:   0%|          | 0/5 [00:00<?, ?it/s]"
      ]
     },
     "metadata": {},
     "output_type": "display_data"
    },
    {
     "data": {
      "application/vnd.jupyter.widget-view+json": {
       "model_id": "449c1aacae9d40319028734a82e381ca",
       "version_major": 2,
       "version_minor": 0
      },
      "text/plain": [
       "catboost submodels:   0%|          | 0/3 [00:00<?, ?it/s]"
      ]
     },
     "metadata": {},
     "output_type": "display_data"
    },
    {
     "data": {
      "application/vnd.jupyter.widget-view+json": {
       "model_id": "d37f46f0fdef4f2ca5c44f9094454e89",
       "version_major": 2,
       "version_minor": 0
      },
      "text/plain": [
       "lightgbm submodels:   0%|          | 0/3 [00:00<?, ?it/s]"
      ]
     },
     "metadata": {},
     "output_type": "display_data"
    },
    {
     "data": {
      "application/vnd.jupyter.widget-view+json": {
       "model_id": "28376fe44d9b4332be5e2bb30c5ab8eb",
       "version_major": 2,
       "version_minor": 0
      },
      "text/plain": [
       "knn submodels:   0%|          | 0/3 [00:00<?, ?it/s]"
      ]
     },
     "metadata": {},
     "output_type": "display_data"
    },
    {
     "data": {
      "application/vnd.jupyter.widget-view+json": {
       "model_id": "1c92cd5d376441e49734e44d8cfa4e7e",
       "version_major": 2,
       "version_minor": 0
      },
      "text/plain": [
       "randomforest submodels:   0%|          | 0/3 [00:00<?, ?it/s]"
      ]
     },
     "metadata": {},
     "output_type": "display_data"
    },
    {
     "data": {
      "application/vnd.jupyter.widget-view+json": {
       "model_id": "1def0d851cbf444a899425da20c33966",
       "version_major": 2,
       "version_minor": 0
      },
      "text/plain": [
       "decisiontree submodels:   0%|          | 0/3 [00:00<?, ?it/s]"
      ]
     },
     "metadata": {},
     "output_type": "display_data"
    },
    {
     "name": "stdout",
     "output_type": "stream",
     "text": [
      "word2vec_vs50_win6_sg1 done and updated json\n"
     ]
    },
    {
     "data": {
      "application/vnd.jupyter.widget-view+json": {
       "model_id": "7d0c6309e705457883aec9d86bd09498",
       "version_major": 2,
       "version_minor": 0
      },
      "text/plain": [
       "Predictive Models for word2vec_vs50_win6_sg0:   0%|          | 0/5 [00:00<?, ?it/s]"
      ]
     },
     "metadata": {},
     "output_type": "display_data"
    },
    {
     "data": {
      "application/vnd.jupyter.widget-view+json": {
       "model_id": "4054456e58b5495880bcd7fcce2535d3",
       "version_major": 2,
       "version_minor": 0
      },
      "text/plain": [
       "catboost submodels:   0%|          | 0/3 [00:00<?, ?it/s]"
      ]
     },
     "metadata": {},
     "output_type": "display_data"
    },
    {
     "data": {
      "application/vnd.jupyter.widget-view+json": {
       "model_id": "3525c6a5273b46b2b38f1eca88e60e2e",
       "version_major": 2,
       "version_minor": 0
      },
      "text/plain": [
       "lightgbm submodels:   0%|          | 0/3 [00:00<?, ?it/s]"
      ]
     },
     "metadata": {},
     "output_type": "display_data"
    },
    {
     "data": {
      "application/vnd.jupyter.widget-view+json": {
       "model_id": "35eac744b90c4c799cab275ae6614043",
       "version_major": 2,
       "version_minor": 0
      },
      "text/plain": [
       "knn submodels:   0%|          | 0/3 [00:00<?, ?it/s]"
      ]
     },
     "metadata": {},
     "output_type": "display_data"
    },
    {
     "data": {
      "application/vnd.jupyter.widget-view+json": {
       "model_id": "829faee5e94e490284c86ff93cbe52e5",
       "version_major": 2,
       "version_minor": 0
      },
      "text/plain": [
       "randomforest submodels:   0%|          | 0/3 [00:00<?, ?it/s]"
      ]
     },
     "metadata": {},
     "output_type": "display_data"
    },
    {
     "data": {
      "application/vnd.jupyter.widget-view+json": {
       "model_id": "dd521fdcacd64fc5ad31b8de5b66ebdd",
       "version_major": 2,
       "version_minor": 0
      },
      "text/plain": [
       "decisiontree submodels:   0%|          | 0/3 [00:00<?, ?it/s]"
      ]
     },
     "metadata": {},
     "output_type": "display_data"
    },
    {
     "name": "stdout",
     "output_type": "stream",
     "text": [
      "word2vec_vs50_win6_sg0 done and updated json\n"
     ]
    },
    {
     "data": {
      "application/vnd.jupyter.widget-view+json": {
       "model_id": "e256aeb2513a44ae823677d1b134df09",
       "version_major": 2,
       "version_minor": 0
      },
      "text/plain": [
       "Predictive Models for word2vec_vs50_win7_sg1:   0%|          | 0/5 [00:00<?, ?it/s]"
      ]
     },
     "metadata": {},
     "output_type": "display_data"
    },
    {
     "data": {
      "application/vnd.jupyter.widget-view+json": {
       "model_id": "35f2206e8fd34856b2afc994930f28bc",
       "version_major": 2,
       "version_minor": 0
      },
      "text/plain": [
       "catboost submodels:   0%|          | 0/3 [00:00<?, ?it/s]"
      ]
     },
     "metadata": {},
     "output_type": "display_data"
    },
    {
     "data": {
      "application/vnd.jupyter.widget-view+json": {
       "model_id": "6ac126be4ee44560b174f0d812a50276",
       "version_major": 2,
       "version_minor": 0
      },
      "text/plain": [
       "lightgbm submodels:   0%|          | 0/3 [00:00<?, ?it/s]"
      ]
     },
     "metadata": {},
     "output_type": "display_data"
    },
    {
     "data": {
      "application/vnd.jupyter.widget-view+json": {
       "model_id": "92e968fbb18f4e87853896dc98897076",
       "version_major": 2,
       "version_minor": 0
      },
      "text/plain": [
       "knn submodels:   0%|          | 0/3 [00:00<?, ?it/s]"
      ]
     },
     "metadata": {},
     "output_type": "display_data"
    },
    {
     "data": {
      "application/vnd.jupyter.widget-view+json": {
       "model_id": "6069165ffb404450a6b3330e5ad0c210",
       "version_major": 2,
       "version_minor": 0
      },
      "text/plain": [
       "randomforest submodels:   0%|          | 0/3 [00:00<?, ?it/s]"
      ]
     },
     "metadata": {},
     "output_type": "display_data"
    },
    {
     "data": {
      "application/vnd.jupyter.widget-view+json": {
       "model_id": "5ad582edb4594fbc8199858e26603c0b",
       "version_major": 2,
       "version_minor": 0
      },
      "text/plain": [
       "decisiontree submodels:   0%|          | 0/3 [00:00<?, ?it/s]"
      ]
     },
     "metadata": {},
     "output_type": "display_data"
    },
    {
     "name": "stdout",
     "output_type": "stream",
     "text": [
      "word2vec_vs50_win7_sg1 done and updated json\n"
     ]
    }
   ],
   "source": [
    "import copy as cp\n",
    "from tqdm.auto import tqdm\n",
    "# iterate over files in word2vec_models folder\n",
    "for file in tqdm(files):\n",
    "    # check if file is a .model file\n",
    "    if file.endswith('.model'):\n",
    "        df_temp = cp.deepcopy(df)\n",
    "        # load model\n",
    "        # path to model\n",
    "        model_path = os.path.join('../../all_datasets/word2vec_models', file)\n",
    "\n",
    "        properties = file.split('_')\n",
    "        # print(properties)\n",
    "\n",
    "        vector_size = int(properties[1][2:])\n",
    "        window_size = int(properties[2][3:])\n",
    "        is_skipgram = bool(int(properties[3][2:-6]))\n",
    "\n",
    "        settings = {\n",
    "            'model_path': model_path,\n",
    "            'is_skipgram' : is_skipgram,\n",
    "            'window_size' : window_size,\n",
    "            'vector_size' : vector_size, \n",
    "\n",
    "        }\n",
    "        # print(settings)\n",
    "\n",
    "        model_w2v = Word2VecModel(settings)\n",
    "        # get model name\n",
    "        model_name = file.split('.')[0]\n",
    "\n",
    "        title_vectors = [get_word_vectors(model_w2v, title, aggregation='mean') for title in df_temp['title']]\n",
    "        df_temp['title_vector'] = title_vectors\n",
    "\n",
    "        train = df_temp['sample'] == 'train'\n",
    "        test = df_temp['sample'] == 'val1'\n",
    "\n",
    "        # X = np.vstack(title_vectors)\n",
    "        # y = df['is_clickbait'].values\n",
    "\n",
    "        X_train = np.vstack(df_temp[train]['title_vector'])\n",
    "        y_train = df_temp[train]['is_clickbait'].values\n",
    "\n",
    "        X_test = np.vstack(df_temp[test]['title_vector'])\n",
    "        y_test = df_temp[test]['is_clickbait'].values\n",
    "   \n",
    "\n",
    "        # scale data\n",
    "        scaler = StandardScaler()\n",
    "        X_train_scaled = scaler.fit_transform(X_train)\n",
    "        X_test_scaled = scaler.transform(X_test)\n",
    "\n",
    "        # train models\n",
    "        models = {\n",
    "            'catboost': [\n",
    "                CatBoostClassifier(verbose=False, random_state=1, ),\n",
    "                CatBoostClassifier(verbose=False, random_state=2, ),\n",
    "                CatBoostClassifier(verbose=False, random_state=3, ),\n",
    "             \n",
    "            ],\n",
    "\n",
    "            'lightgbm': [\n",
    "                LGBMClassifier(random_state=1, verbose=-1),\n",
    "                LGBMClassifier(random_state=2, verbose=-1),\n",
    "                LGBMClassifier(random_state=3 ,verbose=-1),\n",
    "            \n",
    "            ],\n",
    "            \n",
    "            'knn' : [\n",
    "                KNeighborsClassifier(n_neighbors=3),\n",
    "                KNeighborsClassifier(n_neighbors=7),\n",
    "                KNeighborsClassifier(n_neighbors=5),\n",
    "               \n",
    "            ],\n",
    "\n",
    "            'randomforest': [\n",
    "                RandomForestClassifier(random_state=1,),\n",
    "                RandomForestClassifier(random_state=2, ),\n",
    "                RandomForestClassifier(random_state=3, ),\n",
    "        \n",
    "\n",
    "            ],\n",
    "\n",
    "            'decisiontree': [\n",
    "                DecisionTreeClassifier(random_state=1, ),\n",
    "                DecisionTreeClassifier(random_state=2, ),\n",
    "                DecisionTreeClassifier(random_state=3, ),\n",
    "               \n",
    "            ],\n",
    "        }\n",
    "\n",
    "\n",
    "        results = {}\n",
    "\n",
    "        for model_type in tqdm(models, desc=f'Predictive Models for {model_name}'):\n",
    "            f1_temp = list()\n",
    "            auc_temp = list()\n",
    "            # print(model_type)\n",
    "            for submodel in tqdm(models[model_type], desc=f'{model_type} submodels'):\n",
    "                submodel.fit(X_train_scaled, y_train)\n",
    "                y_pred = submodel.predict(X_test_scaled)\n",
    "                f1 = f1_score(y_test, y_pred)\n",
    "                auc = roc_auc_score(y_test, y_pred)\n",
    "                f1_temp.append(f1)\n",
    "                auc_temp.append(auc)\n",
    "                \n",
    "            results[model_type] = {\n",
    "                'f1': np.mean(f1_temp),\n",
    "                'auc': np.mean(auc_temp),\n",
    "                'f1_list': cp.deepcopy(f1_temp),\n",
    "                'auc_list': cp.deepcopy(auc_temp),\n",
    "            }\n",
    "            \n",
    "            \n",
    "        word2vec_results[model_name] = results\n",
    "        # save results to json\n",
    "        with open(save_path, 'w') as f:\n",
    "            json.dump(word2vec_results, f, indent=4)\n",
    "        print(f'{model_name} done and updated json')\n",
    "\n",
    "\n",
    "\n"
   ]
  }
 ],
 "metadata": {
  "kernelspec": {
   "display_name": "ag",
   "language": "python",
   "name": "python3"
  },
  "language_info": {
   "codemirror_mode": {
    "name": "ipython",
    "version": 3
   },
   "file_extension": ".py",
   "mimetype": "text/x-python",
   "name": "python",
   "nbconvert_exporter": "python",
   "pygments_lexer": "ipython3",
   "version": "3.11.6"
  }
 },
 "nbformat": 4,
 "nbformat_minor": 2
}
