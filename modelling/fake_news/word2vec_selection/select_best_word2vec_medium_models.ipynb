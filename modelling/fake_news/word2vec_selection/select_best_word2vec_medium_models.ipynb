{
 "cells": [
  {
   "cell_type": "code",
   "execution_count": 1,
   "metadata": {},
   "outputs": [],
   "source": [
    "import ssl\n",
    "\n",
    "ssl._create_default_https_context = ssl._create_unverified_context\n"
   ]
  },
  {
   "cell_type": "code",
   "execution_count": 2,
   "metadata": {},
   "outputs": [
    {
     "name": "stderr",
     "output_type": "stream",
     "text": [
      "[nltk_data] Downloading package punkt to\n",
      "[nltk_data]     /Users/adammajczyk/nltk_data...\n",
      "[nltk_data]   Package punkt is already up-to-date!\n",
      "[nltk_data] Downloading package wordnet to\n",
      "[nltk_data]     /Users/adammajczyk/nltk_data...\n",
      "[nltk_data]   Package wordnet is already up-to-date!\n",
      "[nltk_data] Downloading package punkt to\n",
      "[nltk_data]     /Users/adammajczyk/nltk_data...\n",
      "[nltk_data]   Package punkt is already up-to-date!\n",
      "[nltk_data] Downloading package averaged_perceptron_tagger to\n",
      "[nltk_data]     /Users/adammajczyk/nltk_data...\n",
      "[nltk_data]   Package averaged_perceptron_tagger is already up-to-\n",
      "[nltk_data]       date!\n",
      "[nltk_data] Downloading package words to\n",
      "[nltk_data]     /Users/adammajczyk/nltk_data...\n",
      "[nltk_data]   Package words is already up-to-date!\n"
     ]
    }
   ],
   "source": [
    "import pandas as pd\n",
    "import numpy as np\n",
    "import os\n",
    "\n",
    "from gensim.models import Word2Vec\n",
    "\n",
    "\n",
    "%run '../../functions.py'\n",
    "%run '../../classes.py'"
   ]
  },
  {
   "cell_type": "code",
   "execution_count": 3,
   "metadata": {},
   "outputs": [],
   "source": [
    "from catboost import CatBoostClassifier\n",
    "from xgboost import XGBClassifier\n",
    "from lightgbm import LGBMClassifier\n",
    "from sklearn.neighbors import KNeighborsClassifier\n",
    "from sklearn.svm import SVC\n",
    "from sklearn.linear_model import LogisticRegression \n",
    "from sklearn.ensemble import RandomForestClassifier\n",
    "from sklearn.tree import DecisionTreeClassifier\n",
    "\n",
    "from sklearn.metrics import f1_score, roc_auc_score\n",
    "\n",
    "from sklearn.model_selection import train_test_split\n",
    "\n",
    "from sklearn.preprocessing import StandardScaler\n"
   ]
  },
  {
   "cell_type": "code",
   "execution_count": 4,
   "metadata": {},
   "outputs": [
    {
     "data": {
      "text/html": [
       "<div>\n",
       "<style scoped>\n",
       "    .dataframe tbody tr th:only-of-type {\n",
       "        vertical-align: middle;\n",
       "    }\n",
       "\n",
       "    .dataframe tbody tr th {\n",
       "        vertical-align: top;\n",
       "    }\n",
       "\n",
       "    .dataframe thead th {\n",
       "        text-align: right;\n",
       "    }\n",
       "</style>\n",
       "<table border=\"1\" class=\"dataframe\">\n",
       "  <thead>\n",
       "    <tr style=\"text-align: right;\">\n",
       "      <th></th>\n",
       "      <th>title</th>\n",
       "      <th>is_clickbait</th>\n",
       "      <th>text</th>\n",
       "      <th>dataset</th>\n",
       "      <th>sample</th>\n",
       "    </tr>\n",
       "  </thead>\n",
       "  <tbody>\n",
       "    <tr>\n",
       "      <th>3</th>\n",
       "      <td>[hillary, clinton, john, kerry, divergent, pat...</td>\n",
       "      <td>0</td>\n",
       "      <td>WASHINGTON  —   Early in 2011, after a hectic ...</td>\n",
       "      <td>fake-news</td>\n",
       "      <td>train</td>\n",
       "    </tr>\n",
       "    <tr>\n",
       "      <th>7</th>\n",
       "      <td>[fifa, seventeen, special, arrival, season, pl...</td>\n",
       "      <td>1</td>\n",
       "      <td>Support Us Fifa 17 – The special arrivals seas...</td>\n",
       "      <td>fake-news</td>\n",
       "      <td>train</td>\n",
       "    </tr>\n",
       "    <tr>\n",
       "      <th>11</th>\n",
       "      <td>[orlando, shooting, unlikely, lead, major, new...</td>\n",
       "      <td>0</td>\n",
       "      <td>WASHINGTON  —   It didn’t happen after a congr...</td>\n",
       "      <td>fake-news</td>\n",
       "      <td>train</td>\n",
       "    </tr>\n",
       "    <tr>\n",
       "      <th>14</th>\n",
       "      <td>[war, islam, islam, want, war, peace]</td>\n",
       "      <td>1</td>\n",
       "      <td>link I am sure that this post will fall on dea...</td>\n",
       "      <td>fake-news</td>\n",
       "      <td>train</td>\n",
       "    </tr>\n",
       "    <tr>\n",
       "      <th>16</th>\n",
       "      <td>[university, texas, campus, saying, concealed,...</td>\n",
       "      <td>0</td>\n",
       "      <td>AUSTIN, Tex.  —   As classes began here at the...</td>\n",
       "      <td>fake-news</td>\n",
       "      <td>train</td>\n",
       "    </tr>\n",
       "  </tbody>\n",
       "</table>\n",
       "</div>"
      ],
      "text/plain": [
       "                                                title  is_clickbait  \\\n",
       "3   [hillary, clinton, john, kerry, divergent, pat...             0   \n",
       "7   [fifa, seventeen, special, arrival, season, pl...             1   \n",
       "11  [orlando, shooting, unlikely, lead, major, new...             0   \n",
       "14              [war, islam, islam, want, war, peace]             1   \n",
       "16  [university, texas, campus, saying, concealed,...             0   \n",
       "\n",
       "                                                 text    dataset sample  \n",
       "3   WASHINGTON  —   Early in 2011, after a hectic ...  fake-news  train  \n",
       "7   Support Us Fifa 17 – The special arrivals seas...  fake-news  train  \n",
       "11  WASHINGTON  —   It didn’t happen after a congr...  fake-news  train  \n",
       "14  link I am sure that this post will fall on dea...  fake-news  train  \n",
       "16  AUSTIN, Tex.  —   As classes began here at the...  fake-news  train  "
      ]
     },
     "execution_count": 4,
     "metadata": {},
     "output_type": "execute_result"
    }
   ],
   "source": [
    "if not os.path.exists('../data/preprocessed_titles_labels.pkl'):\n",
    "    df = preprocess_title(df, verbose=True)\n",
    "    df.to_pickle('data/preprocessed_titles_labels.pkl') \n",
    "\n",
    "else:\n",
    "    df = pd.read_pickle('../data/preprocessed_titles_labels.pkl')\n",
    "df.head()"
   ]
  },
  {
   "cell_type": "code",
   "execution_count": 5,
   "metadata": {},
   "outputs": [
    {
     "data": {
      "text/plain": [
       "sample\n",
       "train    17791\n",
       "test       997\n",
       "val2       506\n",
       "val1       480\n",
       "Name: count, dtype: int64"
      ]
     },
     "execution_count": 5,
     "metadata": {},
     "output_type": "execute_result"
    }
   ],
   "source": [
    "df['sample'].value_counts()"
   ]
  },
  {
   "cell_type": "code",
   "execution_count": 6,
   "metadata": {},
   "outputs": [
    {
     "data": {
      "text/plain": [
       "[]"
      ]
     },
     "execution_count": 6,
     "metadata": {},
     "output_type": "execute_result"
    }
   ],
   "source": [
    "# read results from previous runs json file\n",
    "save_path = 'results/word2vec_results_100_250.json'\n",
    "import json\n",
    "\n",
    "# if file doesn't exist, create it\n",
    "if not os.path.exists(save_path):\n",
    "    with open(save_path, 'w') as f:\n",
    "        json.dump({}, f)\n",
    "\n",
    "with open(save_path, 'r') as f:\n",
    "    word2vec_results = json.load(f)\n",
    "\n",
    "\n",
    "# get all the models from the results\n",
    "models_already_trained = []\n",
    "for model in word2vec_results:\n",
    "    models_already_trained.append(model)\n",
    "models_already_trained = [model + \".model\" for model in models_already_trained]\n",
    "models_already_trained"
   ]
  },
  {
   "cell_type": "code",
   "execution_count": 7,
   "metadata": {},
   "outputs": [
    {
     "name": "stdout",
     "output_type": "stream",
     "text": [
      "['word2vec_vs100_win6_sg1.model', 'word2vec_vs100_win7_sg0.model', 'word2vec_vs100_win7_sg1.model', 'word2vec_vs100_win6_sg0.model', 'word2vec_vs100_win4_sg1.model', 'word2vec_vs100_win8_sg0.model', 'word2vec_vs100_win5_sg0.model', 'word2vec_vs100_win3_sg0.model', 'word2vec_vs100_win5_sg1.model', 'word2vec_vs100_win8_sg1.model', 'word2vec_vs100_win4_sg0.model', 'word2vec_vs100_win3_sg1.model', 'word2vec_vs250_win6_sg1.model', 'word2vec_vs250_win7_sg0.model', 'word2vec_vs250_win7_sg1.model', 'word2vec_vs250_win6_sg0.model', 'word2vec_vs250_win3_sg0.model', 'word2vec_vs250_win4_sg1.model', 'word2vec_vs250_win8_sg0.model', 'word2vec_vs250_win5_sg0.model', 'word2vec_vs250_win3_sg1.model', 'word2vec_vs250_win5_sg1.model', 'word2vec_vs250_win8_sg1.model', 'word2vec_vs250_win4_sg0.model']\n"
     ]
    }
   ],
   "source": [
    "from tqdm import tqdm\n",
    "import copy as cp\n",
    "\n",
    "\n",
    "files = os.listdir('../../all_datasets/word2vec_models')\n",
    "files = [file for file in files if file.endswith('.model')]\n",
    "\n",
    "files100 = [file for file in files if file.startswith('word2vec_vs100_')]\n",
    "files250 = [file for file in files if file.startswith('word2vec_vs250_')]\n",
    "\n",
    "\n",
    "files = files100 + files250\n",
    "\n",
    "# remove the files that have already been trained\n",
    "files = [file for file in files if file not in models_already_trained]\n",
    "\n",
    "print(files)\n"
   ]
  },
  {
   "cell_type": "code",
   "execution_count": 8,
   "metadata": {},
   "outputs": [
    {
     "data": {
      "application/vnd.jupyter.widget-view+json": {
       "model_id": "54e43b8b01f345b7864e0f301d369d87",
       "version_major": 2,
       "version_minor": 0
      },
      "text/plain": [
       "  0%|          | 0/24 [00:00<?, ?it/s]"
      ]
     },
     "metadata": {},
     "output_type": "display_data"
    },
    {
     "data": {
      "application/vnd.jupyter.widget-view+json": {
       "model_id": "3a8b871020d04503a62a4ee18a0bcdaf",
       "version_major": 2,
       "version_minor": 0
      },
      "text/plain": [
       "Predictive Models for word2vec_vs100_win6_sg1:   0%|          | 0/5 [00:00<?, ?it/s]"
      ]
     },
     "metadata": {},
     "output_type": "display_data"
    },
    {
     "data": {
      "application/vnd.jupyter.widget-view+json": {
       "model_id": "a8e2b20ac3504e01b15bd3d70ca0a2b3",
       "version_major": 2,
       "version_minor": 0
      },
      "text/plain": [
       "catboost submodels:   0%|          | 0/3 [00:00<?, ?it/s]"
      ]
     },
     "metadata": {},
     "output_type": "display_data"
    },
    {
     "data": {
      "application/vnd.jupyter.widget-view+json": {
       "model_id": "82ba4f31c3154d15ab2f9da58fe9d26a",
       "version_major": 2,
       "version_minor": 0
      },
      "text/plain": [
       "lightgbm submodels:   0%|          | 0/3 [00:00<?, ?it/s]"
      ]
     },
     "metadata": {},
     "output_type": "display_data"
    },
    {
     "data": {
      "application/vnd.jupyter.widget-view+json": {
       "model_id": "81e335c3fe0f4fef890c1066ea1278d5",
       "version_major": 2,
       "version_minor": 0
      },
      "text/plain": [
       "knn submodels:   0%|          | 0/3 [00:00<?, ?it/s]"
      ]
     },
     "metadata": {},
     "output_type": "display_data"
    },
    {
     "data": {
      "application/vnd.jupyter.widget-view+json": {
       "model_id": "f8d43ed6f25944c2a8af6fd37f2dd61e",
       "version_major": 2,
       "version_minor": 0
      },
      "text/plain": [
       "randomforest submodels:   0%|          | 0/3 [00:00<?, ?it/s]"
      ]
     },
     "metadata": {},
     "output_type": "display_data"
    },
    {
     "data": {
      "application/vnd.jupyter.widget-view+json": {
       "model_id": "a67086c7fb3c48bea92ce35f09444a1f",
       "version_major": 2,
       "version_minor": 0
      },
      "text/plain": [
       "decisiontree submodels:   0%|          | 0/3 [00:00<?, ?it/s]"
      ]
     },
     "metadata": {},
     "output_type": "display_data"
    },
    {
     "name": "stdout",
     "output_type": "stream",
     "text": [
      "word2vec_vs100_win6_sg1 done and updated json\n"
     ]
    },
    {
     "data": {
      "application/vnd.jupyter.widget-view+json": {
       "model_id": "76bf1e56a91b40dda40a260f3811ca16",
       "version_major": 2,
       "version_minor": 0
      },
      "text/plain": [
       "Predictive Models for word2vec_vs100_win7_sg0:   0%|          | 0/5 [00:00<?, ?it/s]"
      ]
     },
     "metadata": {},
     "output_type": "display_data"
    },
    {
     "data": {
      "application/vnd.jupyter.widget-view+json": {
       "model_id": "099f6037f462472483dfd760f538c6ed",
       "version_major": 2,
       "version_minor": 0
      },
      "text/plain": [
       "catboost submodels:   0%|          | 0/3 [00:00<?, ?it/s]"
      ]
     },
     "metadata": {},
     "output_type": "display_data"
    },
    {
     "data": {
      "application/vnd.jupyter.widget-view+json": {
       "model_id": "252b409c53e84437a542c16fe5c3167f",
       "version_major": 2,
       "version_minor": 0
      },
      "text/plain": [
       "lightgbm submodels:   0%|          | 0/3 [00:00<?, ?it/s]"
      ]
     },
     "metadata": {},
     "output_type": "display_data"
    },
    {
     "data": {
      "application/vnd.jupyter.widget-view+json": {
       "model_id": "7637e38d2f48442b88363f9adeecc5a3",
       "version_major": 2,
       "version_minor": 0
      },
      "text/plain": [
       "knn submodels:   0%|          | 0/3 [00:00<?, ?it/s]"
      ]
     },
     "metadata": {},
     "output_type": "display_data"
    },
    {
     "data": {
      "application/vnd.jupyter.widget-view+json": {
       "model_id": "d9425a4ec52b44858a50091442dca681",
       "version_major": 2,
       "version_minor": 0
      },
      "text/plain": [
       "randomforest submodels:   0%|          | 0/3 [00:00<?, ?it/s]"
      ]
     },
     "metadata": {},
     "output_type": "display_data"
    },
    {
     "data": {
      "application/vnd.jupyter.widget-view+json": {
       "model_id": "1555cec61ddd4235ad5417871f5fc38a",
       "version_major": 2,
       "version_minor": 0
      },
      "text/plain": [
       "decisiontree submodels:   0%|          | 0/3 [00:00<?, ?it/s]"
      ]
     },
     "metadata": {},
     "output_type": "display_data"
    },
    {
     "name": "stdout",
     "output_type": "stream",
     "text": [
      "word2vec_vs100_win7_sg0 done and updated json\n"
     ]
    },
    {
     "data": {
      "application/vnd.jupyter.widget-view+json": {
       "model_id": "0b674526d11843a78cf8d3157026e390",
       "version_major": 2,
       "version_minor": 0
      },
      "text/plain": [
       "Predictive Models for word2vec_vs100_win7_sg1:   0%|          | 0/5 [00:00<?, ?it/s]"
      ]
     },
     "metadata": {},
     "output_type": "display_data"
    },
    {
     "data": {
      "application/vnd.jupyter.widget-view+json": {
       "model_id": "fab761cfaa054ec9a28f33ac6ed35f32",
       "version_major": 2,
       "version_minor": 0
      },
      "text/plain": [
       "catboost submodels:   0%|          | 0/3 [00:00<?, ?it/s]"
      ]
     },
     "metadata": {},
     "output_type": "display_data"
    },
    {
     "data": {
      "application/vnd.jupyter.widget-view+json": {
       "model_id": "4d3b549bd0fd4abb807f55ae7eacebe9",
       "version_major": 2,
       "version_minor": 0
      },
      "text/plain": [
       "lightgbm submodels:   0%|          | 0/3 [00:00<?, ?it/s]"
      ]
     },
     "metadata": {},
     "output_type": "display_data"
    },
    {
     "data": {
      "application/vnd.jupyter.widget-view+json": {
       "model_id": "3f0493dc418b4683b47d15a9a942a7da",
       "version_major": 2,
       "version_minor": 0
      },
      "text/plain": [
       "knn submodels:   0%|          | 0/3 [00:00<?, ?it/s]"
      ]
     },
     "metadata": {},
     "output_type": "display_data"
    },
    {
     "data": {
      "application/vnd.jupyter.widget-view+json": {
       "model_id": "4e36d3c6067a4a7fa4d7ed2f45bf59a3",
       "version_major": 2,
       "version_minor": 0
      },
      "text/plain": [
       "randomforest submodels:   0%|          | 0/3 [00:00<?, ?it/s]"
      ]
     },
     "metadata": {},
     "output_type": "display_data"
    },
    {
     "data": {
      "application/vnd.jupyter.widget-view+json": {
       "model_id": "204e4814721347ad804f119f956cad1f",
       "version_major": 2,
       "version_minor": 0
      },
      "text/plain": [
       "decisiontree submodels:   0%|          | 0/3 [00:00<?, ?it/s]"
      ]
     },
     "metadata": {},
     "output_type": "display_data"
    },
    {
     "name": "stdout",
     "output_type": "stream",
     "text": [
      "word2vec_vs100_win7_sg1 done and updated json\n"
     ]
    },
    {
     "data": {
      "application/vnd.jupyter.widget-view+json": {
       "model_id": "44f43dfb4a5f4024a3cb1492c95ec2a2",
       "version_major": 2,
       "version_minor": 0
      },
      "text/plain": [
       "Predictive Models for word2vec_vs100_win6_sg0:   0%|          | 0/5 [00:00<?, ?it/s]"
      ]
     },
     "metadata": {},
     "output_type": "display_data"
    },
    {
     "data": {
      "application/vnd.jupyter.widget-view+json": {
       "model_id": "d043652425ff456da9352bd124ea83ca",
       "version_major": 2,
       "version_minor": 0
      },
      "text/plain": [
       "catboost submodels:   0%|          | 0/3 [00:00<?, ?it/s]"
      ]
     },
     "metadata": {},
     "output_type": "display_data"
    },
    {
     "data": {
      "application/vnd.jupyter.widget-view+json": {
       "model_id": "5e33f185139f42bdacd033dd16f11532",
       "version_major": 2,
       "version_minor": 0
      },
      "text/plain": [
       "lightgbm submodels:   0%|          | 0/3 [00:00<?, ?it/s]"
      ]
     },
     "metadata": {},
     "output_type": "display_data"
    },
    {
     "data": {
      "application/vnd.jupyter.widget-view+json": {
       "model_id": "c8090d4f6807425e9829297d6fa37aa6",
       "version_major": 2,
       "version_minor": 0
      },
      "text/plain": [
       "knn submodels:   0%|          | 0/3 [00:00<?, ?it/s]"
      ]
     },
     "metadata": {},
     "output_type": "display_data"
    },
    {
     "data": {
      "application/vnd.jupyter.widget-view+json": {
       "model_id": "ed8214acee9a459098911317e112d831",
       "version_major": 2,
       "version_minor": 0
      },
      "text/plain": [
       "randomforest submodels:   0%|          | 0/3 [00:00<?, ?it/s]"
      ]
     },
     "metadata": {},
     "output_type": "display_data"
    },
    {
     "data": {
      "application/vnd.jupyter.widget-view+json": {
       "model_id": "d702ebb8bcf646d3acbc908d9ef9233a",
       "version_major": 2,
       "version_minor": 0
      },
      "text/plain": [
       "decisiontree submodels:   0%|          | 0/3 [00:00<?, ?it/s]"
      ]
     },
     "metadata": {},
     "output_type": "display_data"
    },
    {
     "name": "stdout",
     "output_type": "stream",
     "text": [
      "word2vec_vs100_win6_sg0 done and updated json\n"
     ]
    },
    {
     "data": {
      "application/vnd.jupyter.widget-view+json": {
       "model_id": "e3cdb9e421f449a1ad0978d76d438c44",
       "version_major": 2,
       "version_minor": 0
      },
      "text/plain": [
       "Predictive Models for word2vec_vs100_win4_sg1:   0%|          | 0/5 [00:00<?, ?it/s]"
      ]
     },
     "metadata": {},
     "output_type": "display_data"
    },
    {
     "data": {
      "application/vnd.jupyter.widget-view+json": {
       "model_id": "b3f740ab107f4f6483649d89e0934985",
       "version_major": 2,
       "version_minor": 0
      },
      "text/plain": [
       "catboost submodels:   0%|          | 0/3 [00:00<?, ?it/s]"
      ]
     },
     "metadata": {},
     "output_type": "display_data"
    },
    {
     "data": {
      "application/vnd.jupyter.widget-view+json": {
       "model_id": "2303a1917e674fe1948dbb881171b189",
       "version_major": 2,
       "version_minor": 0
      },
      "text/plain": [
       "lightgbm submodels:   0%|          | 0/3 [00:00<?, ?it/s]"
      ]
     },
     "metadata": {},
     "output_type": "display_data"
    },
    {
     "data": {
      "application/vnd.jupyter.widget-view+json": {
       "model_id": "1a5feb083584426d8c93d5e1c449ec86",
       "version_major": 2,
       "version_minor": 0
      },
      "text/plain": [
       "knn submodels:   0%|          | 0/3 [00:00<?, ?it/s]"
      ]
     },
     "metadata": {},
     "output_type": "display_data"
    },
    {
     "data": {
      "application/vnd.jupyter.widget-view+json": {
       "model_id": "777a5cae50184a6baf1b068fbb674b29",
       "version_major": 2,
       "version_minor": 0
      },
      "text/plain": [
       "randomforest submodels:   0%|          | 0/3 [00:00<?, ?it/s]"
      ]
     },
     "metadata": {},
     "output_type": "display_data"
    },
    {
     "data": {
      "application/vnd.jupyter.widget-view+json": {
       "model_id": "f90885d37cd7410691a659004196aa19",
       "version_major": 2,
       "version_minor": 0
      },
      "text/plain": [
       "decisiontree submodels:   0%|          | 0/3 [00:00<?, ?it/s]"
      ]
     },
     "metadata": {},
     "output_type": "display_data"
    },
    {
     "name": "stdout",
     "output_type": "stream",
     "text": [
      "word2vec_vs100_win4_sg1 done and updated json\n"
     ]
    },
    {
     "data": {
      "application/vnd.jupyter.widget-view+json": {
       "model_id": "941b9607d4084edb850d0af2853a2a1a",
       "version_major": 2,
       "version_minor": 0
      },
      "text/plain": [
       "Predictive Models for word2vec_vs100_win8_sg0:   0%|          | 0/5 [00:00<?, ?it/s]"
      ]
     },
     "metadata": {},
     "output_type": "display_data"
    },
    {
     "data": {
      "application/vnd.jupyter.widget-view+json": {
       "model_id": "73c466aaae5a49d4804d6e37b5c1f2a4",
       "version_major": 2,
       "version_minor": 0
      },
      "text/plain": [
       "catboost submodels:   0%|          | 0/3 [00:00<?, ?it/s]"
      ]
     },
     "metadata": {},
     "output_type": "display_data"
    },
    {
     "data": {
      "application/vnd.jupyter.widget-view+json": {
       "model_id": "d2267de134cf455aa9001d4f94ed8ec7",
       "version_major": 2,
       "version_minor": 0
      },
      "text/plain": [
       "lightgbm submodels:   0%|          | 0/3 [00:00<?, ?it/s]"
      ]
     },
     "metadata": {},
     "output_type": "display_data"
    },
    {
     "data": {
      "application/vnd.jupyter.widget-view+json": {
       "model_id": "8840ffe261d24249897d0f8d66d5383e",
       "version_major": 2,
       "version_minor": 0
      },
      "text/plain": [
       "knn submodels:   0%|          | 0/3 [00:00<?, ?it/s]"
      ]
     },
     "metadata": {},
     "output_type": "display_data"
    },
    {
     "data": {
      "application/vnd.jupyter.widget-view+json": {
       "model_id": "7281615c25ce4a45998165a06232a0a8",
       "version_major": 2,
       "version_minor": 0
      },
      "text/plain": [
       "randomforest submodels:   0%|          | 0/3 [00:00<?, ?it/s]"
      ]
     },
     "metadata": {},
     "output_type": "display_data"
    },
    {
     "data": {
      "application/vnd.jupyter.widget-view+json": {
       "model_id": "6dace122f4984331ba3baa0c0e3a89ce",
       "version_major": 2,
       "version_minor": 0
      },
      "text/plain": [
       "decisiontree submodels:   0%|          | 0/3 [00:00<?, ?it/s]"
      ]
     },
     "metadata": {},
     "output_type": "display_data"
    },
    {
     "name": "stdout",
     "output_type": "stream",
     "text": [
      "word2vec_vs100_win8_sg0 done and updated json\n"
     ]
    },
    {
     "data": {
      "application/vnd.jupyter.widget-view+json": {
       "model_id": "4a2c4b4123f740a298d4266c6a202729",
       "version_major": 2,
       "version_minor": 0
      },
      "text/plain": [
       "Predictive Models for word2vec_vs100_win5_sg0:   0%|          | 0/5 [00:00<?, ?it/s]"
      ]
     },
     "metadata": {},
     "output_type": "display_data"
    },
    {
     "data": {
      "application/vnd.jupyter.widget-view+json": {
       "model_id": "74f193073f114f7e815e9e906bb10bd2",
       "version_major": 2,
       "version_minor": 0
      },
      "text/plain": [
       "catboost submodels:   0%|          | 0/3 [00:00<?, ?it/s]"
      ]
     },
     "metadata": {},
     "output_type": "display_data"
    },
    {
     "data": {
      "application/vnd.jupyter.widget-view+json": {
       "model_id": "a771964bcc98483da6651b5719e860fc",
       "version_major": 2,
       "version_minor": 0
      },
      "text/plain": [
       "lightgbm submodels:   0%|          | 0/3 [00:00<?, ?it/s]"
      ]
     },
     "metadata": {},
     "output_type": "display_data"
    },
    {
     "data": {
      "application/vnd.jupyter.widget-view+json": {
       "model_id": "a9831648bb864f18b88d58fa48c35cc1",
       "version_major": 2,
       "version_minor": 0
      },
      "text/plain": [
       "knn submodels:   0%|          | 0/3 [00:00<?, ?it/s]"
      ]
     },
     "metadata": {},
     "output_type": "display_data"
    },
    {
     "data": {
      "application/vnd.jupyter.widget-view+json": {
       "model_id": "a950806d518741b785728f18a77b2c27",
       "version_major": 2,
       "version_minor": 0
      },
      "text/plain": [
       "randomforest submodels:   0%|          | 0/3 [00:00<?, ?it/s]"
      ]
     },
     "metadata": {},
     "output_type": "display_data"
    },
    {
     "data": {
      "application/vnd.jupyter.widget-view+json": {
       "model_id": "fdf7a6c5a7824e298e6abd940e8264c1",
       "version_major": 2,
       "version_minor": 0
      },
      "text/plain": [
       "decisiontree submodels:   0%|          | 0/3 [00:00<?, ?it/s]"
      ]
     },
     "metadata": {},
     "output_type": "display_data"
    },
    {
     "name": "stdout",
     "output_type": "stream",
     "text": [
      "word2vec_vs100_win5_sg0 done and updated json\n"
     ]
    },
    {
     "data": {
      "application/vnd.jupyter.widget-view+json": {
       "model_id": "06aa222ce17246e0b8c071d5b9a1a196",
       "version_major": 2,
       "version_minor": 0
      },
      "text/plain": [
       "Predictive Models for word2vec_vs100_win3_sg0:   0%|          | 0/5 [00:00<?, ?it/s]"
      ]
     },
     "metadata": {},
     "output_type": "display_data"
    },
    {
     "data": {
      "application/vnd.jupyter.widget-view+json": {
       "model_id": "4c0b6f1d1fae4415bb721ce41b46855d",
       "version_major": 2,
       "version_minor": 0
      },
      "text/plain": [
       "catboost submodels:   0%|          | 0/3 [00:00<?, ?it/s]"
      ]
     },
     "metadata": {},
     "output_type": "display_data"
    },
    {
     "data": {
      "application/vnd.jupyter.widget-view+json": {
       "model_id": "c9cda6a5546147fea79273ec0e886318",
       "version_major": 2,
       "version_minor": 0
      },
      "text/plain": [
       "lightgbm submodels:   0%|          | 0/3 [00:00<?, ?it/s]"
      ]
     },
     "metadata": {},
     "output_type": "display_data"
    },
    {
     "data": {
      "application/vnd.jupyter.widget-view+json": {
       "model_id": "43846959915f4e6bbff1726a50ac9963",
       "version_major": 2,
       "version_minor": 0
      },
      "text/plain": [
       "knn submodels:   0%|          | 0/3 [00:00<?, ?it/s]"
      ]
     },
     "metadata": {},
     "output_type": "display_data"
    },
    {
     "data": {
      "application/vnd.jupyter.widget-view+json": {
       "model_id": "7d6c44d706e0408ea7766cf8ff46127c",
       "version_major": 2,
       "version_minor": 0
      },
      "text/plain": [
       "randomforest submodels:   0%|          | 0/3 [00:00<?, ?it/s]"
      ]
     },
     "metadata": {},
     "output_type": "display_data"
    },
    {
     "data": {
      "application/vnd.jupyter.widget-view+json": {
       "model_id": "0b81e1a3c3454bacbc353b0c91024d6d",
       "version_major": 2,
       "version_minor": 0
      },
      "text/plain": [
       "decisiontree submodels:   0%|          | 0/3 [00:00<?, ?it/s]"
      ]
     },
     "metadata": {},
     "output_type": "display_data"
    },
    {
     "name": "stdout",
     "output_type": "stream",
     "text": [
      "word2vec_vs100_win3_sg0 done and updated json\n"
     ]
    },
    {
     "data": {
      "application/vnd.jupyter.widget-view+json": {
       "model_id": "783c42e65b89476799a2cd1f47d720ac",
       "version_major": 2,
       "version_minor": 0
      },
      "text/plain": [
       "Predictive Models for word2vec_vs100_win5_sg1:   0%|          | 0/5 [00:00<?, ?it/s]"
      ]
     },
     "metadata": {},
     "output_type": "display_data"
    },
    {
     "data": {
      "application/vnd.jupyter.widget-view+json": {
       "model_id": "0cfa17e8af654938a18294beea035a28",
       "version_major": 2,
       "version_minor": 0
      },
      "text/plain": [
       "catboost submodels:   0%|          | 0/3 [00:00<?, ?it/s]"
      ]
     },
     "metadata": {},
     "output_type": "display_data"
    },
    {
     "data": {
      "application/vnd.jupyter.widget-view+json": {
       "model_id": "67e7c822355740059955e2253cd516c2",
       "version_major": 2,
       "version_minor": 0
      },
      "text/plain": [
       "lightgbm submodels:   0%|          | 0/3 [00:00<?, ?it/s]"
      ]
     },
     "metadata": {},
     "output_type": "display_data"
    },
    {
     "data": {
      "application/vnd.jupyter.widget-view+json": {
       "model_id": "80172d965e1241f2a4afae2178089358",
       "version_major": 2,
       "version_minor": 0
      },
      "text/plain": [
       "knn submodels:   0%|          | 0/3 [00:00<?, ?it/s]"
      ]
     },
     "metadata": {},
     "output_type": "display_data"
    },
    {
     "data": {
      "application/vnd.jupyter.widget-view+json": {
       "model_id": "6055982051b14d2fa885b3509b0ffb1a",
       "version_major": 2,
       "version_minor": 0
      },
      "text/plain": [
       "randomforest submodels:   0%|          | 0/3 [00:00<?, ?it/s]"
      ]
     },
     "metadata": {},
     "output_type": "display_data"
    },
    {
     "data": {
      "application/vnd.jupyter.widget-view+json": {
       "model_id": "e9241f110d6a459fa1d53be509825911",
       "version_major": 2,
       "version_minor": 0
      },
      "text/plain": [
       "decisiontree submodels:   0%|          | 0/3 [00:00<?, ?it/s]"
      ]
     },
     "metadata": {},
     "output_type": "display_data"
    },
    {
     "name": "stdout",
     "output_type": "stream",
     "text": [
      "word2vec_vs100_win5_sg1 done and updated json\n"
     ]
    },
    {
     "data": {
      "application/vnd.jupyter.widget-view+json": {
       "model_id": "2ca7b59bf95943998677e21d3ff99cfd",
       "version_major": 2,
       "version_minor": 0
      },
      "text/plain": [
       "Predictive Models for word2vec_vs100_win8_sg1:   0%|          | 0/5 [00:00<?, ?it/s]"
      ]
     },
     "metadata": {},
     "output_type": "display_data"
    },
    {
     "data": {
      "application/vnd.jupyter.widget-view+json": {
       "model_id": "cb08ca790c35470fb05aa14221e45d96",
       "version_major": 2,
       "version_minor": 0
      },
      "text/plain": [
       "catboost submodels:   0%|          | 0/3 [00:00<?, ?it/s]"
      ]
     },
     "metadata": {},
     "output_type": "display_data"
    },
    {
     "data": {
      "application/vnd.jupyter.widget-view+json": {
       "model_id": "559a85ddd38e48ca8eb2c49145ce6450",
       "version_major": 2,
       "version_minor": 0
      },
      "text/plain": [
       "lightgbm submodels:   0%|          | 0/3 [00:00<?, ?it/s]"
      ]
     },
     "metadata": {},
     "output_type": "display_data"
    },
    {
     "data": {
      "application/vnd.jupyter.widget-view+json": {
       "model_id": "cd8efd698e01411887010d15dc680bb8",
       "version_major": 2,
       "version_minor": 0
      },
      "text/plain": [
       "knn submodels:   0%|          | 0/3 [00:00<?, ?it/s]"
      ]
     },
     "metadata": {},
     "output_type": "display_data"
    },
    {
     "data": {
      "application/vnd.jupyter.widget-view+json": {
       "model_id": "3d0f7a3f7ee24574a52f52114cfdba22",
       "version_major": 2,
       "version_minor": 0
      },
      "text/plain": [
       "randomforest submodels:   0%|          | 0/3 [00:00<?, ?it/s]"
      ]
     },
     "metadata": {},
     "output_type": "display_data"
    },
    {
     "data": {
      "application/vnd.jupyter.widget-view+json": {
       "model_id": "8bfc93e47ca34ae6b659cc368aac85d1",
       "version_major": 2,
       "version_minor": 0
      },
      "text/plain": [
       "decisiontree submodels:   0%|          | 0/3 [00:00<?, ?it/s]"
      ]
     },
     "metadata": {},
     "output_type": "display_data"
    },
    {
     "name": "stdout",
     "output_type": "stream",
     "text": [
      "word2vec_vs100_win8_sg1 done and updated json\n"
     ]
    },
    {
     "data": {
      "application/vnd.jupyter.widget-view+json": {
       "model_id": "7c99159187044c0390c3b2a9e2efc7b5",
       "version_major": 2,
       "version_minor": 0
      },
      "text/plain": [
       "Predictive Models for word2vec_vs100_win4_sg0:   0%|          | 0/5 [00:00<?, ?it/s]"
      ]
     },
     "metadata": {},
     "output_type": "display_data"
    },
    {
     "data": {
      "application/vnd.jupyter.widget-view+json": {
       "model_id": "25b0e3ac71fa4fa0afbe369f47f7c24d",
       "version_major": 2,
       "version_minor": 0
      },
      "text/plain": [
       "catboost submodels:   0%|          | 0/3 [00:00<?, ?it/s]"
      ]
     },
     "metadata": {},
     "output_type": "display_data"
    },
    {
     "data": {
      "application/vnd.jupyter.widget-view+json": {
       "model_id": "b1287ada3eda4234a94beb901002fe8f",
       "version_major": 2,
       "version_minor": 0
      },
      "text/plain": [
       "lightgbm submodels:   0%|          | 0/3 [00:00<?, ?it/s]"
      ]
     },
     "metadata": {},
     "output_type": "display_data"
    },
    {
     "data": {
      "application/vnd.jupyter.widget-view+json": {
       "model_id": "323bb5eef7f54cf7a475df962dee2c2b",
       "version_major": 2,
       "version_minor": 0
      },
      "text/plain": [
       "knn submodels:   0%|          | 0/3 [00:00<?, ?it/s]"
      ]
     },
     "metadata": {},
     "output_type": "display_data"
    },
    {
     "data": {
      "application/vnd.jupyter.widget-view+json": {
       "model_id": "9331ee61be694b688a8cd5899379df42",
       "version_major": 2,
       "version_minor": 0
      },
      "text/plain": [
       "randomforest submodels:   0%|          | 0/3 [00:00<?, ?it/s]"
      ]
     },
     "metadata": {},
     "output_type": "display_data"
    },
    {
     "data": {
      "application/vnd.jupyter.widget-view+json": {
       "model_id": "6fd4e22fb2ce46d6a20da0ca0d319b99",
       "version_major": 2,
       "version_minor": 0
      },
      "text/plain": [
       "decisiontree submodels:   0%|          | 0/3 [00:00<?, ?it/s]"
      ]
     },
     "metadata": {},
     "output_type": "display_data"
    },
    {
     "name": "stdout",
     "output_type": "stream",
     "text": [
      "word2vec_vs100_win4_sg0 done and updated json\n"
     ]
    },
    {
     "data": {
      "application/vnd.jupyter.widget-view+json": {
       "model_id": "88de94d72c33401abfc959fe3e7ebcd3",
       "version_major": 2,
       "version_minor": 0
      },
      "text/plain": [
       "Predictive Models for word2vec_vs100_win3_sg1:   0%|          | 0/5 [00:00<?, ?it/s]"
      ]
     },
     "metadata": {},
     "output_type": "display_data"
    },
    {
     "data": {
      "application/vnd.jupyter.widget-view+json": {
       "model_id": "4ca298a71cf541869e64be6a97fc4a6c",
       "version_major": 2,
       "version_minor": 0
      },
      "text/plain": [
       "catboost submodels:   0%|          | 0/3 [00:00<?, ?it/s]"
      ]
     },
     "metadata": {},
     "output_type": "display_data"
    },
    {
     "data": {
      "application/vnd.jupyter.widget-view+json": {
       "model_id": "701072cf737e44039d8aa2bede9b1fb5",
       "version_major": 2,
       "version_minor": 0
      },
      "text/plain": [
       "lightgbm submodels:   0%|          | 0/3 [00:00<?, ?it/s]"
      ]
     },
     "metadata": {},
     "output_type": "display_data"
    },
    {
     "data": {
      "application/vnd.jupyter.widget-view+json": {
       "model_id": "185d6664c87f402a8629dabc555c1b75",
       "version_major": 2,
       "version_minor": 0
      },
      "text/plain": [
       "knn submodels:   0%|          | 0/3 [00:00<?, ?it/s]"
      ]
     },
     "metadata": {},
     "output_type": "display_data"
    },
    {
     "data": {
      "application/vnd.jupyter.widget-view+json": {
       "model_id": "49ce32cb950244a1945f66b130f065b5",
       "version_major": 2,
       "version_minor": 0
      },
      "text/plain": [
       "randomforest submodels:   0%|          | 0/3 [00:00<?, ?it/s]"
      ]
     },
     "metadata": {},
     "output_type": "display_data"
    },
    {
     "data": {
      "application/vnd.jupyter.widget-view+json": {
       "model_id": "ab2e6c9786e443789bd214673f7a252c",
       "version_major": 2,
       "version_minor": 0
      },
      "text/plain": [
       "decisiontree submodels:   0%|          | 0/3 [00:00<?, ?it/s]"
      ]
     },
     "metadata": {},
     "output_type": "display_data"
    },
    {
     "name": "stdout",
     "output_type": "stream",
     "text": [
      "word2vec_vs100_win3_sg1 done and updated json\n"
     ]
    },
    {
     "data": {
      "application/vnd.jupyter.widget-view+json": {
       "model_id": "bbc44401c59d4950ab42b9b571ebda6f",
       "version_major": 2,
       "version_minor": 0
      },
      "text/plain": [
       "Predictive Models for word2vec_vs250_win6_sg1:   0%|          | 0/5 [00:00<?, ?it/s]"
      ]
     },
     "metadata": {},
     "output_type": "display_data"
    },
    {
     "data": {
      "application/vnd.jupyter.widget-view+json": {
       "model_id": "e0a66c8ee2f34ec7858204d98615f285",
       "version_major": 2,
       "version_minor": 0
      },
      "text/plain": [
       "catboost submodels:   0%|          | 0/3 [00:00<?, ?it/s]"
      ]
     },
     "metadata": {},
     "output_type": "display_data"
    },
    {
     "data": {
      "application/vnd.jupyter.widget-view+json": {
       "model_id": "033d08b468e44fbe9bb1d5bd717ac944",
       "version_major": 2,
       "version_minor": 0
      },
      "text/plain": [
       "lightgbm submodels:   0%|          | 0/3 [00:00<?, ?it/s]"
      ]
     },
     "metadata": {},
     "output_type": "display_data"
    },
    {
     "data": {
      "application/vnd.jupyter.widget-view+json": {
       "model_id": "5b12657a8859410687fb4503dcab1440",
       "version_major": 2,
       "version_minor": 0
      },
      "text/plain": [
       "knn submodels:   0%|          | 0/3 [00:00<?, ?it/s]"
      ]
     },
     "metadata": {},
     "output_type": "display_data"
    },
    {
     "data": {
      "application/vnd.jupyter.widget-view+json": {
       "model_id": "cc73be48de3d407cb85588b325914ab0",
       "version_major": 2,
       "version_minor": 0
      },
      "text/plain": [
       "randomforest submodels:   0%|          | 0/3 [00:00<?, ?it/s]"
      ]
     },
     "metadata": {},
     "output_type": "display_data"
    },
    {
     "data": {
      "application/vnd.jupyter.widget-view+json": {
       "model_id": "107bae25607f4dabaf7211940da49c25",
       "version_major": 2,
       "version_minor": 0
      },
      "text/plain": [
       "decisiontree submodels:   0%|          | 0/3 [00:00<?, ?it/s]"
      ]
     },
     "metadata": {},
     "output_type": "display_data"
    },
    {
     "name": "stdout",
     "output_type": "stream",
     "text": [
      "word2vec_vs250_win6_sg1 done and updated json\n"
     ]
    },
    {
     "data": {
      "application/vnd.jupyter.widget-view+json": {
       "model_id": "59ccba27a60f4f07aa0a9e287974ae24",
       "version_major": 2,
       "version_minor": 0
      },
      "text/plain": [
       "Predictive Models for word2vec_vs250_win7_sg0:   0%|          | 0/5 [00:00<?, ?it/s]"
      ]
     },
     "metadata": {},
     "output_type": "display_data"
    },
    {
     "data": {
      "application/vnd.jupyter.widget-view+json": {
       "model_id": "cbed097cc4b6446ab4f6b0dcf59c7544",
       "version_major": 2,
       "version_minor": 0
      },
      "text/plain": [
       "catboost submodels:   0%|          | 0/3 [00:00<?, ?it/s]"
      ]
     },
     "metadata": {},
     "output_type": "display_data"
    },
    {
     "data": {
      "application/vnd.jupyter.widget-view+json": {
       "model_id": "0902c165ab7d497d88c1b6c5b8c30b91",
       "version_major": 2,
       "version_minor": 0
      },
      "text/plain": [
       "lightgbm submodels:   0%|          | 0/3 [00:00<?, ?it/s]"
      ]
     },
     "metadata": {},
     "output_type": "display_data"
    },
    {
     "data": {
      "application/vnd.jupyter.widget-view+json": {
       "model_id": "ecd6ed318c594ebbbc7163331d0bde0a",
       "version_major": 2,
       "version_minor": 0
      },
      "text/plain": [
       "knn submodels:   0%|          | 0/3 [00:00<?, ?it/s]"
      ]
     },
     "metadata": {},
     "output_type": "display_data"
    },
    {
     "data": {
      "application/vnd.jupyter.widget-view+json": {
       "model_id": "b6cf44d9b7784607ae937bec2b72a593",
       "version_major": 2,
       "version_minor": 0
      },
      "text/plain": [
       "randomforest submodels:   0%|          | 0/3 [00:00<?, ?it/s]"
      ]
     },
     "metadata": {},
     "output_type": "display_data"
    },
    {
     "data": {
      "application/vnd.jupyter.widget-view+json": {
       "model_id": "8f4fcdc4826c498c84297c9135ec93b2",
       "version_major": 2,
       "version_minor": 0
      },
      "text/plain": [
       "decisiontree submodels:   0%|          | 0/3 [00:00<?, ?it/s]"
      ]
     },
     "metadata": {},
     "output_type": "display_data"
    },
    {
     "name": "stdout",
     "output_type": "stream",
     "text": [
      "word2vec_vs250_win7_sg0 done and updated json\n"
     ]
    },
    {
     "data": {
      "application/vnd.jupyter.widget-view+json": {
       "model_id": "d8633e3a81cc47d5b847d52715e5dab7",
       "version_major": 2,
       "version_minor": 0
      },
      "text/plain": [
       "Predictive Models for word2vec_vs250_win7_sg1:   0%|          | 0/5 [00:00<?, ?it/s]"
      ]
     },
     "metadata": {},
     "output_type": "display_data"
    },
    {
     "data": {
      "application/vnd.jupyter.widget-view+json": {
       "model_id": "3d0f94ea54684be38bcec0451b98390b",
       "version_major": 2,
       "version_minor": 0
      },
      "text/plain": [
       "catboost submodels:   0%|          | 0/3 [00:00<?, ?it/s]"
      ]
     },
     "metadata": {},
     "output_type": "display_data"
    },
    {
     "data": {
      "application/vnd.jupyter.widget-view+json": {
       "model_id": "b0f89e2ae9714fc1b9e5638a9bc08207",
       "version_major": 2,
       "version_minor": 0
      },
      "text/plain": [
       "lightgbm submodels:   0%|          | 0/3 [00:00<?, ?it/s]"
      ]
     },
     "metadata": {},
     "output_type": "display_data"
    },
    {
     "data": {
      "application/vnd.jupyter.widget-view+json": {
       "model_id": "fb80faaae10a4157b6942011a8f51a72",
       "version_major": 2,
       "version_minor": 0
      },
      "text/plain": [
       "knn submodels:   0%|          | 0/3 [00:00<?, ?it/s]"
      ]
     },
     "metadata": {},
     "output_type": "display_data"
    },
    {
     "data": {
      "application/vnd.jupyter.widget-view+json": {
       "model_id": "816d4a5fb10c4c568762f1e03ad74d44",
       "version_major": 2,
       "version_minor": 0
      },
      "text/plain": [
       "randomforest submodels:   0%|          | 0/3 [00:00<?, ?it/s]"
      ]
     },
     "metadata": {},
     "output_type": "display_data"
    },
    {
     "data": {
      "application/vnd.jupyter.widget-view+json": {
       "model_id": "0912be43a9144543a04c296503b97848",
       "version_major": 2,
       "version_minor": 0
      },
      "text/plain": [
       "decisiontree submodels:   0%|          | 0/3 [00:00<?, ?it/s]"
      ]
     },
     "metadata": {},
     "output_type": "display_data"
    },
    {
     "name": "stdout",
     "output_type": "stream",
     "text": [
      "word2vec_vs250_win7_sg1 done and updated json\n"
     ]
    },
    {
     "data": {
      "application/vnd.jupyter.widget-view+json": {
       "model_id": "c80435075f3f41eba255232c566df89a",
       "version_major": 2,
       "version_minor": 0
      },
      "text/plain": [
       "Predictive Models for word2vec_vs250_win6_sg0:   0%|          | 0/5 [00:00<?, ?it/s]"
      ]
     },
     "metadata": {},
     "output_type": "display_data"
    },
    {
     "data": {
      "application/vnd.jupyter.widget-view+json": {
       "model_id": "d91e276889d344849f8b499d0f1e4584",
       "version_major": 2,
       "version_minor": 0
      },
      "text/plain": [
       "catboost submodels:   0%|          | 0/3 [00:00<?, ?it/s]"
      ]
     },
     "metadata": {},
     "output_type": "display_data"
    },
    {
     "data": {
      "application/vnd.jupyter.widget-view+json": {
       "model_id": "746a24fd406c4bc8b5fda25831bcbfe0",
       "version_major": 2,
       "version_minor": 0
      },
      "text/plain": [
       "lightgbm submodels:   0%|          | 0/3 [00:00<?, ?it/s]"
      ]
     },
     "metadata": {},
     "output_type": "display_data"
    },
    {
     "data": {
      "application/vnd.jupyter.widget-view+json": {
       "model_id": "005e4a049bca4f05bbfc50eb2ae18161",
       "version_major": 2,
       "version_minor": 0
      },
      "text/plain": [
       "knn submodels:   0%|          | 0/3 [00:00<?, ?it/s]"
      ]
     },
     "metadata": {},
     "output_type": "display_data"
    },
    {
     "data": {
      "application/vnd.jupyter.widget-view+json": {
       "model_id": "9ff77b1c8be64b6ba18104ea75b0522a",
       "version_major": 2,
       "version_minor": 0
      },
      "text/plain": [
       "randomforest submodels:   0%|          | 0/3 [00:00<?, ?it/s]"
      ]
     },
     "metadata": {},
     "output_type": "display_data"
    },
    {
     "data": {
      "application/vnd.jupyter.widget-view+json": {
       "model_id": "e951ef5fb59a40c9afe39495484bc3d5",
       "version_major": 2,
       "version_minor": 0
      },
      "text/plain": [
       "decisiontree submodels:   0%|          | 0/3 [00:00<?, ?it/s]"
      ]
     },
     "metadata": {},
     "output_type": "display_data"
    },
    {
     "name": "stdout",
     "output_type": "stream",
     "text": [
      "word2vec_vs250_win6_sg0 done and updated json\n"
     ]
    },
    {
     "data": {
      "application/vnd.jupyter.widget-view+json": {
       "model_id": "b84362d3a43d409a84f979b3cd84d8c1",
       "version_major": 2,
       "version_minor": 0
      },
      "text/plain": [
       "Predictive Models for word2vec_vs250_win3_sg0:   0%|          | 0/5 [00:00<?, ?it/s]"
      ]
     },
     "metadata": {},
     "output_type": "display_data"
    },
    {
     "data": {
      "application/vnd.jupyter.widget-view+json": {
       "model_id": "e6f083fdd8504459ac6aeac875b37d02",
       "version_major": 2,
       "version_minor": 0
      },
      "text/plain": [
       "catboost submodels:   0%|          | 0/3 [00:00<?, ?it/s]"
      ]
     },
     "metadata": {},
     "output_type": "display_data"
    },
    {
     "data": {
      "application/vnd.jupyter.widget-view+json": {
       "model_id": "b6140a46aa57491481fef5ef1e2334fc",
       "version_major": 2,
       "version_minor": 0
      },
      "text/plain": [
       "lightgbm submodels:   0%|          | 0/3 [00:00<?, ?it/s]"
      ]
     },
     "metadata": {},
     "output_type": "display_data"
    },
    {
     "data": {
      "application/vnd.jupyter.widget-view+json": {
       "model_id": "2926260e59024ff0bbab57b9a999509c",
       "version_major": 2,
       "version_minor": 0
      },
      "text/plain": [
       "knn submodels:   0%|          | 0/3 [00:00<?, ?it/s]"
      ]
     },
     "metadata": {},
     "output_type": "display_data"
    },
    {
     "data": {
      "application/vnd.jupyter.widget-view+json": {
       "model_id": "0ebce1f0cef048128650a721c20e1a92",
       "version_major": 2,
       "version_minor": 0
      },
      "text/plain": [
       "randomforest submodels:   0%|          | 0/3 [00:00<?, ?it/s]"
      ]
     },
     "metadata": {},
     "output_type": "display_data"
    },
    {
     "data": {
      "application/vnd.jupyter.widget-view+json": {
       "model_id": "4385b70929ca4f85b0c5520364875e84",
       "version_major": 2,
       "version_minor": 0
      },
      "text/plain": [
       "decisiontree submodels:   0%|          | 0/3 [00:00<?, ?it/s]"
      ]
     },
     "metadata": {},
     "output_type": "display_data"
    },
    {
     "name": "stdout",
     "output_type": "stream",
     "text": [
      "word2vec_vs250_win3_sg0 done and updated json\n"
     ]
    },
    {
     "data": {
      "application/vnd.jupyter.widget-view+json": {
       "model_id": "659b8b9d454540379caa1f9f9e2c45a9",
       "version_major": 2,
       "version_minor": 0
      },
      "text/plain": [
       "Predictive Models for word2vec_vs250_win4_sg1:   0%|          | 0/5 [00:00<?, ?it/s]"
      ]
     },
     "metadata": {},
     "output_type": "display_data"
    },
    {
     "data": {
      "application/vnd.jupyter.widget-view+json": {
       "model_id": "60738127b6314c608be1929aad45cb6e",
       "version_major": 2,
       "version_minor": 0
      },
      "text/plain": [
       "catboost submodels:   0%|          | 0/3 [00:00<?, ?it/s]"
      ]
     },
     "metadata": {},
     "output_type": "display_data"
    },
    {
     "data": {
      "application/vnd.jupyter.widget-view+json": {
       "model_id": "a8c6ac19188844e99e5949aa3188619c",
       "version_major": 2,
       "version_minor": 0
      },
      "text/plain": [
       "lightgbm submodels:   0%|          | 0/3 [00:00<?, ?it/s]"
      ]
     },
     "metadata": {},
     "output_type": "display_data"
    },
    {
     "data": {
      "application/vnd.jupyter.widget-view+json": {
       "model_id": "61800b0ee9554f8580cc55e69cc58744",
       "version_major": 2,
       "version_minor": 0
      },
      "text/plain": [
       "knn submodels:   0%|          | 0/3 [00:00<?, ?it/s]"
      ]
     },
     "metadata": {},
     "output_type": "display_data"
    },
    {
     "data": {
      "application/vnd.jupyter.widget-view+json": {
       "model_id": "6249296d691b4e74851a2e9191764846",
       "version_major": 2,
       "version_minor": 0
      },
      "text/plain": [
       "randomforest submodels:   0%|          | 0/3 [00:00<?, ?it/s]"
      ]
     },
     "metadata": {},
     "output_type": "display_data"
    },
    {
     "data": {
      "application/vnd.jupyter.widget-view+json": {
       "model_id": "6d2cbe7e84d24f4b9e4e695a2f235e3c",
       "version_major": 2,
       "version_minor": 0
      },
      "text/plain": [
       "decisiontree submodels:   0%|          | 0/3 [00:00<?, ?it/s]"
      ]
     },
     "metadata": {},
     "output_type": "display_data"
    },
    {
     "name": "stdout",
     "output_type": "stream",
     "text": [
      "word2vec_vs250_win4_sg1 done and updated json\n"
     ]
    },
    {
     "data": {
      "application/vnd.jupyter.widget-view+json": {
       "model_id": "9c080295ce214928814d441003dab982",
       "version_major": 2,
       "version_minor": 0
      },
      "text/plain": [
       "Predictive Models for word2vec_vs250_win8_sg0:   0%|          | 0/5 [00:00<?, ?it/s]"
      ]
     },
     "metadata": {},
     "output_type": "display_data"
    },
    {
     "data": {
      "application/vnd.jupyter.widget-view+json": {
       "model_id": "7b320f9676d74152866366cb05793d37",
       "version_major": 2,
       "version_minor": 0
      },
      "text/plain": [
       "catboost submodels:   0%|          | 0/3 [00:00<?, ?it/s]"
      ]
     },
     "metadata": {},
     "output_type": "display_data"
    },
    {
     "data": {
      "application/vnd.jupyter.widget-view+json": {
       "model_id": "fb73c9880d244077a3caf56ed27b34fb",
       "version_major": 2,
       "version_minor": 0
      },
      "text/plain": [
       "lightgbm submodels:   0%|          | 0/3 [00:00<?, ?it/s]"
      ]
     },
     "metadata": {},
     "output_type": "display_data"
    },
    {
     "data": {
      "application/vnd.jupyter.widget-view+json": {
       "model_id": "721c2e6024844e0a859272fdd7820588",
       "version_major": 2,
       "version_minor": 0
      },
      "text/plain": [
       "knn submodels:   0%|          | 0/3 [00:00<?, ?it/s]"
      ]
     },
     "metadata": {},
     "output_type": "display_data"
    },
    {
     "data": {
      "application/vnd.jupyter.widget-view+json": {
       "model_id": "2b0dbdb2d5da41ce9f85232717be30b5",
       "version_major": 2,
       "version_minor": 0
      },
      "text/plain": [
       "randomforest submodels:   0%|          | 0/3 [00:00<?, ?it/s]"
      ]
     },
     "metadata": {},
     "output_type": "display_data"
    },
    {
     "data": {
      "application/vnd.jupyter.widget-view+json": {
       "model_id": "a2d8c001c2e94f41bc84455c846959d7",
       "version_major": 2,
       "version_minor": 0
      },
      "text/plain": [
       "decisiontree submodels:   0%|          | 0/3 [00:00<?, ?it/s]"
      ]
     },
     "metadata": {},
     "output_type": "display_data"
    },
    {
     "name": "stdout",
     "output_type": "stream",
     "text": [
      "word2vec_vs250_win8_sg0 done and updated json\n"
     ]
    },
    {
     "data": {
      "application/vnd.jupyter.widget-view+json": {
       "model_id": "74b8708b019444298215908eebde68ef",
       "version_major": 2,
       "version_minor": 0
      },
      "text/plain": [
       "Predictive Models for word2vec_vs250_win5_sg0:   0%|          | 0/5 [00:00<?, ?it/s]"
      ]
     },
     "metadata": {},
     "output_type": "display_data"
    },
    {
     "data": {
      "application/vnd.jupyter.widget-view+json": {
       "model_id": "119d6521ebf64fb1a7b6d4a9788ecd2a",
       "version_major": 2,
       "version_minor": 0
      },
      "text/plain": [
       "catboost submodels:   0%|          | 0/3 [00:00<?, ?it/s]"
      ]
     },
     "metadata": {},
     "output_type": "display_data"
    },
    {
     "data": {
      "application/vnd.jupyter.widget-view+json": {
       "model_id": "ae96a3a9de58440e812336ec32126696",
       "version_major": 2,
       "version_minor": 0
      },
      "text/plain": [
       "lightgbm submodels:   0%|          | 0/3 [00:00<?, ?it/s]"
      ]
     },
     "metadata": {},
     "output_type": "display_data"
    },
    {
     "data": {
      "application/vnd.jupyter.widget-view+json": {
       "model_id": "300311da6d8740a9a66c53328bf22f80",
       "version_major": 2,
       "version_minor": 0
      },
      "text/plain": [
       "knn submodels:   0%|          | 0/3 [00:00<?, ?it/s]"
      ]
     },
     "metadata": {},
     "output_type": "display_data"
    },
    {
     "data": {
      "application/vnd.jupyter.widget-view+json": {
       "model_id": "b081f657fe404c8f9e8e55186abca05f",
       "version_major": 2,
       "version_minor": 0
      },
      "text/plain": [
       "randomforest submodels:   0%|          | 0/3 [00:00<?, ?it/s]"
      ]
     },
     "metadata": {},
     "output_type": "display_data"
    },
    {
     "data": {
      "application/vnd.jupyter.widget-view+json": {
       "model_id": "bdafeb8789784964a80aaf7fb34b6fa8",
       "version_major": 2,
       "version_minor": 0
      },
      "text/plain": [
       "decisiontree submodels:   0%|          | 0/3 [00:00<?, ?it/s]"
      ]
     },
     "metadata": {},
     "output_type": "display_data"
    },
    {
     "name": "stdout",
     "output_type": "stream",
     "text": [
      "word2vec_vs250_win5_sg0 done and updated json\n"
     ]
    },
    {
     "data": {
      "application/vnd.jupyter.widget-view+json": {
       "model_id": "2595354e97a84470b79e347e70e6539f",
       "version_major": 2,
       "version_minor": 0
      },
      "text/plain": [
       "Predictive Models for word2vec_vs250_win3_sg1:   0%|          | 0/5 [00:00<?, ?it/s]"
      ]
     },
     "metadata": {},
     "output_type": "display_data"
    },
    {
     "data": {
      "application/vnd.jupyter.widget-view+json": {
       "model_id": "f5e7df7791e54942826827328c30096b",
       "version_major": 2,
       "version_minor": 0
      },
      "text/plain": [
       "catboost submodels:   0%|          | 0/3 [00:00<?, ?it/s]"
      ]
     },
     "metadata": {},
     "output_type": "display_data"
    },
    {
     "data": {
      "application/vnd.jupyter.widget-view+json": {
       "model_id": "ac0eeff3685a4c1891be943d4000f034",
       "version_major": 2,
       "version_minor": 0
      },
      "text/plain": [
       "lightgbm submodels:   0%|          | 0/3 [00:00<?, ?it/s]"
      ]
     },
     "metadata": {},
     "output_type": "display_data"
    },
    {
     "data": {
      "application/vnd.jupyter.widget-view+json": {
       "model_id": "511921503cc64e9394afa398f6bee43e",
       "version_major": 2,
       "version_minor": 0
      },
      "text/plain": [
       "knn submodels:   0%|          | 0/3 [00:00<?, ?it/s]"
      ]
     },
     "metadata": {},
     "output_type": "display_data"
    },
    {
     "data": {
      "application/vnd.jupyter.widget-view+json": {
       "model_id": "2530cd6f09af4ebe9f84d6cc72fa7d1f",
       "version_major": 2,
       "version_minor": 0
      },
      "text/plain": [
       "randomforest submodels:   0%|          | 0/3 [00:00<?, ?it/s]"
      ]
     },
     "metadata": {},
     "output_type": "display_data"
    },
    {
     "data": {
      "application/vnd.jupyter.widget-view+json": {
       "model_id": "4e5151fe415449c3833c80753eeb5ef5",
       "version_major": 2,
       "version_minor": 0
      },
      "text/plain": [
       "decisiontree submodels:   0%|          | 0/3 [00:00<?, ?it/s]"
      ]
     },
     "metadata": {},
     "output_type": "display_data"
    },
    {
     "name": "stdout",
     "output_type": "stream",
     "text": [
      "word2vec_vs250_win3_sg1 done and updated json\n"
     ]
    },
    {
     "data": {
      "application/vnd.jupyter.widget-view+json": {
       "model_id": "3b28c50e9b7e4a1bba67bf36cfd83438",
       "version_major": 2,
       "version_minor": 0
      },
      "text/plain": [
       "Predictive Models for word2vec_vs250_win5_sg1:   0%|          | 0/5 [00:00<?, ?it/s]"
      ]
     },
     "metadata": {},
     "output_type": "display_data"
    },
    {
     "data": {
      "application/vnd.jupyter.widget-view+json": {
       "model_id": "dcda33a6752f4e759d7fed35ab945c38",
       "version_major": 2,
       "version_minor": 0
      },
      "text/plain": [
       "catboost submodels:   0%|          | 0/3 [00:00<?, ?it/s]"
      ]
     },
     "metadata": {},
     "output_type": "display_data"
    },
    {
     "data": {
      "application/vnd.jupyter.widget-view+json": {
       "model_id": "f010c794ab514653bccd28082c4f214b",
       "version_major": 2,
       "version_minor": 0
      },
      "text/plain": [
       "lightgbm submodels:   0%|          | 0/3 [00:00<?, ?it/s]"
      ]
     },
     "metadata": {},
     "output_type": "display_data"
    },
    {
     "data": {
      "application/vnd.jupyter.widget-view+json": {
       "model_id": "c45a5854cb254808996ee0ccf72cb103",
       "version_major": 2,
       "version_minor": 0
      },
      "text/plain": [
       "knn submodels:   0%|          | 0/3 [00:00<?, ?it/s]"
      ]
     },
     "metadata": {},
     "output_type": "display_data"
    },
    {
     "data": {
      "application/vnd.jupyter.widget-view+json": {
       "model_id": "e99b0e71384845f49d35f7164bee20a8",
       "version_major": 2,
       "version_minor": 0
      },
      "text/plain": [
       "randomforest submodels:   0%|          | 0/3 [00:00<?, ?it/s]"
      ]
     },
     "metadata": {},
     "output_type": "display_data"
    },
    {
     "data": {
      "application/vnd.jupyter.widget-view+json": {
       "model_id": "a7ae3a72f67642e6a44050e09f4c6531",
       "version_major": 2,
       "version_minor": 0
      },
      "text/plain": [
       "decisiontree submodels:   0%|          | 0/3 [00:00<?, ?it/s]"
      ]
     },
     "metadata": {},
     "output_type": "display_data"
    },
    {
     "name": "stdout",
     "output_type": "stream",
     "text": [
      "word2vec_vs250_win5_sg1 done and updated json\n"
     ]
    },
    {
     "data": {
      "application/vnd.jupyter.widget-view+json": {
       "model_id": "dff348bc7b544e03aed3c69e46ce98ba",
       "version_major": 2,
       "version_minor": 0
      },
      "text/plain": [
       "Predictive Models for word2vec_vs250_win8_sg1:   0%|          | 0/5 [00:00<?, ?it/s]"
      ]
     },
     "metadata": {},
     "output_type": "display_data"
    },
    {
     "data": {
      "application/vnd.jupyter.widget-view+json": {
       "model_id": "4f0cbca64d4a47dabf0212ecc38b37b3",
       "version_major": 2,
       "version_minor": 0
      },
      "text/plain": [
       "catboost submodels:   0%|          | 0/3 [00:00<?, ?it/s]"
      ]
     },
     "metadata": {},
     "output_type": "display_data"
    },
    {
     "data": {
      "application/vnd.jupyter.widget-view+json": {
       "model_id": "a53a009ceab4417f963ad329f187aa74",
       "version_major": 2,
       "version_minor": 0
      },
      "text/plain": [
       "lightgbm submodels:   0%|          | 0/3 [00:00<?, ?it/s]"
      ]
     },
     "metadata": {},
     "output_type": "display_data"
    },
    {
     "data": {
      "application/vnd.jupyter.widget-view+json": {
       "model_id": "733539e1a40c432c852a3400e2404474",
       "version_major": 2,
       "version_minor": 0
      },
      "text/plain": [
       "knn submodels:   0%|          | 0/3 [00:00<?, ?it/s]"
      ]
     },
     "metadata": {},
     "output_type": "display_data"
    },
    {
     "data": {
      "application/vnd.jupyter.widget-view+json": {
       "model_id": "396c872bd8304b409653ce93c8877d71",
       "version_major": 2,
       "version_minor": 0
      },
      "text/plain": [
       "randomforest submodels:   0%|          | 0/3 [00:00<?, ?it/s]"
      ]
     },
     "metadata": {},
     "output_type": "display_data"
    },
    {
     "data": {
      "application/vnd.jupyter.widget-view+json": {
       "model_id": "c5f72adb81d5478889d1c498769f55a3",
       "version_major": 2,
       "version_minor": 0
      },
      "text/plain": [
       "decisiontree submodels:   0%|          | 0/3 [00:00<?, ?it/s]"
      ]
     },
     "metadata": {},
     "output_type": "display_data"
    },
    {
     "name": "stdout",
     "output_type": "stream",
     "text": [
      "word2vec_vs250_win8_sg1 done and updated json\n"
     ]
    },
    {
     "data": {
      "application/vnd.jupyter.widget-view+json": {
       "model_id": "042c2b966c024532a25befb5a2e6f1cd",
       "version_major": 2,
       "version_minor": 0
      },
      "text/plain": [
       "Predictive Models for word2vec_vs250_win4_sg0:   0%|          | 0/5 [00:00<?, ?it/s]"
      ]
     },
     "metadata": {},
     "output_type": "display_data"
    },
    {
     "data": {
      "application/vnd.jupyter.widget-view+json": {
       "model_id": "30c2422684e14656ad0d5a502e0e9351",
       "version_major": 2,
       "version_minor": 0
      },
      "text/plain": [
       "catboost submodels:   0%|          | 0/3 [00:00<?, ?it/s]"
      ]
     },
     "metadata": {},
     "output_type": "display_data"
    },
    {
     "data": {
      "application/vnd.jupyter.widget-view+json": {
       "model_id": "dee1eb77c5de411ab91ed9f9207787d8",
       "version_major": 2,
       "version_minor": 0
      },
      "text/plain": [
       "lightgbm submodels:   0%|          | 0/3 [00:00<?, ?it/s]"
      ]
     },
     "metadata": {},
     "output_type": "display_data"
    },
    {
     "data": {
      "application/vnd.jupyter.widget-view+json": {
       "model_id": "86412badeb044e25860764dfe2bccc75",
       "version_major": 2,
       "version_minor": 0
      },
      "text/plain": [
       "knn submodels:   0%|          | 0/3 [00:00<?, ?it/s]"
      ]
     },
     "metadata": {},
     "output_type": "display_data"
    },
    {
     "data": {
      "application/vnd.jupyter.widget-view+json": {
       "model_id": "3adda2ee01de4f6183c8ea1cf405b0c5",
       "version_major": 2,
       "version_minor": 0
      },
      "text/plain": [
       "randomforest submodels:   0%|          | 0/3 [00:00<?, ?it/s]"
      ]
     },
     "metadata": {},
     "output_type": "display_data"
    },
    {
     "data": {
      "application/vnd.jupyter.widget-view+json": {
       "model_id": "656bd1b3bae247ec930c3e3fd9c58872",
       "version_major": 2,
       "version_minor": 0
      },
      "text/plain": [
       "decisiontree submodels:   0%|          | 0/3 [00:00<?, ?it/s]"
      ]
     },
     "metadata": {},
     "output_type": "display_data"
    },
    {
     "name": "stdout",
     "output_type": "stream",
     "text": [
      "word2vec_vs250_win4_sg0 done and updated json\n"
     ]
    }
   ],
   "source": [
    "import copy as cp\n",
    "from tqdm.notebook import tqdm\n",
    "\n",
    "# iterate over files in word2vec_models folder\n",
    "for file in tqdm(files):\n",
    "    # check if file is a .model file\n",
    "    if file.endswith('.model'):\n",
    "        df_temp = cp.deepcopy(df)\n",
    "        # load model\n",
    "        # path to model\n",
    "        model_path = os.path.join('../../all_datasets/word2vec_models', file)\n",
    "\n",
    "        properties = file.split('_')\n",
    "        # print(properties)\n",
    "\n",
    "        vector_size = int(properties[1][2:])\n",
    "        window_size = int(properties[2][3:])\n",
    "        is_skipgram = bool(int(properties[3][2:-6]))\n",
    "\n",
    "        settings = {\n",
    "            'model_path': model_path,\n",
    "            'is_skipgram' : is_skipgram,\n",
    "            'window_size' : window_size,\n",
    "            'vector_size' : vector_size, \n",
    "\n",
    "        }\n",
    "        # print(settings)\n",
    "\n",
    "        model_w2v = Word2VecModel(settings)\n",
    "        # get model name\n",
    "        model_name = file.split('.')[0]\n",
    "\n",
    "        title_vectors = [get_word_vectors(model_w2v, title, aggregation='mean') for title in df_temp['title']]\n",
    "        df_temp['title_vector'] = title_vectors\n",
    "\n",
    "        train = df_temp['sample'] == 'train'\n",
    "        test = df_temp['sample'] == 'val1'\n",
    "\n",
    "        # X = np.vstack(title_vectors)\n",
    "        # y = df['is_clickbait'].values\n",
    "\n",
    "        X_train = np.vstack(df_temp[train]['title_vector'])\n",
    "        y_train = df_temp[train]['is_clickbait'].values\n",
    "\n",
    "        X_test = np.vstack(df_temp[test]['title_vector'])\n",
    "        y_test = df_temp[test]['is_clickbait'].values\n",
    "   \n",
    "\n",
    "        # scale data\n",
    "        scaler = StandardScaler()\n",
    "        X_train_scaled = scaler.fit_transform(X_train)\n",
    "        X_test_scaled = scaler.transform(X_test)\n",
    "\n",
    "        # train models\n",
    "        models = {\n",
    "            'catboost': [\n",
    "                CatBoostClassifier(verbose=False, random_state=1, ),\n",
    "                CatBoostClassifier(verbose=False, random_state=2, ),\n",
    "                CatBoostClassifier(verbose=False, random_state=3, ),\n",
    "             \n",
    "            ],\n",
    "\n",
    "            'lightgbm': [\n",
    "                LGBMClassifier(random_state=1, verbose=-1),\n",
    "                LGBMClassifier(random_state=2, verbose=-1),\n",
    "                LGBMClassifier(random_state=3 ,verbose=-1),\n",
    "            \n",
    "            ],\n",
    "            \n",
    "            'knn' : [\n",
    "                KNeighborsClassifier(n_neighbors=3),\n",
    "                KNeighborsClassifier(n_neighbors=7),\n",
    "                KNeighborsClassifier(n_neighbors=5),\n",
    "               \n",
    "            ],\n",
    "\n",
    "            'randomforest': [\n",
    "                RandomForestClassifier(random_state=1,),\n",
    "                RandomForestClassifier(random_state=2, ),\n",
    "                RandomForestClassifier(random_state=3, ),\n",
    "        \n",
    "\n",
    "            ],\n",
    "\n",
    "            'decisiontree': [\n",
    "                DecisionTreeClassifier(random_state=1, ),\n",
    "                DecisionTreeClassifier(random_state=2, ),\n",
    "                DecisionTreeClassifier(random_state=3, ),\n",
    "               \n",
    "            ],\n",
    "        }\n",
    "\n",
    "\n",
    "        results = {}\n",
    "\n",
    "        for model_type in tqdm(models, desc=f'Predictive Models for {model_name}'):\n",
    "            f1_temp = list()\n",
    "            auc_temp = list()\n",
    "            # print(model_type)\n",
    "            for submodel in tqdm(models[model_type], desc=f'{model_type} submodels'):\n",
    "                submodel.fit(X_train_scaled, y_train)\n",
    "                y_pred = submodel.predict(X_test_scaled)\n",
    "                f1 = f1_score(y_test, y_pred)\n",
    "                auc = roc_auc_score(y_test, y_pred)\n",
    "                f1_temp.append(f1)\n",
    "                auc_temp.append(auc)\n",
    "                \n",
    "            results[model_type] = {\n",
    "                'f1': np.mean(f1_temp),\n",
    "                'auc': np.mean(auc_temp),\n",
    "                'f1_list': cp.deepcopy(f1_temp),\n",
    "                'auc_list': cp.deepcopy(auc_temp),\n",
    "            }\n",
    "            \n",
    "            \n",
    "        word2vec_results[model_name] = results\n",
    "        # save results to json\n",
    "        with open(save_path, 'w') as f:\n",
    "            json.dump(word2vec_results, f, indent=4)\n",
    "        print(f'{model_name} done and updated json')\n",
    "\n",
    "\n",
    "\n"
   ]
  }
 ],
 "metadata": {
  "kernelspec": {
   "display_name": "ag",
   "language": "python",
   "name": "python3"
  },
  "language_info": {
   "codemirror_mode": {
    "name": "ipython",
    "version": 3
   },
   "file_extension": ".py",
   "mimetype": "text/x-python",
   "name": "python",
   "nbconvert_exporter": "python",
   "pygments_lexer": "ipython3",
   "version": "3.11.6"
  }
 },
 "nbformat": 4,
 "nbformat_minor": 2
}
