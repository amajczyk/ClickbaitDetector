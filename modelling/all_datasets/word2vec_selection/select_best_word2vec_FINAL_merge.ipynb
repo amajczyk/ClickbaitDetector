{
 "cells": [
  {
   "cell_type": "code",
   "execution_count": 23,
   "metadata": {},
   "outputs": [
    {
     "name": "stdout",
     "output_type": "stream",
     "text": [
      "Loading results from:\n",
      " - word2vec_results_500_1000.json\n",
      " - word2vec_results_10_20_50.json\n",
      " - word2vec_results_100_250.json\n",
      "\n",
      "Number of assesed word2vec models: 48\n"
     ]
    }
   ],
   "source": [
    "import json\n",
    "import os\n",
    "\n",
    "# result path\n",
    "result_path = 'results/'\n",
    "name_start = 'word2vec_results_'\n",
    "name_end = '.json'\n",
    "\n",
    "\n",
    "if not os.path.exists(result_path) or not os.path.isfile(result_path + 'final_word2vec_results.json'):\n",
    "    try:\n",
    "        os.makedirs(result_path)\n",
    "    except:\n",
    "        pass\n",
    "\n",
    "    final_results = dict()\n",
    "\n",
    "    print('Loading results from:')\n",
    "\n",
    "    for file in os.listdir(result_path):\n",
    "        if file.startswith(name_start) and file.endswith(name_end):\n",
    "            print(f' - {file}')\n",
    "            with open(result_path + file) as f:\n",
    "                data = json.load(f)\n",
    "                for key, value in data.items():\n",
    "                    final_results[key] = value\n",
    "\n",
    "    print('')\n",
    "    print(f\"Number of assesed word2vec models: {len(final_results)}\")\n",
    "\n",
    "\n",
    "    with open(result_path + 'final_word2vec_results.json', 'w') as fp:\n",
    "        json.dump(final_results, fp)\n",
    "else:\n",
    "    print('Final results already exist, skipping...')\n",
    "    with open(result_path + 'final_word2vec_results.json') as f:\n",
    "        final_results = json.load(f)\n",
    "    print('Imported final results from: ' + result_path + 'final_word2vec_results.json')\n",
    "    print(f\"Number of assesed word2vec models: {len(final_results)}\")\n",
    "\n",
    "\n"
   ]
  },
  {
   "cell_type": "code",
   "execution_count": 24,
   "metadata": {},
   "outputs": [],
   "source": [
    "import copy as cp\n",
    "import numpy as np\n",
    "word2vec_results = cp.deepcopy(final_results)"
   ]
  },
  {
   "cell_type": "code",
   "execution_count": 25,
   "metadata": {},
   "outputs": [],
   "source": [
    "# for each word2vec model calculate mean auc\n",
    "word2vec_mean_auc = {}\n",
    "\n",
    "for model in word2vec_results:\n",
    "    # get results for each model\n",
    "    results = word2vec_results[model]\n",
    "    # get auc for each model\n",
    "    aucs = [results[model]['auc'] for model in results]\n",
    "    # calculate mean auc\n",
    "    mean_auc = np.mean(aucs)\n",
    "    # add to dict\n",
    "    word2vec_mean_auc[model] = mean_auc"
   ]
  },
  {
   "cell_type": "code",
   "execution_count": 26,
   "metadata": {},
   "outputs": [
    {
     "data": {
      "text/plain": [
       "{'word2vec_vs50_win5_sg0': 0.8566654736339775,\n",
       " 'word2vec_vs20_win5_sg0': 0.853975980275193,\n",
       " 'word2vec_vs20_win7_sg0': 0.8534530342798059,\n",
       " 'word2vec_vs20_win6_sg1': 0.8531213711922373,\n",
       " 'word2vec_vs50_win4_sg1': 0.852617911397439,\n",
       " 'word2vec_vs50_win8_sg1': 0.8519382804422175,\n",
       " 'word2vec_vs10_win5_sg0': 0.8518428378270899,\n",
       " 'word2vec_vs50_win4_sg0': 0.851735067207508,\n",
       " 'word2vec_vs50_win3_sg0': 0.851531853972799,\n",
       " 'word2vec_vs20_win7_sg1': 0.85131949415414,\n",
       " 'word2vec_vs20_win8_sg1': 0.8505571462658077,\n",
       " 'word2vec_vs10_win8_sg1': 0.8500214745884037,\n",
       " 'word2vec_vs20_win6_sg0': 0.8499029666746202,\n",
       " 'word2vec_vs50_win3_sg1': 0.8498544500119303,\n",
       " 'word2vec_vs50_win7_sg1': 0.8496516344547841,\n",
       " 'word2vec_vs20_win5_sg1': 0.8492324823033485,\n",
       " 'word2vec_vs50_win7_sg0': 0.8487365783822478,\n",
       " 'word2vec_vs100_win3_sg1': 0.8481846019247594,\n",
       " 'word2vec_vs50_win6_sg1': 0.8481026803467749,\n",
       " 'word2vec_vs100_win5_sg0': 0.8480569474270261,\n",
       " 'word2vec_vs50_win8_sg0': 0.8475837111270182,\n",
       " 'word2vec_vs20_win3_sg1': 0.8475833134494553,\n",
       " 'word2vec_vs10_win8_sg0': 0.847179273045415,\n",
       " 'word2vec_vs20_win8_sg0': 0.8471279726397837,\n",
       " 'word2vec_vs50_win6_sg0': 0.8471200190885231,\n",
       " 'word2vec_vs100_win4_sg1': 0.8466853575121294,\n",
       " 'word2vec_vs50_win5_sg1': 0.8464964606696889,\n",
       " 'word2vec_vs100_win3_sg0': 0.8458343275272409,\n",
       " 'word2vec_vs10_win7_sg0': 0.845823590233039,\n",
       " 'word2vec_vs100_win6_sg1': 0.8457802433786685,\n",
       " 'word2vec_vs100_win6_sg0': 0.8452103714308439,\n",
       " 'word2vec_vs20_win4_sg0': 0.8446902091783983,\n",
       " 'word2vec_vs10_win5_sg1': 0.8442237333969617,\n",
       " 'word2vec_vs10_win6_sg0': 0.8435679630955221,\n",
       " 'word2vec_vs20_win3_sg0': 0.8434589994432514,\n",
       " 'word2vec_vs20_win4_sg1': 0.8430557543943371,\n",
       " 'word2vec_vs10_win4_sg1': 0.8427610753201303,\n",
       " 'word2vec_vs100_win8_sg1': 0.8425117314881094,\n",
       " 'word2vec_vs10_win6_sg1': 0.841822158593812,\n",
       " 'word2vec_vs10_win3_sg0': 0.8417748349638113,\n",
       " 'word2vec_vs10_win3_sg1': 0.8405273204485804,\n",
       " 'word2vec_vs100_win5_sg1': 0.8403475701900899,\n",
       " 'word2vec_vs100_win7_sg0': 0.840198441103953,\n",
       " 'word2vec_vs10_win4_sg0': 0.8398854688618469,\n",
       " 'word2vec_vs100_win4_sg0': 0.8396981627296588,\n",
       " 'word2vec_vs100_win8_sg0': 0.8384780879662769,\n",
       " 'word2vec_vs100_win7_sg1': 0.8371363238686073,\n",
       " 'word2vec_vs10_win7_sg1': 0.8347116837668018}"
      ]
     },
     "execution_count": 26,
     "metadata": {},
     "output_type": "execute_result"
    }
   ],
   "source": [
    "# sort dict by mean auc in descending order\n",
    "word2vec_mean_auc = dict(sorted(word2vec_mean_auc.items(), key=lambda item: item[1], reverse=True))\n",
    "word2vec_mean_auc"
   ]
  },
  {
   "cell_type": "code",
   "execution_count": 27,
   "metadata": {},
   "outputs": [],
   "source": [
    "# for each word2vec model calculate mean auc\n",
    "word2vec_mean_f1 = {}\n",
    "\n",
    "for model in word2vec_results:\n",
    "    # get results for each model\n",
    "    results = word2vec_results[model]\n",
    "    # get auc for each model\n",
    "    f1s = [results[model]['f1'] for model in results]\n",
    "    # calculate mean auc\n",
    "    mean_f1 = np.mean(f1s)\n",
    "    # add to dict\n",
    "    word2vec_mean_f1[model] = mean_f1"
   ]
  },
  {
   "cell_type": "code",
   "execution_count": 28,
   "metadata": {},
   "outputs": [
    {
     "data": {
      "text/plain": [
       "{'word2vec_vs50_win5_sg0': 0.8504740325463416,\n",
       " 'word2vec_vs20_win5_sg0': 0.8464674289819685,\n",
       " 'word2vec_vs20_win7_sg0': 0.845711737453245,\n",
       " 'word2vec_vs20_win6_sg1': 0.8453470755671624,\n",
       " 'word2vec_vs50_win4_sg0': 0.8445146411884099,\n",
       " 'word2vec_vs50_win4_sg1': 0.8444829762996037,\n",
       " 'word2vec_vs10_win5_sg0': 0.8442434379196764,\n",
       " 'word2vec_vs50_win3_sg0': 0.8442062797897142,\n",
       " 'word2vec_vs50_win8_sg1': 0.8431175646662205,\n",
       " 'word2vec_vs100_win5_sg0': 0.843074213553364,\n",
       " 'word2vec_vs50_win3_sg1': 0.8430226194670819,\n",
       " 'word2vec_vs20_win6_sg0': 0.8427649903759763,\n",
       " 'word2vec_vs20_win7_sg1': 0.8426952193175701,\n",
       " 'word2vec_vs20_win8_sg1': 0.8424757847449804,\n",
       " 'word2vec_vs20_win5_sg1': 0.842126535580136,\n",
       " 'word2vec_vs50_win7_sg0': 0.8420794142262438,\n",
       " 'word2vec_vs10_win8_sg1': 0.8419952181591551,\n",
       " 'word2vec_vs50_win8_sg0': 0.8410803448107697,\n",
       " 'word2vec_vs100_win3_sg1': 0.8409913410223018,\n",
       " 'word2vec_vs50_win7_sg1': 0.8409416871281638,\n",
       " 'word2vec_vs100_win3_sg0': 0.8402700825538629,\n",
       " 'word2vec_vs50_win6_sg0': 0.8399739192327976,\n",
       " 'word2vec_vs20_win8_sg0': 0.8398124388842051,\n",
       " 'word2vec_vs20_win3_sg1': 0.8396755051817569,\n",
       " 'word2vec_vs100_win6_sg0': 0.8395918090492817,\n",
       " 'word2vec_vs10_win8_sg0': 0.8393181340805199,\n",
       " 'word2vec_vs50_win6_sg1': 0.8392819959085062,\n",
       " 'word2vec_vs10_win7_sg0': 0.8382243879105526,\n",
       " 'word2vec_vs50_win5_sg1': 0.8376961352435461,\n",
       " 'word2vec_vs100_win4_sg1': 0.8375334662881402,\n",
       " 'word2vec_vs20_win4_sg0': 0.8366363617278882,\n",
       " 'word2vec_vs100_win6_sg1': 0.8365690421316115,\n",
       " 'word2vec_vs10_win5_sg1': 0.8357781185704722,\n",
       " 'word2vec_vs100_win7_sg0': 0.8349434653947749,\n",
       " 'word2vec_vs10_win6_sg0': 0.834775418215037,\n",
       " 'word2vec_vs20_win3_sg0': 0.8347052377360782,\n",
       " 'word2vec_vs10_win4_sg1': 0.8344565591918528,\n",
       " 'word2vec_vs100_win4_sg0': 0.8340788313968741,\n",
       " 'word2vec_vs10_win3_sg0': 0.833815048415147,\n",
       " 'word2vec_vs20_win4_sg1': 0.8337241633381172,\n",
       " 'word2vec_vs10_win6_sg1': 0.8332975544889288,\n",
       " 'word2vec_vs100_win8_sg0': 0.8328085775913632,\n",
       " 'word2vec_vs100_win8_sg1': 0.8324866688177783,\n",
       " 'word2vec_vs100_win5_sg1': 0.8321013636162347,\n",
       " 'word2vec_vs10_win3_sg1': 0.8309132758340155,\n",
       " 'word2vec_vs10_win4_sg0': 0.8301663040680776,\n",
       " 'word2vec_vs100_win7_sg1': 0.8277928232890319,\n",
       " 'word2vec_vs10_win7_sg1': 0.8247031753406098}"
      ]
     },
     "execution_count": 28,
     "metadata": {},
     "output_type": "execute_result"
    }
   ],
   "source": [
    "# sort dict by mean f1 in descending order\n",
    "word2vec_mean_f1 = dict(sorted(word2vec_mean_f1.items(), key=lambda item: item[1], reverse=True))\n",
    "word2vec_mean_f1"
   ]
  },
  {
   "cell_type": "code",
   "execution_count": 29,
   "metadata": {},
   "outputs": [
    {
     "data": {
      "text/plain": [
       "{'word2vec_vs50_win5_sg0': 0.8535697530901596,\n",
       " 'word2vec_vs20_win5_sg0': 0.8502217046285807,\n",
       " 'word2vec_vs20_win7_sg0': 0.8495823858665255,\n",
       " 'word2vec_vs20_win6_sg1': 0.8492342233796999,\n",
       " 'word2vec_vs50_win4_sg1': 0.8485504438485214,\n",
       " 'word2vec_vs50_win4_sg0': 0.8481248541979589,\n",
       " 'word2vec_vs10_win5_sg0': 0.8480431378733831,\n",
       " 'word2vec_vs50_win3_sg0': 0.8478690668812565,\n",
       " 'word2vec_vs50_win8_sg1': 0.8475279225542189}"
      ]
     },
     "execution_count": 29,
     "metadata": {},
     "output_type": "execute_result"
    }
   ],
   "source": [
    "# get first 10 models by auc and their mean auc\n",
    "top_10_auc = dict(list(word2vec_mean_auc.items())[:10])\n",
    "\n",
    "# get first 10 models by f1 and their mean f1\n",
    "top_10_f1 = dict(list(word2vec_mean_f1.items())[:10])\n",
    "\n",
    "\n",
    "\n",
    "\n",
    "# get intersection of top 10 models by auc and f1\n",
    "top_10_auc_f1 = set(top_10_auc.keys()).intersection(set(top_10_f1.keys()))\n",
    "\n",
    "# order top_10_auc_f1 by mean of auc and f1\n",
    "top_10_auc_f1 = dict(sorted({model: (top_10_auc[model] + top_10_f1[model])/2 for model in top_10_auc_f1}.items(), key=lambda item: item[1], reverse=True))\n",
    "top_10_auc_f1"
   ]
  },
  {
   "cell_type": "code",
   "execution_count": 30,
   "metadata": {},
   "outputs": [
    {
     "data": {
      "text/plain": [
       "{'word2vec_vs50_win5_sg0': 0.8566654736339775,\n",
       " 'word2vec_vs20_win5_sg0': 0.853975980275193,\n",
       " 'word2vec_vs20_win7_sg0': 0.8534530342798059,\n",
       " 'word2vec_vs20_win6_sg1': 0.8531213711922373,\n",
       " 'word2vec_vs50_win4_sg1': 0.852617911397439,\n",
       " 'word2vec_vs50_win8_sg1': 0.8519382804422175,\n",
       " 'word2vec_vs10_win5_sg0': 0.8518428378270899,\n",
       " 'word2vec_vs50_win4_sg0': 0.851735067207508,\n",
       " 'word2vec_vs50_win3_sg0': 0.851531853972799,\n",
       " 'word2vec_vs20_win7_sg1': 0.85131949415414}"
      ]
     },
     "execution_count": 30,
     "metadata": {},
     "output_type": "execute_result"
    }
   ],
   "source": [
    "top_10_auc"
   ]
  },
  {
   "cell_type": "code",
   "execution_count": 31,
   "metadata": {},
   "outputs": [
    {
     "data": {
      "text/plain": [
       "{'word2vec_vs50_win5_sg0': 0.8504740325463416,\n",
       " 'word2vec_vs20_win5_sg0': 0.8464674289819685,\n",
       " 'word2vec_vs20_win7_sg0': 0.845711737453245,\n",
       " 'word2vec_vs20_win6_sg1': 0.8453470755671624,\n",
       " 'word2vec_vs50_win4_sg0': 0.8445146411884099,\n",
       " 'word2vec_vs50_win4_sg1': 0.8444829762996037,\n",
       " 'word2vec_vs10_win5_sg0': 0.8442434379196764,\n",
       " 'word2vec_vs50_win3_sg0': 0.8442062797897142,\n",
       " 'word2vec_vs50_win8_sg1': 0.8431175646662205,\n",
       " 'word2vec_vs100_win5_sg0': 0.843074213553364}"
      ]
     },
     "execution_count": 31,
     "metadata": {},
     "output_type": "execute_result"
    }
   ],
   "source": [
    "top_10_f1"
   ]
  },
  {
   "cell_type": "markdown",
   "metadata": {},
   "source": [
    "## WINNER - `word2vec_vs20_win8_sg1`\n",
    "Since it was on average the best performing model for both auc and f1 on different predictive models, we will use this model to generate the word embeddings for the rest of the project."
   ]
  }
 ],
 "metadata": {
  "kernelspec": {
   "display_name": "ag",
   "language": "python",
   "name": "python3"
  },
  "language_info": {
   "codemirror_mode": {
    "name": "ipython",
    "version": 3
   },
   "file_extension": ".py",
   "mimetype": "text/x-python",
   "name": "python",
   "nbconvert_exporter": "python",
   "pygments_lexer": "ipython3",
   "version": "3.10.13"
  }
 },
 "nbformat": 4,
 "nbformat_minor": 2
}
