{
 "cells": [
  {
   "cell_type": "code",
   "execution_count": null,
   "metadata": {},
   "outputs": [],
   "source": [
    "import numpy as np\n",
    "import pandas as pd\n",
    "import matplotlib.pyplot as plt\n",
    "from gensim.models import Word2Vec\n",
    "from nltk.tokenize import word_tokenize\n",
    "from nltk.corpus import stopwords\n",
    "import nltk\n",
    "nltk.download('stopwords')\n",
    "nltk.download('punkt')\n",
    "from word2vec_selection.classes import Word2VecModel"
   ]
  },
  {
   "cell_type": "code",
   "execution_count": null,
   "metadata": {},
   "outputs": [],
   "source": [
    "from word2vec_selection.functions import *\n",
    "model_w2v_settings = return_best_model()"
   ]
  },
  {
   "cell_type": "code",
   "execution_count": null,
   "metadata": {},
   "outputs": [],
   "source": [
    "model_w2v = Word2VecModel(model_w2v_settings)"
   ]
  },
  {
   "cell_type": "code",
   "execution_count": null,
   "metadata": {},
   "outputs": [],
   "source": [
    "# read preprocessed data from pickle file\n",
    "df = pd.read_pickle('data/preprocessed_titles_labels.pkl')\n",
    "df.head()"
   ]
  },
  {
   "cell_type": "code",
   "execution_count": null,
   "metadata": {},
   "outputs": [],
   "source": [
    "df['sample'].value_counts()\n"
   ]
  },
  {
   "cell_type": "code",
   "execution_count": null,
   "metadata": {},
   "outputs": [],
   "source": [
    "# split data into train and test stratified by y\n",
    "from sklearn.preprocessing import StandardScaler\n",
    "import os\n",
    "\n",
    "df['title_vector'] = [get_word_vectors(model_w2v, title, aggregation='mean') for title in df['title']]\n",
    "\n",
    "X_train = np.vstack(df[df['sample']=='train']['title_vector'])\n",
    "X_test = np.vstack(df[df['sample']=='val2']['title_vector'])\n",
    "\n",
    "\n",
    "\n",
    "y_train = df[df['sample']=='train']['is_clickbait']\n",
    "y_test = df[df['sample']=='val2']['is_clickbait']\n",
    "\n",
    "# scale data\n",
    "scaler = StandardScaler()\n",
    "X_train_scaled = scaler.fit_transform(X_train)\n",
    "X_test_scaled = scaler.transform(X_test)\n",
    "\n"
   ]
  },
  {
   "cell_type": "code",
   "execution_count": null,
   "metadata": {},
   "outputs": [],
   "source": [
    "import json\n",
    "\n",
    "# if file does not exist write empty dict\n",
    "if not os.path.exists('grid_search_results.json'):\n",
    "    with open('grid_search_results.json', 'w') as f:\n",
    "        json.dump({}, f)\n",
    "\n",
    "with open('grid_search_results.json', 'r') as f:\n",
    "    model_settings = json.load(f)\n",
    "\n",
    "model_settings\n",
    "grids = model_settings['grid_search_grids']\n",
    "grids"
   ]
  },
  {
   "cell_type": "code",
   "execution_count": null,
   "metadata": {},
   "outputs": [],
   "source": [
    "models_to_CV = list()\n",
    "\n",
    "for model_name, grid in grids.items():\n",
    "    # check if model has already been trained - if 'best_params' exists in grid\n",
    "    if 'best_params' in grid.keys():\n",
    "        print(f'Model {model_name} already trained')\n",
    "        continue\n",
    "    models_to_CV.append((model_name))\n",
    "models_to_CV"
   ]
  },
  {
   "cell_type": "code",
   "execution_count": null,
   "metadata": {},
   "outputs": [],
   "source": [
    "from sklearn.tree import DecisionTreeClassifier\n",
    "from sklearn.ensemble import RandomForestClassifier\n",
    "from xgboost import XGBClassifier\n",
    "from lightgbm import LGBMClassifier\n",
    "from catboost import CatBoostClassifier"
   ]
  },
  {
   "cell_type": "code",
   "execution_count": null,
   "metadata": {},
   "outputs": [],
   "source": [
    "models = list()\n",
    "for model in grids:\n",
    "    models.append(model)\n",
    "models"
   ]
  },
  {
   "cell_type": "code",
   "execution_count": null,
   "metadata": {},
   "outputs": [],
   "source": [
    "from sklearn.model_selection import GridSearchCV\n",
    "from sklearn.metrics import f1_score, roc_auc_score\n",
    "\n",
    "from sklearn.tree import DecisionTreeClassifier\n",
    "from sklearn.ensemble import RandomForestClassifier\n",
    "from xgboost import XGBClassifier\n",
    "from lightgbm import LGBMClassifier\n",
    "from catboost import CatBoostClassifier\n",
    "\n",
    "for model in grids:\n",
    "    # check if model has already been trained - if 'best_params' exists in grid - if so, skip\n",
    "    if not model in models_to_CV:\n",
    "        continue\n",
    "\n",
    "    print(f'Grid search for model: {model}')\n",
    "    grid = grids[model]\n",
    "\n",
    "    if model == 'decision_tree_grid':\n",
    "        clf = DecisionTreeClassifier()\n",
    "    elif model == 'random_forest_grid':\n",
    "        clf = RandomForestClassifier()\n",
    "    elif model == 'xgboost_grid':\n",
    "        clf = XGBClassifier()\n",
    "    elif model == 'lightgbm_grid':\n",
    "        clf = LGBMClassifier()\n",
    "    elif model == 'catboost_grid':\n",
    "        clf = CatBoostClassifier(verbose=0)\n",
    "\n",
    "    # do grid search\n",
    "    grid_search = GridSearchCV(clf, grid, scoring='roc_auc', cv=5, n_jobs=-1, verbose=1)\n",
    "    grid_search.fit(X_train_scaled, y_train)\n",
    "\n",
    "    # save best model\n",
    "    roc_auc = roc_auc_score(y_test, grid_search.predict_proba(X_test_scaled)[:, 1])\n",
    "    f1 = f1_score(y_test, grid_search.predict(X_test_scaled))\n",
    "\n",
    "    grids[model]['best_params'] = grid_search.best_params_\n",
    "    grids[model]['roc_auc'] = roc_auc\n",
    "    grids[model]['f1'] = f1\n",
    "\n",
    "    # save grid search results\n",
    "    with open('grid_search_results.json', 'w') as f:\n",
    "        json.dump(model_settings, f)\n"
   ]
  },
  {
   "cell_type": "code",
   "execution_count": null,
   "metadata": {},
   "outputs": [],
   "source": [
    "# order grids by roc_auc descending\n",
    "grids = {k: v for k, v in sorted(grids.items(), key=lambda item: item[1]['roc_auc'], reverse=True)}\n",
    "\n",
    "# get model ranking\n",
    "model_ranking_auc = list()\n",
    "for model_name, grid in grids.items():\n",
    "    model_ranking_auc.append((model_name, grid['roc_auc']))\n",
    "\n",
    "model_ranking_auc "
   ]
  },
  {
   "cell_type": "code",
   "execution_count": null,
   "metadata": {},
   "outputs": [],
   "source": [
    "# order grids by f1 descending\n",
    "grids = {k: v for k, v in sorted(grids.items(), key=lambda item: item[1]['f1'], reverse=True)}\n",
    "\n",
    "# get model ranking\n",
    "model_ranking_f1 = list()\n",
    "for model_name, grid in grids.items():\n",
    "    model_ranking_f1.append((model_name, grid['f1']))\n",
    "\n",
    "model_ranking_f1 "
   ]
  },
  {
   "cell_type": "markdown",
   "metadata": {},
   "source": [
    "# WINNER - lightgbm"
   ]
  },
  {
   "cell_type": "code",
   "execution_count": null,
   "metadata": {},
   "outputs": [],
   "source": [
    "# get params for best model\n",
    "best_model = model_ranking_auc[1][0]\n",
    "best_params = grids[best_model]['best_params']\n",
    "best_model, best_params"
   ]
  },
  {
   "cell_type": "code",
   "execution_count": null,
   "metadata": {},
   "outputs": [],
   "source": [
    "from lightgbm import LGBMClassifier\n",
    "\n",
    "clf = LGBMClassifier(max_depth= -1, n_estimators=500, num_leaves= 155, learning_rate= 0.1)\n",
    "clf.fit(X_train_scaled, y_train)\n",
    "\n",
    "roc_auc = roc_auc_score(y_test, clf.predict_proba(X_test_scaled)[:, 1])\n",
    "f1 = f1_score(y_test, clf.predict(X_test_scaled))\n",
    "\n",
    "print(f'ROC AUC: {roc_auc}')\n",
    "print(f'F1: {f1}')"
   ]
  },
  {
   "cell_type": "code",
   "execution_count": null,
   "metadata": {},
   "outputs": [],
   "source": [
    "from sklearn.metrics import roc_curve\n",
    "\n",
    "# plot ROC curve    \n",
    "fpr, tpr, thresholds = roc_curve(y_test, clf.predict_proba(X_test_scaled)[:, 1])\n",
    "\n",
    "plt.figure(figsize=(10, 8))\n",
    "plt.plot(fpr, tpr, linewidth=2, label='LightGBM')\n",
    "plt.plot([0, 1], [0, 1], 'k--')\n",
    "plt.axis([0, 1, 0, 1])\n",
    "plt.xlabel('False Positive Rate', fontsize=16)\n",
    "plt.ylabel('True Positive Rate', fontsize=16)\n",
    "plt.title('ROC Curve', fontsize=16)\n",
    "# add info about roc_auc and f1\n",
    "plt.text(0.6, 0.2, f'ROC AUC: {roc_auc:.4f}', fontsize=14)\n",
    "plt.text(0.6, 0.1, f'F1: {f1:.4f}', fontsize=14)\n",
    "\n",
    "plt.legend()\n",
    "plt.show()"
   ]
  },
  {
   "cell_type": "code",
   "execution_count": null,
   "metadata": {},
   "outputs": [],
   "source": [
    "# print confusion matrix\n",
    "from sklearn.metrics import confusion_matrix\n",
    "\n",
    "confusion_matrix(y_test, clf.predict(X_test_scaled))\n"
   ]
  },
  {
   "cell_type": "code",
   "execution_count": null,
   "metadata": {},
   "outputs": [],
   "source": [
    "# find best threshold\n",
    "from sklearn.metrics import precision_recall_curve\n",
    "\n",
    "precisions, recalls, thresholds = precision_recall_curve(y_test, clf.predict_proba(X_test_scaled)[:, 1])\n",
    "\n",
    "plt.figure(figsize=(10, 8))\n",
    "plt.plot(thresholds, precisions[:-1], 'b--', label='Precision')\n",
    "plt.plot(thresholds, recalls[:-1], 'g-', label='Recall')\n",
    "plt.xlabel('Threshold', fontsize=16)\n",
    "plt.legend(loc='upper left', fontsize=16)\n",
    "plt.ylim([0, 1])\n",
    "plt.show()\n"
   ]
  },
  {
   "cell_type": "code",
   "execution_count": null,
   "metadata": {},
   "outputs": [],
   "source": [
    "# get the point at which precision and recall are equal\n",
    "threshold = thresholds[np.argmax(precisions == recalls)]\n",
    "threshold"
   ]
  },
  {
   "cell_type": "code",
   "execution_count": null,
   "metadata": {},
   "outputs": [],
   "source": [
    "# get predictions for test data with best threshold\n",
    "y_pred = (clf.predict_proba(X_test_scaled)[:, 1] >= threshold).astype(int)\n",
    "\n",
    "# print confusion matrix\n",
    "from sklearn.metrics import confusion_matrix\n",
    "\n",
    "confusion_matrix(y_test, y_pred)\n"
   ]
  },
  {
   "cell_type": "code",
   "execution_count": null,
   "metadata": {},
   "outputs": [],
   "source": [
    "# print f1 score\n",
    "from sklearn.metrics import f1_score\n",
    "\n",
    "f1_score(y_test, y_pred)"
   ]
  },
  {
   "cell_type": "code",
   "execution_count": null,
   "metadata": {},
   "outputs": [],
   "source": []
  },
  {
   "cell_type": "code",
   "execution_count": null,
   "metadata": {},
   "outputs": [],
   "source": [
    "import numpy as np\n",
    "from tqdm.auto import tqdm\n",
    "# find threshold for best f1 score\n",
    "thresholds = np.linspace(0, 1, 10000)\n",
    "f1s = dict()\n",
    "for threshold in tqdm(thresholds):\n",
    "    y_pred = (clf.predict_proba(X_test_scaled)[:, 1] >= threshold).astype(int)\n",
    "    f1 = f1_score(y_test, y_pred)\n",
    "    f1s[threshold] = f1\n",
    "\n",
    "# get threshold for best f1 score\n",
    "threshold = max(f1s, key=f1s.get)\n",
    "threshold\n",
    "    "
   ]
  },
  {
   "cell_type": "code",
   "execution_count": null,
   "metadata": {},
   "outputs": [],
   "source": [
    "# find auc and f1 for best threshold\n",
    "y_pred = (clf.predict_proba(X_test_scaled)[:, 1] >= threshold).astype(int)\n",
    "y_proba = clf.predict_proba(X_test_scaled)[:, 1]\n",
    "\n",
    "roc_auc = roc_auc_score(y_test, y_proba)\n",
    "f1 = f1_score(y_test, y_pred)\n",
    "\n",
    "print(f'ROC AUC: {roc_auc}')\n",
    "print(f'F1: {f1}')"
   ]
  },
  {
   "cell_type": "code",
   "execution_count": null,
   "metadata": {},
   "outputs": [],
   "source": [
    "# save clf to pickle file\n",
    "import pickle\n",
    "\n",
    "with open('predictive_models/lightgbm.pkl', 'wb') as f:\n",
    "    pickle.dump(clf, f)\n",
    "\n",
    "# save scaler to pickle file\n",
    "with open('predictive_models/scaler.pkl', 'wb') as f:\n",
    "    pickle.dump(scaler, f)"
   ]
  },
  {
   "cell_type": "code",
   "execution_count": null,
   "metadata": {},
   "outputs": [],
   "source": []
  },
  {
   "cell_type": "code",
   "execution_count": null,
   "metadata": {},
   "outputs": [],
   "source": []
  }
 ],
 "metadata": {
  "kernelspec": {
   "display_name": "ag",
   "language": "python",
   "name": "python3"
  },
  "language_info": {
   "codemirror_mode": {
    "name": "ipython",
    "version": 3
   },
   "file_extension": ".py",
   "mimetype": "text/x-python",
   "name": "python",
   "nbconvert_exporter": "python",
   "pygments_lexer": "ipython3",
   "version": "3.10.13"
  }
 },
 "nbformat": 4,
 "nbformat_minor": 2
}
