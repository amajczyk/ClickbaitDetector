{
 "cells": [
  {
   "cell_type": "code",
   "execution_count": 10,
   "metadata": {},
   "outputs": [
    {
     "name": "stderr",
     "output_type": "stream",
     "text": [
      "[nltk_data] Downloading package stopwords to\n",
      "[nltk_data]     /Users/adammajczyk/nltk_data...\n",
      "[nltk_data]   Package stopwords is already up-to-date!\n",
      "[nltk_data] Downloading package punkt to\n",
      "[nltk_data]     /Users/adammajczyk/nltk_data...\n",
      "[nltk_data]   Package punkt is already up-to-date!\n",
      "[nltk_data] Downloading package punkt to\n",
      "[nltk_data]     /Users/adammajczyk/nltk_data...\n",
      "[nltk_data]   Package punkt is already up-to-date!\n",
      "[nltk_data] Downloading package wordnet to\n",
      "[nltk_data]     /Users/adammajczyk/nltk_data...\n",
      "[nltk_data]   Package wordnet is already up-to-date!\n",
      "[nltk_data] Downloading package punkt to\n",
      "[nltk_data]     /Users/adammajczyk/nltk_data...\n",
      "[nltk_data]   Package punkt is already up-to-date!\n",
      "[nltk_data] Downloading package averaged_perceptron_tagger to\n",
      "[nltk_data]     /Users/adammajczyk/nltk_data...\n",
      "[nltk_data]   Package averaged_perceptron_tagger is already up-to-\n",
      "[nltk_data]       date!\n",
      "[nltk_data] Downloading package words to\n",
      "[nltk_data]     /Users/adammajczyk/nltk_data...\n",
      "[nltk_data]   Package words is already up-to-date!\n"
     ]
    }
   ],
   "source": [
    "import numpy as np\n",
    "import pandas as pd\n",
    "import matplotlib.pyplot as plt\n",
    "from gensim.models import Word2Vec\n",
    "import nltk\n",
    "nltk.download('stopwords')\n",
    "nltk.download('punkt')\n",
    "\n",
    "\n",
    "%run '../functions.py'\n",
    "%run '../classes.py'\n"
   ]
  },
  {
   "cell_type": "code",
   "execution_count": 11,
   "metadata": {},
   "outputs": [
    {
     "data": {
      "text/html": [
       "<div>\n",
       "<style scoped>\n",
       "    .dataframe tbody tr th:only-of-type {\n",
       "        vertical-align: middle;\n",
       "    }\n",
       "\n",
       "    .dataframe tbody tr th {\n",
       "        vertical-align: top;\n",
       "    }\n",
       "\n",
       "    .dataframe thead th {\n",
       "        text-align: right;\n",
       "    }\n",
       "</style>\n",
       "<table border=\"1\" class=\"dataframe\">\n",
       "  <thead>\n",
       "    <tr style=\"text-align: right;\">\n",
       "      <th></th>\n",
       "      <th>title</th>\n",
       "      <th>is_clickbait</th>\n",
       "      <th>text</th>\n",
       "      <th>dataset</th>\n",
       "      <th>sample</th>\n",
       "    </tr>\n",
       "  </thead>\n",
       "  <tbody>\n",
       "    <tr>\n",
       "      <th>0</th>\n",
       "      <td>7 Essays To Read: Sex Scenes That Are Actually...</td>\n",
       "      <td>1</td>\n",
       "      <td>NaN</td>\n",
       "      <td>clickbait-dataset</td>\n",
       "      <td>train</td>\n",
       "    </tr>\n",
       "    <tr>\n",
       "      <th>1</th>\n",
       "      <td>The Horrible Truth About Bagels</td>\n",
       "      <td>1</td>\n",
       "      <td>NaN</td>\n",
       "      <td>clickbait-dataset</td>\n",
       "      <td>train</td>\n",
       "    </tr>\n",
       "    <tr>\n",
       "      <th>2</th>\n",
       "      <td>Entire Dem/Lib Party is Infested with Rats! So...</td>\n",
       "      <td>1</td>\n",
       "      <td>— Susan? (@GaetaSusan) October 27, 2016 WikiLe...</td>\n",
       "      <td>fake-news</td>\n",
       "      <td>train</td>\n",
       "    </tr>\n",
       "    <tr>\n",
       "      <th>3</th>\n",
       "      <td>Beginning a New Life in America, With Mentors ...</td>\n",
       "      <td>0</td>\n",
       "      <td>OAKLAND, Calif.  —   Pascal Serugendo was only...</td>\n",
       "      <td>fake-news</td>\n",
       "      <td>train</td>\n",
       "    </tr>\n",
       "    <tr>\n",
       "      <th>4</th>\n",
       "      <td>Imam pleads guilty in New York subway bomb plot</td>\n",
       "      <td>0</td>\n",
       "      <td>NaN</td>\n",
       "      <td>clickbait-dataset</td>\n",
       "      <td>train</td>\n",
       "    </tr>\n",
       "  </tbody>\n",
       "</table>\n",
       "</div>"
      ],
      "text/plain": [
       "                                               title  is_clickbait  \\\n",
       "0  7 Essays To Read: Sex Scenes That Are Actually...             1   \n",
       "1                    The Horrible Truth About Bagels             1   \n",
       "2  Entire Dem/Lib Party is Infested with Rats! So...             1   \n",
       "3  Beginning a New Life in America, With Mentors ...             0   \n",
       "4    Imam pleads guilty in New York subway bomb plot             0   \n",
       "\n",
       "                                                text            dataset sample  \n",
       "0                                                NaN  clickbait-dataset  train  \n",
       "1                                                NaN  clickbait-dataset  train  \n",
       "2  — Susan? (@GaetaSusan) October 27, 2016 WikiLe...          fake-news  train  \n",
       "3  OAKLAND, Calif.  —   Pascal Serugendo was only...          fake-news  train  \n",
       "4                                                NaN  clickbait-dataset  train  "
      ]
     },
     "execution_count": 11,
     "metadata": {},
     "output_type": "execute_result"
    }
   ],
   "source": [
    "# if data not saved as csv, run this\n",
    "import os\n",
    "if not os.path.exists('data/merged_titles_labels.csv'):\n",
    "    df1 = pd.read_csv('../eda/small1/labeled.csv')\n",
    "    df2 = pd.read_csv('../eda/small2/labeled.csv')\n",
    "    df3 = pd.read_csv('../eda/small3/labeled.csv')\n",
    "    df = pd.concat([df1, df2, df3], ignore_index=True).reset_index(drop=True)\n",
    "    df.to_csv('data/merged_titles_labels.csv', index=False)\n",
    "    df.head()\n",
    "else:\n",
    "    df = pd.read_csv('data/merged_titles_labels.csv')\n",
    "df.head()"
   ]
  },
  {
   "cell_type": "code",
   "execution_count": 12,
   "metadata": {},
   "outputs": [
    {
     "data": {
      "text/html": [
       "<div>\n",
       "<style scoped>\n",
       "    .dataframe tbody tr th:only-of-type {\n",
       "        vertical-align: middle;\n",
       "    }\n",
       "\n",
       "    .dataframe tbody tr th {\n",
       "        vertical-align: top;\n",
       "    }\n",
       "\n",
       "    .dataframe thead th {\n",
       "        text-align: right;\n",
       "    }\n",
       "</style>\n",
       "<table border=\"1\" class=\"dataframe\">\n",
       "  <thead>\n",
       "    <tr style=\"text-align: right;\">\n",
       "      <th></th>\n",
       "      <th>title</th>\n",
       "      <th>is_clickbait</th>\n",
       "      <th>text</th>\n",
       "      <th>dataset</th>\n",
       "      <th>sample</th>\n",
       "    </tr>\n",
       "  </thead>\n",
       "  <tbody>\n",
       "    <tr>\n",
       "      <th>0</th>\n",
       "      <td>[seven, essay, read, sex, scene, actually, sex...</td>\n",
       "      <td>1</td>\n",
       "      <td>NaN</td>\n",
       "      <td>clickbait-dataset</td>\n",
       "      <td>train</td>\n",
       "    </tr>\n",
       "    <tr>\n",
       "      <th>1</th>\n",
       "      <td>[horrible, truth, bagel]</td>\n",
       "      <td>1</td>\n",
       "      <td>NaN</td>\n",
       "      <td>clickbait-dataset</td>\n",
       "      <td>train</td>\n",
       "    </tr>\n",
       "    <tr>\n",
       "      <th>2</th>\n",
       "      <td>[entire, demlib, party, infested, rat, much, c...</td>\n",
       "      <td>1</td>\n",
       "      <td>— Susan? (@GaetaSusan) October 27, 2016 WikiLe...</td>\n",
       "      <td>fake-news</td>\n",
       "      <td>train</td>\n",
       "    </tr>\n",
       "    <tr>\n",
       "      <th>3</th>\n",
       "      <td>[beginning, new, life, america, mentor, side, ...</td>\n",
       "      <td>0</td>\n",
       "      <td>OAKLAND, Calif.  —   Pascal Serugendo was only...</td>\n",
       "      <td>fake-news</td>\n",
       "      <td>train</td>\n",
       "    </tr>\n",
       "    <tr>\n",
       "      <th>4</th>\n",
       "      <td>[imam, pleads, guilty, new, york, subway, bomb...</td>\n",
       "      <td>0</td>\n",
       "      <td>NaN</td>\n",
       "      <td>clickbait-dataset</td>\n",
       "      <td>train</td>\n",
       "    </tr>\n",
       "  </tbody>\n",
       "</table>\n",
       "</div>"
      ],
      "text/plain": [
       "                                               title  is_clickbait  \\\n",
       "0  [seven, essay, read, sex, scene, actually, sex...             1   \n",
       "1                           [horrible, truth, bagel]             1   \n",
       "2  [entire, demlib, party, infested, rat, much, c...             1   \n",
       "3  [beginning, new, life, america, mentor, side, ...             0   \n",
       "4  [imam, pleads, guilty, new, york, subway, bomb...             0   \n",
       "\n",
       "                                                text            dataset sample  \n",
       "0                                                NaN  clickbait-dataset  train  \n",
       "1                                                NaN  clickbait-dataset  train  \n",
       "2  — Susan? (@GaetaSusan) October 27, 2016 WikiLe...          fake-news  train  \n",
       "3  OAKLAND, Calif.  —   Pascal Serugendo was only...          fake-news  train  \n",
       "4                                                NaN  clickbait-dataset  train  "
      ]
     },
     "execution_count": 12,
     "metadata": {},
     "output_type": "execute_result"
    }
   ],
   "source": [
    "if not os.path.exists('data/preprocessed_titles_labels.pkl'):\n",
    "    df = preprocess_title(df, verbose=True)\n",
    "    df.to_pickle('data/preprocessed_titles_labels.pkl') \n",
    "\n",
    "else:\n",
    "    df = pd.read_pickle('data/preprocessed_titles_labels.pkl')\n",
    "df.head()"
   ]
  },
  {
   "cell_type": "code",
   "execution_count": 13,
   "metadata": {},
   "outputs": [
    {
     "data": {
      "text/plain": [
       "['seven',\n",
       " 'essay',\n",
       " 'read',\n",
       " 'sex',\n",
       " 'scene',\n",
       " 'actually',\n",
       " 'sexy',\n",
       " 'confident',\n",
       " 'black',\n",
       " 'men',\n",
       " 'debt']"
      ]
     },
     "execution_count": 13,
     "metadata": {},
     "output_type": "execute_result"
    }
   ],
   "source": [
    "df['title'][0]"
   ]
  },
  {
   "cell_type": "code",
   "execution_count": 14,
   "metadata": {},
   "outputs": [
    {
     "data": {
      "text/plain": [
       "sample\n",
       "train    46618\n",
       "test      2590\n",
       "val2      1296\n",
       "val1      1295\n",
       "Name: count, dtype: int64"
      ]
     },
     "execution_count": 14,
     "metadata": {},
     "output_type": "execute_result"
    }
   ],
   "source": [
    "df['sample'].value_counts()"
   ]
  },
  {
   "cell_type": "code",
   "execution_count": 15,
   "metadata": {},
   "outputs": [],
   "source": [
    "df_train = df[df['sample']=='train'].reset_index(drop=True)"
   ]
  },
  {
   "cell_type": "code",
   "execution_count": 16,
   "metadata": {},
   "outputs": [
    {
     "data": {
      "text/plain": [
       "sample\n",
       "train    46618\n",
       "Name: count, dtype: int64"
      ]
     },
     "execution_count": 16,
     "metadata": {},
     "output_type": "execute_result"
    }
   ],
   "source": [
    "df_train['sample'].value_counts()"
   ]
  },
  {
   "cell_type": "code",
   "execution_count": 17,
   "metadata": {},
   "outputs": [
    {
     "name": "stdout",
     "output_type": "stream",
     "text": [
      "Start training\n"
     ]
    },
    {
     "data": {
      "application/vnd.jupyter.widget-view+json": {
       "model_id": "93617dce813b4584bfd4277738dede14",
       "version_major": 2,
       "version_minor": 0
      },
      "text/plain": [
       "  0%|          | 0/5 [00:00<?, ?it/s]"
      ]
     },
     "metadata": {},
     "output_type": "display_data"
    },
    {
     "name": "stdout",
     "output_type": "stream",
     "text": [
      "Current VECTOR_SIZE: 10\n"
     ]
    },
    {
     "data": {
      "application/vnd.jupyter.widget-view+json": {
       "model_id": "810dccb0888145f0946327213ec1bd90",
       "version_major": 2,
       "version_minor": 0
      },
      "text/plain": [
       "WINDOW:   0%|          | 0/6 [00:00<?, ?it/s]"
      ]
     },
     "metadata": {},
     "output_type": "display_data"
    },
    {
     "data": {
      "application/vnd.jupyter.widget-view+json": {
       "model_id": "92f02b4f4e2b4fa8a38eb33d1882ca01",
       "version_major": 2,
       "version_minor": 0
      },
      "text/plain": [
       "SG:   0%|          | 0/2 [00:00<?, ?it/s]"
      ]
     },
     "metadata": {},
     "output_type": "display_data"
    },
    {
     "data": {
      "application/vnd.jupyter.widget-view+json": {
       "model_id": "26d73dd74a4b4169a1cf3f3ff4f231af",
       "version_major": 2,
       "version_minor": 0
      },
      "text/plain": [
       "SG:   0%|          | 0/2 [00:00<?, ?it/s]"
      ]
     },
     "metadata": {},
     "output_type": "display_data"
    },
    {
     "data": {
      "application/vnd.jupyter.widget-view+json": {
       "model_id": "140903eb1ae346f38128d2563b2f5054",
       "version_major": 2,
       "version_minor": 0
      },
      "text/plain": [
       "SG:   0%|          | 0/2 [00:00<?, ?it/s]"
      ]
     },
     "metadata": {},
     "output_type": "display_data"
    },
    {
     "data": {
      "application/vnd.jupyter.widget-view+json": {
       "model_id": "2978c027d205456cbe346bb9e152166c",
       "version_major": 2,
       "version_minor": 0
      },
      "text/plain": [
       "SG:   0%|          | 0/2 [00:00<?, ?it/s]"
      ]
     },
     "metadata": {},
     "output_type": "display_data"
    },
    {
     "data": {
      "application/vnd.jupyter.widget-view+json": {
       "model_id": "8c0002fa5422464589581ccf58ff1bba",
       "version_major": 2,
       "version_minor": 0
      },
      "text/plain": [
       "SG:   0%|          | 0/2 [00:00<?, ?it/s]"
      ]
     },
     "metadata": {},
     "output_type": "display_data"
    },
    {
     "data": {
      "application/vnd.jupyter.widget-view+json": {
       "model_id": "44459139d8b04e38a1da66d293712ad1",
       "version_major": 2,
       "version_minor": 0
      },
      "text/plain": [
       "SG:   0%|          | 0/2 [00:00<?, ?it/s]"
      ]
     },
     "metadata": {},
     "output_type": "display_data"
    },
    {
     "name": "stdout",
     "output_type": "stream",
     "text": [
      "Current VECTOR_SIZE: 20\n"
     ]
    },
    {
     "data": {
      "application/vnd.jupyter.widget-view+json": {
       "model_id": "597470ba8f7d4211af4d9a091e2667b1",
       "version_major": 2,
       "version_minor": 0
      },
      "text/plain": [
       "WINDOW:   0%|          | 0/6 [00:00<?, ?it/s]"
      ]
     },
     "metadata": {},
     "output_type": "display_data"
    },
    {
     "data": {
      "application/vnd.jupyter.widget-view+json": {
       "model_id": "bd4fa6c2143a4186af8fdef89484b099",
       "version_major": 2,
       "version_minor": 0
      },
      "text/plain": [
       "SG:   0%|          | 0/2 [00:00<?, ?it/s]"
      ]
     },
     "metadata": {},
     "output_type": "display_data"
    },
    {
     "data": {
      "application/vnd.jupyter.widget-view+json": {
       "model_id": "e0708e6820af4d8f89d205837f7d16d7",
       "version_major": 2,
       "version_minor": 0
      },
      "text/plain": [
       "SG:   0%|          | 0/2 [00:00<?, ?it/s]"
      ]
     },
     "metadata": {},
     "output_type": "display_data"
    },
    {
     "data": {
      "application/vnd.jupyter.widget-view+json": {
       "model_id": "7f938038024941dd95102fd5e4520ef3",
       "version_major": 2,
       "version_minor": 0
      },
      "text/plain": [
       "SG:   0%|          | 0/2 [00:00<?, ?it/s]"
      ]
     },
     "metadata": {},
     "output_type": "display_data"
    },
    {
     "data": {
      "application/vnd.jupyter.widget-view+json": {
       "model_id": "bc9f5c05e1584e2388038e451c5851fb",
       "version_major": 2,
       "version_minor": 0
      },
      "text/plain": [
       "SG:   0%|          | 0/2 [00:00<?, ?it/s]"
      ]
     },
     "metadata": {},
     "output_type": "display_data"
    },
    {
     "data": {
      "application/vnd.jupyter.widget-view+json": {
       "model_id": "cfbc8df923f44d0982051dd7b1f0bc2f",
       "version_major": 2,
       "version_minor": 0
      },
      "text/plain": [
       "SG:   0%|          | 0/2 [00:00<?, ?it/s]"
      ]
     },
     "metadata": {},
     "output_type": "display_data"
    },
    {
     "data": {
      "application/vnd.jupyter.widget-view+json": {
       "model_id": "a4e9d5d1c85140bc9677897872ffb920",
       "version_major": 2,
       "version_minor": 0
      },
      "text/plain": [
       "SG:   0%|          | 0/2 [00:00<?, ?it/s]"
      ]
     },
     "metadata": {},
     "output_type": "display_data"
    },
    {
     "name": "stdout",
     "output_type": "stream",
     "text": [
      "Current VECTOR_SIZE: 50\n"
     ]
    },
    {
     "data": {
      "application/vnd.jupyter.widget-view+json": {
       "model_id": "71b8d0173ec340fa81437a89e082fc37",
       "version_major": 2,
       "version_minor": 0
      },
      "text/plain": [
       "WINDOW:   0%|          | 0/6 [00:00<?, ?it/s]"
      ]
     },
     "metadata": {},
     "output_type": "display_data"
    },
    {
     "data": {
      "application/vnd.jupyter.widget-view+json": {
       "model_id": "b91966e7f33c46d8804cfab63ec8868b",
       "version_major": 2,
       "version_minor": 0
      },
      "text/plain": [
       "SG:   0%|          | 0/2 [00:00<?, ?it/s]"
      ]
     },
     "metadata": {},
     "output_type": "display_data"
    },
    {
     "data": {
      "application/vnd.jupyter.widget-view+json": {
       "model_id": "4bc7d28cbb514a96a1031ca7eac16f27",
       "version_major": 2,
       "version_minor": 0
      },
      "text/plain": [
       "SG:   0%|          | 0/2 [00:00<?, ?it/s]"
      ]
     },
     "metadata": {},
     "output_type": "display_data"
    },
    {
     "data": {
      "application/vnd.jupyter.widget-view+json": {
       "model_id": "e26246730f8749f6a8a724fc8e971db1",
       "version_major": 2,
       "version_minor": 0
      },
      "text/plain": [
       "SG:   0%|          | 0/2 [00:00<?, ?it/s]"
      ]
     },
     "metadata": {},
     "output_type": "display_data"
    },
    {
     "data": {
      "application/vnd.jupyter.widget-view+json": {
       "model_id": "0a3b179a01bb43078fd826833d9f262f",
       "version_major": 2,
       "version_minor": 0
      },
      "text/plain": [
       "SG:   0%|          | 0/2 [00:00<?, ?it/s]"
      ]
     },
     "metadata": {},
     "output_type": "display_data"
    },
    {
     "data": {
      "application/vnd.jupyter.widget-view+json": {
       "model_id": "4acdacea89f14fc0b6c4624fa9aa81fb",
       "version_major": 2,
       "version_minor": 0
      },
      "text/plain": [
       "SG:   0%|          | 0/2 [00:00<?, ?it/s]"
      ]
     },
     "metadata": {},
     "output_type": "display_data"
    },
    {
     "data": {
      "application/vnd.jupyter.widget-view+json": {
       "model_id": "e586a01d922b4133a14a18411d2489cd",
       "version_major": 2,
       "version_minor": 0
      },
      "text/plain": [
       "SG:   0%|          | 0/2 [00:00<?, ?it/s]"
      ]
     },
     "metadata": {},
     "output_type": "display_data"
    },
    {
     "name": "stdout",
     "output_type": "stream",
     "text": [
      "Current VECTOR_SIZE: 100\n"
     ]
    },
    {
     "data": {
      "application/vnd.jupyter.widget-view+json": {
       "model_id": "0dbce05dc2114abdbb382a1792289529",
       "version_major": 2,
       "version_minor": 0
      },
      "text/plain": [
       "WINDOW:   0%|          | 0/6 [00:00<?, ?it/s]"
      ]
     },
     "metadata": {},
     "output_type": "display_data"
    },
    {
     "data": {
      "application/vnd.jupyter.widget-view+json": {
       "model_id": "4fb23eb65405430b98335493b5352307",
       "version_major": 2,
       "version_minor": 0
      },
      "text/plain": [
       "SG:   0%|          | 0/2 [00:00<?, ?it/s]"
      ]
     },
     "metadata": {},
     "output_type": "display_data"
    },
    {
     "data": {
      "application/vnd.jupyter.widget-view+json": {
       "model_id": "f95504c9974f498497d0c34896b9d053",
       "version_major": 2,
       "version_minor": 0
      },
      "text/plain": [
       "SG:   0%|          | 0/2 [00:00<?, ?it/s]"
      ]
     },
     "metadata": {},
     "output_type": "display_data"
    },
    {
     "data": {
      "application/vnd.jupyter.widget-view+json": {
       "model_id": "67a6cc5f9c80443f96ad61120e78a26a",
       "version_major": 2,
       "version_minor": 0
      },
      "text/plain": [
       "SG:   0%|          | 0/2 [00:00<?, ?it/s]"
      ]
     },
     "metadata": {},
     "output_type": "display_data"
    },
    {
     "data": {
      "application/vnd.jupyter.widget-view+json": {
       "model_id": "8afcfb8fd1f64bfda166fcf5b1630ae3",
       "version_major": 2,
       "version_minor": 0
      },
      "text/plain": [
       "SG:   0%|          | 0/2 [00:00<?, ?it/s]"
      ]
     },
     "metadata": {},
     "output_type": "display_data"
    },
    {
     "data": {
      "application/vnd.jupyter.widget-view+json": {
       "model_id": "f609867e0c0e48afab7045b48813efb8",
       "version_major": 2,
       "version_minor": 0
      },
      "text/plain": [
       "SG:   0%|          | 0/2 [00:00<?, ?it/s]"
      ]
     },
     "metadata": {},
     "output_type": "display_data"
    },
    {
     "data": {
      "application/vnd.jupyter.widget-view+json": {
       "model_id": "a08d0786c0d74af797fa3c7d0d45dd65",
       "version_major": 2,
       "version_minor": 0
      },
      "text/plain": [
       "SG:   0%|          | 0/2 [00:00<?, ?it/s]"
      ]
     },
     "metadata": {},
     "output_type": "display_data"
    },
    {
     "name": "stdout",
     "output_type": "stream",
     "text": [
      "Current VECTOR_SIZE: 250\n"
     ]
    },
    {
     "data": {
      "application/vnd.jupyter.widget-view+json": {
       "model_id": "aee58d88ff0b44b9986a2104d93d2946",
       "version_major": 2,
       "version_minor": 0
      },
      "text/plain": [
       "WINDOW:   0%|          | 0/6 [00:00<?, ?it/s]"
      ]
     },
     "metadata": {},
     "output_type": "display_data"
    },
    {
     "data": {
      "application/vnd.jupyter.widget-view+json": {
       "model_id": "537e0f97e1d34b3ebb8f7eb9c0e11941",
       "version_major": 2,
       "version_minor": 0
      },
      "text/plain": [
       "SG:   0%|          | 0/2 [00:00<?, ?it/s]"
      ]
     },
     "metadata": {},
     "output_type": "display_data"
    },
    {
     "data": {
      "application/vnd.jupyter.widget-view+json": {
       "model_id": "56fdb3c5f637407f8758d607b1c696f6",
       "version_major": 2,
       "version_minor": 0
      },
      "text/plain": [
       "SG:   0%|          | 0/2 [00:00<?, ?it/s]"
      ]
     },
     "metadata": {},
     "output_type": "display_data"
    },
    {
     "data": {
      "application/vnd.jupyter.widget-view+json": {
       "model_id": "cbff22768fa6459383f0456a2bfcf127",
       "version_major": 2,
       "version_minor": 0
      },
      "text/plain": [
       "SG:   0%|          | 0/2 [00:00<?, ?it/s]"
      ]
     },
     "metadata": {},
     "output_type": "display_data"
    },
    {
     "data": {
      "application/vnd.jupyter.widget-view+json": {
       "model_id": "b3bd5c908c8247a3b8da5795aade1536",
       "version_major": 2,
       "version_minor": 0
      },
      "text/plain": [
       "SG:   0%|          | 0/2 [00:00<?, ?it/s]"
      ]
     },
     "metadata": {},
     "output_type": "display_data"
    },
    {
     "data": {
      "application/vnd.jupyter.widget-view+json": {
       "model_id": "d064f0150a8146a096e919d8a07d66d4",
       "version_major": 2,
       "version_minor": 0
      },
      "text/plain": [
       "SG:   0%|          | 0/2 [00:00<?, ?it/s]"
      ]
     },
     "metadata": {},
     "output_type": "display_data"
    },
    {
     "data": {
      "application/vnd.jupyter.widget-view+json": {
       "model_id": "19ddf4030234472286a7a4a026952624",
       "version_major": 2,
       "version_minor": 0
      },
      "text/plain": [
       "SG:   0%|          | 0/2 [00:00<?, ?it/s]"
      ]
     },
     "metadata": {},
     "output_type": "display_data"
    }
   ],
   "source": [
    "from tqdm.notebook import tqdm\n",
    "import time\n",
    "\n",
    "EPOCHS = 500\n",
    "WORKERS = 6\n",
    "MIN_COUNT = 1\n",
    "\n",
    "\n",
    "# train many word2vec models with diferent VECTOR_SIZE and WINDOW\n",
    "\n",
    "VECTOR_SIZEs = [\n",
    "    10,\n",
    "    20,\n",
    "    50,\n",
    "    100, \n",
    "    250, \n",
    "    # 500, \n",
    "    # 1000, \n",
    "   \n",
    "]\n",
    "\n",
    "WINDOWs = [\n",
    "    3, \n",
    "    4, \n",
    "    5, \n",
    "    6, \n",
    "    7, \n",
    "    8\n",
    "]\n",
    "SGs = [0, 1]\n",
    "\n",
    "\n",
    "#################################################\n",
    "# --uncomment for sample model training--\n",
    "# EPOCHS = 100\n",
    "# VECTOR_SIZEs = [10]\n",
    "# WINDOWs = [5]\n",
    "# SGs = [1]\n",
    "#################################################\n",
    "\n",
    "\n",
    "print('Start training')\n",
    "# sleep 200 ms\n",
    "time.sleep(0.2)\n",
    "\n",
    "for VECTOR_SIZE in tqdm(VECTOR_SIZEs):\n",
    "    print(f'Current VECTOR_SIZE: {VECTOR_SIZE}')\n",
    "    for WINDOW in tqdm(WINDOWs, desc=f'WINDOW'):\n",
    "        for sg in tqdm(SGs, desc=f'SG'):\n",
    "            # check if model already trained\n",
    "            if os.path.exists(f'word2vec_models/word2vec_vs{VECTOR_SIZE}_win{WINDOW}_sg{sg}.model'):\n",
    "                print(f'word2vec_vs{VECTOR_SIZE}_win{WINDOW}_sg{sg}.model already exists')\n",
    "            else:\n",
    "                model = Word2Vec(df_train['title'], vector_size=VECTOR_SIZE, window=WINDOW, min_count=MIN_COUNT, workers=WORKERS, sg=sg)\n",
    "                model.train(df_train['title'], total_examples=len(df_train['title']), epochs=EPOCHS)\n",
    "                model.save(f'word2vec_models/word2vec_vs{VECTOR_SIZE}_win{WINDOW}_sg{sg}.model')"
   ]
  },
  {
   "cell_type": "code",
   "execution_count": null,
   "metadata": {},
   "outputs": [],
   "source": [
    "model.wv.most_similar('trump')\n",
    "\n",
    "# save vocabulary\n",
    "vocab = list(model.wv.index_to_key)\n",
    "\n",
    "with open('data/vocab.txt', 'w') as f:\n",
    "    for word in vocab:\n",
    "        f.write(word+'\\n')"
   ]
  }
 ],
 "metadata": {
  "kernelspec": {
   "display_name": "ag",
   "language": "python",
   "name": "python3"
  },
  "language_info": {
   "codemirror_mode": {
    "name": "ipython",
    "version": 3
   },
   "file_extension": ".py",
   "mimetype": "text/x-python",
   "name": "python",
   "nbconvert_exporter": "python",
   "pygments_lexer": "ipython3",
   "version": "3.10.13"
  }
 },
 "nbformat": 4,
 "nbformat_minor": 2
}
