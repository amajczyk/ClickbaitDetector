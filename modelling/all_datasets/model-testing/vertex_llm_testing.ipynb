{
 "cells": [
  {
   "cell_type": "code",
   "execution_count": 1,
   "id": "initial_id",
   "metadata": {
    "ExecuteTime": {
     "end_time": "2023-12-22T12:14:20.050351400Z",
     "start_time": "2023-12-22T12:14:17.336782100Z"
    },
    "collapsed": true
   },
   "outputs": [],
   "source": [
    "from djangoapp.news.vertex.cloud.connections_based_on_docs import VertexAI\n"
   ]
  },
  {
   "cell_type": "code",
   "execution_count": 2,
   "id": "604ca64b37cd79dc",
   "metadata": {
    "ExecuteTime": {
     "end_time": "2023-12-22T12:14:20.119315700Z",
     "start_time": "2023-12-22T12:14:20.050351400Z"
    },
    "collapsed": false
   },
   "outputs": [
    {
     "data": {
      "text/html": [
       "<div>\n",
       "<style scoped>\n",
       "    .dataframe tbody tr th:only-of-type {\n",
       "        vertical-align: middle;\n",
       "    }\n",
       "\n",
       "    .dataframe tbody tr th {\n",
       "        vertical-align: top;\n",
       "    }\n",
       "\n",
       "    .dataframe thead th {\n",
       "        text-align: right;\n",
       "    }\n",
       "</style>\n",
       "<table border=\"1\" class=\"dataframe\">\n",
       "  <thead>\n",
       "    <tr style=\"text-align: right;\">\n",
       "      <th></th>\n",
       "      <th>title</th>\n",
       "      <th>is_clickbait</th>\n",
       "    </tr>\n",
       "  </thead>\n",
       "  <tbody>\n",
       "    <tr>\n",
       "      <th>0</th>\n",
       "      <td>House Dem Aide: We Didn’t Even See Comey’s Let...</td>\n",
       "      <td>1</td>\n",
       "    </tr>\n",
       "    <tr>\n",
       "      <th>1</th>\n",
       "      <td>FLYNN: Hillary Clinton, Big Woman on Campus - ...</td>\n",
       "      <td>0</td>\n",
       "    </tr>\n",
       "    <tr>\n",
       "      <th>2</th>\n",
       "      <td>Why the Truth Might Get You Fired</td>\n",
       "      <td>1</td>\n",
       "    </tr>\n",
       "    <tr>\n",
       "      <th>3</th>\n",
       "      <td>15 Civilians Killed In Single US Airstrike Hav...</td>\n",
       "      <td>1</td>\n",
       "    </tr>\n",
       "    <tr>\n",
       "      <th>4</th>\n",
       "      <td>Iranian woman jailed for fictional unpublished...</td>\n",
       "      <td>1</td>\n",
       "    </tr>\n",
       "  </tbody>\n",
       "</table>\n",
       "</div>"
      ],
      "text/plain": [
       "                                               title  is_clickbait\n",
       "0  House Dem Aide: We Didn’t Even See Comey’s Let...             1\n",
       "1  FLYNN: Hillary Clinton, Big Woman on Campus - ...             0\n",
       "2                  Why the Truth Might Get You Fired             1\n",
       "3  15 Civilians Killed In Single US Airstrike Hav...             1\n",
       "4  Iranian woman jailed for fictional unpublished...             1"
      ]
     },
     "execution_count": 2,
     "metadata": {},
     "output_type": "execute_result"
    }
   ],
   "source": [
    "llm = VertexAI()\n",
    "\n",
    "\n",
    "import pickle\n",
    "import pandas as pd\n",
    "# import data from pickle\n",
    "df = pd.read_csv('../data/merged_titles_labels.csv')\n",
    "df.head()\n"
   ]
  },
  {
   "cell_type": "code",
   "execution_count": 3,
   "id": "ec312c3968dc9519",
   "metadata": {
    "ExecuteTime": {
     "end_time": "2023-12-22T12:14:20.131842400Z",
     "start_time": "2023-12-22T12:14:20.119315700Z"
    },
    "collapsed": false
   },
   "outputs": [
    {
     "data": {
      "text/plain": [
       "is_clickbait\n",
       "0    500\n",
       "1    500\n",
       "Name: count, dtype: int64"
      ]
     },
     "execution_count": 3,
     "metadata": {},
     "output_type": "execute_result"
    }
   ],
   "source": [
    "# select 2500 random samples - 1250 from each class\n",
    "import random\n",
    "n_samples = 1000\n",
    "random.seed(42)\n",
    "df = df.sample(frac=1).reset_index(drop=True)\n",
    "df = df.groupby('is_clickbait').head(n_samples//2)\n",
    "df = df.sample(frac=1).reset_index(drop=True)\n",
    "df.is_clickbait.value_counts()"
   ]
  },
  {
   "cell_type": "code",
   "execution_count": null,
   "id": "4b64a7827afe62ac",
   "metadata": {
    "ExecuteTime": {
     "end_time": "2023-12-22T12:14:20.142169300Z",
     "start_time": "2023-12-22T12:14:20.131842400Z"
    },
    "collapsed": false
   },
   "outputs": [],
   "source": [
    "df['llm_pred'] = None\n",
    "df"
   ]
  },
  {
   "cell_type": "code",
   "execution_count": null,
   "id": "20777d700b692005",
   "metadata": {
    "ExecuteTime": {
     "end_time": "2023-12-22T13:47:14.479276800Z",
     "start_time": "2023-12-22T12:59:41.227178Z"
    },
    "collapsed": false
   },
   "outputs": [],
   "source": [
    "from tqdm.auto import tqdm\n",
    "import numpy as np\n",
    "preds = np.array([])\n",
    "for i in tqdm(range(0, n_samples)):\n",
    "    try:\n",
    "        print(df.iloc[i]['title'])\n",
    "        pred = llm.run(title=df.iloc[i]['title'])\n",
    "        preds = np.append(preds, pred)\n",
    "    except:\n",
    "        print(\"error when running LLM\")\n",
    "        preds = np.append(preds, np.nan)\n",
    "        \n",
    "    print(\"\")\n",
    "preds    \n",
    "df['llm_pred'] = preds"
   ]
  },
  {
   "cell_type": "code",
   "execution_count": null,
   "id": "83295692a8dec57a",
   "metadata": {
    "ExecuteTime": {
     "end_time": "2023-12-22T13:47:14.498392900Z",
     "start_time": "2023-12-22T13:47:14.480280500Z"
    },
    "collapsed": false
   },
   "outputs": [],
   "source": [
    "df"
   ]
  },
  {
   "cell_type": "code",
   "execution_count": 9,
   "id": "976b21c97a1788cc",
   "metadata": {
    "ExecuteTime": {
     "end_time": "2023-12-22T13:47:41.680216600Z",
     "start_time": "2023-12-22T13:47:41.663945100Z"
    },
    "collapsed": false
   },
   "outputs": [
    {
     "name": "stdout",
     "output_type": "stream",
     "text": [
      "ROC AUC: 0.6614309603440038\n",
      "F1 Score: 0.7274247491638797\n"
     ]
    }
   ],
   "source": [
    "from sklearn.metrics import roc_auc_score, f1_score\n",
    "\n",
    "df.dropna(inplace=True)\n",
    "\n",
    "print(f\"ROC AUC: {roc_auc_score(df['is_clickbait'], df['llm_pred'])}\")\n",
    "print(f\"F1 Score: {f1_score(df['is_clickbait'], df['llm_pred'] > 0.5)}\")"
   ]
  },
  {
   "cell_type": "code",
   "execution_count": null,
   "id": "19d6a5b223fef40b",
   "metadata": {
    "ExecuteTime": {
     "start_time": "2023-12-22T13:47:16.247551800Z"
    },
    "collapsed": false
   },
   "outputs": [],
   "source": [
    "# plot ROC curve\n",
    "from sklearn.metrics import roc_curve\n",
    "import matplotlib.pyplot as plt\n",
    "\n",
    "fpr, tpr, thresholds = roc_curve(df['is_clickbait'], df['llm_pred'])\n",
    "# add random line\n",
    "plt.plot([0, 1], [0, 1], linestyle='--')\n",
    "plt.plot(fpr, tpr)\n",
    "plt.xlabel('False Positive Rate')\n",
    "plt.ylabel('True Positive Rate')\n",
    "# make plot have white background\n",
    "plt.gca().set_facecolor('w')\n",
    "\n",
    "plt.title('ROC Curve')\n"
   ]
  }
 ],
 "metadata": {
  "kernelspec": {
   "display_name": "Python 3",
   "language": "python",
   "name": "python3"
  },
  "language_info": {
   "codemirror_mode": {
    "name": "ipython",
    "version": 2
   },
   "file_extension": ".py",
   "mimetype": "text/x-python",
   "name": "python",
   "nbconvert_exporter": "python",
   "pygments_lexer": "ipython2",
   "version": "2.7.6"
  }
 },
 "nbformat": 4,
 "nbformat_minor": 5
}
