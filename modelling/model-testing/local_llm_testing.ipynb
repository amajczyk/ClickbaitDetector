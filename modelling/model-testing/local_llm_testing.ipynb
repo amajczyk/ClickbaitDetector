{
 "cells": [
  {
   "cell_type": "code",
   "execution_count": 1,
   "id": "initial_id",
   "metadata": {
    "ExecuteTime": {
     "end_time": "2023-12-22T11:27:02.069084500Z",
     "start_time": "2023-12-22T11:26:59.819300200Z"
    },
    "collapsed": true
   },
   "outputs": [],
   "source": [
    "from djangoapp.news.scripts.llm import *"
   ]
  },
  {
   "cell_type": "code",
   "execution_count": 2,
   "id": "909fc8cf82641fe7",
   "metadata": {
    "ExecuteTime": {
     "end_time": "2023-12-22T11:27:04.516087600Z",
     "start_time": "2023-12-22T11:27:02.069084500Z"
    },
    "collapsed": false
   },
   "outputs": [],
   "source": [
    "llm = LocalLLM()"
   ]
  },
  {
   "cell_type": "code",
   "execution_count": 4,
   "id": "caef7f2f7eb388df",
   "metadata": {
    "ExecuteTime": {
     "end_time": "2023-12-22T11:34:17.675820700Z",
     "start_time": "2023-12-22T11:34:17.602208700Z"
    },
    "collapsed": false
   },
   "outputs": [
    {
     "data": {
      "text/html": [
       "<div>\n",
       "<style scoped>\n",
       "    .dataframe tbody tr th:only-of-type {\n",
       "        vertical-align: middle;\n",
       "    }\n",
       "\n",
       "    .dataframe tbody tr th {\n",
       "        vertical-align: top;\n",
       "    }\n",
       "\n",
       "    .dataframe thead th {\n",
       "        text-align: right;\n",
       "    }\n",
       "</style>\n",
       "<table border=\"1\" class=\"dataframe\">\n",
       "  <thead>\n",
       "    <tr style=\"text-align: right;\">\n",
       "      <th></th>\n",
       "      <th>title</th>\n",
       "      <th>is_clickbait</th>\n",
       "    </tr>\n",
       "  </thead>\n",
       "  <tbody>\n",
       "    <tr>\n",
       "      <th>0</th>\n",
       "      <td>House Dem Aide: We Didn’t Even See Comey’s Let...</td>\n",
       "      <td>1</td>\n",
       "    </tr>\n",
       "    <tr>\n",
       "      <th>1</th>\n",
       "      <td>FLYNN: Hillary Clinton, Big Woman on Campus - ...</td>\n",
       "      <td>0</td>\n",
       "    </tr>\n",
       "    <tr>\n",
       "      <th>2</th>\n",
       "      <td>Why the Truth Might Get You Fired</td>\n",
       "      <td>1</td>\n",
       "    </tr>\n",
       "    <tr>\n",
       "      <th>3</th>\n",
       "      <td>15 Civilians Killed In Single US Airstrike Hav...</td>\n",
       "      <td>1</td>\n",
       "    </tr>\n",
       "    <tr>\n",
       "      <th>4</th>\n",
       "      <td>Iranian woman jailed for fictional unpublished...</td>\n",
       "      <td>1</td>\n",
       "    </tr>\n",
       "  </tbody>\n",
       "</table>\n",
       "</div>"
      ],
      "text/plain": [
       "                                               title  is_clickbait\n",
       "0  House Dem Aide: We Didn’t Even See Comey’s Let...             1\n",
       "1  FLYNN: Hillary Clinton, Big Woman on Campus - ...             0\n",
       "2                  Why the Truth Might Get You Fired             1\n",
       "3  15 Civilians Killed In Single US Airstrike Hav...             1\n",
       "4  Iranian woman jailed for fictional unpublished...             1"
      ]
     },
     "execution_count": 4,
     "metadata": {},
     "output_type": "execute_result"
    }
   ],
   "source": [
    "import pickle\n",
    "import pandas as pd\n",
    "# import data from pickle\n",
    "df = pd.read_csv('../data/merged_titles_labels.csv')\n",
    "df.head()\n"
   ]
  },
  {
   "cell_type": "code",
   "execution_count": 24,
   "id": "5a3acc8f7c302213",
   "metadata": {
    "ExecuteTime": {
     "end_time": "2023-12-22T12:01:09.587730500Z",
     "start_time": "2023-12-22T12:01:09.573619Z"
    },
    "collapsed": false
   },
   "outputs": [
    {
     "data": {
      "text/plain": [
       "is_clickbait\n",
       "0    1250\n",
       "1    1250\n",
       "Name: count, dtype: int64"
      ]
     },
     "execution_count": 24,
     "metadata": {},
     "output_type": "execute_result"
    }
   ],
   "source": [
    "# select 2500 random samples - 1250 from each class\n",
    "import random\n",
    "random.seed(42)\n",
    "df = df.sample(frac=1).reset_index(drop=True)\n",
    "df = df.groupby('is_clickbait').head(1250)\n",
    "df = df.sample(frac=1).reset_index(drop=True)\n",
    "df.is_clickbait.value_counts()"
   ]
  },
  {
   "cell_type": "code",
   "execution_count": null,
   "id": "bd6fc6bbd3ee9c31",
   "metadata": {
    "ExecuteTime": {
     "end_time": "2023-12-22T11:42:41.369949300Z",
     "start_time": "2023-12-22T11:42:41.354124200Z"
    },
    "collapsed": false
   },
   "outputs": [],
   "source": [
    "df['llm_pred'] = None\n",
    "df"
   ]
  },
  {
   "cell_type": "code",
   "execution_count": 18,
   "id": "39e2ac77fa99733",
   "metadata": {
    "ExecuteTime": {
     "end_time": "2023-12-22T11:47:09.619361800Z",
     "start_time": "2023-12-22T11:44:13.559291200Z"
    },
    "collapsed": false
   },
   "outputs": [
    {
     "data": {
      "application/vnd.jupyter.widget-view+json": {
       "model_id": "a3fb1cbce0db4e3ba6d3d425572af505",
       "version_major": 2,
       "version_minor": 0
      },
      "text/plain": [
       "  0%|          | 0/2500 [00:00<?, ?it/s]"
      ]
     },
     "metadata": {},
     "output_type": "display_data"
    }
   ],
   "source": [
    "from tqdm.auto import tqdm\n",
    "import numpy as np\n",
    "preds = np.array([])\n",
    "for i in tqdm(range(0, 2500)):\n",
    "    preds = np.append(preds, llm.predict(df.iloc[i]['title']))\n",
    "    \n",
    "df['llm_pred'] = preds"
   ]
  },
  {
   "cell_type": "code",
   "execution_count": null,
   "id": "de2416f67617756d",
   "metadata": {
    "ExecuteTime": {
     "end_time": "2023-12-22T11:47:09.628468500Z",
     "start_time": "2023-12-22T11:47:09.621498600Z"
    },
    "collapsed": false
   },
   "outputs": [],
   "source": [
    "df"
   ]
  },
  {
   "cell_type": "code",
   "execution_count": 20,
   "id": "af3ed0d38b5684a7",
   "metadata": {
    "ExecuteTime": {
     "end_time": "2023-12-22T11:48:24.134358900Z",
     "start_time": "2023-12-22T11:48:24.118566800Z"
    },
    "collapsed": false
   },
   "outputs": [
    {
     "name": "stdout",
     "output_type": "stream",
     "text": [
      "ROC AUC: 0.9341875199999999\n",
      "F1 Score: 0.8160442600276625\n"
     ]
    }
   ],
   "source": [
    "from sklearn.metrics import roc_auc_score, f1_score\n",
    "\n",
    "print(f\"ROC AUC: {roc_auc_score(df['is_clickbait'], df['llm_pred'])}\")\n",
    "print(f\"F1 Score: {f1_score(df['is_clickbait'], df['llm_pred'] > 0.5)}\")"
   ]
  },
  {
   "cell_type": "code",
   "execution_count": 23,
   "id": "c349d896fc32b7ae",
   "metadata": {
    "ExecuteTime": {
     "end_time": "2023-12-22T11:51:06.084669200Z",
     "start_time": "2023-12-22T11:51:05.978429100Z"
    },
    "collapsed": false
   },
   "outputs": [
    {
     "data": {
      "text/plain": [
       "Text(0.5, 1.0, 'ROC Curve')"
      ]
     },
     "execution_count": 23,
     "metadata": {},
     "output_type": "execute_result"
    },
    {
     "data": {
      "image/png": "[encoded data removed]",
      "text/plain": [
       "<Figure size 640x480 with 1 Axes>"
      ]
     },
     "metadata": {},
     "output_type": "display_data"
    }
   ],
   "source": [
    "# plot ROC curve\n",
    "from sklearn.metrics import roc_curve\n",
    "import matplotlib.pyplot as plt\n",
    "\n",
    "fpr, tpr, thresholds = roc_curve(df['is_clickbait'], df['llm_pred'])\n",
    "# add random line\n",
    "plt.plot([0, 1], [0, 1], linestyle='--')\n",
    "plt.plot(fpr, tpr)\n",
    "plt.xlabel('False Positive Rate')\n",
    "plt.ylabel('True Positive Rate')\n",
    "# make plot have white background\n",
    "plt.gca().set_facecolor('w')\n",
    "\n",
    "plt.title('ROC Curve')\n"
   ]
  }
 ],
 "metadata": {
  "kernelspec": {
   "display_name": "Python 3",
   "language": "python",
   "name": "python3"
  },
  "language_info": {
   "codemirror_mode": {
    "name": "ipython",
    "version": 2
   },
   "file_extension": ".py",
   "mimetype": "text/x-python",
   "name": "python",
   "nbconvert_exporter": "python",
   "pygments_lexer": "ipython2",
   "version": "2.7.6"
  }
 },
 "nbformat": 4,
 "nbformat_minor": 5
}
