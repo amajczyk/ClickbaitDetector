{
 "cells": [
  {
   "cell_type": "code",
   "execution_count": null,
   "metadata": {},
   "outputs": [],
   "source": [
    "import json\n",
    "\n",
    "# import results\n",
    "with open('results/word2vec_results_100_250_500.json') as f:\n",
    "    small = json.load(f)\n",
    "\n",
    "with open('results/word2vec_results_not_100_250_500.json') as f:\n",
    "    large = json.load(f)\n",
    "\n",
    "# get models from results small\n",
    "models_small = []\n",
    "for model in small:\n",
    "    models_small.append(model)\n",
    "models_small = [model + '.model' for model in models_small]\n",
    "\n",
    "# get models from results large\n",
    "models_large = []\n",
    "for model in large:\n",
    "    models_large.append(model)\n",
    "models_large = [model + '.model' for model in models_large]\n",
    "\n",
    "both = models_small + models_large\n",
    "both\n"
   ]
  },
  {
   "cell_type": "code",
   "execution_count": null,
   "metadata": {},
   "outputs": [],
   "source": [
    "# get all models from word2vec_models folder\n",
    "import os\n",
    "all_models = os.listdir('word2vec_models')\n",
    "all_models = [model for model in all_models if model.endswith('.model')]\n",
    "all_models"
   ]
  },
  {
   "cell_type": "code",
   "execution_count": null,
   "metadata": {},
   "outputs": [],
   "source": [
    "not_in_results = [model for model in all_models if model not in both]\n",
    "print(len(not_in_results))\n",
    "not_in_results = sorted(not_in_results)\n",
    "not_in_results"
   ]
  },
  {
   "cell_type": "code",
   "execution_count": null,
   "metadata": {},
   "outputs": [],
   "source": [
    "# get first 25 models\n",
    "top_25 = not_in_results[:25]\n",
    "\n",
    "# get other models\n",
    "other = not_in_results[25:]\n",
    "\n",
    "\n"
   ]
  },
  {
   "cell_type": "code",
   "execution_count": null,
   "metadata": {},
   "outputs": [],
   "source": [
    "# save lists to json\n",
    "save = {'top_25': top_25, 'other': other}\n",
    "with open('results/not_trained_yet.json', 'w') as f:\n",
    "    json.dump(save, f)"
   ]
  }
 ],
 "metadata": {
  "kernelspec": {
   "display_name": "ag",
   "language": "python",
   "name": "python3"
  },
  "language_info": {
   "codemirror_mode": {
    "name": "ipython",
    "version": 3
   },
   "file_extension": ".py",
   "mimetype": "text/x-python",
   "name": "python",
   "nbconvert_exporter": "python",
   "pygments_lexer": "ipython3",
   "version": "3.10.13"
  }
 },
 "nbformat": 4,
 "nbformat_minor": 2
}
