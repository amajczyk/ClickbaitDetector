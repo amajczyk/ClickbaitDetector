{
 "cells": [
  {
   "cell_type": "code",
   "execution_count": 5,
   "metadata": {},
   "outputs": [
    {
     "name": "stdout",
     "output_type": "stream",
     "text": [
      "Loading results from:\n",
      " - word2vec_results_not_100_250_500.json\n",
      " - word2vec_results_others.json\n",
      " - word2vec_results_100_250_500.json\n",
      " - word2vec_results_top25.json\n",
      "\n",
      "Number of assesed word2vec models: 96\n"
     ]
    }
   ],
   "source": [
    "import json\n",
    "import os\n",
    "\n",
    "# result path\n",
    "result_path = 'results/'\n",
    "name_start = 'word2vec_results_'\n",
    "name_end = '.json'\n",
    "\n",
    "final_results = dict()\n",
    "\n",
    "print('Loading results from:')\n",
    "\n",
    "for file in os.listdir(result_path):\n",
    "    if file.startswith(name_start) and file.endswith(name_end):\n",
    "        print(f' - {file}')\n",
    "        with open(result_path + file) as f:\n",
    "            data = json.load(f)\n",
    "            for key, value in data.items():\n",
    "                final_results[key] = value\n",
    "\n",
    "print('')\n",
    "print(f\"Number of assesed word2vec models: {len(final_results)}\")\n",
    "\n",
    "\n",
    "with open(result_path + 'final_word2vec_results.json', 'w') as fp:\n",
    "    json.dump(final_results, fp)\n",
    "\n"
   ]
  },
  {
   "cell_type": "code",
   "execution_count": 8,
   "metadata": {},
   "outputs": [],
   "source": [
    "import copy as cp\n",
    "import numpy as np\n",
    "word2vec_results = cp.deepcopy(final_results)"
   ]
  },
  {
   "cell_type": "code",
   "execution_count": 9,
   "metadata": {},
   "outputs": [],
   "source": [
    "# for each word2vec model calculate mean auc\n",
    "word2vec_mean_auc = {}\n",
    "\n",
    "for model in word2vec_results:\n",
    "    # get results for each model\n",
    "    results = word2vec_results[model]\n",
    "    # get auc for each model\n",
    "    aucs = [results[model]['auc'] for model in results]\n",
    "    # calculate mean auc\n",
    "    mean_auc = np.mean(aucs)\n",
    "    # add to dict\n",
    "    word2vec_mean_auc[model] = mean_auc"
   ]
  },
  {
   "cell_type": "code",
   "execution_count": 10,
   "metadata": {},
   "outputs": [
    {
     "data": {
      "text/plain": [
       "{'word2vec_vs100_win7_sg0': 0.7890426879799324,\n",
       " 'word2vec_vs100_win5_sg0': 0.787785489909264,\n",
       " 'word2vec_vs100_win6_sg0': 0.7871360008180823,\n",
       " 'word2vec_vs100_win4_sg0': 0.7870277434985007,\n",
       " 'word2vec_vs100_win8_sg0': 0.7862109972027802,\n",
       " 'word2vec_vs3000_win8_sg0': 0.7850329406013923,\n",
       " 'word2vec_vs100_win6_sg1': 0.7849038763894657,\n",
       " 'word2vec_vs2500_win8_sg0': 0.7848708740314725,\n",
       " 'word2vec_vs3000_win6_sg0': 0.7848609972874838,\n",
       " 'word2vec_vs2500_win7_sg0': 0.7842587764831479,\n",
       " 'word2vec_vs1500_win8_sg0': 0.7841778288257945,\n",
       " 'word2vec_vs2000_win7_sg0': 0.7839632595965677,\n",
       " 'word2vec_vs2500_win5_sg0': 0.7837082987781279,\n",
       " 'word2vec_vs100_win4_sg1': 0.7836175563082366,\n",
       " 'word2vec_vs2500_win6_sg0': 0.7835401970020174,\n",
       " 'word2vec_vs2000_win8_sg0': 0.7835381290029174,\n",
       " 'word2vec_vs3000_win5_sg0': 0.7835348800820793,\n",
       " 'word2vec_vs2500_win4_sg0': 0.7835087963114831,\n",
       " 'word2vec_vs2000_win6_sg0': 0.7834710659543558,\n",
       " 'word2vec_vs100_win8_sg1': 0.7834619912761486,\n",
       " 'word2vec_vs250_win8_sg0': 0.7834463744023971,\n",
       " 'word2vec_vs100_win3_sg0': 0.783317350848183,\n",
       " 'word2vec_vs3000_win7_sg0': 0.7831200063204262,\n",
       " 'word2vec_vs3000_win3_sg0': 0.782755694736351,\n",
       " 'word2vec_vs1500_win6_sg0': 0.7827500796598551,\n",
       " 'word2vec_vs2500_win3_sg0': 0.7826682473892436,\n",
       " 'word2vec_vs2000_win5_sg0': 0.7825913069806674,\n",
       " 'word2vec_vs1500_win7_sg0': 0.7820901242878546,\n",
       " 'word2vec_vs250_win7_sg0': 0.7820323847919826,\n",
       " 'word2vec_vs250_win6_sg0': 0.7819898839299314,\n",
       " 'word2vec_vs250_win4_sg0': 0.7818693911030146,\n",
       " 'word2vec_vs1500_win5_sg0': 0.7817999237051866,\n",
       " 'word2vec_vs250_win5_sg0': 0.7816367156391892,\n",
       " 'word2vec_vs100_win5_sg1': 0.7816341431148398,\n",
       " 'word2vec_vs500_win5_sg0': 0.7815212434237305,\n",
       " 'word2vec_vs1500_win3_sg0': 0.7813796917498571,\n",
       " 'word2vec_vs1000_win8_sg0': 0.7812998825084514,\n",
       " 'word2vec_vs2000_win4_sg0': 0.7812851527120619,\n",
       " 'word2vec_vs2000_win3_sg0': 0.781231045921192,\n",
       " 'word2vec_vs3000_win4_sg0': 0.7808851362641691,\n",
       " 'word2vec_vs100_win7_sg1': 0.7808096712377333,\n",
       " 'word2vec_vs500_win8_sg0': 0.7807963761657712,\n",
       " 'word2vec_vs250_win3_sg0': 0.7806538511709036,\n",
       " 'word2vec_vs1500_win4_sg0': 0.7805929921196421,\n",
       " 'word2vec_vs500_win7_sg0': 0.7805501967971887,\n",
       " 'word2vec_vs100_win3_sg1': 0.7804832169121299,\n",
       " 'word2vec_vs500_win6_sg0': 0.7803977950583323,\n",
       " 'word2vec_vs500_win4_sg0': 0.7802323933239419,\n",
       " 'word2vec_vs1000_win4_sg0': 0.7800962854713515,\n",
       " 'word2vec_vs1000_win6_sg0': 0.7795527707075967,\n",
       " 'word2vec_vs1000_win7_sg0': 0.7790493111828883,\n",
       " 'word2vec_vs1000_win3_sg0': 0.7785144903933063,\n",
       " 'word2vec_vs1000_win5_sg0': 0.7782089279716283,\n",
       " 'word2vec_vs500_win3_sg0': 0.7781308054092622,\n",
       " 'word2vec_vs2000_win3_sg1': 0.7768344810666734,\n",
       " 'word2vec_vs3000_win3_sg1': 0.7766806027136252,\n",
       " 'word2vec_vs2000_win4_sg1': 0.7761185166156828,\n",
       " 'word2vec_vs2500_win6_sg1': 0.7760352465405138,\n",
       " 'word2vec_vs2500_win5_sg1': 0.7758985035651731,\n",
       " 'word2vec_vs3000_win8_sg1': 0.7758382346667676,\n",
       " 'word2vec_vs3000_win5_sg1': 0.7756475543076924,\n",
       " 'word2vec_vs2500_win3_sg1': 0.7753440592690883,\n",
       " 'word2vec_vs1500_win8_sg1': 0.7751719896698609,\n",
       " 'word2vec_vs3000_win4_sg1': 0.7750562648837644,\n",
       " 'word2vec_vs3000_win7_sg1': 0.7747597334024514,\n",
       " 'word2vec_vs1500_win4_sg1': 0.7746815276765828,\n",
       " 'word2vec_vs3000_win6_sg1': 0.7745392546363268,\n",
       " 'word2vec_vs1000_win6_sg1': 0.774515620800917,\n",
       " 'word2vec_vs1500_win5_sg1': 0.7743245591217811,\n",
       " 'word2vec_vs2500_win7_sg1': 0.7743228718267156,\n",
       " 'word2vec_vs2000_win6_sg1': 0.7741485648212532,\n",
       " 'word2vec_vs2000_win8_sg1': 0.7738716161887307,\n",
       " 'word2vec_vs2000_win5_sg1': 0.7738056508984046,\n",
       " 'word2vec_vs1500_win6_sg1': 0.7735744933225097,\n",
       " 'word2vec_vs1500_win3_sg1': 0.7733419053343689,\n",
       " 'word2vec_vs2500_win8_sg1': 0.7731859571341426,\n",
       " 'word2vec_vs2000_win7_sg1': 0.7727487148543722,\n",
       " 'word2vec_vs500_win8_sg1': 0.7726884459559668,\n",
       " 'word2vec_vs250_win7_sg1': 0.7726853670582898,\n",
       " 'word2vec_vs250_win4_sg1': 0.7726767580956975,\n",
       " 'word2vec_vs500_win4_sg1': 0.7726455674700107,\n",
       " 'word2vec_vs1000_win4_sg1': 0.772638815209619,\n",
       " 'word2vec_vs2500_win4_sg1': 0.7723886230480255,\n",
       " 'word2vec_vs1000_win7_sg1': 0.7721329476394886,\n",
       " 'word2vec_vs250_win5_sg1': 0.7719334464048957,\n",
       " 'word2vec_vs250_win6_sg1': 0.7715705695452479,\n",
       " 'word2vec_vs250_win3_sg1': 0.7714574604053174,\n",
       " 'word2vec_vs1000_win8_sg1': 0.7712736573599007,\n",
       " 'word2vec_vs500_win7_sg1': 0.7711479295444966,\n",
       " 'word2vec_vs250_win8_sg1': 0.7711215525455501,\n",
       " 'word2vec_vs1000_win3_sg1': 0.7710896054400019,\n",
       " 'word2vec_vs500_win6_sg1': 0.7709734130902125,\n",
       " 'word2vec_vs1500_win7_sg1': 0.7703609785756955,\n",
       " 'word2vec_vs500_win3_sg1': 0.770065080985081,\n",
       " 'word2vec_vs1000_win5_sg1': 0.7698781140304067,\n",
       " 'word2vec_vs500_win5_sg1': 0.7686667088644439}"
      ]
     },
     "execution_count": 10,
     "metadata": {},
     "output_type": "execute_result"
    }
   ],
   "source": [
    "# sort dict by mean auc in descending order\n",
    "word2vec_mean_auc = dict(sorted(word2vec_mean_auc.items(), key=lambda item: item[1], reverse=True))\n",
    "word2vec_mean_auc"
   ]
  },
  {
   "cell_type": "code",
   "execution_count": 11,
   "metadata": {},
   "outputs": [],
   "source": [
    "# for each word2vec model calculate mean auc\n",
    "word2vec_mean_f1 = {}\n",
    "\n",
    "for model in word2vec_results:\n",
    "    # get results for each model\n",
    "    results = word2vec_results[model]\n",
    "    # get auc for each model\n",
    "    f1s = [results[model]['f1'] for model in results]\n",
    "    # calculate mean auc\n",
    "    mean_f1 = np.mean(f1s)\n",
    "    # add to dict\n",
    "    word2vec_mean_f1[model] = mean_f1"
   ]
  },
  {
   "cell_type": "code",
   "execution_count": 12,
   "metadata": {},
   "outputs": [
    {
     "data": {
      "text/plain": [
       "{'word2vec_vs100_win7_sg0': 0.7449460781542674,\n",
       " 'word2vec_vs100_win5_sg0': 0.7433047138088177,\n",
       " 'word2vec_vs100_win6_sg0': 0.742502174744267,\n",
       " 'word2vec_vs100_win4_sg0': 0.7421776169800208,\n",
       " 'word2vec_vs100_win8_sg0': 0.7411699781679632,\n",
       " 'word2vec_vs100_win6_sg1': 0.7405598309689426,\n",
       " 'word2vec_vs3000_win8_sg0': 0.740410508190622,\n",
       " 'word2vec_vs3000_win6_sg0': 0.7402388439925077,\n",
       " 'word2vec_vs2500_win8_sg0': 0.7402270885874529,\n",
       " 'word2vec_vs1500_win8_sg0': 0.7393972017889998,\n",
       " 'word2vec_vs2500_win7_sg0': 0.7392757976976251,\n",
       " 'word2vec_vs2000_win7_sg0': 0.7391985465582737,\n",
       " 'word2vec_vs2500_win5_sg0': 0.7386388719385656,\n",
       " 'word2vec_vs100_win8_sg1': 0.7386360385086619,\n",
       " 'word2vec_vs3000_win5_sg0': 0.7385523150708846,\n",
       " 'word2vec_vs100_win4_sg1': 0.7385015759501656,\n",
       " 'word2vec_vs2500_win6_sg0': 0.7384222805767682,\n",
       " 'word2vec_vs2000_win8_sg0': 0.7384015725940302,\n",
       " 'word2vec_vs2500_win4_sg0': 0.7383516710721029,\n",
       " 'word2vec_vs2000_win6_sg0': 0.7382239256907638,\n",
       " 'word2vec_vs250_win8_sg0': 0.7381404583718247,\n",
       " 'word2vec_vs3000_win7_sg0': 0.7379483438610928,\n",
       " 'word2vec_vs100_win3_sg0': 0.7377016835324491,\n",
       " 'word2vec_vs2500_win3_sg0': 0.7375849598017502,\n",
       " 'word2vec_vs3000_win3_sg0': 0.7374714798051082,\n",
       " 'word2vec_vs2000_win5_sg0': 0.7372584523529857,\n",
       " 'word2vec_vs1500_win6_sg0': 0.7371504766787856,\n",
       " 'word2vec_vs1500_win7_sg0': 0.7365214667307227,\n",
       " 'word2vec_vs100_win5_sg1': 0.736407505946197,\n",
       " 'word2vec_vs250_win4_sg0': 0.7362416006450718,\n",
       " 'word2vec_vs1500_win5_sg0': 0.7362299978122053,\n",
       " 'word2vec_vs250_win7_sg0': 0.7361092733549145,\n",
       " 'word2vec_vs250_win6_sg0': 0.7359247686940414,\n",
       " 'word2vec_vs250_win5_sg0': 0.7359015907157038,\n",
       " 'word2vec_vs1500_win3_sg0': 0.7358962014370645,\n",
       " 'word2vec_vs1000_win8_sg0': 0.735710548996203,\n",
       " 'word2vec_vs2000_win4_sg0': 0.7356249972487986,\n",
       " 'word2vec_vs2000_win3_sg0': 0.7355346793741032,\n",
       " 'word2vec_vs3000_win4_sg0': 0.7354699500162174,\n",
       " 'word2vec_vs500_win5_sg0': 0.7354048447042285,\n",
       " 'word2vec_vs100_win7_sg1': 0.7351250793268176,\n",
       " 'word2vec_vs250_win3_sg0': 0.734736573102679,\n",
       " 'word2vec_vs1500_win4_sg0': 0.7346535110902951,\n",
       " 'word2vec_vs100_win3_sg1': 0.7346166473260216,\n",
       " 'word2vec_vs500_win7_sg0': 0.7346036108660082,\n",
       " 'word2vec_vs500_win8_sg0': 0.7345740326960974,\n",
       " 'word2vec_vs500_win6_sg0': 0.7345023203985173,\n",
       " 'word2vec_vs1000_win4_sg0': 0.7342088453091887,\n",
       " 'word2vec_vs500_win4_sg0': 0.734072224934257,\n",
       " 'word2vec_vs1000_win6_sg0': 0.7332233526716411,\n",
       " 'word2vec_vs1000_win7_sg0': 0.7329193719935211,\n",
       " 'word2vec_vs1000_win3_sg0': 0.7320324961273217,\n",
       " 'word2vec_vs1000_win5_sg0': 0.7316377753957861,\n",
       " 'word2vec_vs500_win3_sg0': 0.7312475702254554,\n",
       " 'word2vec_vs2000_win3_sg1': 0.7293688979525108,\n",
       " 'word2vec_vs3000_win3_sg1': 0.729301800902241,\n",
       " 'word2vec_vs2500_win6_sg1': 0.7281551588729636,\n",
       " 'word2vec_vs2000_win4_sg1': 0.7281016570234582,\n",
       " 'word2vec_vs3000_win8_sg1': 0.727944321603192,\n",
       " 'word2vec_vs2500_win5_sg1': 0.7279306657951812,\n",
       " 'word2vec_vs3000_win5_sg1': 0.7277584164617907,\n",
       " 'word2vec_vs2500_win3_sg1': 0.727265181459973,\n",
       " 'word2vec_vs3000_win4_sg1': 0.727232935514843,\n",
       " 'word2vec_vs1500_win8_sg1': 0.7270575504887546,\n",
       " 'word2vec_vs3000_win7_sg1': 0.7266132274174458,\n",
       " 'word2vec_vs1500_win4_sg1': 0.7264542292557182,\n",
       " 'word2vec_vs1000_win6_sg1': 0.7264410784090234,\n",
       " 'word2vec_vs3000_win6_sg1': 0.7262034001810458,\n",
       " 'word2vec_vs1500_win5_sg1': 0.7261001486028655,\n",
       " 'word2vec_vs2500_win7_sg1': 0.7260560390700127,\n",
       " 'word2vec_vs2000_win6_sg1': 0.7257766909488904,\n",
       " 'word2vec_vs2000_win5_sg1': 0.7252754531679767,\n",
       " 'word2vec_vs2000_win8_sg1': 0.7251823654080616,\n",
       " 'word2vec_vs1500_win3_sg1': 0.7247341523470309,\n",
       " 'word2vec_vs1500_win6_sg1': 0.7246401665748918,\n",
       " 'word2vec_vs250_win4_sg1': 0.724389557829953,\n",
       " 'word2vec_vs250_win7_sg1': 0.7243232783520186,\n",
       " 'word2vec_vs2500_win8_sg1': 0.724297531288803,\n",
       " 'word2vec_vs500_win4_sg1': 0.724058977332134,\n",
       " 'word2vec_vs1000_win4_sg1': 0.7238342253650167,\n",
       " 'word2vec_vs2000_win7_sg1': 0.7237673453943803,\n",
       " 'word2vec_vs500_win8_sg1': 0.7236945173098638,\n",
       " 'word2vec_vs250_win5_sg1': 0.7234356283696962,\n",
       " 'word2vec_vs1000_win7_sg1': 0.7232182386642505,\n",
       " 'word2vec_vs2500_win4_sg1': 0.7231045924384656,\n",
       " 'word2vec_vs250_win6_sg1': 0.7229239969986954,\n",
       " 'word2vec_vs250_win3_sg1': 0.7226062917741287,\n",
       " 'word2vec_vs1000_win3_sg1': 0.7223916732134497,\n",
       " 'word2vec_vs250_win8_sg1': 0.7222869040489771,\n",
       " 'word2vec_vs1000_win8_sg1': 0.7220663812506773,\n",
       " 'word2vec_vs500_win6_sg1': 0.7219475720059991,\n",
       " 'word2vec_vs500_win7_sg1': 0.7217671474646088,\n",
       " 'word2vec_vs1500_win7_sg1': 0.721198660722602,\n",
       " 'word2vec_vs1000_win5_sg1': 0.7205991541342647,\n",
       " 'word2vec_vs500_win3_sg1': 0.7205881044597706,\n",
       " 'word2vec_vs500_win5_sg1': 0.7191041539038853}"
      ]
     },
     "execution_count": 12,
     "metadata": {},
     "output_type": "execute_result"
    }
   ],
   "source": [
    "# sort dict by mean f1 in descending order\n",
    "word2vec_mean_f1 = dict(sorted(word2vec_mean_f1.items(), key=lambda item: item[1], reverse=True))\n",
    "word2vec_mean_f1"
   ]
  },
  {
   "cell_type": "code",
   "execution_count": 13,
   "metadata": {},
   "outputs": [
    {
     "data": {
      "text/plain": [
       "{'word2vec_vs100_win4_sg0',\n",
       " 'word2vec_vs100_win5_sg0',\n",
       " 'word2vec_vs100_win6_sg0',\n",
       " 'word2vec_vs100_win6_sg1',\n",
       " 'word2vec_vs100_win7_sg0',\n",
       " 'word2vec_vs100_win8_sg0',\n",
       " 'word2vec_vs2500_win8_sg0',\n",
       " 'word2vec_vs3000_win6_sg0',\n",
       " 'word2vec_vs3000_win8_sg0'}"
      ]
     },
     "execution_count": 13,
     "metadata": {},
     "output_type": "execute_result"
    }
   ],
   "source": [
    "# get first 10 models by auc and their mean auc\n",
    "top_10_auc = dict(list(word2vec_mean_auc.items())[:10])\n",
    "\n",
    "# get first 10 models by f1 and their mean f1\n",
    "top_10_f1 = dict(list(word2vec_mean_f1.items())[:10])\n",
    "\n",
    "\n",
    "\n",
    "\n",
    "# get intersection of top 10 models by auc and f1\n",
    "top_10_auc_f1 = set(top_10_auc.keys()).intersection(set(top_10_f1.keys()))\n",
    "top_10_auc_f1"
   ]
  },
  {
   "cell_type": "code",
   "execution_count": 14,
   "metadata": {},
   "outputs": [
    {
     "data": {
      "text/plain": [
       "{'word2vec_vs100_win7_sg0': 0.7890426879799324,\n",
       " 'word2vec_vs100_win5_sg0': 0.787785489909264,\n",
       " 'word2vec_vs100_win6_sg0': 0.7871360008180823,\n",
       " 'word2vec_vs100_win4_sg0': 0.7870277434985007,\n",
       " 'word2vec_vs100_win8_sg0': 0.7862109972027802,\n",
       " 'word2vec_vs3000_win8_sg0': 0.7850329406013923,\n",
       " 'word2vec_vs100_win6_sg1': 0.7849038763894657,\n",
       " 'word2vec_vs2500_win8_sg0': 0.7848708740314725,\n",
       " 'word2vec_vs3000_win6_sg0': 0.7848609972874838,\n",
       " 'word2vec_vs2500_win7_sg0': 0.7842587764831479}"
      ]
     },
     "execution_count": 14,
     "metadata": {},
     "output_type": "execute_result"
    }
   ],
   "source": [
    "top_10_auc"
   ]
  },
  {
   "cell_type": "code",
   "execution_count": 15,
   "metadata": {},
   "outputs": [
    {
     "data": {
      "text/plain": [
       "{'word2vec_vs100_win7_sg0': 0.7449460781542674,\n",
       " 'word2vec_vs100_win5_sg0': 0.7433047138088177,\n",
       " 'word2vec_vs100_win6_sg0': 0.742502174744267,\n",
       " 'word2vec_vs100_win4_sg0': 0.7421776169800208,\n",
       " 'word2vec_vs100_win8_sg0': 0.7411699781679632,\n",
       " 'word2vec_vs100_win6_sg1': 0.7405598309689426,\n",
       " 'word2vec_vs3000_win8_sg0': 0.740410508190622,\n",
       " 'word2vec_vs3000_win6_sg0': 0.7402388439925077,\n",
       " 'word2vec_vs2500_win8_sg0': 0.7402270885874529,\n",
       " 'word2vec_vs1500_win8_sg0': 0.7393972017889998}"
      ]
     },
     "execution_count": 15,
     "metadata": {},
     "output_type": "execute_result"
    }
   ],
   "source": [
    "top_10_f1"
   ]
  },
  {
   "cell_type": "markdown",
   "metadata": {},
   "source": [
    "## WINNER - `word2vec_vs100_win7_sg0`\n",
    "Since it was on average the best performing model for both auc and f1 on different predictive models, we will use this model to generate the word embeddings for the rest of the project."
   ]
  }
 ],
 "metadata": {
  "kernelspec": {
   "display_name": "ag",
   "language": "python",
   "name": "python3"
  },
  "language_info": {
   "codemirror_mode": {
    "name": "ipython",
    "version": 3
   },
   "file_extension": ".py",
   "mimetype": "text/x-python",
   "name": "python",
   "nbconvert_exporter": "python",
   "pygments_lexer": "ipython3",
   "version": "3.10.13"
  }
 },
 "nbformat": 4,
 "nbformat_minor": 2
}
