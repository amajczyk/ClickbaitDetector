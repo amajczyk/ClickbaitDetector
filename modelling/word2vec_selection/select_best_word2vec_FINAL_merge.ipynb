{
 "cells": [
  {
   "cell_type": "code",
   "execution_count": 1,
   "metadata": {},
   "outputs": [
    {
     "name": "stdout",
     "output_type": "stream",
     "text": [
      "Loading results from:\n",
      " - word2vec_results_10_20_50_100.json\n",
      " - word2vec_results_1500_2000.json\n",
      " - word2vec_results_250_500_1000.json\n",
      "\n",
      "Number of assesed word2vec models: 108\n"
     ]
    }
   ],
   "source": [
    "import json\n",
    "import os\n",
    "\n",
    "# result path\n",
    "result_path = 'results/'\n",
    "name_start = 'word2vec_results_'\n",
    "name_end = '.json'\n",
    "\n",
    "final_results = dict()\n",
    "\n",
    "print('Loading results from:')\n",
    "\n",
    "for file in os.listdir(result_path):\n",
    "    if file.startswith(name_start) and file.endswith(name_end):\n",
    "        print(f' - {file}')\n",
    "        with open(result_path + file) as f:\n",
    "            data = json.load(f)\n",
    "            for key, value in data.items():\n",
    "                final_results[key] = value\n",
    "\n",
    "print('')\n",
    "print(f\"Number of assesed word2vec models: {len(final_results)}\")\n",
    "\n",
    "\n",
    "with open(result_path + 'final_word2vec_results.json', 'w') as fp:\n",
    "    json.dump(final_results, fp)\n",
    "\n"
   ]
  },
  {
   "cell_type": "code",
   "execution_count": 2,
   "metadata": {},
   "outputs": [],
   "source": [
    "import copy as cp\n",
    "import numpy as np\n",
    "word2vec_results = cp.deepcopy(final_results)"
   ]
  },
  {
   "cell_type": "code",
   "execution_count": 3,
   "metadata": {},
   "outputs": [],
   "source": [
    "# for each word2vec model calculate mean auc\n",
    "word2vec_mean_auc = {}\n",
    "\n",
    "for model in word2vec_results:\n",
    "    # get results for each model\n",
    "    results = word2vec_results[model]\n",
    "    # get auc for each model\n",
    "    aucs = [results[model]['auc'] for model in results]\n",
    "    # calculate mean auc\n",
    "    mean_auc = np.mean(aucs)\n",
    "    # add to dict\n",
    "    word2vec_mean_auc[model] = mean_auc"
   ]
  },
  {
   "cell_type": "code",
   "execution_count": 4,
   "metadata": {},
   "outputs": [
    {
     "data": {
      "text/plain": [
       "{'word2vec_vs50_win8_sg1': 0.7906544742124197,\n",
       " 'word2vec_vs20_win6_sg1': 0.7902644161840826,\n",
       " 'word2vec_vs20_win8_sg1': 0.7902248930629089,\n",
       " 'word2vec_vs50_win6_sg1': 0.7897368475507193,\n",
       " 'word2vec_vs20_win7_sg1': 0.7884276848082818,\n",
       " 'word2vec_vs50_win5_sg1': 0.788115158018582,\n",
       " 'word2vec_vs50_win7_sg1': 0.7874604842690883,\n",
       " 'word2vec_vs20_win3_sg1': 0.787124101713654,\n",
       " 'word2vec_vs20_win5_sg1': 0.7869853125933021,\n",
       " 'word2vec_vs20_win8_sg0': 0.7866888744039753,\n",
       " 'word2vec_vs20_win4_sg1': 0.7865992157453966,\n",
       " 'word2vec_vs20_win7_sg0': 0.7861079628594994,\n",
       " 'word2vec_vs20_win6_sg0': 0.785734895043499,\n",
       " 'word2vec_vs50_win8_sg0': 0.785668449197861,\n",
       " 'word2vec_vs50_win4_sg1': 0.7855968671201332,\n",
       " 'word2vec_vs20_win5_sg0': 0.7855425191333884,\n",
       " 'word2vec_vs50_win3_sg1': 0.7850951644037685,\n",
       " 'word2vec_vs20_win3_sg0': 0.7850206779530747,\n",
       " 'word2vec_vs20_win4_sg0': 0.7844732221246707,\n",
       " 'word2vec_vs100_win7_sg1': 0.7839324840444244,\n",
       " 'word2vec_vs50_win6_sg0': 0.7836583792268603,\n",
       " 'word2vec_vs50_win5_sg0': 0.7835568961490823,\n",
       " 'word2vec_vs100_win8_sg1': 0.7833261130473599,\n",
       " 'word2vec_vs50_win7_sg0': 0.7833119163540585,\n",
       " 'word2vec_vs100_win6_sg1': 0.7828961771652729,\n",
       " 'word2vec_vs50_win4_sg0': 0.7812543343886627,\n",
       " 'word2vec_vs100_win5_sg1': 0.7808258026563557,\n",
       " 'word2vec_vs100_win4_sg1': 0.7806786773204684,\n",
       " 'word2vec_vs250_win5_sg0': 0.7800831182767092,\n",
       " 'word2vec_vs250_win7_sg0': 0.7800479775809013,\n",
       " 'word2vec_vs250_win6_sg0': 0.7797642063006418,\n",
       " 'word2vec_vs100_win3_sg1': 0.7797226582476802,\n",
       " 'word2vec_vs50_win3_sg0': 0.7795396531897849,\n",
       " 'word2vec_vs2000_win7_sg0': 0.7795126565627004,\n",
       " 'word2vec_vs10_win6_sg0': 0.7794665339375612,\n",
       " 'word2vec_vs100_win4_sg0': 0.7794153268121662,\n",
       " 'word2vec_vs100_win5_sg0': 0.7790681249131645,\n",
       " 'word2vec_vs1500_win5_sg0': 0.7787658484168581,\n",
       " 'word2vec_vs100_win8_sg0': 0.7787629366536303,\n",
       " 'word2vec_vs1500_win8_sg0': 0.7785976830050579,\n",
       " 'word2vec_vs250_win8_sg0': 0.7784440320678249,\n",
       " 'word2vec_vs1500_win7_sg0': 0.7784396200814111,\n",
       " 'word2vec_vs10_win8_sg0': 0.778389122421168,\n",
       " 'word2vec_vs2000_win6_sg0': 0.7781587975156896,\n",
       " 'word2vec_vs1500_win6_sg0': 0.7775776051412575,\n",
       " 'word2vec_vs100_win7_sg0': 0.7774870818220248,\n",
       " 'word2vec_vs100_win3_sg0': 0.7771935627861879,\n",
       " 'word2vec_vs10_win7_sg0': 0.7770128265387263,\n",
       " 'word2vec_vs2000_win5_sg0': 0.7769691944318811,\n",
       " 'word2vec_vs500_win7_sg0': 0.7769630679046833,\n",
       " 'word2vec_vs1000_win5_sg0': 0.7768742221749245,\n",
       " 'word2vec_vs1000_win8_sg0': 0.7766591729409991,\n",
       " 'word2vec_vs2000_win4_sg0': 0.7764682159611923,\n",
       " 'word2vec_vs10_win8_sg1': 0.7764364304443322,\n",
       " 'word2vec_vs250_win4_sg0': 0.7764345311469981,\n",
       " 'word2vec_vs2000_win3_sg0': 0.7764265496640387,\n",
       " 'word2vec_vs10_win5_sg0': 0.7763206693803708,\n",
       " 'word2vec_vs10_win4_sg1': 0.7761618526500002,\n",
       " 'word2vec_vs2000_win8_sg0': 0.7760085860063912,\n",
       " 'word2vec_vs1000_win7_sg0': 0.7760060289757392,\n",
       " 'word2vec_vs100_win6_sg0': 0.7759042872387912,\n",
       " 'word2vec_vs250_win3_sg0': 0.7756840426506801,\n",
       " 'word2vec_vs1500_win3_sg0': 0.775683030184786,\n",
       " 'word2vec_vs10_win6_sg1': 0.7756461453871463,\n",
       " 'word2vec_vs1500_win4_sg0': 0.7755160546051678,\n",
       " 'word2vec_vs500_win5_sg0': 0.7754094648563481,\n",
       " 'word2vec_vs500_win6_sg0': 0.7752884788771532,\n",
       " 'word2vec_vs500_win8_sg0': 0.7747454941572589,\n",
       " 'word2vec_vs500_win4_sg0': 0.7747288217261878,\n",
       " 'word2vec_vs10_win5_sg1': 0.7746864385736203,\n",
       " 'word2vec_vs1000_win6_sg0': 0.7746285876026877,\n",
       " 'word2vec_vs10_win7_sg1': 0.7742220345095674,\n",
       " 'word2vec_vs1000_win3_sg0': 0.7741820975337218,\n",
       " 'word2vec_vs10_win4_sg0': 0.7739831369001694,\n",
       " 'word2vec_vs1000_win4_sg0': 0.7738759411498657,\n",
       " 'word2vec_vs500_win3_sg0': 0.7724275163103083,\n",
       " 'word2vec_vs10_win3_sg1': 0.7723228184685603,\n",
       " 'word2vec_vs2000_win3_sg1': 0.7719146395178001,\n",
       " 'word2vec_vs1500_win4_sg1': 0.76893908354839,\n",
       " 'word2vec_vs1500_win3_sg1': 0.7689237339742169,\n",
       " 'word2vec_vs2000_win5_sg1': 0.7680660645081189,\n",
       " 'word2vec_vs10_win3_sg0': 0.7679095165881822,\n",
       " 'word2vec_vs250_win8_sg1': 0.7677674979233363,\n",
       " 'word2vec_vs2000_win4_sg1': 0.7677651847713305,\n",
       " 'word2vec_vs1000_win3_sg1': 0.7674359485992498,\n",
       " 'word2vec_vs250_win4_sg1': 0.7667510486781778,\n",
       " 'word2vec_vs1500_win6_sg1': 0.7663331884841982,\n",
       " 'word2vec_vs250_win5_sg1': 0.7661786359350012,\n",
       " 'word2vec_vs250_win7_sg1': 0.7660569109296061,\n",
       " 'word2vec_vs250_win3_sg1': 0.7659302048876235,\n",
       " 'word2vec_vs2000_win8_sg1': 0.7657340747244171,\n",
       " 'word2vec_vs2000_win6_sg1': 0.7656478968792402,\n",
       " 'word2vec_vs1500_win8_sg1': 0.7656052624577645,\n",
       " 'word2vec_vs500_win3_sg1': 0.7655687028316529,\n",
       " 'word2vec_vs500_win4_sg1': 0.7654341039898548,\n",
       " 'word2vec_vs1000_win4_sg1': 0.7653325026678847,\n",
       " 'word2vec_vs250_win6_sg1': 0.7653148695027536,\n",
       " 'word2vec_vs500_win6_sg1': 0.7652344708424602,\n",
       " 'word2vec_vs1500_win5_sg1': 0.7650688624613119,\n",
       " 'word2vec_vs1500_win7_sg1': 0.7647408087311511,\n",
       " 'word2vec_vs1000_win6_sg1': 0.764622320660512,\n",
       " 'word2vec_vs2000_win7_sg1': 0.7644844922742202,\n",
       " 'word2vec_vs1000_win8_sg1': 0.7640991196719906,\n",
       " 'word2vec_vs500_win8_sg1': 0.7635982594454939,\n",
       " 'word2vec_vs500_win7_sg1': 0.7628037767194923,\n",
       " 'word2vec_vs1000_win5_sg1': 0.7625853279650471,\n",
       " 'word2vec_vs1000_win7_sg1': 0.7623234983726643,\n",
       " 'word2vec_vs500_win5_sg1': 0.7621093581409648}"
      ]
     },
     "execution_count": 4,
     "metadata": {},
     "output_type": "execute_result"
    }
   ],
   "source": [
    "# sort dict by mean auc in descending order\n",
    "word2vec_mean_auc = dict(sorted(word2vec_mean_auc.items(), key=lambda item: item[1], reverse=True))\n",
    "word2vec_mean_auc"
   ]
  },
  {
   "cell_type": "code",
   "execution_count": 5,
   "metadata": {},
   "outputs": [],
   "source": [
    "# for each word2vec model calculate mean auc\n",
    "word2vec_mean_f1 = {}\n",
    "\n",
    "for model in word2vec_results:\n",
    "    # get results for each model\n",
    "    results = word2vec_results[model]\n",
    "    # get auc for each model\n",
    "    f1s = [results[model]['f1'] for model in results]\n",
    "    # calculate mean auc\n",
    "    mean_f1 = np.mean(f1s)\n",
    "    # add to dict\n",
    "    word2vec_mean_f1[model] = mean_f1"
   ]
  },
  {
   "cell_type": "code",
   "execution_count": 6,
   "metadata": {},
   "outputs": [
    {
     "data": {
      "text/plain": [
       "{'word2vec_vs50_win8_sg1': 0.7459990044903608,\n",
       " 'word2vec_vs20_win6_sg1': 0.7458677080416344,\n",
       " 'word2vec_vs20_win8_sg1': 0.745680297149497,\n",
       " 'word2vec_vs50_win6_sg1': 0.7451987743465199,\n",
       " 'word2vec_vs20_win7_sg1': 0.7439095983433938,\n",
       " 'word2vec_vs50_win5_sg1': 0.7431405194182961,\n",
       " 'word2vec_vs50_win7_sg1': 0.7423247407134776,\n",
       " 'word2vec_vs20_win8_sg0': 0.7422863301670464,\n",
       " 'word2vec_vs20_win3_sg1': 0.7416768549398961,\n",
       " 'word2vec_vs20_win5_sg1': 0.7415582281608142,\n",
       " 'word2vec_vs20_win7_sg0': 0.7414920654459398,\n",
       " 'word2vec_vs20_win4_sg1': 0.7413132884403387,\n",
       " 'word2vec_vs50_win8_sg0': 0.7411304896974229,\n",
       " 'word2vec_vs20_win6_sg0': 0.7407334045366302,\n",
       " 'word2vec_vs20_win5_sg0': 0.7404899854426465,\n",
       " 'word2vec_vs50_win4_sg1': 0.7397236950116362,\n",
       " 'word2vec_vs20_win3_sg0': 0.7392764134458505,\n",
       " 'word2vec_vs50_win3_sg1': 0.7391899321461826,\n",
       " 'word2vec_vs20_win4_sg0': 0.7389642567038595,\n",
       " 'word2vec_vs50_win5_sg0': 0.7382212361955981,\n",
       " 'word2vec_vs50_win7_sg0': 0.7381419871838169,\n",
       " 'word2vec_vs50_win6_sg0': 0.7381381677895156,\n",
       " 'word2vec_vs100_win7_sg1': 0.7377600891989939,\n",
       " 'word2vec_vs100_win8_sg1': 0.7367380063082922,\n",
       " 'word2vec_vs100_win6_sg1': 0.735915750487828,\n",
       " 'word2vec_vs50_win4_sg0': 0.7349025222949745,\n",
       " 'word2vec_vs250_win7_sg0': 0.7345883593373173,\n",
       " 'word2vec_vs250_win5_sg0': 0.7344666441324127,\n",
       " 'word2vec_vs250_win6_sg0': 0.7341884774833329,\n",
       " 'word2vec_vs2000_win7_sg0': 0.7341681988865842,\n",
       " 'word2vec_vs100_win5_sg1': 0.733796373176294,\n",
       " 'word2vec_vs100_win4_sg1': 0.7334317303479856,\n",
       " 'word2vec_vs1500_win5_sg0': 0.7332196224682108,\n",
       " 'word2vec_vs1500_win7_sg0': 0.7329133232669182,\n",
       " 'word2vec_vs1500_win8_sg0': 0.7328641472672534,\n",
       " 'word2vec_vs10_win6_sg0': 0.7328325174688329,\n",
       " 'word2vec_vs100_win4_sg0': 0.7326490220035946,\n",
       " 'word2vec_vs100_win8_sg0': 0.7326082725277835,\n",
       " 'word2vec_vs250_win8_sg0': 0.7325322577371207,\n",
       " 'word2vec_vs50_win3_sg0': 0.7324943115274184,\n",
       " 'word2vec_vs100_win5_sg0': 0.7324799275969656,\n",
       " 'word2vec_vs2000_win6_sg0': 0.7323866074555808,\n",
       " 'word2vec_vs100_win3_sg1': 0.7321938419770905,\n",
       " 'word2vec_vs1500_win6_sg0': 0.7318390138357947,\n",
       " 'word2vec_vs10_win8_sg0': 0.731115142048995,\n",
       " 'word2vec_vs2000_win5_sg0': 0.7310807314396589,\n",
       " 'word2vec_vs500_win7_sg0': 0.7309334361250232,\n",
       " 'word2vec_vs1000_win5_sg0': 0.7307672062009098,\n",
       " 'word2vec_vs100_win7_sg0': 0.7304247467299799,\n",
       " 'word2vec_vs1000_win8_sg0': 0.7303580644285047,\n",
       " 'word2vec_vs2000_win3_sg0': 0.7301253612792593,\n",
       " 'word2vec_vs2000_win4_sg0': 0.7300097843667859,\n",
       " 'word2vec_vs100_win3_sg0': 0.7299260575765357,\n",
       " 'word2vec_vs2000_win8_sg0': 0.7298915312172161,\n",
       " 'word2vec_vs10_win7_sg0': 0.72987412385575,\n",
       " 'word2vec_vs1000_win7_sg0': 0.7298043309200951,\n",
       " 'word2vec_vs250_win4_sg0': 0.7297539806082678,\n",
       " 'word2vec_vs1500_win3_sg0': 0.7291217490765587,\n",
       " 'word2vec_vs250_win3_sg0': 0.7289746682082946,\n",
       " 'word2vec_vs1500_win4_sg0': 0.7288522323071418,\n",
       " 'word2vec_vs500_win5_sg0': 0.7287118324443822,\n",
       " 'word2vec_vs500_win6_sg0': 0.7286808423866785,\n",
       " 'word2vec_vs10_win5_sg0': 0.7285540609386165,\n",
       " 'word2vec_vs100_win6_sg0': 0.7285389643103736,\n",
       " 'word2vec_vs10_win8_sg1': 0.7281476428981462,\n",
       " 'word2vec_vs500_win8_sg0': 0.7280410226587082,\n",
       " 'word2vec_vs1000_win6_sg0': 0.7279543083649233,\n",
       " 'word2vec_vs10_win4_sg1': 0.7279409020263805,\n",
       " 'word2vec_vs500_win4_sg0': 0.7276250149461021,\n",
       " 'word2vec_vs10_win6_sg1': 0.7274557299663934,\n",
       " 'word2vec_vs1000_win4_sg0': 0.7269252428327284,\n",
       " 'word2vec_vs1000_win3_sg0': 0.7268654990783513,\n",
       " 'word2vec_vs10_win5_sg1': 0.7259769184286924,\n",
       " 'word2vec_vs10_win4_sg0': 0.7258769761691716,\n",
       " 'word2vec_vs10_win7_sg1': 0.7253076080248093,\n",
       " 'word2vec_vs500_win3_sg0': 0.7249872098727473,\n",
       " 'word2vec_vs10_win3_sg1': 0.7227958121831173,\n",
       " 'word2vec_vs2000_win3_sg1': 0.7212586795449012,\n",
       " 'word2vec_vs10_win3_sg0': 0.717835151341138,\n",
       " 'word2vec_vs1500_win3_sg1': 0.7178173141637807,\n",
       " 'word2vec_vs1500_win4_sg1': 0.7167835305973603,\n",
       " 'word2vec_vs250_win8_sg1': 0.7156631907812294,\n",
       " 'word2vec_vs2000_win5_sg1': 0.7153096048871332,\n",
       " 'word2vec_vs2000_win4_sg1': 0.7152716298733952,\n",
       " 'word2vec_vs1000_win3_sg1': 0.7151013992430111,\n",
       " 'word2vec_vs250_win4_sg1': 0.7143896354707084,\n",
       " 'word2vec_vs250_win3_sg1': 0.7135546837858424,\n",
       " 'word2vec_vs250_win5_sg1': 0.7134573760420142,\n",
       " 'word2vec_vs250_win7_sg1': 0.713386771366412,\n",
       " 'word2vec_vs250_win6_sg1': 0.7127774131382372,\n",
       " 'word2vec_vs500_win3_sg1': 0.7125909904650614,\n",
       " 'word2vec_vs1500_win6_sg1': 0.7124964207423921,\n",
       " 'word2vec_vs500_win4_sg1': 0.7124709098929344,\n",
       " 'word2vec_vs1500_win8_sg1': 0.7120216492525877,\n",
       " 'word2vec_vs1000_win4_sg1': 0.7118366127328052,\n",
       " 'word2vec_vs500_win6_sg1': 0.7118002660212673,\n",
       " 'word2vec_vs2000_win8_sg1': 0.7117601323138094,\n",
       " 'word2vec_vs2000_win6_sg1': 0.7115306292377936,\n",
       " 'word2vec_vs1500_win5_sg1': 0.7114554590490993,\n",
       " 'word2vec_vs1000_win6_sg1': 0.710836357801675,\n",
       " 'word2vec_vs1500_win7_sg1': 0.7105863738621333,\n",
       " 'word2vec_vs2000_win7_sg1': 0.7105165141687659,\n",
       " 'word2vec_vs1000_win8_sg1': 0.7097367700906515,\n",
       " 'word2vec_vs500_win8_sg1': 0.7093154501447871,\n",
       " 'word2vec_vs500_win7_sg1': 0.7085192572976864,\n",
       " 'word2vec_vs1000_win5_sg1': 0.7079322251514895,\n",
       " 'word2vec_vs1000_win7_sg1': 0.7074738733342002,\n",
       " 'word2vec_vs500_win5_sg1': 0.7074363564402832}"
      ]
     },
     "execution_count": 6,
     "metadata": {},
     "output_type": "execute_result"
    }
   ],
   "source": [
    "# sort dict by mean f1 in descending order\n",
    "word2vec_mean_f1 = dict(sorted(word2vec_mean_f1.items(), key=lambda item: item[1], reverse=True))\n",
    "word2vec_mean_f1"
   ]
  },
  {
   "cell_type": "code",
   "execution_count": 7,
   "metadata": {},
   "outputs": [
    {
     "data": {
      "text/plain": [
       "{'word2vec_vs20_win3_sg1',\n",
       " 'word2vec_vs20_win5_sg1',\n",
       " 'word2vec_vs20_win6_sg1',\n",
       " 'word2vec_vs20_win7_sg1',\n",
       " 'word2vec_vs20_win8_sg0',\n",
       " 'word2vec_vs20_win8_sg1',\n",
       " 'word2vec_vs50_win5_sg1',\n",
       " 'word2vec_vs50_win6_sg1',\n",
       " 'word2vec_vs50_win7_sg1',\n",
       " 'word2vec_vs50_win8_sg1'}"
      ]
     },
     "execution_count": 7,
     "metadata": {},
     "output_type": "execute_result"
    }
   ],
   "source": [
    "# get first 10 models by auc and their mean auc\n",
    "top_10_auc = dict(list(word2vec_mean_auc.items())[:10])\n",
    "\n",
    "# get first 10 models by f1 and their mean f1\n",
    "top_10_f1 = dict(list(word2vec_mean_f1.items())[:10])\n",
    "\n",
    "\n",
    "\n",
    "\n",
    "# get intersection of top 10 models by auc and f1\n",
    "top_10_auc_f1 = set(top_10_auc.keys()).intersection(set(top_10_f1.keys()))\n",
    "top_10_auc_f1"
   ]
  },
  {
   "cell_type": "code",
   "execution_count": 8,
   "metadata": {},
   "outputs": [
    {
     "data": {
      "text/plain": [
       "{'word2vec_vs50_win8_sg1': 0.7906544742124197,\n",
       " 'word2vec_vs20_win6_sg1': 0.7902644161840826,\n",
       " 'word2vec_vs20_win8_sg1': 0.7902248930629089,\n",
       " 'word2vec_vs50_win6_sg1': 0.7897368475507193,\n",
       " 'word2vec_vs20_win7_sg1': 0.7884276848082818,\n",
       " 'word2vec_vs50_win5_sg1': 0.788115158018582,\n",
       " 'word2vec_vs50_win7_sg1': 0.7874604842690883,\n",
       " 'word2vec_vs20_win3_sg1': 0.787124101713654,\n",
       " 'word2vec_vs20_win5_sg1': 0.7869853125933021,\n",
       " 'word2vec_vs20_win8_sg0': 0.7866888744039753}"
      ]
     },
     "execution_count": 8,
     "metadata": {},
     "output_type": "execute_result"
    }
   ],
   "source": [
    "top_10_auc"
   ]
  },
  {
   "cell_type": "code",
   "execution_count": 9,
   "metadata": {},
   "outputs": [
    {
     "data": {
      "text/plain": [
       "{'word2vec_vs50_win8_sg1': 0.7459990044903608,\n",
       " 'word2vec_vs20_win6_sg1': 0.7458677080416344,\n",
       " 'word2vec_vs20_win8_sg1': 0.745680297149497,\n",
       " 'word2vec_vs50_win6_sg1': 0.7451987743465199,\n",
       " 'word2vec_vs20_win7_sg1': 0.7439095983433938,\n",
       " 'word2vec_vs50_win5_sg1': 0.7431405194182961,\n",
       " 'word2vec_vs50_win7_sg1': 0.7423247407134776,\n",
       " 'word2vec_vs20_win8_sg0': 0.7422863301670464,\n",
       " 'word2vec_vs20_win3_sg1': 0.7416768549398961,\n",
       " 'word2vec_vs20_win5_sg1': 0.7415582281608142}"
      ]
     },
     "execution_count": 9,
     "metadata": {},
     "output_type": "execute_result"
    }
   ],
   "source": [
    "top_10_f1"
   ]
  },
  {
   "cell_type": "markdown",
   "metadata": {},
   "source": [
    "## WINNER - `word2vec_vs50_win8_sg1`\n",
    "Since it was on average the best performing model for both auc and f1 on different predictive models, we will use this model to generate the word embeddings for the rest of the project."
   ]
  }
 ],
 "metadata": {
  "kernelspec": {
   "display_name": "ag",
   "language": "python",
   "name": "python3"
  },
  "language_info": {
   "codemirror_mode": {
    "name": "ipython",
    "version": 3
   },
   "file_extension": ".py",
   "mimetype": "text/x-python",
   "name": "python",
   "nbconvert_exporter": "python",
   "pygments_lexer": "ipython3",
   "version": "3.10.9"
  }
 },
 "nbformat": 4,
 "nbformat_minor": 2
}
