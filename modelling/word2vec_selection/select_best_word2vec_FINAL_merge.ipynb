{
 "cells": [
  {
   "cell_type": "code",
   "execution_count": 1,
   "metadata": {},
   "outputs": [
    {
     "name": "stdout",
     "output_type": "stream",
     "text": [
      "Loading results from:\n",
      " - word2vec_results_500_1000.json\n",
      " - word2vec_results_10_20_50.json\n",
      " - word2vec_results_100_250.json\n",
      "\n",
      "Number of assesed word2vec models: 84\n"
     ]
    }
   ],
   "source": [
    "import json\n",
    "import os\n",
    "\n",
    "# result path\n",
    "result_path = 'results/'\n",
    "name_start = 'word2vec_results_'\n",
    "name_end = '.json'\n",
    "\n",
    "final_results = dict()\n",
    "\n",
    "print('Loading results from:')\n",
    "\n",
    "for file in os.listdir(result_path):\n",
    "    if file.startswith(name_start) and file.endswith(name_end):\n",
    "        print(f' - {file}')\n",
    "        with open(result_path + file) as f:\n",
    "            data = json.load(f)\n",
    "            for key, value in data.items():\n",
    "                final_results[key] = value\n",
    "\n",
    "print('')\n",
    "print(f\"Number of assesed word2vec models: {len(final_results)}\")\n",
    "\n",
    "\n",
    "with open(result_path + 'final_word2vec_results.json', 'w') as fp:\n",
    "    json.dump(final_results, fp)\n",
    "\n"
   ]
  },
  {
   "cell_type": "code",
   "execution_count": 2,
   "metadata": {},
   "outputs": [],
   "source": [
    "import copy as cp\n",
    "import numpy as np\n",
    "word2vec_results = cp.deepcopy(final_results)"
   ]
  },
  {
   "cell_type": "code",
   "execution_count": 3,
   "metadata": {},
   "outputs": [],
   "source": [
    "# for each word2vec model calculate mean auc\n",
    "word2vec_mean_auc = {}\n",
    "\n",
    "for model in word2vec_results:\n",
    "    # get results for each model\n",
    "    results = word2vec_results[model]\n",
    "    # get auc for each model\n",
    "    aucs = [results[model]['auc'] for model in results]\n",
    "    # calculate mean auc\n",
    "    mean_auc = np.mean(aucs)\n",
    "    # add to dict\n",
    "    word2vec_mean_auc[model] = mean_auc"
   ]
  },
  {
   "cell_type": "code",
   "execution_count": 4,
   "metadata": {},
   "outputs": [
    {
     "data": {
      "text/plain": [
       "{'word2vec_vs20_win8_sg1': 0.7985594775885841,\n",
       " 'word2vec_vs20_win5_sg1': 0.7934048056082214,\n",
       " 'word2vec_vs20_win7_sg1': 0.7930784998717092,\n",
       " 'word2vec_vs20_win6_sg1': 0.7925760510681972,\n",
       " 'word2vec_vs50_win8_sg1': 0.7921365594139467,\n",
       " 'word2vec_vs50_win6_sg1': 0.7921120290851558,\n",
       " 'word2vec_vs50_win7_sg1': 0.7919726210918131,\n",
       " 'word2vec_vs20_win7_sg0': 0.7874124369975362,\n",
       " 'word2vec_vs20_win8_sg0': 0.7873132281308493,\n",
       " 'word2vec_vs20_win6_sg0': 0.7866656113388928,\n",
       " 'word2vec_vs50_win4_sg1': 0.7857736982511769,\n",
       " 'word2vec_vs20_win4_sg1': 0.7851858967929718,\n",
       " 'word2vec_vs10_win7_sg0': 0.7850089078525652,\n",
       " 'word2vec_vs50_win8_sg0': 0.784789262724655,\n",
       " 'word2vec_vs50_win5_sg0': 0.7846933165125365,\n",
       " 'word2vec_vs20_win5_sg0': 0.7842104436364339,\n",
       " 'word2vec_vs50_win5_sg1': 0.7837423131254176,\n",
       " 'word2vec_vs50_win3_sg1': 0.7837012681253552,\n",
       " 'word2vec_vs20_win3_sg1': 0.7834537494547138,\n",
       " 'word2vec_vs50_win4_sg0': 0.7832710005192051,\n",
       " 'word2vec_vs20_win3_sg0': 0.7819290022198135,\n",
       " 'word2vec_vs20_win4_sg0': 0.781698682975106,\n",
       " 'word2vec_vs50_win3_sg0': 0.7810780535727879,\n",
       " 'word2vec_vs10_win8_sg0': 0.78093373145775,\n",
       " 'word2vec_vs10_win6_sg0': 0.7801681354654177,\n",
       " 'word2vec_vs50_win6_sg0': 0.7801534736597034,\n",
       " 'word2vec_vs100_win7_sg1': 0.7800376292826872,\n",
       " 'word2vec_vs50_win7_sg0': 0.7798763896995176,\n",
       " 'word2vec_vs100_win5_sg1': 0.7798581832814329,\n",
       " 'word2vec_vs100_win3_sg0': 0.779507427775502,\n",
       " 'word2vec_vs10_win7_sg1': 0.7788729421611905,\n",
       " 'word2vec_vs100_win6_sg0': 0.7788663765723679,\n",
       " 'word2vec_vs100_win6_sg1': 0.7787146027154148,\n",
       " 'word2vec_vs10_win3_sg0': 0.7784367534411942,\n",
       " 'word2vec_vs100_win8_sg1': 0.7781776745006629,\n",
       " 'word2vec_vs100_win8_sg0': 0.7780729070373041,\n",
       " 'word2vec_vs10_win6_sg1': 0.7780194961736313,\n",
       " 'word2vec_vs100_win5_sg0': 0.7779842917280428,\n",
       " 'word2vec_vs100_win4_sg0': 0.7778326387101477,\n",
       " 'word2vec_vs100_win4_sg1': 0.7759438033932413,\n",
       " 'word2vec_vs100_win7_sg0': 0.7757964603017512,\n",
       " 'word2vec_vs10_win8_sg1': 0.7757348323821285,\n",
       " 'word2vec_vs10_win5_sg1': 0.7756856508854885,\n",
       " 'word2vec_vs10_win5_sg0': 0.7738133302398534,\n",
       " 'word2vec_vs100_win3_sg1': 0.7736804475556475,\n",
       " 'word2vec_vs10_win4_sg1': 0.7716959077047385,\n",
       " 'word2vec_vs250_win5_sg0': 0.7714877825670323,\n",
       " 'word2vec_vs250_win6_sg0': 0.7699343964753663,\n",
       " 'word2vec_vs10_win3_sg1': 0.7690299966849817,\n",
       " 'word2vec_vs250_win8_sg0': 0.7684695048539035,\n",
       " 'word2vec_vs500_win4_sg0': 0.7684251971992728,\n",
       " 'word2vec_vs1000_win4_sg1': 0.7679668143722753,\n",
       " 'word2vec_vs10_win4_sg0': 0.7679266958049915,\n",
       " 'word2vec_vs250_win7_sg1': 0.7677518416879443,\n",
       " 'word2vec_vs250_win6_sg1': 0.7673050996902089,\n",
       " 'word2vec_vs250_win7_sg0': 0.7670865421138215,\n",
       " 'word2vec_vs250_win4_sg0': 0.7664988212149885,\n",
       " 'word2vec_vs250_win8_sg1': 0.7660779387756829,\n",
       " 'word2vec_vs500_win8_sg1': 0.7659664848844436,\n",
       " 'word2vec_vs250_win3_sg0': 0.7655674743146512,\n",
       " 'word2vec_vs1000_win6_sg1': 0.7653623298737111,\n",
       " 'word2vec_vs1000_win3_sg1': 0.7653353424840723,\n",
       " 'word2vec_vs250_win5_sg1': 0.7650925768163822,\n",
       " 'word2vec_vs1000_win7_sg0': 0.7648100953782684,\n",
       " 'word2vec_vs1000_win6_sg0': 0.7647109267912678,\n",
       " 'word2vec_vs1000_win8_sg1': 0.7647097989600591,\n",
       " 'word2vec_vs1000_win7_sg1': 0.7643942478997166,\n",
       " 'word2vec_vs500_win6_sg0': 0.7640034946655597,\n",
       " 'word2vec_vs1000_win5_sg0': 0.7639952776096101,\n",
       " 'word2vec_vs250_win4_sg1': 0.7636809349398483,\n",
       " 'word2vec_vs1000_win5_sg1': 0.7635785842576515,\n",
       " 'word2vec_vs500_win7_sg0': 0.7631812654346721,\n",
       " 'word2vec_vs500_win3_sg0': 0.7627418543397938,\n",
       " 'word2vec_vs1000_win3_sg0': 0.7627016954928241,\n",
       " 'word2vec_vs500_win8_sg0': 0.7626074410275188,\n",
       " 'word2vec_vs1000_win4_sg0': 0.7622532617482755,\n",
       " 'word2vec_vs500_win6_sg1': 0.7621873641819337,\n",
       " 'word2vec_vs500_win3_sg1': 0.7617677304128949,\n",
       " 'word2vec_vs500_win7_sg1': 0.7613537357999001,\n",
       " 'word2vec_vs1000_win8_sg0': 0.7605867702982428,\n",
       " 'word2vec_vs500_win5_sg1': 0.7603281747139438,\n",
       " 'word2vec_vs250_win3_sg1': 0.760240526117147,\n",
       " 'word2vec_vs500_win5_sg0': 0.7598546870046857,\n",
       " 'word2vec_vs500_win4_sg1': 0.7588477351336741}"
      ]
     },
     "execution_count": 4,
     "metadata": {},
     "output_type": "execute_result"
    }
   ],
   "source": [
    "# sort dict by mean auc in descending order\n",
    "word2vec_mean_auc = dict(sorted(word2vec_mean_auc.items(), key=lambda item: item[1], reverse=True))\n",
    "word2vec_mean_auc"
   ]
  },
  {
   "cell_type": "code",
   "execution_count": 5,
   "metadata": {},
   "outputs": [],
   "source": [
    "# for each word2vec model calculate mean auc\n",
    "word2vec_mean_f1 = {}\n",
    "\n",
    "for model in word2vec_results:\n",
    "    # get results for each model\n",
    "    results = word2vec_results[model]\n",
    "    # get auc for each model\n",
    "    f1s = [results[model]['f1'] for model in results]\n",
    "    # calculate mean auc\n",
    "    mean_f1 = np.mean(f1s)\n",
    "    # add to dict\n",
    "    word2vec_mean_f1[model] = mean_f1"
   ]
  },
  {
   "cell_type": "code",
   "execution_count": 6,
   "metadata": {},
   "outputs": [
    {
     "data": {
      "text/plain": [
       "{'word2vec_vs20_win8_sg1': 0.7584966696880299,\n",
       " 'word2vec_vs20_win5_sg1': 0.7516058550366965,\n",
       " 'word2vec_vs20_win7_sg1': 0.7511243691590789,\n",
       " 'word2vec_vs20_win6_sg1': 0.7509009497208584,\n",
       " 'word2vec_vs50_win6_sg1': 0.7503886874221374,\n",
       " 'word2vec_vs50_win8_sg1': 0.7495739923452618,\n",
       " 'word2vec_vs50_win7_sg1': 0.7494285067156027,\n",
       " 'word2vec_vs20_win7_sg0': 0.7445854744213045,\n",
       " 'word2vec_vs20_win8_sg0': 0.7445423496217604,\n",
       " 'word2vec_vs20_win6_sg0': 0.7439027990309535,\n",
       " 'word2vec_vs50_win4_sg1': 0.7425821931360757,\n",
       " 'word2vec_vs10_win7_sg0': 0.7421831914528148,\n",
       " 'word2vec_vs50_win8_sg0': 0.7421177936321147,\n",
       " 'word2vec_vs50_win5_sg0': 0.7416358356717518,\n",
       " 'word2vec_vs20_win4_sg1': 0.7412801288480172,\n",
       " 'word2vec_vs20_win5_sg0': 0.740528132633915,\n",
       " 'word2vec_vs50_win5_sg1': 0.7400219947162316,\n",
       " 'word2vec_vs50_win4_sg0': 0.7397470958833606,\n",
       " 'word2vec_vs20_win3_sg1': 0.7394738817140225,\n",
       " 'word2vec_vs50_win3_sg1': 0.7390954054969308,\n",
       " 'word2vec_vs20_win4_sg0': 0.7375074308730534,\n",
       " 'word2vec_vs20_win3_sg0': 0.7373518880786489,\n",
       " 'word2vec_vs50_win3_sg0': 0.7362457546333295,\n",
       " 'word2vec_vs50_win6_sg0': 0.7360812781774589,\n",
       " 'word2vec_vs50_win7_sg0': 0.735556600910665,\n",
       " 'word2vec_vs10_win8_sg0': 0.735439064485656,\n",
       " 'word2vec_vs10_win6_sg0': 0.7350567183314037,\n",
       " 'word2vec_vs100_win3_sg0': 0.7344712085600426,\n",
       " 'word2vec_vs100_win6_sg0': 0.733924674526275,\n",
       " 'word2vec_vs100_win5_sg1': 0.7337341757374113,\n",
       " 'word2vec_vs10_win7_sg1': 0.7335104946631866,\n",
       " 'word2vec_vs100_win8_sg0': 0.7331314869501355,\n",
       " 'word2vec_vs100_win7_sg1': 0.732794154510228,\n",
       " 'word2vec_vs100_win5_sg0': 0.7324184080826537,\n",
       " 'word2vec_vs100_win4_sg0': 0.7322467635724249,\n",
       " 'word2vec_vs10_win3_sg0': 0.7321485894875959,\n",
       " 'word2vec_vs10_win6_sg1': 0.7317103760636192,\n",
       " 'word2vec_vs100_win6_sg1': 0.7316828838174073,\n",
       " 'word2vec_vs100_win8_sg1': 0.7314716134157948,\n",
       " 'word2vec_vs100_win7_sg0': 0.7311435468613274,\n",
       " 'word2vec_vs10_win5_sg1': 0.7289763161098676,\n",
       " 'word2vec_vs10_win8_sg1': 0.728785998405409,\n",
       " 'word2vec_vs100_win4_sg1': 0.7285997174020905,\n",
       " 'word2vec_vs10_win5_sg0': 0.7269032654316346,\n",
       " 'word2vec_vs100_win3_sg1': 0.7256121017610722,\n",
       " 'word2vec_vs250_win5_sg0': 0.7247537918214624,\n",
       " 'word2vec_vs10_win4_sg1': 0.7242098927186652,\n",
       " 'word2vec_vs250_win6_sg0': 0.7236267506048635,\n",
       " 'word2vec_vs250_win8_sg0': 0.7221771308554817,\n",
       " 'word2vec_vs500_win4_sg0': 0.7205998554301516,\n",
       " 'word2vec_vs10_win3_sg1': 0.7199712496185431,\n",
       " 'word2vec_vs10_win4_sg0': 0.7199272156051666,\n",
       " 'word2vec_vs250_win7_sg0': 0.7197747194366626,\n",
       " 'word2vec_vs250_win4_sg0': 0.7195919429520592,\n",
       " 'word2vec_vs1000_win4_sg1': 0.718860273539606,\n",
       " 'word2vec_vs250_win3_sg0': 0.7174777165622312,\n",
       " 'word2vec_vs1000_win6_sg0': 0.7170806316064317,\n",
       " 'word2vec_vs1000_win7_sg0': 0.7168739071185362,\n",
       " 'word2vec_vs250_win7_sg1': 0.7168181779803581,\n",
       " 'word2vec_vs500_win6_sg0': 0.7164810595621336,\n",
       " 'word2vec_vs250_win6_sg1': 0.7164363645062943,\n",
       " 'word2vec_vs1000_win5_sg0': 0.7163422327999502,\n",
       " 'word2vec_vs500_win8_sg1': 0.7155278753643157,\n",
       " 'word2vec_vs500_win7_sg0': 0.7152032770422588,\n",
       " 'word2vec_vs1000_win3_sg1': 0.7149412404496253,\n",
       " 'word2vec_vs250_win8_sg1': 0.7147958335327589,\n",
       " 'word2vec_vs500_win8_sg0': 0.7144600487700291,\n",
       " 'word2vec_vs1000_win7_sg1': 0.7143432564904219,\n",
       " 'word2vec_vs500_win3_sg0': 0.7143251747785484,\n",
       " 'word2vec_vs1000_win6_sg1': 0.7142772774793547,\n",
       " 'word2vec_vs1000_win3_sg0': 0.7142551666512471,\n",
       " 'word2vec_vs250_win5_sg1': 0.7138766811936743,\n",
       " 'word2vec_vs1000_win4_sg0': 0.7138222776782749,\n",
       " 'word2vec_vs1000_win8_sg1': 0.7132843854847268,\n",
       " 'word2vec_vs1000_win5_sg1': 0.7128974591835806,\n",
       " 'word2vec_vs1000_win8_sg0': 0.7124395825314842,\n",
       " 'word2vec_vs250_win4_sg1': 0.7115113047667421,\n",
       " 'word2vec_vs500_win5_sg0': 0.711197397016496,\n",
       " 'word2vec_vs500_win3_sg1': 0.7105932954271077,\n",
       " 'word2vec_vs500_win7_sg1': 0.7100684969876208,\n",
       " 'word2vec_vs500_win6_sg1': 0.7099472029868154,\n",
       " 'word2vec_vs250_win3_sg1': 0.7084431973839976,\n",
       " 'word2vec_vs500_win5_sg1': 0.7077363476858954,\n",
       " 'word2vec_vs500_win4_sg1': 0.7062978549455711}"
      ]
     },
     "execution_count": 6,
     "metadata": {},
     "output_type": "execute_result"
    }
   ],
   "source": [
    "# sort dict by mean f1 in descending order\n",
    "word2vec_mean_f1 = dict(sorted(word2vec_mean_f1.items(), key=lambda item: item[1], reverse=True))\n",
    "word2vec_mean_f1"
   ]
  },
  {
   "cell_type": "code",
   "execution_count": 7,
   "metadata": {},
   "outputs": [
    {
     "data": {
      "text/plain": [
       "{'word2vec_vs20_win5_sg1',\n",
       " 'word2vec_vs20_win6_sg0',\n",
       " 'word2vec_vs20_win6_sg1',\n",
       " 'word2vec_vs20_win7_sg0',\n",
       " 'word2vec_vs20_win7_sg1',\n",
       " 'word2vec_vs20_win8_sg0',\n",
       " 'word2vec_vs20_win8_sg1',\n",
       " 'word2vec_vs50_win6_sg1',\n",
       " 'word2vec_vs50_win7_sg1',\n",
       " 'word2vec_vs50_win8_sg1'}"
      ]
     },
     "execution_count": 7,
     "metadata": {},
     "output_type": "execute_result"
    }
   ],
   "source": [
    "# get first 10 models by auc and their mean auc\n",
    "top_10_auc = dict(list(word2vec_mean_auc.items())[:10])\n",
    "\n",
    "# get first 10 models by f1 and their mean f1\n",
    "top_10_f1 = dict(list(word2vec_mean_f1.items())[:10])\n",
    "\n",
    "\n",
    "\n",
    "\n",
    "# get intersection of top 10 models by auc and f1\n",
    "top_10_auc_f1 = set(top_10_auc.keys()).intersection(set(top_10_f1.keys()))\n",
    "top_10_auc_f1"
   ]
  },
  {
   "cell_type": "code",
   "execution_count": 8,
   "metadata": {},
   "outputs": [
    {
     "data": {
      "text/plain": [
       "{'word2vec_vs20_win8_sg1': 0.7985594775885841,\n",
       " 'word2vec_vs20_win5_sg1': 0.7934048056082214,\n",
       " 'word2vec_vs20_win7_sg1': 0.7930784998717092,\n",
       " 'word2vec_vs20_win6_sg1': 0.7925760510681972,\n",
       " 'word2vec_vs50_win8_sg1': 0.7921365594139467,\n",
       " 'word2vec_vs50_win6_sg1': 0.7921120290851558,\n",
       " 'word2vec_vs50_win7_sg1': 0.7919726210918131,\n",
       " 'word2vec_vs20_win7_sg0': 0.7874124369975362,\n",
       " 'word2vec_vs20_win8_sg0': 0.7873132281308493,\n",
       " 'word2vec_vs20_win6_sg0': 0.7866656113388928}"
      ]
     },
     "execution_count": 8,
     "metadata": {},
     "output_type": "execute_result"
    }
   ],
   "source": [
    "top_10_auc"
   ]
  },
  {
   "cell_type": "code",
   "execution_count": 9,
   "metadata": {},
   "outputs": [
    {
     "data": {
      "text/plain": [
       "{'word2vec_vs20_win8_sg1': 0.7584966696880299,\n",
       " 'word2vec_vs20_win5_sg1': 0.7516058550366965,\n",
       " 'word2vec_vs20_win7_sg1': 0.7511243691590789,\n",
       " 'word2vec_vs20_win6_sg1': 0.7509009497208584,\n",
       " 'word2vec_vs50_win6_sg1': 0.7503886874221374,\n",
       " 'word2vec_vs50_win8_sg1': 0.7495739923452618,\n",
       " 'word2vec_vs50_win7_sg1': 0.7494285067156027,\n",
       " 'word2vec_vs20_win7_sg0': 0.7445854744213045,\n",
       " 'word2vec_vs20_win8_sg0': 0.7445423496217604,\n",
       " 'word2vec_vs20_win6_sg0': 0.7439027990309535}"
      ]
     },
     "execution_count": 9,
     "metadata": {},
     "output_type": "execute_result"
    }
   ],
   "source": [
    "top_10_f1"
   ]
  },
  {
   "cell_type": "markdown",
   "metadata": {},
   "source": [
    "## WINNER - `word2vec_vs20_win8_sg1`\n",
    "Since it was on average the best performing model for both auc and f1 on different predictive models, we will use this model to generate the word embeddings for the rest of the project."
   ]
  }
 ],
 "metadata": {
  "kernelspec": {
   "display_name": "ag",
   "language": "python",
   "name": "python3"
  },
  "language_info": {
   "codemirror_mode": {
    "name": "ipython",
    "version": 3
   },
   "file_extension": ".py",
   "mimetype": "text/x-python",
   "name": "python",
   "nbconvert_exporter": "python",
   "pygments_lexer": "ipython3",
   "version": "3.10.13"
  }
 },
 "nbformat": 4,
 "nbformat_minor": 2
}
