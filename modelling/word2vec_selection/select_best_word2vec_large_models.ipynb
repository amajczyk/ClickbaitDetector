{
 "cells": [
  {
   "cell_type": "code",
   "execution_count": 8,
   "metadata": {},
   "outputs": [
    {
     "name": "stderr",
     "output_type": "stream",
     "text": [
      "[nltk_data] Downloading package punkt to\n",
      "[nltk_data]     /Users/adammajczyk/nltk_data...\n",
      "[nltk_data]   Package punkt is already up-to-date!\n",
      "[nltk_data] Downloading package wordnet to\n",
      "[nltk_data]     /Users/adammajczyk/nltk_data...\n",
      "[nltk_data]   Package wordnet is already up-to-date!\n",
      "[nltk_data] Downloading package punkt to\n",
      "[nltk_data]     /Users/adammajczyk/nltk_data...\n",
      "[nltk_data]   Package punkt is already up-to-date!\n",
      "[nltk_data] Downloading package averaged_perceptron_tagger to\n",
      "[nltk_data]     /Users/adammajczyk/nltk_data...\n",
      "[nltk_data]   Package averaged_perceptron_tagger is already up-to-\n",
      "[nltk_data]       date!\n",
      "[nltk_data] Downloading package words to\n",
      "[nltk_data]     /Users/adammajczyk/nltk_data...\n",
      "[nltk_data]   Package words is already up-to-date!\n"
     ]
    }
   ],
   "source": [
    "import pandas as pd\n",
    "import numpy as np\n",
    "import os\n",
    "\n",
    "from gensim.models import Word2Vec\n",
    "\n",
    "from classes import *\n",
    "\n",
    "%run functions.py"
   ]
  },
  {
   "cell_type": "code",
   "execution_count": 9,
   "metadata": {},
   "outputs": [],
   "source": [
    "from catboost import CatBoostClassifier\n",
    "from xgboost import XGBClassifier\n",
    "from lightgbm import LGBMClassifier\n",
    "from sklearn.neighbors import KNeighborsClassifier\n",
    "from sklearn.svm import SVC\n",
    "from sklearn.linear_model import LogisticRegression \n",
    "from sklearn.ensemble import RandomForestClassifier\n",
    "from sklearn.tree import DecisionTreeClassifier\n",
    "\n",
    "from sklearn.metrics import f1_score, roc_auc_score\n",
    "\n",
    "from sklearn.model_selection import train_test_split\n",
    "\n",
    "from sklearn.preprocessing import StandardScaler\n"
   ]
  },
  {
   "cell_type": "code",
   "execution_count": 10,
   "metadata": {},
   "outputs": [
    {
     "data": {
      "text/html": [
       "<div>\n",
       "<style scoped>\n",
       "    .dataframe tbody tr th:only-of-type {\n",
       "        vertical-align: middle;\n",
       "    }\n",
       "\n",
       "    .dataframe tbody tr th {\n",
       "        vertical-align: top;\n",
       "    }\n",
       "\n",
       "    .dataframe thead th {\n",
       "        text-align: right;\n",
       "    }\n",
       "</style>\n",
       "<table border=\"1\" class=\"dataframe\">\n",
       "  <thead>\n",
       "    <tr style=\"text-align: right;\">\n",
       "      <th></th>\n",
       "      <th>title</th>\n",
       "      <th>is_clickbait</th>\n",
       "      <th>text</th>\n",
       "      <th>dataset</th>\n",
       "      <th>sample</th>\n",
       "    </tr>\n",
       "  </thead>\n",
       "  <tbody>\n",
       "    <tr>\n",
       "      <th>0</th>\n",
       "      <td>17 Times \"Game Of Thrones\" Matched Up Perfectl...</td>\n",
       "      <td>1</td>\n",
       "      <td>NaN</td>\n",
       "      <td>clickbait-dataset</td>\n",
       "      <td>train</td>\n",
       "    </tr>\n",
       "    <tr>\n",
       "      <th>1</th>\n",
       "      <td>Facing Texas in Tar Heels Territory, Duke Find...</td>\n",
       "      <td>0</td>\n",
       "      <td>NaN</td>\n",
       "      <td>clickbait-dataset</td>\n",
       "      <td>train</td>\n",
       "    </tr>\n",
       "    <tr>\n",
       "      <th>2</th>\n",
       "      <td>Several GOP States Move to Block Their Own Fun...</td>\n",
       "      <td>0</td>\n",
       "      <td>A number of GOP states have moved to introduce...</td>\n",
       "      <td>clickbait-news-detection</td>\n",
       "      <td>train</td>\n",
       "    </tr>\n",
       "    <tr>\n",
       "      <th>3</th>\n",
       "      <td>For Hillary Clinton and John Kerry, Divergent ...</td>\n",
       "      <td>0</td>\n",
       "      <td>WASHINGTON  —   Early in 2011, after a hectic ...</td>\n",
       "      <td>fake-news</td>\n",
       "      <td>train</td>\n",
       "    </tr>\n",
       "    <tr>\n",
       "      <th>4</th>\n",
       "      <td>Wikinews interviews Kevin Baugh, president of ...</td>\n",
       "      <td>0</td>\n",
       "      <td>NaN</td>\n",
       "      <td>clickbait-dataset</td>\n",
       "      <td>train</td>\n",
       "    </tr>\n",
       "  </tbody>\n",
       "</table>\n",
       "</div>"
      ],
      "text/plain": [
       "                                               title  is_clickbait  \\\n",
       "0  17 Times \"Game Of Thrones\" Matched Up Perfectl...             1   \n",
       "1  Facing Texas in Tar Heels Territory, Duke Find...             0   \n",
       "2  Several GOP States Move to Block Their Own Fun...             0   \n",
       "3  For Hillary Clinton and John Kerry, Divergent ...             0   \n",
       "4  Wikinews interviews Kevin Baugh, president of ...             0   \n",
       "\n",
       "                                                text  \\\n",
       "0                                                NaN   \n",
       "1                                                NaN   \n",
       "2  A number of GOP states have moved to introduce...   \n",
       "3  WASHINGTON  —   Early in 2011, after a hectic ...   \n",
       "4                                                NaN   \n",
       "\n",
       "                    dataset sample  \n",
       "0         clickbait-dataset  train  \n",
       "1         clickbait-dataset  train  \n",
       "2  clickbait-news-detection  train  \n",
       "3                 fake-news  train  \n",
       "4         clickbait-dataset  train  "
      ]
     },
     "execution_count": 10,
     "metadata": {},
     "output_type": "execute_result"
    }
   ],
   "source": [
    "# if data not saved as csv, run this\n",
    "import os\n",
    "if not os.path.exists('../data/merged_titles_labels.csv'):\n",
    "    df1 = pd.read_csv('../eda/small1/labeled.csv')\n",
    "    df2 = pd.read_csv('../eda/small2/labeled.csv')\n",
    "    df3 = pd.read_csv('../eda/small3/labeled.csv')\n",
    "    df = pd.concat([df1, df2, df3], ignore_index=True).reset_index(drop=True)\n",
    "    df.to_csv('data/merged_titles_labels.csv', index=False)\n",
    "    df.head()\n",
    "else:\n",
    "    df = pd.read_csv('../data/merged_titles_labels.csv')\n",
    "df.head()\n"
   ]
  },
  {
   "cell_type": "code",
   "execution_count": 11,
   "metadata": {},
   "outputs": [
    {
     "name": "stderr",
     "output_type": "stream",
     "text": [
      "[nltk_data] Downloading package punkt to\n",
      "[nltk_data]     /Users/adammajczyk/nltk_data...\n",
      "[nltk_data]   Package punkt is already up-to-date!\n",
      "[nltk_data] Downloading package wordnet to\n",
      "[nltk_data]     /Users/adammajczyk/nltk_data...\n",
      "[nltk_data]   Package wordnet is already up-to-date!\n",
      "[nltk_data] Downloading package punkt to\n",
      "[nltk_data]     /Users/adammajczyk/nltk_data...\n",
      "[nltk_data]   Package punkt is already up-to-date!\n",
      "[nltk_data] Downloading package averaged_perceptron_tagger to\n",
      "[nltk_data]     /Users/adammajczyk/nltk_data...\n",
      "[nltk_data]   Package averaged_perceptron_tagger is already up-to-\n",
      "[nltk_data]       date!\n",
      "[nltk_data] Downloading package words to\n",
      "[nltk_data]     /Users/adammajczyk/nltk_data...\n",
      "[nltk_data]   Package words is already up-to-date!\n"
     ]
    },
    {
     "data": {
      "text/html": [
       "<div>\n",
       "<style scoped>\n",
       "    .dataframe tbody tr th:only-of-type {\n",
       "        vertical-align: middle;\n",
       "    }\n",
       "\n",
       "    .dataframe tbody tr th {\n",
       "        vertical-align: top;\n",
       "    }\n",
       "\n",
       "    .dataframe thead th {\n",
       "        text-align: right;\n",
       "    }\n",
       "</style>\n",
       "<table border=\"1\" class=\"dataframe\">\n",
       "  <thead>\n",
       "    <tr style=\"text-align: right;\">\n",
       "      <th></th>\n",
       "      <th>title</th>\n",
       "      <th>is_clickbait</th>\n",
       "      <th>text</th>\n",
       "      <th>dataset</th>\n",
       "      <th>sample</th>\n",
       "    </tr>\n",
       "  </thead>\n",
       "  <tbody>\n",
       "    <tr>\n",
       "      <th>0</th>\n",
       "      <td>[seventeen, time, game, throne, matched, perfe...</td>\n",
       "      <td>1</td>\n",
       "      <td>NaN</td>\n",
       "      <td>clickbait-dataset</td>\n",
       "      <td>train</td>\n",
       "    </tr>\n",
       "    <tr>\n",
       "      <th>1</th>\n",
       "      <td>[facing, texas, tar, heel, territory, duke, fi...</td>\n",
       "      <td>0</td>\n",
       "      <td>NaN</td>\n",
       "      <td>clickbait-dataset</td>\n",
       "      <td>train</td>\n",
       "    </tr>\n",
       "    <tr>\n",
       "      <th>2</th>\n",
       "      <td>[several, gop, state, move, block, funding, sa...</td>\n",
       "      <td>0</td>\n",
       "      <td>A number of GOP states have moved to introduce...</td>\n",
       "      <td>clickbait-news-detection</td>\n",
       "      <td>train</td>\n",
       "    </tr>\n",
       "    <tr>\n",
       "      <th>3</th>\n",
       "      <td>[hillary, clinton, john, kerry, divergent, pat...</td>\n",
       "      <td>0</td>\n",
       "      <td>WASHINGTON  —   Early in 2011, after a hectic ...</td>\n",
       "      <td>fake-news</td>\n",
       "      <td>train</td>\n",
       "    </tr>\n",
       "    <tr>\n",
       "      <th>4</th>\n",
       "      <td>[wikinews, interview, kevin, baugh, president,...</td>\n",
       "      <td>0</td>\n",
       "      <td>NaN</td>\n",
       "      <td>clickbait-dataset</td>\n",
       "      <td>train</td>\n",
       "    </tr>\n",
       "  </tbody>\n",
       "</table>\n",
       "</div>"
      ],
      "text/plain": [
       "                                               title  is_clickbait  \\\n",
       "0  [seventeen, time, game, throne, matched, perfe...             1   \n",
       "1  [facing, texas, tar, heel, territory, duke, fi...             0   \n",
       "2  [several, gop, state, move, block, funding, sa...             0   \n",
       "3  [hillary, clinton, john, kerry, divergent, pat...             0   \n",
       "4  [wikinews, interview, kevin, baugh, president,...             0   \n",
       "\n",
       "                                                text  \\\n",
       "0                                                NaN   \n",
       "1                                                NaN   \n",
       "2  A number of GOP states have moved to introduce...   \n",
       "3  WASHINGTON  —   Early in 2011, after a hectic ...   \n",
       "4                                                NaN   \n",
       "\n",
       "                    dataset sample  \n",
       "0         clickbait-dataset  train  \n",
       "1         clickbait-dataset  train  \n",
       "2  clickbait-news-detection  train  \n",
       "3                 fake-news  train  \n",
       "4         clickbait-dataset  train  "
      ]
     },
     "execution_count": 11,
     "metadata": {},
     "output_type": "execute_result"
    }
   ],
   "source": [
    "%run functions.py\n",
    "if not os.path.exists('../data/preprocessed_titles_labels.pkl'):\n",
    "    df = preprocess_title(df, verbose=True)\n",
    "    df.to_pickle('data/preprocessed_titles_labels.pkl') \n",
    "\n",
    "else:\n",
    "    df = pd.read_pickle('../data/preprocessed_titles_labels.pkl')\n",
    "df.head()"
   ]
  },
  {
   "cell_type": "code",
   "execution_count": 12,
   "metadata": {},
   "outputs": [
    {
     "data": {
      "text/plain": [
       "[]"
      ]
     },
     "execution_count": 12,
     "metadata": {},
     "output_type": "execute_result"
    }
   ],
   "source": [
    "# read results from previous runs json file\n",
    "save_path = 'results/word2vec_results_500_1000.json'\n",
    "import json\n",
    "\n",
    "# if file doesn't exist, create it\n",
    "if not os.path.exists(save_path):\n",
    "    with open(save_path, 'w') as f:\n",
    "        json.dump({}, f)\n",
    "with open(save_path, 'r') as f:\n",
    "    word2vec_results = json.load(f)\n",
    "\n",
    "\n",
    "# get all the models from the results\n",
    "models_already_trained = []\n",
    "for model in word2vec_results:\n",
    "    models_already_trained.append(model)\n",
    "models_already_trained = [model + \".model\" for model in models_already_trained]\n",
    "models_already_trained"
   ]
  },
  {
   "cell_type": "code",
   "execution_count": 13,
   "metadata": {},
   "outputs": [
    {
     "name": "stdout",
     "output_type": "stream",
     "text": [
      "['word2vec_vs500_win7_sg0.model', 'word2vec_vs500_win6_sg1.model', 'word2vec_vs500_win6_sg0.model', 'word2vec_vs500_win7_sg1.model', 'word2vec_vs500_win3_sg0.model', 'word2vec_vs500_win5_sg0.model', 'word2vec_vs500_win8_sg0.model', 'word2vec_vs500_win4_sg1.model', 'word2vec_vs500_win3_sg1.model', 'word2vec_vs500_win4_sg0.model', 'word2vec_vs500_win8_sg1.model', 'word2vec_vs500_win5_sg1.model', 'word2vec_vs1000_win5_sg1.model', 'word2vec_vs1000_win4_sg0.model', 'word2vec_vs1000_win8_sg1.model', 'word2vec_vs1000_win3_sg1.model', 'word2vec_vs1000_win8_sg0.model', 'word2vec_vs1000_win4_sg1.model', 'word2vec_vs1000_win5_sg0.model', 'word2vec_vs1000_win3_sg0.model', 'word2vec_vs1000_win7_sg1.model', 'word2vec_vs1000_win6_sg0.model', 'word2vec_vs1000_win6_sg1.model', 'word2vec_vs1000_win7_sg0.model']\n"
     ]
    }
   ],
   "source": [
    "from tqdm import tqdm\n",
    "import copy as cp\n",
    "\n",
    "\n",
    "files = os.listdir('../word2vec_models')\n",
    "files = [file for file in files if file.endswith('.model')]\n",
    "\n",
    "files500 = [file for file in files if file.startswith('word2vec_vs500_')]\n",
    "files1000 = [file for file in files if file.startswith('word2vec_vs1000_')]\n",
    "\n",
    "\n",
    "files = files500 + files1000\n",
    "\n",
    "# remove the files that have already been trained\n",
    "files = [file for file in files if file not in models_already_trained]\n",
    "\n",
    "print(files)\n"
   ]
  },
  {
   "cell_type": "code",
   "execution_count": 14,
   "metadata": {},
   "outputs": [
    {
     "data": {
      "application/vnd.jupyter.widget-view+json": {
       "model_id": "9cae4b61c47a49d5af94b5c84ef1470d",
       "version_major": 2,
       "version_minor": 0
      },
      "text/plain": [
       "  0%|          | 0/24 [00:00<?, ?it/s]"
      ]
     },
     "metadata": {},
     "output_type": "display_data"
    },
    {
     "data": {
      "application/vnd.jupyter.widget-view+json": {
       "model_id": "a9dac9814bb347f9b45f47113ac4cf1a",
       "version_major": 2,
       "version_minor": 0
      },
      "text/plain": [
       "Predictive Models for word2vec_vs500_win7_sg0:   0%|          | 0/5 [00:00<?, ?it/s]"
      ]
     },
     "metadata": {},
     "output_type": "display_data"
    },
    {
     "data": {
      "application/vnd.jupyter.widget-view+json": {
       "model_id": "6649bb79dd034e83b56287c9eefa0ffd",
       "version_major": 2,
       "version_minor": 0
      },
      "text/plain": [
       "catboost submodels:   0%|          | 0/3 [00:00<?, ?it/s]"
      ]
     },
     "metadata": {},
     "output_type": "display_data"
    },
    {
     "data": {
      "application/vnd.jupyter.widget-view+json": {
       "model_id": "afe5e640a51b4d64bad23889e8823e1c",
       "version_major": 2,
       "version_minor": 0
      },
      "text/plain": [
       "lightgbm submodels:   0%|          | 0/3 [00:00<?, ?it/s]"
      ]
     },
     "metadata": {},
     "output_type": "display_data"
    },
    {
     "data": {
      "application/vnd.jupyter.widget-view+json": {
       "model_id": "4932e81fd1af413d8b068f9a28481201",
       "version_major": 2,
       "version_minor": 0
      },
      "text/plain": [
       "knn submodels:   0%|          | 0/3 [00:00<?, ?it/s]"
      ]
     },
     "metadata": {},
     "output_type": "display_data"
    },
    {
     "data": {
      "application/vnd.jupyter.widget-view+json": {
       "model_id": "c1b6840cf2a14b1b9079ae5008e5c2fd",
       "version_major": 2,
       "version_minor": 0
      },
      "text/plain": [
       "randomforest submodels:   0%|          | 0/3 [00:00<?, ?it/s]"
      ]
     },
     "metadata": {},
     "output_type": "display_data"
    },
    {
     "data": {
      "application/vnd.jupyter.widget-view+json": {
       "model_id": "3eae929cd6d9444995bee0db4bc64486",
       "version_major": 2,
       "version_minor": 0
      },
      "text/plain": [
       "decisiontree submodels:   0%|          | 0/3 [00:00<?, ?it/s]"
      ]
     },
     "metadata": {},
     "output_type": "display_data"
    },
    {
     "name": "stdout",
     "output_type": "stream",
     "text": [
      "word2vec_vs500_win7_sg0 done and updated json\n"
     ]
    },
    {
     "data": {
      "application/vnd.jupyter.widget-view+json": {
       "model_id": "5b9322aaecde44aca78138a08e529d41",
       "version_major": 2,
       "version_minor": 0
      },
      "text/plain": [
       "Predictive Models for word2vec_vs500_win6_sg1:   0%|          | 0/5 [00:00<?, ?it/s]"
      ]
     },
     "metadata": {},
     "output_type": "display_data"
    },
    {
     "data": {
      "application/vnd.jupyter.widget-view+json": {
       "model_id": "2f1958e36e2a41a2be471f4915fcbeb1",
       "version_major": 2,
       "version_minor": 0
      },
      "text/plain": [
       "catboost submodels:   0%|          | 0/3 [00:00<?, ?it/s]"
      ]
     },
     "metadata": {},
     "output_type": "display_data"
    },
    {
     "data": {
      "application/vnd.jupyter.widget-view+json": {
       "model_id": "4ffb008757364ddabf01e938789b58b5",
       "version_major": 2,
       "version_minor": 0
      },
      "text/plain": [
       "lightgbm submodels:   0%|          | 0/3 [00:00<?, ?it/s]"
      ]
     },
     "metadata": {},
     "output_type": "display_data"
    },
    {
     "data": {
      "application/vnd.jupyter.widget-view+json": {
       "model_id": "ea8e2eef76264a338b07f989b7b70a79",
       "version_major": 2,
       "version_minor": 0
      },
      "text/plain": [
       "knn submodels:   0%|          | 0/3 [00:00<?, ?it/s]"
      ]
     },
     "metadata": {},
     "output_type": "display_data"
    },
    {
     "data": {
      "application/vnd.jupyter.widget-view+json": {
       "model_id": "ea75b83579064d8f86c2752261271c08",
       "version_major": 2,
       "version_minor": 0
      },
      "text/plain": [
       "randomforest submodels:   0%|          | 0/3 [00:00<?, ?it/s]"
      ]
     },
     "metadata": {},
     "output_type": "display_data"
    },
    {
     "data": {
      "application/vnd.jupyter.widget-view+json": {
       "model_id": "e78b0857f3d74c0ab757a072a296bf22",
       "version_major": 2,
       "version_minor": 0
      },
      "text/plain": [
       "decisiontree submodels:   0%|          | 0/3 [00:00<?, ?it/s]"
      ]
     },
     "metadata": {},
     "output_type": "display_data"
    },
    {
     "name": "stdout",
     "output_type": "stream",
     "text": [
      "word2vec_vs500_win6_sg1 done and updated json\n"
     ]
    },
    {
     "data": {
      "application/vnd.jupyter.widget-view+json": {
       "model_id": "d628004745494003b23e47946c6c8048",
       "version_major": 2,
       "version_minor": 0
      },
      "text/plain": [
       "Predictive Models for word2vec_vs500_win6_sg0:   0%|          | 0/5 [00:00<?, ?it/s]"
      ]
     },
     "metadata": {},
     "output_type": "display_data"
    },
    {
     "data": {
      "application/vnd.jupyter.widget-view+json": {
       "model_id": "6fa1e9ca70304b7984fa9eea170fc24a",
       "version_major": 2,
       "version_minor": 0
      },
      "text/plain": [
       "catboost submodels:   0%|          | 0/3 [00:00<?, ?it/s]"
      ]
     },
     "metadata": {},
     "output_type": "display_data"
    },
    {
     "data": {
      "application/vnd.jupyter.widget-view+json": {
       "model_id": "4d4e92a82bdd4f52bb03473dd94c4f19",
       "version_major": 2,
       "version_minor": 0
      },
      "text/plain": [
       "lightgbm submodels:   0%|          | 0/3 [00:00<?, ?it/s]"
      ]
     },
     "metadata": {},
     "output_type": "display_data"
    },
    {
     "data": {
      "application/vnd.jupyter.widget-view+json": {
       "model_id": "61deee18cad0490c82e8df6fd4705873",
       "version_major": 2,
       "version_minor": 0
      },
      "text/plain": [
       "knn submodels:   0%|          | 0/3 [00:00<?, ?it/s]"
      ]
     },
     "metadata": {},
     "output_type": "display_data"
    },
    {
     "data": {
      "application/vnd.jupyter.widget-view+json": {
       "model_id": "dfec86ac3e244b42857ca2a4e8094a7e",
       "version_major": 2,
       "version_minor": 0
      },
      "text/plain": [
       "randomforest submodels:   0%|          | 0/3 [00:00<?, ?it/s]"
      ]
     },
     "metadata": {},
     "output_type": "display_data"
    },
    {
     "data": {
      "application/vnd.jupyter.widget-view+json": {
       "model_id": "c78f4db4174a43bab6d0adef373bfd3f",
       "version_major": 2,
       "version_minor": 0
      },
      "text/plain": [
       "decisiontree submodels:   0%|          | 0/3 [00:00<?, ?it/s]"
      ]
     },
     "metadata": {},
     "output_type": "display_data"
    },
    {
     "name": "stdout",
     "output_type": "stream",
     "text": [
      "word2vec_vs500_win6_sg0 done and updated json\n"
     ]
    },
    {
     "data": {
      "application/vnd.jupyter.widget-view+json": {
       "model_id": "e05e95eeb20d493ba325f9b1d67396c9",
       "version_major": 2,
       "version_minor": 0
      },
      "text/plain": [
       "Predictive Models for word2vec_vs500_win7_sg1:   0%|          | 0/5 [00:00<?, ?it/s]"
      ]
     },
     "metadata": {},
     "output_type": "display_data"
    },
    {
     "data": {
      "application/vnd.jupyter.widget-view+json": {
       "model_id": "ab459610052044e18c6cbc0238498a39",
       "version_major": 2,
       "version_minor": 0
      },
      "text/plain": [
       "catboost submodels:   0%|          | 0/3 [00:00<?, ?it/s]"
      ]
     },
     "metadata": {},
     "output_type": "display_data"
    },
    {
     "data": {
      "application/vnd.jupyter.widget-view+json": {
       "model_id": "5deab4b375a74db4b60ea40a5e23bfda",
       "version_major": 2,
       "version_minor": 0
      },
      "text/plain": [
       "lightgbm submodels:   0%|          | 0/3 [00:00<?, ?it/s]"
      ]
     },
     "metadata": {},
     "output_type": "display_data"
    },
    {
     "data": {
      "application/vnd.jupyter.widget-view+json": {
       "model_id": "3163e2e1063c4a6db660bd2c59f009b2",
       "version_major": 2,
       "version_minor": 0
      },
      "text/plain": [
       "knn submodels:   0%|          | 0/3 [00:00<?, ?it/s]"
      ]
     },
     "metadata": {},
     "output_type": "display_data"
    },
    {
     "data": {
      "application/vnd.jupyter.widget-view+json": {
       "model_id": "344b9220d89f4c2685ec39b588a4318b",
       "version_major": 2,
       "version_minor": 0
      },
      "text/plain": [
       "randomforest submodels:   0%|          | 0/3 [00:00<?, ?it/s]"
      ]
     },
     "metadata": {},
     "output_type": "display_data"
    },
    {
     "data": {
      "application/vnd.jupyter.widget-view+json": {
       "model_id": "628d93535ee14090b8f9bda9870438e1",
       "version_major": 2,
       "version_minor": 0
      },
      "text/plain": [
       "decisiontree submodels:   0%|          | 0/3 [00:00<?, ?it/s]"
      ]
     },
     "metadata": {},
     "output_type": "display_data"
    },
    {
     "name": "stdout",
     "output_type": "stream",
     "text": [
      "word2vec_vs500_win7_sg1 done and updated json\n"
     ]
    },
    {
     "data": {
      "application/vnd.jupyter.widget-view+json": {
       "model_id": "e47d819fe6214064ac81dbff0d548de1",
       "version_major": 2,
       "version_minor": 0
      },
      "text/plain": [
       "Predictive Models for word2vec_vs500_win3_sg0:   0%|          | 0/5 [00:00<?, ?it/s]"
      ]
     },
     "metadata": {},
     "output_type": "display_data"
    },
    {
     "data": {
      "application/vnd.jupyter.widget-view+json": {
       "model_id": "6f7bcea4f4af4138bfdaf2de8350fba5",
       "version_major": 2,
       "version_minor": 0
      },
      "text/plain": [
       "catboost submodels:   0%|          | 0/3 [00:00<?, ?it/s]"
      ]
     },
     "metadata": {},
     "output_type": "display_data"
    },
    {
     "data": {
      "application/vnd.jupyter.widget-view+json": {
       "model_id": "63008339118b4dc5a921a40d8aa7fc5e",
       "version_major": 2,
       "version_minor": 0
      },
      "text/plain": [
       "lightgbm submodels:   0%|          | 0/3 [00:00<?, ?it/s]"
      ]
     },
     "metadata": {},
     "output_type": "display_data"
    },
    {
     "data": {
      "application/vnd.jupyter.widget-view+json": {
       "model_id": "95a1e67fd2e44cee9873d8a4b114cf79",
       "version_major": 2,
       "version_minor": 0
      },
      "text/plain": [
       "knn submodels:   0%|          | 0/3 [00:00<?, ?it/s]"
      ]
     },
     "metadata": {},
     "output_type": "display_data"
    },
    {
     "data": {
      "application/vnd.jupyter.widget-view+json": {
       "model_id": "b936da47bd6d48d4b83a96e8e53b7ff7",
       "version_major": 2,
       "version_minor": 0
      },
      "text/plain": [
       "randomforest submodels:   0%|          | 0/3 [00:00<?, ?it/s]"
      ]
     },
     "metadata": {},
     "output_type": "display_data"
    },
    {
     "data": {
      "application/vnd.jupyter.widget-view+json": {
       "model_id": "647e30289b00424a96a3f435bcc6565f",
       "version_major": 2,
       "version_minor": 0
      },
      "text/plain": [
       "decisiontree submodels:   0%|          | 0/3 [00:00<?, ?it/s]"
      ]
     },
     "metadata": {},
     "output_type": "display_data"
    },
    {
     "name": "stdout",
     "output_type": "stream",
     "text": [
      "word2vec_vs500_win3_sg0 done and updated json\n"
     ]
    },
    {
     "data": {
      "application/vnd.jupyter.widget-view+json": {
       "model_id": "6505e5f328b645a287da52662de97850",
       "version_major": 2,
       "version_minor": 0
      },
      "text/plain": [
       "Predictive Models for word2vec_vs500_win5_sg0:   0%|          | 0/5 [00:00<?, ?it/s]"
      ]
     },
     "metadata": {},
     "output_type": "display_data"
    },
    {
     "data": {
      "application/vnd.jupyter.widget-view+json": {
       "model_id": "bd65b544f38c45d2810554752ca5814b",
       "version_major": 2,
       "version_minor": 0
      },
      "text/plain": [
       "catboost submodels:   0%|          | 0/3 [00:00<?, ?it/s]"
      ]
     },
     "metadata": {},
     "output_type": "display_data"
    },
    {
     "data": {
      "application/vnd.jupyter.widget-view+json": {
       "model_id": "9cf9b78745ba42b98175b35d40b8527d",
       "version_major": 2,
       "version_minor": 0
      },
      "text/plain": [
       "lightgbm submodels:   0%|          | 0/3 [00:00<?, ?it/s]"
      ]
     },
     "metadata": {},
     "output_type": "display_data"
    },
    {
     "data": {
      "application/vnd.jupyter.widget-view+json": {
       "model_id": "e3d8e37a38db4545a5de343f2cd328ee",
       "version_major": 2,
       "version_minor": 0
      },
      "text/plain": [
       "knn submodels:   0%|          | 0/3 [00:00<?, ?it/s]"
      ]
     },
     "metadata": {},
     "output_type": "display_data"
    },
    {
     "data": {
      "application/vnd.jupyter.widget-view+json": {
       "model_id": "2b768966098d4abe93f844a6e8c000ef",
       "version_major": 2,
       "version_minor": 0
      },
      "text/plain": [
       "randomforest submodels:   0%|          | 0/3 [00:00<?, ?it/s]"
      ]
     },
     "metadata": {},
     "output_type": "display_data"
    },
    {
     "data": {
      "application/vnd.jupyter.widget-view+json": {
       "model_id": "cafe13bec35e419ba3c7c172832a26f0",
       "version_major": 2,
       "version_minor": 0
      },
      "text/plain": [
       "decisiontree submodels:   0%|          | 0/3 [00:00<?, ?it/s]"
      ]
     },
     "metadata": {},
     "output_type": "display_data"
    },
    {
     "name": "stdout",
     "output_type": "stream",
     "text": [
      "word2vec_vs500_win5_sg0 done and updated json\n"
     ]
    },
    {
     "data": {
      "application/vnd.jupyter.widget-view+json": {
       "model_id": "2ef61f76dc9b487791fa639532bc2124",
       "version_major": 2,
       "version_minor": 0
      },
      "text/plain": [
       "Predictive Models for word2vec_vs500_win8_sg0:   0%|          | 0/5 [00:00<?, ?it/s]"
      ]
     },
     "metadata": {},
     "output_type": "display_data"
    },
    {
     "data": {
      "application/vnd.jupyter.widget-view+json": {
       "model_id": "5f622018c7e043e5a83165ee13ac675a",
       "version_major": 2,
       "version_minor": 0
      },
      "text/plain": [
       "catboost submodels:   0%|          | 0/3 [00:00<?, ?it/s]"
      ]
     },
     "metadata": {},
     "output_type": "display_data"
    },
    {
     "data": {
      "application/vnd.jupyter.widget-view+json": {
       "model_id": "ee05055f1a794eebbf98ad6d659f737a",
       "version_major": 2,
       "version_minor": 0
      },
      "text/plain": [
       "lightgbm submodels:   0%|          | 0/3 [00:00<?, ?it/s]"
      ]
     },
     "metadata": {},
     "output_type": "display_data"
    },
    {
     "data": {
      "application/vnd.jupyter.widget-view+json": {
       "model_id": "77a8e3f0d2a944089ce25f19e8049c9c",
       "version_major": 2,
       "version_minor": 0
      },
      "text/plain": [
       "knn submodels:   0%|          | 0/3 [00:00<?, ?it/s]"
      ]
     },
     "metadata": {},
     "output_type": "display_data"
    },
    {
     "data": {
      "application/vnd.jupyter.widget-view+json": {
       "model_id": "b65a24b3d6c14a5d8ab241d751ab0212",
       "version_major": 2,
       "version_minor": 0
      },
      "text/plain": [
       "randomforest submodels:   0%|          | 0/3 [00:00<?, ?it/s]"
      ]
     },
     "metadata": {},
     "output_type": "display_data"
    },
    {
     "data": {
      "application/vnd.jupyter.widget-view+json": {
       "model_id": "563755fba69d4e4fbcf089c70db3eff3",
       "version_major": 2,
       "version_minor": 0
      },
      "text/plain": [
       "decisiontree submodels:   0%|          | 0/3 [00:00<?, ?it/s]"
      ]
     },
     "metadata": {},
     "output_type": "display_data"
    },
    {
     "name": "stdout",
     "output_type": "stream",
     "text": [
      "word2vec_vs500_win8_sg0 done and updated json\n"
     ]
    },
    {
     "data": {
      "application/vnd.jupyter.widget-view+json": {
       "model_id": "26365637a174465aac0d76996aca543d",
       "version_major": 2,
       "version_minor": 0
      },
      "text/plain": [
       "Predictive Models for word2vec_vs500_win4_sg1:   0%|          | 0/5 [00:00<?, ?it/s]"
      ]
     },
     "metadata": {},
     "output_type": "display_data"
    },
    {
     "data": {
      "application/vnd.jupyter.widget-view+json": {
       "model_id": "501a2b420edd42059be6f4c855f6c613",
       "version_major": 2,
       "version_minor": 0
      },
      "text/plain": [
       "catboost submodels:   0%|          | 0/3 [00:00<?, ?it/s]"
      ]
     },
     "metadata": {},
     "output_type": "display_data"
    },
    {
     "data": {
      "application/vnd.jupyter.widget-view+json": {
       "model_id": "0d1485cc0bf24c64939e3fae2da7b098",
       "version_major": 2,
       "version_minor": 0
      },
      "text/plain": [
       "lightgbm submodels:   0%|          | 0/3 [00:00<?, ?it/s]"
      ]
     },
     "metadata": {},
     "output_type": "display_data"
    },
    {
     "data": {
      "application/vnd.jupyter.widget-view+json": {
       "model_id": "84b5941f31e9423a95662c9f6d93709e",
       "version_major": 2,
       "version_minor": 0
      },
      "text/plain": [
       "knn submodels:   0%|          | 0/3 [00:00<?, ?it/s]"
      ]
     },
     "metadata": {},
     "output_type": "display_data"
    },
    {
     "data": {
      "application/vnd.jupyter.widget-view+json": {
       "model_id": "829819ac87054dc2959424ce892cd32f",
       "version_major": 2,
       "version_minor": 0
      },
      "text/plain": [
       "randomforest submodels:   0%|          | 0/3 [00:00<?, ?it/s]"
      ]
     },
     "metadata": {},
     "output_type": "display_data"
    },
    {
     "data": {
      "application/vnd.jupyter.widget-view+json": {
       "model_id": "d2dc5b0ef1df4173b1c51f714da1e266",
       "version_major": 2,
       "version_minor": 0
      },
      "text/plain": [
       "decisiontree submodels:   0%|          | 0/3 [00:00<?, ?it/s]"
      ]
     },
     "metadata": {},
     "output_type": "display_data"
    },
    {
     "name": "stdout",
     "output_type": "stream",
     "text": [
      "word2vec_vs500_win4_sg1 done and updated json\n"
     ]
    },
    {
     "data": {
      "application/vnd.jupyter.widget-view+json": {
       "model_id": "8741aca319b4471682560e200bdd70c3",
       "version_major": 2,
       "version_minor": 0
      },
      "text/plain": [
       "Predictive Models for word2vec_vs500_win3_sg1:   0%|          | 0/5 [00:00<?, ?it/s]"
      ]
     },
     "metadata": {},
     "output_type": "display_data"
    },
    {
     "data": {
      "application/vnd.jupyter.widget-view+json": {
       "model_id": "67bd1c556b5e4a30b4270a6fd02070bb",
       "version_major": 2,
       "version_minor": 0
      },
      "text/plain": [
       "catboost submodels:   0%|          | 0/3 [00:00<?, ?it/s]"
      ]
     },
     "metadata": {},
     "output_type": "display_data"
    },
    {
     "data": {
      "application/vnd.jupyter.widget-view+json": {
       "model_id": "61d891d6567d4eb3b38f56c842bc345f",
       "version_major": 2,
       "version_minor": 0
      },
      "text/plain": [
       "lightgbm submodels:   0%|          | 0/3 [00:00<?, ?it/s]"
      ]
     },
     "metadata": {},
     "output_type": "display_data"
    },
    {
     "data": {
      "application/vnd.jupyter.widget-view+json": {
       "model_id": "15cc4f0227894eba9197551c774aad45",
       "version_major": 2,
       "version_minor": 0
      },
      "text/plain": [
       "knn submodels:   0%|          | 0/3 [00:00<?, ?it/s]"
      ]
     },
     "metadata": {},
     "output_type": "display_data"
    },
    {
     "data": {
      "application/vnd.jupyter.widget-view+json": {
       "model_id": "0615e75c09a846caba41f6faa5a28532",
       "version_major": 2,
       "version_minor": 0
      },
      "text/plain": [
       "randomforest submodels:   0%|          | 0/3 [00:00<?, ?it/s]"
      ]
     },
     "metadata": {},
     "output_type": "display_data"
    },
    {
     "data": {
      "application/vnd.jupyter.widget-view+json": {
       "model_id": "72fda6c04b35421e9f956e4d84a43f70",
       "version_major": 2,
       "version_minor": 0
      },
      "text/plain": [
       "decisiontree submodels:   0%|          | 0/3 [00:00<?, ?it/s]"
      ]
     },
     "metadata": {},
     "output_type": "display_data"
    },
    {
     "name": "stdout",
     "output_type": "stream",
     "text": [
      "word2vec_vs500_win3_sg1 done and updated json\n"
     ]
    },
    {
     "data": {
      "application/vnd.jupyter.widget-view+json": {
       "model_id": "76879a58234840188fa074552f85fea2",
       "version_major": 2,
       "version_minor": 0
      },
      "text/plain": [
       "Predictive Models for word2vec_vs500_win4_sg0:   0%|          | 0/5 [00:00<?, ?it/s]"
      ]
     },
     "metadata": {},
     "output_type": "display_data"
    },
    {
     "data": {
      "application/vnd.jupyter.widget-view+json": {
       "model_id": "5830ab82ec46436a9629f653876964fd",
       "version_major": 2,
       "version_minor": 0
      },
      "text/plain": [
       "catboost submodels:   0%|          | 0/3 [00:00<?, ?it/s]"
      ]
     },
     "metadata": {},
     "output_type": "display_data"
    },
    {
     "data": {
      "application/vnd.jupyter.widget-view+json": {
       "model_id": "c4d3799c287a4292ae74224cd9648bf2",
       "version_major": 2,
       "version_minor": 0
      },
      "text/plain": [
       "lightgbm submodels:   0%|          | 0/3 [00:00<?, ?it/s]"
      ]
     },
     "metadata": {},
     "output_type": "display_data"
    },
    {
     "data": {
      "application/vnd.jupyter.widget-view+json": {
       "model_id": "e71246ea535d49ef9cc68e60753c7e64",
       "version_major": 2,
       "version_minor": 0
      },
      "text/plain": [
       "knn submodels:   0%|          | 0/3 [00:00<?, ?it/s]"
      ]
     },
     "metadata": {},
     "output_type": "display_data"
    },
    {
     "data": {
      "application/vnd.jupyter.widget-view+json": {
       "model_id": "0d9dd90522724b568242fc857ce5b6da",
       "version_major": 2,
       "version_minor": 0
      },
      "text/plain": [
       "randomforest submodels:   0%|          | 0/3 [00:00<?, ?it/s]"
      ]
     },
     "metadata": {},
     "output_type": "display_data"
    },
    {
     "data": {
      "application/vnd.jupyter.widget-view+json": {
       "model_id": "757d0cf13d1441e8b5af777f0b6e81f4",
       "version_major": 2,
       "version_minor": 0
      },
      "text/plain": [
       "decisiontree submodels:   0%|          | 0/3 [00:00<?, ?it/s]"
      ]
     },
     "metadata": {},
     "output_type": "display_data"
    },
    {
     "name": "stdout",
     "output_type": "stream",
     "text": [
      "word2vec_vs500_win4_sg0 done and updated json\n"
     ]
    },
    {
     "data": {
      "application/vnd.jupyter.widget-view+json": {
       "model_id": "27c9d80878ff47e3afc16ea7727f4130",
       "version_major": 2,
       "version_minor": 0
      },
      "text/plain": [
       "Predictive Models for word2vec_vs500_win8_sg1:   0%|          | 0/5 [00:00<?, ?it/s]"
      ]
     },
     "metadata": {},
     "output_type": "display_data"
    },
    {
     "data": {
      "application/vnd.jupyter.widget-view+json": {
       "model_id": "141e3ae5ea7142a4aa077fcb24412ac8",
       "version_major": 2,
       "version_minor": 0
      },
      "text/plain": [
       "catboost submodels:   0%|          | 0/3 [00:00<?, ?it/s]"
      ]
     },
     "metadata": {},
     "output_type": "display_data"
    },
    {
     "data": {
      "application/vnd.jupyter.widget-view+json": {
       "model_id": "d62b360f73404ad9beba89b58224fcef",
       "version_major": 2,
       "version_minor": 0
      },
      "text/plain": [
       "lightgbm submodels:   0%|          | 0/3 [00:00<?, ?it/s]"
      ]
     },
     "metadata": {},
     "output_type": "display_data"
    },
    {
     "data": {
      "application/vnd.jupyter.widget-view+json": {
       "model_id": "4744b8932f654c93a15fb8d7297543c6",
       "version_major": 2,
       "version_minor": 0
      },
      "text/plain": [
       "knn submodels:   0%|          | 0/3 [00:00<?, ?it/s]"
      ]
     },
     "metadata": {},
     "output_type": "display_data"
    },
    {
     "data": {
      "application/vnd.jupyter.widget-view+json": {
       "model_id": "913fb271327142cfadd1926f2321d18b",
       "version_major": 2,
       "version_minor": 0
      },
      "text/plain": [
       "randomforest submodels:   0%|          | 0/3 [00:00<?, ?it/s]"
      ]
     },
     "metadata": {},
     "output_type": "display_data"
    },
    {
     "data": {
      "application/vnd.jupyter.widget-view+json": {
       "model_id": "a46fb268345040b0a1a36772f0dcf4d1",
       "version_major": 2,
       "version_minor": 0
      },
      "text/plain": [
       "decisiontree submodels:   0%|          | 0/3 [00:00<?, ?it/s]"
      ]
     },
     "metadata": {},
     "output_type": "display_data"
    },
    {
     "name": "stdout",
     "output_type": "stream",
     "text": [
      "word2vec_vs500_win8_sg1 done and updated json\n"
     ]
    },
    {
     "data": {
      "application/vnd.jupyter.widget-view+json": {
       "model_id": "5283a20aa84c4350b173260febda4fdb",
       "version_major": 2,
       "version_minor": 0
      },
      "text/plain": [
       "Predictive Models for word2vec_vs500_win5_sg1:   0%|          | 0/5 [00:00<?, ?it/s]"
      ]
     },
     "metadata": {},
     "output_type": "display_data"
    },
    {
     "data": {
      "application/vnd.jupyter.widget-view+json": {
       "model_id": "aa56d0f62d9444f1bfdf611e030c1d11",
       "version_major": 2,
       "version_minor": 0
      },
      "text/plain": [
       "catboost submodels:   0%|          | 0/3 [00:00<?, ?it/s]"
      ]
     },
     "metadata": {},
     "output_type": "display_data"
    },
    {
     "data": {
      "application/vnd.jupyter.widget-view+json": {
       "model_id": "2f71b429a825468da3536d98b81583b9",
       "version_major": 2,
       "version_minor": 0
      },
      "text/plain": [
       "lightgbm submodels:   0%|          | 0/3 [00:00<?, ?it/s]"
      ]
     },
     "metadata": {},
     "output_type": "display_data"
    },
    {
     "data": {
      "application/vnd.jupyter.widget-view+json": {
       "model_id": "6e541d95bf42438d8b65bb0bac9b488d",
       "version_major": 2,
       "version_minor": 0
      },
      "text/plain": [
       "knn submodels:   0%|          | 0/3 [00:00<?, ?it/s]"
      ]
     },
     "metadata": {},
     "output_type": "display_data"
    },
    {
     "data": {
      "application/vnd.jupyter.widget-view+json": {
       "model_id": "b86ba87e6e714ee5a2ff9462612f48bd",
       "version_major": 2,
       "version_minor": 0
      },
      "text/plain": [
       "randomforest submodels:   0%|          | 0/3 [00:00<?, ?it/s]"
      ]
     },
     "metadata": {},
     "output_type": "display_data"
    },
    {
     "data": {
      "application/vnd.jupyter.widget-view+json": {
       "model_id": "0df63d7b05fa41f4b91662fab58a346f",
       "version_major": 2,
       "version_minor": 0
      },
      "text/plain": [
       "decisiontree submodels:   0%|          | 0/3 [00:00<?, ?it/s]"
      ]
     },
     "metadata": {},
     "output_type": "display_data"
    },
    {
     "name": "stdout",
     "output_type": "stream",
     "text": [
      "word2vec_vs500_win5_sg1 done and updated json\n"
     ]
    },
    {
     "data": {
      "application/vnd.jupyter.widget-view+json": {
       "model_id": "0b0e082e92c3427b9b3ae2d499c00955",
       "version_major": 2,
       "version_minor": 0
      },
      "text/plain": [
       "Predictive Models for word2vec_vs1000_win5_sg1:   0%|          | 0/5 [00:00<?, ?it/s]"
      ]
     },
     "metadata": {},
     "output_type": "display_data"
    },
    {
     "data": {
      "application/vnd.jupyter.widget-view+json": {
       "model_id": "041e39a7851c453aa5b2c232edafa190",
       "version_major": 2,
       "version_minor": 0
      },
      "text/plain": [
       "catboost submodels:   0%|          | 0/3 [00:00<?, ?it/s]"
      ]
     },
     "metadata": {},
     "output_type": "display_data"
    },
    {
     "data": {
      "application/vnd.jupyter.widget-view+json": {
       "model_id": "f5cfa575f4234d94a6c11d5bd5cb960e",
       "version_major": 2,
       "version_minor": 0
      },
      "text/plain": [
       "lightgbm submodels:   0%|          | 0/3 [00:00<?, ?it/s]"
      ]
     },
     "metadata": {},
     "output_type": "display_data"
    },
    {
     "data": {
      "application/vnd.jupyter.widget-view+json": {
       "model_id": "d7fcf7640e4e4fc69d46880921deb78e",
       "version_major": 2,
       "version_minor": 0
      },
      "text/plain": [
       "knn submodels:   0%|          | 0/3 [00:00<?, ?it/s]"
      ]
     },
     "metadata": {},
     "output_type": "display_data"
    },
    {
     "data": {
      "application/vnd.jupyter.widget-view+json": {
       "model_id": "5f48f54dfc7a4ea98c9ff75c6be36a63",
       "version_major": 2,
       "version_minor": 0
      },
      "text/plain": [
       "randomforest submodels:   0%|          | 0/3 [00:00<?, ?it/s]"
      ]
     },
     "metadata": {},
     "output_type": "display_data"
    },
    {
     "data": {
      "application/vnd.jupyter.widget-view+json": {
       "model_id": "6123b77605944d128f02d696e2efd1b1",
       "version_major": 2,
       "version_minor": 0
      },
      "text/plain": [
       "decisiontree submodels:   0%|          | 0/3 [00:00<?, ?it/s]"
      ]
     },
     "metadata": {},
     "output_type": "display_data"
    },
    {
     "name": "stdout",
     "output_type": "stream",
     "text": [
      "word2vec_vs1000_win5_sg1 done and updated json\n"
     ]
    },
    {
     "data": {
      "application/vnd.jupyter.widget-view+json": {
       "model_id": "128990e6355b46079b9a7ee913b6e462",
       "version_major": 2,
       "version_minor": 0
      },
      "text/plain": [
       "Predictive Models for word2vec_vs1000_win4_sg0:   0%|          | 0/5 [00:00<?, ?it/s]"
      ]
     },
     "metadata": {},
     "output_type": "display_data"
    },
    {
     "data": {
      "application/vnd.jupyter.widget-view+json": {
       "model_id": "7684d38f7f7f47b984f0f270f763827e",
       "version_major": 2,
       "version_minor": 0
      },
      "text/plain": [
       "catboost submodels:   0%|          | 0/3 [00:00<?, ?it/s]"
      ]
     },
     "metadata": {},
     "output_type": "display_data"
    },
    {
     "data": {
      "application/vnd.jupyter.widget-view+json": {
       "model_id": "012091b3ca4f4cfc8d54b6fada3b00a8",
       "version_major": 2,
       "version_minor": 0
      },
      "text/plain": [
       "lightgbm submodels:   0%|          | 0/3 [00:00<?, ?it/s]"
      ]
     },
     "metadata": {},
     "output_type": "display_data"
    },
    {
     "data": {
      "application/vnd.jupyter.widget-view+json": {
       "model_id": "934a83e4f86c42b7a447444f2952032e",
       "version_major": 2,
       "version_minor": 0
      },
      "text/plain": [
       "knn submodels:   0%|          | 0/3 [00:00<?, ?it/s]"
      ]
     },
     "metadata": {},
     "output_type": "display_data"
    },
    {
     "data": {
      "application/vnd.jupyter.widget-view+json": {
       "model_id": "487f13d7335740b2afc8da04e1ffde45",
       "version_major": 2,
       "version_minor": 0
      },
      "text/plain": [
       "randomforest submodels:   0%|          | 0/3 [00:00<?, ?it/s]"
      ]
     },
     "metadata": {},
     "output_type": "display_data"
    },
    {
     "data": {
      "application/vnd.jupyter.widget-view+json": {
       "model_id": "993355ad473d4c42915700dac118187d",
       "version_major": 2,
       "version_minor": 0
      },
      "text/plain": [
       "decisiontree submodels:   0%|          | 0/3 [00:00<?, ?it/s]"
      ]
     },
     "metadata": {},
     "output_type": "display_data"
    },
    {
     "name": "stdout",
     "output_type": "stream",
     "text": [
      "word2vec_vs1000_win4_sg0 done and updated json\n"
     ]
    },
    {
     "data": {
      "application/vnd.jupyter.widget-view+json": {
       "model_id": "a0d5d823c82344e9a40e526c5313860c",
       "version_major": 2,
       "version_minor": 0
      },
      "text/plain": [
       "Predictive Models for word2vec_vs1000_win8_sg1:   0%|          | 0/5 [00:00<?, ?it/s]"
      ]
     },
     "metadata": {},
     "output_type": "display_data"
    },
    {
     "data": {
      "application/vnd.jupyter.widget-view+json": {
       "model_id": "7f8a5b3cbd874f35a3cd53636a84efd4",
       "version_major": 2,
       "version_minor": 0
      },
      "text/plain": [
       "catboost submodels:   0%|          | 0/3 [00:00<?, ?it/s]"
      ]
     },
     "metadata": {},
     "output_type": "display_data"
    },
    {
     "data": {
      "application/vnd.jupyter.widget-view+json": {
       "model_id": "c94e7388e3e6419cba3236a5a5538af7",
       "version_major": 2,
       "version_minor": 0
      },
      "text/plain": [
       "lightgbm submodels:   0%|          | 0/3 [00:00<?, ?it/s]"
      ]
     },
     "metadata": {},
     "output_type": "display_data"
    },
    {
     "data": {
      "application/vnd.jupyter.widget-view+json": {
       "model_id": "02020fc01c5c4bf49f9018d669f66105",
       "version_major": 2,
       "version_minor": 0
      },
      "text/plain": [
       "knn submodels:   0%|          | 0/3 [00:00<?, ?it/s]"
      ]
     },
     "metadata": {},
     "output_type": "display_data"
    },
    {
     "data": {
      "application/vnd.jupyter.widget-view+json": {
       "model_id": "c35ca17539dd4be8af12338b4ad3eb2b",
       "version_major": 2,
       "version_minor": 0
      },
      "text/plain": [
       "randomforest submodels:   0%|          | 0/3 [00:00<?, ?it/s]"
      ]
     },
     "metadata": {},
     "output_type": "display_data"
    },
    {
     "data": {
      "application/vnd.jupyter.widget-view+json": {
       "model_id": "2011238f7d5649f99d935d9de87ce5a0",
       "version_major": 2,
       "version_minor": 0
      },
      "text/plain": [
       "decisiontree submodels:   0%|          | 0/3 [00:00<?, ?it/s]"
      ]
     },
     "metadata": {},
     "output_type": "display_data"
    },
    {
     "name": "stdout",
     "output_type": "stream",
     "text": [
      "word2vec_vs1000_win8_sg1 done and updated json\n"
     ]
    },
    {
     "data": {
      "application/vnd.jupyter.widget-view+json": {
       "model_id": "3c373f7675d94f51bd66c8f3c5fb84ca",
       "version_major": 2,
       "version_minor": 0
      },
      "text/plain": [
       "Predictive Models for word2vec_vs1000_win3_sg1:   0%|          | 0/5 [00:00<?, ?it/s]"
      ]
     },
     "metadata": {},
     "output_type": "display_data"
    },
    {
     "data": {
      "application/vnd.jupyter.widget-view+json": {
       "model_id": "8b4215f794224a9e9db57547bcaf8564",
       "version_major": 2,
       "version_minor": 0
      },
      "text/plain": [
       "catboost submodels:   0%|          | 0/3 [00:00<?, ?it/s]"
      ]
     },
     "metadata": {},
     "output_type": "display_data"
    },
    {
     "data": {
      "application/vnd.jupyter.widget-view+json": {
       "model_id": "f8360d011870443e95222d79d1e8a08f",
       "version_major": 2,
       "version_minor": 0
      },
      "text/plain": [
       "lightgbm submodels:   0%|          | 0/3 [00:00<?, ?it/s]"
      ]
     },
     "metadata": {},
     "output_type": "display_data"
    },
    {
     "data": {
      "application/vnd.jupyter.widget-view+json": {
       "model_id": "edd921e514f8482bb187dd35f8ffc986",
       "version_major": 2,
       "version_minor": 0
      },
      "text/plain": [
       "knn submodels:   0%|          | 0/3 [00:00<?, ?it/s]"
      ]
     },
     "metadata": {},
     "output_type": "display_data"
    },
    {
     "data": {
      "application/vnd.jupyter.widget-view+json": {
       "model_id": "dc8af542019b40deb3dede114e116b0e",
       "version_major": 2,
       "version_minor": 0
      },
      "text/plain": [
       "randomforest submodels:   0%|          | 0/3 [00:00<?, ?it/s]"
      ]
     },
     "metadata": {},
     "output_type": "display_data"
    },
    {
     "data": {
      "application/vnd.jupyter.widget-view+json": {
       "model_id": "77c5915df4734b6f932d5588ef3f6c42",
       "version_major": 2,
       "version_minor": 0
      },
      "text/plain": [
       "decisiontree submodels:   0%|          | 0/3 [00:00<?, ?it/s]"
      ]
     },
     "metadata": {},
     "output_type": "display_data"
    },
    {
     "name": "stdout",
     "output_type": "stream",
     "text": [
      "word2vec_vs1000_win3_sg1 done and updated json\n"
     ]
    },
    {
     "data": {
      "application/vnd.jupyter.widget-view+json": {
       "model_id": "a9658d994e2c4107949c68167c3a7d9a",
       "version_major": 2,
       "version_minor": 0
      },
      "text/plain": [
       "Predictive Models for word2vec_vs1000_win8_sg0:   0%|          | 0/5 [00:00<?, ?it/s]"
      ]
     },
     "metadata": {},
     "output_type": "display_data"
    },
    {
     "data": {
      "application/vnd.jupyter.widget-view+json": {
       "model_id": "ea33a57ed70e4398b519513105c7ea0a",
       "version_major": 2,
       "version_minor": 0
      },
      "text/plain": [
       "catboost submodels:   0%|          | 0/3 [00:00<?, ?it/s]"
      ]
     },
     "metadata": {},
     "output_type": "display_data"
    },
    {
     "data": {
      "application/vnd.jupyter.widget-view+json": {
       "model_id": "f06b88a1f3284eac95fe40680469b73f",
       "version_major": 2,
       "version_minor": 0
      },
      "text/plain": [
       "lightgbm submodels:   0%|          | 0/3 [00:00<?, ?it/s]"
      ]
     },
     "metadata": {},
     "output_type": "display_data"
    },
    {
     "data": {
      "application/vnd.jupyter.widget-view+json": {
       "model_id": "bef38a3d46de4472884e2f778806ba69",
       "version_major": 2,
       "version_minor": 0
      },
      "text/plain": [
       "knn submodels:   0%|          | 0/3 [00:00<?, ?it/s]"
      ]
     },
     "metadata": {},
     "output_type": "display_data"
    },
    {
     "data": {
      "application/vnd.jupyter.widget-view+json": {
       "model_id": "b01547c51c0a42399edd283f79d3d8c4",
       "version_major": 2,
       "version_minor": 0
      },
      "text/plain": [
       "randomforest submodels:   0%|          | 0/3 [00:00<?, ?it/s]"
      ]
     },
     "metadata": {},
     "output_type": "display_data"
    },
    {
     "data": {
      "application/vnd.jupyter.widget-view+json": {
       "model_id": "acb55e5db44841c493162da65a5acdfb",
       "version_major": 2,
       "version_minor": 0
      },
      "text/plain": [
       "decisiontree submodels:   0%|          | 0/3 [00:00<?, ?it/s]"
      ]
     },
     "metadata": {},
     "output_type": "display_data"
    },
    {
     "name": "stdout",
     "output_type": "stream",
     "text": [
      "word2vec_vs1000_win8_sg0 done and updated json\n"
     ]
    },
    {
     "data": {
      "application/vnd.jupyter.widget-view+json": {
       "model_id": "3468e1344a5245e294c43aeb3d3615e6",
       "version_major": 2,
       "version_minor": 0
      },
      "text/plain": [
       "Predictive Models for word2vec_vs1000_win4_sg1:   0%|          | 0/5 [00:00<?, ?it/s]"
      ]
     },
     "metadata": {},
     "output_type": "display_data"
    },
    {
     "data": {
      "application/vnd.jupyter.widget-view+json": {
       "model_id": "22a97a9e95204bdcb2cb602f8a2df322",
       "version_major": 2,
       "version_minor": 0
      },
      "text/plain": [
       "catboost submodels:   0%|          | 0/3 [00:00<?, ?it/s]"
      ]
     },
     "metadata": {},
     "output_type": "display_data"
    },
    {
     "data": {
      "application/vnd.jupyter.widget-view+json": {
       "model_id": "5324f67fc9744e3dadb4c4159ef8fc46",
       "version_major": 2,
       "version_minor": 0
      },
      "text/plain": [
       "lightgbm submodels:   0%|          | 0/3 [00:00<?, ?it/s]"
      ]
     },
     "metadata": {},
     "output_type": "display_data"
    },
    {
     "data": {
      "application/vnd.jupyter.widget-view+json": {
       "model_id": "228261c9d18f4529b65c4bd708dc954b",
       "version_major": 2,
       "version_minor": 0
      },
      "text/plain": [
       "knn submodels:   0%|          | 0/3 [00:00<?, ?it/s]"
      ]
     },
     "metadata": {},
     "output_type": "display_data"
    },
    {
     "data": {
      "application/vnd.jupyter.widget-view+json": {
       "model_id": "17ed7a9acd5140b88e54cc185043f860",
       "version_major": 2,
       "version_minor": 0
      },
      "text/plain": [
       "randomforest submodels:   0%|          | 0/3 [00:00<?, ?it/s]"
      ]
     },
     "metadata": {},
     "output_type": "display_data"
    },
    {
     "data": {
      "application/vnd.jupyter.widget-view+json": {
       "model_id": "ddf07f37701e4856876a1d46f51ab97b",
       "version_major": 2,
       "version_minor": 0
      },
      "text/plain": [
       "decisiontree submodels:   0%|          | 0/3 [00:00<?, ?it/s]"
      ]
     },
     "metadata": {},
     "output_type": "display_data"
    },
    {
     "name": "stdout",
     "output_type": "stream",
     "text": [
      "word2vec_vs1000_win4_sg1 done and updated json\n"
     ]
    },
    {
     "data": {
      "application/vnd.jupyter.widget-view+json": {
       "model_id": "ee5542a514a440fbb2b4f6bdd59ba265",
       "version_major": 2,
       "version_minor": 0
      },
      "text/plain": [
       "Predictive Models for word2vec_vs1000_win5_sg0:   0%|          | 0/5 [00:00<?, ?it/s]"
      ]
     },
     "metadata": {},
     "output_type": "display_data"
    },
    {
     "data": {
      "application/vnd.jupyter.widget-view+json": {
       "model_id": "c13a2b2d5c0047a2b4b2272d4d07a420",
       "version_major": 2,
       "version_minor": 0
      },
      "text/plain": [
       "catboost submodels:   0%|          | 0/3 [00:00<?, ?it/s]"
      ]
     },
     "metadata": {},
     "output_type": "display_data"
    },
    {
     "data": {
      "application/vnd.jupyter.widget-view+json": {
       "model_id": "6f3f56c75c7945d4b5988883d3c73f40",
       "version_major": 2,
       "version_minor": 0
      },
      "text/plain": [
       "lightgbm submodels:   0%|          | 0/3 [00:00<?, ?it/s]"
      ]
     },
     "metadata": {},
     "output_type": "display_data"
    },
    {
     "data": {
      "application/vnd.jupyter.widget-view+json": {
       "model_id": "4df668fb709f4cbdabb185b62f878842",
       "version_major": 2,
       "version_minor": 0
      },
      "text/plain": [
       "knn submodels:   0%|          | 0/3 [00:00<?, ?it/s]"
      ]
     },
     "metadata": {},
     "output_type": "display_data"
    },
    {
     "data": {
      "application/vnd.jupyter.widget-view+json": {
       "model_id": "5bb0cb63558c4900a4c2f631ce74d605",
       "version_major": 2,
       "version_minor": 0
      },
      "text/plain": [
       "randomforest submodels:   0%|          | 0/3 [00:00<?, ?it/s]"
      ]
     },
     "metadata": {},
     "output_type": "display_data"
    },
    {
     "data": {
      "application/vnd.jupyter.widget-view+json": {
       "model_id": "fc9d0a7dd5dd4793817d1cefafad6657",
       "version_major": 2,
       "version_minor": 0
      },
      "text/plain": [
       "decisiontree submodels:   0%|          | 0/3 [00:00<?, ?it/s]"
      ]
     },
     "metadata": {},
     "output_type": "display_data"
    },
    {
     "name": "stdout",
     "output_type": "stream",
     "text": [
      "word2vec_vs1000_win5_sg0 done and updated json\n"
     ]
    },
    {
     "data": {
      "application/vnd.jupyter.widget-view+json": {
       "model_id": "09aaeba761294c8abc2d20fe4d05f493",
       "version_major": 2,
       "version_minor": 0
      },
      "text/plain": [
       "Predictive Models for word2vec_vs1000_win3_sg0:   0%|          | 0/5 [00:00<?, ?it/s]"
      ]
     },
     "metadata": {},
     "output_type": "display_data"
    },
    {
     "data": {
      "application/vnd.jupyter.widget-view+json": {
       "model_id": "46b067198ab94bf5b99671c85614ed5a",
       "version_major": 2,
       "version_minor": 0
      },
      "text/plain": [
       "catboost submodels:   0%|          | 0/3 [00:00<?, ?it/s]"
      ]
     },
     "metadata": {},
     "output_type": "display_data"
    },
    {
     "data": {
      "application/vnd.jupyter.widget-view+json": {
       "model_id": "5c4a46242c6a499991f2907666460177",
       "version_major": 2,
       "version_minor": 0
      },
      "text/plain": [
       "lightgbm submodels:   0%|          | 0/3 [00:00<?, ?it/s]"
      ]
     },
     "metadata": {},
     "output_type": "display_data"
    },
    {
     "data": {
      "application/vnd.jupyter.widget-view+json": {
       "model_id": "0dc5000660b84e238a5afe72c8dc7226",
       "version_major": 2,
       "version_minor": 0
      },
      "text/plain": [
       "knn submodels:   0%|          | 0/3 [00:00<?, ?it/s]"
      ]
     },
     "metadata": {},
     "output_type": "display_data"
    },
    {
     "data": {
      "application/vnd.jupyter.widget-view+json": {
       "model_id": "d36fe983689b43a89980e055573f1d85",
       "version_major": 2,
       "version_minor": 0
      },
      "text/plain": [
       "randomforest submodels:   0%|          | 0/3 [00:00<?, ?it/s]"
      ]
     },
     "metadata": {},
     "output_type": "display_data"
    },
    {
     "data": {
      "application/vnd.jupyter.widget-view+json": {
       "model_id": "5eb9169cb7fc4603904eebfca6563e67",
       "version_major": 2,
       "version_minor": 0
      },
      "text/plain": [
       "decisiontree submodels:   0%|          | 0/3 [00:00<?, ?it/s]"
      ]
     },
     "metadata": {},
     "output_type": "display_data"
    },
    {
     "name": "stdout",
     "output_type": "stream",
     "text": [
      "word2vec_vs1000_win3_sg0 done and updated json\n"
     ]
    },
    {
     "data": {
      "application/vnd.jupyter.widget-view+json": {
       "model_id": "c79cca31828043d7b819eb156c4eee2a",
       "version_major": 2,
       "version_minor": 0
      },
      "text/plain": [
       "Predictive Models for word2vec_vs1000_win7_sg1:   0%|          | 0/5 [00:00<?, ?it/s]"
      ]
     },
     "metadata": {},
     "output_type": "display_data"
    },
    {
     "data": {
      "application/vnd.jupyter.widget-view+json": {
       "model_id": "564467f09b1f4dc4b9f6d8bacee756a2",
       "version_major": 2,
       "version_minor": 0
      },
      "text/plain": [
       "catboost submodels:   0%|          | 0/3 [00:00<?, ?it/s]"
      ]
     },
     "metadata": {},
     "output_type": "display_data"
    },
    {
     "data": {
      "application/vnd.jupyter.widget-view+json": {
       "model_id": "e75969deefd0457aa186ab79cac602be",
       "version_major": 2,
       "version_minor": 0
      },
      "text/plain": [
       "lightgbm submodels:   0%|          | 0/3 [00:00<?, ?it/s]"
      ]
     },
     "metadata": {},
     "output_type": "display_data"
    },
    {
     "data": {
      "application/vnd.jupyter.widget-view+json": {
       "model_id": "7dabaa842ecd4fcfae5a41902a9d1e0c",
       "version_major": 2,
       "version_minor": 0
      },
      "text/plain": [
       "knn submodels:   0%|          | 0/3 [00:00<?, ?it/s]"
      ]
     },
     "metadata": {},
     "output_type": "display_data"
    },
    {
     "data": {
      "application/vnd.jupyter.widget-view+json": {
       "model_id": "fa89fa5ce6e24e3aba23031932cbb0f1",
       "version_major": 2,
       "version_minor": 0
      },
      "text/plain": [
       "randomforest submodels:   0%|          | 0/3 [00:00<?, ?it/s]"
      ]
     },
     "metadata": {},
     "output_type": "display_data"
    },
    {
     "data": {
      "application/vnd.jupyter.widget-view+json": {
       "model_id": "01eaa344ff4246478e2b80f45f8f2077",
       "version_major": 2,
       "version_minor": 0
      },
      "text/plain": [
       "decisiontree submodels:   0%|          | 0/3 [00:00<?, ?it/s]"
      ]
     },
     "metadata": {},
     "output_type": "display_data"
    },
    {
     "name": "stdout",
     "output_type": "stream",
     "text": [
      "word2vec_vs1000_win7_sg1 done and updated json\n"
     ]
    },
    {
     "data": {
      "application/vnd.jupyter.widget-view+json": {
       "model_id": "dbacdab370464dac873cff8ec8d43ff6",
       "version_major": 2,
       "version_minor": 0
      },
      "text/plain": [
       "Predictive Models for word2vec_vs1000_win6_sg0:   0%|          | 0/5 [00:00<?, ?it/s]"
      ]
     },
     "metadata": {},
     "output_type": "display_data"
    },
    {
     "data": {
      "application/vnd.jupyter.widget-view+json": {
       "model_id": "df3ecf156c214d34a200817f0def6783",
       "version_major": 2,
       "version_minor": 0
      },
      "text/plain": [
       "catboost submodels:   0%|          | 0/3 [00:00<?, ?it/s]"
      ]
     },
     "metadata": {},
     "output_type": "display_data"
    },
    {
     "data": {
      "application/vnd.jupyter.widget-view+json": {
       "model_id": "7d8e6cabe32f4070a240d6ea292dea61",
       "version_major": 2,
       "version_minor": 0
      },
      "text/plain": [
       "lightgbm submodels:   0%|          | 0/3 [00:00<?, ?it/s]"
      ]
     },
     "metadata": {},
     "output_type": "display_data"
    },
    {
     "data": {
      "application/vnd.jupyter.widget-view+json": {
       "model_id": "cf13e322e57848dba98db964d30ac299",
       "version_major": 2,
       "version_minor": 0
      },
      "text/plain": [
       "knn submodels:   0%|          | 0/3 [00:00<?, ?it/s]"
      ]
     },
     "metadata": {},
     "output_type": "display_data"
    },
    {
     "data": {
      "application/vnd.jupyter.widget-view+json": {
       "model_id": "423a56c64ba34238914adef214471344",
       "version_major": 2,
       "version_minor": 0
      },
      "text/plain": [
       "randomforest submodels:   0%|          | 0/3 [00:00<?, ?it/s]"
      ]
     },
     "metadata": {},
     "output_type": "display_data"
    },
    {
     "data": {
      "application/vnd.jupyter.widget-view+json": {
       "model_id": "2412f5a090ea47fa91846a18992e4820",
       "version_major": 2,
       "version_minor": 0
      },
      "text/plain": [
       "decisiontree submodels:   0%|          | 0/3 [00:00<?, ?it/s]"
      ]
     },
     "metadata": {},
     "output_type": "display_data"
    },
    {
     "name": "stdout",
     "output_type": "stream",
     "text": [
      "word2vec_vs1000_win6_sg0 done and updated json\n"
     ]
    },
    {
     "data": {
      "application/vnd.jupyter.widget-view+json": {
       "model_id": "dab0920bfff24c8796c959afe77794cd",
       "version_major": 2,
       "version_minor": 0
      },
      "text/plain": [
       "Predictive Models for word2vec_vs1000_win6_sg1:   0%|          | 0/5 [00:00<?, ?it/s]"
      ]
     },
     "metadata": {},
     "output_type": "display_data"
    },
    {
     "data": {
      "application/vnd.jupyter.widget-view+json": {
       "model_id": "e76056c97c294ba6aa63922473bce3d1",
       "version_major": 2,
       "version_minor": 0
      },
      "text/plain": [
       "catboost submodels:   0%|          | 0/3 [00:00<?, ?it/s]"
      ]
     },
     "metadata": {},
     "output_type": "display_data"
    },
    {
     "data": {
      "application/vnd.jupyter.widget-view+json": {
       "model_id": "729d74ba83ed4d52ac15a0c09fb735eb",
       "version_major": 2,
       "version_minor": 0
      },
      "text/plain": [
       "lightgbm submodels:   0%|          | 0/3 [00:00<?, ?it/s]"
      ]
     },
     "metadata": {},
     "output_type": "display_data"
    },
    {
     "data": {
      "application/vnd.jupyter.widget-view+json": {
       "model_id": "0dea43a645084b9dbd4a3b4912b0c729",
       "version_major": 2,
       "version_minor": 0
      },
      "text/plain": [
       "knn submodels:   0%|          | 0/3 [00:00<?, ?it/s]"
      ]
     },
     "metadata": {},
     "output_type": "display_data"
    },
    {
     "data": {
      "application/vnd.jupyter.widget-view+json": {
       "model_id": "caac60fd7770420daeccf51fcbf0f243",
       "version_major": 2,
       "version_minor": 0
      },
      "text/plain": [
       "randomforest submodels:   0%|          | 0/3 [00:00<?, ?it/s]"
      ]
     },
     "metadata": {},
     "output_type": "display_data"
    },
    {
     "data": {
      "application/vnd.jupyter.widget-view+json": {
       "model_id": "9c9acd3ba12d40b1a53482d0b4c0201e",
       "version_major": 2,
       "version_minor": 0
      },
      "text/plain": [
       "decisiontree submodels:   0%|          | 0/3 [00:00<?, ?it/s]"
      ]
     },
     "metadata": {},
     "output_type": "display_data"
    },
    {
     "name": "stdout",
     "output_type": "stream",
     "text": [
      "word2vec_vs1000_win6_sg1 done and updated json\n"
     ]
    },
    {
     "data": {
      "application/vnd.jupyter.widget-view+json": {
       "model_id": "088b9ba304a44b2eaaf8af35367ee833",
       "version_major": 2,
       "version_minor": 0
      },
      "text/plain": [
       "Predictive Models for word2vec_vs1000_win7_sg0:   0%|          | 0/5 [00:00<?, ?it/s]"
      ]
     },
     "metadata": {},
     "output_type": "display_data"
    },
    {
     "data": {
      "application/vnd.jupyter.widget-view+json": {
       "model_id": "f48169c889e0424abfa22018fb9bc868",
       "version_major": 2,
       "version_minor": 0
      },
      "text/plain": [
       "catboost submodels:   0%|          | 0/3 [00:00<?, ?it/s]"
      ]
     },
     "metadata": {},
     "output_type": "display_data"
    },
    {
     "data": {
      "application/vnd.jupyter.widget-view+json": {
       "model_id": "edfcbe996b1b4910b226bca516258c50",
       "version_major": 2,
       "version_minor": 0
      },
      "text/plain": [
       "lightgbm submodels:   0%|          | 0/3 [00:00<?, ?it/s]"
      ]
     },
     "metadata": {},
     "output_type": "display_data"
    },
    {
     "data": {
      "application/vnd.jupyter.widget-view+json": {
       "model_id": "340a500ac9764624b7bb0afbd1af263f",
       "version_major": 2,
       "version_minor": 0
      },
      "text/plain": [
       "knn submodels:   0%|          | 0/3 [00:00<?, ?it/s]"
      ]
     },
     "metadata": {},
     "output_type": "display_data"
    },
    {
     "data": {
      "application/vnd.jupyter.widget-view+json": {
       "model_id": "caf344215d2a4a119575cfa1afbe76c9",
       "version_major": 2,
       "version_minor": 0
      },
      "text/plain": [
       "randomforest submodels:   0%|          | 0/3 [00:00<?, ?it/s]"
      ]
     },
     "metadata": {},
     "output_type": "display_data"
    },
    {
     "data": {
      "application/vnd.jupyter.widget-view+json": {
       "model_id": "adc177419ae342e985f1a83c3470fa86",
       "version_major": 2,
       "version_minor": 0
      },
      "text/plain": [
       "decisiontree submodels:   0%|          | 0/3 [00:00<?, ?it/s]"
      ]
     },
     "metadata": {},
     "output_type": "display_data"
    },
    {
     "name": "stdout",
     "output_type": "stream",
     "text": [
      "word2vec_vs1000_win7_sg0 done and updated json\n"
     ]
    }
   ],
   "source": [
    "import copy as cp\n",
    "from tqdm.auto import tqdm\n",
    "# iterate over files in word2vec_models folder\n",
    "for file in tqdm(files):\n",
    "    # check if file is a .model file\n",
    "    if file.endswith('.model'):\n",
    "        df_temp = cp.deepcopy(df)\n",
    "        # load model\n",
    "        # path to model\n",
    "        model_path = os.path.join('../word2vec_models', file)\n",
    "\n",
    "        properties = file.split('_')\n",
    "        # print(properties)\n",
    "\n",
    "        vector_size = int(properties[1][2:])\n",
    "        window_size = int(properties[2][3:])\n",
    "        is_skipgram = bool(int(properties[3][2:-6]))\n",
    "\n",
    "        settings = {\n",
    "            'model_path': model_path,\n",
    "            'is_skipgram' : is_skipgram,\n",
    "            'window_size' : window_size,\n",
    "            'vector_size' : vector_size, \n",
    "\n",
    "        }\n",
    "        # print(settings)\n",
    "\n",
    "        model_w2v = Word2VecModel(settings)\n",
    "        # get model name\n",
    "        model_name = file.split('.')[0]\n",
    "\n",
    "        title_vectors = [get_word_vectors(model_w2v, title, aggregation='mean') for title in df_temp['title']]\n",
    "        df_temp['title_vector'] = title_vectors\n",
    "\n",
    "        train = df_temp['sample'] == 'train'\n",
    "        test = df_temp['sample'] == 'val1'\n",
    "\n",
    "        # X = np.vstack(title_vectors)\n",
    "        # y = df['is_clickbait'].values\n",
    "\n",
    "        X_train = np.vstack(df_temp[train]['title_vector'])\n",
    "        y_train = df_temp[train]['is_clickbait'].values\n",
    "\n",
    "        X_test = np.vstack(df_temp[test]['title_vector'])\n",
    "        y_test = df_temp[test]['is_clickbait'].values\n",
    "   \n",
    "\n",
    "        # scale data\n",
    "        scaler = StandardScaler()\n",
    "        X_train_scaled = scaler.fit_transform(X_train)\n",
    "        X_test_scaled = scaler.transform(X_test)\n",
    "\n",
    "        # train models\n",
    "        models = {\n",
    "            'catboost': [\n",
    "                CatBoostClassifier(verbose=False, random_state=1, ),\n",
    "                CatBoostClassifier(verbose=False, random_state=2, ),\n",
    "                CatBoostClassifier(verbose=False, random_state=3, ),\n",
    "             \n",
    "            ],\n",
    "\n",
    "            'lightgbm': [\n",
    "                LGBMClassifier(random_state=1, verbose=-1),\n",
    "                LGBMClassifier(random_state=2, verbose=-1),\n",
    "                LGBMClassifier(random_state=3 ,verbose=-1),\n",
    "            \n",
    "            ],\n",
    "            \n",
    "            'knn' : [\n",
    "                KNeighborsClassifier(n_neighbors=3),\n",
    "                KNeighborsClassifier(n_neighbors=4),\n",
    "                KNeighborsClassifier(n_neighbors=5),\n",
    "               \n",
    "            ],\n",
    "\n",
    "            'randomforest': [\n",
    "                RandomForestClassifier(random_state=1,),\n",
    "                RandomForestClassifier(random_state=2, ),\n",
    "                RandomForestClassifier(random_state=3, ),\n",
    "        \n",
    "\n",
    "            ],\n",
    "\n",
    "            'decisiontree': [\n",
    "                DecisionTreeClassifier(random_state=1, ),\n",
    "                DecisionTreeClassifier(random_state=2, ),\n",
    "                DecisionTreeClassifier(random_state=3, ),\n",
    "               \n",
    "            ],\n",
    "        }\n",
    "\n",
    "\n",
    "        results = {}\n",
    "\n",
    "        for model_type in tqdm(models, desc=f'Predictive Models for {model_name}'):\n",
    "            f1_temp = list()\n",
    "            auc_temp = list()\n",
    "            # print(model_type)\n",
    "            for submodel in tqdm(models[model_type], desc=f'{model_type} submodels'):\n",
    "                submodel.fit(X_train_scaled, y_train)\n",
    "                y_pred = submodel.predict(X_test_scaled)\n",
    "                f1 = f1_score(y_test, y_pred)\n",
    "                auc = roc_auc_score(y_test, y_pred)\n",
    "                f1_temp.append(f1)\n",
    "                auc_temp.append(auc)\n",
    "                \n",
    "            results[model_type] = {\n",
    "                'f1': np.mean(f1_temp),\n",
    "                'auc': np.mean(auc_temp),\n",
    "                'f1_list': cp.deepcopy(f1_temp),\n",
    "                'auc_list': cp.deepcopy(auc_temp),\n",
    "            }\n",
    "            \n",
    "            \n",
    "        word2vec_results[model_name] = results\n",
    "        # save results to json\n",
    "        with open(save_path, 'w') as f:\n",
    "            json.dump(word2vec_results, f, indent=4)\n",
    "        print(f'{model_name} done and updated json')\n",
    "\n",
    "\n",
    "\n"
   ]
  },
  {
   "cell_type": "code",
   "execution_count": 15,
   "metadata": {},
   "outputs": [
    {
     "data": {
      "text/plain": [
       "sample\n",
       "train    66664\n",
       "test      3703\n",
       "val1      1852\n",
       "val2      1852\n",
       "Name: count, dtype: int64"
      ]
     },
     "execution_count": 15,
     "metadata": {},
     "output_type": "execute_result"
    }
   ],
   "source": [
    "df['sample'].value_counts() "
   ]
  },
  {
   "cell_type": "code",
   "execution_count": null,
   "metadata": {},
   "outputs": [],
   "source": []
  }
 ],
 "metadata": {
  "kernelspec": {
   "display_name": "ag",
   "language": "python",
   "name": "python3"
  },
  "language_info": {
   "codemirror_mode": {
    "name": "ipython",
    "version": 3
   },
   "file_extension": ".py",
   "mimetype": "text/x-python",
   "name": "python",
   "nbconvert_exporter": "python",
   "pygments_lexer": "ipython3",
   "version": "3.10.13"
  }
 },
 "nbformat": 4,
 "nbformat_minor": 2
}
