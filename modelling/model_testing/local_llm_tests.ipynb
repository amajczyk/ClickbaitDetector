{
 "cells": [
  {
   "cell_type": "code",
   "execution_count": 1,
   "metadata": {},
   "outputs": [],
   "source": [
    "from django.conf import settings\n",
    "settings.configure(BASE_DIR='/Users/adammajczyk/Documents/AAA_Semy/Sem7/inzynierka/pracaInzynierska/djangoapp',)\n",
    "\n",
    "import os\n",
    "os.environ['TOKENIZERS_PARALLELISM'] = 'false'\n",
    "\n",
    "import sys\n",
    "sys.path.append('/Users/adammajczyk/Documents/AAA_Semy/Sem7/inzynierka/pracaInzynierska') "
   ]
  },
  {
   "cell_type": "code",
   "execution_count": 6,
   "metadata": {},
   "outputs": [],
   "source": [
    "from djangoapp.news.scripts.llm import *\n",
    "from djangoapp.news.scripts.model_loader2 import *\n",
    "from djangoapp.news.scripts.nlp import *"
   ]
  },
  {
   "cell_type": "code",
   "execution_count": 7,
   "metadata": {},
   "outputs": [],
   "source": [
    "import pandas as pd\n",
    "import pickle  \n",
    "from tqdm.notebook import tqdm \n",
    "\n",
    "df = pd.read_csv('../all_datasets/data/merged_titles_labels.csv')"
   ]
  },
  {
   "cell_type": "code",
   "execution_count": 9,
   "metadata": {},
   "outputs": [],
   "source": [
    "df_test = df[df['sample'] == 'test'].reset_index(drop=True)\n",
    "\n",
    "df_test_text = df_test[df_test['text'].notnull()].reset_index(drop=True)\n",
    "df_test_no_text = df_test[df_test['text'].isnull()].reset_index(drop=True)\n",
    "\n",
    "\n",
    "df_val1 = df[df['sample'] =='val1'].reset_index(drop = True)\n",
    "\n"
   ]
  },
  {
   "cell_type": "code",
   "execution_count": 10,
   "metadata": {},
   "outputs": [],
   "source": [
    "model_loader = ModelLoader()\n",
    "llm = model_loader.llm \n",
    "vertex = model_loader.vertex\n",
    "summarizer = model_loader.summarizer"
   ]
  },
  {
   "cell_type": "markdown",
   "metadata": {},
   "source": [
    "## Testing Local LLM"
   ]
  },
  {
   "cell_type": "code",
   "execution_count": 11,
   "metadata": {},
   "outputs": [
    {
     "name": "stdout",
     "output_type": "stream",
     "text": [
      "Predicting df_test...\n"
     ]
    },
    {
     "data": {
      "application/vnd.jupyter.widget-view+json": {
       "model_id": "b233062be5ed403aa9cb47c49795a910",
       "version_major": 2,
       "version_minor": 0
      },
      "text/plain": [
       "  0%|          | 0/2590 [00:00<?, ?it/s]"
      ]
     },
     "metadata": {},
     "output_type": "display_data"
    },
    {
     "name": "stdout",
     "output_type": "stream",
     "text": [
      "Predicting df_val1...\n"
     ]
    },
    {
     "data": {
      "application/vnd.jupyter.widget-view+json": {
       "model_id": "68edd471164544e0983b3e72c4b58302",
       "version_major": 2,
       "version_minor": 0
      },
      "text/plain": [
       "  0%|          | 0/1295 [00:00<?, ?it/s]"
      ]
     },
     "metadata": {},
     "output_type": "display_data"
    }
   ],
   "source": [
    "datasets_llm = [df_test, df_val1]\n",
    "datasets_llm_names = ['df_test', 'df_val1']\n",
    "\n",
    "for dataset, dataset_name in zip(datasets_llm, datasets_llm_names):\n",
    "    print(f'Predicting {dataset_name}...')\n",
    "    for i, row in tqdm(dataset.iterrows(), total=dataset.shape[0]):\n",
    "        if row['title'] is not None:\n",
    "            dataset.loc[i, 'llm_pred'] = llm.predict(row['title'])\n",
    "        else:\n",
    "            dataset.loc[i, 'llm_pred'] = None\n",
    "\n"
   ]
  },
  {
   "cell_type": "code",
   "execution_count": 12,
   "metadata": {},
   "outputs": [
    {
     "name": "stdout",
     "output_type": "stream",
     "text": [
      "F1:          0.8193\n",
      "ROC AUC:     0.9672\n",
      "Recall:      0.7010\n",
      "Precision:   0.9856\n",
      "Accuracy:    0.8483\n"
     ]
    }
   ],
   "source": [
    "y_true = df_test['is_clickbait'].values\n",
    "y_pred_proba = df_test['llm_pred'].values\n",
    "y_pred = (y_pred_proba > 0.5).astype(int)\n",
    "\n",
    "from sklearn.metrics import roc_auc_score, f1_score, recall_score, precision_score, accuracy_score\n",
    "\n",
    "print(f'F1: {f1_score(y_true, y_pred):>15.4f}')\n",
    "print(f'ROC AUC: {roc_auc_score(y_true, y_pred_proba):>10.4f}')\n",
    "print(f'Recall: {recall_score(y_true, y_pred):>11.4f}')\n",
    "print(f'Precision: {precision_score(y_true, y_pred):>8.4f}')\n",
    "print(f'Accuracy: {accuracy_score(y_true, y_pred):>9.4f}')\n",
    "\n"
   ]
  },
  {
   "cell_type": "code",
   "execution_count": 13,
   "metadata": {},
   "outputs": [
    {
     "data": {
      "image/png": "[encoded data removed]",
      "text/plain": [
       "<Figure size 640x480 with 2 Axes>"
      ]
     },
     "metadata": {},
     "output_type": "display_data"
    }
   ],
   "source": [
    "# plot confusion matrix\n",
    "from sklearn.metrics import confusion_matrix\n",
    "import seaborn as sns\n",
    "import matplotlib.pyplot as plt\n",
    "\n",
    "cm = confusion_matrix(y_true, y_pred)\n",
    "sns.heatmap(cm, annot=True, fmt='d', cmap='Blues')\n",
    "# add labels to heatmap\n",
    "plt.xlabel('Predicted')\n",
    "plt.ylabel('True')\n",
    "plt.show()"
   ]
  },
  {
   "cell_type": "code",
   "execution_count": 17,
   "metadata": {},
   "outputs": [
    {
     "data": {
      "text/html": [
       "<div>\n",
       "<style scoped>\n",
       "    .dataframe tbody tr th:only-of-type {\n",
       "        vertical-align: middle;\n",
       "    }\n",
       "\n",
       "    .dataframe tbody tr th {\n",
       "        vertical-align: top;\n",
       "    }\n",
       "\n",
       "    .dataframe thead th {\n",
       "        text-align: right;\n",
       "    }\n",
       "</style>\n",
       "<table border=\"1\" class=\"dataframe\">\n",
       "  <thead>\n",
       "    <tr style=\"text-align: right;\">\n",
       "      <th></th>\n",
       "      <th>title</th>\n",
       "      <th>is_clickbait</th>\n",
       "      <th>text</th>\n",
       "      <th>dataset</th>\n",
       "      <th>sample</th>\n",
       "      <th>llm_pred</th>\n",
       "    </tr>\n",
       "  </thead>\n",
       "  <tbody>\n",
       "    <tr>\n",
       "      <th>0</th>\n",
       "      <td>I Got My Makeup Done At 5 Different Counters A...</td>\n",
       "      <td>1</td>\n",
       "      <td>NaN</td>\n",
       "      <td>clickbait-dataset</td>\n",
       "      <td>val1</td>\n",
       "      <td>0.999392</td>\n",
       "    </tr>\n",
       "    <tr>\n",
       "      <th>1</th>\n",
       "      <td>Usain Bolt sets new world record in 100m sprint</td>\n",
       "      <td>0</td>\n",
       "      <td>NaN</td>\n",
       "      <td>clickbait-dataset</td>\n",
       "      <td>val1</td>\n",
       "      <td>0.000678</td>\n",
       "    </tr>\n",
       "    <tr>\n",
       "      <th>2</th>\n",
       "      <td>In a Defiant, Angry Speech, Donald Trump Defen...</td>\n",
       "      <td>0</td>\n",
       "      <td>Donald J. Trump on Wednesday offered a defiant...</td>\n",
       "      <td>fake-news</td>\n",
       "      <td>val1</td>\n",
       "      <td>0.000342</td>\n",
       "    </tr>\n",
       "    <tr>\n",
       "      <th>3</th>\n",
       "      <td>David Duke Slams the NFL and Black Lives Matte...</td>\n",
       "      <td>1</td>\n",
       "      <td>David Duke Slams the NFL and Black Lives Matte...</td>\n",
       "      <td>fake-news</td>\n",
       "      <td>val1</td>\n",
       "      <td>0.005130</td>\n",
       "    </tr>\n",
       "    <tr>\n",
       "      <th>4</th>\n",
       "      <td>I Went To Lauren Conrad's Fashion Show And Liv...</td>\n",
       "      <td>1</td>\n",
       "      <td>NaN</td>\n",
       "      <td>clickbait-dataset</td>\n",
       "      <td>val1</td>\n",
       "      <td>0.999581</td>\n",
       "    </tr>\n",
       "    <tr>\n",
       "      <th>...</th>\n",
       "      <td>...</td>\n",
       "      <td>...</td>\n",
       "      <td>...</td>\n",
       "      <td>...</td>\n",
       "      <td>...</td>\n",
       "      <td>...</td>\n",
       "    </tr>\n",
       "    <tr>\n",
       "      <th>1290</th>\n",
       "      <td>The 21 Best Picture Books Of 2015</td>\n",
       "      <td>1</td>\n",
       "      <td>NaN</td>\n",
       "      <td>clickbait-dataset</td>\n",
       "      <td>val1</td>\n",
       "      <td>0.999580</td>\n",
       "    </tr>\n",
       "    <tr>\n",
       "      <th>1291</th>\n",
       "      <td>In Argentina, a Camera and a Blog Make a Star</td>\n",
       "      <td>0</td>\n",
       "      <td>NaN</td>\n",
       "      <td>clickbait-dataset</td>\n",
       "      <td>val1</td>\n",
       "      <td>0.000569</td>\n",
       "    </tr>\n",
       "    <tr>\n",
       "      <th>1292</th>\n",
       "      <td>VIDEO: Trump NEVER Mocked Disabled Reporter… “...</td>\n",
       "      <td>1</td>\n",
       "      <td>Twitter Freaks Out When White People Spotted H...</td>\n",
       "      <td>fake-news</td>\n",
       "      <td>val1</td>\n",
       "      <td>0.994101</td>\n",
       "    </tr>\n",
       "    <tr>\n",
       "      <th>1293</th>\n",
       "      <td>Cutting Those Carry-Ons Down to Size</td>\n",
       "      <td>0</td>\n",
       "      <td>NaN</td>\n",
       "      <td>clickbait-dataset</td>\n",
       "      <td>val1</td>\n",
       "      <td>0.002190</td>\n",
       "    </tr>\n",
       "    <tr>\n",
       "      <th>1294</th>\n",
       "      <td>Meryl Streep Bashes Donald Trump During Golden...</td>\n",
       "      <td>0</td>\n",
       "      <td>Meryl Streep accepted the Cecil B. DeMille Lif...</td>\n",
       "      <td>fake-news</td>\n",
       "      <td>val1</td>\n",
       "      <td>0.014045</td>\n",
       "    </tr>\n",
       "  </tbody>\n",
       "</table>\n",
       "<p>1295 rows × 6 columns</p>\n",
       "</div>"
      ],
      "text/plain": [
       "                                                  title  is_clickbait  \\\n",
       "0     I Got My Makeup Done At 5 Different Counters A...             1   \n",
       "1       Usain Bolt sets new world record in 100m sprint             0   \n",
       "2     In a Defiant, Angry Speech, Donald Trump Defen...             0   \n",
       "3     David Duke Slams the NFL and Black Lives Matte...             1   \n",
       "4     I Went To Lauren Conrad's Fashion Show And Liv...             1   \n",
       "...                                                 ...           ...   \n",
       "1290                  The 21 Best Picture Books Of 2015             1   \n",
       "1291      In Argentina, a Camera and a Blog Make a Star             0   \n",
       "1292  VIDEO: Trump NEVER Mocked Disabled Reporter… “...             1   \n",
       "1293               Cutting Those Carry-Ons Down to Size             0   \n",
       "1294  Meryl Streep Bashes Donald Trump During Golden...             0   \n",
       "\n",
       "                                                   text            dataset  \\\n",
       "0                                                   NaN  clickbait-dataset   \n",
       "1                                                   NaN  clickbait-dataset   \n",
       "2     Donald J. Trump on Wednesday offered a defiant...          fake-news   \n",
       "3     David Duke Slams the NFL and Black Lives Matte...          fake-news   \n",
       "4                                                   NaN  clickbait-dataset   \n",
       "...                                                 ...                ...   \n",
       "1290                                                NaN  clickbait-dataset   \n",
       "1291                                                NaN  clickbait-dataset   \n",
       "1292  Twitter Freaks Out When White People Spotted H...          fake-news   \n",
       "1293                                                NaN  clickbait-dataset   \n",
       "1294  Meryl Streep accepted the Cecil B. DeMille Lif...          fake-news   \n",
       "\n",
       "     sample  llm_pred  \n",
       "0      val1  0.999392  \n",
       "1      val1  0.000678  \n",
       "2      val1  0.000342  \n",
       "3      val1  0.005130  \n",
       "4      val1  0.999581  \n",
       "...     ...       ...  \n",
       "1290   val1  0.999580  \n",
       "1291   val1  0.000569  \n",
       "1292   val1  0.994101  \n",
       "1293   val1  0.002190  \n",
       "1294   val1  0.014045  \n",
       "\n",
       "[1295 rows x 6 columns]"
      ]
     },
     "execution_count": 17,
     "metadata": {},
     "output_type": "execute_result"
    }
   ],
   "source": [
    "df_val1"
   ]
  },
  {
   "cell_type": "code",
   "execution_count": 18,
   "metadata": {},
   "outputs": [
    {
     "data": {
      "application/vnd.jupyter.widget-view+json": {
       "model_id": "1c36541562a8455187c3b022f6c49cf2",
       "version_major": 2,
       "version_minor": 0
      },
      "text/plain": [
       "  0%|          | 0/10000 [00:00<?, ?it/s]"
      ]
     },
     "metadata": {},
     "output_type": "display_data"
    },
    {
     "name": "stdout",
     "output_type": "stream",
     "text": [
      "0.0043\n"
     ]
    }
   ],
   "source": [
    "# find optimal threshold for F1 score\n",
    "y_true_val = df_val1['is_clickbait'].values\n",
    "y_pred_proba_val = df_val1['llm_pred'].values\n",
    "n = 10000\n",
    "thresholds = []\n",
    "for i in tqdm(range(n)):\n",
    "    threshold = i/n\n",
    "    y_pred = (y_pred_proba > threshold).astype(int)\n",
    "    thresholds.append((threshold, f1_score(y_true, y_pred)))\n",
    "thresholds.sort(key=lambda x: x[1], reverse=True)\n",
    "print(thresholds[:1][0][0])"
   ]
  },
  {
   "cell_type": "code",
   "execution_count": 15,
   "metadata": {},
   "outputs": [
    {
     "name": "stdout",
     "output_type": "stream",
     "text": [
      "ROC AUC best F1 thresh:     0.9672\n",
      "F1 best F1 thresh:          0.9040\n",
      "Recall best F1 thresh:      0.8780\n",
      "Precision best F1 thresh:   0.9316\n",
      "Accuracy best F1 thresh:    0.9085\n"
     ]
    }
   ],
   "source": [
    "y_true = df_test['is_clickbait'].values\n",
    "y_pred_proba = df_test['llm_pred'].values\n",
    "y_pred = (y_pred_proba > thresholds[:1][0][0]).astype(int)\n",
    "\n",
    "from sklearn.metrics import roc_auc_score, f1_score\n",
    "print(f'ROC AUC best F1 thresh: {roc_auc_score(y_true, y_pred_proba):>10.4f}')\n",
    "print(f'F1 best F1 thresh: {f1_score(y_true, y_pred):>15.4f}')\n",
    "print(f'Recall best F1 thresh: {recall_score(y_true, y_pred):>11.4f}')\n",
    "print(f'Precision best F1 thresh: {precision_score(y_true, y_pred):>8.4f}')\n",
    "print(f'Accuracy best F1 thresh: {accuracy_score(y_true, y_pred):>9.4f}')\n",
    "\n",
    "\n"
   ]
  },
  {
   "cell_type": "code",
   "execution_count": 16,
   "metadata": {},
   "outputs": [],
   "source": [
    "# save df\n",
    "df_test.to_csv('llm_results.csv', index=False)"
   ]
  }
 ],
 "metadata": {
  "kernelspec": {
   "display_name": "ag",
   "language": "python",
   "name": "python3"
  },
  "language_info": {
   "codemirror_mode": {
    "name": "ipython",
    "version": 3
   },
   "file_extension": ".py",
   "mimetype": "text/x-python",
   "name": "python",
   "nbconvert_exporter": "python",
   "pygments_lexer": "ipython3",
   "version": "3.10.13"
  }
 },
 "nbformat": 4,
 "nbformat_minor": 2
}
