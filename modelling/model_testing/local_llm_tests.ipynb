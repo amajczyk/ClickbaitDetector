{
 "cells": [
  {
   "cell_type": "code",
   "execution_count": 1,
   "metadata": {},
   "outputs": [],
   "source": [
    "from django.conf import settings\n",
    "settings.configure(BASE_DIR='/Users/adammajczyk/Documents/AAA_Semy/Sem7/inzynierka/pracaInzynierska/djangoapp',)\n",
    "\n",
    "import os\n",
    "os.environ['TOKENIZERS_PARALLELISM'] = 'false'\n",
    "\n",
    "import sys\n",
    "sys.path.append('/Users/adammajczyk/Documents/AAA_Semy/Sem7/inzynierka/pracaInzynierska') "
   ]
  },
  {
   "cell_type": "code",
   "execution_count": 2,
   "metadata": {},
   "outputs": [],
   "source": [
    "from djangoapp.news.scripts.llm import *\n",
    "from djangoapp.news.scripts.model_loader2 import *\n",
    "from djangoapp.news.scripts.nlp import *"
   ]
  },
  {
   "cell_type": "code",
   "execution_count": 3,
   "metadata": {},
   "outputs": [],
   "source": [
    "import pandas as pd\n",
    "import pickle  \n",
    "from tqdm.notebook import tqdm \n",
    "\n",
    "df = pd.read_csv('../all_datasets/data/merged_titles_labels.csv')"
   ]
  },
  {
   "cell_type": "code",
   "execution_count": 4,
   "metadata": {},
   "outputs": [],
   "source": [
    "model_loader = ModelLoader()\n",
    "llm = model_loader.llm \n",
    "vertex = model_loader.vertex\n",
    "summarizer = model_loader.summarizer"
   ]
  },
  {
   "cell_type": "markdown",
   "metadata": {},
   "source": [
    "## Testing Local LLM"
   ]
  },
  {
   "cell_type": "code",
   "execution_count": 5,
   "metadata": {},
   "outputs": [],
   "source": [
    "df_test = pd.DataFrame() \n",
    "df_val2 = pd.DataFrame()"
   ]
  },
  {
   "cell_type": "code",
   "execution_count": null,
   "metadata": {},
   "outputs": [],
   "source": [
    "datasets_llm = {\n",
    "    'df_test': df_test, \n",
    "    'df_val2': df_val2   \n",
    "}\n",
    "\n",
    "for dataset_name in datasets_llm.keys():\n",
    "    # extract suffix after _\n",
    "    dataset_name_suff = dataset_name.split('_')[1]\n",
    "    file_name = f'llm_results_{dataset_name_suff}.csv'\n",
    "    # check if file exists\n",
    "    if os.path.isfile(file_name):\n",
    "        print(f'Loading {file_name}...')\n",
    "        datasets_llm[dataset_name] = pd.read_csv(file_name)\n",
    "    else:\n",
    "        dataset = df[df['sample'] == dataset_name_suff].reset_index(drop=True)"
   ]
  },
  {
   "cell_type": "code",
   "execution_count": null,
   "metadata": {},
   "outputs": [],
   "source": [
    "import copy as cp\n",
    "for dataset_name in datasets_llm.keys():\n",
    "    dataset = cp.deepcopy(datasets_llm[dataset_name])\n",
    "    if 'llm_pred' in dataset.columns:\n",
    "        print(f'{dataset_name} already predicted')\n",
    "        continue\n",
    "    print(f'Predicting {dataset_name}...')\n",
    "    for i, row in tqdm(dataset.iterrows(), total=dataset.shape[0]):\n",
    "        if row['title'] is not None:\n",
    "            dataset.loc[i, 'llm_pred'] = llm.predict(row['title'])\n",
    "        else:\n",
    "            dataset.loc[i, 'llm_pred'] = None\n",
    "\n"
   ]
  },
  {
   "cell_type": "code",
   "execution_count": null,
   "metadata": {},
   "outputs": [],
   "source": [
    "for dataset_name in datasets_llm.keys():\n",
    "    # extract suffix after _\n",
    "    dataset_name_suff = dataset_name.split('_')[1]\n",
    "    file_name = f'llm_results_{dataset_name_suff}.csv'\n",
    "    dataset[['title', 'is_clickbait', 'dataset', 'sample', 'llm_pred']].to_csv(file_name, index=False)\n",
    "    print(f'Saved {file_name}...')"
   ]
  },
  {
   "cell_type": "code",
   "execution_count": 11,
   "metadata": {},
   "outputs": [],
   "source": [
    "df_test = datasets_llm['df_test']\n",
    "df_val2 = datasets_llm['df_val2']"
   ]
  },
  {
   "cell_type": "code",
   "execution_count": 12,
   "metadata": {},
   "outputs": [
    {
     "name": "stdout",
     "output_type": "stream",
     "text": [
      "F1:          0.8432\n",
      "ROC AUC:     0.9662\n",
      "Recall:      0.7358\n",
      "Precision:   0.9873\n",
      "Accuracy:    0.8657\n"
     ]
    }
   ],
   "source": [
    "y_true = df_test['is_clickbait'].values\n",
    "y_pred_proba = df_test['llm_pred'].values\n",
    "y_pred = (y_pred_proba > 0.5).astype(int)\n",
    "\n",
    "from sklearn.metrics import roc_auc_score, f1_score, recall_score, precision_score, accuracy_score\n",
    "\n",
    "print(f'F1: {f1_score(y_true, y_pred):>15.4f}')\n",
    "print(f'ROC AUC: {roc_auc_score(y_true, y_pred_proba):>10.4f}')\n",
    "print(f'Recall: {recall_score(y_true, y_pred):>11.4f}')\n",
    "print(f'Precision: {precision_score(y_true, y_pred):>8.4f}')\n",
    "print(f'Accuracy: {accuracy_score(y_true, y_pred):>9.4f}')\n",
    "\n"
   ]
  },
  {
   "cell_type": "code",
   "execution_count": 13,
   "metadata": {},
   "outputs": [
    {
     "data": {
      "image/png": "[encoded data removed]",
      "text/plain": [
       "<Figure size 640x480 with 2 Axes>"
      ]
     },
     "metadata": {},
     "output_type": "display_data"
    }
   ],
   "source": [
    "# plot confusion matrix\n",
    "from sklearn.metrics import confusion_matrix\n",
    "import seaborn as sns\n",
    "import matplotlib.pyplot as plt\n",
    "\n",
    "cm = confusion_matrix(y_true, y_pred)\n",
    "sns.heatmap(cm, annot=True, fmt='d', cmap='Blues')\n",
    "# add labels to heatmap\n",
    "plt.xlabel('Predicted')\n",
    "plt.ylabel('True')\n",
    "plt.show()"
   ]
  },
  {
   "cell_type": "code",
   "execution_count": 15,
   "metadata": {},
   "outputs": [
    {
     "data": {
      "application/vnd.jupyter.widget-view+json": {
       "model_id": "b143dc197c124e078fde4d8de6a54123",
       "version_major": 2,
       "version_minor": 0
      },
      "text/plain": [
       "  0%|          | 0/10000 [00:00<?, ?it/s]"
      ]
     },
     "metadata": {},
     "output_type": "display_data"
    }
   ],
   "source": [
    "# find optimal threshold for F1 score\n",
    "from sklearn.metrics import roc_auc_score, f1_score, recall_score, precision_score, accuracy_score\n",
    "\n",
    "y_true_val = df_val2['is_clickbait'].values\n",
    "y_pred_proba_val = df_val2['llm_pred'].values\n",
    "n = 10000\n",
    "thresholds = []\n",
    "for i in tqdm(range(n)):\n",
    "    threshold = i/n\n",
    "    y_pred = (y_pred_proba_val > threshold).astype(int)\n",
    "    thresholds.append((threshold, f1_score(y_true_val, y_pred)))\n",
    "thresholds.sort(key=lambda x: x[1], reverse=True)\n"
   ]
  },
  {
   "cell_type": "code",
   "execution_count": 16,
   "metadata": {},
   "outputs": [
    {
     "name": "stdout",
     "output_type": "stream",
     "text": [
      "0.0031\n"
     ]
    }
   ],
   "source": [
    "print(thresholds[:1][0][0])"
   ]
  },
  {
   "cell_type": "code",
   "execution_count": 17,
   "metadata": {},
   "outputs": [
    {
     "name": "stdout",
     "output_type": "stream",
     "text": [
      "ROC AUC best F1 thresh:     0.9662\n",
      "F1 best F1 thresh:          0.9085\n",
      "Recall best F1 thresh:      0.8978\n",
      "Precision best F1 thresh:   0.9195\n",
      "Accuracy best F1 thresh:    0.9113\n"
     ]
    }
   ],
   "source": [
    "y_true = df_test['is_clickbait'].values\n",
    "y_pred_proba = df_test['llm_pred'].values\n",
    "y_pred = (y_pred_proba > thresholds[:1][0][0]).astype(int)\n",
    "\n",
    "from sklearn.metrics import roc_auc_score, f1_score\n",
    "print(f'ROC AUC best F1 thresh: {roc_auc_score(y_true, y_pred_proba):>10.4f}')\n",
    "print(f'F1 best F1 thresh: {f1_score(y_true, y_pred):>15.4f}')\n",
    "print(f'Recall best F1 thresh: {recall_score(y_true, y_pred):>11.4f}')\n",
    "print(f'Precision best F1 thresh: {precision_score(y_true, y_pred):>8.4f}')\n",
    "print(f'Accuracy best F1 thresh: {accuracy_score(y_true, y_pred):>9.4f}')\n",
    "\n",
    "\n"
   ]
  },
  {
   "cell_type": "code",
   "execution_count": 18,
   "metadata": {},
   "outputs": [
    {
     "data": {
      "image/png": "[encoded data removed]",
      "text/plain": [
       "<Figure size 640x480 with 2 Axes>"
      ]
     },
     "metadata": {},
     "output_type": "display_data"
    }
   ],
   "source": [
    "cm = confusion_matrix(y_true, y_pred)\n",
    "sns.heatmap(cm, annot=True, fmt='d', cmap='Blues')\n",
    "# add labels to heatmap\n",
    "plt.xlabel('Predicted')\n",
    "plt.ylabel('True')\n",
    "plt.show()"
   ]
  }
 ],
 "metadata": {
  "kernelspec": {
   "display_name": "ag",
   "language": "python",
   "name": "python3"
  },
  "language_info": {
   "codemirror_mode": {
    "name": "ipython",
    "version": 3
   },
   "file_extension": ".py",
   "mimetype": "text/x-python",
   "name": "python",
   "nbconvert_exporter": "python",
   "pygments_lexer": "ipython3",
   "version": "3.10.13"
  }
 },
 "nbformat": 4,
 "nbformat_minor": 2
}
