{
 "cells": [
  {
   "cell_type": "code",
   "execution_count": 2,
   "metadata": {},
   "outputs": [],
   "source": [
    "from django.conf import settings\n",
    "settings.configure(BASE_DIR='/Users/adammajczyk/Documents/AAA_Semy/Sem7/inzynierka/pracaInzynierska/djangoapp',)\n",
    "\n",
    "import os\n",
    "os.environ['TOKENIZERS_PARALLELISM'] = 'false'\n",
    "\n",
    "import sys\n",
    "sys.path.append('/Users/adammajczyk/Documents/AAA_Semy/Sem7/inzynierka/pracaInzynierska') "
   ]
  },
  {
   "cell_type": "code",
   "execution_count": 3,
   "metadata": {},
   "outputs": [],
   "source": [
    "from djangoapp.news.scripts.llm import *\n",
    "from djangoapp.news.scripts.model_loader import *\n",
    "from djangoapp.news.scripts.nlp import *"
   ]
  },
  {
   "cell_type": "code",
   "execution_count": 4,
   "metadata": {},
   "outputs": [],
   "source": [
    "import pandas as pd\n",
    "import pickle  \n",
    "from tqdm.notebook import tqdm \n",
    "\n",
    "df = pd.read_csv('../all_datasets/data/merged_titles_labels.csv')"
   ]
  },
  {
   "cell_type": "code",
   "execution_count": 5,
   "metadata": {},
   "outputs": [],
   "source": [
    "df_test = df[df['sample'] == 'test'].reset_index(drop=True)\n",
    "df_test\n",
    "\n",
    "df_test_text = df_test[df_test['text'].notnull()].reset_index(drop=True)\n",
    "df_test_no_text = df_test[df_test['text'].isnull()].reset_index(drop=True)"
   ]
  },
  {
   "cell_type": "code",
   "execution_count": 6,
   "metadata": {},
   "outputs": [],
   "source": [
    "model_loader = ModelLoader()\n",
    "llm = model_loader.llm \n",
    "vertex = model_loader.vertex\n",
    "summarizer = model_loader.summarizer"
   ]
  },
  {
   "cell_type": "markdown",
   "metadata": {},
   "source": [
    "## Testing Local LLM"
   ]
  },
  {
   "cell_type": "code",
   "execution_count": 7,
   "metadata": {},
   "outputs": [
    {
     "name": "stdout",
     "output_type": "stream",
     "text": [
      "Predicting df_test...\n"
     ]
    },
    {
     "data": {
      "application/vnd.jupyter.widget-view+json": {
       "model_id": "d9950adeece44f6581515d3447bf8634",
       "version_major": 2,
       "version_minor": 0
      },
      "text/plain": [
       "  0%|          | 0/2590 [00:00<?, ?it/s]"
      ]
     },
     "metadata": {},
     "output_type": "display_data"
    }
   ],
   "source": [
    "datasets_llm = [df_test]\n",
    "datasets_llm_names = ['df_test']\n",
    "\n",
    "for dataset, dataset_name in zip(datasets_llm, datasets_llm_names):\n",
    "    print(f'Predicting {dataset_name}...')\n",
    "    for i, row in tqdm(dataset.iterrows(), total=dataset.shape[0]):\n",
    "        if row['title'] is not None:\n",
    "            dataset.loc[i, 'llm_pred'] = llm.predict(row['title'])\n",
    "        else:\n",
    "            dataset.loc[i, 'llm_pred'] = None\n",
    "\n"
   ]
  },
  {
   "cell_type": "code",
   "execution_count": 40,
   "metadata": {},
   "outputs": [
    {
     "name": "stdout",
     "output_type": "stream",
     "text": [
      "F1:          0.8193\n",
      "ROC AUC:     0.9672\n",
      "Recall:      0.7010\n",
      "Precision:   0.9856\n",
      "Accuracy:    0.8483\n"
     ]
    }
   ],
   "source": [
    "\n",
    "\n",
    "y_true = df_test['is_clickbait'].values\n",
    "y_pred_proba = df_test['llm_pred'].values\n",
    "y_pred = (y_pred_proba > 0.5).astype(int)\n",
    "\n",
    "from sklearn.metrics import roc_auc_score, f1_score, recall_score, precision_score, accuracy_score\n",
    "\n",
    "print(f'F1: {f1_score(y_true, y_pred):>15.4f}')\n",
    "print(f'ROC AUC: {roc_auc_score(y_true, y_pred_proba):>10.4f}')\n",
    "print(f'Recall: {recall_score(y_true, y_pred):>11.4f}')\n",
    "print(f'Precision: {precision_score(y_true, y_pred):>8.4f}')\n",
    "print(f'Accuracy: {accuracy_score(y_true, y_pred):>9.4f}')\n",
    "\n"
   ]
  },
  {
   "cell_type": "code",
   "execution_count": 16,
   "metadata": {},
   "outputs": [
    {
     "data": {
      "text/plain": [
       "Text(50.722222222222214, 0.5, 'True')"
      ]
     },
     "execution_count": 16,
     "metadata": {},
     "output_type": "execute_result"
    },
    {
     "data": {
      "image/png": "[encoded data removed]",
      "text/plain": [
       "<Figure size 640x480 with 2 Axes>"
      ]
     },
     "metadata": {},
     "output_type": "display_data"
    }
   ],
   "source": [
    "# plot confusion matrix\n",
    "from sklearn.metrics import confusion_matrix\n",
    "import seaborn as sns\n",
    "import matplotlib.pyplot as plt\n",
    "\n",
    "cm = confusion_matrix(y_true, y_pred)\n",
    "sns.heatmap(cm, annot=True, fmt='d', cmap='Blues')\n",
    "# add labels to heatmap\n",
    "plt.xlabel('Predicted')\n",
    "plt.ylabel('True')"
   ]
  },
  {
   "cell_type": "code",
   "execution_count": 9,
   "metadata": {},
   "outputs": [
    {
     "data": {
      "application/vnd.jupyter.widget-view+json": {
       "model_id": "455ec45b694c409a954b62ece44d2bf8",
       "version_major": 2,
       "version_minor": 0
      },
      "text/plain": [
       "  0%|          | 0/10000 [00:00<?, ?it/s]"
      ]
     },
     "metadata": {},
     "output_type": "display_data"
    },
    {
     "data": {
      "text/plain": [
       "0.0043"
      ]
     },
     "execution_count": 9,
     "metadata": {},
     "output_type": "execute_result"
    }
   ],
   "source": [
    "# find optimal threshold for F1 score\n",
    "n = 10000\n",
    "thresholds = []\n",
    "for i in tqdm(range(n)):\n",
    "    threshold = i/n\n",
    "    y_pred = (y_pred_proba > threshold).astype(int)\n",
    "    thresholds.append((threshold, f1_score(y_true, y_pred)))\n",
    "thresholds.sort(key=lambda x: x[1], reverse=True)\n",
    "thresholds[:1][0][0]"
   ]
  },
  {
   "cell_type": "code",
   "execution_count": 46,
   "metadata": {},
   "outputs": [
    {
     "name": "stdout",
     "output_type": "stream",
     "text": [
      "ROC AUC best F1 thresh:     0.9672\n",
      "F1 best F1 thresh:          0.9040\n",
      "Recall best F1 thresh:      0.8780\n",
      "Precision best F1 thresh:   0.9316\n",
      "Accuracy best F1 thresh:    0.9085\n"
     ]
    }
   ],
   "source": [
    "y_true = df_test['is_clickbait'].values\n",
    "y_pred_proba = df_test['llm_pred'].values\n",
    "y_pred = (y_pred_proba > thresholds[:1][0][0]).astype(int)\n",
    "\n",
    "from sklearn.metrics import roc_auc_score, f1_score\n",
    "print(f'ROC AUC best F1 thresh: {roc_auc_score(y_true, y_pred_proba):>10.4f}')\n",
    "print(f'F1 best F1 thresh: {f1_score(y_true, y_pred):>15.4f}')\n",
    "print(f'Recall best F1 thresh: {recall_score(y_true, y_pred):>11.4f}')\n",
    "print(f'Precision best F1 thresh: {precision_score(y_true, y_pred):>8.4f}')\n",
    "print(f'Accuracy best F1 thresh: {accuracy_score(y_true, y_pred):>9.4f}')\n",
    "\n",
    "\n"
   ]
  },
  {
   "cell_type": "code",
   "execution_count": 11,
   "metadata": {},
   "outputs": [],
   "source": [
    "# save df\n",
    "df_test.to_csv('llm_results.csv', index=False)"
   ]
  }
 ],
 "metadata": {
  "kernelspec": {
   "display_name": "ag",
   "language": "python",
   "name": "python3"
  },
  "language_info": {
   "codemirror_mode": {
    "name": "ipython",
    "version": 3
   },
   "file_extension": ".py",
   "mimetype": "text/x-python",
   "name": "python",
   "nbconvert_exporter": "python",
   "pygments_lexer": "ipython3",
   "version": "3.10.13"
  }
 },
 "nbformat": 4,
 "nbformat_minor": 2
}
