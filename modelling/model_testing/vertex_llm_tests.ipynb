{
 "cells": [
  {
   "cell_type": "code",
   "execution_count": 1,
   "metadata": {},
   "outputs": [],
   "source": [
    "from django.conf import settings\n",
    "settings.configure(BASE_DIR='/Users/adammajczyk/Documents/AAA_Semy/Sem7/inzynierka/pracaInzynierska/djangoapp',)\n",
    "\n",
    "import os\n",
    "os.environ['TOKENIZERS_PARALLELISM'] = 'false'\n",
    "\n",
    "import sys\n",
    "sys.path.append('/Users/adammajczyk/Documents/AAA_Semy/Sem7/inzynierka/pracaInzynierska') "
   ]
  },
  {
   "cell_type": "code",
   "execution_count": 2,
   "metadata": {},
   "outputs": [],
   "source": [
    "from djangoapp.news.scripts.llm import *\n",
    "from djangoapp.news.scripts.model_loader2 import *\n",
    "from djangoapp.news.scripts.nlp import *"
   ]
  },
  {
   "cell_type": "code",
   "execution_count": 3,
   "metadata": {},
   "outputs": [],
   "source": [
    "import pandas as pd\n",
    "import pickle  \n",
    "from tqdm.notebook import tqdm \n",
    "\n",
    "df = pd.read_csv('../all_datasets/data/merged_titles_labels.csv')"
   ]
  },
  {
   "cell_type": "code",
   "execution_count": 4,
   "metadata": {},
   "outputs": [],
   "source": [
    "df_test = df[df['sample'] == 'test'].reset_index(drop=True)\n",
    "df_test\n",
    "\n",
    "df_test_text = df_test[df_test['text'].notnull()].reset_index(drop=True)\n",
    "df_test_no_text = df_test[df_test['text'].isnull()].reset_index(drop=True)"
   ]
  },
  {
   "cell_type": "code",
   "execution_count": 5,
   "metadata": {},
   "outputs": [],
   "source": [
    "model_loader = ModelLoader()\n",
    "llm = model_loader.llm \n",
    "vertex = model_loader.vertex\n",
    "summarizer = model_loader.summarizer"
   ]
  },
  {
   "cell_type": "markdown",
   "metadata": {},
   "source": [
    "## Testing VertexAI LLM"
   ]
  },
  {
   "cell_type": "code",
   "execution_count": 6,
   "metadata": {},
   "outputs": [],
   "source": [
    "# ignore FutureWarning\n",
    "import warnings\n",
    "warnings.simplefilter(action='ignore', category=FutureWarning)"
   ]
  },
  {
   "cell_type": "code",
   "execution_count": 7,
   "metadata": {},
   "outputs": [
    {
     "name": "stdout",
     "output_type": "stream",
     "text": [
      "Predicting df_test...\n"
     ]
    },
    {
     "data": {
      "application/vnd.jupyter.widget-view+json": {
       "model_id": "f0d8d421c15a41a6a04c21c508c97a5b",
       "version_major": 2,
       "version_minor": 0
      },
      "text/plain": [
       "  0%|          | 0/2590 [00:00<?, ?it/s]"
      ]
     },
     "metadata": {},
     "output_type": "display_data"
    },
    {
     "name": "stderr",
     "output_type": "stream",
     "text": [
      "Token indices sequence length is longer than the specified maximum sequence length for this model (777 > 512). Running this sequence through the model will result in indexing errors\n"
     ]
    }
   ],
   "source": [
    "import copy as cp\n",
    "datasets_vertex = {\n",
    "    'df_test': df_test,\n",
    "    # 'df_test_text': df_test_text,\n",
    "    # 'df_test_no_text': df_test_no_text,\n",
    "    # 'df_problem': df_problem,\n",
    "}\n",
    "\n",
    "\n",
    "for dataset_name in datasets_vertex.keys():\n",
    "    if os.path.isfile('vertex_results.csv'):\n",
    "        dataset = pd.read_csv('vertex_results.csv')\n",
    "        continue\n",
    "\n",
    "    dataset = cp.deepcopy(datasets_vertex[dataset_name])\n",
    "    print(f'Predicting {dataset_name}...')\n",
    "    dataset['with_summary_error'] = [False] * dataset.shape[0]\n",
    "    dataset['without_summary_error'] = [False] * dataset.shape[0]\n",
    "\n",
    "    for i, row in tqdm(dataset.iterrows(), total=dataset.shape[0]):\n",
    "        title = row['title']\n",
    "        if pd.notnull(row['text']):\n",
    "            text = row['text']\n",
    "            summary = model_loader.summarizer(\n",
    "                text, max_length=200, min_length=40, do_sample=False\n",
    "            )\n",
    "            try:\n",
    "                dataset.loc[i, 'vertex_prediction_with_summary'] = vertex.run(title, summary)\n",
    "            except:\n",
    "                print(f'Error in {i} row')\n",
    "                dataset.loc[i, 'vertex_prediction_with_summary'] = None\n",
    "                dataset.loc[i, 'with_summary_error'] = True\n",
    "        else:\n",
    "            dataset.loc[i, 'vertex_prediction_with_summary'] = None\n",
    "        \n",
    "        try:\n",
    "            dataset.loc[i, 'vertex_prediction_without_summary'] = vertex.run(title)\n",
    "        except:\n",
    "            print(f'Error in {i} row')\n",
    "            dataset.loc[i, 'vertex_prediction_without_summary'] = None\n",
    "            dataset.loc[i, 'without_summary_error'] = True"
   ]
  },
  {
   "cell_type": "code",
   "execution_count": null,
   "metadata": {},
   "outputs": [],
   "source": [
    "datasets_vertex['df_test'] = dataset\n",
    "df_test = datasets_vertex['df_test']"
   ]
  },
  {
   "cell_type": "code",
   "execution_count": null,
   "metadata": {},
   "outputs": [],
   "source": [
    "# save df\n",
    "df_test.to_csv('vertex_results.csv', index=False)"
   ]
  },
  {
   "cell_type": "code",
   "execution_count": null,
   "metadata": {},
   "outputs": [],
   "source": [
    "from sklearn.metrics import confusion_matrix\n",
    "import seaborn as sns\n",
    "import matplotlib.pyplot as plt"
   ]
  },
  {
   "cell_type": "markdown",
   "metadata": {},
   "source": [
    "## Dane `title` (2585)"
   ]
  },
  {
   "cell_type": "code",
   "execution_count": null,
   "metadata": {},
   "outputs": [
    {
     "name": "stdout",
     "output_type": "stream",
     "text": [
      "F1:          0.7498\n",
      "Recall:      0.9550\n",
      "Precision:   0.6172\n",
      "Accuracy:    0.6874\n"
     ]
    }
   ],
   "source": [
    "df_test_no_text_no_nan = df_test[df_test['vertex_prediction_without_summary'].notnull()].reset_index(drop=True)\n",
    "y_true = df_test_no_text_no_nan['is_clickbait'].values\n",
    "y_pred = df_test_no_text_no_nan['vertex_prediction_without_summary'].values    \n",
    "\n",
    "y_pred = y_pred.astype(int)\n",
    "\n",
    "from sklearn.metrics import roc_auc_score, f1_score, recall_score, precision_score, accuracy_score\n",
    "\n",
    "print(f'F1: {f1_score(y_true, y_pred):>15.4f}')\n",
    "print(f'Recall: {recall_score(y_true, y_pred):>11.4f}')\n",
    "print(f'Precision: {precision_score(y_true, y_pred):>8.4f}')\n",
    "print(f'Accuracy: {accuracy_score(y_true, y_pred):>9.4f}')\n",
    "\n"
   ]
  },
  {
   "cell_type": "code",
   "execution_count": null,
   "metadata": {},
   "outputs": [
    {
     "data": {
      "image/png": "[encoded data removed]",
      "text/plain": [
       "<Figure size 640x480 with 2 Axes>"
      ]
     },
     "metadata": {},
     "output_type": "display_data"
    }
   ],
   "source": [
    "cm = confusion_matrix(y_true, y_pred)\n",
    "sns.heatmap(cm, annot=True, fmt='d', cmap='Blues')\n",
    "# add labels to heatmap\n",
    "plt.xlabel('Predicted')\n",
    "plt.ylabel('True')\n",
    "plt.show()"
   ]
  },
  {
   "cell_type": "markdown",
   "metadata": {},
   "source": [
    "## Dane `title + text` artykułów (992)"
   ]
  },
  {
   "cell_type": "markdown",
   "metadata": {},
   "source": [
    "### Predykcja z podsumowaniem"
   ]
  },
  {
   "cell_type": "code",
   "execution_count": null,
   "metadata": {},
   "outputs": [
    {
     "name": "stdout",
     "output_type": "stream",
     "text": [
      "F1:          0.7333\n",
      "Recall:      0.7992\n",
      "Precision:   0.6774\n",
      "Accuracy:    0.7228\n"
     ]
    }
   ],
   "source": [
    "df_test_no_text_no_nan = df_test[df_test['vertex_prediction_with_summary'].notnull()].reset_index(drop=True)\n",
    "y_true = df_test_no_text_no_nan['is_clickbait'].values\n",
    "y_pred = df_test_no_text_no_nan['vertex_prediction_with_summary'].values\n",
    "\n",
    "y_pred = y_pred.astype(int)\n",
    "\n",
    "from sklearn.metrics import roc_auc_score, f1_score, recall_score, precision_score, accuracy_score\n",
    "\n",
    "print(f'F1: {f1_score(y_true, y_pred):>15.4f}')\n",
    "print(f'Recall: {recall_score(y_true, y_pred):>11.4f}')\n",
    "print(f'Precision: {precision_score(y_true, y_pred):>8.4f}')\n",
    "print(f'Accuracy: {accuracy_score(y_true, y_pred):>9.4f}')"
   ]
  },
  {
   "cell_type": "code",
   "execution_count": null,
   "metadata": {},
   "outputs": [
    {
     "data": {
      "image/png": "[encoded data removed]",
      "text/plain": [
       "<Figure size 640x480 with 2 Axes>"
      ]
     },
     "metadata": {},
     "output_type": "display_data"
    }
   ],
   "source": [
    "cm = confusion_matrix(y_true, y_pred)\n",
    "sns.heatmap(cm, annot=True, fmt='d', cmap='Blues')\n",
    "# add labels to heatmap\n",
    "plt.xlabel('Predicted')\n",
    "plt.ylabel('True')\n",
    "plt.show()"
   ]
  },
  {
   "cell_type": "markdown",
   "metadata": {},
   "source": [
    "### Predykcja bez podsumowania"
   ]
  },
  {
   "cell_type": "code",
   "execution_count": null,
   "metadata": {},
   "outputs": [
    {
     "name": "stdout",
     "output_type": "stream",
     "text": [
      "F1:          0.7265\n",
      "Recall:      0.9239\n",
      "Precision:   0.5986\n",
      "Accuracy:    0.6683\n"
     ]
    }
   ],
   "source": [
    "df_test_no_text_no_nan = df_test[df_test['vertex_prediction_with_summary'].notnull()].reset_index(drop=True)\n",
    "y_true = df_test_no_text_no_nan['is_clickbait'].values\n",
    "y_pred = df_test_no_text_no_nan['vertex_prediction_without_summary'].values\n",
    "\n",
    "y_pred = y_pred.astype(int)\n",
    "\n",
    "from sklearn.metrics import roc_auc_score, f1_score, recall_score, precision_score, accuracy_score\n",
    "print(f'F1: {f1_score(y_true, y_pred):>15.4f}')\n",
    "print(f'Recall: {recall_score(y_true, y_pred):>11.4f}')\n",
    "print(f'Precision: {precision_score(y_true, y_pred):>8.4f}')\n",
    "print(f'Accuracy: {accuracy_score(y_true, y_pred):>9.4f}')"
   ]
  },
  {
   "cell_type": "code",
   "execution_count": null,
   "metadata": {},
   "outputs": [
    {
     "data": {
      "image/png": "[encoded data removed]",
      "text/plain": [
       "<Figure size 640x480 with 2 Axes>"
      ]
     },
     "metadata": {},
     "output_type": "display_data"
    }
   ],
   "source": [
    "cm = confusion_matrix(y_true, y_pred)\n",
    "sns.heatmap(cm, annot=True, fmt='d', cmap='Blues')\n",
    "# add labels to heatmap\n",
    "plt.xlabel('Predicted')\n",
    "plt.ylabel('True')\n",
    "plt.show()"
   ]
  },
  {
   "cell_type": "code",
   "execution_count": null,
   "metadata": {},
   "outputs": [],
   "source": []
  }
 ],
 "metadata": {
  "kernelspec": {
   "display_name": "ag",
   "language": "python",
   "name": "python3"
  },
  "language_info": {
   "codemirror_mode": {
    "name": "ipython",
    "version": 3
   },
   "file_extension": ".py",
   "mimetype": "text/x-python",
   "name": "python",
   "nbconvert_exporter": "python",
   "pygments_lexer": "ipython3",
   "version": "3.10.13"
  }
 },
 "nbformat": 4,
 "nbformat_minor": 2
}
