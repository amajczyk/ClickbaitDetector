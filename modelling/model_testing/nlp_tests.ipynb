{
 "cells": [
  {
   "cell_type": "code",
   "execution_count": 16,
   "metadata": {},
   "outputs": [
    {
     "name": "stderr",
     "output_type": "stream",
     "text": [
      "[nltk_data] Downloading package punkt to\n",
      "[nltk_data]     C:\\Users\\adamm\\AppData\\Roaming\\nltk_data...\n",
      "[nltk_data]   Package punkt is already up-to-date!\n",
      "[nltk_data] Downloading package wordnet to\n",
      "[nltk_data]     C:\\Users\\adamm\\AppData\\Roaming\\nltk_data...\n",
      "[nltk_data]   Package wordnet is already up-to-date!\n",
      "[nltk_data] Downloading package punkt to\n",
      "[nltk_data]     C:\\Users\\adamm\\AppData\\Roaming\\nltk_data...\n",
      "[nltk_data]   Package punkt is already up-to-date!\n",
      "[nltk_data] Downloading package averaged_perceptron_tagger to\n",
      "[nltk_data]     C:\\Users\\adamm\\AppData\\Roaming\\nltk_data...\n",
      "[nltk_data]   Package averaged_perceptron_tagger is already up-to-\n",
      "[nltk_data]       date!\n",
      "[nltk_data] Downloading package words to\n",
      "[nltk_data]     C:\\Users\\adamm\\AppData\\Roaming\\nltk_data...\n",
      "[nltk_data]   Package words is already up-to-date!\n"
     ]
    },
    {
     "ename": "FileNotFoundError",
     "evalue": "[Errno 2] No such file or directory: 'model_settings.json'",
     "output_type": "error",
     "traceback": [
      "\u001b[1;31m---------------------------------------------------------------------------\u001b[0m",
      "\u001b[1;31mFileNotFoundError\u001b[0m                         Traceback (most recent call last)",
      "Cell \u001b[1;32mIn[16], line 4\u001b[0m\n\u001b[0;32m      1\u001b[0m get_ipython()\u001b[38;5;241m.\u001b[39mrun_line_magic(\u001b[38;5;124m'\u001b[39m\u001b[38;5;124mrun\u001b[39m\u001b[38;5;124m'\u001b[39m, \u001b[38;5;124m'\u001b[39m\u001b[38;5;124m-i \u001b[39m\u001b[38;5;124m\"\u001b[39m\u001b[38;5;124m../classes.py\u001b[39m\u001b[38;5;124m\"\u001b[39m\u001b[38;5;124m'\u001b[39m)\n\u001b[0;32m      2\u001b[0m get_ipython()\u001b[38;5;241m.\u001b[39mrun_line_magic(\u001b[38;5;124m'\u001b[39m\u001b[38;5;124mrun\u001b[39m\u001b[38;5;124m'\u001b[39m, \u001b[38;5;124m'\u001b[39m\u001b[38;5;124m-i \u001b[39m\u001b[38;5;124m\"\u001b[39m\u001b[38;5;124m../functions.py\u001b[39m\u001b[38;5;124m\"\u001b[39m\u001b[38;5;124m'\u001b[39m)\n\u001b[1;32m----> 4\u001b[0m model_w2v_settings \u001b[38;5;241m=\u001b[39m return_best_model()\n\u001b[0;32m      5\u001b[0m model_w2v \u001b[38;5;241m=\u001b[39m Word2VecModel(model_w2v_settings)\n",
      "File \u001b[1;32m~\\Desktop\\sheeesh\\pracaInzynierska\\modelling\\functions.py:7\u001b[0m, in \u001b[0;36mreturn_best_model\u001b[1;34m()\u001b[0m\n\u001b[0;32m      5\u001b[0m \u001b[38;5;28;01mdef\u001b[39;00m \u001b[38;5;21mreturn_best_model\u001b[39m():\n\u001b[0;32m      6\u001b[0m     \u001b[38;5;66;03m# Load the best model from the model_settings.json file (best_word2vec property)\u001b[39;00m\n\u001b[1;32m----> 7\u001b[0m     \u001b[38;5;28;01mwith\u001b[39;00m \u001b[38;5;28mopen\u001b[39m(\u001b[38;5;124m'\u001b[39m\u001b[38;5;124mmodel_settings.json\u001b[39m\u001b[38;5;124m'\u001b[39m) \u001b[38;5;28;01mas\u001b[39;00m json_file:\n\u001b[0;32m      8\u001b[0m         model_settings \u001b[38;5;241m=\u001b[39m json\u001b[38;5;241m.\u001b[39mload(json_file)\n\u001b[0;32m      9\u001b[0m     \u001b[38;5;28;01mreturn\u001b[39;00m model_settings[\u001b[38;5;124m'\u001b[39m\u001b[38;5;124mbest_word2vec\u001b[39m\u001b[38;5;124m'\u001b[39m]\n",
      "File \u001b[1;32mc:\\Users\\adamm\\anaconda3\\Lib\\site-packages\\IPython\\core\\interactiveshell.py:286\u001b[0m, in \u001b[0;36m_modified_open\u001b[1;34m(file, *args, **kwargs)\u001b[0m\n\u001b[0;32m    279\u001b[0m \u001b[38;5;28;01mif\u001b[39;00m file \u001b[38;5;129;01min\u001b[39;00m {\u001b[38;5;241m0\u001b[39m, \u001b[38;5;241m1\u001b[39m, \u001b[38;5;241m2\u001b[39m}:\n\u001b[0;32m    280\u001b[0m     \u001b[38;5;28;01mraise\u001b[39;00m \u001b[38;5;167;01mValueError\u001b[39;00m(\n\u001b[0;32m    281\u001b[0m         \u001b[38;5;124mf\u001b[39m\u001b[38;5;124m\"\u001b[39m\u001b[38;5;124mIPython won\u001b[39m\u001b[38;5;124m'\u001b[39m\u001b[38;5;124mt let you open fd=\u001b[39m\u001b[38;5;132;01m{\u001b[39;00mfile\u001b[38;5;132;01m}\u001b[39;00m\u001b[38;5;124m by default \u001b[39m\u001b[38;5;124m\"\u001b[39m\n\u001b[0;32m    282\u001b[0m         \u001b[38;5;124m\"\u001b[39m\u001b[38;5;124mas it is likely to crash IPython. If you know what you are doing, \u001b[39m\u001b[38;5;124m\"\u001b[39m\n\u001b[0;32m    283\u001b[0m         \u001b[38;5;124m\"\u001b[39m\u001b[38;5;124myou can use builtins\u001b[39m\u001b[38;5;124m'\u001b[39m\u001b[38;5;124m open.\u001b[39m\u001b[38;5;124m\"\u001b[39m\n\u001b[0;32m    284\u001b[0m     )\n\u001b[1;32m--> 286\u001b[0m \u001b[38;5;28;01mreturn\u001b[39;00m io_open(file, \u001b[38;5;241m*\u001b[39margs, \u001b[38;5;241m*\u001b[39m\u001b[38;5;241m*\u001b[39mkwargs)\n",
      "\u001b[1;31mFileNotFoundError\u001b[0m: [Errno 2] No such file or directory: 'model_settings.json'"
     ]
    }
   ],
   "source": [
    "%run -i \"../classes.py\"\n",
    "%run -i \"../functions.py\""
   ]
  },
  {
   "cell_type": "code",
   "execution_count": null,
   "metadata": {},
   "outputs": [],
   "source": [
    "\"../all_datasets/\""
   ]
  },
  {
   "cell_type": "code",
   "execution_count": 22,
   "metadata": {},
   "outputs": [],
   "source": [
    "model_settings_all_datasets = {\n",
    "     \"best_word2vec\":\n",
    "    {\n",
    "        \"model_path\": \"../all_datasets/word2vec_models/word2vec_vs50_win5_sg0.model\",\n",
    "        \"vector_size\": 50,\n",
    "        \"window_size\": 5,\n",
    "        \"is_skipgram\": False\n",
    "    }\n",
    "}\n",
    "\n",
    "model_settings_clickbait_dataset = {\n",
    "     \"best_word2vec\":\n",
    "    {\n",
    "        \"model_path\": \"../all_datasets/word2vec_models/word2vec_vs20_win4_sg1.model\",\n",
    "        \"vector_size\": 20,\n",
    "        \"window_size\": 4,\n",
    "        \"is_skipgram\": True\n",
    "    }\n",
    "}\n",
    "\n",
    "model_settings_fake_news = {\n",
    "     \"best_word2vec\":\n",
    "    {\n",
    "        \"model_path\": \"../all_datasets/word2vec_models/word2vec_vs100_win3_sg0.model\",\n",
    "        \"vector_size\": 100,\n",
    "        \"window_size\": 3,\n",
    "        \"is_skipgram\": False\n",
    "    }\n",
    "}\n",
    "\n",
    "\n",
    "model_w2v_all_datasets = Word2VecModel(model_settings_all_datasets[\"best_word2vec\"])\n",
    "model_w2v_clickbait_dataset = Word2VecModel(model_settings_clickbait_dataset[\"best_word2vec\"])\n",
    "model_w2v_fake_news = Word2VecModel(model_settings_fake_news[\"best_word2vec\"])"
   ]
  },
  {
   "cell_type": "code",
   "execution_count": null,
   "metadata": {},
   "outputs": [],
   "source": [
    "variables_to_drop_all_datasets = get_dimensions_to_drop(\"../all_datasets/\")\n"
   ]
  },
  {
   "cell_type": "code",
   "execution_count": 9,
   "metadata": {},
   "outputs": [
    {
     "data": {
      "text/html": [
       "<div>\n",
       "<style scoped>\n",
       "    .dataframe tbody tr th:only-of-type {\n",
       "        vertical-align: middle;\n",
       "    }\n",
       "\n",
       "    .dataframe tbody tr th {\n",
       "        vertical-align: top;\n",
       "    }\n",
       "\n",
       "    .dataframe thead th {\n",
       "        text-align: right;\n",
       "    }\n",
       "</style>\n",
       "<table border=\"1\" class=\"dataframe\">\n",
       "  <thead>\n",
       "    <tr style=\"text-align: right;\">\n",
       "      <th></th>\n",
       "      <th>title</th>\n",
       "      <th>is_clickbait</th>\n",
       "      <th>text</th>\n",
       "      <th>dataset</th>\n",
       "      <th>sample</th>\n",
       "    </tr>\n",
       "  </thead>\n",
       "  <tbody>\n",
       "    <tr>\n",
       "      <th>0</th>\n",
       "      <td>[florida, back, away, prep, schedule, favoring...</td>\n",
       "      <td>0</td>\n",
       "      <td>NaN</td>\n",
       "      <td>clickbait-dataset</td>\n",
       "      <td>test</td>\n",
       "    </tr>\n",
       "    <tr>\n",
       "      <th>1</th>\n",
       "      <td>[beck, comey, letter,  , one, irresponsible, t...</td>\n",
       "      <td>1</td>\n",
       "      <td>Home › POLITICS › BECK: COMEY LETTER ‘ONE OF T...</td>\n",
       "      <td>fake-news</td>\n",
       "      <td>test</td>\n",
       "    </tr>\n",
       "    <tr>\n",
       "      <th>2</th>\n",
       "      <td>[sydney, swelter, climate, change, link, scien...</td>\n",
       "      <td>0</td>\n",
       "      <td>Southeastern Australia has suffered through a ...</td>\n",
       "      <td>fake-news</td>\n",
       "      <td>test</td>\n",
       "    </tr>\n",
       "    <tr>\n",
       "      <th>3</th>\n",
       "      <td>[california, today, airbnb, hometown, success,...</td>\n",
       "      <td>0</td>\n",
       "      <td>Good morning. This is the last day of our test...</td>\n",
       "      <td>fake-news</td>\n",
       "      <td>test</td>\n",
       "    </tr>\n",
       "    <tr>\n",
       "      <th>4</th>\n",
       "      <td>[clinton, could, win, control, voting, machine...</td>\n",
       "      <td>1</td>\n",
       "      <td>Voter Fraud is Trump’s Greatest Challenge New ...</td>\n",
       "      <td>fake-news</td>\n",
       "      <td>test</td>\n",
       "    </tr>\n",
       "  </tbody>\n",
       "</table>\n",
       "</div>"
      ],
      "text/plain": [
       "                                               title  is_clickbait  \\\n",
       "0  [florida, back, away, prep, schedule, favoring...             0   \n",
       "1  [beck, comey, letter,  , one, irresponsible, t...             1   \n",
       "2  [sydney, swelter, climate, change, link, scien...             0   \n",
       "3  [california, today, airbnb, hometown, success,...             0   \n",
       "4  [clinton, could, win, control, voting, machine...             1   \n",
       "\n",
       "                                                text            dataset sample  \n",
       "0                                                NaN  clickbait-dataset   test  \n",
       "1  Home › POLITICS › BECK: COMEY LETTER ‘ONE OF T...          fake-news   test  \n",
       "2  Southeastern Australia has suffered through a ...          fake-news   test  \n",
       "3  Good morning. This is the last day of our test...          fake-news   test  \n",
       "4  Voter Fraud is Trump’s Greatest Challenge New ...          fake-news   test  "
      ]
     },
     "execution_count": 9,
     "metadata": {},
     "output_type": "execute_result"
    }
   ],
   "source": [
    "import pickle\n",
    "import pandas as pd\n",
    "\n",
    "with open('../data/preprocessed_titles_labels.pkl', 'rb') as f:\n",
    "    data = pickle.load(f)\n",
    "\n",
    "df = pd.DataFrame(data)\n",
    "df=df[df['sample']=='test'].reset_index(drop=True)\n",
    "\n",
    "df['title_vector_all_datasets'] = [get_word_vectors(model_w2v, title, aggregation='mean') for title in df['title']]\n",
    "df['title_vector_clickbait-dataset'] = [get_word_vectors(model_w2v, title, aggregation='mean') for title in df['title']]\n",
    "df['title_vector_fake-news'] = [get_word_vectors(model_w2v, title, aggregation='mean') for title in df['title']]\n",
    "\n",
    "\n",
    "df.head()"
   ]
  },
  {
   "cell_type": "code",
   "execution_count": 11,
   "metadata": {},
   "outputs": [
    {
     "data": {
      "text/plain": [
       "((2590, 5), (1595, 5), (995, 5))"
      ]
     },
     "execution_count": 11,
     "metadata": {},
     "output_type": "execute_result"
    }
   ],
   "source": [
    "import copy as cp\n",
    "df_all_datasets = cp.deepcopy(df)\n",
    "df_clickbait_dataset = df[df['dataset']=='clickbait-dataset'].reset_index(drop=True)\n",
    "df_fake_news = df[df['dataset']=='fake-news'].reset_index(drop=True)\n",
    "\n",
    "df_all_datasets.shape, df_clickbait_dataset.shape, df_fake_news.shape\n"
   ]
  },
  {
   "cell_type": "code",
   "execution_count": 6,
   "metadata": {},
   "outputs": [
    {
     "data": {
      "text/plain": [
       "{'mod_all_datasets': {'data_all_datasets': {'accuracy': 0.0,\n",
       "   'precision': None,\n",
       "   'recall': None,\n",
       "   'f1-score': None,\n",
       "   'roc-auc': None},\n",
       "  'data_fake-news': {'accuracy': None,\n",
       "   'precision': None,\n",
       "   'recall': None,\n",
       "   'f1-score': None,\n",
       "   'roc-auc': None},\n",
       "  'data_clickbait-dataset': {'accuracy': None,\n",
       "   'precision': None,\n",
       "   'recall': None,\n",
       "   'f1-score': None,\n",
       "   'roc-auc': None}},\n",
       " 'mod_fake-news': {'data_all_datasets': {'accuracy': None,\n",
       "   'precision': None,\n",
       "   'recall': None,\n",
       "   'f1-score': None,\n",
       "   'roc-auc': None},\n",
       "  'data_fake-news': {'accuracy': None,\n",
       "   'precision': None,\n",
       "   'recall': None,\n",
       "   'f1-score': None,\n",
       "   'roc-auc': None},\n",
       "  'data_clickbait-dataset': {'accuracy': None,\n",
       "   'precision': None,\n",
       "   'recall': None,\n",
       "   'f1-score': None,\n",
       "   'roc-auc': None}},\n",
       " 'mod_clickbait-dataset-small': {'data_all_datasets': {'accuracy': None,\n",
       "   'precision': None,\n",
       "   'recall': None,\n",
       "   'f1-score': None,\n",
       "   'roc-auc': None},\n",
       "  'data_fake-news': {'accuracy': None,\n",
       "   'precision': None,\n",
       "   'recall': None,\n",
       "   'f1-score': None,\n",
       "   'roc-auc': None},\n",
       "  'data_clickbait-dataset': {'accuracy': None,\n",
       "   'precision': None,\n",
       "   'recall': None,\n",
       "   'f1-score': None,\n",
       "   'roc-auc': None}},\n",
       " 'mod_clickbait-dataset-large': {'data_all_datasets': {'accuracy': None,\n",
       "   'precision': None,\n",
       "   'recall': None,\n",
       "   'f1-score': None,\n",
       "   'roc-auc': None},\n",
       "  'data_fake-news': {'accuracy': None,\n",
       "   'precision': None,\n",
       "   'recall': None,\n",
       "   'f1-score': None,\n",
       "   'roc-auc': None},\n",
       "  'data_clickbait-dataset': {'accuracy': None,\n",
       "   'precision': None,\n",
       "   'recall': None,\n",
       "   'f1-score': None,\n",
       "   'roc-auc': None}}}"
      ]
     },
     "execution_count": 6,
     "metadata": {},
     "output_type": "execute_result"
    }
   ],
   "source": [
    "model_combinations = ['mod_all_datasets', 'mod_fake-news', 'mod_clickbait-dataset-small', 'mod_clickbait-dataset-large']\n",
    "dataset_combinations = ['data_all_datasets', 'data_fake-news', 'data_clickbait-dataset']\n",
    "metrics = ['accuracy', 'precision', 'recall', 'f1-score', 'roc-auc']\n",
    "\n",
    "results = dict()\n",
    "\n",
    "for model in model_combinations:\n",
    "    results[model] = dict()\n",
    "    for dataset in dataset_combinations:\n",
    "        results[model][dataset] = dict()\n",
    "        for metric in metrics:\n",
    "            results[model][dataset][metric] = None\n",
    "\n",
    "\n"
   ]
  },
  {
   "cell_type": "markdown",
   "metadata": {},
   "source": [
    "# All datasets"
   ]
  },
  {
   "cell_type": "code",
   "execution_count": null,
   "metadata": {},
   "outputs": [],
   "source": [
    "model_w2v_settings = return_best_model()\n",
    "model_w2v = Word2VecModel(model_w2v_settings)"
   ]
  }
 ],
 "metadata": {
  "kernelspec": {
   "display_name": "base",
   "language": "python",
   "name": "python3"
  },
  "language_info": {
   "codemirror_mode": {
    "name": "ipython",
    "version": 3
   },
   "file_extension": ".py",
   "mimetype": "text/x-python",
   "name": "python",
   "nbconvert_exporter": "python",
   "pygments_lexer": "ipython3",
   "version": "3.11.5"
  }
 },
 "nbformat": 4,
 "nbformat_minor": 2
}
