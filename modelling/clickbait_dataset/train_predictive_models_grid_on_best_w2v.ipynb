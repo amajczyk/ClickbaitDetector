{
 "cells": [
  {
   "cell_type": "code",
   "execution_count": 84,
   "metadata": {},
   "outputs": [],
   "source": [
    "import ssl\n",
    "\n",
    "ssl._create_default_https_context = ssl._create_unverified_context\n"
   ]
  },
  {
   "cell_type": "code",
   "execution_count": 85,
   "metadata": {},
   "outputs": [
    {
     "name": "stderr",
     "output_type": "stream",
     "text": [
      "[nltk_data] Downloading package stopwords to\n",
      "[nltk_data]     /Users/adammajczyk/nltk_data...\n",
      "[nltk_data]   Package stopwords is already up-to-date!\n",
      "[nltk_data] Downloading package punkt to\n",
      "[nltk_data]     /Users/adammajczyk/nltk_data...\n",
      "[nltk_data]   Package punkt is already up-to-date!\n",
      "[nltk_data] Downloading package punkt to\n",
      "[nltk_data]     /Users/adammajczyk/nltk_data...\n",
      "[nltk_data]   Package punkt is already up-to-date!\n",
      "[nltk_data] Downloading package wordnet to\n",
      "[nltk_data]     /Users/adammajczyk/nltk_data...\n",
      "[nltk_data]   Package wordnet is already up-to-date!\n",
      "[nltk_data] Downloading package punkt to\n",
      "[nltk_data]     /Users/adammajczyk/nltk_data...\n",
      "[nltk_data]   Package punkt is already up-to-date!\n",
      "[nltk_data] Downloading package averaged_perceptron_tagger to\n",
      "[nltk_data]     /Users/adammajczyk/nltk_data...\n",
      "[nltk_data]   Package averaged_perceptron_tagger is already up-to-\n",
      "[nltk_data]       date!\n",
      "[nltk_data] Downloading package words to\n",
      "[nltk_data]     /Users/adammajczyk/nltk_data...\n",
      "[nltk_data]   Package words is already up-to-date!\n"
     ]
    }
   ],
   "source": [
    "import numpy as np\n",
    "import pandas as pd\n",
    "import matplotlib.pyplot as plt\n",
    "from gensim.models import Word2Vec\n",
    "from nltk.tokenize import word_tokenize\n",
    "from nltk.corpus import stopwords\n",
    "import nltk\n",
    "nltk.download('stopwords')\n",
    "nltk.download('punkt')\n",
    "\n",
    "%run '../functions.py'\n",
    "%run '../classes.py'"
   ]
  },
  {
   "cell_type": "code",
   "execution_count": 86,
   "metadata": {},
   "outputs": [],
   "source": [
    "save_path = 'grid_search_results_new.json'\n",
    "grids_path = '../grid_search_grids.json'"
   ]
  },
  {
   "cell_type": "code",
   "execution_count": 87,
   "metadata": {},
   "outputs": [],
   "source": [
    "model_w2v_settings = return_best_model()"
   ]
  },
  {
   "cell_type": "code",
   "execution_count": 88,
   "metadata": {},
   "outputs": [],
   "source": [
    "model_w2v_settings['model_path'] = '../all_datasets/' + model_w2v_settings['model_path']\n",
    "\n",
    "model_w2v = Word2VecModel(model_w2v_settings)"
   ]
  },
  {
   "cell_type": "code",
   "execution_count": null,
   "metadata": {},
   "outputs": [],
   "source": [
    "# read preprocessed data from pickle file\n",
    "df = pd.read_pickle('data/preprocessed_titles_labels.pkl')\n",
    "df.head()"
   ]
  },
  {
   "cell_type": "code",
   "execution_count": 90,
   "metadata": {},
   "outputs": [
    {
     "data": {
      "text/plain": [
       "sample\n",
       "train    28836\n",
       "test      1607\n",
       "val2       781\n",
       "val1       776\n",
       "Name: count, dtype: int64"
      ]
     },
     "execution_count": 90,
     "metadata": {},
     "output_type": "execute_result"
    }
   ],
   "source": [
    "df['sample'].value_counts()\n"
   ]
  },
  {
   "cell_type": "code",
   "execution_count": null,
   "metadata": {},
   "outputs": [],
   "source": [
    "# split data into train and test stratified by y\n",
    "from sklearn.preprocessing import StandardScaler\n",
    "import os\n",
    "import pickle\n",
    "\n",
    "df['title_vector'] = [get_word_vectors(model_w2v, title, aggregation='mean') for title in df['title']]\n",
    "df = df.reset_index(drop=True)\n",
    "df.head()"
   ]
  },
  {
   "cell_type": "code",
   "execution_count": 92,
   "metadata": {},
   "outputs": [
    {
     "data": {
      "text/plain": [
       "array([-0.63768053, -0.16730867,  1.2560811 ,  0.3338902 , -0.56454986,\n",
       "        0.44497627,  0.784385  ,  0.3551108 , -0.8828402 ,  0.59592795,\n",
       "        0.1280393 , -0.64912486,  0.81945324, -0.3996215 ,  0.32769346,\n",
       "        1.2330511 ,  0.67513835, -0.43883395,  0.24185432, -0.9126102 ],\n",
       "      dtype=float32)"
      ]
     },
     "execution_count": 92,
     "metadata": {},
     "output_type": "execute_result"
    }
   ],
   "source": [
    "df['title_vector'][0]"
   ]
  },
  {
   "cell_type": "code",
   "execution_count": 93,
   "metadata": {},
   "outputs": [
    {
     "data": {
      "text/plain": [
       "[16, 14, 2, 11, 10, 6, 15, 18, 12, 8, 13, 3, 1, 4, 17, 19, 9, 0]"
      ]
     },
     "execution_count": 93,
     "metadata": {},
     "output_type": "execute_result"
    }
   ],
   "source": [
    "variables_to_drop = get_dimensions_to_drop()\n",
    "variables_to_drop"
   ]
  },
  {
   "cell_type": "code",
   "execution_count": 94,
   "metadata": {},
   "outputs": [],
   "source": [
    "df['title_vector'] = [drop_dimensions_from_vector(vector, variables_to_drop) for vector in df['title_vector']]"
   ]
  },
  {
   "cell_type": "code",
   "execution_count": 95,
   "metadata": {},
   "outputs": [
    {
     "data": {
      "text/plain": [
       "array([0.44497627, 0.3551108 ], dtype=float32)"
      ]
     },
     "execution_count": 95,
     "metadata": {},
     "output_type": "execute_result"
    }
   ],
   "source": [
    "df['title_vector'][0]"
   ]
  },
  {
   "cell_type": "code",
   "execution_count": 96,
   "metadata": {},
   "outputs": [],
   "source": [
    "X_train = np.vstack(df[df['sample']=='train']['title_vector'])\n",
    "X_test = np.vstack(df[df['sample']=='val2']['title_vector'])\n",
    "\n",
    "y_train = df[df['sample']=='train']['is_clickbait']\n",
    "y_test = df[df['sample']=='val2']['is_clickbait']\n",
    "\n",
    "# scale data\n",
    "scaler = StandardScaler()\n",
    "X_train_scaled = scaler.fit_transform(X_train)\n",
    "X_test_scaled = scaler.transform(X_test)"
   ]
  },
  {
   "cell_type": "code",
   "execution_count": null,
   "metadata": {},
   "outputs": [],
   "source": [
    "import json\n",
    "\n",
    "with open(grids_path, 'r') as f:\n",
    "    model_settings = json.load(f)\n",
    "\n",
    "model_settings\n",
    "grids = model_settings['grid_search_grids']\n",
    "grids"
   ]
  },
  {
   "cell_type": "code",
   "execution_count": 98,
   "metadata": {},
   "outputs": [
    {
     "data": {
      "text/plain": [
       "['decision_tree', 'catboost', 'lightgbm', 'xgboost', 'random_forest']"
      ]
     },
     "execution_count": 98,
     "metadata": {},
     "output_type": "execute_result"
    }
   ],
   "source": [
    "models_to_CV = list()\n",
    "\n",
    "for model_name, grid in grids.items():\n",
    "    # check if model has already been trained - if 'best_params' exists in grid\n",
    "    if 'best_params' in grid.keys():\n",
    "        print(f'Model {model_name} already trained')\n",
    "        continue\n",
    "    models_to_CV.append((model_name))\n",
    "models_to_CV\n",
    "\n",
    "# remove _grid from model names\n",
    "models_to_CV = [model_name.replace('_grid', '') for model_name in models_to_CV]\n",
    "models_to_CV"
   ]
  },
  {
   "cell_type": "code",
   "execution_count": 99,
   "metadata": {},
   "outputs": [],
   "source": [
    "from sklearn.tree import DecisionTreeClassifier\n",
    "from sklearn.ensemble import RandomForestClassifier\n",
    "from xgboost import XGBClassifier\n",
    "from lightgbm import LGBMClassifier\n",
    "from catboost import CatBoostClassifier"
   ]
  },
  {
   "cell_type": "code",
   "execution_count": 100,
   "metadata": {},
   "outputs": [],
   "source": [
    "def return_model_with_param(model_name, param = dict()):\n",
    "    if model_name == 'decision_tree':\n",
    "        model = DecisionTreeClassifier(**param)\n",
    "    elif model_name == 'random_forest':\n",
    "        model = RandomForestClassifier(**param)\n",
    "    elif model_name == 'xgboost':\n",
    "        model = XGBClassifier(**param)\n",
    "    elif model_name == 'lightgbm':\n",
    "        model = LGBMClassifier(**param, verbose=-1)\n",
    "    elif model_name == 'catboost':\n",
    "        model = CatBoostClassifier(**param,verbose=0)\n",
    "    return model"
   ]
  },
  {
   "cell_type": "code",
   "execution_count": 101,
   "metadata": {},
   "outputs": [],
   "source": [
    "models_to_CV = [\n",
    "    'catboost',\n",
    "    'lightgbm', \n",
    "    'xgboost',\n",
    "    \n",
    "    'decision_tree', \n",
    "    'random_forest',  \n",
    "    \n",
    "]"
   ]
  },
  {
   "cell_type": "code",
   "execution_count": null,
   "metadata": {},
   "outputs": [],
   "source": [
    "from sklearn.model_selection import StratifiedKFold\n",
    "from sklearn.metrics import roc_auc_score, f1_score\n",
    "from tqdm.notebook import tqdm\n",
    "\n",
    "# read existing results\n",
    "try:\n",
    "    with open(save_path, 'r') as f:\n",
    "        grid_search_results = json.load(f)\n",
    "    print('Loaded existing results')\n",
    "except:\n",
    "    grid_search_results = dict()\n",
    "    print('No existing results found - creating new dict')\n",
    "for model_name in models_to_CV:\n",
    "    grid_search_results[model_name] = dict()\n",
    "\n",
    "for model_name in tqdm(models_to_CV, desc = 'Models'):\n",
    "\n",
    "    kf = StratifiedKFold(n_splits=5, shuffle=True, random_state=42)\n",
    "\n",
    "    # get grid\n",
    "    grid = grids[model_name+'_grid']\n",
    "\n",
    "    # generate all combinations of parameters\n",
    "    import itertools\n",
    "\n",
    "    keys, values = zip(*grid.items())\n",
    "    combinations_dicts = [dict(zip(keys, v)) for v in itertools.product(*values)]\n",
    "\n",
    "    # do grid search\n",
    "    \n",
    "    for params in combinations_dicts:\n",
    "        grid_search_results[model_name][str(params)] = dict()\n",
    "\n",
    "    for params in tqdm(combinations_dicts, desc = 'Grid combinations search for model {}'.format(model_name)):\n",
    "       \n",
    "        model = return_model_with_param(model_name, params)\n",
    "        scores_auc_cv_val = list()\n",
    "        scores_auc_val2 = list()\n",
    "        scores_auc_train = list()\n",
    "\n",
    "        scores_f1_cv_val = list()\n",
    "        scores_f1_val2 = list()\n",
    "        scores_f1_train = list()\n",
    "\n",
    "        for train_index, val_index in kf.split(X_train_scaled, y_train):\n",
    "            X_train_kf = X_train_scaled[train_index]\n",
    "            X_val_kf = X_train_scaled[val_index]\n",
    "            y_train_kf = y_train.iloc[train_index]\n",
    "            y_val_kf = y_train.iloc[val_index]\n",
    "\n",
    "            model.fit(X_train_kf, y_train_kf)\n",
    "\n",
    "            # print(model)\n",
    "\n",
    "        \n",
    "            scores_auc_cv_val.append(roc_auc_score(y_val_kf, model.predict_proba(X_val_kf)[:,1]))\n",
    "            scores_auc_val2.append(roc_auc_score(y_test, model.predict_proba(X_test_scaled)[:,1]))\n",
    "            scores_auc_train.append(roc_auc_score(y_train_kf, model.predict_proba(X_train_kf)[:,1]))\n",
    "\n",
    "            y_pred_cv_val = model.predict_proba(X_val_kf)[:,1]\n",
    "            y_pred_val2 = model.predict_proba(X_test_scaled)[:,1]\n",
    "            y_pred_train = model.predict_proba(X_train_kf)[:,1]\n",
    "\n",
    "            # print(y_pred_cv_val[y_pred_cv_val>0.5])\n",
    "\n",
    "            y_pred_cv_val = np.where(y_pred_cv_val > 0.5, 1, 0)\n",
    "            y_pred_val2 = np.where(y_pred_val2 > 0.5, 1, 0)\n",
    "            y_pred_train = np.where(y_pred_train > 0.5, 1, 0)\n",
    "\n",
    "\n",
    "            \n",
    "            scores_f1_cv_val.append(f1_score(y_val_kf, model.predict(X_val_kf)))\n",
    "            scores_f1_val2.append(f1_score(y_test, model.predict(X_test_scaled)))\n",
    "            scores_f1_train.append(f1_score(y_train_kf, model.predict(X_train_kf)))\n",
    "            break\n",
    "\n",
    "        # print(scores_f1_train, scores_f1_cv_val, scores_f1_val2)\n",
    "        # print(scores_auc_train, scores_auc_cv_val, scores_auc_val2)\n",
    "\n",
    "        grid_search_results[model_name][str(params)]['mean_train_f1'] = np.mean(scores_f1_train)\n",
    "        grid_search_results[model_name][str(params)]['mean_cv_val_f1'] = np.mean(scores_f1_cv_val)\n",
    "        grid_search_results[model_name][str(params)]['mean_val2_f1'] = np.mean(scores_f1_val2)\n",
    "\n",
    "        grid_search_results[model_name][str(params)]['mean_train_auc'] = np.mean(scores_auc_train)\n",
    "        grid_search_results[model_name][str(params)]['mean_cv_val_auc'] = np.mean(scores_auc_cv_val)\n",
    "        grid_search_results[model_name][str(params)]['mean_val2_auc'] = np.mean(scores_auc_val2)\n",
    "\n",
    "        grid_search_results[model_name][str(params)]['f1_diff_cv_val'] = np.mean(scores_f1_train) - np.mean(scores_f1_cv_val)\n",
    "        grid_search_results[model_name][str(params)]['auc_diff_cv_val'] = np.mean(scores_auc_train) - np.mean(scores_auc_cv_val)\n",
    "\n",
    "        grid_search_results[model_name][str(params)]['f1_diff_val2'] = np.mean(scores_f1_train) - np.mean(scores_f1_val2)\n",
    "        grid_search_results[model_name][str(params)]['auc_diff_val2'] = np.mean(scores_auc_train) - np.mean(scores_auc_val2)\n",
    "\n",
    "        grid_search_results[model_name][str(params)]['params'] = params\n",
    "\n",
    "        # save results to json file\n",
    "        with open(save_path, 'w') as f:\n",
    "            json.dump(grid_search_results, f)\n",
    "    \n",
    "\n",
    "\n",
    "\n",
    "    print(grid_search_results[model_name])\n",
    "    \n",
    "# grid_search_results"
   ]
  },
  {
   "cell_type": "code",
   "execution_count": 103,
   "metadata": {},
   "outputs": [],
   "source": [
    "# save results\n",
    "with open(save_path, 'w') as f:\n",
    "    json.dump(grid_search_results, f)"
   ]
  },
  {
   "cell_type": "code",
   "execution_count": 104,
   "metadata": {},
   "outputs": [],
   "source": [
    "# load results\n",
    "with open(save_path, 'r') as f:\n",
    "    grid_search_results = json.load(f)"
   ]
  },
  {
   "cell_type": "code",
   "execution_count": 105,
   "metadata": {},
   "outputs": [],
   "source": [
    "df_res= pd.DataFrame()\n",
    "\n",
    "for model in grid_search_results:\n",
    "    temp = grid_search_results[model]\n",
    "    temp = pd.DataFrame.from_dict(temp)\n",
    "    temp = temp.transpose()\n",
    "    temp['model'] = model\n",
    "    df_res = pd.concat([df_res, temp])"
   ]
  },
  {
   "cell_type": "code",
   "execution_count": 106,
   "metadata": {},
   "outputs": [],
   "source": [
    "df_res = df_res.reset_index()"
   ]
  },
  {
   "cell_type": "code",
   "execution_count": null,
   "metadata": {},
   "outputs": [],
   "source": [
    "top_auc = df_res[(df_res['auc_diff_val2']<=0.05)].sort_values(by='mean_val2_auc', ascending=False).head(500)\n",
    "top_auc"
   ]
  },
  {
   "cell_type": "code",
   "execution_count": null,
   "metadata": {},
   "outputs": [],
   "source": [
    "topf1 = df_res[(df_res['f1_diff_val2']<=0.05)].sort_values(by='mean_val2_f1', ascending=False).head(500)\n",
    "topf1"
   ]
  },
  {
   "cell_type": "code",
   "execution_count": 109,
   "metadata": {},
   "outputs": [],
   "source": [
    "top_both = pd.merge(top_auc, topf1, on=['index'], how='inner')\n",
    "\n",
    "# keep _x columns\n",
    "top_both = top_both[[col for col in top_both.columns if '_x' in col]]\n",
    "top_both.columns = [col.replace('_x', '') for col in top_both.columns]"
   ]
  },
  {
   "cell_type": "code",
   "execution_count": null,
   "metadata": {},
   "outputs": [],
   "source": [
    "top_both['sum_diff_val2'] = top_both['f1_diff_val2'] + top_both['auc_diff_val2']\n",
    "top_both['sum_auc_f1_val2'] = top_both['mean_val2_f1'] + top_both['mean_val2_auc']\n",
    "\n",
    "top_both = top_both.sort_values(by='sum_auc_f1_val2', ascending=False).head(1000).reset_index(drop=True)\n",
    "top_both"
   ]
  },
  {
   "cell_type": "code",
   "execution_count": 111,
   "metadata": {},
   "outputs": [
    {
     "name": "stdout",
     "output_type": "stream",
     "text": [
      "Winner model: |catboost| with params: {'iterations': 250, 'learning_rate': 0.1, 'depth': 5, 'l2_leaf_reg': 5}\n"
     ]
    }
   ],
   "source": [
    "params, model_name = top_both['params'][0], top_both['model'][0]\n",
    "print('Winner model: |{}|'.format(model_name), 'with params: {}'.format(params))"
   ]
  },
  {
   "cell_type": "code",
   "execution_count": 112,
   "metadata": {},
   "outputs": [
    {
     "data": {
      "text/plain": [
       "<catboost.core.CatBoostClassifier at 0x2bde48c10>"
      ]
     },
     "execution_count": 112,
     "metadata": {},
     "output_type": "execute_result"
    }
   ],
   "source": [
    "# train model with best params\n",
    "model = return_model_with_param(model_name, params)\n",
    "model.fit(X_train_scaled, y_train)"
   ]
  },
  {
   "cell_type": "code",
   "execution_count": 113,
   "metadata": {},
   "outputs": [],
   "source": [
    "# save model\n",
    "import pickle\n",
    "with open('predictive_models/{}.pkl'.format(model_name), 'wb') as f:\n",
    "    pickle.dump(model, f)\n"
   ]
  },
  {
   "cell_type": "code",
   "execution_count": 114,
   "metadata": {},
   "outputs": [],
   "source": [
    "# save scaler\n",
    "with open('predictive_models/scaler.pkl', 'wb') as f:\n",
    "    pickle.dump(scaler, f)"
   ]
  },
  {
   "cell_type": "code",
   "execution_count": 115,
   "metadata": {},
   "outputs": [
    {
     "name": "stdout",
     "output_type": "stream",
     "text": [
      "F1 score: 0.9246913580246914\n",
      "AUC score: 0.9811248861545324\n"
     ]
    }
   ],
   "source": [
    "# calculate metrics on test set\n",
    "from sklearn.metrics import roc_auc_score, f1_score\n",
    "\n",
    "X_test = np.vstack(df[df['sample']=='test']['title_vector'])\n",
    "y_test = df[df['sample']=='test']['is_clickbait']\n",
    "\n",
    "X_test_scaled = scaler.transform(X_test)\n",
    "\n",
    "y_pred = model.predict(X_test_scaled)\n",
    "y_pred_proba = model.predict_proba(X_test_scaled)[:,1]\n",
    "\n",
    "print('F1 score: {}'.format(f1_score(y_test, y_pred)))\n",
    "print('AUC score: {}'.format(roc_auc_score(y_test, y_pred_proba)))"
   ]
  },
  {
   "cell_type": "code",
   "execution_count": null,
   "metadata": {},
   "outputs": [],
   "source": [
    "# find best threshold for f1 score\n",
    "import numpy as np\n",
    "from tqdm.auto import tqdm\n",
    "# find threshold for best f1 score\n",
    "thresholds = np.linspace(0, 1, 10000)\n",
    "f1s = dict()\n",
    "for threshold in tqdm(thresholds):\n",
    "    y_pred = (model.predict_proba(X_test_scaled)[:, 1] >= threshold).astype(int)\n",
    "    f1 = f1_score(y_test, y_pred)\n",
    "    f1s[threshold] = f1\n",
    "\n",
    "# get threshold for best f1 score\n",
    "threshold = max(f1s, key=f1s.get)\n",
    "threshold"
   ]
  },
  {
   "cell_type": "code",
   "execution_count": 117,
   "metadata": {},
   "outputs": [
    {
     "name": "stdout",
     "output_type": "stream",
     "text": [
      "ROC AUC test: 0.9811248861545324\n",
      "F1 test: 0.9291819291819292\n",
      "Accuracy test: 0.9278158058494088\n"
     ]
    }
   ],
   "source": [
    "# find auc and f1 for best threshold and accuracy\n",
    "from sklearn.metrics import accuracy_score\n",
    "y_pred = (model.predict_proba(X_test_scaled)[:, 1] >= threshold).astype(int)\n",
    "y_proba = model.predict_proba(X_test_scaled)[:, 1]\n",
    "\n",
    "roc_auc = roc_auc_score(y_test, y_proba)\n",
    "f1 = f1_score(y_test, y_pred)\n",
    "accuracy = accuracy_score(y_test, y_pred)\n",
    "\n",
    "print(f'ROC AUC test: {roc_auc}')\n",
    "print(f'F1 test: {f1}')\n",
    "print(f'Accuracy test: {accuracy}')"
   ]
  },
  {
   "cell_type": "code",
   "execution_count": 118,
   "metadata": {},
   "outputs": [
    {
     "name": "stdout",
     "output_type": "stream",
     "text": [
      "ROC AUC train: 0.9811828599300889\n",
      "F1 train: 0.9359837112192428\n",
      "Accuracy train: 0.9356706894160077\n"
     ]
    }
   ],
   "source": [
    "# find auc and f1 for best threshold on train\n",
    "y_pred = (model.predict_proba(X_train_scaled)[:, 1] >= threshold).astype(int)\n",
    "y_proba = model.predict_proba(X_train_scaled)[:, 1]\n",
    "\n",
    "roc_auc = roc_auc_score(y_train, y_proba)\n",
    "f1 = f1_score(y_train, y_pred)\n",
    "accuracy = accuracy_score(y_train, y_pred)\n",
    "\n",
    "print(f'ROC AUC train: {roc_auc}')\n",
    "print(f'F1 train: {f1}')\n",
    "print(f'Accuracy train: {accuracy}')"
   ]
  },
  {
   "cell_type": "code",
   "execution_count": 119,
   "metadata": {},
   "outputs": [],
   "source": [
    "# save threshold to txt file\n",
    "with open('predictive_models/threshold.txt', 'w') as f:\n",
    "    f.write(str(threshold))"
   ]
  },
  {
   "cell_type": "code",
   "execution_count": 120,
   "metadata": {},
   "outputs": [
    {
     "data": {
      "text/plain": [
       "array(['dim_5', 'dim_7'], dtype='<U5')"
      ]
     },
     "execution_count": 120,
     "metadata": {},
     "output_type": "execute_result"
    }
   ],
   "source": [
    "def get_undropped_dimensions(dropped_dimensions, n_dim):\n",
    "    all_dimensions = list(range(n_dim))\n",
    "    undropped_dimensions = [dim for dim in all_dimensions if dim not in dropped_dimensions]\n",
    "    return undropped_dimensions\n",
    "\n",
    "undropped_dimensions = get_undropped_dimensions(variables_to_drop, 20)\n",
    "undropped_dimensions = [str('dim_'+str(dim)) for dim in undropped_dimensions]\n",
    "undropped_dimensions = np.array(undropped_dimensions)\n",
    "undropped_dimensions"
   ]
  },
  {
   "cell_type": "code",
   "execution_count": null,
   "metadata": {},
   "outputs": [],
   "source": [
    "X_train_scaled_df = pd.DataFrame(X_train_scaled, columns=undropped_dimensions)"
   ]
  },
  {
   "cell_type": "code",
   "execution_count": 121,
   "metadata": {},
   "outputs": [
    {
     "data": {
      "image/png": "[encoded data removed]",
      "text/plain": [
       "<Figure size 800x400 with 1 Axes>"
      ]
     },
     "metadata": {},
     "output_type": "display_data"
    }
   ],
   "source": [
    "import dalex\n",
    "# Create an explainer object\n",
    "exp = dalex.Explainer(model, X_train_scaled_df, y_train, label='Champion Model')\n",
    "\n",
    "# Calculate feature importance\n",
    "feature_importance = exp.model_parts()\n",
    "feature_importance.plot(max_vars=27)"
   ]
  }
 ],
 "metadata": {
  "kernelspec": {
   "display_name": "ag",
   "language": "python",
   "name": "python3"
  },
  "language_info": {
   "codemirror_mode": {
    "name": "ipython",
    "version": 3
   },
   "file_extension": ".py",
   "mimetype": "text/x-python",
   "name": "python",
   "nbconvert_exporter": "python",
   "pygments_lexer": "ipython3",
   "version": "3.11.6"
  }
 },
 "nbformat": 4,
 "nbformat_minor": 2
}
