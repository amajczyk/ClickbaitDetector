{
 "cells": [
  {
   "cell_type": "code",
   "execution_count": null,
   "metadata": {},
   "outputs": [],
   "source": [
    "import numpy as np\n",
    "import pandas as pd\n",
    "import matplotlib.pyplot as plt\n",
    "from gensim.models import Word2Vec\n",
    "import nltk\n",
    "nltk.download('stopwords')\n",
    "nltk.download('punkt')\n",
    "\n",
    "\n",
    "from word2vec_selection.functions import *"
   ]
  },
  {
   "cell_type": "code",
   "execution_count": null,
   "metadata": {},
   "outputs": [],
   "source": [
    "# if data not saved as csv, run this\n",
    "import os\n",
    "if not os.path.exists('data/merged_titles_labels.csv'):\n",
    "    df1 = pd.read_csv('../eda/small1/labeled.csv')\n",
    "    df2 = pd.read_csv('../eda/small2/labeled.csv')\n",
    "    df3 = pd.read_csv('../eda/small3/labeled.csv')\n",
    "    df = pd.concat([df1, df2, df3], ignore_index=True).reset_index(drop=True)\n",
    "    df.to_csv('data/merged_titles_labels.csv', index=False)\n",
    "    df.head()\n",
    "else:\n",
    "    df = pd.read_csv('data/merged_titles_labels.csv')\n",
    "df.head()"
   ]
  },
  {
   "cell_type": "code",
   "execution_count": null,
   "metadata": {},
   "outputs": [],
   "source": [
    "%run -i \"word2vec_selection/functions.py\"\n",
    "if not os.path.exists('data/preprocessed_titles_labels.pkl'):\n",
    "    df = preprocess_title(df, verbose=True)\n",
    "    df.to_pickle('data/preprocessed_titles_labels.pkl') \n",
    "\n",
    "else:\n",
    "    df = pd.read_pickle('data/preprocessed_titles_labels.pkl')\n",
    "df.head()"
   ]
  },
  {
   "cell_type": "code",
   "execution_count": null,
   "metadata": {},
   "outputs": [],
   "source": [
    "df['title'][0]"
   ]
  },
  {
   "cell_type": "code",
   "execution_count": 34,
   "metadata": {},
   "outputs": [
    {
     "data": {
      "text/plain": [
       "sample\n",
       "train    66664\n",
       "test      7407\n",
       "Name: count, dtype: int64"
      ]
     },
     "execution_count": 34,
     "metadata": {},
     "output_type": "execute_result"
    }
   ],
   "source": [
    "df['sample'].value_counts()"
   ]
  },
  {
   "cell_type": "code",
   "execution_count": 35,
   "metadata": {},
   "outputs": [],
   "source": [
    "df_train = df[df['sample']=='train'].reset_index(drop=True)"
   ]
  },
  {
   "cell_type": "code",
   "execution_count": 36,
   "metadata": {},
   "outputs": [
    {
     "data": {
      "text/plain": [
       "sample\n",
       "train    66664\n",
       "Name: count, dtype: int64"
      ]
     },
     "execution_count": 36,
     "metadata": {},
     "output_type": "execute_result"
    }
   ],
   "source": [
    "df_train['sample'].value_counts()"
   ]
  },
  {
   "cell_type": "code",
   "execution_count": 38,
   "metadata": {},
   "outputs": [
    {
     "name": "stdout",
     "output_type": "stream",
     "text": [
      "Start training\n"
     ]
    },
    {
     "data": {
      "application/vnd.jupyter.widget-view+json": {
       "model_id": "7961f908b46246c3a51a3fb0f6a0be09",
       "version_major": 2,
       "version_minor": 0
      },
      "text/plain": [
       "  0%|          | 0/3 [00:00<?, ?it/s]"
      ]
     },
     "metadata": {},
     "output_type": "display_data"
    },
    {
     "name": "stdout",
     "output_type": "stream",
     "text": [
      "Current VECTOR_SIZE: 10\n"
     ]
    },
    {
     "data": {
      "application/vnd.jupyter.widget-view+json": {
       "model_id": "5c9d3fc4c5404155a6415e8394a25ae1",
       "version_major": 2,
       "version_minor": 0
      },
      "text/plain": [
       "WINDOW:   0%|          | 0/6 [00:00<?, ?it/s]"
      ]
     },
     "metadata": {},
     "output_type": "display_data"
    },
    {
     "data": {
      "application/vnd.jupyter.widget-view+json": {
       "model_id": "e05921403008421f8fb6a5ac5afe70bb",
       "version_major": 2,
       "version_minor": 0
      },
      "text/plain": [
       "SG:   0%|          | 0/2 [00:00<?, ?it/s]"
      ]
     },
     "metadata": {},
     "output_type": "display_data"
    },
    {
     "data": {
      "application/vnd.jupyter.widget-view+json": {
       "model_id": "f15a6832b32d4d5f82bbb682ef327241",
       "version_major": 2,
       "version_minor": 0
      },
      "text/plain": [
       "SG:   0%|          | 0/2 [00:00<?, ?it/s]"
      ]
     },
     "metadata": {},
     "output_type": "display_data"
    },
    {
     "data": {
      "application/vnd.jupyter.widget-view+json": {
       "model_id": "52f8e7e4c0884aa8a7162017a32126ff",
       "version_major": 2,
       "version_minor": 0
      },
      "text/plain": [
       "SG:   0%|          | 0/2 [00:00<?, ?it/s]"
      ]
     },
     "metadata": {},
     "output_type": "display_data"
    },
    {
     "data": {
      "application/vnd.jupyter.widget-view+json": {
       "model_id": "fa6441dd95b84c52b3d36a86fd50b9ca",
       "version_major": 2,
       "version_minor": 0
      },
      "text/plain": [
       "SG:   0%|          | 0/2 [00:00<?, ?it/s]"
      ]
     },
     "metadata": {},
     "output_type": "display_data"
    },
    {
     "data": {
      "application/vnd.jupyter.widget-view+json": {
       "model_id": "81006c96b0d84c2793d15645eed0cbcd",
       "version_major": 2,
       "version_minor": 0
      },
      "text/plain": [
       "SG:   0%|          | 0/2 [00:00<?, ?it/s]"
      ]
     },
     "metadata": {},
     "output_type": "display_data"
    },
    {
     "data": {
      "application/vnd.jupyter.widget-view+json": {
       "model_id": "e3326c14d821445ab95a42b941f6ca3d",
       "version_major": 2,
       "version_minor": 0
      },
      "text/plain": [
       "SG:   0%|          | 0/2 [00:00<?, ?it/s]"
      ]
     },
     "metadata": {},
     "output_type": "display_data"
    },
    {
     "name": "stdout",
     "output_type": "stream",
     "text": [
      "Current VECTOR_SIZE: 20\n"
     ]
    },
    {
     "data": {
      "application/vnd.jupyter.widget-view+json": {
       "model_id": "634ec14b4a654dc0b06bc38f00985a4a",
       "version_major": 2,
       "version_minor": 0
      },
      "text/plain": [
       "WINDOW:   0%|          | 0/6 [00:00<?, ?it/s]"
      ]
     },
     "metadata": {},
     "output_type": "display_data"
    },
    {
     "data": {
      "application/vnd.jupyter.widget-view+json": {
       "model_id": "7e5ce6862beb45ba89c83fa3c3e03fbe",
       "version_major": 2,
       "version_minor": 0
      },
      "text/plain": [
       "SG:   0%|          | 0/2 [00:00<?, ?it/s]"
      ]
     },
     "metadata": {},
     "output_type": "display_data"
    },
    {
     "data": {
      "application/vnd.jupyter.widget-view+json": {
       "model_id": "c932563fe6f0420eb093188b64edcc03",
       "version_major": 2,
       "version_minor": 0
      },
      "text/plain": [
       "SG:   0%|          | 0/2 [00:00<?, ?it/s]"
      ]
     },
     "metadata": {},
     "output_type": "display_data"
    },
    {
     "data": {
      "application/vnd.jupyter.widget-view+json": {
       "model_id": "2a2c554eb6f04071969465b843112923",
       "version_major": 2,
       "version_minor": 0
      },
      "text/plain": [
       "SG:   0%|          | 0/2 [00:00<?, ?it/s]"
      ]
     },
     "metadata": {},
     "output_type": "display_data"
    },
    {
     "data": {
      "application/vnd.jupyter.widget-view+json": {
       "model_id": "ad64f2abecc5497eba03bc7c6271a10d",
       "version_major": 2,
       "version_minor": 0
      },
      "text/plain": [
       "SG:   0%|          | 0/2 [00:00<?, ?it/s]"
      ]
     },
     "metadata": {},
     "output_type": "display_data"
    },
    {
     "data": {
      "application/vnd.jupyter.widget-view+json": {
       "model_id": "03b700f7249a42349b7b17a0dbf1b42d",
       "version_major": 2,
       "version_minor": 0
      },
      "text/plain": [
       "SG:   0%|          | 0/2 [00:00<?, ?it/s]"
      ]
     },
     "metadata": {},
     "output_type": "display_data"
    },
    {
     "data": {
      "application/vnd.jupyter.widget-view+json": {
       "model_id": "a9bdce616d3e4c738f332d0da6316cbc",
       "version_major": 2,
       "version_minor": 0
      },
      "text/plain": [
       "SG:   0%|          | 0/2 [00:00<?, ?it/s]"
      ]
     },
     "metadata": {},
     "output_type": "display_data"
    },
    {
     "name": "stdout",
     "output_type": "stream",
     "text": [
      "Current VECTOR_SIZE: 50\n"
     ]
    },
    {
     "data": {
      "application/vnd.jupyter.widget-view+json": {
       "model_id": "1170cf9a426f46aeb61ee6ab19fc4ba7",
       "version_major": 2,
       "version_minor": 0
      },
      "text/plain": [
       "WINDOW:   0%|          | 0/6 [00:00<?, ?it/s]"
      ]
     },
     "metadata": {},
     "output_type": "display_data"
    },
    {
     "data": {
      "application/vnd.jupyter.widget-view+json": {
       "model_id": "189793f4c7754dcd83b22d5b0c7eac77",
       "version_major": 2,
       "version_minor": 0
      },
      "text/plain": [
       "SG:   0%|          | 0/2 [00:00<?, ?it/s]"
      ]
     },
     "metadata": {},
     "output_type": "display_data"
    },
    {
     "data": {
      "application/vnd.jupyter.widget-view+json": {
       "model_id": "7407978ccf59471bb30abd20ca68cb67",
       "version_major": 2,
       "version_minor": 0
      },
      "text/plain": [
       "SG:   0%|          | 0/2 [00:00<?, ?it/s]"
      ]
     },
     "metadata": {},
     "output_type": "display_data"
    },
    {
     "data": {
      "application/vnd.jupyter.widget-view+json": {
       "model_id": "209d9bec758a49deb880d619c2170f25",
       "version_major": 2,
       "version_minor": 0
      },
      "text/plain": [
       "SG:   0%|          | 0/2 [00:00<?, ?it/s]"
      ]
     },
     "metadata": {},
     "output_type": "display_data"
    },
    {
     "data": {
      "application/vnd.jupyter.widget-view+json": {
       "model_id": "79f55028160e47f59afa907950e2f0eb",
       "version_major": 2,
       "version_minor": 0
      },
      "text/plain": [
       "SG:   0%|          | 0/2 [00:00<?, ?it/s]"
      ]
     },
     "metadata": {},
     "output_type": "display_data"
    },
    {
     "data": {
      "application/vnd.jupyter.widget-view+json": {
       "model_id": "481a75064a184227b5e4f2314f10c7de",
       "version_major": 2,
       "version_minor": 0
      },
      "text/plain": [
       "SG:   0%|          | 0/2 [00:00<?, ?it/s]"
      ]
     },
     "metadata": {},
     "output_type": "display_data"
    },
    {
     "data": {
      "application/vnd.jupyter.widget-view+json": {
       "model_id": "92fe2e71ee2047d5a07ccb8549f9e89b",
       "version_major": 2,
       "version_minor": 0
      },
      "text/plain": [
       "SG:   0%|          | 0/2 [00:00<?, ?it/s]"
      ]
     },
     "metadata": {},
     "output_type": "display_data"
    }
   ],
   "source": [
    "from tqdm.notebook import tqdm\n",
    "import time\n",
    "\n",
    "EPOCHS = 500\n",
    "WORKERS = 16\n",
    "MIN_COUNT = 1\n",
    "\n",
    "\n",
    "# train many word2vec models with diferent VECTOR_SIZE and WINDOW\n",
    "\n",
    "VECTOR_SIZEs = [\n",
    "    # 10,\n",
    "    # 20,\n",
    "    # 50,\n",
    "    100, \n",
    "    250, \n",
    "    # 500, \n",
    "    # 1000, \n",
    "   \n",
    "]\n",
    "\n",
    "WINDOWs = [\n",
    "    3, \n",
    "    4, \n",
    "    5, \n",
    "    6, \n",
    "    7, \n",
    "    8\n",
    "]\n",
    "SGs = [0, 1]\n",
    "\n",
    "\n",
    "##################################################\n",
    "# # --uncomment for sample model training--\n",
    "# EPOCHS = 200\n",
    "# VECTOR_SIZEs = [500]\n",
    "# WINDOWs = [4]\n",
    "# SGs = [0]\n",
    "##################################################\n",
    "\n",
    "\n",
    "print('Start training')\n",
    "# sleep 200 ms\n",
    "time.sleep(0.2)\n",
    "\n",
    "for VECTOR_SIZE in tqdm(VECTOR_SIZEs):\n",
    "    print(f'Current VECTOR_SIZE: {VECTOR_SIZE}')\n",
    "    for WINDOW in tqdm(WINDOWs, desc=f'WINDOW'):\n",
    "        for sg in tqdm(SGs, desc=f'SG'):\n",
    "            # check if model already trained\n",
    "            if os.path.exists(f'word2vec_models/word2vec_vs{VECTOR_SIZE}_win{WINDOW}_sg{sg}.model'):\n",
    "                print(f'word2vec_vs{VECTOR_SIZE}_win{WINDOW}_sg{sg}.model already exists')\n",
    "            else:\n",
    "                model = Word2Vec(df_train['title'], vector_size=VECTOR_SIZE, window=WINDOW, min_count=MIN_COUNT, workers=WORKERS, sg=sg)\n",
    "                model.train(df_train['title'], total_examples=len(df_train['title']), epochs=EPOCHS)\n",
    "                model.save(f'word2vec_models/word2vec_vs{VECTOR_SIZE}_win{WINDOW}_sg{sg}.model')"
   ]
  },
  {
   "cell_type": "code",
   "execution_count": 39,
   "metadata": {},
   "outputs": [
    {
     "data": {
      "text/plain": [
       "[('donald', 0.927785336971283),\n",
       " ('borderer', 0.8330757021903992),\n",
       " ('mcgahn', 0.8120999336242676),\n",
       " ('gigapixel', 0.771509051322937),\n",
       " ('howd', 0.7592917084693909),\n",
       " ('warmongering', 0.7389071583747864),\n",
       " ('peacenik', 0.7371304035186768),\n",
       " ('unknowable', 0.7279512882232666),\n",
       " ('backslides', 0.7218949794769287),\n",
       " ('impulsive', 0.7153481245040894)]"
      ]
     },
     "execution_count": 39,
     "metadata": {},
     "output_type": "execute_result"
    }
   ],
   "source": [
    "model.wv.most_similar('trump')"
   ]
  }
 ],
 "metadata": {
  "kernelspec": {
   "display_name": "ag",
   "language": "python",
   "name": "python3"
  },
  "language_info": {
   "codemirror_mode": {
    "name": "ipython",
    "version": 3
   },
   "file_extension": ".py",
   "mimetype": "text/x-python",
   "name": "python",
   "nbconvert_exporter": "python",
   "pygments_lexer": "ipython3",
   "version": "3.10.9"
  }
 },
 "nbformat": 4,
 "nbformat_minor": 2
}
