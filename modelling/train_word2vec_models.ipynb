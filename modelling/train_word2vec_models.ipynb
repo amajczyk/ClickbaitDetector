{
 "cells": [
  {
   "cell_type": "code",
   "execution_count": 58,
   "metadata": {},
   "outputs": [
    {
     "name": "stderr",
     "output_type": "stream",
     "text": [
      "[nltk_data] Downloading package stopwords to\n",
      "[nltk_data]     C:\\Users\\adamm\\AppData\\Roaming\\nltk_data...\n",
      "[nltk_data]   Package stopwords is already up-to-date!\n",
      "[nltk_data] Downloading package punkt to\n",
      "[nltk_data]     C:\\Users\\adamm\\AppData\\Roaming\\nltk_data...\n",
      "[nltk_data]   Package punkt is already up-to-date!\n"
     ]
    }
   ],
   "source": [
    "import numpy as np\n",
    "import pandas as pd\n",
    "import matplotlib.pyplot as plt\n",
    "from gensim.models import Word2Vec\n",
    "import nltk\n",
    "nltk.download('stopwords')\n",
    "nltk.download('punkt')\n",
    "\n",
    "\n",
    "from functions import *"
   ]
  },
  {
   "cell_type": "code",
   "execution_count": 59,
   "metadata": {},
   "outputs": [
    {
     "data": {
      "text/html": [
       "<div>\n",
       "<style scoped>\n",
       "    .dataframe tbody tr th:only-of-type {\n",
       "        vertical-align: middle;\n",
       "    }\n",
       "\n",
       "    .dataframe tbody tr th {\n",
       "        vertical-align: top;\n",
       "    }\n",
       "\n",
       "    .dataframe thead th {\n",
       "        text-align: right;\n",
       "    }\n",
       "</style>\n",
       "<table border=\"1\" class=\"dataframe\">\n",
       "  <thead>\n",
       "    <tr style=\"text-align: right;\">\n",
       "      <th></th>\n",
       "      <th>title</th>\n",
       "      <th>is_clickbait</th>\n",
       "      <th>text</th>\n",
       "      <th>dataset</th>\n",
       "      <th>sample</th>\n",
       "    </tr>\n",
       "  </thead>\n",
       "  <tbody>\n",
       "    <tr>\n",
       "      <th>0</th>\n",
       "      <td>17 Times \"Game Of Thrones\" Matched Up Perfectl...</td>\n",
       "      <td>1</td>\n",
       "      <td>NaN</td>\n",
       "      <td>clickbait-dataset</td>\n",
       "      <td>train</td>\n",
       "    </tr>\n",
       "    <tr>\n",
       "      <th>1</th>\n",
       "      <td>Facing Texas in Tar Heels Territory, Duke Find...</td>\n",
       "      <td>0</td>\n",
       "      <td>NaN</td>\n",
       "      <td>clickbait-dataset</td>\n",
       "      <td>train</td>\n",
       "    </tr>\n",
       "    <tr>\n",
       "      <th>2</th>\n",
       "      <td>Several GOP States Move to Block Their Own Fun...</td>\n",
       "      <td>0</td>\n",
       "      <td>A number of GOP states have moved to introduce...</td>\n",
       "      <td>clickbait-news-detection</td>\n",
       "      <td>train</td>\n",
       "    </tr>\n",
       "    <tr>\n",
       "      <th>3</th>\n",
       "      <td>For Hillary Clinton and John Kerry, Divergent ...</td>\n",
       "      <td>0</td>\n",
       "      <td>WASHINGTON  —   Early in 2011, after a hectic ...</td>\n",
       "      <td>fake-news</td>\n",
       "      <td>train</td>\n",
       "    </tr>\n",
       "    <tr>\n",
       "      <th>4</th>\n",
       "      <td>Wikinews interviews Kevin Baugh, president of ...</td>\n",
       "      <td>0</td>\n",
       "      <td>NaN</td>\n",
       "      <td>clickbait-dataset</td>\n",
       "      <td>train</td>\n",
       "    </tr>\n",
       "  </tbody>\n",
       "</table>\n",
       "</div>"
      ],
      "text/plain": [
       "                                               title  is_clickbait  \\\n",
       "0  17 Times \"Game Of Thrones\" Matched Up Perfectl...             1   \n",
       "1  Facing Texas in Tar Heels Territory, Duke Find...             0   \n",
       "2  Several GOP States Move to Block Their Own Fun...             0   \n",
       "3  For Hillary Clinton and John Kerry, Divergent ...             0   \n",
       "4  Wikinews interviews Kevin Baugh, president of ...             0   \n",
       "\n",
       "                                                text  \\\n",
       "0                                                NaN   \n",
       "1                                                NaN   \n",
       "2  A number of GOP states have moved to introduce...   \n",
       "3  WASHINGTON  —   Early in 2011, after a hectic ...   \n",
       "4                                                NaN   \n",
       "\n",
       "                    dataset sample  \n",
       "0         clickbait-dataset  train  \n",
       "1         clickbait-dataset  train  \n",
       "2  clickbait-news-detection  train  \n",
       "3                 fake-news  train  \n",
       "4         clickbait-dataset  train  "
      ]
     },
     "execution_count": 59,
     "metadata": {},
     "output_type": "execute_result"
    }
   ],
   "source": [
    "# if data not saved as csv, run this\n",
    "import os\n",
    "if not os.path.exists('data/merged_titles_labels.csv'):\n",
    "    df1 = pd.read_csv('../eda/small1/labeled.csv')\n",
    "    df2 = pd.read_csv('../eda/small2/labeled.csv')\n",
    "    df3 = pd.read_csv('../eda/small3/labeled.csv')\n",
    "    df = pd.concat([df1, df2, df3], ignore_index=True).reset_index(drop=True)\n",
    "    df.to_csv('data/merged_titles_labels.csv', index=False)\n",
    "    df.head()\n",
    "else:\n",
    "    df = pd.read_csv('data/merged_titles_labels.csv')\n",
    "df.head()"
   ]
  },
  {
   "cell_type": "code",
   "execution_count": 60,
   "metadata": {},
   "outputs": [
    {
     "name": "stderr",
     "output_type": "stream",
     "text": [
      "[nltk_data] Downloading package punkt to\n",
      "[nltk_data]     C:\\Users\\adamm\\AppData\\Roaming\\nltk_data...\n",
      "[nltk_data]   Package punkt is already up-to-date!\n",
      "[nltk_data] Downloading package wordnet to\n",
      "[nltk_data]     C:\\Users\\adamm\\AppData\\Roaming\\nltk_data...\n",
      "[nltk_data]   Package wordnet is already up-to-date!\n",
      "[nltk_data] Downloading package punkt to\n",
      "[nltk_data]     C:\\Users\\adamm\\AppData\\Roaming\\nltk_data...\n",
      "[nltk_data]   Package punkt is already up-to-date!\n",
      "[nltk_data] Downloading package averaged_perceptron_tagger to\n",
      "[nltk_data]     C:\\Users\\adamm\\AppData\\Roaming\\nltk_data...\n",
      "[nltk_data]   Package averaged_perceptron_tagger is already up-to-\n",
      "[nltk_data]       date!\n",
      "[nltk_data] Downloading package words to\n",
      "[nltk_data]     C:\\Users\\adamm\\AppData\\Roaming\\nltk_data...\n",
      "[nltk_data]   Package words is already up-to-date!\n"
     ]
    },
    {
     "name": "stdout",
     "output_type": "stream",
     "text": [
      "0        17 Times \"Game Of Thrones\" Matched Up Perfectl...\n",
      "1        Facing Texas in Tar Heels Territory, Duke Find...\n",
      "2        Several GOP States Move to Block Their Own Fun...\n",
      "3        For Hillary Clinton and John Kerry, Divergent ...\n",
      "4        Wikinews interviews Kevin Baugh, president of ...\n",
      "                               ...                        \n",
      "74072    The Famous ‘Mary Tyler Moore Show’ House Is Up...\n",
      "74073    Hillary Literally Became the Definition of ‘Pa...\n",
      "74074               NASA says worker tried to sabotage ISS\n",
      "74075    SC Hears Nirbhaya's Rapists Death Penalty Appe...\n",
      "74076    Flash Mob of Black Teens Assault Whites, Media...\n",
      "Name: title, Length: 74077, dtype: object\n",
      "Removing numbers and replacing with words...\n",
      "0        seventeen Times \"Game Of Thrones\" Matched Up P...\n",
      "1        Facing Texas in Tar Heels Territory, Duke Find...\n",
      "2        Several GOP States Move to Block Their Own Fun...\n",
      "3        For Hillary Clinton and John Kerry, Divergent ...\n",
      "4        Wikinews interviews Kevin Baugh, president of ...\n",
      "                               ...                        \n",
      "74072    The Famous ‘Mary Tyler Moore Show’ House Is Up...\n",
      "74073    Hillary Literally Became the Definition of ‘Pa...\n",
      "74074               NASA says worker tried to sabotage ISS\n",
      "74075    SC Hears Nirbhaya's Rapists Death Penalty Appe...\n",
      "74076    Flash Mob of Black Teens Assault Whites, Media...\n",
      "Name: title, Length: 74077, dtype: object\n",
      "Removing possesive s...\n",
      "0        seventeen Times \"Game Of Thrones\" Matched Up P...\n",
      "1        Facing Texas in Tar Heels Territory, Duke Find...\n",
      "2        Several GOP States Move to Block Their Own Fun...\n",
      "3        For Hillary Clinton and John Kerry, Divergent ...\n",
      "4        Wikinews interviews Kevin Baugh, president of ...\n",
      "                               ...                        \n",
      "74072    The Famous ‘Mary Tyler Moore Show’ House Is Up...\n",
      "74073    Hillary Literally Became the Definition of ‘Pa...\n",
      "74074               NASA says worker tried to sabotage ISS\n",
      "74075    SC Hears Nirbhaya's Rapists Death Penalty Appe...\n",
      "74076    Flash Mob of Black Teens Assault Whites, Media...\n",
      "Name: title, Length: 74077, dtype: object\n",
      "Expanding short versions...\n",
      "0        seventeen Times \"Game Of Thrones\" Matched Up P...\n",
      "1        Facing Texas in Tar Heels Territory, Duke Find...\n",
      "2        Several GOP States Move to Block Their Own Fun...\n",
      "3        For Hillary Clinton and John Kerry, Divergent ...\n",
      "4        Wikinews interviews Kevin Baugh, president of ...\n",
      "                               ...                        \n",
      "74072    The Famous ‘Mary Tyler Moore Show’ House Is Up...\n",
      "74073    Hillary Literally Became the Definition of ‘Pa...\n",
      "74074               NASA says worker tried to sabotage ISS\n",
      "74075    SC Hears Nirbhaya's Rapists Death Penalty Appe...\n",
      "74076    Flash Mob of Black Teens Assault Whites, Media...\n",
      "Name: title, Length: 74077, dtype: object\n",
      "Removing punctuation...\n",
      "0        seventeen Times Game Of Thrones Matched Up Per...\n",
      "1        Facing Texas in Tar Heels Territory Duke Finds...\n",
      "2        Several GOP States Move to Block Their Own Fun...\n",
      "3        For Hillary Clinton and John Kerry Divergent P...\n",
      "4        Wikinews interviews Kevin Baugh president of t...\n",
      "                               ...                        \n",
      "74072    The Famous ‘Mary Tyler Moore Show’ House Is Up...\n",
      "74073    Hillary Literally Became the Definition of ‘Pa...\n",
      "74074               NASA says worker tried to sabotage ISS\n",
      "74075    SC Hears Nirbhayas Rapists Death Penalty Appea...\n",
      "74076    Flash Mob of Black Teens Assault Whites Media ...\n",
      "Name: title, Length: 74077, dtype: object\n",
      "Replacing US with USA...\n",
      "0        seventeen Times Game Of Thrones Matched Up Per...\n",
      "1        Facing Texas in Tar Heels Territory Duke Finds...\n",
      "2        Several GOP States Move to Block Their Own Fun...\n",
      "3        For Hillary Clinton and John Kerry Divergent P...\n",
      "4        Wikinews interviews Kevin Baugh president of t...\n",
      "                               ...                        \n",
      "74072    The Famous ‘Mary Tyler Moore Show’ House Is Up...\n",
      "74073    Hillary Literally Became the Definition of ‘Pa...\n",
      "74074               NASA says worker tried to sabotage ISS\n",
      "74075    SC Hears Nirbhayas Rapists Death Penalty Appea...\n",
      "74076    Flash Mob of Black Teens Assault Whites Media ...\n",
      "Name: title, Length: 74077, dtype: object\n",
      "Tokenizing...\n",
      "0        [seventeen, times, game, thrones, matched, per...\n",
      "1        [facing, texas, tar, heels, territory, duke, f...\n",
      "2        [several, gop, states, move, block, funding, s...\n",
      "3        [hillary, clinton, john, kerry, divergent, pat...\n",
      "4        [wikinews, interviews, kevin, baugh, president...\n",
      "                               ...                        \n",
      "74072    [famous, ‘, mary, tyler, moore, show, ’, house...\n",
      "74073    [hillary, literally, became, definition, ‘, pa...\n",
      "74074           [nasa, says, worker, tried, sabotage, iss]\n",
      "74075    [sc, hears, nirbhayas, rapists, death, penalty...\n",
      "74076    [flash, mob, black, teens, assault, whites, me...\n",
      "Name: title, Length: 74077, dtype: object\n",
      "Lemmalizing words...\n",
      "0        [seventeen, time, game, throne, matched, perfe...\n",
      "1        [facing, texas, tar, heel, territory, duke, fi...\n",
      "2        [several, gop, state, move, block, funding, sa...\n",
      "3        [hillary, clinton, john, kerry, divergent, pat...\n",
      "4        [wikinews, interview, kevin, baugh, president,...\n",
      "                               ...                        \n",
      "74072    [famous, ‘, mary, tyler, moore, show, ’, house...\n",
      "74073    [hillary, literally, became, definition, ‘, pa...\n",
      "74074              [nasa, say, worker, tried, sabotage, i]\n",
      "74075    [sc, hears, nirbhayas, rapist, death, penalty,...\n",
      "74076    [flash, mob, black, teen, assault, white, medi...\n",
      "Name: title, Length: 74077, dtype: object\n",
      "Removing non ascii characters...\n",
      "0        [seventeen, time, game, throne, matched, perfe...\n",
      "1        [facing, texas, tar, heel, territory, duke, fi...\n",
      "2        [several, gop, state, move, block, funding, sa...\n",
      "3        [hillary, clinton, john, kerry, divergent, pat...\n",
      "4        [wikinews, interview, kevin, baugh, president,...\n",
      "                               ...                        \n",
      "74072    [famous,  , mary, tyler, moore, show,  , house...\n",
      "74073    [hillary, literally, became, definition,  , pa...\n",
      "74074              [nasa, say, worker, tried, sabotage, i]\n",
      "74075    [sc, hears, nirbhayas, rapist, death, penalty,...\n",
      "74076    [flash, mob, black, teen, assault, white, medi...\n",
      "Name: title, Length: 74077, dtype: object\n",
      "Removing empty titles...\n",
      "0        [seventeen, time, game, throne, matched, perfe...\n",
      "1        [facing, texas, tar, heel, territory, duke, fi...\n",
      "2        [several, gop, state, move, block, funding, sa...\n",
      "3        [hillary, clinton, john, kerry, divergent, pat...\n",
      "4        [wikinews, interview, kevin, baugh, president,...\n",
      "                               ...                        \n",
      "74072    [famous,  , mary, tyler, moore, show,  , house...\n",
      "74073    [hillary, literally, became, definition,  , pa...\n",
      "74074              [nasa, say, worker, tried, sabotage, i]\n",
      "74075    [sc, hears, nirbhayas, rapist, death, penalty,...\n",
      "74076    [flash, mob, black, teen, assault, white, medi...\n",
      "Name: title, Length: 74071, dtype: object\n",
      "Removing stopwords one more time...\n"
     ]
    },
    {
     "name": "stderr",
     "output_type": "stream",
     "text": [
      "D:\\Inzynierka\\pracaInzynierska\\modelling\\functions.py:259: SettingWithCopyWarning: \n",
      "A value is trying to be set on a copy of a slice from a DataFrame.\n",
      "Try using .loc[row_indexer,col_indexer] = value instead\n",
      "\n",
      "See the caveats in the documentation: https://pandas.pydata.org/pandas-docs/stable/user_guide/indexing.html#returning-a-view-versus-a-copy\n",
      "  df['title'] = df['title'].apply(lambda x: [word for word in x if word not in stop_words])\n",
      "D:\\Inzynierka\\pracaInzynierska\\modelling\\functions.py:262: SettingWithCopyWarning: \n",
      "A value is trying to be set on a copy of a slice from a DataFrame.\n",
      "Try using .loc[row_indexer,col_indexer] = value instead\n",
      "\n",
      "See the caveats in the documentation: https://pandas.pydata.org/pandas-docs/stable/user_guide/indexing.html#returning-a-view-versus-a-copy\n",
      "  \n"
     ]
    },
    {
     "data": {
      "text/html": [
       "<div>\n",
       "<style scoped>\n",
       "    .dataframe tbody tr th:only-of-type {\n",
       "        vertical-align: middle;\n",
       "    }\n",
       "\n",
       "    .dataframe tbody tr th {\n",
       "        vertical-align: top;\n",
       "    }\n",
       "\n",
       "    .dataframe thead th {\n",
       "        text-align: right;\n",
       "    }\n",
       "</style>\n",
       "<table border=\"1\" class=\"dataframe\">\n",
       "  <thead>\n",
       "    <tr style=\"text-align: right;\">\n",
       "      <th></th>\n",
       "      <th>title</th>\n",
       "      <th>is_clickbait</th>\n",
       "      <th>text</th>\n",
       "      <th>dataset</th>\n",
       "      <th>sample</th>\n",
       "    </tr>\n",
       "  </thead>\n",
       "  <tbody>\n",
       "    <tr>\n",
       "      <th>0</th>\n",
       "      <td>[seventeen, time, game, throne, matched, perfe...</td>\n",
       "      <td>1</td>\n",
       "      <td>NaN</td>\n",
       "      <td>clickbait-dataset</td>\n",
       "      <td>train</td>\n",
       "    </tr>\n",
       "    <tr>\n",
       "      <th>1</th>\n",
       "      <td>[facing, texas, tar, heel, territory, duke, fi...</td>\n",
       "      <td>0</td>\n",
       "      <td>NaN</td>\n",
       "      <td>clickbait-dataset</td>\n",
       "      <td>train</td>\n",
       "    </tr>\n",
       "    <tr>\n",
       "      <th>2</th>\n",
       "      <td>[several, gop, state, move, block, funding, sa...</td>\n",
       "      <td>0</td>\n",
       "      <td>A number of GOP states have moved to introduce...</td>\n",
       "      <td>clickbait-news-detection</td>\n",
       "      <td>train</td>\n",
       "    </tr>\n",
       "    <tr>\n",
       "      <th>3</th>\n",
       "      <td>[hillary, clinton, john, kerry, divergent, pat...</td>\n",
       "      <td>0</td>\n",
       "      <td>WASHINGTON  —   Early in 2011, after a hectic ...</td>\n",
       "      <td>fake-news</td>\n",
       "      <td>train</td>\n",
       "    </tr>\n",
       "    <tr>\n",
       "      <th>4</th>\n",
       "      <td>[wikinews, interview, kevin, baugh, president,...</td>\n",
       "      <td>0</td>\n",
       "      <td>NaN</td>\n",
       "      <td>clickbait-dataset</td>\n",
       "      <td>train</td>\n",
       "    </tr>\n",
       "  </tbody>\n",
       "</table>\n",
       "</div>"
      ],
      "text/plain": [
       "                                               title  is_clickbait  \\\n",
       "0  [seventeen, time, game, throne, matched, perfe...             1   \n",
       "1  [facing, texas, tar, heel, territory, duke, fi...             0   \n",
       "2  [several, gop, state, move, block, funding, sa...             0   \n",
       "3  [hillary, clinton, john, kerry, divergent, pat...             0   \n",
       "4  [wikinews, interview, kevin, baugh, president,...             0   \n",
       "\n",
       "                                                text  \\\n",
       "0                                                NaN   \n",
       "1                                                NaN   \n",
       "2  A number of GOP states have moved to introduce...   \n",
       "3  WASHINGTON  —   Early in 2011, after a hectic ...   \n",
       "4                                                NaN   \n",
       "\n",
       "                    dataset sample  \n",
       "0         clickbait-dataset  train  \n",
       "1         clickbait-dataset  train  \n",
       "2  clickbait-news-detection  train  \n",
       "3                 fake-news  train  \n",
       "4         clickbait-dataset  train  "
      ]
     },
     "execution_count": 60,
     "metadata": {},
     "output_type": "execute_result"
    }
   ],
   "source": [
    "%run functions.py\n",
    "if not os.path.exists('data/preprocessed_titles_labels.pkl'):\n",
    "    df = preprocess_title(df, verbose=True)\n",
    "    df.to_pickle('data/preprocessed_titles_labels.pkl') \n",
    "\n",
    "else:\n",
    "    df = pd.read_pickle('data/preprocessed_titles_labels.pkl')\n",
    "df.head()"
   ]
  },
  {
   "cell_type": "code",
   "execution_count": 61,
   "metadata": {},
   "outputs": [
    {
     "data": {
      "text/plain": [
       "['seventeen',\n",
       " 'time',\n",
       " 'game',\n",
       " 'throne',\n",
       " 'matched',\n",
       " 'perfectly',\n",
       " 'park',\n",
       " 'rec',\n",
       " 'quote']"
      ]
     },
     "execution_count": 61,
     "metadata": {},
     "output_type": "execute_result"
    }
   ],
   "source": [
    "df['title'][0]"
   ]
  },
  {
   "cell_type": "code",
   "execution_count": 62,
   "metadata": {},
   "outputs": [
    {
     "data": {
      "text/plain": [
       "sample\n",
       "train    66664\n",
       "test      7407\n",
       "Name: count, dtype: int64"
      ]
     },
     "execution_count": 62,
     "metadata": {},
     "output_type": "execute_result"
    }
   ],
   "source": [
    "df['sample'].value_counts()"
   ]
  },
  {
   "cell_type": "code",
   "execution_count": 63,
   "metadata": {},
   "outputs": [],
   "source": [
    "df_train = df[df['sample']=='train'].reset_index(drop=True)"
   ]
  },
  {
   "cell_type": "code",
   "execution_count": 64,
   "metadata": {},
   "outputs": [
    {
     "data": {
      "text/plain": [
       "sample\n",
       "train    66664\n",
       "Name: count, dtype: int64"
      ]
     },
     "execution_count": 64,
     "metadata": {},
     "output_type": "execute_result"
    }
   ],
   "source": [
    "df_train['sample'].value_counts()"
   ]
  },
  {
   "cell_type": "code",
   "execution_count": 65,
   "metadata": {},
   "outputs": [
    {
     "name": "stdout",
     "output_type": "stream",
     "text": [
      "Start training\n"
     ]
    },
    {
     "data": {
      "application/vnd.jupyter.widget-view+json": {
       "model_id": "dc4b90d5ba494b83b594857efb9fb9c2",
       "version_major": 2,
       "version_minor": 0
      },
      "text/plain": [
       "  0%|          | 0/2 [00:00<?, ?it/s]"
      ]
     },
     "metadata": {},
     "output_type": "display_data"
    },
    {
     "name": "stdout",
     "output_type": "stream",
     "text": [
      "Current VECTOR_SIZE: 100\n"
     ]
    },
    {
     "data": {
      "application/vnd.jupyter.widget-view+json": {
       "model_id": "f51118fbc0b94b9689d3fdb4234880eb",
       "version_major": 2,
       "version_minor": 0
      },
      "text/plain": [
       "WINDOW:   0%|          | 0/6 [00:00<?, ?it/s]"
      ]
     },
     "metadata": {},
     "output_type": "display_data"
    },
    {
     "data": {
      "application/vnd.jupyter.widget-view+json": {
       "model_id": "299038e815bf4dedbd62bb7f132786cc",
       "version_major": 2,
       "version_minor": 0
      },
      "text/plain": [
       "SG:   0%|          | 0/2 [00:00<?, ?it/s]"
      ]
     },
     "metadata": {},
     "output_type": "display_data"
    }
   ],
   "source": [
    "from tqdm.notebook import tqdm\n",
    "import time\n",
    "\n",
    "EPOCHS = 500\n",
    "WORKERS = 16\n",
    "MIN_COUNT = 1\n",
    "\n",
    "\n",
    "# train many word2vec models with diferent VECTOR_SIZE and WINDOW\n",
    "\n",
    "VECTOR_SIZEs = [\n",
    "    # 10,\n",
    "    # 20,\n",
    "    # 50,\n",
    "    100, \n",
    "    250, \n",
    "    # 500, \n",
    "    # 1000, \n",
    "   \n",
    "]\n",
    "\n",
    "WINDOWs = [\n",
    "    3, \n",
    "    4, \n",
    "    5, \n",
    "    6, \n",
    "    7, \n",
    "    8\n",
    "]\n",
    "SGs = [0, 1]\n",
    "\n",
    "\n",
    "##################################################\n",
    "# # --uncomment for sample model training--\n",
    "# EPOCHS = 200\n",
    "# VECTOR_SIZEs = [500]\n",
    "# WINDOWs = [4]\n",
    "# SGs = [0]\n",
    "##################################################\n",
    "\n",
    "\n",
    "print('Start training')\n",
    "# sleep 200 ms\n",
    "time.sleep(0.2)\n",
    "\n",
    "for VECTOR_SIZE in tqdm(VECTOR_SIZEs):\n",
    "    print(f'Current VECTOR_SIZE: {VECTOR_SIZE}')\n",
    "    for WINDOW in tqdm(WINDOWs, desc=f'WINDOW'):\n",
    "        for sg in tqdm(SGs, desc=f'SG'):\n",
    "            # check if model already trained\n",
    "            if os.path.exists(f'word2vec_models/word2vec_vs{VECTOR_SIZE}_win{WINDOW}_sg{sg}.model'):\n",
    "                print(f'word2vec_vs{VECTOR_SIZE}_win{WINDOW}_sg{sg}.model already exists')\n",
    "            else:\n",
    "                model = Word2Vec(df_train['title'], vector_size=VECTOR_SIZE, window=WINDOW, min_count=MIN_COUNT, workers=WORKERS, sg=sg)\n",
    "                model.train(df_train['title'], total_examples=len(df_train['title']), epochs=EPOCHS)\n",
    "                model.save(f'word2vec_models/word2vec_vs{VECTOR_SIZE}_win{WINDOW}_sg{sg}.model')"
   ]
  },
  {
   "cell_type": "code",
   "execution_count": null,
   "metadata": {},
   "outputs": [
    {
     "data": {
      "text/plain": [
       "[('donald', 0.7094179391860962),\n",
       " (' ', 0.45392268896102905),\n",
       " ('donaldbreaux', 0.4396342933177948),\n",
       " ('breitbart', 0.4336661994457245),\n",
       " ('mcgahn', 0.41913774609565735),\n",
       " ('sketchy', 0.4158231317996979),\n",
       " ('mexicano', 0.41405946016311646),\n",
       " ('historischer', 0.408134788274765),\n",
       " ('infowarriors', 0.4076419472694397),\n",
       " ('trumpprotest', 0.40638548135757446)]"
      ]
     },
     "execution_count": 47,
     "metadata": {},
     "output_type": "execute_result"
    }
   ],
   "source": [
    "model.wv.most_similar('trump')"
   ]
  },
  {
   "cell_type": "code",
   "execution_count": null,
   "metadata": {},
   "outputs": [],
   "source": [
    "# save vocabulary\n",
    "with open('data/vocabulary.txt', 'w') as f:\n",
    "    for word in model.wv.index_to_key:\n",
    "        f.write(word + '\\n')"
   ]
  }
 ],
 "metadata": {
  "kernelspec": {
   "display_name": "ag",
   "language": "python",
   "name": "python3"
  },
  "language_info": {
   "codemirror_mode": {
    "name": "ipython",
    "version": 3
   },
   "file_extension": ".py",
   "mimetype": "text/x-python",
   "name": "python",
   "nbconvert_exporter": "python",
   "pygments_lexer": "ipython3",
   "version": "3.11.5"
  }
 },
 "nbformat": 4,
 "nbformat_minor": 2
}
