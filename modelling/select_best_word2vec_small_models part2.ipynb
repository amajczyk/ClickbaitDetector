{
 "cells": [
  {
   "cell_type": "code",
   "execution_count": 1,
   "metadata": {},
   "outputs": [
    {
     "name": "stderr",
     "output_type": "stream",
     "text": [
      "[nltk_data] Downloading package punkt to\n",
      "[nltk_data]     C:\\Users\\adamm\\AppData\\Roaming\\nltk_data...\n",
      "[nltk_data]   Package punkt is already up-to-date!\n",
      "[nltk_data] Downloading package wordnet to\n",
      "[nltk_data]     C:\\Users\\adamm\\AppData\\Roaming\\nltk_data...\n",
      "[nltk_data]   Package wordnet is already up-to-date!\n",
      "[nltk_data] Downloading package punkt to\n",
      "[nltk_data]     C:\\Users\\adamm\\AppData\\Roaming\\nltk_data...\n",
      "[nltk_data]   Package punkt is already up-to-date!\n",
      "[nltk_data] Downloading package averaged_perceptron_tagger to\n",
      "[nltk_data]     C:\\Users\\adamm\\AppData\\Roaming\\nltk_data...\n",
      "[nltk_data]   Package averaged_perceptron_tagger is already up-to-\n",
      "[nltk_data]       date!\n",
      "[nltk_data] Downloading package words to\n",
      "[nltk_data]     C:\\Users\\adamm\\AppData\\Roaming\\nltk_data...\n",
      "[nltk_data]   Package words is already up-to-date!\n"
     ]
    }
   ],
   "source": [
    "import pandas as pd\n",
    "import numpy as np\n",
    "import os\n",
    "\n",
    "from gensim.models import Word2Vec\n",
    "\n",
    "from classes import *\n",
    "\n",
    "%run functions.py"
   ]
  },
  {
   "cell_type": "code",
   "execution_count": 2,
   "metadata": {},
   "outputs": [],
   "source": [
    "from catboost import CatBoostClassifier\n",
    "from xgboost import XGBClassifier\n",
    "from lightgbm import LGBMClassifier\n",
    "from sklearn.neighbors import KNeighborsClassifier\n",
    "from sklearn.svm import SVC\n",
    "from sklearn.linear_model import LogisticRegression \n",
    "from sklearn.ensemble import RandomForestClassifier\n",
    "from sklearn.tree import DecisionTreeClassifier\n",
    "\n",
    "from sklearn.metrics import f1_score, roc_auc_score\n",
    "\n",
    "from sklearn.model_selection import train_test_split\n",
    "\n",
    "from sklearn.preprocessing import StandardScaler\n"
   ]
  },
  {
   "cell_type": "code",
   "execution_count": 3,
   "metadata": {},
   "outputs": [
    {
     "data": {
      "text/html": [
       "<div>\n",
       "<style scoped>\n",
       "    .dataframe tbody tr th:only-of-type {\n",
       "        vertical-align: middle;\n",
       "    }\n",
       "\n",
       "    .dataframe tbody tr th {\n",
       "        vertical-align: top;\n",
       "    }\n",
       "\n",
       "    .dataframe thead th {\n",
       "        text-align: right;\n",
       "    }\n",
       "</style>\n",
       "<table border=\"1\" class=\"dataframe\">\n",
       "  <thead>\n",
       "    <tr style=\"text-align: right;\">\n",
       "      <th></th>\n",
       "      <th>title</th>\n",
       "      <th>is_clickbait</th>\n",
       "    </tr>\n",
       "  </thead>\n",
       "  <tbody>\n",
       "    <tr>\n",
       "      <th>0</th>\n",
       "      <td>House Dem Aide: We Didn’t Even See Comey’s Let...</td>\n",
       "      <td>1</td>\n",
       "    </tr>\n",
       "    <tr>\n",
       "      <th>1</th>\n",
       "      <td>FLYNN: Hillary Clinton, Big Woman on Campus - ...</td>\n",
       "      <td>0</td>\n",
       "    </tr>\n",
       "    <tr>\n",
       "      <th>2</th>\n",
       "      <td>Why the Truth Might Get You Fired</td>\n",
       "      <td>1</td>\n",
       "    </tr>\n",
       "    <tr>\n",
       "      <th>3</th>\n",
       "      <td>15 Civilians Killed In Single US Airstrike Hav...</td>\n",
       "      <td>1</td>\n",
       "    </tr>\n",
       "    <tr>\n",
       "      <th>4</th>\n",
       "      <td>Iranian woman jailed for fictional unpublished...</td>\n",
       "      <td>1</td>\n",
       "    </tr>\n",
       "  </tbody>\n",
       "</table>\n",
       "</div>"
      ],
      "text/plain": [
       "                                               title  is_clickbait\n",
       "0  House Dem Aide: We Didn’t Even See Comey’s Let...             1\n",
       "1  FLYNN: Hillary Clinton, Big Woman on Campus - ...             0\n",
       "2                  Why the Truth Might Get You Fired             1\n",
       "3  15 Civilians Killed In Single US Airstrike Hav...             1\n",
       "4  Iranian woman jailed for fictional unpublished...             1"
      ]
     },
     "execution_count": 3,
     "metadata": {},
     "output_type": "execute_result"
    }
   ],
   "source": [
    "# if data not saved as csv, run this\n",
    "import os\n",
    "if not os.path.exists('data/merged_titles_labels.csv'):\n",
    "    df1 = pd.read_csv('../eda/small1/labeled.csv')\n",
    "    df2 = pd.read_csv('../eda/small2/labeled.csv')\n",
    "    df3 = pd.read_csv('../eda/small3/labeled.csv')\n",
    "    df = pd.concat([df1, df2, df3], ignore_index=True).reset_index(drop=True)\n",
    "    df.to_csv('data/merged_titles_labels.csv', index=False)\n",
    "    df.head()\n",
    "else:\n",
    "    df = pd.read_csv('data/merged_titles_labels.csv')\n",
    "df.head()\n"
   ]
  },
  {
   "cell_type": "code",
   "execution_count": 4,
   "metadata": {},
   "outputs": [
    {
     "name": "stderr",
     "output_type": "stream",
     "text": [
      "[nltk_data] Downloading package punkt to\n",
      "[nltk_data]     C:\\Users\\adamm\\AppData\\Roaming\\nltk_data...\n",
      "[nltk_data]   Package punkt is already up-to-date!\n",
      "[nltk_data] Downloading package wordnet to\n",
      "[nltk_data]     C:\\Users\\adamm\\AppData\\Roaming\\nltk_data...\n",
      "[nltk_data]   Package wordnet is already up-to-date!\n",
      "[nltk_data] Downloading package punkt to\n",
      "[nltk_data]     C:\\Users\\adamm\\AppData\\Roaming\\nltk_data...\n",
      "[nltk_data]   Package punkt is already up-to-date!\n",
      "[nltk_data] Downloading package averaged_perceptron_tagger to\n",
      "[nltk_data]     C:\\Users\\adamm\\AppData\\Roaming\\nltk_data...\n",
      "[nltk_data]   Package averaged_perceptron_tagger is already up-to-\n",
      "[nltk_data]       date!\n",
      "[nltk_data] Downloading package words to\n",
      "[nltk_data]     C:\\Users\\adamm\\AppData\\Roaming\\nltk_data...\n",
      "[nltk_data]   Package words is already up-to-date!\n"
     ]
    },
    {
     "data": {
      "text/html": [
       "<div>\n",
       "<style scoped>\n",
       "    .dataframe tbody tr th:only-of-type {\n",
       "        vertical-align: middle;\n",
       "    }\n",
       "\n",
       "    .dataframe tbody tr th {\n",
       "        vertical-align: top;\n",
       "    }\n",
       "\n",
       "    .dataframe thead th {\n",
       "        text-align: right;\n",
       "    }\n",
       "</style>\n",
       "<table border=\"1\" class=\"dataframe\">\n",
       "  <thead>\n",
       "    <tr style=\"text-align: right;\">\n",
       "      <th></th>\n",
       "      <th>title</th>\n",
       "      <th>is_clickbait</th>\n",
       "    </tr>\n",
       "  </thead>\n",
       "  <tbody>\n",
       "    <tr>\n",
       "      <th>0</th>\n",
       "      <td>[house, dem, aide,  , even, see, comey, letter...</td>\n",
       "      <td>1</td>\n",
       "    </tr>\n",
       "    <tr>\n",
       "      <th>1</th>\n",
       "      <td>[flynn, hillary, clinton, big, woman, campus, ...</td>\n",
       "      <td>0</td>\n",
       "    </tr>\n",
       "    <tr>\n",
       "      <th>2</th>\n",
       "      <td>[truth, might, get, fired]</td>\n",
       "      <td>1</td>\n",
       "    </tr>\n",
       "    <tr>\n",
       "      <th>3</th>\n",
       "      <td>[fifteen, civilian, killed, single, usa, airst...</td>\n",
       "      <td>1</td>\n",
       "    </tr>\n",
       "    <tr>\n",
       "      <th>4</th>\n",
       "      <td>[iranian, woman, jailed, fictional, unpublishe...</td>\n",
       "      <td>1</td>\n",
       "    </tr>\n",
       "  </tbody>\n",
       "</table>\n",
       "</div>"
      ],
      "text/plain": [
       "                                               title  is_clickbait\n",
       "0  [house, dem, aide,  , even, see, comey, letter...             1\n",
       "1  [flynn, hillary, clinton, big, woman, campus, ...             0\n",
       "2                         [truth, might, get, fired]             1\n",
       "3  [fifteen, civilian, killed, single, usa, airst...             1\n",
       "4  [iranian, woman, jailed, fictional, unpublishe...             1"
      ]
     },
     "execution_count": 4,
     "metadata": {},
     "output_type": "execute_result"
    }
   ],
   "source": [
    "%run functions.py\n",
    "if not os.path.exists('data/preprocessed_titles_labels.pkl'):\n",
    "    df = preprocess_title(df, verbose=True)\n",
    "    df.to_pickle('data/preprocessed_titles_labels.pkl') \n",
    "\n",
    "else:\n",
    "    df = pd.read_pickle('data/preprocessed_titles_labels.pkl')\n",
    "df.head()"
   ]
  },
  {
   "cell_type": "code",
   "execution_count": 5,
   "metadata": {},
   "outputs": [
    {
     "name": "stdout",
     "output_type": "stream",
     "text": [
      "No previous results found\n"
     ]
    },
    {
     "data": {
      "text/plain": [
       "[]"
      ]
     },
     "execution_count": 5,
     "metadata": {},
     "output_type": "execute_result"
    }
   ],
   "source": [
    "# read results from previous runs json file\n",
    "result_path = 'results/word2vec_results_top25.json'\n",
    "import json\n",
    "word2vec_results = dict()\n",
    "try:\n",
    "    with open(result_path, 'r') as f:\n",
    "        word2vec_results = json.load(f)\n",
    "except:\n",
    "    print(\"No previous results found\")\n",
    "\n",
    "# get all the models from the results\n",
    "models_already_trained = []\n",
    "for model in word2vec_results:\n",
    "    models_already_trained.append(model)\n",
    "models_already_trained = [model + \".model\" for model in models_already_trained]\n",
    "models_already_trained"
   ]
  },
  {
   "cell_type": "code",
   "execution_count": 6,
   "metadata": {},
   "outputs": [
    {
     "name": "stdout",
     "output_type": "stream",
     "text": [
      "25\n"
     ]
    },
    {
     "data": {
      "text/plain": [
       "['word2vec_vs1000_win7_sg0.model',\n",
       " 'word2vec_vs1000_win7_sg1.model',\n",
       " 'word2vec_vs1000_win8_sg0.model',\n",
       " 'word2vec_vs1500_win3_sg1.model',\n",
       " 'word2vec_vs1500_win4_sg0.model',\n",
       " 'word2vec_vs1500_win4_sg1.model',\n",
       " 'word2vec_vs1500_win5_sg0.model',\n",
       " 'word2vec_vs1500_win5_sg1.model',\n",
       " 'word2vec_vs1500_win6_sg0.model',\n",
       " 'word2vec_vs1500_win6_sg1.model',\n",
       " 'word2vec_vs1500_win7_sg0.model',\n",
       " 'word2vec_vs1500_win7_sg1.model',\n",
       " 'word2vec_vs1500_win8_sg0.model',\n",
       " 'word2vec_vs1500_win8_sg1.model',\n",
       " 'word2vec_vs2000_win3_sg1.model',\n",
       " 'word2vec_vs2000_win4_sg0.model',\n",
       " 'word2vec_vs2000_win5_sg0.model',\n",
       " 'word2vec_vs2000_win5_sg1.model',\n",
       " 'word2vec_vs2000_win6_sg0.model',\n",
       " 'word2vec_vs2000_win6_sg1.model',\n",
       " 'word2vec_vs2000_win7_sg0.model',\n",
       " 'word2vec_vs2000_win7_sg1.model',\n",
       " 'word2vec_vs2000_win8_sg1.model',\n",
       " 'word2vec_vs2500_win3_sg0.model',\n",
       " 'word2vec_vs2500_win3_sg1.model']"
      ]
     },
     "execution_count": 6,
     "metadata": {},
     "output_type": "execute_result"
    }
   ],
   "source": [
    "from tqdm.auto import tqdm\n",
    "import copy as cp\n",
    "import json\n",
    "\n",
    "# import json results/not_trained_yet.json\n",
    "with open('results/not_trained_yet.json', 'r') as f:\n",
    "    not_trained_yet = json.load(f)\n",
    "\n",
    "files = not_trained_yet['top_25']\n",
    "files = [file for file in files if file.endswith('.model')]\n",
    "\n",
    "\n",
    "# remove the files that have already been trained\n",
    "files = [file for file in files if file not in models_already_trained]\n",
    "\n",
    "files = sorted(files)\n",
    "print(len(files))\n",
    "files\n"
   ]
  },
  {
   "cell_type": "code",
   "execution_count": 7,
   "metadata": {},
   "outputs": [],
   "source": [
    "# tempw2v = Word2Vec.load('word2vec_models/word2vec_vs1000_win3_sg0.model')"
   ]
  },
  {
   "cell_type": "code",
   "execution_count": 8,
   "metadata": {},
   "outputs": [
    {
     "data": {
      "application/vnd.jupyter.widget-view+json": {
       "model_id": "bb0ff778e0cf41d6ad0e64d39a5d019c",
       "version_major": 2,
       "version_minor": 0
      },
      "text/plain": [
       "  0%|          | 0/25 [00:00<?, ?it/s]"
      ]
     },
     "metadata": {},
     "output_type": "display_data"
    },
    {
     "data": {
      "application/vnd.jupyter.widget-view+json": {
       "model_id": "d1019f8ca66543ea8ace72ebec811963",
       "version_major": 2,
       "version_minor": 0
      },
      "text/plain": [
       "Predictive Models for word2vec_vs1000_win7_sg0:   0%|          | 0/5 [00:00<?, ?it/s]"
      ]
     },
     "metadata": {},
     "output_type": "display_data"
    },
    {
     "data": {
      "application/vnd.jupyter.widget-view+json": {
       "model_id": "6780cb475df5475fbdedcd5662d0b15f",
       "version_major": 2,
       "version_minor": 0
      },
      "text/plain": [
       "catboost submodels:   0%|          | 0/3 [00:00<?, ?it/s]"
      ]
     },
     "metadata": {},
     "output_type": "display_data"
    },
    {
     "data": {
      "application/vnd.jupyter.widget-view+json": {
       "model_id": "e005fc01b2c549c293930ff73386e1a5",
       "version_major": 2,
       "version_minor": 0
      },
      "text/plain": [
       "lightgbm submodels:   0%|          | 0/3 [00:00<?, ?it/s]"
      ]
     },
     "metadata": {},
     "output_type": "display_data"
    },
    {
     "data": {
      "application/vnd.jupyter.widget-view+json": {
       "model_id": "dccae759ee6c42e7a2e5102c4810953d",
       "version_major": 2,
       "version_minor": 0
      },
      "text/plain": [
       "knn submodels:   0%|          | 0/3 [00:00<?, ?it/s]"
      ]
     },
     "metadata": {},
     "output_type": "display_data"
    },
    {
     "data": {
      "application/vnd.jupyter.widget-view+json": {
       "model_id": "753fe4c144f14edfb2259a5afc60a22f",
       "version_major": 2,
       "version_minor": 0
      },
      "text/plain": [
       "randomforest submodels:   0%|          | 0/3 [00:00<?, ?it/s]"
      ]
     },
     "metadata": {},
     "output_type": "display_data"
    },
    {
     "data": {
      "application/vnd.jupyter.widget-view+json": {
       "model_id": "ea3e10d92ec24db5afb9ec4d066eae47",
       "version_major": 2,
       "version_minor": 0
      },
      "text/plain": [
       "decisiontree submodels:   0%|          | 0/3 [00:00<?, ?it/s]"
      ]
     },
     "metadata": {},
     "output_type": "display_data"
    },
    {
     "name": "stdout",
     "output_type": "stream",
     "text": [
      "word2vec_vs1000_win7_sg0 done and updated json\n"
     ]
    },
    {
     "data": {
      "application/vnd.jupyter.widget-view+json": {
       "model_id": "250169944546475094913a091def6e92",
       "version_major": 2,
       "version_minor": 0
      },
      "text/plain": [
       "Predictive Models for word2vec_vs1000_win7_sg1:   0%|          | 0/5 [00:00<?, ?it/s]"
      ]
     },
     "metadata": {},
     "output_type": "display_data"
    },
    {
     "data": {
      "application/vnd.jupyter.widget-view+json": {
       "model_id": "869e870faa084ee18a030db51e1f13e7",
       "version_major": 2,
       "version_minor": 0
      },
      "text/plain": [
       "catboost submodels:   0%|          | 0/3 [00:00<?, ?it/s]"
      ]
     },
     "metadata": {},
     "output_type": "display_data"
    },
    {
     "data": {
      "application/vnd.jupyter.widget-view+json": {
       "model_id": "df62f3672706447ab3f66648ce5e96fc",
       "version_major": 2,
       "version_minor": 0
      },
      "text/plain": [
       "lightgbm submodels:   0%|          | 0/3 [00:00<?, ?it/s]"
      ]
     },
     "metadata": {},
     "output_type": "display_data"
    },
    {
     "data": {
      "application/vnd.jupyter.widget-view+json": {
       "model_id": "e12839e20f134274b01ef2a11aa1ef88",
       "version_major": 2,
       "version_minor": 0
      },
      "text/plain": [
       "knn submodels:   0%|          | 0/3 [00:00<?, ?it/s]"
      ]
     },
     "metadata": {},
     "output_type": "display_data"
    },
    {
     "data": {
      "application/vnd.jupyter.widget-view+json": {
       "model_id": "1f742f8859854be3acbd3dc7a51a8944",
       "version_major": 2,
       "version_minor": 0
      },
      "text/plain": [
       "randomforest submodels:   0%|          | 0/3 [00:00<?, ?it/s]"
      ]
     },
     "metadata": {},
     "output_type": "display_data"
    },
    {
     "data": {
      "application/vnd.jupyter.widget-view+json": {
       "model_id": "e302c3b39aca4b2fb5dd23bfe22f4121",
       "version_major": 2,
       "version_minor": 0
      },
      "text/plain": [
       "decisiontree submodels:   0%|          | 0/3 [00:00<?, ?it/s]"
      ]
     },
     "metadata": {},
     "output_type": "display_data"
    },
    {
     "name": "stdout",
     "output_type": "stream",
     "text": [
      "word2vec_vs1000_win7_sg1 done and updated json\n"
     ]
    },
    {
     "data": {
      "application/vnd.jupyter.widget-view+json": {
       "model_id": "eedc1cebd5f9467897e0480b4ee15fa9",
       "version_major": 2,
       "version_minor": 0
      },
      "text/plain": [
       "Predictive Models for word2vec_vs1000_win8_sg0:   0%|          | 0/5 [00:00<?, ?it/s]"
      ]
     },
     "metadata": {},
     "output_type": "display_data"
    },
    {
     "data": {
      "application/vnd.jupyter.widget-view+json": {
       "model_id": "810c358478b04d78987744293d986da3",
       "version_major": 2,
       "version_minor": 0
      },
      "text/plain": [
       "catboost submodels:   0%|          | 0/3 [00:00<?, ?it/s]"
      ]
     },
     "metadata": {},
     "output_type": "display_data"
    },
    {
     "data": {
      "application/vnd.jupyter.widget-view+json": {
       "model_id": "6f29acd333514d94a83452bbc390a36b",
       "version_major": 2,
       "version_minor": 0
      },
      "text/plain": [
       "lightgbm submodels:   0%|          | 0/3 [00:00<?, ?it/s]"
      ]
     },
     "metadata": {},
     "output_type": "display_data"
    },
    {
     "data": {
      "application/vnd.jupyter.widget-view+json": {
       "model_id": "896c0b0b324d462688c5ebb6a616df6b",
       "version_major": 2,
       "version_minor": 0
      },
      "text/plain": [
       "knn submodels:   0%|          | 0/3 [00:00<?, ?it/s]"
      ]
     },
     "metadata": {},
     "output_type": "display_data"
    },
    {
     "data": {
      "application/vnd.jupyter.widget-view+json": {
       "model_id": "249bdb747d0b450eb5c2aec9f3cb1fe7",
       "version_major": 2,
       "version_minor": 0
      },
      "text/plain": [
       "randomforest submodels:   0%|          | 0/3 [00:00<?, ?it/s]"
      ]
     },
     "metadata": {},
     "output_type": "display_data"
    },
    {
     "data": {
      "application/vnd.jupyter.widget-view+json": {
       "model_id": "6d63d4c5de9f447791232a47a558c531",
       "version_major": 2,
       "version_minor": 0
      },
      "text/plain": [
       "decisiontree submodels:   0%|          | 0/3 [00:00<?, ?it/s]"
      ]
     },
     "metadata": {},
     "output_type": "display_data"
    },
    {
     "name": "stdout",
     "output_type": "stream",
     "text": [
      "word2vec_vs1000_win8_sg0 done and updated json\n"
     ]
    },
    {
     "data": {
      "application/vnd.jupyter.widget-view+json": {
       "model_id": "50d7ac6965c84d9a85c9ece437893757",
       "version_major": 2,
       "version_minor": 0
      },
      "text/plain": [
       "Predictive Models for word2vec_vs1500_win3_sg1:   0%|          | 0/5 [00:00<?, ?it/s]"
      ]
     },
     "metadata": {},
     "output_type": "display_data"
    },
    {
     "data": {
      "application/vnd.jupyter.widget-view+json": {
       "model_id": "3f3f03bff5f44056b6e2fc10ecd7c621",
       "version_major": 2,
       "version_minor": 0
      },
      "text/plain": [
       "catboost submodels:   0%|          | 0/3 [00:00<?, ?it/s]"
      ]
     },
     "metadata": {},
     "output_type": "display_data"
    },
    {
     "data": {
      "application/vnd.jupyter.widget-view+json": {
       "model_id": "63e744a206ef40dabb8b7829fe907fc7",
       "version_major": 2,
       "version_minor": 0
      },
      "text/plain": [
       "lightgbm submodels:   0%|          | 0/3 [00:00<?, ?it/s]"
      ]
     },
     "metadata": {},
     "output_type": "display_data"
    },
    {
     "data": {
      "application/vnd.jupyter.widget-view+json": {
       "model_id": "7fe4962345f74247b99d2da6e74a43c0",
       "version_major": 2,
       "version_minor": 0
      },
      "text/plain": [
       "knn submodels:   0%|          | 0/3 [00:00<?, ?it/s]"
      ]
     },
     "metadata": {},
     "output_type": "display_data"
    },
    {
     "data": {
      "application/vnd.jupyter.widget-view+json": {
       "model_id": "849a7ce459e248fda813ae600ba27391",
       "version_major": 2,
       "version_minor": 0
      },
      "text/plain": [
       "randomforest submodels:   0%|          | 0/3 [00:00<?, ?it/s]"
      ]
     },
     "metadata": {},
     "output_type": "display_data"
    },
    {
     "data": {
      "application/vnd.jupyter.widget-view+json": {
       "model_id": "ac72395544e34e7798faa9337058531c",
       "version_major": 2,
       "version_minor": 0
      },
      "text/plain": [
       "decisiontree submodels:   0%|          | 0/3 [00:00<?, ?it/s]"
      ]
     },
     "metadata": {},
     "output_type": "display_data"
    },
    {
     "name": "stdout",
     "output_type": "stream",
     "text": [
      "word2vec_vs1500_win3_sg1 done and updated json\n"
     ]
    },
    {
     "data": {
      "application/vnd.jupyter.widget-view+json": {
       "model_id": "4e2654928d6947f6afbcd81c6d4d2a4a",
       "version_major": 2,
       "version_minor": 0
      },
      "text/plain": [
       "Predictive Models for word2vec_vs1500_win4_sg0:   0%|          | 0/5 [00:00<?, ?it/s]"
      ]
     },
     "metadata": {},
     "output_type": "display_data"
    },
    {
     "data": {
      "application/vnd.jupyter.widget-view+json": {
       "model_id": "4c6199345c9d4244a57ee5da06ebed11",
       "version_major": 2,
       "version_minor": 0
      },
      "text/plain": [
       "catboost submodels:   0%|          | 0/3 [00:00<?, ?it/s]"
      ]
     },
     "metadata": {},
     "output_type": "display_data"
    },
    {
     "data": {
      "application/vnd.jupyter.widget-view+json": {
       "model_id": "ddcca163cbdb45ce813a13be842e44f2",
       "version_major": 2,
       "version_minor": 0
      },
      "text/plain": [
       "lightgbm submodels:   0%|          | 0/3 [00:00<?, ?it/s]"
      ]
     },
     "metadata": {},
     "output_type": "display_data"
    },
    {
     "data": {
      "application/vnd.jupyter.widget-view+json": {
       "model_id": "b946ad5e1a8b47f9be4efec00bf52366",
       "version_major": 2,
       "version_minor": 0
      },
      "text/plain": [
       "knn submodels:   0%|          | 0/3 [00:00<?, ?it/s]"
      ]
     },
     "metadata": {},
     "output_type": "display_data"
    },
    {
     "data": {
      "application/vnd.jupyter.widget-view+json": {
       "model_id": "b23ecadce169416b99fc13a655eda407",
       "version_major": 2,
       "version_minor": 0
      },
      "text/plain": [
       "randomforest submodels:   0%|          | 0/3 [00:00<?, ?it/s]"
      ]
     },
     "metadata": {},
     "output_type": "display_data"
    },
    {
     "data": {
      "application/vnd.jupyter.widget-view+json": {
       "model_id": "8121af6abf2c4801a3042415a146ea3c",
       "version_major": 2,
       "version_minor": 0
      },
      "text/plain": [
       "decisiontree submodels:   0%|          | 0/3 [00:00<?, ?it/s]"
      ]
     },
     "metadata": {},
     "output_type": "display_data"
    },
    {
     "name": "stdout",
     "output_type": "stream",
     "text": [
      "word2vec_vs1500_win4_sg0 done and updated json\n"
     ]
    },
    {
     "data": {
      "application/vnd.jupyter.widget-view+json": {
       "model_id": "9fa53c804c7a47279039b59e24e3ea28",
       "version_major": 2,
       "version_minor": 0
      },
      "text/plain": [
       "Predictive Models for word2vec_vs1500_win4_sg1:   0%|          | 0/5 [00:00<?, ?it/s]"
      ]
     },
     "metadata": {},
     "output_type": "display_data"
    },
    {
     "data": {
      "application/vnd.jupyter.widget-view+json": {
       "model_id": "b2b0f3a7936f43ae969313a78395ab85",
       "version_major": 2,
       "version_minor": 0
      },
      "text/plain": [
       "catboost submodels:   0%|          | 0/3 [00:00<?, ?it/s]"
      ]
     },
     "metadata": {},
     "output_type": "display_data"
    },
    {
     "data": {
      "application/vnd.jupyter.widget-view+json": {
       "model_id": "f409ecd332ff44199cc0951b07a18eb1",
       "version_major": 2,
       "version_minor": 0
      },
      "text/plain": [
       "lightgbm submodels:   0%|          | 0/3 [00:00<?, ?it/s]"
      ]
     },
     "metadata": {},
     "output_type": "display_data"
    },
    {
     "data": {
      "application/vnd.jupyter.widget-view+json": {
       "model_id": "76a4883bf22f4fe993a701c03632f3fd",
       "version_major": 2,
       "version_minor": 0
      },
      "text/plain": [
       "knn submodels:   0%|          | 0/3 [00:00<?, ?it/s]"
      ]
     },
     "metadata": {},
     "output_type": "display_data"
    },
    {
     "data": {
      "application/vnd.jupyter.widget-view+json": {
       "model_id": "deead8272df24bbe93374fee7ef27565",
       "version_major": 2,
       "version_minor": 0
      },
      "text/plain": [
       "randomforest submodels:   0%|          | 0/3 [00:00<?, ?it/s]"
      ]
     },
     "metadata": {},
     "output_type": "display_data"
    },
    {
     "data": {
      "application/vnd.jupyter.widget-view+json": {
       "model_id": "2380b33770144154b9ea10227248c2d6",
       "version_major": 2,
       "version_minor": 0
      },
      "text/plain": [
       "decisiontree submodels:   0%|          | 0/3 [00:00<?, ?it/s]"
      ]
     },
     "metadata": {},
     "output_type": "display_data"
    },
    {
     "name": "stdout",
     "output_type": "stream",
     "text": [
      "word2vec_vs1500_win4_sg1 done and updated json\n"
     ]
    },
    {
     "data": {
      "application/vnd.jupyter.widget-view+json": {
       "model_id": "1b35323103f84393a23cebb33323d6bd",
       "version_major": 2,
       "version_minor": 0
      },
      "text/plain": [
       "Predictive Models for word2vec_vs1500_win5_sg0:   0%|          | 0/5 [00:00<?, ?it/s]"
      ]
     },
     "metadata": {},
     "output_type": "display_data"
    },
    {
     "data": {
      "application/vnd.jupyter.widget-view+json": {
       "model_id": "4fa92de5c28f46cab15e9a4e80fbeebf",
       "version_major": 2,
       "version_minor": 0
      },
      "text/plain": [
       "catboost submodels:   0%|          | 0/3 [00:00<?, ?it/s]"
      ]
     },
     "metadata": {},
     "output_type": "display_data"
    },
    {
     "data": {
      "application/vnd.jupyter.widget-view+json": {
       "model_id": "15235f88e1f94212a452f188b744f43a",
       "version_major": 2,
       "version_minor": 0
      },
      "text/plain": [
       "lightgbm submodels:   0%|          | 0/3 [00:00<?, ?it/s]"
      ]
     },
     "metadata": {},
     "output_type": "display_data"
    },
    {
     "data": {
      "application/vnd.jupyter.widget-view+json": {
       "model_id": "35a14f20e7c84bf796468932e192abff",
       "version_major": 2,
       "version_minor": 0
      },
      "text/plain": [
       "knn submodels:   0%|          | 0/3 [00:00<?, ?it/s]"
      ]
     },
     "metadata": {},
     "output_type": "display_data"
    },
    {
     "data": {
      "application/vnd.jupyter.widget-view+json": {
       "model_id": "2142ed4265b04da68a4b57263169deb4",
       "version_major": 2,
       "version_minor": 0
      },
      "text/plain": [
       "randomforest submodels:   0%|          | 0/3 [00:00<?, ?it/s]"
      ]
     },
     "metadata": {},
     "output_type": "display_data"
    },
    {
     "data": {
      "application/vnd.jupyter.widget-view+json": {
       "model_id": "388728cd21d346bc8b48bb26d35ecff5",
       "version_major": 2,
       "version_minor": 0
      },
      "text/plain": [
       "decisiontree submodels:   0%|          | 0/3 [00:00<?, ?it/s]"
      ]
     },
     "metadata": {},
     "output_type": "display_data"
    },
    {
     "name": "stdout",
     "output_type": "stream",
     "text": [
      "word2vec_vs1500_win5_sg0 done and updated json\n"
     ]
    },
    {
     "data": {
      "application/vnd.jupyter.widget-view+json": {
       "model_id": "be4a1a36a8cc4fe59c7622818db4676d",
       "version_major": 2,
       "version_minor": 0
      },
      "text/plain": [
       "Predictive Models for word2vec_vs1500_win5_sg1:   0%|          | 0/5 [00:00<?, ?it/s]"
      ]
     },
     "metadata": {},
     "output_type": "display_data"
    },
    {
     "data": {
      "application/vnd.jupyter.widget-view+json": {
       "model_id": "f6b62aa0b761442ba5881d2b89605ac2",
       "version_major": 2,
       "version_minor": 0
      },
      "text/plain": [
       "catboost submodels:   0%|          | 0/3 [00:00<?, ?it/s]"
      ]
     },
     "metadata": {},
     "output_type": "display_data"
    },
    {
     "data": {
      "application/vnd.jupyter.widget-view+json": {
       "model_id": "b1e9e0f25d1e437ba033b2476425ce77",
       "version_major": 2,
       "version_minor": 0
      },
      "text/plain": [
       "lightgbm submodels:   0%|          | 0/3 [00:00<?, ?it/s]"
      ]
     },
     "metadata": {},
     "output_type": "display_data"
    },
    {
     "data": {
      "application/vnd.jupyter.widget-view+json": {
       "model_id": "dc13f5611daf4785abea2d5f94d5d1d7",
       "version_major": 2,
       "version_minor": 0
      },
      "text/plain": [
       "knn submodels:   0%|          | 0/3 [00:00<?, ?it/s]"
      ]
     },
     "metadata": {},
     "output_type": "display_data"
    },
    {
     "data": {
      "application/vnd.jupyter.widget-view+json": {
       "model_id": "e4ee0e9a4ae14e13809864c9fda1e683",
       "version_major": 2,
       "version_minor": 0
      },
      "text/plain": [
       "randomforest submodels:   0%|          | 0/3 [00:00<?, ?it/s]"
      ]
     },
     "metadata": {},
     "output_type": "display_data"
    },
    {
     "data": {
      "application/vnd.jupyter.widget-view+json": {
       "model_id": "77605b5da92144feacb2a7f8778c6c32",
       "version_major": 2,
       "version_minor": 0
      },
      "text/plain": [
       "decisiontree submodels:   0%|          | 0/3 [00:00<?, ?it/s]"
      ]
     },
     "metadata": {},
     "output_type": "display_data"
    },
    {
     "name": "stdout",
     "output_type": "stream",
     "text": [
      "word2vec_vs1500_win5_sg1 done and updated json\n"
     ]
    },
    {
     "data": {
      "application/vnd.jupyter.widget-view+json": {
       "model_id": "4fed992edb4645e1954571120603b969",
       "version_major": 2,
       "version_minor": 0
      },
      "text/plain": [
       "Predictive Models for word2vec_vs1500_win6_sg0:   0%|          | 0/5 [00:00<?, ?it/s]"
      ]
     },
     "metadata": {},
     "output_type": "display_data"
    },
    {
     "data": {
      "application/vnd.jupyter.widget-view+json": {
       "model_id": "fe477ca67bd84b988aac51ff3997f2b0",
       "version_major": 2,
       "version_minor": 0
      },
      "text/plain": [
       "catboost submodels:   0%|          | 0/3 [00:00<?, ?it/s]"
      ]
     },
     "metadata": {},
     "output_type": "display_data"
    },
    {
     "data": {
      "application/vnd.jupyter.widget-view+json": {
       "model_id": "8d2a2c09143b4406bd7d3e1767fb3b3e",
       "version_major": 2,
       "version_minor": 0
      },
      "text/plain": [
       "lightgbm submodels:   0%|          | 0/3 [00:00<?, ?it/s]"
      ]
     },
     "metadata": {},
     "output_type": "display_data"
    },
    {
     "data": {
      "application/vnd.jupyter.widget-view+json": {
       "model_id": "0facdb80831e481f876e50186b9de840",
       "version_major": 2,
       "version_minor": 0
      },
      "text/plain": [
       "knn submodels:   0%|          | 0/3 [00:00<?, ?it/s]"
      ]
     },
     "metadata": {},
     "output_type": "display_data"
    },
    {
     "data": {
      "application/vnd.jupyter.widget-view+json": {
       "model_id": "3b75b2135fa34983a83d69d6e4ce1df8",
       "version_major": 2,
       "version_minor": 0
      },
      "text/plain": [
       "randomforest submodels:   0%|          | 0/3 [00:00<?, ?it/s]"
      ]
     },
     "metadata": {},
     "output_type": "display_data"
    },
    {
     "data": {
      "application/vnd.jupyter.widget-view+json": {
       "model_id": "d1ee8865f4ca4fb78399aaaa52ae279f",
       "version_major": 2,
       "version_minor": 0
      },
      "text/plain": [
       "decisiontree submodels:   0%|          | 0/3 [00:00<?, ?it/s]"
      ]
     },
     "metadata": {},
     "output_type": "display_data"
    },
    {
     "name": "stdout",
     "output_type": "stream",
     "text": [
      "word2vec_vs1500_win6_sg0 done and updated json\n"
     ]
    },
    {
     "data": {
      "application/vnd.jupyter.widget-view+json": {
       "model_id": "aa2ea776c99249f693c658a78a2ca934",
       "version_major": 2,
       "version_minor": 0
      },
      "text/plain": [
       "Predictive Models for word2vec_vs1500_win6_sg1:   0%|          | 0/5 [00:00<?, ?it/s]"
      ]
     },
     "metadata": {},
     "output_type": "display_data"
    },
    {
     "data": {
      "application/vnd.jupyter.widget-view+json": {
       "model_id": "79429036b02b4c82b1cc9f674d9a313f",
       "version_major": 2,
       "version_minor": 0
      },
      "text/plain": [
       "catboost submodels:   0%|          | 0/3 [00:00<?, ?it/s]"
      ]
     },
     "metadata": {},
     "output_type": "display_data"
    },
    {
     "data": {
      "application/vnd.jupyter.widget-view+json": {
       "model_id": "b2d7c887e2424f9f98a193584c311098",
       "version_major": 2,
       "version_minor": 0
      },
      "text/plain": [
       "lightgbm submodels:   0%|          | 0/3 [00:00<?, ?it/s]"
      ]
     },
     "metadata": {},
     "output_type": "display_data"
    },
    {
     "data": {
      "application/vnd.jupyter.widget-view+json": {
       "model_id": "0ab32a795227474c9ff930ff32e02fd0",
       "version_major": 2,
       "version_minor": 0
      },
      "text/plain": [
       "knn submodels:   0%|          | 0/3 [00:00<?, ?it/s]"
      ]
     },
     "metadata": {},
     "output_type": "display_data"
    },
    {
     "data": {
      "application/vnd.jupyter.widget-view+json": {
       "model_id": "04d54b84651d4ff3ae2d63a59fd3e350",
       "version_major": 2,
       "version_minor": 0
      },
      "text/plain": [
       "randomforest submodels:   0%|          | 0/3 [00:00<?, ?it/s]"
      ]
     },
     "metadata": {},
     "output_type": "display_data"
    },
    {
     "data": {
      "application/vnd.jupyter.widget-view+json": {
       "model_id": "1ce7d11cc7474c29b693006c49bced4d",
       "version_major": 2,
       "version_minor": 0
      },
      "text/plain": [
       "decisiontree submodels:   0%|          | 0/3 [00:00<?, ?it/s]"
      ]
     },
     "metadata": {},
     "output_type": "display_data"
    },
    {
     "name": "stdout",
     "output_type": "stream",
     "text": [
      "word2vec_vs1500_win6_sg1 done and updated json\n"
     ]
    },
    {
     "data": {
      "application/vnd.jupyter.widget-view+json": {
       "model_id": "f2277eb0475849a59ce88ff3dfe1ad4f",
       "version_major": 2,
       "version_minor": 0
      },
      "text/plain": [
       "Predictive Models for word2vec_vs1500_win7_sg0:   0%|          | 0/5 [00:00<?, ?it/s]"
      ]
     },
     "metadata": {},
     "output_type": "display_data"
    },
    {
     "data": {
      "application/vnd.jupyter.widget-view+json": {
       "model_id": "510580173a004fc497b276b11d32496b",
       "version_major": 2,
       "version_minor": 0
      },
      "text/plain": [
       "catboost submodels:   0%|          | 0/3 [00:00<?, ?it/s]"
      ]
     },
     "metadata": {},
     "output_type": "display_data"
    },
    {
     "data": {
      "application/vnd.jupyter.widget-view+json": {
       "model_id": "25dc9db7d45347d0b98118764de60827",
       "version_major": 2,
       "version_minor": 0
      },
      "text/plain": [
       "lightgbm submodels:   0%|          | 0/3 [00:00<?, ?it/s]"
      ]
     },
     "metadata": {},
     "output_type": "display_data"
    },
    {
     "data": {
      "application/vnd.jupyter.widget-view+json": {
       "model_id": "a325c3723833466dbee6990c6f0c30cc",
       "version_major": 2,
       "version_minor": 0
      },
      "text/plain": [
       "knn submodels:   0%|          | 0/3 [00:00<?, ?it/s]"
      ]
     },
     "metadata": {},
     "output_type": "display_data"
    },
    {
     "data": {
      "application/vnd.jupyter.widget-view+json": {
       "model_id": "e1c729e52ffe43d7a8ce9d7c5e639471",
       "version_major": 2,
       "version_minor": 0
      },
      "text/plain": [
       "randomforest submodels:   0%|          | 0/3 [00:00<?, ?it/s]"
      ]
     },
     "metadata": {},
     "output_type": "display_data"
    },
    {
     "data": {
      "application/vnd.jupyter.widget-view+json": {
       "model_id": "945a4d3cd3084f68b8678ca2f5887052",
       "version_major": 2,
       "version_minor": 0
      },
      "text/plain": [
       "decisiontree submodels:   0%|          | 0/3 [00:00<?, ?it/s]"
      ]
     },
     "metadata": {},
     "output_type": "display_data"
    },
    {
     "name": "stdout",
     "output_type": "stream",
     "text": [
      "word2vec_vs1500_win7_sg0 done and updated json\n"
     ]
    },
    {
     "data": {
      "application/vnd.jupyter.widget-view+json": {
       "model_id": "bdde0c1bad9940188d384e8e3f3ea9fd",
       "version_major": 2,
       "version_minor": 0
      },
      "text/plain": [
       "Predictive Models for word2vec_vs1500_win7_sg1:   0%|          | 0/5 [00:00<?, ?it/s]"
      ]
     },
     "metadata": {},
     "output_type": "display_data"
    },
    {
     "data": {
      "application/vnd.jupyter.widget-view+json": {
       "model_id": "f4be680287024d2b8f5e1d2b2e037398",
       "version_major": 2,
       "version_minor": 0
      },
      "text/plain": [
       "catboost submodels:   0%|          | 0/3 [00:00<?, ?it/s]"
      ]
     },
     "metadata": {},
     "output_type": "display_data"
    },
    {
     "data": {
      "application/vnd.jupyter.widget-view+json": {
       "model_id": "fc54f1fbeba04005bd4ca63a64e8a34a",
       "version_major": 2,
       "version_minor": 0
      },
      "text/plain": [
       "lightgbm submodels:   0%|          | 0/3 [00:00<?, ?it/s]"
      ]
     },
     "metadata": {},
     "output_type": "display_data"
    },
    {
     "data": {
      "application/vnd.jupyter.widget-view+json": {
       "model_id": "8a478a899a314166baf3d0133e833ee1",
       "version_major": 2,
       "version_minor": 0
      },
      "text/plain": [
       "knn submodels:   0%|          | 0/3 [00:00<?, ?it/s]"
      ]
     },
     "metadata": {},
     "output_type": "display_data"
    },
    {
     "data": {
      "application/vnd.jupyter.widget-view+json": {
       "model_id": "5b0da50724ed49f88aeffe618342dba8",
       "version_major": 2,
       "version_minor": 0
      },
      "text/plain": [
       "randomforest submodels:   0%|          | 0/3 [00:00<?, ?it/s]"
      ]
     },
     "metadata": {},
     "output_type": "display_data"
    },
    {
     "data": {
      "application/vnd.jupyter.widget-view+json": {
       "model_id": "3b4b587ad9474b3d8a083a12fb00a333",
       "version_major": 2,
       "version_minor": 0
      },
      "text/plain": [
       "decisiontree submodels:   0%|          | 0/3 [00:00<?, ?it/s]"
      ]
     },
     "metadata": {},
     "output_type": "display_data"
    },
    {
     "name": "stdout",
     "output_type": "stream",
     "text": [
      "word2vec_vs1500_win7_sg1 done and updated json\n"
     ]
    },
    {
     "data": {
      "application/vnd.jupyter.widget-view+json": {
       "model_id": "71f0302879bc43f3ab556eab2cc37c9f",
       "version_major": 2,
       "version_minor": 0
      },
      "text/plain": [
       "Predictive Models for word2vec_vs1500_win8_sg0:   0%|          | 0/5 [00:00<?, ?it/s]"
      ]
     },
     "metadata": {},
     "output_type": "display_data"
    },
    {
     "data": {
      "application/vnd.jupyter.widget-view+json": {
       "model_id": "d0e7ca7400b149ccaaeb5ce4e6edb3ce",
       "version_major": 2,
       "version_minor": 0
      },
      "text/plain": [
       "catboost submodels:   0%|          | 0/3 [00:00<?, ?it/s]"
      ]
     },
     "metadata": {},
     "output_type": "display_data"
    },
    {
     "data": {
      "application/vnd.jupyter.widget-view+json": {
       "model_id": "88995396ca164241807a237847ff4778",
       "version_major": 2,
       "version_minor": 0
      },
      "text/plain": [
       "lightgbm submodels:   0%|          | 0/3 [00:00<?, ?it/s]"
      ]
     },
     "metadata": {},
     "output_type": "display_data"
    },
    {
     "data": {
      "application/vnd.jupyter.widget-view+json": {
       "model_id": "11fa2820f843465cb64c4fce3bed45e2",
       "version_major": 2,
       "version_minor": 0
      },
      "text/plain": [
       "knn submodels:   0%|          | 0/3 [00:00<?, ?it/s]"
      ]
     },
     "metadata": {},
     "output_type": "display_data"
    },
    {
     "data": {
      "application/vnd.jupyter.widget-view+json": {
       "model_id": "cda6fe1695a04554a792ba1453a50a4c",
       "version_major": 2,
       "version_minor": 0
      },
      "text/plain": [
       "randomforest submodels:   0%|          | 0/3 [00:00<?, ?it/s]"
      ]
     },
     "metadata": {},
     "output_type": "display_data"
    },
    {
     "data": {
      "application/vnd.jupyter.widget-view+json": {
       "model_id": "a88f793e36e8454b89e046ffdf6a101b",
       "version_major": 2,
       "version_minor": 0
      },
      "text/plain": [
       "decisiontree submodels:   0%|          | 0/3 [00:00<?, ?it/s]"
      ]
     },
     "metadata": {},
     "output_type": "display_data"
    },
    {
     "name": "stdout",
     "output_type": "stream",
     "text": [
      "word2vec_vs1500_win8_sg0 done and updated json\n"
     ]
    },
    {
     "data": {
      "application/vnd.jupyter.widget-view+json": {
       "model_id": "844902f20f8a42088eb65a057013bcaf",
       "version_major": 2,
       "version_minor": 0
      },
      "text/plain": [
       "Predictive Models for word2vec_vs1500_win8_sg1:   0%|          | 0/5 [00:00<?, ?it/s]"
      ]
     },
     "metadata": {},
     "output_type": "display_data"
    },
    {
     "data": {
      "application/vnd.jupyter.widget-view+json": {
       "model_id": "2b6cc88c86dd4e819863356b34c2154f",
       "version_major": 2,
       "version_minor": 0
      },
      "text/plain": [
       "catboost submodels:   0%|          | 0/3 [00:00<?, ?it/s]"
      ]
     },
     "metadata": {},
     "output_type": "display_data"
    },
    {
     "data": {
      "application/vnd.jupyter.widget-view+json": {
       "model_id": "2919eba737b2473ca5eea249cebea242",
       "version_major": 2,
       "version_minor": 0
      },
      "text/plain": [
       "lightgbm submodels:   0%|          | 0/3 [00:00<?, ?it/s]"
      ]
     },
     "metadata": {},
     "output_type": "display_data"
    },
    {
     "data": {
      "application/vnd.jupyter.widget-view+json": {
       "model_id": "acc362e6893e403d91db8604194c6878",
       "version_major": 2,
       "version_minor": 0
      },
      "text/plain": [
       "knn submodels:   0%|          | 0/3 [00:00<?, ?it/s]"
      ]
     },
     "metadata": {},
     "output_type": "display_data"
    },
    {
     "data": {
      "application/vnd.jupyter.widget-view+json": {
       "model_id": "012db11548374b6aa33ae7161faf3615",
       "version_major": 2,
       "version_minor": 0
      },
      "text/plain": [
       "randomforest submodels:   0%|          | 0/3 [00:00<?, ?it/s]"
      ]
     },
     "metadata": {},
     "output_type": "display_data"
    },
    {
     "data": {
      "application/vnd.jupyter.widget-view+json": {
       "model_id": "e28b632c76ea4ba588caf96454b47ee2",
       "version_major": 2,
       "version_minor": 0
      },
      "text/plain": [
       "decisiontree submodels:   0%|          | 0/3 [00:00<?, ?it/s]"
      ]
     },
     "metadata": {},
     "output_type": "display_data"
    },
    {
     "name": "stdout",
     "output_type": "stream",
     "text": [
      "word2vec_vs1500_win8_sg1 done and updated json\n"
     ]
    },
    {
     "data": {
      "application/vnd.jupyter.widget-view+json": {
       "model_id": "b9b0ddab66bc4e488ee93b8b21567777",
       "version_major": 2,
       "version_minor": 0
      },
      "text/plain": [
       "Predictive Models for word2vec_vs2000_win3_sg1:   0%|          | 0/5 [00:00<?, ?it/s]"
      ]
     },
     "metadata": {},
     "output_type": "display_data"
    },
    {
     "data": {
      "application/vnd.jupyter.widget-view+json": {
       "model_id": "c7c8dabf364847079cabe18b587f54f3",
       "version_major": 2,
       "version_minor": 0
      },
      "text/plain": [
       "catboost submodels:   0%|          | 0/3 [00:00<?, ?it/s]"
      ]
     },
     "metadata": {},
     "output_type": "display_data"
    },
    {
     "data": {
      "application/vnd.jupyter.widget-view+json": {
       "model_id": "1a67ff5644df41888d41d62b66e2c07f",
       "version_major": 2,
       "version_minor": 0
      },
      "text/plain": [
       "lightgbm submodels:   0%|          | 0/3 [00:00<?, ?it/s]"
      ]
     },
     "metadata": {},
     "output_type": "display_data"
    },
    {
     "data": {
      "application/vnd.jupyter.widget-view+json": {
       "model_id": "b2b1310d494747daaf52116c2f223c80",
       "version_major": 2,
       "version_minor": 0
      },
      "text/plain": [
       "knn submodels:   0%|          | 0/3 [00:00<?, ?it/s]"
      ]
     },
     "metadata": {},
     "output_type": "display_data"
    },
    {
     "data": {
      "application/vnd.jupyter.widget-view+json": {
       "model_id": "27697dce9bb54743a6c278cb25763724",
       "version_major": 2,
       "version_minor": 0
      },
      "text/plain": [
       "randomforest submodels:   0%|          | 0/3 [00:00<?, ?it/s]"
      ]
     },
     "metadata": {},
     "output_type": "display_data"
    },
    {
     "data": {
      "application/vnd.jupyter.widget-view+json": {
       "model_id": "8df7dd37e1424b4ba605fa506190800e",
       "version_major": 2,
       "version_minor": 0
      },
      "text/plain": [
       "decisiontree submodels:   0%|          | 0/3 [00:00<?, ?it/s]"
      ]
     },
     "metadata": {},
     "output_type": "display_data"
    },
    {
     "name": "stdout",
     "output_type": "stream",
     "text": [
      "word2vec_vs2000_win3_sg1 done and updated json\n"
     ]
    },
    {
     "data": {
      "application/vnd.jupyter.widget-view+json": {
       "model_id": "3367dec1f92a4f3088271f712d5511ac",
       "version_major": 2,
       "version_minor": 0
      },
      "text/plain": [
       "Predictive Models for word2vec_vs2000_win4_sg0:   0%|          | 0/5 [00:00<?, ?it/s]"
      ]
     },
     "metadata": {},
     "output_type": "display_data"
    },
    {
     "data": {
      "application/vnd.jupyter.widget-view+json": {
       "model_id": "e89bea28011c49baa92e70e072c0e737",
       "version_major": 2,
       "version_minor": 0
      },
      "text/plain": [
       "catboost submodels:   0%|          | 0/3 [00:00<?, ?it/s]"
      ]
     },
     "metadata": {},
     "output_type": "display_data"
    },
    {
     "data": {
      "application/vnd.jupyter.widget-view+json": {
       "model_id": "e0616025112e476a8a522e3d3128c4ad",
       "version_major": 2,
       "version_minor": 0
      },
      "text/plain": [
       "lightgbm submodels:   0%|          | 0/3 [00:00<?, ?it/s]"
      ]
     },
     "metadata": {},
     "output_type": "display_data"
    },
    {
     "data": {
      "application/vnd.jupyter.widget-view+json": {
       "model_id": "f4e053eeca7e4e369cf7034aed6fe08b",
       "version_major": 2,
       "version_minor": 0
      },
      "text/plain": [
       "knn submodels:   0%|          | 0/3 [00:00<?, ?it/s]"
      ]
     },
     "metadata": {},
     "output_type": "display_data"
    },
    {
     "data": {
      "application/vnd.jupyter.widget-view+json": {
       "model_id": "8d2ca2f116d74374a6364cb8bd9a2d6a",
       "version_major": 2,
       "version_minor": 0
      },
      "text/plain": [
       "randomforest submodels:   0%|          | 0/3 [00:00<?, ?it/s]"
      ]
     },
     "metadata": {},
     "output_type": "display_data"
    },
    {
     "data": {
      "application/vnd.jupyter.widget-view+json": {
       "model_id": "0631efede07c4053b812121849a73a53",
       "version_major": 2,
       "version_minor": 0
      },
      "text/plain": [
       "decisiontree submodels:   0%|          | 0/3 [00:00<?, ?it/s]"
      ]
     },
     "metadata": {},
     "output_type": "display_data"
    },
    {
     "name": "stdout",
     "output_type": "stream",
     "text": [
      "word2vec_vs2000_win4_sg0 done and updated json\n"
     ]
    },
    {
     "data": {
      "application/vnd.jupyter.widget-view+json": {
       "model_id": "d7d4b4e5672044ec8ed55175185113ad",
       "version_major": 2,
       "version_minor": 0
      },
      "text/plain": [
       "Predictive Models for word2vec_vs2000_win5_sg0:   0%|          | 0/5 [00:00<?, ?it/s]"
      ]
     },
     "metadata": {},
     "output_type": "display_data"
    },
    {
     "data": {
      "application/vnd.jupyter.widget-view+json": {
       "model_id": "03e56688fccd4e56a4cdbdfeee7bc43c",
       "version_major": 2,
       "version_minor": 0
      },
      "text/plain": [
       "catboost submodels:   0%|          | 0/3 [00:00<?, ?it/s]"
      ]
     },
     "metadata": {},
     "output_type": "display_data"
    },
    {
     "data": {
      "application/vnd.jupyter.widget-view+json": {
       "model_id": "6a08199bf03b4e1ebab63389cf1872b0",
       "version_major": 2,
       "version_minor": 0
      },
      "text/plain": [
       "lightgbm submodels:   0%|          | 0/3 [00:00<?, ?it/s]"
      ]
     },
     "metadata": {},
     "output_type": "display_data"
    },
    {
     "data": {
      "application/vnd.jupyter.widget-view+json": {
       "model_id": "e558e81dc07b45c2a69e62d3053e4495",
       "version_major": 2,
       "version_minor": 0
      },
      "text/plain": [
       "knn submodels:   0%|          | 0/3 [00:00<?, ?it/s]"
      ]
     },
     "metadata": {},
     "output_type": "display_data"
    },
    {
     "data": {
      "application/vnd.jupyter.widget-view+json": {
       "model_id": "ad315c69807e42e6afad149c89052979",
       "version_major": 2,
       "version_minor": 0
      },
      "text/plain": [
       "randomforest submodels:   0%|          | 0/3 [00:00<?, ?it/s]"
      ]
     },
     "metadata": {},
     "output_type": "display_data"
    },
    {
     "data": {
      "application/vnd.jupyter.widget-view+json": {
       "model_id": "c56471067c1d4ba991fbac40c6cf0618",
       "version_major": 2,
       "version_minor": 0
      },
      "text/plain": [
       "decisiontree submodels:   0%|          | 0/3 [00:00<?, ?it/s]"
      ]
     },
     "metadata": {},
     "output_type": "display_data"
    },
    {
     "name": "stdout",
     "output_type": "stream",
     "text": [
      "word2vec_vs2000_win5_sg0 done and updated json\n"
     ]
    },
    {
     "data": {
      "application/vnd.jupyter.widget-view+json": {
       "model_id": "90825adfb2544d28bac221c3e7c3b0b1",
       "version_major": 2,
       "version_minor": 0
      },
      "text/plain": [
       "Predictive Models for word2vec_vs2000_win5_sg1:   0%|          | 0/5 [00:00<?, ?it/s]"
      ]
     },
     "metadata": {},
     "output_type": "display_data"
    },
    {
     "data": {
      "application/vnd.jupyter.widget-view+json": {
       "model_id": "991a8f93667747fcb0a55ea3ec3c60d9",
       "version_major": 2,
       "version_minor": 0
      },
      "text/plain": [
       "catboost submodels:   0%|          | 0/3 [00:00<?, ?it/s]"
      ]
     },
     "metadata": {},
     "output_type": "display_data"
    },
    {
     "data": {
      "application/vnd.jupyter.widget-view+json": {
       "model_id": "b1294d79ffe8466eb44b57c0431ab849",
       "version_major": 2,
       "version_minor": 0
      },
      "text/plain": [
       "lightgbm submodels:   0%|          | 0/3 [00:00<?, ?it/s]"
      ]
     },
     "metadata": {},
     "output_type": "display_data"
    },
    {
     "data": {
      "application/vnd.jupyter.widget-view+json": {
       "model_id": "a78076c21447469289da3aeef4e6dc54",
       "version_major": 2,
       "version_minor": 0
      },
      "text/plain": [
       "knn submodels:   0%|          | 0/3 [00:00<?, ?it/s]"
      ]
     },
     "metadata": {},
     "output_type": "display_data"
    },
    {
     "data": {
      "application/vnd.jupyter.widget-view+json": {
       "model_id": "cd9d9af74ae14c8eaf8d290cf2c8894e",
       "version_major": 2,
       "version_minor": 0
      },
      "text/plain": [
       "randomforest submodels:   0%|          | 0/3 [00:00<?, ?it/s]"
      ]
     },
     "metadata": {},
     "output_type": "display_data"
    },
    {
     "ename": "KeyboardInterrupt",
     "evalue": "",
     "output_type": "error",
     "traceback": [
      "\u001b[1;31m---------------------------------------------------------------------------\u001b[0m",
      "\u001b[1;31mKeyboardInterrupt\u001b[0m                         Traceback (most recent call last)",
      "\u001b[1;32md:\\Dokumenty\\AAA_PW\\Sem7\\pracainzynierska\\modelling\\select_best_word2vec_small_models part2.ipynb Cell 8\u001b[0m line \u001b[0;36m9\n\u001b[0;32m     <a href='vscode-notebook-cell:/d%3A/Dokumenty/AAA_PW/Sem7/pracainzynierska/modelling/select_best_word2vec_small_models%20part2.ipynb#X10sZmlsZQ%3D%3D?line=87'>88</a>\u001b[0m \u001b[39m# print(model_type)\u001b[39;00m\n\u001b[0;32m     <a href='vscode-notebook-cell:/d%3A/Dokumenty/AAA_PW/Sem7/pracainzynierska/modelling/select_best_word2vec_small_models%20part2.ipynb#X10sZmlsZQ%3D%3D?line=88'>89</a>\u001b[0m \u001b[39mfor\u001b[39;00m submodel \u001b[39min\u001b[39;00m tqdm(models[model_type], desc\u001b[39m=\u001b[39m\u001b[39mf\u001b[39m\u001b[39m'\u001b[39m\u001b[39m{\u001b[39;00mmodel_type\u001b[39m}\u001b[39;00m\u001b[39m submodels\u001b[39m\u001b[39m'\u001b[39m):\n\u001b[1;32m---> <a href='vscode-notebook-cell:/d%3A/Dokumenty/AAA_PW/Sem7/pracainzynierska/modelling/select_best_word2vec_small_models%20part2.ipynb#X10sZmlsZQ%3D%3D?line=89'>90</a>\u001b[0m     submodel\u001b[39m.\u001b[39;49mfit(X_train_scaled, y_train)\n\u001b[0;32m     <a href='vscode-notebook-cell:/d%3A/Dokumenty/AAA_PW/Sem7/pracainzynierska/modelling/select_best_word2vec_small_models%20part2.ipynb#X10sZmlsZQ%3D%3D?line=90'>91</a>\u001b[0m     y_pred \u001b[39m=\u001b[39m submodel\u001b[39m.\u001b[39mpredict(X_test_scaled)\n\u001b[0;32m     <a href='vscode-notebook-cell:/d%3A/Dokumenty/AAA_PW/Sem7/pracainzynierska/modelling/select_best_word2vec_small_models%20part2.ipynb#X10sZmlsZQ%3D%3D?line=91'>92</a>\u001b[0m     f1 \u001b[39m=\u001b[39m f1_score(y_test, y_pred)\n",
      "File \u001b[1;32mc:\\Users\\adamm\\AppData\\Local\\Programs\\Python\\Python310\\lib\\site-packages\\sklearn\\base.py:1152\u001b[0m, in \u001b[0;36m_fit_context.<locals>.decorator.<locals>.wrapper\u001b[1;34m(estimator, *args, **kwargs)\u001b[0m\n\u001b[0;32m   1145\u001b[0m     estimator\u001b[39m.\u001b[39m_validate_params()\n\u001b[0;32m   1147\u001b[0m \u001b[39mwith\u001b[39;00m config_context(\n\u001b[0;32m   1148\u001b[0m     skip_parameter_validation\u001b[39m=\u001b[39m(\n\u001b[0;32m   1149\u001b[0m         prefer_skip_nested_validation \u001b[39mor\u001b[39;00m global_skip_validation\n\u001b[0;32m   1150\u001b[0m     )\n\u001b[0;32m   1151\u001b[0m ):\n\u001b[1;32m-> 1152\u001b[0m     \u001b[39mreturn\u001b[39;00m fit_method(estimator, \u001b[39m*\u001b[39margs, \u001b[39m*\u001b[39m\u001b[39m*\u001b[39mkwargs)\n",
      "File \u001b[1;32mc:\\Users\\adamm\\AppData\\Local\\Programs\\Python\\Python310\\lib\\site-packages\\sklearn\\ensemble\\_forest.py:456\u001b[0m, in \u001b[0;36mBaseForest.fit\u001b[1;34m(self, X, y, sample_weight)\u001b[0m\n\u001b[0;32m    445\u001b[0m trees \u001b[39m=\u001b[39m [\n\u001b[0;32m    446\u001b[0m     \u001b[39mself\u001b[39m\u001b[39m.\u001b[39m_make_estimator(append\u001b[39m=\u001b[39m\u001b[39mFalse\u001b[39;00m, random_state\u001b[39m=\u001b[39mrandom_state)\n\u001b[0;32m    447\u001b[0m     \u001b[39mfor\u001b[39;00m i \u001b[39min\u001b[39;00m \u001b[39mrange\u001b[39m(n_more_estimators)\n\u001b[0;32m    448\u001b[0m ]\n\u001b[0;32m    450\u001b[0m \u001b[39m# Parallel loop: we prefer the threading backend as the Cython code\u001b[39;00m\n\u001b[0;32m    451\u001b[0m \u001b[39m# for fitting the trees is internally releasing the Python GIL\u001b[39;00m\n\u001b[0;32m    452\u001b[0m \u001b[39m# making threading more efficient than multiprocessing in\u001b[39;00m\n\u001b[0;32m    453\u001b[0m \u001b[39m# that case. However, for joblib 0.12+ we respect any\u001b[39;00m\n\u001b[0;32m    454\u001b[0m \u001b[39m# parallel_backend contexts set at a higher level,\u001b[39;00m\n\u001b[0;32m    455\u001b[0m \u001b[39m# since correctness does not rely on using threads.\u001b[39;00m\n\u001b[1;32m--> 456\u001b[0m trees \u001b[39m=\u001b[39m Parallel(\n\u001b[0;32m    457\u001b[0m     n_jobs\u001b[39m=\u001b[39;49m\u001b[39mself\u001b[39;49m\u001b[39m.\u001b[39;49mn_jobs,\n\u001b[0;32m    458\u001b[0m     verbose\u001b[39m=\u001b[39;49m\u001b[39mself\u001b[39;49m\u001b[39m.\u001b[39;49mverbose,\n\u001b[0;32m    459\u001b[0m     prefer\u001b[39m=\u001b[39;49m\u001b[39m\"\u001b[39;49m\u001b[39mthreads\u001b[39;49m\u001b[39m\"\u001b[39;49m,\n\u001b[0;32m    460\u001b[0m )(\n\u001b[0;32m    461\u001b[0m     delayed(_parallel_build_trees)(\n\u001b[0;32m    462\u001b[0m         t,\n\u001b[0;32m    463\u001b[0m         \u001b[39mself\u001b[39;49m\u001b[39m.\u001b[39;49mbootstrap,\n\u001b[0;32m    464\u001b[0m         X,\n\u001b[0;32m    465\u001b[0m         y,\n\u001b[0;32m    466\u001b[0m         sample_weight,\n\u001b[0;32m    467\u001b[0m         i,\n\u001b[0;32m    468\u001b[0m         \u001b[39mlen\u001b[39;49m(trees),\n\u001b[0;32m    469\u001b[0m         verbose\u001b[39m=\u001b[39;49m\u001b[39mself\u001b[39;49m\u001b[39m.\u001b[39;49mverbose,\n\u001b[0;32m    470\u001b[0m         class_weight\u001b[39m=\u001b[39;49m\u001b[39mself\u001b[39;49m\u001b[39m.\u001b[39;49mclass_weight,\n\u001b[0;32m    471\u001b[0m         n_samples_bootstrap\u001b[39m=\u001b[39;49mn_samples_bootstrap,\n\u001b[0;32m    472\u001b[0m     )\n\u001b[0;32m    473\u001b[0m     \u001b[39mfor\u001b[39;49;00m i, t \u001b[39min\u001b[39;49;00m \u001b[39menumerate\u001b[39;49m(trees)\n\u001b[0;32m    474\u001b[0m )\n\u001b[0;32m    476\u001b[0m \u001b[39m# Collect newly grown trees\u001b[39;00m\n\u001b[0;32m    477\u001b[0m \u001b[39mself\u001b[39m\u001b[39m.\u001b[39mestimators_\u001b[39m.\u001b[39mextend(trees)\n",
      "File \u001b[1;32mc:\\Users\\adamm\\AppData\\Local\\Programs\\Python\\Python310\\lib\\site-packages\\sklearn\\utils\\parallel.py:65\u001b[0m, in \u001b[0;36mParallel.__call__\u001b[1;34m(self, iterable)\u001b[0m\n\u001b[0;32m     60\u001b[0m config \u001b[39m=\u001b[39m get_config()\n\u001b[0;32m     61\u001b[0m iterable_with_config \u001b[39m=\u001b[39m (\n\u001b[0;32m     62\u001b[0m     (_with_config(delayed_func, config), args, kwargs)\n\u001b[0;32m     63\u001b[0m     \u001b[39mfor\u001b[39;00m delayed_func, args, kwargs \u001b[39min\u001b[39;00m iterable\n\u001b[0;32m     64\u001b[0m )\n\u001b[1;32m---> 65\u001b[0m \u001b[39mreturn\u001b[39;00m \u001b[39msuper\u001b[39;49m()\u001b[39m.\u001b[39;49m\u001b[39m__call__\u001b[39;49m(iterable_with_config)\n",
      "File \u001b[1;32mc:\\Users\\adamm\\AppData\\Local\\Programs\\Python\\Python310\\lib\\site-packages\\joblib\\parallel.py:1863\u001b[0m, in \u001b[0;36mParallel.__call__\u001b[1;34m(self, iterable)\u001b[0m\n\u001b[0;32m   1861\u001b[0m     output \u001b[39m=\u001b[39m \u001b[39mself\u001b[39m\u001b[39m.\u001b[39m_get_sequential_output(iterable)\n\u001b[0;32m   1862\u001b[0m     \u001b[39mnext\u001b[39m(output)\n\u001b[1;32m-> 1863\u001b[0m     \u001b[39mreturn\u001b[39;00m output \u001b[39mif\u001b[39;00m \u001b[39mself\u001b[39m\u001b[39m.\u001b[39mreturn_generator \u001b[39melse\u001b[39;00m \u001b[39mlist\u001b[39;49m(output)\n\u001b[0;32m   1865\u001b[0m \u001b[39m# Let's create an ID that uniquely identifies the current call. If the\u001b[39;00m\n\u001b[0;32m   1866\u001b[0m \u001b[39m# call is interrupted early and that the same instance is immediately\u001b[39;00m\n\u001b[0;32m   1867\u001b[0m \u001b[39m# re-used, this id will be used to prevent workers that were\u001b[39;00m\n\u001b[0;32m   1868\u001b[0m \u001b[39m# concurrently finalizing a task from the previous call to run the\u001b[39;00m\n\u001b[0;32m   1869\u001b[0m \u001b[39m# callback.\u001b[39;00m\n\u001b[0;32m   1870\u001b[0m \u001b[39mwith\u001b[39;00m \u001b[39mself\u001b[39m\u001b[39m.\u001b[39m_lock:\n",
      "File \u001b[1;32mc:\\Users\\adamm\\AppData\\Local\\Programs\\Python\\Python310\\lib\\site-packages\\joblib\\parallel.py:1792\u001b[0m, in \u001b[0;36mParallel._get_sequential_output\u001b[1;34m(self, iterable)\u001b[0m\n\u001b[0;32m   1790\u001b[0m \u001b[39mself\u001b[39m\u001b[39m.\u001b[39mn_dispatched_batches \u001b[39m+\u001b[39m\u001b[39m=\u001b[39m \u001b[39m1\u001b[39m\n\u001b[0;32m   1791\u001b[0m \u001b[39mself\u001b[39m\u001b[39m.\u001b[39mn_dispatched_tasks \u001b[39m+\u001b[39m\u001b[39m=\u001b[39m \u001b[39m1\u001b[39m\n\u001b[1;32m-> 1792\u001b[0m res \u001b[39m=\u001b[39m func(\u001b[39m*\u001b[39margs, \u001b[39m*\u001b[39m\u001b[39m*\u001b[39mkwargs)\n\u001b[0;32m   1793\u001b[0m \u001b[39mself\u001b[39m\u001b[39m.\u001b[39mn_completed_tasks \u001b[39m+\u001b[39m\u001b[39m=\u001b[39m \u001b[39m1\u001b[39m\n\u001b[0;32m   1794\u001b[0m \u001b[39mself\u001b[39m\u001b[39m.\u001b[39mprint_progress()\n",
      "File \u001b[1;32mc:\\Users\\adamm\\AppData\\Local\\Programs\\Python\\Python310\\lib\\site-packages\\sklearn\\utils\\parallel.py:127\u001b[0m, in \u001b[0;36m_FuncWrapper.__call__\u001b[1;34m(self, *args, **kwargs)\u001b[0m\n\u001b[0;32m    125\u001b[0m     config \u001b[39m=\u001b[39m {}\n\u001b[0;32m    126\u001b[0m \u001b[39mwith\u001b[39;00m config_context(\u001b[39m*\u001b[39m\u001b[39m*\u001b[39mconfig):\n\u001b[1;32m--> 127\u001b[0m     \u001b[39mreturn\u001b[39;00m \u001b[39mself\u001b[39m\u001b[39m.\u001b[39mfunction(\u001b[39m*\u001b[39margs, \u001b[39m*\u001b[39m\u001b[39m*\u001b[39mkwargs)\n",
      "File \u001b[1;32mc:\\Users\\adamm\\AppData\\Local\\Programs\\Python\\Python310\\lib\\site-packages\\sklearn\\ensemble\\_forest.py:188\u001b[0m, in \u001b[0;36m_parallel_build_trees\u001b[1;34m(tree, bootstrap, X, y, sample_weight, tree_idx, n_trees, verbose, class_weight, n_samples_bootstrap)\u001b[0m\n\u001b[0;32m    185\u001b[0m     \u001b[39melif\u001b[39;00m class_weight \u001b[39m==\u001b[39m \u001b[39m\"\u001b[39m\u001b[39mbalanced_subsample\u001b[39m\u001b[39m\"\u001b[39m:\n\u001b[0;32m    186\u001b[0m         curr_sample_weight \u001b[39m*\u001b[39m\u001b[39m=\u001b[39m compute_sample_weight(\u001b[39m\"\u001b[39m\u001b[39mbalanced\u001b[39m\u001b[39m\"\u001b[39m, y, indices\u001b[39m=\u001b[39mindices)\n\u001b[1;32m--> 188\u001b[0m     tree\u001b[39m.\u001b[39;49mfit(X, y, sample_weight\u001b[39m=\u001b[39;49mcurr_sample_weight, check_input\u001b[39m=\u001b[39;49m\u001b[39mFalse\u001b[39;49;00m)\n\u001b[0;32m    189\u001b[0m \u001b[39melse\u001b[39;00m:\n\u001b[0;32m    190\u001b[0m     tree\u001b[39m.\u001b[39mfit(X, y, sample_weight\u001b[39m=\u001b[39msample_weight, check_input\u001b[39m=\u001b[39m\u001b[39mFalse\u001b[39;00m)\n",
      "File \u001b[1;32mc:\\Users\\adamm\\AppData\\Local\\Programs\\Python\\Python310\\lib\\site-packages\\sklearn\\base.py:1152\u001b[0m, in \u001b[0;36m_fit_context.<locals>.decorator.<locals>.wrapper\u001b[1;34m(estimator, *args, **kwargs)\u001b[0m\n\u001b[0;32m   1145\u001b[0m     estimator\u001b[39m.\u001b[39m_validate_params()\n\u001b[0;32m   1147\u001b[0m \u001b[39mwith\u001b[39;00m config_context(\n\u001b[0;32m   1148\u001b[0m     skip_parameter_validation\u001b[39m=\u001b[39m(\n\u001b[0;32m   1149\u001b[0m         prefer_skip_nested_validation \u001b[39mor\u001b[39;00m global_skip_validation\n\u001b[0;32m   1150\u001b[0m     )\n\u001b[0;32m   1151\u001b[0m ):\n\u001b[1;32m-> 1152\u001b[0m     \u001b[39mreturn\u001b[39;00m fit_method(estimator, \u001b[39m*\u001b[39margs, \u001b[39m*\u001b[39m\u001b[39m*\u001b[39mkwargs)\n",
      "File \u001b[1;32mc:\\Users\\adamm\\AppData\\Local\\Programs\\Python\\Python310\\lib\\site-packages\\sklearn\\tree\\_classes.py:959\u001b[0m, in \u001b[0;36mDecisionTreeClassifier.fit\u001b[1;34m(self, X, y, sample_weight, check_input)\u001b[0m\n\u001b[0;32m    928\u001b[0m \u001b[39m@_fit_context\u001b[39m(prefer_skip_nested_validation\u001b[39m=\u001b[39m\u001b[39mTrue\u001b[39;00m)\n\u001b[0;32m    929\u001b[0m \u001b[39mdef\u001b[39;00m \u001b[39mfit\u001b[39m(\u001b[39mself\u001b[39m, X, y, sample_weight\u001b[39m=\u001b[39m\u001b[39mNone\u001b[39;00m, check_input\u001b[39m=\u001b[39m\u001b[39mTrue\u001b[39;00m):\n\u001b[0;32m    930\u001b[0m \u001b[39m    \u001b[39m\u001b[39m\"\"\"Build a decision tree classifier from the training set (X, y).\u001b[39;00m\n\u001b[0;32m    931\u001b[0m \n\u001b[0;32m    932\u001b[0m \u001b[39m    Parameters\u001b[39;00m\n\u001b[1;32m   (...)\u001b[0m\n\u001b[0;32m    956\u001b[0m \u001b[39m        Fitted estimator.\u001b[39;00m\n\u001b[0;32m    957\u001b[0m \u001b[39m    \"\"\"\u001b[39;00m\n\u001b[1;32m--> 959\u001b[0m     \u001b[39msuper\u001b[39;49m()\u001b[39m.\u001b[39;49m_fit(\n\u001b[0;32m    960\u001b[0m         X,\n\u001b[0;32m    961\u001b[0m         y,\n\u001b[0;32m    962\u001b[0m         sample_weight\u001b[39m=\u001b[39;49msample_weight,\n\u001b[0;32m    963\u001b[0m         check_input\u001b[39m=\u001b[39;49mcheck_input,\n\u001b[0;32m    964\u001b[0m     )\n\u001b[0;32m    965\u001b[0m     \u001b[39mreturn\u001b[39;00m \u001b[39mself\u001b[39m\n",
      "File \u001b[1;32mc:\\Users\\adamm\\AppData\\Local\\Programs\\Python\\Python310\\lib\\site-packages\\sklearn\\tree\\_classes.py:443\u001b[0m, in \u001b[0;36mBaseDecisionTree._fit\u001b[1;34m(self, X, y, sample_weight, check_input, missing_values_in_feature_mask)\u001b[0m\n\u001b[0;32m    432\u001b[0m \u001b[39melse\u001b[39;00m:\n\u001b[0;32m    433\u001b[0m     builder \u001b[39m=\u001b[39m BestFirstTreeBuilder(\n\u001b[0;32m    434\u001b[0m         splitter,\n\u001b[0;32m    435\u001b[0m         min_samples_split,\n\u001b[1;32m   (...)\u001b[0m\n\u001b[0;32m    440\u001b[0m         \u001b[39mself\u001b[39m\u001b[39m.\u001b[39mmin_impurity_decrease,\n\u001b[0;32m    441\u001b[0m     )\n\u001b[1;32m--> 443\u001b[0m builder\u001b[39m.\u001b[39;49mbuild(\u001b[39mself\u001b[39;49m\u001b[39m.\u001b[39;49mtree_, X, y, sample_weight, missing_values_in_feature_mask)\n\u001b[0;32m    445\u001b[0m \u001b[39mif\u001b[39;00m \u001b[39mself\u001b[39m\u001b[39m.\u001b[39mn_outputs_ \u001b[39m==\u001b[39m \u001b[39m1\u001b[39m \u001b[39mand\u001b[39;00m is_classifier(\u001b[39mself\u001b[39m):\n\u001b[0;32m    446\u001b[0m     \u001b[39mself\u001b[39m\u001b[39m.\u001b[39mn_classes_ \u001b[39m=\u001b[39m \u001b[39mself\u001b[39m\u001b[39m.\u001b[39mn_classes_[\u001b[39m0\u001b[39m]\n",
      "\u001b[1;31mKeyboardInterrupt\u001b[0m: "
     ]
    }
   ],
   "source": [
    "# iterate over files in word2vec_models folder\n",
    "for file in tqdm(files):\n",
    "    # check if file is a .model file\n",
    "    if file.endswith('.model'):\n",
    "\n",
    "        # load model\n",
    "        # path to model\n",
    "        model_path = os.path.join('word2vec_models', file)\n",
    "\n",
    "        properties = file.split('_')\n",
    "        # print(properties)\n",
    "\n",
    "        vector_size = int(properties[1][2:])\n",
    "        window_size = int(properties[2][3:])\n",
    "        is_skipgram = bool(int(properties[3][2:-6]))\n",
    "\n",
    "        settings = {\n",
    "            'model_path': model_path,\n",
    "            'is_skipgram' : is_skipgram,\n",
    "            'window_size' : window_size,\n",
    "            'vector_size' : vector_size, \n",
    "\n",
    "        }\n",
    "        # print(settings)\n",
    "\n",
    "        model_w2v = Word2VecModel(settings)\n",
    "        # get model name\n",
    "        model_name = file.split('.')[0]\n",
    "\n",
    "        title_vectors = [get_word_vectors(model_w2v, title, aggregation='mean') for title in df['title']]\n",
    "\n",
    "        X = np.vstack(title_vectors)\n",
    "        y = df['is_clickbait'].values\n",
    "   \n",
    "\n",
    "        X_train, X_test, y_train, y_test = train_test_split(X, y, test_size=0.2, stratify=y, random_state=42, shuffle=True)\n",
    "\n",
    "        # scale data\n",
    "        scaler = StandardScaler()\n",
    "        X_train_scaled = scaler.fit_transform(X_train)\n",
    "        X_test_scaled = scaler.transform(X_test)\n",
    "\n",
    "        # train models\n",
    "        models = {\n",
    "            'catboost': [\n",
    "                CatBoostClassifier(verbose=False, random_state=1, ),\n",
    "                CatBoostClassifier(verbose=False, random_state=2, ),\n",
    "                CatBoostClassifier(verbose=False, random_state=3, ),\n",
    "             \n",
    "            ],\n",
    "\n",
    "            'lightgbm': [\n",
    "                LGBMClassifier(random_state=1, verbose=-1),\n",
    "                LGBMClassifier(random_state=2, verbose=-1),\n",
    "                LGBMClassifier(random_state=3 ,verbose=-1),\n",
    "            \n",
    "            ],\n",
    "            \n",
    "            'knn' : [\n",
    "                KNeighborsClassifier(n_neighbors=3),\n",
    "                KNeighborsClassifier(n_neighbors=4),\n",
    "                KNeighborsClassifier(n_neighbors=5),\n",
    "               \n",
    "            ],\n",
    "\n",
    "            'randomforest': [\n",
    "                RandomForestClassifier(random_state=1,),\n",
    "                RandomForestClassifier(random_state=2, ),\n",
    "                RandomForestClassifier(random_state=3, ),\n",
    "        \n",
    "\n",
    "            ],\n",
    "\n",
    "            'decisiontree': [\n",
    "                DecisionTreeClassifier(random_state=1, ),\n",
    "                DecisionTreeClassifier(random_state=2, ),\n",
    "                DecisionTreeClassifier(random_state=3, ),\n",
    "               \n",
    "            ],\n",
    "        }\n",
    "\n",
    "\n",
    "        results = {}\n",
    "\n",
    "        for model_type in tqdm(models, desc=f'Predictive Models for {model_name}'):\n",
    "            f1_temp = list()\n",
    "            auc_temp = list()\n",
    "            # print(model_type)\n",
    "            for submodel in tqdm(models[model_type], desc=f'{model_type} submodels'):\n",
    "                submodel.fit(X_train_scaled, y_train)\n",
    "                y_pred = submodel.predict(X_test_scaled)\n",
    "                f1 = f1_score(y_test, y_pred)\n",
    "                auc = roc_auc_score(y_test, y_pred)\n",
    "                f1_temp.append(f1)\n",
    "                auc_temp.append(auc)\n",
    "                \n",
    "            results[model_type] = {\n",
    "                'f1': np.mean(f1_temp),\n",
    "                'auc': np.mean(auc_temp),\n",
    "                'f1_list': cp.deepcopy(f1_temp),\n",
    "                'auc_list': cp.deepcopy(auc_temp),\n",
    "            }\n",
    "            \n",
    "            \n",
    "        word2vec_results[model_name] = results\n",
    "        # save results to json\n",
    "        with open(result_path, 'w') as f:\n",
    "            json.dump(word2vec_results, f, indent=4)\n",
    "        print(f'{model_name} done and updated json')\n",
    "\n",
    "\n",
    "\n"
   ]
  },
  {
   "cell_type": "code",
   "execution_count": null,
   "metadata": {},
   "outputs": [],
   "source": []
  },
  {
   "cell_type": "code",
   "execution_count": null,
   "metadata": {},
   "outputs": [
    {
     "data": {
      "text/plain": [
       "{'word2vec_vs3000_win8_sg0': {'catboost': {'f1': 0.7943770191216275,\n",
       "   'auc': 0.8285133923270581},\n",
       "  'lightgbm': {'f1': 0.7816820783795684, 'auc': 0.8185836516262391},\n",
       "  'knn': {'f1': 0.7273664318845559, 'auc': 0.7743116626186062},\n",
       "  'randomforest': {'f1': 0.7565971581472596, 'auc': 0.8005246138556864},\n",
       "  'decisiontree': {'f1': 0.648312463720043, 'auc': 0.7060215550558557}},\n",
       " 'word2vec_vs2500_win4_sg0': {'catboost': {'f1': 0.7899571341090019,\n",
       "   'auc': 0.8250251638898527},\n",
       "  'lightgbm': {'f1': 0.779816513761468, 'auc': 0.8171465770595326},\n",
       "  'knn': {'f1': 0.7328190743338009, 'auc': 0.7798611631524697},\n",
       "  'randomforest': {'f1': 0.7563710499490317, 'auc': 0.8005087850690096},\n",
       "  'decisiontree': {'f1': 0.6427280197206244, 'auc': 0.7001149966434287}},\n",
       " 'word2vec_vs2500_win8_sg1': {'catboost': {'f1': 0.7920983318700614,\n",
       "   'auc': 0.826754715255097},\n",
       "  'lightgbm': {'f1': 0.7722719141323792, 'auc': 0.8115571765251608},\n",
       "  'knn': {'f1': 0.7197853044604849, 'auc': 0.773053712996284},\n",
       "  'randomforest': {'f1': 0.7381949733434882, 'auc': 0.7882145119388139},\n",
       "  'decisiontree': {'f1': 0.6148392415498762, 'auc': 0.677110419416645}},\n",
       " 'word2vec_vs3000_win4_sg1': {'catboost': {'f1': 0.7930275552425389,\n",
       "   'auc': 0.8275112351582024},\n",
       "  'lightgbm': {'f1': 0.7730957683741647, 'auc': 0.8121003543227235},\n",
       "  'knn': {'f1': 0.7214476964269227, 'auc': 0.7741565257245504},\n",
       "  'randomforest': {'f1': 0.7434485377895937, 'auc': 0.7919230497350086},\n",
       "  'decisiontree': {'f1': 0.6235573381353852, 'auc': 0.6833550467078572}},\n",
       " 'word2vec_vs100_win6_sg1': {'catboost': {'f1': 0.7863924050632912,\n",
       "   'auc': 0.8222662331692087},\n",
       "  'lightgbm': {'f1': 0.7707481784254486, 'auc': 0.8102074698382146},\n",
       "  'knn': {'f1': 0.7738823326729262, 'auc': 0.811919944964242},\n",
       "  'randomforest': {'f1': 0.749906191369606, 'auc': 0.7961608400622617},\n",
       "  'decisiontree': {'f1': 0.6310169213077049, 'auc': 0.6901871594627822}},\n",
       " 'word2vec_vs1000_win5_sg1': {'catboost': {'f1': 0.7831749384019712,\n",
       "   'auc': 0.8197459724608681},\n",
       "  'lightgbm': {'f1': 0.7634091923248549, 'auc': 0.8046187068906968},\n",
       "  'knn': {'f1': 0.7227310574521233, 'auc': 0.7752435096661401},\n",
       "  'randomforest': {'f1': 0.7352042764413899, 'auc': 0.7861696877349079},\n",
       "  'decisiontree': {'f1': 0.6115378329792449, 'auc': 0.6728960627163695}},\n",
       " 'word2vec_vs1500_win3_sg0': {'catboost': {'f1': 0.7894139226133288,\n",
       "   'auc': 0.8245769495719621},\n",
       "  'lightgbm': {'f1': 0.7745227412685846, 'auc': 0.8129239871724918},\n",
       "  'knn': {'f1': 0.7265851728080205, 'auc': 0.7751289473210033},\n",
       "  'randomforest': {'f1': 0.7535909554258178, 'auc': 0.7984291430786482},\n",
       "  'decisiontree': {'f1': 0.6402359108781127, 'auc': 0.6975820766019023}},\n",
       " 'word2vec_vs3000_win5_sg0': {'catboost': {'f1': 0.7906488048332021,\n",
       "   'auc': 0.8255822669539196},\n",
       "  'lightgbm': {'f1': 0.7769556025369979, 'auc': 0.8148687841634513},\n",
       "  'knn': {'f1': 0.7346150469669038, 'auc': 0.781362809558813},\n",
       "  'randomforest': {'f1': 0.7549092256391257, 'auc': 0.7993983767408315},\n",
       "  'decisiontree': {'f1': 0.6470976253298153, 'auc': 0.704257185904156}},\n",
       " 'word2vec_vs2500_win5_sg1': {'catboost': {'f1': 0.7894505494505494,\n",
       "   'auc': 0.8246788710646915},\n",
       "  'lightgbm': {'f1': 0.7733380795586011, 'auc': 0.8122636874419876},\n",
       "  'knn': {'f1': 0.722006292800296, 'auc': 0.7747174265885729},\n",
       "  'randomforest': {'f1': 0.7393778452200304, 'auc': 0.7888975984690524},\n",
       "  'decisiontree': {'f1': 0.6208836670527883, 'auc': 0.6827504572837599}},\n",
       " 'word2vec_vs1000_win4_sg0': {'catboost': {'f1': 0.7862455157931577,\n",
       "   'auc': 0.8220864429168029},\n",
       "  'lightgbm': {'f1': 0.7728316551845964, 'auc': 0.8116875953781422},\n",
       "  'knn': {'f1': 0.7233263598326359, 'auc': 0.7719977767623616},\n",
       "  'randomforest': {'f1': 0.7521573721814976, 'auc': 0.7974067309766953},\n",
       "  'decisiontree': {'f1': 0.650740407428618, 'auc': 0.7063127751614643}},\n",
       " 'word2vec_vs100_win7_sg0': {'catboost': {'f1': 0.7893488004218295,\n",
       "   'auc': 0.8245946726384222},\n",
       "  'lightgbm': {'f1': 0.7716842385044742, 'auc': 0.8108646001152277},\n",
       "  'knn': {'f1': 0.7504567044208987, 'auc': 0.7955056225458104},\n",
       "  'randomforest': {'f1': 0.7611543747136967, 'auc': 0.8037216314276724},\n",
       "  'decisiontree': {'f1': 0.6679257677779603, 'auc': 0.7212975908919331}},\n",
       " 'word2vec_vs1000_win8_sg1': {'catboost': {'f1': 0.7881512827294366,\n",
       "   'auc': 0.823688744882557},\n",
       "  'lightgbm': {'f1': 0.7649629827847648, 'auc': 0.8058095158451885},\n",
       "  'knn': {'f1': 0.7272895125553914, 'auc': 0.7785373849975814},\n",
       "  'randomforest': {'f1': 0.7290508149568551, 'auc': 0.7819388646611017},\n",
       "  'decisiontree': {'f1': 0.6101639344262294, 'auc': 0.672240198372675}},\n",
       " 'word2vec_vs2000_win3_sg0': {'catboost': {'f1': 0.7912701876909646,\n",
       "   'auc': 0.8260450441251685},\n",
       "  'lightgbm': {'f1': 0.7714486638537271, 'auc': 0.8104815952238276},\n",
       "  'knn': {'f1': 0.726951294970388, 'auc': 0.7757259319048},\n",
       "  'randomforest': {'f1': 0.7542646380820653, 'auc': 0.7987482137172653},\n",
       "  'decisiontree': {'f1': 0.6465112447483318, 'auc': 0.7036443725336824}},\n",
       " 'word2vec_vs250_win6_sg1': {'catboost': {'f1': 0.7780610002636899,\n",
       "   'auc': 0.8156943112930031},\n",
       "  'lightgbm': {'f1': 0.7558913473646339, 'auc': 0.7990672935962716},\n",
       "  'knn': {'f1': 0.7514798127043024, 'auc': 0.7949403047757566},\n",
       "  'randomforest': {'f1': 0.7274468492625934, 'auc': 0.7807157697867919},\n",
       "  'decisiontree': {'f1': 0.6072221765238134, 'auc': 0.6703378147680824}},\n",
       " 'word2vec_vs2000_win8_sg0': {'catboost': {'f1': 0.7945229526902483,\n",
       "   'auc': 0.8286672263262385},\n",
       "  'lightgbm': {'f1': 0.782716049382716, 'auc': 0.8194193062223395},\n",
       "  'knn': {'f1': 0.7248263888888888, 'auc': 0.7729283948381338},\n",
       "  'randomforest': {'f1': 0.7570015713097328, 'auc': 0.8008898956806262},\n",
       "  'decisiontree': {'f1': 0.6447563996696944, 'auc': 0.7024871154323278}},\n",
       " 'word2vec_vs2000_win4_sg1': {'catboost': {'f1': 0.7934725390419373,\n",
       "   'auc': 0.8278341035967752},\n",
       "  'lightgbm': {'f1': 0.7705064194008558, 'auc': 0.8101061766919498},\n",
       "  'knn': {'f1': 0.7206605436496892, 'auc': 0.7738646772724773},\n",
       "  'randomforest': {'f1': 0.7395118230358505, 'auc': 0.7892445196406782},\n",
       "  'decisiontree': {'f1': 0.6266601082144614, 'auc': 0.6862158989212307}},\n",
       " 'word2vec_vs1500_win5_sg0': {'catboost': {'f1': 0.7934868248271033,\n",
       "   'auc': 0.8278277739301825},\n",
       "  'lightgbm': {'f1': 0.7774936061381076, 'auc': 0.8153157325480235},\n",
       "  'knn': {'f1': 0.7287627775819527, 'auc': 0.7769648555657866},\n",
       "  'randomforest': {'f1': 0.7495120364346128, 'auc': 0.7954980177055098},\n",
       "  'decisiontree': {'f1': 0.6420159762826319, 'auc': 0.6998168185247626}},\n",
       " 'word2vec_vs500_win7_sg0': {'catboost': {'f1': 0.7899599093602928,\n",
       "   'auc': 0.8249865483034414},\n",
       "  'lightgbm': {'f1': 0.7723297111052214, 'auc': 0.8113001550999324},\n",
       "  'knn': {'f1': 0.72979174020473, 'auc': 0.7778562204682937},\n",
       "  'randomforest': {'f1': 0.754055807916937, 'auc': 0.7987906271036324},\n",
       "  'decisiontree': {'f1': 0.6417322834645669, 'auc': 0.699028012701839}},\n",
       " 'word2vec_vs1000_win3_sg1': {'catboost': {'f1': 0.7846721743715943,\n",
       "   'auc': 0.8209070273621785},\n",
       "  'lightgbm': {'f1': 0.7659272404614019, 'auc': 0.8064046061492017},\n",
       "  'knn': {'f1': 0.7188923301147749, 'auc': 0.7713741798577073},\n",
       "  'randomforest': {'f1': 0.7375415282392026, 'auc': 0.787596634835066},\n",
       "  'decisiontree': {'f1': 0.6118631553039626, 'auc': 0.6738235113386505}},\n",
       " 'word2vec_vs2000_win5_sg0': {'catboost': {'f1': 0.7915275092283353,\n",
       "   'auc': 0.826314096537118},\n",
       "  'lightgbm': {'f1': 0.777582262889319, 'auc': 0.8153366250679747},\n",
       "  'knn': {'f1': 0.7264456303035605, 'auc': 0.774697827723108},\n",
       "  'randomforest': {'f1': 0.7523985239852399, 'auc': 0.7973630516570097},\n",
       "  'decisiontree': {'f1': 0.6448905710054303, 'auc': 0.702115503940795}},\n",
       " 'word2vec_vs250_win7_sg0': {'catboost': {'f1': 0.7847363307128346,\n",
       "   'auc': 0.8210323732414962},\n",
       "  'lightgbm': {'f1': 0.7695868945868946, 'auc': 0.8093534545888003},\n",
       "  'knn': {'f1': 0.7379811956714564, 'auc': 0.784553488223817},\n",
       "  'randomforest': {'f1': 0.754323972475358, 'auc': 0.7991039964221213},\n",
       "  'decisiontree': {'f1': 0.649449548878404, 'auc': 0.7067369275059127}},\n",
       " 'word2vec_vs1500_win8_sg0': {'catboost': {'f1': 0.7910186964878559,\n",
       "   'auc': 0.8258532228860416},\n",
       "  'lightgbm': {'f1': 0.7788123682361209, 'auc': 0.8162748387436582},\n",
       "  'knn': {'f1': 0.7287824490866183, 'auc': 0.7764976522481174},\n",
       "  'randomforest': {'f1': 0.753285211919304, 'auc': 0.7981480596799776},\n",
       "  'decisiontree': {'f1': 0.6476798428676652, 'auc': 0.7037627603999425}},\n",
       " 'word2vec_vs1500_win4_sg1': {'catboost': {'f1': 0.7937456078706956,\n",
       "   'auc': 0.8280594766890391},\n",
       "  'lightgbm': {'f1': 0.7717139290172997, 'auc': 0.8110494541009079},\n",
       "  'knn': {'f1': 0.7207173892946288, 'auc': 0.7736886848200273},\n",
       "  'randomforest': {'f1': 0.738013698630137, 'auc': 0.7880461150862753},\n",
       "  'decisiontree': {'f1': 0.6191848497324002, 'auc': 0.6805726916006248}},\n",
       " 'word2vec_vs2500_win3_sg1': {'catboost': {'f1': 0.7904360056258789,\n",
       "   'auc': 0.8254550175544293},\n",
       "  'lightgbm': {'f1': 0.7731600961110617, 'auc': 0.8121250446426302},\n",
       "  'knn': {'f1': 0.7186091435930457, 'auc': 0.7717894706689256},\n",
       "  'randomforest': {'f1': 0.7422369042000945, 'auc': 0.7907702280204638},\n",
       "  'decisiontree': {'f1': 0.6227781435154707, 'auc': 0.6835101466403563}},\n",
       " 'word2vec_vs3000_win3_sg0': {'catboost': {'f1': 0.7913317022020273,\n",
       "   'auc': 0.8261032862982123},\n",
       "  'lightgbm': {'f1': 0.7751432349052446, 'auc': 0.8134563999166516},\n",
       "  'knn': {'f1': 0.7275280898876404, 'auc': 0.7757613872781095},\n",
       "  'randomforest': {'f1': 0.749884505220364, 'auc': 0.7955372708787749},\n",
       "  'decisiontree': {'f1': 0.6512009181080417, 'auc': 0.7069566085184377}},\n",
       " 'word2vec_vs500_win6_sg1': {'catboost': {'f1': 0.7838052394813443,\n",
       "   'auc': 0.8202796511383466},\n",
       "  'lightgbm': {'f1': 0.7627466738101616, 'auc': 0.8041211119329924},\n",
       "  'knn': {'f1': 0.7347087158047804, 'auc': 0.7832911309358527},\n",
       "  'randomforest': {'f1': 0.736539566966852, 'auc': 0.7873161797828602},\n",
       "  'decisiontree': {'f1': 0.6115675320407493, 'auc': 0.6738000869520622}},\n",
       " 'word2vec_vs100_win7_sg1': {'catboost': {'f1': 0.7820276092499779,\n",
       "   'auc': 0.8188286513051357},\n",
       "  'lightgbm': {'f1': 0.762910381543922, 'auc': 0.8040476785601256},\n",
       "  'knn': {'f1': 0.77306432143473, 'auc': 0.8112849731404987},\n",
       "  'randomforest': {'f1': 0.7389618984589201, 'auc': 0.7884455863512059},\n",
       "  'decisiontree': {'f1': 0.6215815485996705, 'auc': 0.6826535995243048}},\n",
       " 'word2vec_vs1000_win8_sg0': {'catboost': {'f1': 0.7916484668472089,\n",
       "   'auc': 0.8263520837770645},\n",
       "  'lightgbm': {'f1': 0.7769834966022415, 'auc': 0.8149295582031324},\n",
       "  'knn': {'f1': 0.7209663503019845, 'auc': 0.7694446017877381},\n",
       "  'randomforest': {'f1': 0.7543502406516105, 'auc': 0.7989526942895779},\n",
       "  'decisiontree': {'f1': 0.6486129458388376, 'auc': 0.7057031220040925}},\n",
       " 'word2vec_vs1000_win4_sg1': {'catboost': {'f1': 0.7881990312637605,\n",
       "   'auc': 0.8237134352024639},\n",
       "  'lightgbm': {'f1': 0.7642189586114819, 'auc': 0.8051656824882151},\n",
       "  'knn': {'f1': 0.7245039224734656, 'auc': 0.7764292548873574},\n",
       "  'randomforest': {'f1': 0.7338924895158215, 'auc': 0.7851396800330437},\n",
       "  'decisiontree': {'f1': 0.6198455725316248, 'auc': 0.6807594491064775}},\n",
       " 'word2vec_vs2500_win5_sg0': {'catboost': {'f1': 0.7896769662921348,\n",
       "   'auc': 0.8248409382506371},\n",
       "  'lightgbm': {'f1': 0.7799806150321614, 'auc': 0.8172541998723903},\n",
       "  'knn': {'f1': 0.7326471364476115, 'auc': 0.779927000925425},\n",
       "  'randomforest': {'f1': 0.7531891292290628, 'auc': 0.798034107200527},\n",
       "  'decisiontree': {'f1': 0.6445105820105819, 'auc': 0.7024352029258768}},\n",
       " 'word2vec_vs3000_win5_sg1': {'catboost': {'f1': 0.7937927406628091,\n",
       "   'auc': 0.828081635142309},\n",
       "  'lightgbm': {'f1': 0.7742393329193648, 'auc': 0.812892329599138},\n",
       "  'knn': {'f1': 0.7222785510185271, 'auc': 0.7746788110021618},\n",
       "  'randomforest': {'f1': 0.7411475099412991, 'auc': 0.7901130977434508},\n",
       "  'decisiontree': {'f1': 0.6149802890932983, 'auc': 0.6766273873122989}},\n",
       " 'word2vec_vs2000_win3_sg1': {'catboost': {'f1': 0.7942466233994036,\n",
       "   'auc': 0.8284431191672931},\n",
       "  'lightgbm': {'f1': 0.7738666666666667, 'auc': 0.8126485958535602},\n",
       "  'knn': {'f1': 0.7197943444730078, 'auc': 0.7725605534253891},\n",
       "  'randomforest': {'f1': 0.744234404536862, 'auc': 0.7922990966133512},\n",
       "  'decisiontree': {'f1': 0.6280367695338148, 'auc': 0.6875504144083541}},\n",
       " 'word2vec_vs1000_win5_sg0': {'catboost': {'f1': 0.7826238965125426,\n",
       "   'auc': 0.8191996344502037},\n",
       "  'lightgbm': {'f1': 0.7684833495274269, 'auc': 0.8082772357006132},\n",
       "  'knn': {'f1': 0.723781388478582, 'auc': 0.7721547802150331},\n",
       "  'randomforest': {'f1': 0.7463324048282265, 'auc': 0.7930828479433897},\n",
       "  'decisiontree': {'f1': 0.6451771653543307, 'auc': 0.7019395114883449}},\n",
       " 'word2vec_vs100_win6_sg0': {'catboost': {'f1': 0.7810077519379844,\n",
       "   'auc': 0.8180575685486722},\n",
       "  'lightgbm': {'f1': 0.7673346338003192, 'auc': 0.80748399449088},\n",
       "  'knn': {'f1': 0.7542961608775138, 'auc': 0.7984468753854975},\n",
       "  'randomforest': {'f1': 0.759307040176926, 'auc': 0.8025175255531412},\n",
       "  'decisiontree': {'f1': 0.656689267405325, 'auc': 0.7126675478917821}},\n",
       " 'word2vec_vs2500_win8_sg0': {'catboost': {'f1': 0.7963366768425644,\n",
       "   'auc': 0.8300631534398966},\n",
       "  'lightgbm': {'f1': 0.7827840112201965, 'auc': 0.8193743609693352},\n",
       "  'knn': {'f1': 0.7276063969238836, 'auc': 0.7755543748391595},\n",
       "  'randomforest': {'f1': 0.7586016050179873, 'auc': 0.8020211965287554},\n",
       "  'decisiontree': {'f1': 0.6467727310197016, 'auc': 0.7039514121855786}},\n",
       " 'word2vec_vs3000_win4_sg0': {'catboost': {'f1': 0.7887422428109431,\n",
       "   'auc': 0.8240521324277136},\n",
       "  'lightgbm': {'f1': 0.7738410012339151, 'auc': 0.8124301900147429},\n",
       "  'knn': {'f1': 0.728945754096924, 'auc': 0.7767825334467438},\n",
       "  'randomforest': {'f1': 0.7532443455691509, 'auc': 0.798180345599796},\n",
       "  'decisiontree': {'f1': 0.6457634056487925, 'auc': 0.7021832452339228}},\n",
       " 'word2vec_vs3000_win8_sg1': {'catboost': {'f1': 0.7953525217850541,\n",
       "   'auc': 0.829340813736393},\n",
       "  'lightgbm': {'f1': 0.7773416592328279, 'auc': 0.8154315793072573},\n",
       "  'knn': {'f1': 0.7190410327339788, 'auc': 0.7722674390399976},\n",
       "  'randomforest': {'f1': 0.7376331811263318, 'auc': 0.7877688294875604},\n",
       "  'decisiontree': {'f1': 0.6211384792816541, 'auc': 0.6822933814326392}},\n",
       " 'word2vec_vs2500_win4_sg1': {'catboost': {'f1': 0.7892290149986844,\n",
       "   'auc': 0.8244781882923347},\n",
       "  'lightgbm': {'f1': 0.7658811934414478, 'auc': 0.8066540319745187},\n",
       "  'knn': {'f1': 0.7185906351414001, 'auc': 0.7722826302398204},\n",
       "  'randomforest': {'f1': 0.7308609018972256, 'auc': 0.7829498833631875},\n",
       "  'decisiontree': {'f1': 0.6144548389767365, 'auc': 0.6774560746549524}},\n",
       " 'word2vec_vs1500_win3_sg1': {'catboost': {'f1': 0.7884328030236443,\n",
       "   'auc': 0.8238742364550911},\n",
       "  'lightgbm': {'f1': 0.770459790520149, 'auc': 0.8099548745594067},\n",
       "  'knn': {'f1': 0.717447436370343, 'auc': 0.7710753641521874},\n",
       "  'randomforest': {'f1': 0.7378066240335974, 'auc': 0.7880549766195053},\n",
       "  'decisiontree': {'f1': 0.615944426066821, 'auc': 0.678534197063312}},\n",
       " 'word2vec_vs1500_win4_sg0': {'catboost': {'f1': 0.7917801001141651,\n",
       "   'auc': 0.8265059177762448},\n",
       "  'lightgbm': {'f1': 0.7745193585540888, 'auc': 0.8130828849049464},\n",
       "  'knn': {'f1': 0.7248523318346116, 'auc': 0.773915979913242},\n",
       "  'randomforest': {'f1': 0.752670195969165, 'auc': 0.7978251912414048},\n",
       "  'decisiontree': {'f1': 0.6413025691376206, 'auc': 0.6983272031051404}},\n",
       " 'word2vec_vs1500_win8_sg1': {'catboost': {'f1': 0.7933069132540731,\n",
       "   'auc': 0.8277340763838292},\n",
       "  'lightgbm': {'f1': 0.774118903524386, 'auc': 0.812873968945824},\n",
       "  'knn': {'f1': 0.7237109591572722, 'auc': 0.7759057036764274},\n",
       "  'randomforest': {'f1': 0.7326070336391438, 'auc': 0.7843426410233546},\n",
       "  'decisiontree': {'f1': 0.6254934210526316, 'auc': 0.6856986773768936}},\n",
       " 'word2vec_vs250_win7_sg1': {'catboost': {'f1': 0.7841961372255049,\n",
       "   'auc': 0.8205841589236056},\n",
       "  'lightgbm': {'f1': 0.7607052896725441, 'auc': 0.8027834269923781},\n",
       "  'knn': {'f1': 0.7517051997519709, 'auc': 0.7952251859743829},\n",
       "  'randomforest': {'f1': 0.7287808641975309, 'auc': 0.7820654764737381},\n",
       "  'decisiontree': {'f1': 0.612046204620462, 'auc': 0.6748946664935633}},\n",
       " 'word2vec_vs2000_win5_sg1': {'catboost': {'f1': 0.7927975406236276,\n",
       "   'auc': 0.8273105523858454},\n",
       "  'lightgbm': {'f1': 0.770439128882542, 'auc': 0.810081486372043},\n",
       "  'knn': {'f1': 0.7202292899408285, 'auc': 0.7733284667283615},\n",
       "  'randomforest': {'f1': 0.7319027181688126, 'auc': 0.7837272957862439},\n",
       "  'decisiontree': {'f1': 0.6208601087493821, 'auc': 0.682071806140331}},\n",
       " 'word2vec_vs500_win6_sg0': {'catboost': {'f1': 0.7867040870022802,\n",
       "   'auc': 0.822481478794924},\n",
       "  'lightgbm': {'f1': 0.7726869117385899, 'auc': 0.8117027865779651},\n",
       "  'knn': {'f1': 0.7299116901285303, 'auc': 0.7774137074705313},\n",
       "  'randomforest': {'f1': 0.7529980477828391, 'auc': 0.7981050087067567},\n",
       "  'decisiontree': {'f1': 0.6405839895013123, 'auc': 0.698057513106337}},\n",
       " 'word2vec_vs3000_win3_sg1': {'catboost': {'f1': 0.7934725390419373,\n",
       "   'auc': 0.8278341035967752},\n",
       "  'lightgbm': {'f1': 0.7779748182301826, 'auc': 0.8158025624523254},\n",
       "  'knn': {'f1': 0.719963201471941, 'auc': 0.7728156805708343},\n",
       "  'randomforest': {'f1': 0.737720462734686, 'auc': 0.7876770354613796},\n",
       "  'decisiontree': {'f1': 0.6213464696223316, 'auc': 0.681950258060969}},\n",
       " 'word2vec_vs2500_win3_sg0': {'catboost': {'f1': 0.7919100339987796,\n",
       "   'auc': 0.8265401072162356},\n",
       "  'lightgbm': {'f1': 0.7769683138769419, 'auc': 0.8148029463904961},\n",
       "  'knn': {'f1': 0.7281544837315934, 'auc': 0.776522970914489},\n",
       "  'randomforest': {'f1': 0.7519394163280385, 'auc': 0.7970610757383879},\n",
       "  'decisiontree': {'f1': 0.6461060209424083, 'auc': 0.7023750664730497}},\n",
       " 'word2vec_vs1500_win5_sg1': {'catboost': {'f1': 0.791941585290754,\n",
       "   'auc': 0.8266496243088766},\n",
       "  'lightgbm': {'f1': 0.7735899492114409, 'auc': 0.8124890605342515},\n",
       "  'knn': {'f1': 0.7241219534797517, 'auc': 0.7763849379808179},\n",
       "  'randomforest': {'f1': 0.7341045989100297, 'auc': 0.7854530493515326},\n",
       "  'decisiontree': {'f1': 0.6203365032918801, 'auc': 0.6795344599523843}},\n",
       " 'word2vec_vs2000_win4_sg0': {'catboost': {'f1': 0.7913317022020273,\n",
       "   'auc': 0.8261032862982123},\n",
       "  'lightgbm': {'f1': 0.7777387640449439, 'auc': 0.8154132278943325},\n",
       "  'knn': {'f1': 0.7273202614379086, 'auc': 0.7751580730277199},\n",
       "  'randomforest': {'f1': 0.7543405984484668, 'auc': 0.7988634321300344},\n",
       "  'decisiontree': {'f1': 0.6460600065941312, 'auc': 0.7033411306817421}},\n",
       " 'word2vec_vs250_win6_sg0': {'catboost': {'f1': 0.7809003612016563,\n",
       "   'auc': 0.8179746360557214},\n",
       "  'lightgbm': {'f1': 0.7674935538365786, 'auc': 0.8076859431965556},\n",
       "  'knn': {'f1': 0.7389057209053645, 'auc': 0.7855094249659608},\n",
       "  'randomforest': {'f1': 0.7542380731820286, 'auc': 0.7988995158498086},\n",
       "  'decisiontree': {'f1': 0.651733509017541, 'auc': 0.7079967436868506}},\n",
       " 'word2vec_vs2000_win8_sg1': {'catboost': {'f1': 0.7914976186276239,\n",
       "   'auc': 0.8263242240036667},\n",
       "  'lightgbm': {'f1': 0.7696839850026781, 'auc': 0.8094996929880693},\n",
       "  'knn': {'f1': 0.7197853044604849, 'auc': 0.773053712996284},\n",
       "  'randomforest': {'f1': 0.7314372971941211, 'auc': 0.7834240539343037},\n",
       "  'decisiontree': {'f1': 0.6213930348258707, 'auc': 0.6835057112535465}},\n",
       " 'word2vec_vs500_win7_sg1': {'catboost': {'f1': 0.7860277338950326,\n",
       "   'auc': 0.8219566616506753},\n",
       "  'lightgbm': {'f1': 0.7632188000712125, 'auc': 0.8043895359984772},\n",
       "  'knn': {'f1': 0.739170003640335, 'auc': 0.7867609987197441},\n",
       "  'randomforest': {'f1': 0.7290829025464293, 'auc': 0.7818793565547393},\n",
       "  'decisiontree': {'f1': 0.609375, 'auc': 0.6738355330849825}},\n",
       " 'word2vec_vs1000_win3_sg0': {'catboost': {'f1': 0.7852266760021005,\n",
       "   'auc': 0.8212830742405208},\n",
       "  'lightgbm': {'f1': 0.7708204539433012, 'auc': 0.8101068142788038},\n",
       "  'knn': {'f1': 0.7239242075438287, 'auc': 0.7734570005419489},\n",
       "  'randomforest': {'f1': 0.7511571931123865, 'auc': 0.7965685445139578},\n",
       "  'decisiontree': {'f1': 0.6377496942519363, 'auc': 0.6948225175347935}},\n",
       " 'word2vec_vs2500_win6_sg0': {'catboost': {'f1': 0.7908114245785658,\n",
       "   'auc': 0.8256860919668215},\n",
       "  'lightgbm': {'f1': 0.7808497482554545, 'auc': 0.8179822316556329},\n",
       "  'knn': {'f1': 0.7297463354691477, 'auc': 0.7775080333633492},\n",
       "  'randomforest': {'f1': 0.7582133628645258, 'auc': 0.8017451768633591},\n",
       "  'decisiontree': {'f1': 0.6460582270199542, 'auc': 0.7022908680467804}},\n",
       " 'word2vec_vs3000_win6_sg1': {'catboost': {'f1': 0.7909911488914205,\n",
       "   'auc': 0.8258620844192717},\n",
       "  'lightgbm': {'f1': 0.7739518287243533, 'auc': 0.8127973661194662},\n",
       "  'knn': {'f1': 0.7226656766289213, 'auc': 0.7753910139987276},\n",
       "  'randomforest': {'f1': 0.7382588774341351, 'auc': 0.7883879725246268},\n",
       "  'decisiontree': {'f1': 0.61700551485719, 'auc': 0.678686136782709}},\n",
       " 'word2vec_vs100_win4_sg1': {'catboost': {'f1': 0.7835269271383316,\n",
       "   'auc': 0.820023258059583},\n",
       "  'lightgbm': {'f1': 0.761496562193053, 'auc': 0.8031506123374904},\n",
       "  'knn': {'f1': 0.7665720918235749, 'auc': 0.8059804630451426},\n",
       "  'randomforest': {'f1': 0.7436986689323138, 'auc': 0.791852148228779},\n",
       "  'decisiontree': {'f1': 0.6305580669022766, 'auc': 0.6898839176108419}},\n",
       " 'word2vec_vs1000_win7_sg1': {'catboost': {'f1': 0.7905221588415973,\n",
       "   'auc': 0.8255056641275618},\n",
       "  'lightgbm': {'f1': 0.7710326329906125, 'auc': 0.8105854109963403},\n",
       "  'knn': {'f1': 0.7239760699493787, 'auc': 0.7758670880900161},\n",
       "  'randomforest': {'f1': 0.728177641653905, 'auc': 0.7812133647444963},\n",
       "  'decisiontree': {'f1': 0.6141706394870953, 'auc': 0.6760753479815061}},\n",
       " 'word2vec_vs500_win3_sg0': {'catboost': {'f1': 0.784754544656187,\n",
       "   'auc': 0.820960205801948},\n",
       "  'lightgbm': {'f1': 0.7667196047291337, 'auc': 0.8068597877205392},\n",
       "  'knn': {'f1': 0.7243300610241443, 'auc': 0.7737032661541638},\n",
       "  'randomforest': {'f1': 0.7494919637908738, 'auc': 0.7952314971601974},\n",
       "  'decisiontree': {'f1': 0.6416625269084286, 'auc': 0.7002492040559763}},\n",
       " 'word2vec_vs100_win8_sg0': {'catboost': {'f1': 0.7827082232787463,\n",
       "   'auc': 0.8193870203025211},\n",
       "  'lightgbm': {'f1': 0.7696948190205819, 'auc': 0.8093433271222518},\n",
       "  'knn': {'f1': 0.7508250825082509, 'auc': 0.7959316784104312},\n",
       "  'randomforest': {'f1': 0.7611596870685687, 'auc': 0.8038729335602156},\n",
       "  'decisiontree': {'f1': 0.6593279258400927, 'auc': 0.7149997851609515}},\n",
       " 'word2vec_vs250_win3_sg0': {'catboost': {'f1': 0.7809942806863177,\n",
       "   'auc': 0.8180265485621724},\n",
       "  'lightgbm': {'f1': 0.766770324300311, 'auc': 0.8071016179459446},\n",
       "  'knn': {'f1': 0.7347910421442426, 'auc': 0.7817356869836644},\n",
       "  'randomforest': {'f1': 0.7544589224655762, 'auc': 0.7989761186761664},\n",
       "  'decisiontree': {'f1': 0.6471891670086171, 'auc': 0.7037159116267659}},\n",
       " 'word2vec_vs3000_win7_sg0': {'catboost': {'f1': 0.7908154356556663,\n",
       "   'auc': 0.8256848260335029},\n",
       "  'lightgbm': {'f1': 0.7790255548678043, 'auc': 0.8165711133421518},\n",
       "  'knn': {'f1': 0.7310308738880168, 'auc': 0.7781550361738135},\n",
       "  'randomforest': {'f1': 0.7545983917182734, 'auc': 0.7990875392889797},\n",
       "  'decisiontree': {'f1': 0.6443714050944948, 'auc': 0.7015014246370028}},\n",
       " 'word2vec_vs2500_win7_sg1': {'catboost': {'f1': 0.7925092315807983,\n",
       "   'auc': 0.8270915089601745},\n",
       "  'lightgbm': {'f1': 0.7751621213467176, 'auc': 0.8136450517022875},\n",
       "  'knn': {'f1': 0.7186721991701245, 'auc': 0.7719901534412826},\n",
       "  'randomforest': {'f1': 0.7398095238095238, 'auc': 0.7894078527599426},\n",
       "  'decisiontree': {'f1': 0.6129934210526317, 'auc': 0.6751618246257296}},\n",
       " 'word2vec_vs1000_win6_sg0': {'catboost': {'f1': 0.789193899782135,\n",
       "   'auc': 0.8243762667996051},\n",
       "  'lightgbm': {'f1': 0.7763623496107572, 'auc': 0.814492737285109},\n",
       "  'knn': {'f1': 0.7244039878630256, 'auc': 0.7725086686401058},\n",
       "  'randomforest': {'f1': 0.7527201711150376, 'auc': 0.7979119215343112},\n",
       "  'decisiontree': {'f1': 0.6350467676516843, 'auc': 0.6946750039618168}},\n",
       " 'word2vec_vs100_win5_sg0': {'catboost': {'f1': 0.7842165796691144,\n",
       "   'auc': 0.8206487307632423},\n",
       "  'lightgbm': {'f1': 0.7734639358860196, 'auc': 0.8123763739881196},\n",
       "  'knn': {'f1': 0.7486084496760653, 'auc': 0.7940609523791922},\n",
       "  'randomforest': {'f1': 0.7614644970414202, 'auc': 0.8042458109850671},\n",
       "  'decisiontree': {'f1': 0.6642581492733393, 'auc': 0.7181917389996632}},\n",
       " 'word2vec_vs500_win5_sg0': {'catboost': {'f1': 0.7847789788206345,\n",
       "   'auc': 0.8209899598551291},\n",
       "  'lightgbm': {'f1': 0.7695590327169274, 'auc': 0.809293946482438},\n",
       "  'knn': {'f1': 0.7313038887911315, 'auc': 0.7788735688369722},\n",
       "  'randomforest': {'f1': 0.7508843790727984, 'auc': 0.7965837357137808},\n",
       "  'decisiontree': {'f1': 0.6562939667301166, 'auc': 0.7124485044661111}},\n",
       " 'word2vec_vs250_win4_sg1': {'catboost': {'f1': 0.7814265536723163,\n",
       "   'auc': 0.8184241163069307},\n",
       "  'lightgbm': {'f1': 0.7634543178973717, 'auc': 0.8047067031169218},\n",
       "  'knn': {'f1': 0.7461702885643035, 'auc': 0.7911368034998898},\n",
       "  'randomforest': {'f1': 0.732913325696831, 'auc': 0.784505974142619},\n",
       "  'decisiontree': {'f1': 0.609979381443299, 'auc': 0.6730910441685983}},\n",
       " 'word2vec_vs2000_win6_sg1': {'catboost': {'f1': 0.7875474027692037,\n",
       "   'auc': 0.8232183721113966},\n",
       "  'lightgbm': {'f1': 0.7732308791994282, 'auc': 0.812275080841855},\n",
       "  'knn': {'f1': 0.7207641658165631, 'auc': 0.7739191216455654},\n",
       "  'randomforest': {'f1': 0.7320574162679426, 'auc': 0.7840134429181889},\n",
       "  'decisiontree': {'f1': 0.619160598870981, 'auc': 0.6795547148854816}},\n",
       " 'word2vec_vs250_win8_sg0': {'catboost': {'f1': 0.7876285036464283,\n",
       "   'auc': 0.823235466831392},\n",
       "  'lightgbm': {'f1': 0.7713274336283187, 'auc': 0.8105562945300129},\n",
       "  'knn': {'f1': 0.7365354052622285, 'auc': 0.7831816230836011},\n",
       "  'randomforest': {'f1': 0.7557527030773495, 'auc': 0.7999466182716682},\n",
       "  'decisiontree': {'f1': 0.6510166969747065, 'auc': 0.7078694942873605}},\n",
       " 'word2vec_vs1500_win7_sg0': {'catboost': {'f1': 0.7917212470526591,\n",
       "   'auc': 0.8264065281501528},\n",
       "  'lightgbm': {'f1': 0.7792550849696224, 'auc': 0.8166698746217793},\n",
       "  'knn': {'f1': 0.7244382511757534, 'auc': 0.7728271016918691},\n",
       "  'randomforest': {'f1': 0.7537819025522041, 'auc': 0.798627293984368},\n",
       "  'decisiontree': {'f1': 0.6420694801426083, 'auc': 0.7007803508668179}},\n",
       " 'word2vec_vs100_win3_sg0': {'catboost': {'f1': 0.7806559985854478,\n",
       "   'auc': 0.8178461207229126},\n",
       "  'lightgbm': {'f1': 0.762893982808023, 'auc': 0.804323060638668},\n",
       "  'knn': {'f1': 0.7523385705203888, 'auc': 0.7967097284203416},\n",
       "  'randomforest': {'f1': 0.755011135857461, 'auc': 0.7995420832734632},\n",
       "  'decisiontree': {'f1': 0.6538776848663715, 'auc': 0.709230603614563}},\n",
       " 'word2vec_vs500_win8_sg0': {'catboost': {'f1': 0.7874374945170629,\n",
       "   'auc': 0.8230645381122162},\n",
       "  'lightgbm': {'f1': 0.7737926136363636, 'auc': 0.8125618655606537},\n",
       "  'knn': {'f1': 0.725415969715644, 'auc': 0.7742724002049518},\n",
       "  'randomforest': {'f1': 0.7546679052484905, 'auc': 0.7993230398477923},\n",
       "  'decisiontree': {'f1': 0.6437946502741319, 'auc': 0.7024776163122439}},\n",
       " 'word2vec_vs2000_win7_sg0': {'catboost': {'f1': 0.7929076775264214,\n",
       "   'auc': 0.8273498055591105},\n",
       "  'lightgbm': {'f1': 0.779848777914542, 'auc': 0.81710922740644},\n",
       "  'knn': {'f1': 0.731817785907151, 'auc': 0.7787058095712877},\n",
       "  'randomforest': {'f1': 0.7545875810936052, 'auc': 0.7991780673818419},\n",
       "  'decisiontree': {'f1': 0.6486219662690251, 'auc': 0.705248578019609}},\n",
       " 'word2vec_vs250_win5_sg0': {'catboost': {'f1': 0.7815200141068596,\n",
       "   'auc': 0.8184760288133816},\n",
       "  'lightgbm': {'f1': 0.7691213091426539, 'auc': 0.808962216510635},\n",
       "  'knn': {'f1': 0.7451396253092967, 'auc': 0.7899776521187518},\n",
       "  'randomforest': {'f1': 0.7547625685345227, 'auc': 0.7994072382740616},\n",
       "  'decisiontree': {'f1': 0.6443239691145064, 'auc': 0.7014172262107335}},\n",
       " 'word2vec_vs1500_win6_sg1': {'catboost': {'f1': 0.7900995331630406,\n",
       "   'auc': 0.8252112838088514},\n",
       "  'lightgbm': {'f1': 0.7684861521914492, 'auc': 0.808679229591792},\n",
       "  'knn': {'f1': 0.7248446628952981, 'auc': 0.7769692632314287},\n",
       "  'randomforest': {'f1': 0.7319213890478916, 'auc': 0.7837557839061066},\n",
       "  'decisiontree': {'f1': 0.6171560161197468, 'auc': 0.6786836049160719}},\n",
       " 'word2vec_vs250_win3_sg1': {'catboost': {'f1': 0.7789436557622783,\n",
       "   'auc': 0.8164520971294269},\n",
       "  'lightgbm': {'f1': 0.7567032571531401, 'auc': 0.7997060632199707},\n",
       "  'knn': {'f1': 0.7399155511634175, 'auc': 0.7866970644669613},\n",
       "  'randomforest': {'f1': 0.7266111270707653, 'auc': 0.7801054882829555},\n",
       "  'decisiontree': {'f1': 0.6172758023265407, 'auc': 0.6792755257665942}},\n",
       " 'word2vec_vs100_win5_sg1': {'catboost': {'f1': 0.7820343461030382,\n",
       "   'auc': 0.8188609372249541},\n",
       "  'lightgbm': {'f1': 0.7635327635327636, 'auc': 0.8046395994106481},\n",
       "  'knn': {'f1': 0.7712395842281591, 'auc': 0.8097212867611558},\n",
       "  'randomforest': {'f1': 0.7401113943170018, 'auc': 0.789217935040988},\n",
       "  'decisiontree': {'f1': 0.6337023370233702, 'auc': 0.6922060274134625}},\n",
       " 'word2vec_vs1000_win6_sg1': {'catboost': {'f1': 0.7919992981840511,\n",
       "   'auc': 0.8266692508955092},\n",
       "  'lightgbm': {'f1': 0.7732713953903876, 'auc': 0.812302303028399},\n",
       "  'knn': {'f1': 0.7228471325834409, 'auc': 0.7751232275200965},\n",
       "  'randomforest': {'f1': 0.7358580559000286, 'auc': 0.7866115723862057},\n",
       "  'decisiontree': {'f1': 0.6196097720937859, 'auc': 0.6802542585488616}},\n",
       " 'word2vec_vs2500_win7_sg0': {'catboost': {'f1': 0.7917468088826717,\n",
       "   'auc': 0.8264375481366524},\n",
       "  'lightgbm': {'f1': 0.7816274354227276, 'auc': 0.8185589613063322},\n",
       "  'knn': {'f1': 0.725021795989538, 'auc': 0.7733569825693919},\n",
       "  'randomforest': {'f1': 0.7567517573066962, 'auc': 0.8007252966280434},\n",
       "  'decisiontree': {'f1': 0.6517392382054036, 'auc': 0.7084227995514716}},\n",
       " 'word2vec_vs3000_win7_sg1': {'catboost': {'f1': 0.7938380281690139,\n",
       "   'auc': 0.8281487388485829},\n",
       "  'lightgbm': {'f1': 0.7704654895666132, 'auc': 0.8100789545054059},\n",
       "  'knn': {'f1': 0.7180910099889012, 'auc': 0.7717489515623419},\n",
       "  'randomforest': {'f1': 0.7363722697056031, 'auc': 0.78676604397224},\n",
       "  'decisiontree': {'f1': 0.6239344262295082, 'auc': 0.6838861935186986}},\n",
       " 'word2vec_vs1000_win7_sg0': {'catboost': {'f1': 0.7878099895214808,\n",
       "   'auc': 0.8233006762578826},\n",
       "  'lightgbm': {'f1': 0.7722545390445973, 'auc': 0.8111824048205263},\n",
       "  'knn': {'f1': 0.723275339738596, 'auc': 0.7715058831247855},\n",
       "  'randomforest': {'f1': 0.7542920435665498, 'auc': 0.7988064558903093},\n",
       "  'decisiontree': {'f1': 0.6447971204188483, 'auc': 0.7012659240781903}},\n",
       " 'word2vec_vs500_win3_sg1': {'catboost': {'f1': 0.7815200141068596,\n",
       "   'auc': 0.8184760288133816},\n",
       "  'lightgbm': {'f1': 0.764826907594597, 'auc': 0.8057898892585559},\n",
       "  'knn': {'f1': 0.7249863313285948, 'auc': 0.7760335906627716},\n",
       "  'randomforest': {'f1': 0.7285863675254303, 'auc': 0.7811399313716296},\n",
       "  'decisiontree': {'f1': 0.6065506146357562, 'auc': 0.6702637438083617}},\n",
       " 'word2vec_vs100_win8_sg1': {'catboost': {'f1': 0.784596448039388,\n",
       "   'auc': 0.8208525829890905},\n",
       "  'lightgbm': {'f1': 0.7635879218472469, 'auc': 0.8046047816241925},\n",
       "  'knn': {'f1': 0.7690979715148898, 'auc': 0.8081272087417777},\n",
       "  'randomforest': {'f1': 0.7418838806812835, 'auc': 0.7903739262090241},\n",
       "  'decisiontree': {'f1': 0.64453125, 'auc': 0.7003346776559535}},\n",
       " 'word2vec_vs3000_win6_sg0': {'catboost': {'f1': 0.7941511251203923,\n",
       "   'auc': 0.8283551229410681},\n",
       "  'lightgbm': {'f1': 0.7781310722487194, 'auc': 0.8158468793588648},\n",
       "  'knn': {'f1': 0.7349397590361445, 'auc': 0.7813191302391274},\n",
       "  'randomforest': {'f1': 0.7541074909495962, 'auc': 0.7988773573965388},\n",
       "  'decisiontree': {'f1': 0.6469282013323464, 'auc': 0.7037779515997655}},\n",
       " 'word2vec_vs2500_win6_sg1': {'catboost': {'f1': 0.7919569626951231,\n",
       "   'auc': 0.8266844420953321},\n",
       "  'lightgbm': {'f1': 0.7745448054266333, 'auc': 0.8132702707572638},\n",
       "  'knn': {'f1': 0.7206957165325191, 'auc': 0.7737184388732083},\n",
       "  'randomforest': {'f1': 0.734379457917261, 'auc': 0.7853834137786214},\n",
       "  'decisiontree': {'f1': 0.6245984018452919, 'auc': 0.685204880219145}},\n",
       " 'word2vec_vs100_win3_sg1': {'catboost': {'f1': 0.7793006501493586,\n",
       "   'auc': 0.8166635449551864},\n",
       "  'lightgbm': {'f1': 0.7596899224806203, 'auc': 0.8016749221843725},\n",
       "  'knn': {'f1': 0.7703563436047511, 'auc': 0.8090616246175056},\n",
       "  'randomforest': {'f1': 0.7416807670614777, 'auc': 0.7901770412366228},\n",
       "  'decisiontree': {'f1': 0.6304708222811672, 'auc': 0.6910468667919356}},\n",
       " 'word2vec_vs500_win8_sg1': {'catboost': {'f1': 0.787420941672523,\n",
       "   'auc': 0.823068335912172},\n",
       "  'lightgbm': {'f1': 0.7627606038820992, 'auc': 0.8043331881052166},\n",
       "  'knn': {'f1': 0.7418623628615468, 'auc': 0.7886361601377927},\n",
       "  'randomforest': {'f1': 0.7261698440207972, 'auc': 0.7800921913629159},\n",
       "  'decisiontree': {'f1': 0.6051605409441633, 'auc': 0.670031403462651}},\n",
       " 'word2vec_vs1500_win6_sg0': {'catboost': {'f1': 0.7913354878155296,\n",
       "   'auc': 0.8261020203648937},\n",
       "  'lightgbm': {'f1': 0.7752033958259639, 'auc': 0.8135766820626951},\n",
       "  'knn': {'f1': 0.7318656258222964, 'auc': 0.779141992902457},\n",
       "  'randomforest': {'f1': 0.7550491013526034, 'auc': 0.7995097973536448},\n",
       "  'decisiontree': {'f1': 0.6437598083753201, 'auc': 0.701683746756046}},\n",
       " 'word2vec_vs250_win5_sg1': {'catboost': {'f1': 0.7850088183421516,\n",
       "   'auc': 0.821221662613986},\n",
       "  'lightgbm': {'f1': 0.7572150072150073, 'auc': 0.8001840315910426},\n",
       "  'knn': {'f1': 0.7513675666137286, 'auc': 0.7947978641764433},\n",
       "  'randomforest': {'f1': 0.7250627049971059, 'auc': 0.7794040410994031},\n",
       "  'decisiontree': {'f1': 0.6099407504937459, 'auc': 0.6726960082904772}},\n",
       " 'word2vec_vs2000_win7_sg1': {'catboost': {'f1': 0.7901734613014001,\n",
       "   'auc': 0.8252657281819398},\n",
       "  'lightgbm': {'f1': 0.7718108831400534, 'auc': 0.8111336525271772},\n",
       "  'knn': {'f1': 0.7198739340007415, 'auc': 0.7732246417154597},\n",
       "  'randomforest': {'f1': 0.7309459977020298, 'auc': 0.7832385623617696},\n",
       "  'decisiontree': {'f1': 0.6109330045211673, 'auc': 0.6733582023007645}},\n",
       " 'word2vec_vs500_win5_sg1': {'catboost': {'f1': 0.7837123215230036,\n",
       "   'auc': 0.8201941867787588},\n",
       "  'lightgbm': {'f1': 0.7648477270697508, 'auc': 0.8057576033387374},\n",
       "  'knn': {'f1': 0.7286027798098025, 'auc': 0.7789824391023701},\n",
       "  'randomforest': {'f1': 0.7267301953989797, 'auc': 0.7804796316411254},\n",
       "  'decisiontree': {'f1': 0.6034242647661179, 'auc': 0.6664431570528888}},\n",
       " 'word2vec_vs1500_win7_sg1': {'catboost': {'f1': 0.7915859883823271,\n",
       "   'auc': 0.8263736046434803},\n",
       "  'lightgbm': {'f1': 0.7674169346195069, 'auc': 0.807754312836148},\n",
       "  'knn': {'f1': 0.7242524916943521, 'auc': 0.7762349017815934},\n",
       "  'randomforest': {'f1': 0.734002869440459, 'auc': 0.7853986049784445},\n",
       "  'decisiontree': {'f1': 0.6007821411112921, 'auc': 0.6632651377210705}},\n",
       " 'word2vec_vs2000_win6_sg0': {'catboost': {'f1': 0.7921274928154663,\n",
       "   'auc': 0.8267034403355},\n",
       "  'lightgbm': {'f1': 0.7785199507822115, 'auc': 0.8160545293846686},\n",
       "  'knn': {'f1': 0.7292393579902302, 'auc': 0.7767413859936954},\n",
       "  'randomforest': {'f1': 0.7510181414291003, 'auc': 0.7964571239011445},\n",
       "  'decisiontree': {'f1': 0.6499093456403494, 'auc': 0.7065571372535068}},\n",
       " 'word2vec_vs250_win8_sg1': {'catboost': {'f1': 0.7828385164302705,\n",
       "   'auc': 0.8194997068486529},\n",
       "  'lightgbm': {'f1': 0.7565334530758868, 'auc': 0.7995066463809324},\n",
       "  'knn': {'f1': 0.7523632829755279, 'auc': 0.7956335187725437},\n",
       "  'randomforest': {'f1': 0.7285342584562011, 'auc': 0.7818413693147929},\n",
       "  'decisiontree': {'f1': 0.6043701373944711, 'auc': 0.6689703757742869}},\n",
       " 'word2vec_vs250_win4_sg0': {'catboost': {'f1': 0.7818517541545768,\n",
       "   'auc': 0.8186900085057782},\n",
       "  'lightgbm': {'f1': 0.7651521913773096, 'auc': 0.8059779126977271},\n",
       "  'knn': {'f1': 0.7465210498502729, 'auc': 0.7909108020611612},\n",
       "  'randomforest': {'f1': 0.7512813344515888, 'auc': 0.7969192634855394},\n",
       "  'decisiontree': {'f1': 0.6501400098830505, 'auc': 0.7066660259996832}}}"
      ]
     },
     "execution_count": 16,
     "metadata": {},
     "output_type": "execute_result"
    }
   ],
   "source": [
    "import json\n",
    "\n",
    "# read results from json file\n",
    "with open('results/word2vec_results.json', 'r') as f:\n",
    "    word2vec_results = json.load(f)\n",
    "\n",
    "    \n",
    "word2vec_results"
   ]
  },
  {
   "cell_type": "code",
   "execution_count": null,
   "metadata": {},
   "outputs": [],
   "source": [
    "# for each word2vec model calculate mean auc\n",
    "word2vec_mean_auc = {}\n",
    "\n",
    "for model in word2vec_results:\n",
    "    # get results for each model\n",
    "    results = word2vec_results[model]\n",
    "    # get auc for each model\n",
    "    aucs = [results[model]['auc'] for model in results]\n",
    "    # calculate mean auc\n",
    "    mean_auc = np.mean(aucs)\n",
    "    # add to dict\n",
    "    word2vec_mean_auc[model] = mean_auc"
   ]
  },
  {
   "cell_type": "code",
   "execution_count": null,
   "metadata": {},
   "outputs": [],
   "source": [
    "# sort dict by mean auc in descending order\n",
    "word2vec_mean_auc = dict(sorted(word2vec_mean_auc.items(), key=lambda item: item[1], reverse=True))\n",
    "word2vec_mean_auc"
   ]
  },
  {
   "cell_type": "code",
   "execution_count": null,
   "metadata": {},
   "outputs": [],
   "source": [
    "# for each word2vec model calculate mean auc\n",
    "word2vec_mean_f1 = {}\n",
    "\n",
    "for model in word2vec_results:\n",
    "    # get results for each model\n",
    "    results = word2vec_results[model]\n",
    "    # get auc for each model\n",
    "    f1s = [results[model]['f1'] for model in results]\n",
    "    # calculate mean auc\n",
    "    mean_f1 = np.mean(f1s)\n",
    "    # add to dict\n",
    "    word2vec_mean_f1[model] = mean_f1"
   ]
  },
  {
   "cell_type": "code",
   "execution_count": null,
   "metadata": {},
   "outputs": [
    {
     "data": {
      "text/plain": [
       "{'word2vec_vs100_win7_sg0': 0.7481139771677718,\n",
       " 'word2vec_vs100_win5_sg0': 0.7464023223091918,\n",
       " 'word2vec_vs100_win8_sg0': 0.7447431475432482,\n",
       " 'word2vec_vs100_win6_sg0': 0.7437269708396137,\n",
       " 'word2vec_vs2500_win8_sg0': 0.7424202842048666,\n",
       " 'word2vec_vs100_win6_sg1': 0.7423892057677954,\n",
       " 'word2vec_vs3000_win8_sg0': 0.7416670302506109,\n",
       " 'word2vec_vs3000_win6_sg0': 0.7416515297374398,\n",
       " 'word2vec_vs2000_win7_sg0': 0.7415567577421489,\n",
       " 'word2vec_vs2500_win7_sg0': 0.7413774071614074,\n",
       " 'word2vec_vs2500_win6_sg0': 0.7411358196375295,\n",
       " 'word2vec_vs100_win3_sg0': 0.7409554745275384,\n",
       " 'word2vec_vs3000_win5_sg0': 0.740845261061209,\n",
       " 'word2vec_vs2000_win8_sg0': 0.7407646723882559,\n",
       " 'word2vec_vs100_win8_sg1': 0.7407394944165616,\n",
       " 'word2vec_vs250_win8_sg0': 0.7404521485178063,\n",
       " 'word2vec_vs2500_win4_sg0': 0.7403383583747853,\n",
       " 'word2vec_vs2000_win6_sg0': 0.7401628577314715,\n",
       " 'word2vec_vs2500_win5_sg0': 0.7400008858023105,\n",
       " 'word2vec_vs3000_win7_sg0': 0.7399683322448511,\n",
       " 'word2vec_vs1500_win8_sg0': 0.7399157137195128,\n",
       " 'word2vec_vs1500_win6_sg0': 0.7394426838383427,\n",
       " 'word2vec_vs2000_win4_sg0': 0.7393582665454956,\n",
       " 'word2vec_vs250_win7_sg0': 0.7392155884649896,\n",
       " 'word2vec_vs3000_win3_sg0': 0.7390176900646636,\n",
       " 'word2vec_vs2500_win3_sg0': 0.7390156537755523,\n",
       " 'word2vec_vs250_win4_sg0': 0.7389892679433597,\n",
       " 'word2vec_vs250_win5_sg0': 0.7389734972415678,\n",
       " 'word2vec_vs250_win6_sg0': 0.7386542436286339,\n",
       " 'word2vec_vs2000_win5_sg0': 0.738568899482377,\n",
       " 'word2vec_vs500_win5_sg0': 0.7385640492263217,\n",
       " 'word2vec_vs1000_win8_sg0': 0.7385123000483766,\n",
       " 'word2vec_vs1500_win5_sg0': 0.7382542442528817,\n",
       " 'word2vec_vs1500_win7_sg0': 0.7382531931785694,\n",
       " 'word2vec_vs100_win5_sg1': 0.7381240850408666,\n",
       " 'word2vec_vs3000_win4_sg0': 0.738107349871945,\n",
       " 'word2vec_vs2000_win3_sg0': 0.7380892058690953,\n",
       " 'word2vec_vs500_win7_sg0': 0.7375738904103496,\n",
       " 'word2vec_vs100_win4_sg1': 0.7371704633979099,\n",
       " 'word2vec_vs1000_win4_sg0': 0.737060262084101,\n",
       " 'word2vec_vs1500_win4_sg0': 0.7370249111219302,\n",
       " 'word2vec_vs500_win8_sg0': 0.7370217266783385,\n",
       " 'word2vec_vs1500_win3_sg0': 0.7368697405987729,\n",
       " 'word2vec_vs250_win3_sg0': 0.7368407473210129,\n",
       " 'word2vec_vs500_win6_sg0': 0.7365769452307104,\n",
       " 'word2vec_vs1000_win7_sg0': 0.7364858064580144,\n",
       " 'word2vec_vs100_win3_sg1': 0.736299701115475,\n",
       " 'word2vec_vs100_win7_sg1': 0.7357091518574441,\n",
       " 'word2vec_vs1000_win6_sg0': 0.735545435204528,\n",
       " 'word2vec_vs1000_win3_sg0': 0.7337756449707107,\n",
       " 'word2vec_vs500_win3_sg0': 0.7333917402217535,\n",
       " 'word2vec_vs1000_win5_sg0': 0.7332796409402217,\n",
       " 'word2vec_vs2000_win3_sg1': 0.7320357617219508,\n",
       " 'word2vec_vs3000_win4_sg1': 0.730915379193721,\n",
       " 'word2vec_vs2000_win4_sg1': 0.7301622866685589,\n",
       " 'word2vec_vs3000_win8_sg1': 0.7301013748319694,\n",
       " 'word2vec_vs3000_win3_sg1': 0.7300954982202157,\n",
       " 'word2vec_vs1500_win8_sg1': 0.7298474461255013,\n",
       " 'word2vec_vs2500_win3_sg1': 0.7294440586091102,\n",
       " 'word2vec_vs3000_win5_sg1': 0.7292876847270596,\n",
       " 'word2vec_vs2500_win6_sg1': 0.7292350688833656,\n",
       " 'word2vec_vs2500_win5_sg1': 0.7290112868164529,\n",
       " 'word2vec_vs1500_win5_sg1': 0.7288189180367712,\n",
       " 'word2vec_vs1000_win6_sg1': 0.7287171308303388,\n",
       " 'word2vec_vs1500_win4_sg1': 0.7286750949090323,\n",
       " 'word2vec_vs3000_win6_sg1': 0.7285746093072041,\n",
       " 'word2vec_vs3000_win7_sg1': 0.7285402447319279,\n",
       " 'word2vec_vs2500_win7_sg1': 0.7278292993919593,\n",
       " 'word2vec_vs250_win7_sg1': 0.7274867390936025,\n",
       " 'word2vec_vs2500_win8_sg1': 0.7274379530712579,\n",
       " 'word2vec_vs2000_win5_sg1': 0.7272457572730385,\n",
       " 'word2vec_vs250_win4_sg1': 0.7267887734548243,\n",
       " 'word2vec_vs2000_win8_sg1': 0.7267594480221558,\n",
       " 'word2vec_vs2000_win6_sg1': 0.7265520925848238,\n",
       " 'word2vec_vs1500_win6_sg1': 0.7265015506834853,\n",
       " 'word2vec_vs1000_win4_sg1': 0.7261319948792309,\n",
       " 'word2vec_vs1500_win3_sg1': 0.7260182160029108,\n",
       " 'word2vec_vs500_win6_sg1': 0.7258735456207775,\n",
       " 'word2vec_vs250_win5_sg1': 0.7257189695323478,\n",
       " 'word2vec_vs1000_win7_sg1': 0.7255758285845177,\n",
       " 'word2vec_vs500_win7_sg1': 0.7253748880306019,\n",
       " 'word2vec_vs250_win8_sg1': 0.7249279296664715,\n",
       " 'word2vec_vs2000_win7_sg1': 0.7247474561330784,\n",
       " 'word2vec_vs500_win8_sg1': 0.7246748586762259,\n",
       " 'word2vec_vs250_win6_sg1': 0.7240202372238066,\n",
       " 'word2vec_vs1000_win8_sg1': 0.7239237054905355,\n",
       " 'word2vec_vs250_win3_sg1': 0.7238898786952283,\n",
       " 'word2vec_vs2500_win4_sg1': 0.7238033168910989,\n",
       " 'word2vec_vs1000_win3_sg1': 0.7237792856981874,\n",
       " 'word2vec_vs1500_win7_sg1': 0.7236080850495875,\n",
       " 'word2vec_vs1000_win5_sg1': 0.7232114595199168,\n",
       " 'word2vec_vs500_win5_sg1': 0.7214634577135308,\n",
       " 'word2vec_vs500_win3_sg1': 0.7212940470382476}"
      ]
     },
     "execution_count": 9,
     "metadata": {},
     "output_type": "execute_result"
    }
   ],
   "source": [
    "# sort dict by mean f1 in descending order\n",
    "word2vec_mean_f1 = dict(sorted(word2vec_mean_f1.items(), key=lambda item: item[1], reverse=True))\n",
    "word2vec_mean_f1"
   ]
  },
  {
   "cell_type": "code",
   "execution_count": null,
   "metadata": {},
   "outputs": [
    {
     "data": {
      "text/plain": [
       "{'word2vec_vs100_win5_sg0',\n",
       " 'word2vec_vs100_win6_sg0',\n",
       " 'word2vec_vs100_win6_sg1',\n",
       " 'word2vec_vs100_win7_sg0',\n",
       " 'word2vec_vs100_win8_sg0',\n",
       " 'word2vec_vs2000_win7_sg0',\n",
       " 'word2vec_vs2500_win8_sg0',\n",
       " 'word2vec_vs3000_win6_sg0',\n",
       " 'word2vec_vs3000_win8_sg0'}"
      ]
     },
     "execution_count": 12,
     "metadata": {},
     "output_type": "execute_result"
    }
   ],
   "source": [
    "# get first 10 models by auc and their mean auc\n",
    "top_10_auc = dict(list(word2vec_mean_auc.items())[:10])\n",
    "\n",
    "# get first 10 models by f1 and their mean f1\n",
    "top_10_f1 = dict(list(word2vec_mean_f1.items())[:10])\n",
    "\n",
    "\n",
    "\n",
    "\n",
    "# get intersection of top 10 models by auc and f1\n",
    "top_10_auc_f1 = set(top_10_auc.keys()).intersection(set(top_10_f1.keys()))\n",
    "top_10_auc_f1"
   ]
  },
  {
   "cell_type": "code",
   "execution_count": null,
   "metadata": {},
   "outputs": [
    {
     "data": {
      "text/plain": [
       "{'word2vec_vs100_win7_sg0': 0.7911968235238132,\n",
       " 'word2vec_vs100_win5_sg0': 0.7899047214230568,\n",
       " 'word2vec_vs100_win8_sg0': 0.7887069489112742,\n",
       " 'word2vec_vs100_win6_sg0': 0.7878347023739947,\n",
       " 'word2vec_vs2500_win8_sg0': 0.786192899592545,\n",
       " 'word2vec_vs100_win6_sg1': 0.786148329499342,\n",
       " 'word2vec_vs3000_win6_sg0': 0.7856352883070729,\n",
       " 'word2vec_vs3000_win8_sg0': 0.7855909750966892,\n",
       " 'word2vec_vs100_win3_sg0': 0.7855303193339898,\n",
       " 'word2vec_vs2000_win7_sg0': 0.7855182975876579}"
      ]
     },
     "execution_count": 13,
     "metadata": {},
     "output_type": "execute_result"
    }
   ],
   "source": [
    "top_10_auc"
   ]
  },
  {
   "cell_type": "code",
   "execution_count": null,
   "metadata": {},
   "outputs": [
    {
     "data": {
      "text/plain": [
       "{'word2vec_vs100_win7_sg0': 0.7481139771677718,\n",
       " 'word2vec_vs100_win5_sg0': 0.7464023223091918,\n",
       " 'word2vec_vs100_win8_sg0': 0.7447431475432482,\n",
       " 'word2vec_vs100_win6_sg0': 0.7437269708396137,\n",
       " 'word2vec_vs2500_win8_sg0': 0.7424202842048666,\n",
       " 'word2vec_vs100_win6_sg1': 0.7423892057677954,\n",
       " 'word2vec_vs3000_win8_sg0': 0.7416670302506109,\n",
       " 'word2vec_vs3000_win6_sg0': 0.7416515297374398,\n",
       " 'word2vec_vs2000_win7_sg0': 0.7415567577421489,\n",
       " 'word2vec_vs2500_win7_sg0': 0.7413774071614074}"
      ]
     },
     "execution_count": 14,
     "metadata": {},
     "output_type": "execute_result"
    }
   ],
   "source": [
    "top_10_f1"
   ]
  },
  {
   "cell_type": "code",
   "execution_count": null,
   "metadata": {},
   "outputs": [],
   "source": []
  },
  {
   "cell_type": "markdown",
   "metadata": {},
   "source": [
    "## WINNER - `word2vec_vs100_win7_sg0`\n",
    "Since it was on average the best performing model for both auc and f1 on different predictive models, we will use this model to generate the word embeddings for the rest of the project."
   ]
  },
  {
   "cell_type": "markdown",
   "metadata": {},
   "source": []
  }
 ],
 "metadata": {
  "kernelspec": {
   "display_name": "ag",
   "language": "python",
   "name": "python3"
  },
  "language_info": {
   "codemirror_mode": {
    "name": "ipython",
    "version": 3
   },
   "file_extension": ".py",
   "mimetype": "text/x-python",
   "name": "python",
   "nbconvert_exporter": "python",
   "pygments_lexer": "ipython3",
   "version": "3.10.9"
  }
 },
 "nbformat": 4,
 "nbformat_minor": 2
}
