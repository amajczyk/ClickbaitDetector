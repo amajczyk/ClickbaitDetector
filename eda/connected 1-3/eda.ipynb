{
 "cells": [
  {
   "cell_type": "code",
   "execution_count": 5,
   "metadata": {},
   "outputs": [],
   "source": [
    "import pandas as pd\n",
    "import numpy as np"
   ]
  },
  {
   "cell_type": "code",
   "execution_count": 6,
   "metadata": {},
   "outputs": [],
   "source": [
    "df1 = pd.read_csv('../small1/labeled.csv')\n",
    "# df2 = pd.read_csv('../small2/labeled.csv')\n",
    "df3 = pd.read_csv('../small3/labeled.csv')"
   ]
  },
  {
   "cell_type": "code",
   "execution_count": 7,
   "metadata": {},
   "outputs": [
    {
     "data": {
      "text/plain": [
       "(52242, 4)"
      ]
     },
     "execution_count": 7,
     "metadata": {},
     "output_type": "execute_result"
    }
   ],
   "source": [
    "df = pd.concat([df1, \n",
    "                # df2, \n",
    "                df3])\n",
    "df.shape"
   ]
  },
  {
   "cell_type": "code",
   "execution_count": 8,
   "metadata": {},
   "outputs": [
    {
     "data": {
      "text/html": [
       "<div>\n",
       "<style scoped>\n",
       "    .dataframe tbody tr th:only-of-type {\n",
       "        vertical-align: middle;\n",
       "    }\n",
       "\n",
       "    .dataframe tbody tr th {\n",
       "        vertical-align: top;\n",
       "    }\n",
       "\n",
       "    .dataframe thead th {\n",
       "        text-align: right;\n",
       "    }\n",
       "</style>\n",
       "<table border=\"1\" class=\"dataframe\">\n",
       "  <thead>\n",
       "    <tr style=\"text-align: right;\">\n",
       "      <th></th>\n",
       "      <th>title</th>\n",
       "      <th>is_clickbait</th>\n",
       "      <th>text</th>\n",
       "      <th>dataset</th>\n",
       "    </tr>\n",
       "  </thead>\n",
       "  <tbody>\n",
       "    <tr>\n",
       "      <th>0</th>\n",
       "      <td>House Dem Aide: We Didn’t Even See Comey’s Let...</td>\n",
       "      <td>1</td>\n",
       "      <td>House Dem Aide: We Didn’t Even See Comey’s Let...</td>\n",
       "      <td>fake-news</td>\n",
       "    </tr>\n",
       "    <tr>\n",
       "      <th>1</th>\n",
       "      <td>FLYNN: Hillary Clinton, Big Woman on Campus - ...</td>\n",
       "      <td>0</td>\n",
       "      <td>Ever get the feeling your life circles the rou...</td>\n",
       "      <td>fake-news</td>\n",
       "    </tr>\n",
       "    <tr>\n",
       "      <th>2</th>\n",
       "      <td>Why the Truth Might Get You Fired</td>\n",
       "      <td>1</td>\n",
       "      <td>Why the Truth Might Get You Fired October 29, ...</td>\n",
       "      <td>fake-news</td>\n",
       "    </tr>\n",
       "    <tr>\n",
       "      <th>3</th>\n",
       "      <td>15 Civilians Killed In Single US Airstrike Hav...</td>\n",
       "      <td>1</td>\n",
       "      <td>Videos 15 Civilians Killed In Single US Airstr...</td>\n",
       "      <td>fake-news</td>\n",
       "    </tr>\n",
       "    <tr>\n",
       "      <th>4</th>\n",
       "      <td>Iranian woman jailed for fictional unpublished...</td>\n",
       "      <td>1</td>\n",
       "      <td>Print \\nAn Iranian woman has been sentenced to...</td>\n",
       "      <td>fake-news</td>\n",
       "    </tr>\n",
       "  </tbody>\n",
       "</table>\n",
       "</div>"
      ],
      "text/plain": [
       "                                               title  is_clickbait  \\\n",
       "0  House Dem Aide: We Didn’t Even See Comey’s Let...             1   \n",
       "1  FLYNN: Hillary Clinton, Big Woman on Campus - ...             0   \n",
       "2                  Why the Truth Might Get You Fired             1   \n",
       "3  15 Civilians Killed In Single US Airstrike Hav...             1   \n",
       "4  Iranian woman jailed for fictional unpublished...             1   \n",
       "\n",
       "                                                text    dataset  \n",
       "0  House Dem Aide: We Didn’t Even See Comey’s Let...  fake-news  \n",
       "1  Ever get the feeling your life circles the rou...  fake-news  \n",
       "2  Why the Truth Might Get You Fired October 29, ...  fake-news  \n",
       "3  Videos 15 Civilians Killed In Single US Airstr...  fake-news  \n",
       "4  Print \\nAn Iranian woman has been sentenced to...  fake-news  "
      ]
     },
     "execution_count": 8,
     "metadata": {},
     "output_type": "execute_result"
    }
   ],
   "source": [
    "df.head()"
   ]
  },
  {
   "cell_type": "code",
   "execution_count": 9,
   "metadata": {},
   "outputs": [],
   "source": [
    "# drop empty titles\n",
    "df = df[df['title'].notna()]"
   ]
  },
  {
   "cell_type": "code",
   "execution_count": 10,
   "metadata": {},
   "outputs": [
    {
     "data": {
      "text/plain": [
       "dataset\n",
       "clickbait-dataset    32000\n",
       "fake-news            20242\n",
       "Name: count, dtype: int64"
      ]
     },
     "execution_count": 10,
     "metadata": {},
     "output_type": "execute_result"
    }
   ],
   "source": [
    "df['dataset'].value_counts()"
   ]
  },
  {
   "cell_type": "code",
   "execution_count": 11,
   "metadata": {},
   "outputs": [
    {
     "data": {
      "text/plain": [
       "(808, 4)"
      ]
     },
     "execution_count": 11,
     "metadata": {},
     "output_type": "execute_result"
    }
   ],
   "source": [
    "duplicate_rows = df[df.duplicated(subset='title', keep=False)]\n",
    "duplicate_rows.shape"
   ]
  },
  {
   "cell_type": "code",
   "execution_count": 12,
   "metadata": {},
   "outputs": [
    {
     "data": {
      "text/html": [
       "<div>\n",
       "<style scoped>\n",
       "    .dataframe tbody tr th:only-of-type {\n",
       "        vertical-align: middle;\n",
       "    }\n",
       "\n",
       "    .dataframe tbody tr th {\n",
       "        vertical-align: top;\n",
       "    }\n",
       "\n",
       "    .dataframe thead th {\n",
       "        text-align: right;\n",
       "    }\n",
       "</style>\n",
       "<table border=\"1\" class=\"dataframe\">\n",
       "  <thead>\n",
       "    <tr style=\"text-align: right;\">\n",
       "      <th></th>\n",
       "      <th>title</th>\n",
       "      <th>is_clickbait</th>\n",
       "    </tr>\n",
       "  </thead>\n",
       "  <tbody>\n",
       "    <tr>\n",
       "      <th>0</th>\n",
       "      <td>\"Top Five Clinton Donors Are Jewish\" - How Ant...</td>\n",
       "      <td>[1]</td>\n",
       "    </tr>\n",
       "    <tr>\n",
       "      <th>1</th>\n",
       "      <td>'Grand slam!' Father-son film is smash hit for...</td>\n",
       "      <td>[1]</td>\n",
       "    </tr>\n",
       "    <tr>\n",
       "      <th>2</th>\n",
       "      <td>11 Things To Let Go Of Before The New Year</td>\n",
       "      <td>[1]</td>\n",
       "    </tr>\n",
       "    <tr>\n",
       "      <th>3</th>\n",
       "      <td>115 Million Americans Killed In 30 Minutes</td>\n",
       "      <td>[1]</td>\n",
       "    </tr>\n",
       "    <tr>\n",
       "      <th>4</th>\n",
       "      <td>14 Days to Do 14 Things, If Hillary’s Indicted...</td>\n",
       "      <td>[1]</td>\n",
       "    </tr>\n",
       "    <tr>\n",
       "      <th>...</th>\n",
       "      <td>...</td>\n",
       "      <td>...</td>\n",
       "    </tr>\n",
       "    <tr>\n",
       "      <th>364</th>\n",
       "      <td>“If Trump Loses, I’m Grabbing My Musket”: Form...</td>\n",
       "      <td>[1]</td>\n",
       "    </tr>\n",
       "    <tr>\n",
       "      <th>365</th>\n",
       "      <td>“Nothing Good Can Come of This Election”–and T...</td>\n",
       "      <td>[1]</td>\n",
       "    </tr>\n",
       "    <tr>\n",
       "      <th>366</th>\n",
       "      <td>“Rigged To Deny Trump”: Are They Stealing Thes...</td>\n",
       "      <td>[1]</td>\n",
       "    </tr>\n",
       "    <tr>\n",
       "      <th>367</th>\n",
       "      <td>“They Got In There And Totally Took It Over” –...</td>\n",
       "      <td>[1]</td>\n",
       "    </tr>\n",
       "    <tr>\n",
       "      <th>368</th>\n",
       "      <td>“When You Speak Up for the MOVE 9, You Speak U...</td>\n",
       "      <td>[1]</td>\n",
       "    </tr>\n",
       "  </tbody>\n",
       "</table>\n",
       "<p>369 rows × 2 columns</p>\n",
       "</div>"
      ],
      "text/plain": [
       "                                                 title is_clickbait\n",
       "0    \"Top Five Clinton Donors Are Jewish\" - How Ant...          [1]\n",
       "1    'Grand slam!' Father-son film is smash hit for...          [1]\n",
       "2           11 Things To Let Go Of Before The New Year          [1]\n",
       "3           115 Million Americans Killed In 30 Minutes          [1]\n",
       "4    14 Days to Do 14 Things, If Hillary’s Indicted...          [1]\n",
       "..                                                 ...          ...\n",
       "364  “If Trump Loses, I’m Grabbing My Musket”: Form...          [1]\n",
       "365  “Nothing Good Can Come of This Election”–and T...          [1]\n",
       "366  “Rigged To Deny Trump”: Are They Stealing Thes...          [1]\n",
       "367  “They Got In There And Totally Took It Over” –...          [1]\n",
       "368  “When You Speak Up for the MOVE 9, You Speak U...          [1]\n",
       "\n",
       "[369 rows x 2 columns]"
      ]
     },
     "execution_count": 12,
     "metadata": {},
     "output_type": "execute_result"
    }
   ],
   "source": [
    "grouped_dups = duplicate_rows.groupby('title').agg({'is_clickbait': 'unique'}).reset_index()\n",
    "grouped_dups"
   ]
  },
  {
   "cell_type": "code",
   "execution_count": 13,
   "metadata": {},
   "outputs": [
    {
     "data": {
      "text/plain": [
       "is_clickbait_is_same\n",
       "True    369\n",
       "Name: count, dtype: int64"
      ]
     },
     "execution_count": 13,
     "metadata": {},
     "output_type": "execute_result"
    }
   ],
   "source": [
    "grouped_dups['is_clickbait_is_same'] = grouped_dups['is_clickbait'].apply(lambda x: len(x) == 1)\n",
    "grouped_dups['is_clickbait_is_same'].value_counts()"
   ]
  },
  {
   "cell_type": "code",
   "execution_count": 14,
   "metadata": {},
   "outputs": [
    {
     "data": {
      "text/plain": [
       "is_clickbait_is_same\n",
       "True    1.0\n",
       "Name: proportion, dtype: float64"
      ]
     },
     "execution_count": 14,
     "metadata": {},
     "output_type": "execute_result"
    }
   ],
   "source": [
    "grouped_dups['is_clickbait_is_same'].value_counts(normalize=True)"
   ]
  },
  {
   "cell_type": "code",
   "execution_count": 15,
   "metadata": {},
   "outputs": [
    {
     "data": {
      "text/plain": [
       "(52242, 4)"
      ]
     },
     "execution_count": 15,
     "metadata": {},
     "output_type": "execute_result"
    }
   ],
   "source": [
    "# drop articles with conflicting labels\n",
    "df = df[~df['title'].isin(grouped_dups[grouped_dups['is_clickbait_is_same'] == False]['title'])]\n",
    "df.shape"
   ]
  },
  {
   "cell_type": "code",
   "execution_count": 16,
   "metadata": {},
   "outputs": [
    {
     "data": {
      "text/plain": [
       "(51803, 4)"
      ]
     },
     "execution_count": 16,
     "metadata": {},
     "output_type": "execute_result"
    }
   ],
   "source": [
    "# drop duplicate titles\n",
    "df = df.drop_duplicates(subset='title')\n",
    "df.shape"
   ]
  },
  {
   "cell_type": "code",
   "execution_count": 17,
   "metadata": {},
   "outputs": [
    {
     "data": {
      "text/plain": [
       "dataset\n",
       "clickbait-dataset    32000\n",
       "fake-news            19803\n",
       "Name: count, dtype: int64"
      ]
     },
     "execution_count": 17,
     "metadata": {},
     "output_type": "execute_result"
    }
   ],
   "source": [
    "df['dataset'].value_counts()"
   ]
  },
  {
   "cell_type": "code",
   "execution_count": 18,
   "metadata": {},
   "outputs": [
    {
     "data": {
      "text/html": [
       "<div>\n",
       "<style scoped>\n",
       "    .dataframe tbody tr th:only-of-type {\n",
       "        vertical-align: middle;\n",
       "    }\n",
       "\n",
       "    .dataframe tbody tr th {\n",
       "        vertical-align: top;\n",
       "    }\n",
       "\n",
       "    .dataframe thead th {\n",
       "        text-align: right;\n",
       "    }\n",
       "</style>\n",
       "<table border=\"1\" class=\"dataframe\">\n",
       "  <thead>\n",
       "    <tr style=\"text-align: right;\">\n",
       "      <th></th>\n",
       "      <th>title</th>\n",
       "      <th>is_clickbait</th>\n",
       "      <th>text</th>\n",
       "      <th>dataset</th>\n",
       "    </tr>\n",
       "  </thead>\n",
       "  <tbody>\n",
       "    <tr>\n",
       "      <th>0</th>\n",
       "      <td>House Dem Aide: We Didn’t Even See Comey’s Let...</td>\n",
       "      <td>1</td>\n",
       "      <td>House Dem Aide: We Didn’t Even See Comey’s Let...</td>\n",
       "      <td>fake-news</td>\n",
       "    </tr>\n",
       "    <tr>\n",
       "      <th>1</th>\n",
       "      <td>FLYNN: Hillary Clinton, Big Woman on Campus - ...</td>\n",
       "      <td>0</td>\n",
       "      <td>Ever get the feeling your life circles the rou...</td>\n",
       "      <td>fake-news</td>\n",
       "    </tr>\n",
       "    <tr>\n",
       "      <th>2</th>\n",
       "      <td>Why the Truth Might Get You Fired</td>\n",
       "      <td>1</td>\n",
       "      <td>Why the Truth Might Get You Fired October 29, ...</td>\n",
       "      <td>fake-news</td>\n",
       "    </tr>\n",
       "    <tr>\n",
       "      <th>3</th>\n",
       "      <td>15 Civilians Killed In Single US Airstrike Hav...</td>\n",
       "      <td>1</td>\n",
       "      <td>Videos 15 Civilians Killed In Single US Airstr...</td>\n",
       "      <td>fake-news</td>\n",
       "    </tr>\n",
       "    <tr>\n",
       "      <th>4</th>\n",
       "      <td>Iranian woman jailed for fictional unpublished...</td>\n",
       "      <td>1</td>\n",
       "      <td>Print \\nAn Iranian woman has been sentenced to...</td>\n",
       "      <td>fake-news</td>\n",
       "    </tr>\n",
       "    <tr>\n",
       "      <th>...</th>\n",
       "      <td>...</td>\n",
       "      <td>...</td>\n",
       "      <td>...</td>\n",
       "      <td>...</td>\n",
       "    </tr>\n",
       "    <tr>\n",
       "      <th>51798</th>\n",
       "      <td>To Make Female Hearts Flutter in Iraq, Throw a...</td>\n",
       "      <td>0</td>\n",
       "      <td>NaN</td>\n",
       "      <td>clickbait-dataset</td>\n",
       "    </tr>\n",
       "    <tr>\n",
       "      <th>51799</th>\n",
       "      <td>British Liberal Democrat Patsy Calton, 56, die...</td>\n",
       "      <td>0</td>\n",
       "      <td>NaN</td>\n",
       "      <td>clickbait-dataset</td>\n",
       "    </tr>\n",
       "    <tr>\n",
       "      <th>51800</th>\n",
       "      <td>Drone smartphone app to help heart attack vict...</td>\n",
       "      <td>0</td>\n",
       "      <td>NaN</td>\n",
       "      <td>clickbait-dataset</td>\n",
       "    </tr>\n",
       "    <tr>\n",
       "      <th>51801</th>\n",
       "      <td>Netanyahu Urges Pope Benedict, in Israel, to D...</td>\n",
       "      <td>0</td>\n",
       "      <td>NaN</td>\n",
       "      <td>clickbait-dataset</td>\n",
       "    </tr>\n",
       "    <tr>\n",
       "      <th>51802</th>\n",
       "      <td>Computer Makers Prepare to Stake Bigger Claim ...</td>\n",
       "      <td>0</td>\n",
       "      <td>NaN</td>\n",
       "      <td>clickbait-dataset</td>\n",
       "    </tr>\n",
       "  </tbody>\n",
       "</table>\n",
       "<p>51803 rows × 4 columns</p>\n",
       "</div>"
      ],
      "text/plain": [
       "                                                   title  is_clickbait  \\\n",
       "0      House Dem Aide: We Didn’t Even See Comey’s Let...             1   \n",
       "1      FLYNN: Hillary Clinton, Big Woman on Campus - ...             0   \n",
       "2                      Why the Truth Might Get You Fired             1   \n",
       "3      15 Civilians Killed In Single US Airstrike Hav...             1   \n",
       "4      Iranian woman jailed for fictional unpublished...             1   \n",
       "...                                                  ...           ...   \n",
       "51798  To Make Female Hearts Flutter in Iraq, Throw a...             0   \n",
       "51799  British Liberal Democrat Patsy Calton, 56, die...             0   \n",
       "51800  Drone smartphone app to help heart attack vict...             0   \n",
       "51801  Netanyahu Urges Pope Benedict, in Israel, to D...             0   \n",
       "51802  Computer Makers Prepare to Stake Bigger Claim ...             0   \n",
       "\n",
       "                                                    text            dataset  \n",
       "0      House Dem Aide: We Didn’t Even See Comey’s Let...          fake-news  \n",
       "1      Ever get the feeling your life circles the rou...          fake-news  \n",
       "2      Why the Truth Might Get You Fired October 29, ...          fake-news  \n",
       "3      Videos 15 Civilians Killed In Single US Airstr...          fake-news  \n",
       "4      Print \\nAn Iranian woman has been sentenced to...          fake-news  \n",
       "...                                                  ...                ...  \n",
       "51798                                                NaN  clickbait-dataset  \n",
       "51799                                                NaN  clickbait-dataset  \n",
       "51800                                                NaN  clickbait-dataset  \n",
       "51801                                                NaN  clickbait-dataset  \n",
       "51802                                                NaN  clickbait-dataset  \n",
       "\n",
       "[51803 rows x 4 columns]"
      ]
     },
     "execution_count": 18,
     "metadata": {},
     "output_type": "execute_result"
    }
   ],
   "source": [
    "df = df.reset_index(drop=True)\n",
    "df"
   ]
  },
  {
   "cell_type": "code",
   "execution_count": 19,
   "metadata": {},
   "outputs": [
    {
     "data": {
      "image/png": "[encoded data removed]",
      "text/plain": [
       "<Figure size 640x480 with 1 Axes>"
      ]
     },
     "metadata": {},
     "output_type": "display_data"
    }
   ],
   "source": [
    "import matplotlib.pyplot as plt\n",
    "grouped = df.groupby(['dataset', 'is_clickbait']).size().unstack()\n",
    "# Plot the grouped data\n",
    "ax = grouped.plot(kind='bar', stacked=False, color=['green', 'red'])\n",
    "\n",
    "# Set the plot title and labels\n",
    "plt.title('Liczba artykułów Clickbait i nie-Clickbait, podzielone na zbiory danych')\n",
    "plt.ylabel('Liczba')\n",
    "plt.xlabel('Zbiór danych')\n",
    "\n",
    "# Make the legend smaller\n",
    "ax.legend(fontsize='small', title='is_clickbait', title_fontsize='10')\n",
    "\n",
    "# Add text to each bar\n",
    "for p in ax.patches:\n",
    "    ax.annotate(str(p.get_height()), (p.get_x() + p.get_width() / 2, p.get_height() / 2), ha='center', va='center', rotation=90)\n",
    "\n",
    "# Wrap the x-axis labels if they are too long\n",
    "plt.xticks(rotation=0, ha='center', wrap=True)\n",
    "\n",
    "# Show the plot\n",
    "plt.show()\n"
   ]
  },
  {
   "cell_type": "code",
   "execution_count": 20,
   "metadata": {},
   "outputs": [
    {
     "data": {
      "image/png": "[encoded data removed]",
      "text/plain": [
       "<Figure size 640x480 with 1 Axes>"
      ]
     },
     "metadata": {},
     "output_type": "display_data"
    }
   ],
   "source": [
    "# Plot the value counts of is_clickbait\n",
    "ax = df['is_clickbait'].value_counts().plot(kind='bar', color=['green', 'red'])\n",
    "\n",
    "# Set the plot title and labels\n",
    "plt.title('Liczba artykułów Clickbait i nie-Clickbait')\n",
    "plt.xlabel('is_clickbait')\n",
    "plt.ylabel('Liczba')\n",
    "\n",
    "# Add text to each bar\n",
    "for p in ax.patches:\n",
    "    ax.annotate(str(p.get_height()), (p.get_x() + p.get_width() / 2, p.get_height() / 2), ha='center', va='center', rotation=90)\n",
    "\n",
    "# Show the plot\n",
    "plt.show()\n"
   ]
  },
  {
   "cell_type": "code",
   "execution_count": 21,
   "metadata": {},
   "outputs": [
    {
     "data": {
      "text/plain": [
       "is_clickbait\n",
       "[0]    26382\n",
       "[1]    25421\n",
       "Name: count, dtype: int64"
      ]
     },
     "execution_count": 21,
     "metadata": {},
     "output_type": "execute_result"
    }
   ],
   "source": [
    "temp = df.groupby('title').agg({'is_clickbait': 'unique'}).reset_index()\n",
    "temp['is_clickbait'].value_counts()"
   ]
  },
  {
   "cell_type": "code",
   "execution_count": 22,
   "metadata": {},
   "outputs": [
    {
     "ename": "NameError",
     "evalue": "name 'val' is not defined",
     "output_type": "error",
     "traceback": [
      "\u001b[0;31m---------------------------------------------------------------------------\u001b[0m",
      "\u001b[0;31mNameError\u001b[0m                                 Traceback (most recent call last)",
      "Cell \u001b[0;32mIn[22], line 1\u001b[0m\n\u001b[0;32m----> 1\u001b[0m \u001b[43mval\u001b[49m\n",
      "\u001b[0;31mNameError\u001b[0m: name 'val' is not defined"
     ]
    }
   ],
   "source": [
    "val"
   ]
  },
  {
   "cell_type": "code",
   "execution_count": null,
   "metadata": {},
   "outputs": [],
   "source": [
    "# assign train and test sets stratified by is_clickbait\n",
    "\n",
    "from sklearn.model_selection import train_test_split\n",
    "\n",
    "train, test = train_test_split(df, random_state=42, test_size=0.1, stratify=df['is_clickbait'])\n",
    "test, val = train_test_split(test, random_state=42, test_size=0.5, stratify=test['is_clickbait'])\n",
    "val1, val2 = train_test_split(val, random_state=42, test_size=0.5, stratify=val['is_clickbait'])\n",
    "\n",
    "train['sample'] = 'train'\n",
    "test['sample'] = 'test'\n",
    "val1['sample'] = 'val1'\n",
    "val2['sample'] = 'val2'\n",
    "\n",
    "df = pd.concat([train, test, val1, val2])"
   ]
  },
  {
   "cell_type": "code",
   "execution_count": 24,
   "metadata": {},
   "outputs": [],
   "source": [
    "# df.to_csv('../../modelling/data/merged_titles_labels_train_test_val12_new.csv', index=False)"
   ]
  },
  {
   "cell_type": "code",
   "execution_count": 27,
   "metadata": {},
   "outputs": [],
   "source": [
    "df['len_title'] = df['title'].apply(lambda x: len(x.split()))"
   ]
  },
  {
   "cell_type": "code",
   "execution_count": 31,
   "metadata": {},
   "outputs": [
    {
     "data": {
      "image/png": "[encoded data removed]",
      "text/plain": [
       "<Figure size 640x480 with 2 Axes>"
      ]
     },
     "metadata": {},
     "output_type": "display_data"
    }
   ],
   "source": [
    "fig, ax1 = plt.subplots()\n",
    "\n",
    "# plot the average is_clickbait\n",
    "avg_line, = ax1.plot(df.groupby('len_title').agg({'is_clickbait': 'mean'}), label='Średnia is_clickbait')\n",
    "ax1.set_xlabel('Długość tytułu')\n",
    "ax1.set_ylabel('Średnia is_clickbait')\n",
    "ax1.set_title('Średnia wartość is_clickbait w zależności od długości tytułu')\n",
    "\n",
    "ax2 = ax1.twinx()\n",
    "\n",
    "# plot the count (logarithmic scale)\n",
    "count_line, = ax2.plot(df.groupby('len_title').agg({'is_clickbait': 'count'}).index, df.groupby('len_title').agg({'is_clickbait': 'count'}), color='red', label='Liczba obserwacji')\n",
    "ax2.set_yscale('log')\n",
    "ax2.set_ylabel('Liczba obserwacji')\n",
    "ax2.grid(False)\n",
    "\n",
    "# Combine the legends\n",
    "lines = [avg_line, count_line]\n",
    "labels = [line.get_label() for line in lines]\n",
    "ax1.legend(lines, labels, bbox_to_anchor=(0.6, .15), loc='center left')\n",
    "\n",
    "# make ax1 from 0 to 1\n",
    "ax1.set_ylim([0, 1.05])\n",
    "\n",
    "plt.show()\n"
   ]
  },
  {
   "cell_type": "code",
   "execution_count": 34,
   "metadata": {},
   "outputs": [
    {
     "data": {
      "text/plain": [
       "21"
      ]
     },
     "execution_count": 34,
     "metadata": {},
     "output_type": "execute_result"
    }
   ],
   "source": [
    "# check percentage of clickbait for titles with length over 30\n",
    "df[df['len_title'] > 35]['is_clickbait'].count()"
   ]
  },
  {
   "cell_type": "code",
   "execution_count": null,
   "metadata": {},
   "outputs": [],
   "source": []
  }
 ],
 "metadata": {
  "kernelspec": {
   "display_name": "Python 3",
   "language": "python",
   "name": "python3"
  },
  "language_info": {
   "codemirror_mode": {
    "name": "ipython",
    "version": 3
   },
   "file_extension": ".py",
   "mimetype": "text/x-python",
   "name": "python",
   "nbconvert_exporter": "python",
   "pygments_lexer": "ipython3",
   "version": "3.10.13"
  }
 },
 "nbformat": 4,
 "nbformat_minor": 2
}
