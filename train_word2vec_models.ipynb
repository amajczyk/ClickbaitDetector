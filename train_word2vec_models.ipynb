{
 "cells": [
  {
   "cell_type": "code",
   "execution_count": 1,
   "metadata": {},
   "outputs": [
    {
     "name": "stderr",
     "output_type": "stream",
     "text": [
      "[nltk_data] Downloading package stopwords to\n",
      "[nltk_data]     /Users/adammajczyk/nltk_data...\n",
      "[nltk_data]   Package stopwords is already up-to-date!\n",
      "[nltk_data] Downloading package punkt to\n",
      "[nltk_data]     /Users/adammajczyk/nltk_data...\n",
      "[nltk_data]   Package punkt is already up-to-date!\n"
     ]
    },
    {
     "data": {
      "text/plain": [
       "True"
      ]
     },
     "execution_count": 1,
     "metadata": {},
     "output_type": "execute_result"
    }
   ],
   "source": [
    "import numpy as np\n",
    "import pandas as pd\n",
    "import matplotlib.pyplot as plt\n",
    "from gensim.models import Word2Vec\n",
    "from nltk.tokenize import word_tokenize\n",
    "from nltk.corpus import stopwords\n",
    "import nltk\n",
    "nltk.download('stopwords')\n",
    "nltk.download('punkt')"
   ]
  },
  {
   "cell_type": "code",
   "execution_count": 2,
   "metadata": {},
   "outputs": [
    {
     "data": {
      "text/html": [
       "<div>\n",
       "<style scoped>\n",
       "    .dataframe tbody tr th:only-of-type {\n",
       "        vertical-align: middle;\n",
       "    }\n",
       "\n",
       "    .dataframe tbody tr th {\n",
       "        vertical-align: top;\n",
       "    }\n",
       "\n",
       "    .dataframe thead th {\n",
       "        text-align: right;\n",
       "    }\n",
       "</style>\n",
       "<table border=\"1\" class=\"dataframe\">\n",
       "  <thead>\n",
       "    <tr style=\"text-align: right;\">\n",
       "      <th></th>\n",
       "      <th>title</th>\n",
       "      <th>is_clickbait</th>\n",
       "    </tr>\n",
       "  </thead>\n",
       "  <tbody>\n",
       "    <tr>\n",
       "      <th>0</th>\n",
       "      <td>House Dem Aide: We Didn’t Even See Comey’s Let...</td>\n",
       "      <td>1</td>\n",
       "    </tr>\n",
       "    <tr>\n",
       "      <th>1</th>\n",
       "      <td>FLYNN: Hillary Clinton, Big Woman on Campus - ...</td>\n",
       "      <td>0</td>\n",
       "    </tr>\n",
       "    <tr>\n",
       "      <th>2</th>\n",
       "      <td>Why the Truth Might Get You Fired</td>\n",
       "      <td>1</td>\n",
       "    </tr>\n",
       "    <tr>\n",
       "      <th>3</th>\n",
       "      <td>15 Civilians Killed In Single US Airstrike Hav...</td>\n",
       "      <td>1</td>\n",
       "    </tr>\n",
       "    <tr>\n",
       "      <th>4</th>\n",
       "      <td>Iranian woman jailed for fictional unpublished...</td>\n",
       "      <td>1</td>\n",
       "    </tr>\n",
       "  </tbody>\n",
       "</table>\n",
       "</div>"
      ],
      "text/plain": [
       "                                               title  is_clickbait\n",
       "0  House Dem Aide: We Didn’t Even See Comey’s Let...             1\n",
       "1  FLYNN: Hillary Clinton, Big Woman on Campus - ...             0\n",
       "2                  Why the Truth Might Get You Fired             1\n",
       "3  15 Civilians Killed In Single US Airstrike Hav...             1\n",
       "4  Iranian woman jailed for fictional unpublished...             1"
      ]
     },
     "execution_count": 2,
     "metadata": {},
     "output_type": "execute_result"
    }
   ],
   "source": [
    "df1 = pd.read_csv('eda/small1/labeled.csv')\n",
    "df2 = pd.read_csv('eda/small2/labeled.csv')\n",
    "df3 = pd.read_csv('eda/small3/labeled.csv')\n",
    "df = pd.concat([df1, df2, df3], ignore_index=True).reset_index(drop=True)\n",
    "df.to_csv('data/merged_titles_labels.csv', index=False)\n",
    "df.head()"
   ]
  },
  {
   "cell_type": "code",
   "execution_count": 3,
   "metadata": {},
   "outputs": [],
   "source": [
    "# remove punctuation\n",
    "import string\n",
    "punct = string.punctuation\n",
    "punct = punct\n",
    "all_quoatation = ['“', '”', '‘', '’']\n",
    "\n",
    "def remove_punct(text, punct=punct):\n",
    "    for p in punct:\n",
    "        text = text.replace(p, '')\n",
    "    text = text.replace('...', ' ')\n",
    "    text = text.replace('…', ' ')\n",
    "    return text\n",
    "\n",
    "def remove_possesive_s(text):\n",
    "    for p in all_quoatation:\n",
    "        text = text.replace(p+'s', '')\n",
    "        text = text.replace('s'+ p, '')\n",
    "    return text\n",
    "\n",
    "def replace_short_version(text):\n",
    "    for p in all_quoatation:\n",
    "        text = text.replace(p+'re', ' are')\n",
    "        text = text.replace(p+'ve', ' have')\n",
    "        text = text.replace(p+'ll', ' will')\n",
    "        text = text.replace(p+'m', ' am')\n",
    "        text = text.replace(p+'d', ' would')\n",
    "        text = text.replace('n'+p+'t', ' not')\n",
    "    return text    \n",
    "\n",
    "\n",
    "\n",
    "import inflect\n",
    "import re \n",
    "\n",
    "def replace_numbers_with_words(text):\n",
    "    regex = r'\\b\\d+\\b'\n",
    "\n",
    "    matched = re.finditer(regex, text)\n",
    "\n",
    "    for m in matched:\n",
    "        number = m.group()\n",
    "        p = inflect.engine()\n",
    "        text = text.replace(number, p.number_to_words(number))\n",
    "    return text"
   ]
  },
  {
   "cell_type": "code",
   "execution_count": 4,
   "metadata": {},
   "outputs": [],
   "source": [
    "stop_words = set(stopwords.words('english'))\n",
    "\n",
    "def tokenize(text):\n",
    "    return [word for word in word_tokenize(text.lower()) if word not in stop_words]\n",
    "\n",
    "def preprocess_title(df):\n",
    "    # remove punctuation and other stuff\n",
    "    df['title'] = df['title'].apply(replace_numbers_with_words)\n",
    "    df['title'] = df['title'].apply(remove_punct)\n",
    "    df['title'] = df['title'].apply(remove_possesive_s)\n",
    "    df['title'] = df['title'].apply(replace_short_version)\n",
    "\n",
    "    # tokenize\n",
    "    df['title'] = df['title'].apply(tokenize)\n",
    "    return df"
   ]
  },
  {
   "cell_type": "code",
   "execution_count": 6,
   "metadata": {},
   "outputs": [
    {
     "data": {
      "application/vnd.jupyter.widget-view+json": {
       "model_id": "a047aebdd6d945e397d5ea93d37c231e",
       "version_major": 2,
       "version_minor": 0
      },
      "text/plain": [
       "  0%|          | 0/8 [00:00<?, ?it/s]"
      ]
     },
     "metadata": {},
     "output_type": "display_data"
    },
    {
     "name": "stdout",
     "output_type": "stream",
     "text": [
      "Current VECTOR_SIZE: 100\n"
     ]
    },
    {
     "data": {
      "application/vnd.jupyter.widget-view+json": {
       "model_id": "49342d4e49564be1b11fad014e110eeb",
       "version_major": 2,
       "version_minor": 0
      },
      "text/plain": [
       "  0%|          | 0/6 [00:00<?, ?it/s]"
      ]
     },
     "metadata": {},
     "output_type": "display_data"
    }
   ],
   "source": [
    "from tqdm.notebook import tqdm\n",
    "# VECTOR_SIZE = 2500\n",
    "# WINDOW = 4\n",
    "EPOCHS = 500\n",
    "WORKERS = 10\n",
    "MIN_COUNT = 1\n",
    "# train many word2vec models with diferent VECTOR_SIZE and WINDOW\n",
    "VECTOR_SIZEs = [100, 250, 500, 1000, 1500, 2000, 2500, 3000]\n",
    "WINDOWs = [3, 4, 5, 6, 7, 8]\n",
    "\n",
    "for VECTOR_SIZE in tqdm(VECTOR_SIZEs):\n",
    "    print(f'Current VECTOR_SIZE: {VECTOR_SIZE}')\n",
    "    for WINDOW in tqdm(WINDOWs):\n",
    "        model = Word2Vec(df['title'], vector_size=VECTOR_SIZE, window=WINDOW, min_count=MIN_COUNT, workers=WORKERS)\n",
    "        model.train(df['title'], total_examples=len(df['title']), epochs=EPOCHS)\n",
    "        model.save(f'word2vec_models/word2vec_{VECTOR_SIZE}_{WINDOW}.model')"
   ]
  },
  {
   "cell_type": "code",
   "execution_count": null,
   "metadata": {},
   "outputs": [],
   "source": []
  }
 ],
 "metadata": {
  "kernelspec": {
   "display_name": "ag",
   "language": "python",
   "name": "python3"
  },
  "language_info": {
   "codemirror_mode": {
    "name": "ipython",
    "version": 3
   },
   "file_extension": ".py",
   "mimetype": "text/x-python",
   "name": "python",
   "nbconvert_exporter": "python",
   "pygments_lexer": "ipython3",
   "version": "3.10.13"
  }
 },
 "nbformat": 4,
 "nbformat_minor": 2
}
